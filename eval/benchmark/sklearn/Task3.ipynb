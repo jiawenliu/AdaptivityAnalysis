{
 "cells": [
  {
   "cell_type": "code",
   "execution_count": 1,
   "id": "aa4c87d9-f6ca-4234-8a0f-ece75a25a444",
   "metadata": {
    "execution": {
     "iopub.execute_input": "2022-06-08T00:28:54.169940Z",
     "iopub.status.busy": "2022-06-08T00:28:54.169543Z",
     "iopub.status.idle": "2022-06-08T00:28:54.589226Z",
     "shell.execute_reply": "2022-06-08T00:28:54.588948Z",
     "shell.execute_reply.started": "2022-06-08T00:28:54.169856Z"
    },
    "tags": []
   },
   "outputs": [],
   "source": [
    "import pandas as pd\n",
    "import numpy as np\n",
    "from sklearn import preprocessing\n",
    "from sklearn.feature_extraction.text import TfidfVectorizer"
   ]
  },
  {
   "cell_type": "code",
   "execution_count": 2,
   "id": "39ec0a8f-c8e9-4cb9-8ac4-e0b0c6f8a75f",
   "metadata": {
    "execution": {
     "iopub.execute_input": "2022-06-08T00:28:54.589951Z",
     "iopub.status.busy": "2022-06-08T00:28:54.589879Z",
     "iopub.status.idle": "2022-06-08T00:28:54.642179Z",
     "shell.execute_reply": "2022-06-08T00:28:54.641884Z",
     "shell.execute_reply.started": "2022-06-08T00:28:54.589941Z"
    },
    "tags": []
   },
   "outputs": [],
   "source": [
    "from sklearn.metrics import silhouette_score, rand_score\n",
    "from sklearn.cluster import KMeans"
   ]
  },
  {
   "cell_type": "code",
   "execution_count": 3,
   "id": "a935d4a7-5b8c-4f92-a5bc-a4cfc8edb624",
   "metadata": {
    "execution": {
     "iopub.execute_input": "2022-06-08T00:28:54.930261Z",
     "iopub.status.busy": "2022-06-08T00:28:54.929351Z",
     "iopub.status.idle": "2022-06-08T00:28:54.943412Z",
     "shell.execute_reply": "2022-06-08T00:28:54.942717Z",
     "shell.execute_reply.started": "2022-06-08T00:28:54.930189Z"
    },
    "tags": []
   },
   "outputs": [],
   "source": [
    "# Basic preprocessing\n",
    "def preprocess(df):\n",
    "    df_new = df.copy()\n",
    "    \n",
    "    # Discard identifiers, style information, timestamps\n",
    "    df_new = df_new[df_new.columns.difference(['image', 'style', 'reviewTime', \n",
    "                                               'reviewerID', 'asin', 'reviewerName', 'unixReviewTime'])]\n",
    "    \n",
    "    # Turn category into binary features\n",
    "    for cat in df_new.category.unique():\n",
    "        df_new[cat] = df_new['category'] == cat\n",
    "        \n",
    "    # Drop category column\n",
    "    df_new.drop(columns=['category'], inplace=True)\n",
    "    \n",
    "    # NaN vote is 0 users found helpful\n",
    "    df_new.vote.fillna(0, inplace=True)\n",
    "    \n",
    "    # Turn vote into binary feature\n",
    "    df_new.vote = df_new.vote > 0\n",
    "    \n",
    "    # NaN summary is empty summary\n",
    "    df_new.summary.fillna('', inplace=True)\n",
    "    \n",
    "    # Turn Booleans into binary variables\n",
    "    df_new.replace({False: 0, True: 1}, inplace=True)\n",
    "    \n",
    "    return df_new"
   ]
  },
  {
   "cell_type": "code",
   "execution_count": 4,
   "id": "2c525cfe-9d0c-48aa-8d9c-19fdf1905f31",
   "metadata": {
    "execution": {
     "iopub.execute_input": "2022-06-08T00:28:56.405659Z",
     "iopub.status.busy": "2022-06-08T00:28:56.405086Z",
     "iopub.status.idle": "2022-06-08T00:28:56.415959Z",
     "shell.execute_reply": "2022-06-08T00:28:56.414753Z",
     "shell.execute_reply.started": "2022-06-08T00:28:56.405621Z"
    },
    "tags": []
   },
   "outputs": [],
   "source": [
    "def apply_tfidf(df, review_vectorizer, summary_vectorizer):\n",
    "    review_matrix = pd.DataFrame(data=review_vectorizer.transform(df.reviewText).toarray(), columns='R_' + review_vectorizer.get_feature_names_out())\n",
    "    summary_matrix = pd.DataFrame(data=summary_vectorizer.transform(df.summary).toarray(), columns='S_' + summary_vectorizer.get_feature_names_out())\n",
    "    df_new = pd.concat([df, review_matrix, summary_matrix], axis=1)\n",
    "    df_new.drop(columns=['summary', 'reviewText'], inplace=True)\n",
    "    return df_new"
   ]
  },
  {
   "cell_type": "code",
   "execution_count": 5,
   "id": "ef88e9be-f84d-4735-83d4-81ccd9c6f597",
   "metadata": {
    "execution": {
     "iopub.execute_input": "2022-06-08T00:28:56.754224Z",
     "iopub.status.busy": "2022-06-08T00:28:56.753165Z",
     "iopub.status.idle": "2022-06-08T00:28:56.802940Z",
     "shell.execute_reply": "2022-06-08T00:28:56.802591Z",
     "shell.execute_reply.started": "2022-06-08T00:28:56.754179Z"
    },
    "tags": []
   },
   "outputs": [],
   "source": [
    "test_df = pd.read_csv('Test.csv')\n",
    "cats = test_df.category.unique()"
   ]
  },
  {
   "cell_type": "markdown",
   "id": "0d268db0-1225-44e0-a159-77918cfbcdcc",
   "metadata": {},
   "source": [
    "# Task 3"
   ]
  },
  {
   "cell_type": "code",
   "execution_count": 6,
   "id": "60c3a62b-6c91-4b3c-8af0-9657ac1c9945",
   "metadata": {
    "execution": {
     "iopub.execute_input": "2022-06-08T00:28:58.386387Z",
     "iopub.status.busy": "2022-06-08T00:28:58.385849Z",
     "iopub.status.idle": "2022-06-08T00:28:58.409728Z",
     "shell.execute_reply": "2022-06-08T00:28:58.409437Z",
     "shell.execute_reply.started": "2022-06-08T00:28:58.386354Z"
    },
    "tags": []
   },
   "outputs": [],
   "source": [
    "# Preprocessing of data\n",
    "proc_df = preprocess(test_df)"
   ]
  },
  {
   "cell_type": "code",
   "execution_count": 7,
   "id": "56d6fc60-6a87-4428-8567-8d2a0a393c46",
   "metadata": {
    "execution": {
     "iopub.execute_input": "2022-06-08T00:28:58.711962Z",
     "iopub.status.busy": "2022-06-08T00:28:58.701820Z",
     "iopub.status.idle": "2022-06-08T00:28:59.321149Z",
     "shell.execute_reply": "2022-06-08T00:28:59.320932Z",
     "shell.execute_reply.started": "2022-06-08T00:28:58.711895Z"
    },
    "tags": []
   },
   "outputs": [
    {
     "data": {
      "text/plain": [
       "TfidfVectorizer(max_features=12000, ngram_range=(1, 3), stop_words='english')"
      ]
     },
     "execution_count": 7,
     "metadata": {},
     "output_type": "execute_result"
    }
   ],
   "source": [
    "# Fit TF-IDF vectorizer for 'reviewText' and 'summary' features, creating max. 11500 features.\n",
    "r_vectorizer = TfidfVectorizer(max_features=12000, stop_words='english', ngram_range=(1, 3))\n",
    "s_vectorizer = TfidfVectorizer(max_features=12000, stop_words='english', ngram_range=(1, 3))\n",
    "r_vectorizer.fit(proc_df.reviewText)\n",
    "s_vectorizer.fit(proc_df.summary)"
   ]
  },
  {
   "cell_type": "code",
   "execution_count": 8,
   "id": "a121363f-3a4a-4255-8aec-a4c39b40e01e",
   "metadata": {
    "execution": {
     "iopub.execute_input": "2022-06-08T00:29:00.820373Z",
     "iopub.status.busy": "2022-06-08T00:29:00.819699Z",
     "iopub.status.idle": "2022-06-08T00:29:02.777026Z",
     "shell.execute_reply": "2022-06-08T00:29:02.776280Z",
     "shell.execute_reply.started": "2022-06-08T00:29:00.820340Z"
    },
    "tags": []
   },
   "outputs": [],
   "source": [
    "# Apply TF-IDF vectorization\n",
    "proc_df = apply_tfidf(proc_df, r_vectorizer, s_vectorizer)"
   ]
  },
  {
   "cell_type": "code",
   "execution_count": 9,
   "id": "ce8dae1a-298a-4b34-80de-8cd096517ca5",
   "metadata": {
    "execution": {
     "iopub.execute_input": "2022-06-08T00:29:02.778372Z",
     "iopub.status.busy": "2022-06-08T00:29:02.778037Z",
     "iopub.status.idle": "2022-06-08T00:29:02.794566Z",
     "shell.execute_reply": "2022-06-08T00:29:02.794214Z",
     "shell.execute_reply.started": "2022-06-08T00:29:02.778346Z"
    },
    "tags": []
   },
   "outputs": [
    {
     "data": {
      "text/html": [
       "<div>\n",
       "<style scoped>\n",
       "    .dataframe tbody tr th:only-of-type {\n",
       "        vertical-align: middle;\n",
       "    }\n",
       "\n",
       "    .dataframe tbody tr th {\n",
       "        vertical-align: top;\n",
       "    }\n",
       "\n",
       "    .dataframe thead th {\n",
       "        text-align: right;\n",
       "    }\n",
       "</style>\n",
       "<table border=\"1\" class=\"dataframe\">\n",
       "  <thead>\n",
       "    <tr style=\"text-align: right;\">\n",
       "      <th></th>\n",
       "      <th>verified</th>\n",
       "      <th>vote</th>\n",
       "      <th>automotive</th>\n",
       "      <th>CDs</th>\n",
       "      <th>grocery</th>\n",
       "      <th>cell_phones</th>\n",
       "      <th>sports</th>\n",
       "      <th>toys</th>\n",
       "      <th>R_00</th>\n",
       "      <th>R_000</th>\n",
       "      <th>...</th>\n",
       "      <th>S_zionist</th>\n",
       "      <th>S_zionist israeli</th>\n",
       "      <th>S_zionist israeli terrorists</th>\n",
       "      <th>S_zipper</th>\n",
       "      <th>S_zipper pull</th>\n",
       "      <th>S_zipper small</th>\n",
       "      <th>S_zipper small pocket</th>\n",
       "      <th>S_zombie</th>\n",
       "      <th>S_zombie rarities</th>\n",
       "      <th>S_zombie rarities classy</th>\n",
       "    </tr>\n",
       "  </thead>\n",
       "  <tbody>\n",
       "    <tr>\n",
       "      <th>0</th>\n",
       "      <td>1</td>\n",
       "      <td>0</td>\n",
       "      <td>1</td>\n",
       "      <td>0</td>\n",
       "      <td>0</td>\n",
       "      <td>0</td>\n",
       "      <td>0</td>\n",
       "      <td>0</td>\n",
       "      <td>0.0</td>\n",
       "      <td>0.0</td>\n",
       "      <td>...</td>\n",
       "      <td>0.0</td>\n",
       "      <td>0.0</td>\n",
       "      <td>0.0</td>\n",
       "      <td>0.0</td>\n",
       "      <td>0.0</td>\n",
       "      <td>0.0</td>\n",
       "      <td>0.0</td>\n",
       "      <td>0.0</td>\n",
       "      <td>0.0</td>\n",
       "      <td>0.0</td>\n",
       "    </tr>\n",
       "    <tr>\n",
       "      <th>1</th>\n",
       "      <td>1</td>\n",
       "      <td>1</td>\n",
       "      <td>1</td>\n",
       "      <td>0</td>\n",
       "      <td>0</td>\n",
       "      <td>0</td>\n",
       "      <td>0</td>\n",
       "      <td>0</td>\n",
       "      <td>0.0</td>\n",
       "      <td>0.0</td>\n",
       "      <td>...</td>\n",
       "      <td>0.0</td>\n",
       "      <td>0.0</td>\n",
       "      <td>0.0</td>\n",
       "      <td>0.0</td>\n",
       "      <td>0.0</td>\n",
       "      <td>0.0</td>\n",
       "      <td>0.0</td>\n",
       "      <td>0.0</td>\n",
       "      <td>0.0</td>\n",
       "      <td>0.0</td>\n",
       "    </tr>\n",
       "    <tr>\n",
       "      <th>2</th>\n",
       "      <td>1</td>\n",
       "      <td>0</td>\n",
       "      <td>1</td>\n",
       "      <td>0</td>\n",
       "      <td>0</td>\n",
       "      <td>0</td>\n",
       "      <td>0</td>\n",
       "      <td>0</td>\n",
       "      <td>0.0</td>\n",
       "      <td>0.0</td>\n",
       "      <td>...</td>\n",
       "      <td>0.0</td>\n",
       "      <td>0.0</td>\n",
       "      <td>0.0</td>\n",
       "      <td>0.0</td>\n",
       "      <td>0.0</td>\n",
       "      <td>0.0</td>\n",
       "      <td>0.0</td>\n",
       "      <td>0.0</td>\n",
       "      <td>0.0</td>\n",
       "      <td>0.0</td>\n",
       "    </tr>\n",
       "    <tr>\n",
       "      <th>3</th>\n",
       "      <td>1</td>\n",
       "      <td>0</td>\n",
       "      <td>1</td>\n",
       "      <td>0</td>\n",
       "      <td>0</td>\n",
       "      <td>0</td>\n",
       "      <td>0</td>\n",
       "      <td>0</td>\n",
       "      <td>0.0</td>\n",
       "      <td>0.0</td>\n",
       "      <td>...</td>\n",
       "      <td>0.0</td>\n",
       "      <td>0.0</td>\n",
       "      <td>0.0</td>\n",
       "      <td>0.0</td>\n",
       "      <td>0.0</td>\n",
       "      <td>0.0</td>\n",
       "      <td>0.0</td>\n",
       "      <td>0.0</td>\n",
       "      <td>0.0</td>\n",
       "      <td>0.0</td>\n",
       "    </tr>\n",
       "    <tr>\n",
       "      <th>4</th>\n",
       "      <td>0</td>\n",
       "      <td>0</td>\n",
       "      <td>1</td>\n",
       "      <td>0</td>\n",
       "      <td>0</td>\n",
       "      <td>0</td>\n",
       "      <td>0</td>\n",
       "      <td>0</td>\n",
       "      <td>0.0</td>\n",
       "      <td>0.0</td>\n",
       "      <td>...</td>\n",
       "      <td>0.0</td>\n",
       "      <td>0.0</td>\n",
       "      <td>0.0</td>\n",
       "      <td>0.0</td>\n",
       "      <td>0.0</td>\n",
       "      <td>0.0</td>\n",
       "      <td>0.0</td>\n",
       "      <td>0.0</td>\n",
       "      <td>0.0</td>\n",
       "      <td>0.0</td>\n",
       "    </tr>\n",
       "    <tr>\n",
       "      <th>...</th>\n",
       "      <td>...</td>\n",
       "      <td>...</td>\n",
       "      <td>...</td>\n",
       "      <td>...</td>\n",
       "      <td>...</td>\n",
       "      <td>...</td>\n",
       "      <td>...</td>\n",
       "      <td>...</td>\n",
       "      <td>...</td>\n",
       "      <td>...</td>\n",
       "      <td>...</td>\n",
       "      <td>...</td>\n",
       "      <td>...</td>\n",
       "      <td>...</td>\n",
       "      <td>...</td>\n",
       "      <td>...</td>\n",
       "      <td>...</td>\n",
       "      <td>...</td>\n",
       "      <td>...</td>\n",
       "      <td>...</td>\n",
       "      <td>...</td>\n",
       "    </tr>\n",
       "    <tr>\n",
       "      <th>4495</th>\n",
       "      <td>1</td>\n",
       "      <td>0</td>\n",
       "      <td>0</td>\n",
       "      <td>0</td>\n",
       "      <td>0</td>\n",
       "      <td>0</td>\n",
       "      <td>0</td>\n",
       "      <td>1</td>\n",
       "      <td>0.0</td>\n",
       "      <td>0.0</td>\n",
       "      <td>...</td>\n",
       "      <td>0.0</td>\n",
       "      <td>0.0</td>\n",
       "      <td>0.0</td>\n",
       "      <td>0.0</td>\n",
       "      <td>0.0</td>\n",
       "      <td>0.0</td>\n",
       "      <td>0.0</td>\n",
       "      <td>0.0</td>\n",
       "      <td>0.0</td>\n",
       "      <td>0.0</td>\n",
       "    </tr>\n",
       "    <tr>\n",
       "      <th>4496</th>\n",
       "      <td>1</td>\n",
       "      <td>0</td>\n",
       "      <td>0</td>\n",
       "      <td>0</td>\n",
       "      <td>0</td>\n",
       "      <td>0</td>\n",
       "      <td>0</td>\n",
       "      <td>1</td>\n",
       "      <td>0.0</td>\n",
       "      <td>0.0</td>\n",
       "      <td>...</td>\n",
       "      <td>0.0</td>\n",
       "      <td>0.0</td>\n",
       "      <td>0.0</td>\n",
       "      <td>0.0</td>\n",
       "      <td>0.0</td>\n",
       "      <td>0.0</td>\n",
       "      <td>0.0</td>\n",
       "      <td>0.0</td>\n",
       "      <td>0.0</td>\n",
       "      <td>0.0</td>\n",
       "    </tr>\n",
       "    <tr>\n",
       "      <th>4497</th>\n",
       "      <td>1</td>\n",
       "      <td>0</td>\n",
       "      <td>0</td>\n",
       "      <td>0</td>\n",
       "      <td>0</td>\n",
       "      <td>0</td>\n",
       "      <td>0</td>\n",
       "      <td>1</td>\n",
       "      <td>0.0</td>\n",
       "      <td>0.0</td>\n",
       "      <td>...</td>\n",
       "      <td>0.0</td>\n",
       "      <td>0.0</td>\n",
       "      <td>0.0</td>\n",
       "      <td>0.0</td>\n",
       "      <td>0.0</td>\n",
       "      <td>0.0</td>\n",
       "      <td>0.0</td>\n",
       "      <td>0.0</td>\n",
       "      <td>0.0</td>\n",
       "      <td>0.0</td>\n",
       "    </tr>\n",
       "    <tr>\n",
       "      <th>4498</th>\n",
       "      <td>1</td>\n",
       "      <td>0</td>\n",
       "      <td>0</td>\n",
       "      <td>0</td>\n",
       "      <td>0</td>\n",
       "      <td>0</td>\n",
       "      <td>0</td>\n",
       "      <td>1</td>\n",
       "      <td>0.0</td>\n",
       "      <td>0.0</td>\n",
       "      <td>...</td>\n",
       "      <td>0.0</td>\n",
       "      <td>0.0</td>\n",
       "      <td>0.0</td>\n",
       "      <td>0.0</td>\n",
       "      <td>0.0</td>\n",
       "      <td>0.0</td>\n",
       "      <td>0.0</td>\n",
       "      <td>0.0</td>\n",
       "      <td>0.0</td>\n",
       "      <td>0.0</td>\n",
       "    </tr>\n",
       "    <tr>\n",
       "      <th>4499</th>\n",
       "      <td>0</td>\n",
       "      <td>1</td>\n",
       "      <td>0</td>\n",
       "      <td>0</td>\n",
       "      <td>0</td>\n",
       "      <td>0</td>\n",
       "      <td>0</td>\n",
       "      <td>1</td>\n",
       "      <td>0.0</td>\n",
       "      <td>0.0</td>\n",
       "      <td>...</td>\n",
       "      <td>0.0</td>\n",
       "      <td>0.0</td>\n",
       "      <td>0.0</td>\n",
       "      <td>0.0</td>\n",
       "      <td>0.0</td>\n",
       "      <td>0.0</td>\n",
       "      <td>0.0</td>\n",
       "      <td>0.0</td>\n",
       "      <td>0.0</td>\n",
       "      <td>0.0</td>\n",
       "    </tr>\n",
       "  </tbody>\n",
       "</table>\n",
       "<p>4500 rows × 24008 columns</p>\n",
       "</div>"
      ],
      "text/plain": [
       "      verified  vote  automotive  CDs  grocery  cell_phones  sports  toys  \\\n",
       "0            1     0           1    0        0            0       0     0   \n",
       "1            1     1           1    0        0            0       0     0   \n",
       "2            1     0           1    0        0            0       0     0   \n",
       "3            1     0           1    0        0            0       0     0   \n",
       "4            0     0           1    0        0            0       0     0   \n",
       "...        ...   ...         ...  ...      ...          ...     ...   ...   \n",
       "4495         1     0           0    0        0            0       0     1   \n",
       "4496         1     0           0    0        0            0       0     1   \n",
       "4497         1     0           0    0        0            0       0     1   \n",
       "4498         1     0           0    0        0            0       0     1   \n",
       "4499         0     1           0    0        0            0       0     1   \n",
       "\n",
       "      R_00  R_000  ...  S_zionist  S_zionist israeli  \\\n",
       "0      0.0    0.0  ...        0.0                0.0   \n",
       "1      0.0    0.0  ...        0.0                0.0   \n",
       "2      0.0    0.0  ...        0.0                0.0   \n",
       "3      0.0    0.0  ...        0.0                0.0   \n",
       "4      0.0    0.0  ...        0.0                0.0   \n",
       "...    ...    ...  ...        ...                ...   \n",
       "4495   0.0    0.0  ...        0.0                0.0   \n",
       "4496   0.0    0.0  ...        0.0                0.0   \n",
       "4497   0.0    0.0  ...        0.0                0.0   \n",
       "4498   0.0    0.0  ...        0.0                0.0   \n",
       "4499   0.0    0.0  ...        0.0                0.0   \n",
       "\n",
       "      S_zionist israeli terrorists  S_zipper  S_zipper pull  S_zipper small  \\\n",
       "0                              0.0       0.0            0.0             0.0   \n",
       "1                              0.0       0.0            0.0             0.0   \n",
       "2                              0.0       0.0            0.0             0.0   \n",
       "3                              0.0       0.0            0.0             0.0   \n",
       "4                              0.0       0.0            0.0             0.0   \n",
       "...                            ...       ...            ...             ...   \n",
       "4495                           0.0       0.0            0.0             0.0   \n",
       "4496                           0.0       0.0            0.0             0.0   \n",
       "4497                           0.0       0.0            0.0             0.0   \n",
       "4498                           0.0       0.0            0.0             0.0   \n",
       "4499                           0.0       0.0            0.0             0.0   \n",
       "\n",
       "      S_zipper small pocket  S_zombie  S_zombie rarities  \\\n",
       "0                       0.0       0.0                0.0   \n",
       "1                       0.0       0.0                0.0   \n",
       "2                       0.0       0.0                0.0   \n",
       "3                       0.0       0.0                0.0   \n",
       "4                       0.0       0.0                0.0   \n",
       "...                     ...       ...                ...   \n",
       "4495                    0.0       0.0                0.0   \n",
       "4496                    0.0       0.0                0.0   \n",
       "4497                    0.0       0.0                0.0   \n",
       "4498                    0.0       0.0                0.0   \n",
       "4499                    0.0       0.0                0.0   \n",
       "\n",
       "      S_zombie rarities classy  \n",
       "0                          0.0  \n",
       "1                          0.0  \n",
       "2                          0.0  \n",
       "3                          0.0  \n",
       "4                          0.0  \n",
       "...                        ...  \n",
       "4495                       0.0  \n",
       "4496                       0.0  \n",
       "4497                       0.0  \n",
       "4498                       0.0  \n",
       "4499                       0.0  \n",
       "\n",
       "[4500 rows x 24008 columns]"
      ]
     },
     "execution_count": 9,
     "metadata": {},
     "output_type": "execute_result"
    }
   ],
   "source": [
    "proc_df"
   ]
  },
  {
   "cell_type": "code",
   "execution_count": 10,
   "id": "65b8b773-b3f2-41a8-8b61-829be4dd8d2a",
   "metadata": {
    "execution": {
     "iopub.execute_input": "2022-06-08T00:29:03.674989Z",
     "iopub.status.busy": "2022-06-08T00:29:03.674140Z",
     "iopub.status.idle": "2022-06-08T00:29:03.786566Z",
     "shell.execute_reply": "2022-06-08T00:29:03.786071Z",
     "shell.execute_reply.started": "2022-06-08T00:29:03.674938Z"
    },
    "tags": []
   },
   "outputs": [],
   "source": [
    "# Remove category rows to set X\n",
    "X = proc_df[proc_df.columns.difference(cats)]"
   ]
  },
  {
   "cell_type": "code",
   "execution_count": 11,
   "id": "b4cdcf4e-1816-46f3-94c1-878f535452c9",
   "metadata": {
    "execution": {
     "iopub.execute_input": "2022-06-08T00:29:05.186371Z",
     "iopub.status.busy": "2022-06-08T00:29:05.185884Z",
     "iopub.status.idle": "2022-06-08T00:29:07.923190Z",
     "shell.execute_reply": "2022-06-08T00:29:07.922909Z",
     "shell.execute_reply.started": "2022-06-08T00:29:05.186336Z"
    },
    "tags": []
   },
   "outputs": [],
   "source": [
    "# Apply robust scaling\n",
    "scaler = preprocessing.RobustScaler()\n",
    "X = pd.DataFrame(scaler.fit_transform(X), columns=X.columns, index=X.index)"
   ]
  },
  {
   "cell_type": "code",
   "execution_count": 12,
   "id": "299b979a-5a1f-4b48-9682-fd9a81f9e4d6",
   "metadata": {
    "execution": {
     "iopub.execute_input": "2022-06-08T00:30:39.711864Z",
     "iopub.status.busy": "2022-06-08T00:30:39.711370Z",
     "iopub.status.idle": "2022-06-08T00:35:25.232865Z",
     "shell.execute_reply": "2022-06-08T00:35:25.232086Z",
     "shell.execute_reply.started": "2022-06-08T00:30:39.711824Z"
    },
    "tags": []
   },
   "outputs": [
    {
     "name": "stdout",
     "output_type": "stream",
     "text": [
      "i=0.09, #=460, sil=0.5602397154714417\n",
      "    rand=0.6320184732409672\n",
      "i=0.092, #=427, sil=0.3714821694673595\n",
      "    rand=0.6493811464276011\n",
      "i=0.094, #=399, sil=0.571704023745826\n",
      "    rand=0.6313660813514115\n",
      "i=0.096, #=374, sil=0.5835301653854685\n",
      "    rand=0.6318043021906102\n",
      "i=0.098, #=356, sil=0.5874560094536463\n",
      "    rand=0.6318043021906102\n",
      "i=0.1, #=331, sil=0.5671146897833251\n",
      "    rand=0.63323612654664\n",
      "i=0.102, #=313, sil=0.5996783614107795\n",
      "    rand=0.6320184732409672\n",
      "i=0.104, #=294, sil=0.6051897070254941\n",
      "    rand=0.6318043021906102\n",
      "i=0.106, #=275, sil=0.6185538197893687\n",
      "    rand=0.6320184732409672\n",
      "i=0.108, #=258, sil=0.39551254827016946\n",
      "    rand=0.5536157664666222\n",
      "i=0.11, #=247, sil=0.5694457127192949\n",
      "    rand=0.5308383591415377\n",
      "i=0.112, #=233, sil=0.4620679780019511\n",
      "    rand=0.5581230396878318\n",
      "i=0.114, #=220, sil=0.41516404325945927\n",
      "    rand=0.5574951470697191\n",
      "i=0.116, #=211, sil=0.42601043059787236\n",
      "    rand=0.5664448889876763\n",
      "i=0.118, #=204, sil=0.5747631956375296\n",
      "    rand=0.5313253809488528\n",
      "i=0.12, #=193, sil=0.39738358525726025\n",
      "    rand=0.5799859721913512\n"
     ]
    }
   ],
   "source": [
    "# Optimization: find correlation threshold that yields a set of features \n",
    "# with good silhouette and rand index scores.\n",
    "for i in range(90, 121, 2):\n",
    "    col_cands = [list(X.columns[abs(X.corrwith(proc_df[cat])) > i/1000]) for cat in cats]\n",
    "    relcols = np.unique(np.sum(np.array(col_cands, dtype=object)))\n",
    "    kmeans = KMeans(n_clusters=6, random_state=42)\n",
    "    kmeans.fit(X[relcols])\n",
    "    print(f'i={i/1000}, #={len(relcols)}, sil={silhouette_score(X[relcols], kmeans.labels_)}')\n",
    "    print(f\"    rand={rand_score(test_df['category'], kmeans.labels_)}\")"
   ]
  },
  {
   "cell_type": "code",
   "execution_count": 13,
   "id": "a3b432bb-3968-44ee-bf16-043a1caca304",
   "metadata": {
    "execution": {
     "iopub.execute_input": "2022-06-08T00:37:01.901103Z",
     "iopub.status.busy": "2022-06-08T00:37:01.900091Z",
     "iopub.status.idle": "2022-06-08T00:37:13.703619Z",
     "shell.execute_reply": "2022-06-08T00:37:13.703379Z",
     "shell.execute_reply.started": "2022-06-08T00:37:01.901063Z"
    }
   },
   "outputs": [],
   "source": [
    "relcols = np.unique(np.sum(np.array([list(X.columns[abs(X.corrwith(proc_df[cat])) > 0.106]) for cat in cats], dtype=object)))"
   ]
  },
  {
   "cell_type": "code",
   "execution_count": 14,
   "id": "97344ac4-6ce7-446b-bc84-a8b136b15fe7",
   "metadata": {
    "execution": {
     "iopub.execute_input": "2022-06-08T00:37:15.180085Z",
     "iopub.status.busy": "2022-06-08T00:37:15.179465Z",
     "iopub.status.idle": "2022-06-08T00:37:15.194164Z",
     "shell.execute_reply": "2022-06-08T00:37:15.193092Z",
     "shell.execute_reply.started": "2022-06-08T00:37:15.180033Z"
    }
   },
   "outputs": [
    {
     "data": {
      "text/plain": [
       "array(['R_acoustic', 'R_album', 'R_album just', 'R_albums',\n",
       "       'R_arrangements', 'R_artist', 'R_artists', 'R_audience', 'R_baby',\n",
       "       'R_ballad', 'R_ballads', 'R_band', 'R_bands', 'R_bass',\n",
       "       'R_battery', 'R_beats', 'R_best', 'R_bike', 'R_birthday',\n",
       "       'R_bitter', 'R_blues', 'R_boring', 'R_bubbles', 'R_bulbs',\n",
       "       'R_butter', 'R_buttons', 'R_camera', 'R_car', 'R_career', 'R_case',\n",
       "       'R_cases', 'R_catchy', 'R_cd', 'R_charge', 'R_charger',\n",
       "       'R_charging', 'R_child', 'R_chips', 'R_chocolate', 'R_chorus',\n",
       "       'R_christmas', 'R_classic', 'R_coffee', 'R_collection',\n",
       "       'R_commercial', 'R_compilation', 'R_compositions', 'R_concert',\n",
       "       'R_country', 'R_cups', 'R_cute', 'R_dance', 'R_daughter',\n",
       "       'R_debut', 'R_delicious', 'R_disc', 'R_doll', 'R_drink',\n",
       "       'R_dropped', 'R_drum', 'R_drums', 'R_dvd', 'R_eat', 'R_eating',\n",
       "       'R_edges', 'R_era', 'R_example', 'R_fan', 'R_fans', 'R_filter',\n",
       "       'R_final', 'R_fit', 'R_flavor', 'R_flavors', 'R_food', 'R_free',\n",
       "       'R_fresh', 'R_fun', 'R_galaxy', 'R_game', 'R_gift', 'R_gluten',\n",
       "       'R_gluten free', 'R_good songs', 'R_granddaughter', 'R_grandson',\n",
       "       'R_great album', 'R_great band', 'R_great song', 'R_grocery',\n",
       "       'R_group', 'R_guitar', 'R_guitars', 'R_guys', 'R_healthy',\n",
       "       'R_hear', 'R_heard', 'R_hearing', 'R_heart', 'R_hip', 'R_hip hop',\n",
       "       'R_history', 'R_hits', 'R_honda', 'R_hop', 'R_ingredients',\n",
       "       'R_inspired', 'R_install', 'R_installed', 'R_interesting',\n",
       "       'R_iphone', 'R_jazz', 'R_jeep', 'R_john', 'R_kids', 'R_know',\n",
       "       'R_lead', 'R_lego', 'R_let', 'R_lights', 'R_listen', 'R_listened',\n",
       "       'R_listener', 'R_listeners', 'R_listening', 'R_live', 'R_loved',\n",
       "       'R_loves', 'R_lp', 'R_lyrics', 'R_man', 'R_melodies', 'R_melody',\n",
       "       'R_milk', 'R_modern', 'R_moments', 'R_month old', 'R_mtv',\n",
       "       'R_music', 'R_musical', 'R_musicians', 'R_new', 'R_new album',\n",
       "       'R_notes', 'R_oem', 'R_old', 'R_order', 'R_organic', 'R_peanut',\n",
       "       'R_performance', 'R_phone', 'R_phone case', 'R_phones', 'R_piano',\n",
       "       'R_pieces', 'R_play', 'R_played', 'R_playing', 'R_pop',\n",
       "       'R_produced', 'R_production', 'R_protection', 'R_protector',\n",
       "       'R_protectors', 'R_rap', 'R_record', 'R_recorded', 'R_recording',\n",
       "       'R_recordings', 'R_records', 'R_release', 'R_released',\n",
       "       'R_releases', 'R_repetitive', 'R_riff', 'R_riffs', 'R_rock',\n",
       "       'R_salt', 'R_samsung', 'R_sauce', 'R_scratches', 'R_screen',\n",
       "       'R_screen protector', 'R_screen protectors', 'R_sense', 'R_sing',\n",
       "       'R_singer', 'R_singing', 'R_single', 'R_singles', 'R_size',\n",
       "       'R_slim', 'R_snack', 'R_solo', 'R_solos', 'R_son', 'R_song',\n",
       "       'R_songs', 'R_songs album', 'R_songs like', 'R_songs sound',\n",
       "       'R_songwriting', 'R_soul', 'R_sound', 'R_sound like', 'R_sounding',\n",
       "       'R_sounds', 'R_sounds like', 'R_stale', 'R_standards', 'R_studio',\n",
       "       'R_style', 'R_sugar', 'R_sung', 'R_sweet', 'R_talent',\n",
       "       'R_talented', 'R_taste', 'R_taste good', 'R_taste like',\n",
       "       'R_tasted', 'R_tastes', 'R_tastes like', 'R_tasting', 'R_tasty',\n",
       "       'R_tea', 'R_tempo', 'R_texture', 'R_title', 'R_title track',\n",
       "       'R_tour', 'R_toy', 'R_toys', 'R_track', 'R_tracks', 'R_truck',\n",
       "       'R_truly', 'R_tune', 'R_tunes', 'R_use', 'R_vanilla', 'R_ve heard',\n",
       "       'R_vehicle', 'R_version', 'R_vocal', 'R_vocals', 'R_voice',\n",
       "       'R_voices', 'R_wear', 'R_words', 'R_world', 'R_written', 'R_year',\n",
       "       'R_year old', 'S_album', 'S_case', 'S_cd', 'S_coffee', 'S_cute',\n",
       "       'S_delicious', 'S_flavor', 'S_fun', 'S_game', 'S_music', 'S_phone',\n",
       "       'S_protector', 'S_screen', 'S_songs', 'S_stars', 'S_taste',\n",
       "       'S_tastes', 'S_tasty', 'S_toy', 'verified', 'vote'], dtype='<U19')"
      ]
     },
     "execution_count": 14,
     "metadata": {},
     "output_type": "execute_result"
    }
   ],
   "source": [
    "relcols"
   ]
  },
  {
   "cell_type": "code",
   "execution_count": 15,
   "id": "9aa6ce19-c33f-4297-9bff-dbc550f2d82a",
   "metadata": {
    "execution": {
     "iopub.execute_input": "2022-06-08T00:37:36.666502Z",
     "iopub.status.busy": "2022-06-08T00:37:36.666048Z",
     "iopub.status.idle": "2022-06-08T00:37:36.674241Z",
     "shell.execute_reply": "2022-06-08T00:37:36.673585Z",
     "shell.execute_reply.started": "2022-06-08T00:37:36.666472Z"
    }
   },
   "outputs": [
    {
     "data": {
      "text/plain": [
       "275"
      ]
     },
     "execution_count": 15,
     "metadata": {},
     "output_type": "execute_result"
    }
   ],
   "source": [
    "# The number of features we will use to cluster\n",
    "len(relcols)"
   ]
  },
  {
   "cell_type": "code",
   "execution_count": 16,
   "id": "2d6c86e2-5c1a-4a41-93f0-db68fb86d157",
   "metadata": {
    "execution": {
     "iopub.execute_input": "2022-06-08T00:37:59.803933Z",
     "iopub.status.busy": "2022-06-08T00:37:59.803283Z",
     "iopub.status.idle": "2022-06-08T00:37:59.844770Z",
     "shell.execute_reply": "2022-06-08T00:37:59.844277Z",
     "shell.execute_reply.started": "2022-06-08T00:37:59.803892Z"
    }
   },
   "outputs": [],
   "source": [
    "# Discard all other features\n",
    "X = X[relcols]"
   ]
  },
  {
   "cell_type": "code",
   "execution_count": 17,
   "id": "1aa7fa7d-0ca5-416a-8dd7-80450efd38df",
   "metadata": {
    "execution": {
     "iopub.execute_input": "2022-06-08T00:39:36.420790Z",
     "iopub.status.busy": "2022-06-08T00:39:36.420323Z",
     "iopub.status.idle": "2022-06-08T00:39:36.803824Z",
     "shell.execute_reply": "2022-06-08T00:39:36.802272Z",
     "shell.execute_reply.started": "2022-06-08T00:39:36.420759Z"
    }
   },
   "outputs": [
    {
     "data": {
      "text/plain": [
       "KMeans(n_clusters=6, random_state=42)"
      ]
     },
     "execution_count": 17,
     "metadata": {},
     "output_type": "execute_result"
    }
   ],
   "source": [
    "kmeans = KMeans(n_clusters=6, random_state=42)\n",
    "kmeans.fit(X)"
   ]
  },
  {
   "cell_type": "code",
   "execution_count": 18,
   "id": "4f515567-e028-458a-8f9e-a98b15b33c8c",
   "metadata": {
    "execution": {
     "iopub.execute_input": "2022-06-08T00:39:37.559252Z",
     "iopub.status.busy": "2022-06-08T00:39:37.558211Z",
     "iopub.status.idle": "2022-06-08T00:39:37.837934Z",
     "shell.execute_reply": "2022-06-08T00:39:37.837260Z",
     "shell.execute_reply.started": "2022-06-08T00:39:37.559214Z"
    }
   },
   "outputs": [
    {
     "name": "stdout",
     "output_type": "stream",
     "text": [
      "Silhouette score: 0.6185538197893687\n",
      "RAND index score (ground: 'category'): 0.6320184732409672\n"
     ]
    }
   ],
   "source": [
    "print(f'Silhouette score: {silhouette_score(X, kmeans.labels_)}')\n",
    "print(f\"RAND index score (ground: 'category'): {rand_score(test_df['category'], kmeans.labels_)}\")"
   ]
  }
 ],
 "metadata": {
  "kernelspec": {
   "display_name": "Python 3 (ipykernel)",
   "language": "python",
   "name": "python3"
  },
  "language_info": {
   "codemirror_mode": {
    "name": "ipython",
    "version": 3
   },
   "file_extension": ".py",
   "mimetype": "text/x-python",
   "name": "python",
   "nbconvert_exporter": "python",
   "pygments_lexer": "ipython3",
   "version": "3.9.7"
  }
 },
 "nbformat": 4,
 "nbformat_minor": 5
}
