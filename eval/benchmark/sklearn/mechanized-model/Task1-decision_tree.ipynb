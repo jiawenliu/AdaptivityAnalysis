{
 "cells": [
  {
   "cell_type": "code",
   "execution_count": 1,
   "id": "588f71ba-f0f5-49e7-bd47-9ff3d396fce6",
   "metadata": {
    "execution": {
     "iopub.execute_input": "2022-06-07T13:32:16.560634Z",
     "iopub.status.busy": "2022-06-07T13:32:16.560406Z",
     "iopub.status.idle": "2022-06-07T13:32:17.402020Z",
     "shell.execute_reply": "2022-06-07T13:32:17.401771Z",
     "shell.execute_reply.started": "2022-06-07T13:32:16.560554Z"
    },
    "tags": []
   },
   "outputs": [],
   "source": [
    "import pandas as pd\n",
    "import numpy as np\n",
    "import matplotlib.pyplot as plt\n",
    "import seaborn as sns\n",
    "from sklearn import preprocessing\n",
    "from sklearn.model_selection import train_test_split, KFold, GridSearchCV\n",
    "from sklearn.feature_extraction.text import TfidfVectorizer"
   ]
  },
  {
   "cell_type": "code",
   "execution_count": 2,
   "id": "697a6538-f1d8-4f02-9f63-daaf253e6a4d",
   "metadata": {
    "execution": {
     "iopub.execute_input": "2022-06-07T13:32:17.402605Z",
     "iopub.status.busy": "2022-06-07T13:32:17.402510Z",
     "iopub.status.idle": "2022-06-07T13:32:17.430681Z",
     "shell.execute_reply": "2022-06-07T13:32:17.430380Z",
     "shell.execute_reply.started": "2022-06-07T13:32:17.402596Z"
    },
    "tags": []
   },
   "outputs": [],
   "source": [
    "\n",
    "\n",
    "from sklearn.metrics import accuracy_score, f1_score, roc_auc_score, confusion_matrix, RocCurveDisplay\n",
    "from sklearn.linear_model import LogisticRegression\n",
    "from sklearn.tree import DecisionTreeClassifier\n",
    "from sklearn.naive_bayes import GaussianNB\n",
    "\n",
    "\n",
    "\n"
   ]
  },
  {
   "cell_type": "code",
   "execution_count": 3,
   "id": "41bae7ab-7f6c-49ef-9241-458916ff6a39",
   "metadata": {
    "execution": {
     "iopub.execute_input": "2022-06-07T13:32:17.431942Z",
     "iopub.status.busy": "2022-06-07T13:32:17.431849Z",
     "iopub.status.idle": "2022-06-07T13:32:17.435166Z",
     "shell.execute_reply": "2022-06-07T13:32:17.434933Z",
     "shell.execute_reply.started": "2022-06-07T13:32:17.431929Z"
    },
    "tags": []
   },
   "outputs": [],
   "source": [
    "# Basic preprocessing\n",
    "def preprocess(df):\n",
    "    df_new = df.copy()\n",
    "    \n",
    "    # Discard identifiers, style information, timestamps\n",
    "    df_new = df_new[df_new.columns.difference(['image', 'style', 'reviewTime', \n",
    "                                               'reviewerID', 'asin', 'reviewerName', 'unixReviewTime'])]\n",
    "\n",
    "    # Turn category into binary features\n",
    "    for cat in df_new.category.unique():\n",
    "        df_new[cat] = df_new['category'] == cat\n",
    "\n",
    "    # Drop category column\n",
    "    df_new.drop(columns=['category'], inplace=True)\n",
    "\n",
    "    # NaN vote is 0 users found helpful\n",
    "    df_new.vote.fillna(0, inplace=True)\n",
    "    \n",
    "    # Turn vote into binary feature\n",
    "    df_new.vote = df_new.vote > 0\n",
    "    # df_new.vote.clip(0, 10)\n",
    "    # df_new.vote = df_new.vote / 10\n",
    "\n",
    "    # NaN summary is empty summary\n",
    "    df_new.summary.fillna('', inplace=True)\n",
    "\n",
    "    # Turn Booleans into binary variables\n",
    "    df_new.replace({False: 0, True: 1}, inplace=True)\n",
    "    \n",
    "    return df_new"
   ]
  },
  {
   "cell_type": "code",
   "execution_count": 4,
   "id": "645feae0-59a6-443f-bb4e-23caf28e59ab",
   "metadata": {
    "execution": {
     "iopub.execute_input": "2022-06-07T13:32:17.435526Z",
     "iopub.status.busy": "2022-06-07T13:32:17.435468Z",
     "iopub.status.idle": "2022-06-07T13:32:17.437790Z",
     "shell.execute_reply": "2022-06-07T13:32:17.437525Z",
     "shell.execute_reply.started": "2022-06-07T13:32:17.435518Z"
    },
    "tags": []
   },
   "outputs": [],
   "source": [
    "# Remove 'overall' column and add cutoff column applying cutoff\n",
    "def apply_cutoff(df, cutoff):\n",
    "    df_new = df.copy()\n",
    "    \n",
    "    # Apply cutoff\n",
    "    cut = df['overall'] > cutoff\n",
    "    df_new['cutoff'] = cut\n",
    "\n",
    "    # Drop overall and category\n",
    "    df_new.drop(columns=['overall'], inplace=True)\n",
    "    \n",
    "    # Turn Booleans into binary variables\n",
    "    df_new.replace({False: 0, True: 1}, inplace=True)\n",
    "    \n",
    "    return df_new"
   ]
  },
  {
   "cell_type": "code",
   "execution_count": 5,
   "id": "c04094b6-1e7a-4817-a324-1820e843737c",
   "metadata": {
    "execution": {
     "iopub.execute_input": "2022-06-07T13:32:17.438231Z",
     "iopub.status.busy": "2022-06-07T13:32:17.438169Z",
     "iopub.status.idle": "2022-06-07T13:32:17.440536Z",
     "shell.execute_reply": "2022-06-07T13:32:17.440296Z",
     "shell.execute_reply.started": "2022-06-07T13:32:17.438223Z"
    },
    "tags": []
   },
   "outputs": [],
   "source": [
    "def apply_tfidf(df, review_vectorizer, summary_vectorizer):\n",
    "    review_matrix = pd.DataFrame(data=review_vectorizer.transform(df.reviewText).toarray(), columns='R_' + review_vectorizer.get_feature_names_out())\n",
    "    summary_matrix = pd.DataFrame(data=summary_vectorizer.transform(df.summary).toarray(), columns='S_' + summary_vectorizer.get_feature_names_out())\n",
    "    df_new = pd.concat([df, review_matrix, summary_matrix], axis=1)\n",
    "    df_new.drop(columns=['summary', 'reviewText'], inplace=True)\n",
    "    return df_new"
   ]
  },
  {
   "cell_type": "code",
   "execution_count": 6,
   "id": "4d7dad27-0687-48a6-9c8b-4954e6fe21cc",
   "metadata": {
    "execution": {
     "iopub.execute_input": "2022-06-07T13:32:17.441028Z",
     "iopub.status.busy": "2022-06-07T13:32:17.440938Z",
     "iopub.status.idle": "2022-06-07T13:32:17.603401Z",
     "shell.execute_reply": "2022-06-07T13:32:17.603159Z",
     "shell.execute_reply.started": "2022-06-07T13:32:17.441019Z"
    },
    "tags": []
   },
   "outputs": [],
   "source": [
    "training_df = pd.read_csv('../data/Training.csv')\n",
    "test_df = pd.read_csv('../data/Test.csv')"
   ]
  },
  {
   "attachments": {},
   "cell_type": "markdown",
   "id": "1125a5cf-8b7c-4f58-95e8-ccf10b5e8e67",
   "metadata": {
    "tags": []
   },
   "source": [
    "# Processing the data - I"
   ]
  },
  {
   "cell_type": "code",
   "execution_count": 7,
   "id": "25f1603d-4906-497b-a699-91c1b1967f4f",
   "metadata": {
    "execution": {
     "iopub.execute_input": "2022-06-07T13:32:17.603858Z",
     "iopub.status.busy": "2022-06-07T13:32:17.603790Z",
     "iopub.status.idle": "2022-06-07T13:33:00.794496Z",
     "shell.execute_reply": "2022-06-07T13:33:00.793813Z",
     "shell.execute_reply.started": "2022-06-07T13:32:17.603849Z"
    },
    "tags": []
   },
   "outputs": [],
   "source": [
    "# Preprocessing of training data\n",
    "proc_training_df = apply_cutoff(preprocess(training_df), 1)\n",
    "\n",
    "# Set cutoff to be the label; define X and y accordingly\n",
    "X = proc_training_df.drop('cutoff', axis=1)\n",
    "y = proc_training_df['cutoff']\n",
    "\n",
    "# Fit TF-IDF vectorizer for 'reviewText' and 'summary' features, creating max. 11500 features.\n",
    "r_vectorizer = TfidfVectorizer(max_features=11500, stop_words='english', ngram_range=(1, 3))\n",
    "s_vectorizer = TfidfVectorizer(max_features=11500, stop_words='english', ngram_range=(1, 3))\n",
    "r_vectorizer.fit(X.reviewText)\n",
    "s_vectorizer.fit(X.summary)\n",
    "\n",
    "# Apply TF-IDF vectorization \n",
    "X = apply_tfidf(X, r_vectorizer, s_vectorizer)\n",
    "\n",
    "# Apply robust scaling\n",
    "scaler = preprocessing.RobustScaler()\n",
    "X = pd.DataFrame(scaler.fit_transform(X), columns=X.columns, index=X.index)"
   ]
  },
  {
   "cell_type": "code",
   "execution_count": 8,
   "id": "e361be40-f9b9-489e-81dd-d04257847694",
   "metadata": {
    "execution": {
     "iopub.execute_input": "2022-06-07T13:33:00.795790Z",
     "iopub.status.busy": "2022-06-07T13:33:00.795564Z",
     "iopub.status.idle": "2022-06-07T13:33:00.818424Z",
     "shell.execute_reply": "2022-06-07T13:33:00.818095Z",
     "shell.execute_reply.started": "2022-06-07T13:33:00.795768Z"
    },
    "tags": []
   },
   "outputs": [
    {
     "data": {
      "text/html": [
       "<div>\n",
       "<style scoped>\n",
       "    .dataframe tbody tr th:only-of-type {\n",
       "        vertical-align: middle;\n",
       "    }\n",
       "\n",
       "    .dataframe tbody tr th {\n",
       "        vertical-align: top;\n",
       "    }\n",
       "\n",
       "    .dataframe thead th {\n",
       "        text-align: right;\n",
       "    }\n",
       "</style>\n",
       "<table border=\"1\" class=\"dataframe\">\n",
       "  <thead>\n",
       "    <tr style=\"text-align: right;\">\n",
       "      <th></th>\n",
       "      <th>verified</th>\n",
       "      <th>vote</th>\n",
       "      <th>automotive</th>\n",
       "      <th>CDs</th>\n",
       "      <th>grocery</th>\n",
       "      <th>cell_phones</th>\n",
       "      <th>sports</th>\n",
       "      <th>toys</th>\n",
       "      <th>R_00</th>\n",
       "      <th>R_000</th>\n",
       "      <th>...</th>\n",
       "      <th>S_zest</th>\n",
       "      <th>S_zest far</th>\n",
       "      <th>S_zest far inferior</th>\n",
       "      <th>S_zimmer</th>\n",
       "      <th>S_zipper</th>\n",
       "      <th>S_zippers</th>\n",
       "      <th>S_zoom</th>\n",
       "      <th>S_zz</th>\n",
       "      <th>S_zz greatest</th>\n",
       "      <th>S_zz greatest hits</th>\n",
       "    </tr>\n",
       "  </thead>\n",
       "  <tbody>\n",
       "    <tr>\n",
       "      <th>0</th>\n",
       "      <td>-1.0</td>\n",
       "      <td>1.0</td>\n",
       "      <td>1.0</td>\n",
       "      <td>0.0</td>\n",
       "      <td>0.0</td>\n",
       "      <td>0.0</td>\n",
       "      <td>0.0</td>\n",
       "      <td>0.0</td>\n",
       "      <td>0.0</td>\n",
       "      <td>0.0</td>\n",
       "      <td>...</td>\n",
       "      <td>0.0</td>\n",
       "      <td>0.0</td>\n",
       "      <td>0.0</td>\n",
       "      <td>0.0</td>\n",
       "      <td>0.0</td>\n",
       "      <td>0.0</td>\n",
       "      <td>0.0</td>\n",
       "      <td>0.0</td>\n",
       "      <td>0.0</td>\n",
       "      <td>0.0</td>\n",
       "    </tr>\n",
       "    <tr>\n",
       "      <th>1</th>\n",
       "      <td>0.0</td>\n",
       "      <td>0.0</td>\n",
       "      <td>1.0</td>\n",
       "      <td>0.0</td>\n",
       "      <td>0.0</td>\n",
       "      <td>0.0</td>\n",
       "      <td>0.0</td>\n",
       "      <td>0.0</td>\n",
       "      <td>0.0</td>\n",
       "      <td>0.0</td>\n",
       "      <td>...</td>\n",
       "      <td>0.0</td>\n",
       "      <td>0.0</td>\n",
       "      <td>0.0</td>\n",
       "      <td>0.0</td>\n",
       "      <td>0.0</td>\n",
       "      <td>0.0</td>\n",
       "      <td>0.0</td>\n",
       "      <td>0.0</td>\n",
       "      <td>0.0</td>\n",
       "      <td>0.0</td>\n",
       "    </tr>\n",
       "    <tr>\n",
       "      <th>2</th>\n",
       "      <td>0.0</td>\n",
       "      <td>0.0</td>\n",
       "      <td>1.0</td>\n",
       "      <td>0.0</td>\n",
       "      <td>0.0</td>\n",
       "      <td>0.0</td>\n",
       "      <td>0.0</td>\n",
       "      <td>0.0</td>\n",
       "      <td>0.0</td>\n",
       "      <td>0.0</td>\n",
       "      <td>...</td>\n",
       "      <td>0.0</td>\n",
       "      <td>0.0</td>\n",
       "      <td>0.0</td>\n",
       "      <td>0.0</td>\n",
       "      <td>0.0</td>\n",
       "      <td>0.0</td>\n",
       "      <td>0.0</td>\n",
       "      <td>0.0</td>\n",
       "      <td>0.0</td>\n",
       "      <td>0.0</td>\n",
       "    </tr>\n",
       "    <tr>\n",
       "      <th>3</th>\n",
       "      <td>0.0</td>\n",
       "      <td>0.0</td>\n",
       "      <td>1.0</td>\n",
       "      <td>0.0</td>\n",
       "      <td>0.0</td>\n",
       "      <td>0.0</td>\n",
       "      <td>0.0</td>\n",
       "      <td>0.0</td>\n",
       "      <td>0.0</td>\n",
       "      <td>0.0</td>\n",
       "      <td>...</td>\n",
       "      <td>0.0</td>\n",
       "      <td>0.0</td>\n",
       "      <td>0.0</td>\n",
       "      <td>0.0</td>\n",
       "      <td>0.0</td>\n",
       "      <td>0.0</td>\n",
       "      <td>0.0</td>\n",
       "      <td>0.0</td>\n",
       "      <td>0.0</td>\n",
       "      <td>0.0</td>\n",
       "    </tr>\n",
       "    <tr>\n",
       "      <th>4</th>\n",
       "      <td>0.0</td>\n",
       "      <td>0.0</td>\n",
       "      <td>1.0</td>\n",
       "      <td>0.0</td>\n",
       "      <td>0.0</td>\n",
       "      <td>0.0</td>\n",
       "      <td>0.0</td>\n",
       "      <td>0.0</td>\n",
       "      <td>0.0</td>\n",
       "      <td>0.0</td>\n",
       "      <td>...</td>\n",
       "      <td>0.0</td>\n",
       "      <td>0.0</td>\n",
       "      <td>0.0</td>\n",
       "      <td>0.0</td>\n",
       "      <td>0.0</td>\n",
       "      <td>0.0</td>\n",
       "      <td>0.0</td>\n",
       "      <td>0.0</td>\n",
       "      <td>0.0</td>\n",
       "      <td>0.0</td>\n",
       "    </tr>\n",
       "    <tr>\n",
       "      <th>...</th>\n",
       "      <td>...</td>\n",
       "      <td>...</td>\n",
       "      <td>...</td>\n",
       "      <td>...</td>\n",
       "      <td>...</td>\n",
       "      <td>...</td>\n",
       "      <td>...</td>\n",
       "      <td>...</td>\n",
       "      <td>...</td>\n",
       "      <td>...</td>\n",
       "      <td>...</td>\n",
       "      <td>...</td>\n",
       "      <td>...</td>\n",
       "      <td>...</td>\n",
       "      <td>...</td>\n",
       "      <td>...</td>\n",
       "      <td>...</td>\n",
       "      <td>...</td>\n",
       "      <td>...</td>\n",
       "      <td>...</td>\n",
       "      <td>...</td>\n",
       "    </tr>\n",
       "    <tr>\n",
       "      <th>29184</th>\n",
       "      <td>0.0</td>\n",
       "      <td>0.0</td>\n",
       "      <td>0.0</td>\n",
       "      <td>0.0</td>\n",
       "      <td>0.0</td>\n",
       "      <td>0.0</td>\n",
       "      <td>0.0</td>\n",
       "      <td>1.0</td>\n",
       "      <td>0.0</td>\n",
       "      <td>0.0</td>\n",
       "      <td>...</td>\n",
       "      <td>0.0</td>\n",
       "      <td>0.0</td>\n",
       "      <td>0.0</td>\n",
       "      <td>0.0</td>\n",
       "      <td>0.0</td>\n",
       "      <td>0.0</td>\n",
       "      <td>0.0</td>\n",
       "      <td>0.0</td>\n",
       "      <td>0.0</td>\n",
       "      <td>0.0</td>\n",
       "    </tr>\n",
       "    <tr>\n",
       "      <th>29185</th>\n",
       "      <td>0.0</td>\n",
       "      <td>0.0</td>\n",
       "      <td>0.0</td>\n",
       "      <td>0.0</td>\n",
       "      <td>0.0</td>\n",
       "      <td>0.0</td>\n",
       "      <td>0.0</td>\n",
       "      <td>1.0</td>\n",
       "      <td>0.0</td>\n",
       "      <td>0.0</td>\n",
       "      <td>...</td>\n",
       "      <td>0.0</td>\n",
       "      <td>0.0</td>\n",
       "      <td>0.0</td>\n",
       "      <td>0.0</td>\n",
       "      <td>0.0</td>\n",
       "      <td>0.0</td>\n",
       "      <td>0.0</td>\n",
       "      <td>0.0</td>\n",
       "      <td>0.0</td>\n",
       "      <td>0.0</td>\n",
       "    </tr>\n",
       "    <tr>\n",
       "      <th>29186</th>\n",
       "      <td>0.0</td>\n",
       "      <td>0.0</td>\n",
       "      <td>0.0</td>\n",
       "      <td>0.0</td>\n",
       "      <td>0.0</td>\n",
       "      <td>0.0</td>\n",
       "      <td>0.0</td>\n",
       "      <td>1.0</td>\n",
       "      <td>0.0</td>\n",
       "      <td>0.0</td>\n",
       "      <td>...</td>\n",
       "      <td>0.0</td>\n",
       "      <td>0.0</td>\n",
       "      <td>0.0</td>\n",
       "      <td>0.0</td>\n",
       "      <td>0.0</td>\n",
       "      <td>0.0</td>\n",
       "      <td>0.0</td>\n",
       "      <td>0.0</td>\n",
       "      <td>0.0</td>\n",
       "      <td>0.0</td>\n",
       "    </tr>\n",
       "    <tr>\n",
       "      <th>29187</th>\n",
       "      <td>0.0</td>\n",
       "      <td>0.0</td>\n",
       "      <td>0.0</td>\n",
       "      <td>0.0</td>\n",
       "      <td>0.0</td>\n",
       "      <td>0.0</td>\n",
       "      <td>0.0</td>\n",
       "      <td>1.0</td>\n",
       "      <td>0.0</td>\n",
       "      <td>0.0</td>\n",
       "      <td>...</td>\n",
       "      <td>0.0</td>\n",
       "      <td>0.0</td>\n",
       "      <td>0.0</td>\n",
       "      <td>0.0</td>\n",
       "      <td>0.0</td>\n",
       "      <td>0.0</td>\n",
       "      <td>0.0</td>\n",
       "      <td>0.0</td>\n",
       "      <td>0.0</td>\n",
       "      <td>0.0</td>\n",
       "    </tr>\n",
       "    <tr>\n",
       "      <th>29188</th>\n",
       "      <td>0.0</td>\n",
       "      <td>0.0</td>\n",
       "      <td>0.0</td>\n",
       "      <td>0.0</td>\n",
       "      <td>0.0</td>\n",
       "      <td>0.0</td>\n",
       "      <td>0.0</td>\n",
       "      <td>1.0</td>\n",
       "      <td>0.0</td>\n",
       "      <td>0.0</td>\n",
       "      <td>...</td>\n",
       "      <td>0.0</td>\n",
       "      <td>0.0</td>\n",
       "      <td>0.0</td>\n",
       "      <td>0.0</td>\n",
       "      <td>0.0</td>\n",
       "      <td>0.0</td>\n",
       "      <td>0.0</td>\n",
       "      <td>0.0</td>\n",
       "      <td>0.0</td>\n",
       "      <td>0.0</td>\n",
       "    </tr>\n",
       "  </tbody>\n",
       "</table>\n",
       "<p>29189 rows × 23008 columns</p>\n",
       "</div>"
      ],
      "text/plain": [
       "       verified  vote  automotive  CDs  grocery  cell_phones  sports  toys  \\\n",
       "0          -1.0   1.0         1.0  0.0      0.0          0.0     0.0   0.0   \n",
       "1           0.0   0.0         1.0  0.0      0.0          0.0     0.0   0.0   \n",
       "2           0.0   0.0         1.0  0.0      0.0          0.0     0.0   0.0   \n",
       "3           0.0   0.0         1.0  0.0      0.0          0.0     0.0   0.0   \n",
       "4           0.0   0.0         1.0  0.0      0.0          0.0     0.0   0.0   \n",
       "...         ...   ...         ...  ...      ...          ...     ...   ...   \n",
       "29184       0.0   0.0         0.0  0.0      0.0          0.0     0.0   1.0   \n",
       "29185       0.0   0.0         0.0  0.0      0.0          0.0     0.0   1.0   \n",
       "29186       0.0   0.0         0.0  0.0      0.0          0.0     0.0   1.0   \n",
       "29187       0.0   0.0         0.0  0.0      0.0          0.0     0.0   1.0   \n",
       "29188       0.0   0.0         0.0  0.0      0.0          0.0     0.0   1.0   \n",
       "\n",
       "       R_00  R_000  ...  S_zest  S_zest far  S_zest far inferior  S_zimmer  \\\n",
       "0       0.0    0.0  ...     0.0         0.0                  0.0       0.0   \n",
       "1       0.0    0.0  ...     0.0         0.0                  0.0       0.0   \n",
       "2       0.0    0.0  ...     0.0         0.0                  0.0       0.0   \n",
       "3       0.0    0.0  ...     0.0         0.0                  0.0       0.0   \n",
       "4       0.0    0.0  ...     0.0         0.0                  0.0       0.0   \n",
       "...     ...    ...  ...     ...         ...                  ...       ...   \n",
       "29184   0.0    0.0  ...     0.0         0.0                  0.0       0.0   \n",
       "29185   0.0    0.0  ...     0.0         0.0                  0.0       0.0   \n",
       "29186   0.0    0.0  ...     0.0         0.0                  0.0       0.0   \n",
       "29187   0.0    0.0  ...     0.0         0.0                  0.0       0.0   \n",
       "29188   0.0    0.0  ...     0.0         0.0                  0.0       0.0   \n",
       "\n",
       "       S_zipper  S_zippers  S_zoom  S_zz  S_zz greatest  S_zz greatest hits  \n",
       "0           0.0        0.0     0.0   0.0            0.0                 0.0  \n",
       "1           0.0        0.0     0.0   0.0            0.0                 0.0  \n",
       "2           0.0        0.0     0.0   0.0            0.0                 0.0  \n",
       "3           0.0        0.0     0.0   0.0            0.0                 0.0  \n",
       "4           0.0        0.0     0.0   0.0            0.0                 0.0  \n",
       "...         ...        ...     ...   ...            ...                 ...  \n",
       "29184       0.0        0.0     0.0   0.0            0.0                 0.0  \n",
       "29185       0.0        0.0     0.0   0.0            0.0                 0.0  \n",
       "29186       0.0        0.0     0.0   0.0            0.0                 0.0  \n",
       "29187       0.0        0.0     0.0   0.0            0.0                 0.0  \n",
       "29188       0.0        0.0     0.0   0.0            0.0                 0.0  \n",
       "\n",
       "[29189 rows x 23008 columns]"
      ]
     },
     "execution_count": 8,
     "metadata": {},
     "output_type": "execute_result"
    }
   ],
   "source": [
    "X"
   ]
  },
  {
   "cell_type": "code",
   "execution_count": 9,
   "id": "2f349e51-5599-42f9-9d63-bd73cb4a795b",
   "metadata": {
    "execution": {
     "iopub.execute_input": "2022-06-07T13:33:00.819142Z",
     "iopub.status.busy": "2022-06-07T13:33:00.819066Z",
     "iopub.status.idle": "2022-06-07T13:33:07.936578Z",
     "shell.execute_reply": "2022-06-07T13:33:07.936277Z",
     "shell.execute_reply.started": "2022-06-07T13:33:00.819133Z"
    },
    "tags": []
   },
   "outputs": [
    {
     "data": {
      "text/plain": [
       "Index(['verified', 'vote', 'R_00', 'R_08', 'R_10 bucks', 'R_12', 'R_15',\n",
       "       'R_1970', 'R_1970s', 'R_1973',\n",
       "       ...\n",
       "       'S_wtf', 'S_year old', 'S_young', 'S_yuck', 'S_yucky', 'S_yuk', 'S_yum',\n",
       "       'S_yummy', 'S_zero', 'S_zero stars'],\n",
       "      dtype='object', length=4272)"
      ]
     },
     "execution_count": 9,
     "metadata": {},
     "output_type": "execute_result"
    }
   ],
   "source": [
    "# Let us reduce the number of features by eliminating the statistically least correlated ones.\n",
    "relcols = X.columns[abs(X.corrwith(y)) > 0.01]\n",
    "relcols"
   ]
  },
  {
   "cell_type": "code",
   "execution_count": 10,
   "id": "56c82cb4-e2bf-441c-a50a-9972f422ff31",
   "metadata": {
    "execution": {
     "iopub.execute_input": "2022-06-07T13:33:07.937445Z",
     "iopub.status.busy": "2022-06-07T13:33:07.937340Z",
     "iopub.status.idle": "2022-06-07T13:33:08.236297Z",
     "shell.execute_reply": "2022-06-07T13:33:08.236007Z",
     "shell.execute_reply.started": "2022-06-07T13:33:07.937433Z"
    },
    "tags": []
   },
   "outputs": [],
   "source": [
    "# We will go with these columns.\n",
    "X = X[relcols]"
   ]
  },
  {
   "cell_type": "code",
   "execution_count": 11,
   "id": "fe4e3e35-4091-421d-8228-dd2c0f1faf17",
   "metadata": {
    "execution": {
     "iopub.execute_input": "2022-06-07T13:33:08.237221Z",
     "iopub.status.busy": "2022-06-07T13:33:08.237126Z",
     "iopub.status.idle": "2022-06-07T13:33:09.555464Z",
     "shell.execute_reply": "2022-06-07T13:33:09.555084Z",
     "shell.execute_reply.started": "2022-06-07T13:33:08.237210Z"
    },
    "tags": []
   },
   "outputs": [],
   "source": [
    "# 5-fold cross validation\n",
    "kf = KFold(n_splits=5, shuffle=True, random_state=42)\n",
    "splits = []\n",
    "for train_idx, val_idx in kf.split(X, y):\n",
    "    # Apply split\n",
    "    X_train, X_val = X.iloc[train_idx], X.iloc[val_idx]\n",
    "    y_train, y_val = y.iloc[train_idx], y.iloc[val_idx]\n",
    "    \n",
    "    # Reset indices\n",
    "    X_train.reset_index(drop=True, inplace=True)\n",
    "    y_train.reset_index(drop=True, inplace=True)\n",
    "    X_val.reset_index(drop=True, inplace=True)\n",
    "    y_val.reset_index(drop=True, inplace=True)\n",
    "    splits.append((X_train, X_val, y_train, y_val))\n",
    "f1_scores, acc_scores, roc_auc_scores, conf_matrices, models = [], [], [], [], []"
   ]
  },
  {
   "attachments": {},
   "cell_type": "markdown",
   "id": "ed60a2d2-bd0e-4fa9-acf7-2334f7461919",
   "metadata": {},
   "source": [
    "## Mechanized Decision Tree Classifier"
   ]
  },
  {
   "cell_type": "code",
   "execution_count": 12,
   "id": "75651ced-801f-4e28-a53d-a8cc0453ca94",
   "metadata": {
    "execution": {
     "iopub.execute_input": "2022-06-07T13:41:45.753059Z",
     "iopub.status.busy": "2022-06-07T13:41:45.752767Z",
     "iopub.status.idle": "2022-06-07T13:44:25.472639Z",
     "shell.execute_reply": "2022-06-07T13:44:25.472292Z",
     "shell.execute_reply.started": "2022-06-07T13:41:45.753012Z"
    },
    "tags": []
   },
   "outputs": [
    {
     "name": "stdout",
     "output_type": "stream",
     "text": [
      "in gaussian mechanism GridSearchCV\n",
      "Fitting 2 folds for each of 10 candidates, totalling 20 fits\n",
      "[CV 1/2] END ...criterion=entropy, max_depth=40;, score=0.601 total time= 2.4min\n",
      "[CV 2/2] END ...criterion=entropy, max_depth=40;, score=0.614 total time= 2.2min\n",
      "[CV 1/2] END ...criterion=entropy, max_depth=52;, score=0.602 total time= 2.3min\n",
      "[CV 2/2] END ...criterion=entropy, max_depth=52;, score=0.615 total time= 2.0min\n",
      "[CV 1/2] END ...criterion=entropy, max_depth=64;, score=0.603 total time= 2.2min\n",
      "[CV 2/2] END ...criterion=entropy, max_depth=64;, score=0.623 total time= 1.9min\n",
      "[CV 1/2] END ...criterion=entropy, max_depth=76;, score=0.603 total time= 2.1min\n",
      "[CV 2/2] END ...criterion=entropy, max_depth=76;, score=0.616 total time= 1.9min\n",
      "[CV 1/2] END ...criterion=entropy, max_depth=88;, score=0.599 total time= 2.1min\n",
      "[CV 2/2] END ...criterion=entropy, max_depth=88;, score=0.618 total time= 1.9min\n",
      "[CV 1/2] END ......criterion=gini, max_depth=40;, score=0.616 total time= 2.1min\n",
      "[CV 2/2] END ......criterion=gini, max_depth=40;, score=0.636 total time= 2.2min\n",
      "[CV 1/2] END ......criterion=gini, max_depth=52;, score=0.617 total time= 2.7min\n",
      "[CV 2/2] END ......criterion=gini, max_depth=52;, score=0.640 total time= 2.6min\n",
      "[CV 1/2] END ......criterion=gini, max_depth=64;, score=0.614 total time= 3.0min\n",
      "[CV 2/2] END ......criterion=gini, max_depth=64;, score=0.638 total time= 3.0min\n",
      "[CV 1/2] END ......criterion=gini, max_depth=76;, score=0.610 total time= 3.4min\n",
      "[CV 2/2] END ......criterion=gini, max_depth=76;, score=0.634 total time= 3.4min\n",
      "[CV 1/2] END ......criterion=gini, max_depth=88;, score=0.604 total time= 3.7min\n",
      "[CV 2/2] END ......criterion=gini, max_depth=88;, score=0.633 total time= 3.6min\n"
     ]
    },
    {
     "data": {
      "text/plain": [
       "{'criterion': 'gini', 'max_depth': 52}"
      ]
     },
     "execution_count": 12,
     "metadata": {},
     "output_type": "execute_result"
    }
   ],
   "source": [
    "# Hyperparameter selection on one split\n",
    "import sys\n",
    "sys.path.append(\"..\")\n",
    "from mechanism.mechanized_models import Mechanism\n",
    "from mechanism.mechanized_models import MechanizedGridSearchCV\n",
    "from mechanism.mechanized_models import MechanizedDecisionTree\n",
    "\n",
    "        \n",
    "\n",
    "X_train, X_val, y_train, y_val = splits[0]\n",
    "gs_cls = MechanizedDecisionTree()\n",
    "gs_cls.choose_mechanism(Mechanism.GAUSSIAN)\n",
    "\n",
    "params_DT = {'criterion': ['entropy','gini'], 'max_depth': np.arange(40, 100, 12)}\n",
    "\n",
    "gs_DT = MechanizedGridSearchCV(estimator=gs_cls, param_grid=params_DT, cv=2, verbose=3, scoring='f1_macro')\n",
    "gs_DT.choose_mechanism(Mechanism.GAUSSIAN)\n",
    "\n",
    "gs_DT.fit(X_train, y_train)\n",
    "gs_DT.best_params_"
   ]
  },
  {
   "cell_type": "code",
   "execution_count": 13,
   "id": "66b58a86-dcd8-48dd-bbf2-54e0dbfae66c",
   "metadata": {
    "execution": {
     "iopub.execute_input": "2022-06-07T13:44:25.473420Z",
     "iopub.status.busy": "2022-06-07T13:44:25.473316Z",
     "iopub.status.idle": "2022-06-07T13:45:16.772050Z",
     "shell.execute_reply": "2022-06-07T13:45:16.771505Z",
     "shell.execute_reply.started": "2022-06-07T13:44:25.473411Z"
    },
    "tags": []
   },
   "outputs": [
    {
     "name": "stdout",
     "output_type": "stream",
     "text": [
      "Split 0:\n",
      "in gaussian mechanism MechanizedDecisionTree\n",
      "  F1 score: 0.6463030584289964\n",
      "  Accuracy: 0.8307639602603631\n",
      "  ROC/AUC score: 0.6946212243294914\n",
      "Split 1:\n",
      "in gaussian mechanism MechanizedDecisionTree\n",
      "  F1 score: 0.6761740953902824\n",
      "  Accuracy: 0.854230900993491\n",
      "  ROC/AUC score: 0.687818199663865\n",
      "Split 2:\n",
      "in gaussian mechanism MechanizedDecisionTree\n",
      "  F1 score: 0.6638542143571249\n",
      "  Accuracy: 0.8311065433367592\n",
      "  ROC/AUC score: 0.6924286166120251\n",
      "Split 3:\n",
      "in gaussian mechanism MechanizedDecisionTree\n",
      "  F1 score: 0.653640578283681\n",
      "  Accuracy: 0.842069201781432\n",
      "  ROC/AUC score: 0.6431451378684081\n",
      "Split 4:\n",
      "in gaussian mechanism MechanizedDecisionTree\n",
      "  F1 score: 0.6637008359361275\n",
      "  Accuracy: 0.839814973445263\n",
      "  ROC/AUC score: 0.6924691701403689\n",
      "Average F1 score: 0.6607345564792424\n",
      "Average accuracy: 0.8395971159634616\n",
      "Average ROC/AUC score: 0.6820964697228317\n"
     ]
    }
   ],
   "source": [
    "# Let us now compute performance metrics.\n",
    "for i, (X_train, X_val, y_train, y_val) in enumerate(splits):\n",
    "    print(f\"Split {i}:\")\n",
    "    # Train model\n",
    "    model = MechanizedDecisionTree(**gs_DT.best_params_)\n",
    "    model.choose_mechanism(Mechanism.GAUSSIAN)\n",
    "    model.fit(X_train, y_train)\n",
    "    # Predict\n",
    "    y_pred = model.predict(X_val)\n",
    "    y_proba = model.predict_proba(X_val)\n",
    "    # Compute and append f1, accuracy, confusion matrix; \n",
    "    f1_scores.append(f1_score(y_val, y_pred, average='macro'))\n",
    "    acc_scores.append(accuracy_score(y_val, y_pred))\n",
    "    roc_auc_scores.append(roc_auc_score(y_val, y_proba[:, 1]))\n",
    "    print(f\"  F1 score: {f1_scores[-1]}\")\n",
    "    print(f\"  Accuracy: {acc_scores[-1]}\")\n",
    "    print(f\"  ROC/AUC score: {roc_auc_scores[-1]}\")\n",
    "    conf_matrices.append(confusion_matrix(y_val, y_pred))\n",
    "    models.append(model)\n",
    "print(f\"Average F1 score: {np.average(f1_scores)}\")\n",
    "print(f\"Average accuracy: {np.average(acc_scores)}\")\n",
    "print(f\"Average ROC/AUC score: {np.average(roc_auc_scores)}\")"
   ]
  },
  {
   "cell_type": "code",
   "execution_count": 14,
   "id": "04613d4e-25f1-4beb-80d4-ea2505bc5db0",
   "metadata": {
    "execution": {
     "iopub.execute_input": "2022-06-07T13:45:16.772913Z",
     "iopub.status.busy": "2022-06-07T13:45:16.772826Z",
     "iopub.status.idle": "2022-06-07T13:45:16.836299Z",
     "shell.execute_reply": "2022-06-07T13:45:16.835687Z",
     "shell.execute_reply.started": "2022-06-07T13:45:16.772900Z"
    },
    "tags": []
   },
   "outputs": [
    {
     "data": {
      "text/plain": [
       "Text(50.722222222222214, 0.5, 'True label')"
      ]
     },
     "execution_count": 14,
     "metadata": {},
     "output_type": "execute_result"
    },
    {
     "data": {
      "image/png": "[encoded data removed]",
      "text/plain": [
       "<Figure size 640x480 with 2 Axes>"
      ]
     },
     "metadata": {},
     "output_type": "display_data"
    }
   ],
   "source": [
    "sns.heatmap(sum(conf_matrices), annot=True, cmap=\"Blues\", fmt=\"d\")\n",
    "plt.xlabel('Predicted label'); plt.ylabel('True label')"
   ]
  },
  {
   "cell_type": "code",
   "execution_count": 15,
   "id": "0a9c2f0e-c072-4c70-8564-331d0b5baac3",
   "metadata": {
    "execution": {
     "iopub.execute_input": "2022-06-07T13:45:16.836911Z",
     "iopub.status.busy": "2022-06-07T13:45:16.836813Z",
     "iopub.status.idle": "2022-06-07T13:45:16.893176Z",
     "shell.execute_reply": "2022-06-07T13:45:16.892841Z",
     "shell.execute_reply.started": "2022-06-07T13:45:16.836902Z"
    },
    "tags": []
   },
   "outputs": [
    {
     "data": {
      "text/plain": [
       "Text(50.722222222222214, 0.5, 'True label')"
      ]
     },
     "execution_count": 15,
     "metadata": {},
     "output_type": "execute_result"
    },
    {
     "data": {
      "image/png": "[encoded data removed]",
      "text/plain": [
       "<Figure size 640x480 with 2 Axes>"
      ]
     },
     "metadata": {},
     "output_type": "display_data"
    }
   ],
   "source": [
    "# With percentages instead\n",
    "sns.heatmap(sum(conf_matrices)/np.sum(sum(conf_matrices)), \n",
    "            annot=True, cmap=\"Blues\", fmt=\".2%\")\n",
    "plt.xlabel('Predicted label'); plt.ylabel('True label')"
   ]
  },
  {
   "cell_type": "code",
   "execution_count": 16,
   "id": "2a8d428a-0078-447e-9c29-cce243cb47d1",
   "metadata": {
    "execution": {
     "iopub.execute_input": "2022-06-07T13:45:16.893951Z",
     "iopub.status.busy": "2022-06-07T13:45:16.893849Z",
     "iopub.status.idle": "2022-06-07T13:45:27.499202Z",
     "shell.execute_reply": "2022-06-07T13:45:27.498540Z",
     "shell.execute_reply.started": "2022-06-07T13:45:16.893941Z"
    },
    "tags": []
   },
   "outputs": [
    {
     "name": "stdout",
     "output_type": "stream",
     "text": [
      "in gaussian mechanism MechanizedDecisionTree\n"
     ]
    },
    {
     "data": {
      "text/html": [
       "<style>#sk-container-id-1 {color: black;background-color: white;}#sk-container-id-1 pre{padding: 0;}#sk-container-id-1 div.sk-toggleable {background-color: white;}#sk-container-id-1 label.sk-toggleable__label {cursor: pointer;display: block;width: 100%;margin-bottom: 0;padding: 0.3em;box-sizing: border-box;text-align: center;}#sk-container-id-1 label.sk-toggleable__label-arrow:before {content: \"▸\";float: left;margin-right: 0.25em;color: #696969;}#sk-container-id-1 label.sk-toggleable__label-arrow:hover:before {color: black;}#sk-container-id-1 div.sk-estimator:hover label.sk-toggleable__label-arrow:before {color: black;}#sk-container-id-1 div.sk-toggleable__content {max-height: 0;max-width: 0;overflow: hidden;text-align: left;background-color: #f0f8ff;}#sk-container-id-1 div.sk-toggleable__content pre {margin: 0.2em;color: black;border-radius: 0.25em;background-color: #f0f8ff;}#sk-container-id-1 input.sk-toggleable__control:checked~div.sk-toggleable__content {max-height: 200px;max-width: 100%;overflow: auto;}#sk-container-id-1 input.sk-toggleable__control:checked~label.sk-toggleable__label-arrow:before {content: \"▾\";}#sk-container-id-1 div.sk-estimator input.sk-toggleable__control:checked~label.sk-toggleable__label {background-color: #d4ebff;}#sk-container-id-1 div.sk-label input.sk-toggleable__control:checked~label.sk-toggleable__label {background-color: #d4ebff;}#sk-container-id-1 input.sk-hidden--visually {border: 0;clip: rect(1px 1px 1px 1px);clip: rect(1px, 1px, 1px, 1px);height: 1px;margin: -1px;overflow: hidden;padding: 0;position: absolute;width: 1px;}#sk-container-id-1 div.sk-estimator {font-family: monospace;background-color: #f0f8ff;border: 1px dotted black;border-radius: 0.25em;box-sizing: border-box;margin-bottom: 0.5em;}#sk-container-id-1 div.sk-estimator:hover {background-color: #d4ebff;}#sk-container-id-1 div.sk-parallel-item::after {content: \"\";width: 100%;border-bottom: 1px solid gray;flex-grow: 1;}#sk-container-id-1 div.sk-label:hover label.sk-toggleable__label {background-color: #d4ebff;}#sk-container-id-1 div.sk-serial::before {content: \"\";position: absolute;border-left: 1px solid gray;box-sizing: border-box;top: 0;bottom: 0;left: 50%;z-index: 0;}#sk-container-id-1 div.sk-serial {display: flex;flex-direction: column;align-items: center;background-color: white;padding-right: 0.2em;padding-left: 0.2em;position: relative;}#sk-container-id-1 div.sk-item {position: relative;z-index: 1;}#sk-container-id-1 div.sk-parallel {display: flex;align-items: stretch;justify-content: center;background-color: white;position: relative;}#sk-container-id-1 div.sk-item::before, #sk-container-id-1 div.sk-parallel-item::before {content: \"\";position: absolute;border-left: 1px solid gray;box-sizing: border-box;top: 0;bottom: 0;left: 50%;z-index: -1;}#sk-container-id-1 div.sk-parallel-item {display: flex;flex-direction: column;z-index: 1;position: relative;background-color: white;}#sk-container-id-1 div.sk-parallel-item:first-child::after {align-self: flex-end;width: 50%;}#sk-container-id-1 div.sk-parallel-item:last-child::after {align-self: flex-start;width: 50%;}#sk-container-id-1 div.sk-parallel-item:only-child::after {width: 0;}#sk-container-id-1 div.sk-dashed-wrapped {border: 1px dashed gray;margin: 0 0.4em 0.5em 0.4em;box-sizing: border-box;padding-bottom: 0.4em;background-color: white;}#sk-container-id-1 div.sk-label label {font-family: monospace;font-weight: bold;display: inline-block;line-height: 1.2em;}#sk-container-id-1 div.sk-label-container {text-align: center;}#sk-container-id-1 div.sk-container {/* jupyter's `normalize.less` sets `[hidden] { display: none; }` but bootstrap.min.css set `[hidden] { display: none !important; }` so we also need the `!important` here to be able to override the default hidden behavior on the sphinx rendered scikit-learn.org. See: https://github.com/scikit-learn/scikit-learn/issues/21755 */display: inline-block !important;position: relative;}#sk-container-id-1 div.sk-text-repr-fallback {display: none;}</style><div id=\"sk-container-id-1\" class=\"sk-top-container\"><div class=\"sk-text-repr-fallback\"><pre>MechanizedDecisionTree(max_depth=52)</pre><b>In a Jupyter environment, please rerun this cell to show the HTML representation or trust the notebook. <br />On GitHub, the HTML representation is unable to render, please try loading this page with nbviewer.org.</b></div><div class=\"sk-container\" hidden><div class=\"sk-item\"><div class=\"sk-estimator sk-toggleable\"><input class=\"sk-toggleable__control sk-hidden--visually\" id=\"sk-estimator-id-1\" type=\"checkbox\" checked><label for=\"sk-estimator-id-1\" class=\"sk-toggleable__label sk-toggleable__label-arrow\">MechanizedDecisionTree</label><div class=\"sk-toggleable__content\"><pre>MechanizedDecisionTree(max_depth=52)</pre></div></div></div></div></div>"
      ],
      "text/plain": [
       "MechanizedDecisionTree(max_depth=52)"
      ]
     },
     "execution_count": 16,
     "metadata": {},
     "output_type": "execute_result"
    }
   ],
   "source": [
    "# Training on a new 80-20 split to draw ROC curve\n",
    "X_train, X_val, y_train, y_val = train_test_split(X, y, test_size=0.2)\n",
    "X_train.reset_index(drop=True, inplace=True)\n",
    "y_train.reset_index(drop=True, inplace=True)\n",
    "X_val.reset_index(drop=True, inplace=True)\n",
    "y_val.reset_index(drop=True, inplace=True)\n",
    "model = MechanizedDecisionTree(**gs_DT.best_params_)\n",
    "model.choose_mechanism(Mechanism.GAUSSIAN)\n",
    "model.fit(X_train, y_train)"
   ]
  },
  {
   "cell_type": "code",
   "execution_count": 17,
   "id": "7b5d9f5f-0cc3-4526-898a-1fb20a1b521f",
   "metadata": {
    "execution": {
     "iopub.execute_input": "2022-06-07T13:45:27.499913Z",
     "iopub.status.busy": "2022-06-07T13:45:27.499821Z",
     "iopub.status.idle": "2022-06-07T13:45:27.613654Z",
     "shell.execute_reply": "2022-06-07T13:45:27.613273Z",
     "shell.execute_reply.started": "2022-06-07T13:45:27.499904Z"
    },
    "tags": []
   },
   "outputs": [
    {
     "data": {
      "text/plain": [
       "[<matplotlib.lines.Line2D at 0x13a9dd330>]"
      ]
     },
     "execution_count": 17,
     "metadata": {},
     "output_type": "execute_result"
    },
    {
     "data": {
      "image/png": "[encoded data removed]",
      "text/plain": [
       "<Figure size 640x480 with 1 Axes>"
      ]
     },
     "metadata": {},
     "output_type": "display_data"
    }
   ],
   "source": [
    "# Display ROC curve\n",
    "RocCurveDisplay.from_predictions(y_val, model.predict_proba(X_val)[:, 1], color='orange')\n",
    "plt.xlim([0, 1]); plt.ylim([0, 1.05])\n",
    "plt.plot([0, 1], [0, 1], 'k--')"
   ]
  },
  {
   "cell_type": "markdown",
   "id": "95562ec9-a1e6-468f-b83e-1dcf25e134b4",
   "metadata": {},
   "source": [
    "Time to pick the best model, predict on test and save."
   ]
  },
  {
   "cell_type": "code",
   "execution_count": 18,
   "id": "e7fee551-d7e0-4bfe-bd49-8276990c2556",
   "metadata": {
    "execution": {
     "iopub.execute_input": "2022-06-07T13:45:27.620489Z",
     "iopub.status.busy": "2022-06-07T13:45:27.620414Z",
     "iopub.status.idle": "2022-06-07T13:45:49.807477Z",
     "shell.execute_reply": "2022-06-07T13:45:49.790751Z",
     "shell.execute_reply.started": "2022-06-07T13:45:27.620481Z"
    }
   },
   "outputs": [
    {
     "data": {
      "text/html": [
       "<style>#sk-container-id-2 {color: black;background-color: white;}#sk-container-id-2 pre{padding: 0;}#sk-container-id-2 div.sk-toggleable {background-color: white;}#sk-container-id-2 label.sk-toggleable__label {cursor: pointer;display: block;width: 100%;margin-bottom: 0;padding: 0.3em;box-sizing: border-box;text-align: center;}#sk-container-id-2 label.sk-toggleable__label-arrow:before {content: \"▸\";float: left;margin-right: 0.25em;color: #696969;}#sk-container-id-2 label.sk-toggleable__label-arrow:hover:before {color: black;}#sk-container-id-2 div.sk-estimator:hover label.sk-toggleable__label-arrow:before {color: black;}#sk-container-id-2 div.sk-toggleable__content {max-height: 0;max-width: 0;overflow: hidden;text-align: left;background-color: #f0f8ff;}#sk-container-id-2 div.sk-toggleable__content pre {margin: 0.2em;color: black;border-radius: 0.25em;background-color: #f0f8ff;}#sk-container-id-2 input.sk-toggleable__control:checked~div.sk-toggleable__content {max-height: 200px;max-width: 100%;overflow: auto;}#sk-container-id-2 input.sk-toggleable__control:checked~label.sk-toggleable__label-arrow:before {content: \"▾\";}#sk-container-id-2 div.sk-estimator input.sk-toggleable__control:checked~label.sk-toggleable__label {background-color: #d4ebff;}#sk-container-id-2 div.sk-label input.sk-toggleable__control:checked~label.sk-toggleable__label {background-color: #d4ebff;}#sk-container-id-2 input.sk-hidden--visually {border: 0;clip: rect(1px 1px 1px 1px);clip: rect(1px, 1px, 1px, 1px);height: 1px;margin: -1px;overflow: hidden;padding: 0;position: absolute;width: 1px;}#sk-container-id-2 div.sk-estimator {font-family: monospace;background-color: #f0f8ff;border: 1px dotted black;border-radius: 0.25em;box-sizing: border-box;margin-bottom: 0.5em;}#sk-container-id-2 div.sk-estimator:hover {background-color: #d4ebff;}#sk-container-id-2 div.sk-parallel-item::after {content: \"\";width: 100%;border-bottom: 1px solid gray;flex-grow: 1;}#sk-container-id-2 div.sk-label:hover label.sk-toggleable__label {background-color: #d4ebff;}#sk-container-id-2 div.sk-serial::before {content: \"\";position: absolute;border-left: 1px solid gray;box-sizing: border-box;top: 0;bottom: 0;left: 50%;z-index: 0;}#sk-container-id-2 div.sk-serial {display: flex;flex-direction: column;align-items: center;background-color: white;padding-right: 0.2em;padding-left: 0.2em;position: relative;}#sk-container-id-2 div.sk-item {position: relative;z-index: 1;}#sk-container-id-2 div.sk-parallel {display: flex;align-items: stretch;justify-content: center;background-color: white;position: relative;}#sk-container-id-2 div.sk-item::before, #sk-container-id-2 div.sk-parallel-item::before {content: \"\";position: absolute;border-left: 1px solid gray;box-sizing: border-box;top: 0;bottom: 0;left: 50%;z-index: -1;}#sk-container-id-2 div.sk-parallel-item {display: flex;flex-direction: column;z-index: 1;position: relative;background-color: white;}#sk-container-id-2 div.sk-parallel-item:first-child::after {align-self: flex-end;width: 50%;}#sk-container-id-2 div.sk-parallel-item:last-child::after {align-self: flex-start;width: 50%;}#sk-container-id-2 div.sk-parallel-item:only-child::after {width: 0;}#sk-container-id-2 div.sk-dashed-wrapped {border: 1px dashed gray;margin: 0 0.4em 0.5em 0.4em;box-sizing: border-box;padding-bottom: 0.4em;background-color: white;}#sk-container-id-2 div.sk-label label {font-family: monospace;font-weight: bold;display: inline-block;line-height: 1.2em;}#sk-container-id-2 div.sk-label-container {text-align: center;}#sk-container-id-2 div.sk-container {/* jupyter's `normalize.less` sets `[hidden] { display: none; }` but bootstrap.min.css set `[hidden] { display: none !important; }` so we also need the `!important` here to be able to override the default hidden behavior on the sphinx rendered scikit-learn.org. See: https://github.com/scikit-learn/scikit-learn/issues/21755 */display: inline-block !important;position: relative;}#sk-container-id-2 div.sk-text-repr-fallback {display: none;}</style><div id=\"sk-container-id-2\" class=\"sk-top-container\"><div class=\"sk-text-repr-fallback\"><pre>LogisticRegression(C=5.011872336272722, max_iter=1500)</pre><b>In a Jupyter environment, please rerun this cell to show the HTML representation or trust the notebook. <br />On GitHub, the HTML representation is unable to render, please try loading this page with nbviewer.org.</b></div><div class=\"sk-container\" hidden><div class=\"sk-item\"><div class=\"sk-estimator sk-toggleable\"><input class=\"sk-toggleable__control sk-hidden--visually\" id=\"sk-estimator-id-2\" type=\"checkbox\" checked><label for=\"sk-estimator-id-2\" class=\"sk-toggleable__label sk-toggleable__label-arrow\">LogisticRegression</label><div class=\"sk-toggleable__content\"><pre>LogisticRegression(C=5.011872336272722, max_iter=1500)</pre></div></div></div></div></div>"
      ],
      "text/plain": [
       "LogisticRegression(C=5.011872336272722, max_iter=1500)"
      ]
     },
     "execution_count": 18,
     "metadata": {},
     "output_type": "execute_result"
    }
   ],
   "source": [
    "model1 = LogisticRegression(C=5.011872336272722, max_iter=1500)\n",
    "model1.fit(X, y)"
   ]
  },
  {
   "cell_type": "code",
   "execution_count": 19,
   "id": "252dafa2-2565-4b7b-978a-0c90fcddf9ff",
   "metadata": {},
   "outputs": [],
   "source": [
    "# # Extra testing\n",
    "# (X_train, X_val, y_train, y_val) = splits[np.argmax(f1_scores) % 5]\n",
    "# f1_score(y_val, (model2.predict_proba(X_val) >= 0.7)[:, 1].astype(int), average='macro')"
   ]
  },
  {
   "cell_type": "code",
   "execution_count": 20,
   "id": "89c91f78-d521-4bf7-bb91-e35ed8049a85",
   "metadata": {
    "execution": {
     "iopub.execute_input": "2022-06-07T13:47:00.948570Z",
     "iopub.status.busy": "2022-06-07T13:47:00.947687Z",
     "iopub.status.idle": "2022-06-07T13:47:02.558709Z",
     "shell.execute_reply": "2022-06-07T13:47:02.558339Z",
     "shell.execute_reply.started": "2022-06-07T13:47:00.948522Z"
    },
    "tags": []
   },
   "outputs": [],
   "source": [
    "# Preprocessing\n",
    "proc_test_df = apply_tfidf(preprocess(test_df), r_vectorizer, s_vectorizer)\n",
    "proc_test_df = pd.DataFrame(scaler.transform(proc_test_df), columns=proc_test_df.columns, index=proc_test_df.index)[relcols]"
   ]
  },
  {
   "cell_type": "code",
   "execution_count": 21,
   "id": "b31ab729-b19f-4ebd-82eb-297e7ba20dae",
   "metadata": {
    "execution": {
     "iopub.execute_input": "2022-06-07T13:47:24.103237Z",
     "iopub.status.busy": "2022-06-07T13:47:24.102712Z",
     "iopub.status.idle": "2022-06-07T13:47:24.198577Z",
     "shell.execute_reply": "2022-06-07T13:47:24.186564Z",
     "shell.execute_reply.started": "2022-06-07T13:47:24.103187Z"
    },
    "tags": []
   },
   "outputs": [],
   "source": [
    "# Predict on test and save as .csv\n",
    "# proc_test_df['predicted'] = model1.predict(proc_test_df)\n",
    "proc_test_df['predicted'] = (model1.predict_proba(proc_test_df) >= 0.7)[:, 1].astype(int) # yields better F1 score!\n",
    "proc_test_df = proc_test_df.reset_index()[['index', 'predicted']]\n",
    "proc_test_df.rename(columns={'index': 'id'}).to_csv('task11.csv', index=False)"
   ]
  },
  {
   "attachments": {},
   "cell_type": "markdown",
   "id": "ce316ae9-8bbf-41b9-a299-c8bc482b5a63",
   "metadata": {
    "tags": []
   },
   "source": [
    "# Processing data - II"
   ]
  },
  {
   "cell_type": "code",
   "execution_count": 22,
   "id": "f9197f97-c759-49a4-815c-bc15a23055a7",
   "metadata": {
    "execution": {
     "iopub.execute_input": "2022-06-07T13:50:00.327485Z",
     "iopub.status.busy": "2022-06-07T13:50:00.327145Z",
     "iopub.status.idle": "2022-06-07T13:51:08.616995Z",
     "shell.execute_reply": "2022-06-07T13:51:08.616129Z",
     "shell.execute_reply.started": "2022-06-07T13:50:00.327434Z"
    },
    "tags": []
   },
   "outputs": [],
   "source": [
    "# Preprocessing of training data\n",
    "proc_training_df = apply_cutoff(preprocess(training_df), 2)\n",
    "\n",
    "# Set cutoff to be the label; define X and y accordingly\n",
    "X = proc_training_df.drop('cutoff', axis=1)\n",
    "y = proc_training_df['cutoff']\n",
    "\n",
    "# Fit TF-IDF vectorizer for 'reviewText' and 'summary' features, creating max. 11500 features.\n",
    "r_vectorizer = TfidfVectorizer(max_features=11500, stop_words='english', ngram_range=(1, 3))\n",
    "s_vectorizer = TfidfVectorizer(max_features=11500, stop_words='english', ngram_range=(1, 3))\n",
    "r_vectorizer.fit(X.reviewText)\n",
    "s_vectorizer.fit(X.summary)\n",
    "\n",
    "# Apply TF-IDF vectorization \n",
    "X = apply_tfidf(X, r_vectorizer, s_vectorizer)\n",
    "\n",
    "# Apply robust scaling\n",
    "scaler = preprocessing.RobustScaler()\n",
    "X = pd.DataFrame(scaler.fit_transform(X), columns=X.columns, index=X.index)\n",
    "\n",
    "# Let us reduce the number of features by eliminating the statistically least correlated ones.\n",
    "relcols = X.columns[abs(X.corrwith(y)) > 0.01]\n",
    "X = X[relcols]\n",
    "\n",
    "# 5-fold cross validation\n",
    "kf = KFold(n_splits=5, shuffle=True, random_state=42)\n",
    "splits = []\n",
    "for train_idx, val_idx in kf.split(X, y):\n",
    "    # Apply split\n",
    "    X_train, X_val = X.iloc[train_idx], X.iloc[val_idx]\n",
    "    y_train, y_val = y.iloc[train_idx], y.iloc[val_idx]\n",
    "    \n",
    "    # Reset indices\n",
    "    X_train.reset_index(drop=True, inplace=True)\n",
    "    y_train.reset_index(drop=True, inplace=True)\n",
    "    X_val.reset_index(drop=True, inplace=True)\n",
    "    y_val.reset_index(drop=True, inplace=True)\n",
    "    splits.append((X_train, X_val, y_train, y_val))\n",
    "f1_scores, acc_scores, roc_auc_scores, conf_matrices, models = [], [], [], [], []"
   ]
  },
  {
   "attachments": {},
   "cell_type": "markdown",
   "id": "13bbaf42-f435-4fb7-9dbe-e6cde73d9fcd",
   "metadata": {},
   "source": [
    "## Mechanized Decision Tree Classifier"
   ]
  },
  {
   "cell_type": "code",
   "execution_count": 23,
   "id": "c5be557d-0c41-4ce1-9d3c-22d1ad46c872",
   "metadata": {
    "execution": {
     "iopub.execute_input": "2022-06-07T14:02:34.299562Z",
     "iopub.status.busy": "2022-06-07T14:02:34.298889Z",
     "iopub.status.idle": "2022-06-07T14:05:29.658750Z",
     "shell.execute_reply": "2022-06-07T14:05:29.658414Z",
     "shell.execute_reply.started": "2022-06-07T14:02:34.299538Z"
    },
    "tags": []
   },
   "outputs": [
    {
     "name": "stdout",
     "output_type": "stream",
     "text": [
      "in gaussian mechanism GridSearchCV\n",
      "Fitting 2 folds for each of 10 candidates, totalling 20 fits\n",
      "[CV 1/2] END ...criterion=entropy, max_depth=40;, score=0.567 total time= 2.7min\n",
      "[CV 2/2] END ...criterion=entropy, max_depth=40;, score=0.573 total time= 2.5min\n",
      "[CV 1/2] END ...criterion=entropy, max_depth=52;, score=0.568 total time= 2.7min\n",
      "[CV 2/2] END ...criterion=entropy, max_depth=52;, score=0.575 total time= 2.5min\n",
      "[CV 1/2] END ...criterion=entropy, max_depth=64;, score=0.569 total time= 3.8min\n",
      "[CV 2/2] END ...criterion=entropy, max_depth=64;, score=0.570 total time= 2.6min\n",
      "[CV 1/2] END ...criterion=entropy, max_depth=76;, score=0.569 total time= 2.7min\n",
      "[CV 2/2] END ...criterion=entropy, max_depth=76;, score=0.568 total time= 2.6min\n",
      "[CV 1/2] END ...criterion=entropy, max_depth=88;, score=0.567 total time= 3.0min\n",
      "[CV 2/2] END ...criterion=entropy, max_depth=88;, score=0.572 total time= 2.8min\n",
      "[CV 1/2] END ......criterion=gini, max_depth=40;, score=0.565 total time= 2.4min\n",
      "[CV 2/2] END ......criterion=gini, max_depth=40;, score=0.575 total time= 1.9min\n",
      "[CV 1/2] END ......criterion=gini, max_depth=52;, score=0.563 total time= 2.4min\n",
      "[CV 2/2] END ......criterion=gini, max_depth=52;, score=0.578 total time= 2.3min\n",
      "[CV 1/2] END ......criterion=gini, max_depth=64;, score=0.562 total time= 2.8min\n",
      "[CV 2/2] END ......criterion=gini, max_depth=64;, score=0.569 total time= 3.5min\n",
      "[CV 1/2] END ......criterion=gini, max_depth=76;, score=0.562 total time= 4.3min\n",
      "[CV 2/2] END ......criterion=gini, max_depth=76;, score=0.574 total time= 3.8min\n",
      "[CV 1/2] END ......criterion=gini, max_depth=88;, score=0.558 total time= 4.5min\n",
      "[CV 2/2] END ......criterion=gini, max_depth=88;, score=0.572 total time= 4.5min\n"
     ]
    },
    {
     "data": {
      "text/plain": [
       "{'criterion': 'entropy', 'max_depth': 52}"
      ]
     },
     "execution_count": 23,
     "metadata": {},
     "output_type": "execute_result"
    }
   ],
   "source": [
    "# Hyperparameter selection on one split\n",
    "X_train, X_val, y_train, y_val = splits[0]\n",
    "gs_cls = MechanizedDecisionTree()\n",
    "gs_cls.choose_mechanism(Mechanism.GAUSSIAN)\n",
    "params_DT = {'criterion': ['entropy','gini'], 'max_depth': np.arange(40, 100, 12)}\n",
    "gs_DT = MechanizedGridSearchCV(estimator=gs_cls, param_grid=params_DT,  cv = 2, verbose=3, scoring='f1_macro')\n",
    "gs_DT.choose_mechanism(Mechanism.GAUSSIAN)\n",
    "gs_DT.fit(X_train, y_train)\n",
    "gs_DT.best_params_"
   ]
  },
  {
   "cell_type": "code",
   "execution_count": 24,
   "id": "5ae95aca-6442-47fb-b51b-98fcb68ddd66",
   "metadata": {
    "execution": {
     "iopub.execute_input": "2022-06-07T14:05:29.659378Z",
     "iopub.status.busy": "2022-06-07T14:05:29.659305Z",
     "iopub.status.idle": "2022-06-07T14:06:07.201574Z",
     "shell.execute_reply": "2022-06-07T14:06:07.200953Z",
     "shell.execute_reply.started": "2022-06-07T14:05:29.659369Z"
    },
    "tags": []
   },
   "outputs": [
    {
     "name": "stdout",
     "output_type": "stream",
     "text": [
      "Split 0:\n",
      "in gaussian mechanism MechanizedDecisionTree\n",
      "  F1 score: 0.5389898240570858\n",
      "  Accuracy: 0.632408359027064\n",
      "  ROC/AUC score: 0.6205651675222208\n",
      "Split 1:\n",
      "in gaussian mechanism MechanizedDecisionTree\n",
      "  F1 score: 0.6284014927034313\n",
      "  Accuracy: 0.6723192874272012\n",
      "  ROC/AUC score: 0.7046082542111098\n",
      "Split 2:\n",
      "in gaussian mechanism MechanizedDecisionTree\n",
      "  F1 score: 0.5547975456679552\n",
      "  Accuracy: 0.6555327166837959\n",
      "  ROC/AUC score: 0.646509142785851\n",
      "Split 3:\n",
      "in gaussian mechanism MechanizedDecisionTree\n"
     ]
    }
   ],
   "source": [
    "# Let us now compute performance metrics.\n",
    "for i, (X_train, X_val, y_train, y_val) in enumerate(splits):\n",
    "    print(f\"Split {i}:\")\n",
    "    # Train model\n",
    "    model = MechanizedDecisionTree(**gs_DT.best_params_)\n",
    "    model.choose_mechanism(Mechanism.GAUSSIAN)\n",
    "    model.fit(X_train, y_train)\n",
    "    # Predict\n",
    "    y_pred = model.predict(X_val)\n",
    "    y_proba = model.predict_proba(X_val)\n",
    "    # Compute and append f1, accuracy, confusion matrix; \n",
    "    f1_scores.append(f1_score(y_val, y_pred, average='macro'))\n",
    "    acc_scores.append(accuracy_score(y_val, y_pred))\n",
    "    roc_auc_scores.append(roc_auc_score(y_val, y_proba[:, 1]))\n",
    "    print(f\"  F1 score: {f1_scores[-1]}\")\n",
    "    print(f\"  Accuracy: {acc_scores[-1]}\")\n",
    "    print(f\"  ROC/AUC score: {roc_auc_scores[-1]}\")\n",
    "    conf_matrices.append(confusion_matrix(y_val, y_pred))\n",
    "    models.append(model)\n",
    "print(f\"Average F1 score: {np.average(f1_scores)}\")\n",
    "print(f\"Average accuracy: {np.average(acc_scores)}\")\n",
    "print(f\"Average ROC/AUC score: {np.average(roc_auc_scores)}\")"
   ]
  },
  {
   "cell_type": "code",
   "execution_count": null,
   "id": "aaa88fce-2cd1-4ce5-b089-38836be22d36",
   "metadata": {
    "execution": {
     "iopub.execute_input": "2022-06-07T14:06:07.202997Z",
     "iopub.status.busy": "2022-06-07T14:06:07.202841Z",
     "iopub.status.idle": "2022-06-07T14:06:07.275620Z",
     "shell.execute_reply": "2022-06-07T14:06:07.275214Z",
     "shell.execute_reply.started": "2022-06-07T14:06:07.202981Z"
    },
    "tags": []
   },
   "outputs": [
    {
     "data": {
      "text/plain": [
       "Text(33.0, 0.5, 'True label')"
      ]
     },
     "execution_count": 51,
     "metadata": {},
     "output_type": "execute_result"
    },
    {
     "data": {
      "image/png": "[encoded data removed]",
      "text/plain": [
       "<Figure size 432x288 with 2 Axes>"
      ]
     },
     "metadata": {
      "needs_background": "light"
     },
     "output_type": "display_data"
    }
   ],
   "source": [
    "sns.heatmap(sum(conf_matrices), annot=True, cmap=\"Blues\", fmt=\"d\")\n",
    "plt.xlabel('Predicted label'); plt.ylabel('True label')"
   ]
  },
  {
   "cell_type": "code",
   "execution_count": null,
   "id": "b574df8b-e7a1-423e-9493-39f583aa23ce",
   "metadata": {
    "execution": {
     "iopub.execute_input": "2022-06-07T14:06:07.276538Z",
     "iopub.status.busy": "2022-06-07T14:06:07.276385Z",
     "iopub.status.idle": "2022-06-07T14:06:07.355933Z",
     "shell.execute_reply": "2022-06-07T14:06:07.355461Z",
     "shell.execute_reply.started": "2022-06-07T14:06:07.276526Z"
    },
    "tags": []
   },
   "outputs": [
    {
     "data": {
      "text/plain": [
       "Text(33.0, 0.5, 'True label')"
      ]
     },
     "execution_count": 52,
     "metadata": {},
     "output_type": "execute_result"
    },
    {
     "data": {
      "image/png": "[encoded data removed]",
      "text/plain": [
       "<Figure size 432x288 with 2 Axes>"
      ]
     },
     "metadata": {
      "needs_background": "light"
     },
     "output_type": "display_data"
    }
   ],
   "source": [
    "# With percentages instead\n",
    "sns.heatmap(sum(conf_matrices)/np.sum(sum(conf_matrices)), \n",
    "            annot=True, cmap=\"Blues\", fmt=\".2%\")\n",
    "plt.xlabel('Predicted label'); plt.ylabel('True label')"
   ]
  },
  {
   "cell_type": "code",
   "execution_count": null,
   "id": "7268a546-c040-411a-bc44-e650857a5ba0",
   "metadata": {
    "execution": {
     "iopub.execute_input": "2022-06-07T14:06:07.356868Z",
     "iopub.status.busy": "2022-06-07T14:06:07.356703Z",
     "iopub.status.idle": "2022-06-07T14:06:15.932994Z",
     "shell.execute_reply": "2022-06-07T14:06:15.932556Z",
     "shell.execute_reply.started": "2022-06-07T14:06:07.356845Z"
    },
    "tags": []
   },
   "outputs": [
    {
     "data": {
      "text/plain": [
       "DecisionTreeClassifier(max_depth=40)"
      ]
     },
     "execution_count": 53,
     "metadata": {},
     "output_type": "execute_result"
    }
   ],
   "source": [
    "# Training on a new 80-20 split to draw ROC curve\n",
    "X_train, X_val, y_train, y_val = train_test_split(X, y, test_size=0.2)\n",
    "X_train.reset_index(drop=True, inplace=True)\n",
    "y_train.reset_index(drop=True, inplace=True)\n",
    "X_val.reset_index(drop=True, inplace=True)\n",
    "y_val.reset_index(drop=True, inplace=True)\n",
    "model = MechanizedDecisionTree(**gs_DT.best_params_)\n",
    "model.choose_mechanism(Mechanism.GAUSSIAN)\n",
    "model.fit(X_train, y_train)"
   ]
  },
  {
   "cell_type": "code",
   "execution_count": null,
   "id": "4be999d4-c93a-4af6-866a-03edef69bfff",
   "metadata": {
    "execution": {
     "iopub.execute_input": "2022-06-07T14:06:15.933567Z",
     "iopub.status.busy": "2022-06-07T14:06:15.933505Z",
     "iopub.status.idle": "2022-06-07T14:06:16.202949Z",
     "shell.execute_reply": "2022-06-07T14:06:16.202509Z",
     "shell.execute_reply.started": "2022-06-07T14:06:15.933557Z"
    },
    "tags": []
   },
   "outputs": [
    {
     "data": {
      "text/plain": [
       "[<matplotlib.lines.Line2D at 0x281b72ee0>]"
      ]
     },
     "execution_count": 54,
     "metadata": {},
     "output_type": "execute_result"
    },
    {
     "data": {
      "image/png": "[encoded data removed]",
      "text/plain": [
       "<Figure size 432x288 with 1 Axes>"
      ]
     },
     "metadata": {
      "needs_background": "light"
     },
     "output_type": "display_data"
    }
   ],
   "source": [
    "# Display ROC curve\n",
    "RocCurveDisplay.from_predictions(y_val, model.predict_proba(X_val)[:, 1], color='orange')\n",
    "plt.xlim([0, 1]); plt.ylim([0, 1.05])\n",
    "plt.plot([0, 1], [0, 1], 'k--')"
   ]
  },
  {
   "cell_type": "markdown",
   "id": "39074c73-6393-46e7-b68b-77c9f77b9d0f",
   "metadata": {},
   "source": [
    "Time to pick the best model, predict on test and save."
   ]
  },
  {
   "cell_type": "code",
   "execution_count": null,
   "id": "5236af74-1ee0-460d-b97c-a4d76115a965",
   "metadata": {
    "execution": {
     "iopub.execute_input": "2022-06-07T14:06:16.210416Z",
     "iopub.status.busy": "2022-06-07T14:06:16.210288Z",
     "iopub.status.idle": "2022-06-07T14:06:40.053132Z",
     "shell.execute_reply": "2022-06-07T14:06:40.045200Z",
     "shell.execute_reply.started": "2022-06-07T14:06:16.210407Z"
    }
   },
   "outputs": [
    {
     "data": {
      "text/plain": [
       "LogisticRegression(C=5.011872336272722, max_iter=1500)"
      ]
     },
     "execution_count": 57,
     "metadata": {},
     "output_type": "execute_result"
    }
   ],
   "source": [
    "model2 = LogisticRegression(C=5.011872336272722, max_iter=1500)\n",
    "model2.fit(X, y)"
   ]
  },
  {
   "cell_type": "code",
   "execution_count": null,
   "id": "a09539a6-ea67-480e-a2be-70e2b25be491",
   "metadata": {
    "execution": {
     "iopub.execute_input": "2022-06-07T14:07:06.489165Z",
     "iopub.status.busy": "2022-06-07T14:07:06.488415Z",
     "iopub.status.idle": "2022-06-07T14:07:06.497475Z",
     "shell.execute_reply": "2022-06-07T14:07:06.494788Z",
     "shell.execute_reply.started": "2022-06-07T14:07:06.489107Z"
    },
    "tags": []
   },
   "outputs": [],
   "source": [
    "# # Extra testing\n",
    "# (X_train, X_val, y_train, y_val) = splits[np.argmax(f1_scores) % 5]\n",
    "# f1_score(y_val, (model2.predict_proba(X_val) >= 0.54)[:, 1].astype(int), average='macro')"
   ]
  },
  {
   "cell_type": "code",
   "execution_count": null,
   "id": "d9a9e832-37a4-4f64-bd38-a5575c51d077",
   "metadata": {
    "execution": {
     "iopub.execute_input": "2022-06-07T14:07:08.561544Z",
     "iopub.status.busy": "2022-06-07T14:07:08.561221Z",
     "iopub.status.idle": "2022-06-07T14:07:10.199181Z",
     "shell.execute_reply": "2022-06-07T14:07:10.198927Z",
     "shell.execute_reply.started": "2022-06-07T14:07:08.561519Z"
    },
    "tags": []
   },
   "outputs": [],
   "source": [
    "# Preprocessing\n",
    "proc_test_df = apply_tfidf(preprocess(test_df), r_vectorizer, s_vectorizer)\n",
    "proc_test_df = pd.DataFrame(scaler.transform(proc_test_df), columns=proc_test_df.columns, index=proc_test_df.index)[relcols]"
   ]
  },
  {
   "cell_type": "code",
   "execution_count": null,
   "id": "c3e12937-e3e7-4983-80d9-7659510459bd",
   "metadata": {
    "execution": {
     "iopub.execute_input": "2022-06-07T14:07:12.762920Z",
     "iopub.status.busy": "2022-06-07T14:07:12.761959Z",
     "iopub.status.idle": "2022-06-07T14:07:12.839908Z",
     "shell.execute_reply": "2022-06-07T14:07:12.839176Z",
     "shell.execute_reply.started": "2022-06-07T14:07:12.762861Z"
    },
    "tags": []
   },
   "outputs": [],
   "source": [
    "# Predict on test and save as .csv\n",
    "proc_test_df['predicted'] = model2.predict(proc_test_df)\n",
    "# proc_test_df['predicted'] = (model2.predict_proba(proc_test_df) >= 0.54)[:, 1].astype(int) # yields better F1 score!\n",
    "proc_test_df = proc_test_df.reset_index()[['index', 'predicted']]\n",
    "proc_test_df.rename(columns={'index': 'id'}).to_csv('task12.csv', index=False)"
   ]
  },
  {
   "attachments": {},
   "cell_type": "markdown",
   "id": "891e3c69-0171-475e-ab5c-678751d5b73b",
   "metadata": {},
   "source": [
    "# Processing the data - II"
   ]
  },
  {
   "cell_type": "code",
   "execution_count": null,
   "id": "3740cd82-ad9c-4fc3-bf1e-3d444582551b",
   "metadata": {
    "execution": {
     "iopub.execute_input": "2022-06-07T14:08:04.194130Z",
     "iopub.status.busy": "2022-06-07T14:08:04.193644Z",
     "iopub.status.idle": "2022-06-07T14:08:54.344732Z",
     "shell.execute_reply": "2022-06-07T14:08:54.344066Z",
     "shell.execute_reply.started": "2022-06-07T14:08:04.194085Z"
    },
    "tags": []
   },
   "outputs": [],
   "source": [
    "# Preprocessing of training data\n",
    "proc_training_df = apply_cutoff(preprocess(training_df), 3)\n",
    "\n",
    "# Set cutoff to be the label; define X and y accordingly\n",
    "X = proc_training_df.drop('cutoff', axis=1)\n",
    "y = proc_training_df['cutoff']\n",
    "\n",
    "# Fit TF-IDF vectorizer for 'reviewText' and 'summary' features, creating max. 11500 features.\n",
    "r_vectorizer = TfidfVectorizer(max_features=11500, stop_words='english', ngram_range=(1, 3))\n",
    "s_vectorizer = TfidfVectorizer(max_features=11500, stop_words='english', ngram_range=(1, 3))\n",
    "r_vectorizer.fit(X.reviewText)\n",
    "s_vectorizer.fit(X.summary)\n",
    "\n",
    "# Apply TF-IDF vectorization \n",
    "X = apply_tfidf(X, r_vectorizer, s_vectorizer)\n",
    "\n",
    "# Apply robust scaling\n",
    "scaler = preprocessing.RobustScaler()\n",
    "X = pd.DataFrame(scaler.fit_transform(X), columns=X.columns, index=X.index)\n",
    "\n",
    "# Let us reduce the number of features by eliminating the statistically least correlated ones.\n",
    "relcols = X.columns[abs(X.corrwith(y)) > 0.01]\n",
    "X = X[relcols]\n",
    "\n",
    "# 5-fold cross validation\n",
    "kf = KFold(n_splits=5, shuffle=True, random_state=42)\n",
    "splits = []\n",
    "for train_idx, val_idx in kf.split(X, y):\n",
    "    # Apply split\n",
    "    X_train, X_val = X.iloc[train_idx], X.iloc[val_idx]\n",
    "    y_train, y_val = y.iloc[train_idx], y.iloc[val_idx]\n",
    "    \n",
    "    # Reset indices\n",
    "    X_train.reset_index(drop=True, inplace=True)\n",
    "    y_train.reset_index(drop=True, inplace=True)\n",
    "    X_val.reset_index(drop=True, inplace=True)\n",
    "    y_val.reset_index(drop=True, inplace=True)\n",
    "    splits.append((X_train, X_val, y_train, y_val))\n",
    "f1_scores, acc_scores, roc_auc_scores, conf_matrices, models = [], [], [], [], []"
   ]
  },
  {
   "attachments": {},
   "cell_type": "markdown",
   "id": "5edaac24-8c53-46b3-b620-d5d9ccc85c91",
   "metadata": {},
   "source": [
    "## Mechanized Decision Tree Classifier"
   ]
  },
  {
   "cell_type": "code",
   "execution_count": null,
   "id": "3951113d-c9b3-474d-a8c0-df7089143847",
   "metadata": {
    "execution": {
     "iopub.execute_input": "2022-06-07T14:18:57.791463Z",
     "iopub.status.busy": "2022-06-07T14:18:57.780893Z",
     "iopub.status.idle": "2022-06-07T14:22:06.824061Z",
     "shell.execute_reply": "2022-06-07T14:22:06.823743Z",
     "shell.execute_reply.started": "2022-06-07T14:18:57.791429Z"
    },
    "tags": []
   },
   "outputs": [
    {
     "name": "stdout",
     "output_type": "stream",
     "text": [
      "Fitting 3 folds for each of 10 candidates, totalling 30 fits\n",
      "[CV 1/3] END ...criterion=entropy, max_depth=40;, score=0.642 total time=   4.7s\n",
      "[CV 2/3] END ...criterion=entropy, max_depth=40;, score=0.687 total time=   4.7s\n",
      "[CV 3/3] END ...criterion=entropy, max_depth=40;, score=0.681 total time=   5.2s\n",
      "[CV 1/3] END ...criterion=entropy, max_depth=52;, score=0.649 total time=   5.0s\n",
      "[CV 2/3] END ...criterion=entropy, max_depth=52;, score=0.691 total time=   5.6s\n",
      "[CV 3/3] END ...criterion=entropy, max_depth=52;, score=0.678 total time=   5.7s\n",
      "[CV 1/3] END ...criterion=entropy, max_depth=64;, score=0.649 total time=   5.5s\n",
      "[CV 2/3] END ...criterion=entropy, max_depth=64;, score=0.692 total time=   6.2s\n",
      "[CV 3/3] END ...criterion=entropy, max_depth=64;, score=0.684 total time=   5.9s\n",
      "[CV 1/3] END ...criterion=entropy, max_depth=76;, score=0.651 total time=   5.7s\n",
      "[CV 2/3] END ...criterion=entropy, max_depth=76;, score=0.690 total time=   6.4s\n",
      "[CV 3/3] END ...criterion=entropy, max_depth=76;, score=0.688 total time=   6.3s\n",
      "[CV 1/3] END ...criterion=entropy, max_depth=88;, score=0.654 total time=   6.1s\n",
      "[CV 2/3] END ...criterion=entropy, max_depth=88;, score=0.685 total time=   6.7s\n",
      "[CV 3/3] END ...criterion=entropy, max_depth=88;, score=0.686 total time=   6.7s\n",
      "[CV 1/3] END ......criterion=gini, max_depth=40;, score=0.650 total time=   4.3s\n",
      "[CV 2/3] END ......criterion=gini, max_depth=40;, score=0.697 total time=   4.7s\n",
      "[CV 3/3] END ......criterion=gini, max_depth=40;, score=0.692 total time=   4.8s\n",
      "[CV 1/3] END ......criterion=gini, max_depth=52;, score=0.655 total time=   5.1s\n",
      "[CV 2/3] END ......criterion=gini, max_depth=52;, score=0.695 total time=   5.7s\n",
      "[CV 3/3] END ......criterion=gini, max_depth=52;, score=0.691 total time=   5.6s\n",
      "[CV 1/3] END ......criterion=gini, max_depth=64;, score=0.658 total time=   5.7s\n",
      "[CV 2/3] END ......criterion=gini, max_depth=64;, score=0.690 total time=   6.5s\n",
      "[CV 3/3] END ......criterion=gini, max_depth=64;, score=0.683 total time=   6.3s\n",
      "[CV 1/3] END ......criterion=gini, max_depth=76;, score=0.664 total time=   6.3s\n",
      "[CV 2/3] END ......criterion=gini, max_depth=76;, score=0.693 total time=   7.1s\n",
      "[CV 3/3] END ......criterion=gini, max_depth=76;, score=0.690 total time=   6.9s\n",
      "[CV 1/3] END ......criterion=gini, max_depth=88;, score=0.656 total time=   6.8s\n",
      "[CV 2/3] END ......criterion=gini, max_depth=88;, score=0.695 total time=   7.8s\n",
      "[CV 3/3] END ......criterion=gini, max_depth=88;, score=0.691 total time=   7.6s\n"
     ]
    },
    {
     "data": {
      "text/plain": [
       "{'criterion': 'gini', 'max_depth': 76}"
      ]
     },
     "execution_count": 74,
     "metadata": {},
     "output_type": "execute_result"
    }
   ],
   "source": [
    "# Hyperparameter selection on one split\n",
    "X_train, X_val, y_train, y_val = splits[0]\n",
    "gs_cls = MechanizedDecisionTree()\n",
    "gs_cls.choose_mechanism(Mechanism.GAUSSIAN)\n",
    "params_DT = {'criterion': ['entropy','gini'], 'max_depth': np.arange(40, 100, 12)}\n",
    "gs_DT = MechanizedGridSearchCV(estimator=gs_cls, param_grid=params_DT,  cv = 2, verbose=3, scoring='f1_macro')\n",
    "gs_DT.choose_mechanism(Mechanism.GAUSSIAN)\n",
    "gs_DT.fit(X_train, y_train)\n",
    "gs_DT.best_params_"
   ]
  },
  {
   "cell_type": "code",
   "execution_count": null,
   "id": "233968af-340e-4cb6-a8d5-25ebbdddbd55",
   "metadata": {
    "execution": {
     "iopub.execute_input": "2022-06-07T14:22:06.824667Z",
     "iopub.status.busy": "2022-06-07T14:22:06.824593Z",
     "iopub.status.idle": "2022-06-07T14:23:04.445412Z",
     "shell.execute_reply": "2022-06-07T14:23:04.444875Z",
     "shell.execute_reply.started": "2022-06-07T14:22:06.824658Z"
    },
    "tags": []
   },
   "outputs": [
    {
     "name": "stdout",
     "output_type": "stream",
     "text": [
      "Split 0:\n",
      "  F1 score: 0.6964286545159137\n",
      "  Accuracy: 0.7166837958204865\n",
      "  ROC/AUC score: 0.6929747783138203\n",
      "Split 1:\n",
      "  F1 score: 0.7075734017935197\n",
      "  Accuracy: 0.7281603288797533\n",
      "  ROC/AUC score: 0.6968208232927531\n",
      "Split 2:\n",
      "  F1 score: 0.6953663022529277\n",
      "  Accuracy: 0.7158273381294964\n",
      "  ROC/AUC score: 0.6825747551393442\n",
      "Split 3:\n",
      "  F1 score: 0.6802179453600354\n",
      "  Accuracy: 0.7019527235354573\n",
      "  ROC/AUC score: 0.6621711679596989\n",
      "Split 4:\n",
      "  F1 score: 0.6940791849663427\n",
      "  Accuracy: 0.7145794072297413\n",
      "  ROC/AUC score: 0.6819709005903037\n",
      "Average F1 score: 0.7853993115993955\n",
      "Average accuracy: 0.7975262473395816\n",
      "Average ROC/AUC score: 0.8293062224516525\n"
     ]
    }
   ],
   "source": [
    "# Let us now compute performance metrics.\n",
    "for i, (X_train, X_val, y_train, y_val) in enumerate(splits):\n",
    "    print(f\"Split {i}:\")\n",
    "    # Train model\n",
    "    model = MechanizedDecisionTree(**gs_DT.best_params_)\n",
    "    model.choose_mechanism(Mechanism.GAUSSIAN)\n",
    "    model.fit(X_train, y_train)\n",
    "    # Predict\n",
    "    y_pred = model.predict(X_val)\n",
    "    y_proba = model.predict_proba(X_val)\n",
    "    # Compute and append f1, accuracy, confusion matrix; \n",
    "    f1_scores.append(f1_score(y_val, y_pred, average='macro'))\n",
    "    acc_scores.append(accuracy_score(y_val, y_pred))\n",
    "    roc_auc_scores.append(roc_auc_score(y_val, y_proba[:, 1]))\n",
    "    print(f\"  F1 score: {f1_scores[-1]}\")\n",
    "    print(f\"  Accuracy: {acc_scores[-1]}\")\n",
    "    print(f\"  ROC/AUC score: {roc_auc_scores[-1]}\")\n",
    "    conf_matrices.append(confusion_matrix(y_val, y_pred))\n",
    "    models.append(model)\n",
    "print(f\"Average F1 score: {np.average(f1_scores)}\")\n",
    "print(f\"Average accuracy: {np.average(acc_scores)}\")\n",
    "print(f\"Average ROC/AUC score: {np.average(roc_auc_scores)}\")"
   ]
  },
  {
   "cell_type": "code",
   "execution_count": null,
   "id": "bd98af22-cabe-429d-832c-8fbbe162a458",
   "metadata": {
    "execution": {
     "iopub.execute_input": "2022-06-07T14:23:04.447135Z",
     "iopub.status.busy": "2022-06-07T14:23:04.446832Z",
     "iopub.status.idle": "2022-06-07T14:23:04.518622Z",
     "shell.execute_reply": "2022-06-07T14:23:04.518267Z",
     "shell.execute_reply.started": "2022-06-07T14:23:04.447103Z"
    },
    "tags": []
   },
   "outputs": [
    {
     "data": {
      "text/plain": [
       "Text(33.0, 0.5, 'True label')"
      ]
     },
     "execution_count": 76,
     "metadata": {},
     "output_type": "execute_result"
    },
    {
     "data": {
      "image/png": "[encoded data removed]",
      "text/plain": [
       "<Figure size 432x288 with 2 Axes>"
      ]
     },
     "metadata": {
      "needs_background": "light"
     },
     "output_type": "display_data"
    }
   ],
   "source": [
    "sns.heatmap(sum(conf_matrices), annot=True, cmap=\"Blues\", fmt=\"d\")\n",
    "plt.xlabel('Predicted label'); plt.ylabel('True label')"
   ]
  },
  {
   "cell_type": "code",
   "execution_count": null,
   "id": "caf588df-0ea9-49bf-a2ba-973dd1c8251a",
   "metadata": {
    "execution": {
     "iopub.execute_input": "2022-06-07T14:23:04.519810Z",
     "iopub.status.busy": "2022-06-07T14:23:04.519713Z",
     "iopub.status.idle": "2022-06-07T14:23:04.580884Z",
     "shell.execute_reply": "2022-06-07T14:23:04.580537Z",
     "shell.execute_reply.started": "2022-06-07T14:23:04.519798Z"
    },
    "tags": []
   },
   "outputs": [
    {
     "data": {
      "text/plain": [
       "Text(33.0, 0.5, 'True label')"
      ]
     },
     "execution_count": 77,
     "metadata": {},
     "output_type": "execute_result"
    },
    {
     "data": {
      "image/png": "[encoded data removed]",
      "text/plain": [
       "<Figure size 432x288 with 2 Axes>"
      ]
     },
     "metadata": {
      "needs_background": "light"
     },
     "output_type": "display_data"
    }
   ],
   "source": [
    "# With percentages instead\n",
    "sns.heatmap(sum(conf_matrices)/np.sum(sum(conf_matrices)), \n",
    "            annot=True, cmap=\"Blues\", fmt=\".2%\")\n",
    "plt.xlabel('Predicted label'); plt.ylabel('True label')"
   ]
  },
  {
   "cell_type": "code",
   "execution_count": null,
   "id": "42f8b315-36f3-4ccd-bb73-a8af7e2a0c28",
   "metadata": {
    "execution": {
     "iopub.execute_input": "2022-06-07T14:23:04.581477Z",
     "iopub.status.busy": "2022-06-07T14:23:04.581400Z",
     "iopub.status.idle": "2022-06-07T14:23:17.667893Z",
     "shell.execute_reply": "2022-06-07T14:23:17.667477Z",
     "shell.execute_reply.started": "2022-06-07T14:23:04.581467Z"
    },
    "tags": []
   },
   "outputs": [
    {
     "data": {
      "text/plain": [
       "DecisionTreeClassifier(max_depth=76)"
      ]
     },
     "execution_count": 78,
     "metadata": {},
     "output_type": "execute_result"
    }
   ],
   "source": [
    "# Training on a new 80-20 split to draw ROC curve\n",
    "X_train, X_val, y_train, y_val = train_test_split(X, y, test_size=0.2)\n",
    "X_train.reset_index(drop=True, inplace=True)\n",
    "y_train.reset_index(drop=True, inplace=True)\n",
    "X_val.reset_index(drop=True, inplace=True)\n",
    "y_val.reset_index(drop=True, inplace=True)\n",
    "model = MechanizedDecisionTree(**gs_DT.best_params_)\n",
    "model.choose_mechanism(Mechanism.GAUSSIAN)\n",
    "model.fit(X_train, y_train)"
   ]
  },
  {
   "cell_type": "code",
   "execution_count": null,
   "id": "0b164d50-fedb-45f3-80be-0a00764c8038",
   "metadata": {
    "execution": {
     "iopub.execute_input": "2022-06-07T14:23:17.668680Z",
     "iopub.status.busy": "2022-06-07T14:23:17.668567Z",
     "iopub.status.idle": "2022-06-07T14:23:17.792295Z",
     "shell.execute_reply": "2022-06-07T14:23:17.791913Z",
     "shell.execute_reply.started": "2022-06-07T14:23:17.668671Z"
    },
    "tags": []
   },
   "outputs": [
    {
     "data": {
      "text/plain": [
       "[<matplotlib.lines.Line2D at 0x2813bc8b0>]"
      ]
     },
     "execution_count": 79,
     "metadata": {},
     "output_type": "execute_result"
    },
    {
     "data": {
      "image/png": "[encoded data removed]",
      "text/plain": [
       "<Figure size 432x288 with 1 Axes>"
      ]
     },
     "metadata": {
      "needs_background": "light"
     },
     "output_type": "display_data"
    }
   ],
   "source": [
    "# Display ROC curve\n",
    "RocCurveDisplay.from_predictions(y_val, model.predict_proba(X_val)[:, 1], color='orange')\n",
    "plt.xlim([0, 1]); plt.ylim([0, 1.05])\n",
    "plt.plot([0, 1], [0, 1], 'k--')"
   ]
  },
  {
   "cell_type": "markdown",
   "id": "2eb91a02-8231-4840-ac24-5566091d08f0",
   "metadata": {},
   "source": [
    "Time to pick the best model, predict on test and save."
   ]
  },
  {
   "cell_type": "code",
   "execution_count": null,
   "id": "30291074-fa56-4778-a3e7-e7c7817e7276",
   "metadata": {
    "execution": {
     "iopub.execute_input": "2022-06-07T14:32:20.677508Z",
     "iopub.status.busy": "2022-06-07T14:32:20.676748Z",
     "iopub.status.idle": "2022-06-07T14:32:50.736605Z",
     "shell.execute_reply": "2022-06-07T14:32:50.733846Z",
     "shell.execute_reply.started": "2022-06-07T14:32:20.677421Z"
    },
    "tags": []
   },
   "outputs": [
    {
     "data": {
      "text/plain": [
       "LogisticRegression(C=5.011872336272722, max_iter=1500)"
      ]
     },
     "execution_count": 82,
     "metadata": {},
     "output_type": "execute_result"
    }
   ],
   "source": [
    "# This model seems to perform better on the public test data.\n",
    "model3 = LogisticRegression(C=5.011872336272722, max_iter=1500)\n",
    "model3.fit(X, y)"
   ]
  },
  {
   "cell_type": "code",
   "execution_count": null,
   "id": "5f8f1714-5f26-4082-86cc-032b5744a833",
   "metadata": {
    "execution": {
     "iopub.execute_input": "2022-06-07T14:33:29.416646Z",
     "iopub.status.busy": "2022-06-07T14:33:29.415864Z",
     "iopub.status.idle": "2022-06-07T14:33:31.151574Z",
     "shell.execute_reply": "2022-06-07T14:33:31.151229Z",
     "shell.execute_reply.started": "2022-06-07T14:33:29.416586Z"
    },
    "tags": []
   },
   "outputs": [],
   "source": [
    "# Preprocessing\n",
    "proc_test_df = apply_tfidf(preprocess(test_df), r_vectorizer, s_vectorizer)\n",
    "proc_test_df = pd.DataFrame(scaler.transform(proc_test_df), columns=proc_test_df.columns, index=proc_test_df.index)[relcols]"
   ]
  },
  {
   "cell_type": "code",
   "execution_count": null,
   "id": "c2dec104-2fe6-412c-9e0b-d9203ce6c8bb",
   "metadata": {
    "execution": {
     "iopub.execute_input": "2022-06-07T14:33:38.545892Z",
     "iopub.status.busy": "2022-06-07T14:33:38.545399Z",
     "iopub.status.idle": "2022-06-07T14:33:38.636483Z",
     "shell.execute_reply": "2022-06-07T14:33:38.635643Z",
     "shell.execute_reply.started": "2022-06-07T14:33:38.545846Z"
    },
    "tags": []
   },
   "outputs": [],
   "source": [
    "# Predict on test and save as .csv\n",
    "proc_test_df['predicted'] = model3.predict(proc_test_df)\n",
    "proc_test_df = proc_test_df.reset_index()[['index', 'predicted']]\n",
    "proc_test_df.rename(columns={'index': 'id'}).to_csv('task13.csv', index=False)"
   ]
  },
  {
   "attachments": {},
   "cell_type": "markdown",
   "id": "5d7fa682-2fe4-473d-b85f-838038c3a0f9",
   "metadata": {},
   "source": [
    "# Processing the data - IV"
   ]
  },
  {
   "cell_type": "code",
   "execution_count": null,
   "id": "0369de1e-1e0b-47ee-8f72-a7d42aed0fb5",
   "metadata": {
    "execution": {
     "iopub.execute_input": "2022-06-07T14:34:22.297896Z",
     "iopub.status.busy": "2022-06-07T14:34:22.297105Z",
     "iopub.status.idle": "2022-06-07T14:35:11.034640Z",
     "shell.execute_reply": "2022-06-07T14:35:11.033669Z",
     "shell.execute_reply.started": "2022-06-07T14:34:22.297816Z"
    },
    "tags": []
   },
   "outputs": [],
   "source": [
    "# Preprocessing of training data\n",
    "proc_training_df = apply_cutoff(preprocess(training_df), 4)\n",
    "\n",
    "# Set cutoff to be the label; define X and y accordingly\n",
    "X = proc_training_df.drop('cutoff', axis=1)\n",
    "y = proc_training_df['cutoff']\n",
    "\n",
    "# Fit TF-IDF vectorizer for 'reviewText' and 'summary' features, creating max. 11500 features.\n",
    "r_vectorizer = TfidfVectorizer(max_features=11500, stop_words='english', ngram_range=(1, 3))\n",
    "s_vectorizer = TfidfVectorizer(max_features=11500, stop_words='english', ngram_range=(1, 3))\n",
    "r_vectorizer.fit(X.reviewText)\n",
    "s_vectorizer.fit(X.summary)\n",
    "\n",
    "# Apply TF-IDF vectorization \n",
    "X = apply_tfidf(X, r_vectorizer, s_vectorizer)\n",
    "\n",
    "# Apply robust scaling\n",
    "scaler = preprocessing.RobustScaler()\n",
    "X = pd.DataFrame(scaler.fit_transform(X), columns=X.columns, index=X.index)\n",
    "\n",
    "# Let us reduce the number of features by eliminating the statistically least correlated ones.\n",
    "relcols = X.columns[abs(X.corrwith(y)) > 0.01]\n",
    "X = X[relcols]\n",
    "\n",
    "# 5-fold cross validation\n",
    "kf = KFold(n_splits=5, shuffle=True, random_state=42)\n",
    "splits = []\n",
    "for train_idx, val_idx in kf.split(X, y):\n",
    "    # Apply split\n",
    "    X_train, X_val = X.iloc[train_idx], X.iloc[val_idx]\n",
    "    y_train, y_val = y.iloc[train_idx], y.iloc[val_idx]\n",
    "    \n",
    "    # Reset indices\n",
    "    X_train.reset_index(drop=True, inplace=True)\n",
    "    y_train.reset_index(drop=True, inplace=True)\n",
    "    X_val.reset_index(drop=True, inplace=True)\n",
    "    y_val.reset_index(drop=True, inplace=True)\n",
    "    splits.append((X_train, X_val, y_train, y_val))\n",
    "f1_scores, acc_scores, roc_auc_scores, conf_matrices, models = [], [], [], [], []"
   ]
  },
  {
   "attachments": {},
   "cell_type": "markdown",
   "id": "78fa7962-8f3e-4c56-8220-3ac73cdf6d87",
   "metadata": {},
   "source": [
    "## Mechanized Decision Tree Classifier"
   ]
  },
  {
   "cell_type": "code",
   "execution_count": null,
   "id": "4a48d5e5-d91a-4c78-8a1c-1d1fa4ad1f87",
   "metadata": {
    "execution": {
     "iopub.execute_input": "2022-06-07T14:43:49.987860Z",
     "iopub.status.busy": "2022-06-07T14:43:49.987139Z",
     "iopub.status.idle": "2022-06-07T14:46:29.757433Z",
     "shell.execute_reply": "2022-06-07T14:46:29.757009Z",
     "shell.execute_reply.started": "2022-06-07T14:43:49.987821Z"
    },
    "tags": []
   },
   "outputs": [
    {
     "name": "stdout",
     "output_type": "stream",
     "text": [
      "Fitting 3 folds for each of 10 candidates, totalling 30 fits\n",
      "[CV 1/3] END ...criterion=entropy, max_depth=40;, score=0.605 total time=   3.7s\n",
      "[CV 2/3] END ...criterion=entropy, max_depth=40;, score=0.657 total time=   3.8s\n",
      "[CV 3/3] END ...criterion=entropy, max_depth=40;, score=0.639 total time=   3.8s\n",
      "[CV 1/3] END ...criterion=entropy, max_depth=52;, score=0.627 total time=   3.9s\n",
      "[CV 2/3] END ...criterion=entropy, max_depth=52;, score=0.641 total time=   4.4s\n",
      "[CV 3/3] END ...criterion=entropy, max_depth=52;, score=0.637 total time=   4.5s\n",
      "[CV 1/3] END ...criterion=entropy, max_depth=64;, score=0.624 total time=   4.5s\n",
      "[CV 2/3] END ...criterion=entropy, max_depth=64;, score=0.656 total time=   4.8s\n",
      "[CV 3/3] END ...criterion=entropy, max_depth=64;, score=0.643 total time=   4.9s\n",
      "[CV 1/3] END ...criterion=entropy, max_depth=76;, score=0.623 total time=   4.7s\n",
      "[CV 2/3] END ...criterion=entropy, max_depth=76;, score=0.647 total time=   5.3s\n",
      "[CV 3/3] END ...criterion=entropy, max_depth=76;, score=0.635 total time=   5.3s\n",
      "[CV 1/3] END ...criterion=entropy, max_depth=88;, score=0.619 total time=   5.0s\n",
      "[CV 2/3] END ...criterion=entropy, max_depth=88;, score=0.653 total time=   5.6s\n",
      "[CV 3/3] END ...criterion=entropy, max_depth=88;, score=0.636 total time=   5.5s\n",
      "[CV 1/3] END ......criterion=gini, max_depth=40;, score=0.627 total time=   3.7s\n",
      "[CV 2/3] END ......criterion=gini, max_depth=40;, score=0.647 total time=   4.7s\n",
      "[CV 3/3] END ......criterion=gini, max_depth=40;, score=0.632 total time=   3.9s\n",
      "[CV 1/3] END ......criterion=gini, max_depth=52;, score=0.630 total time=   4.5s\n",
      "[CV 2/3] END ......criterion=gini, max_depth=52;, score=0.649 total time=   4.7s\n",
      "[CV 3/3] END ......criterion=gini, max_depth=52;, score=0.641 total time=   4.8s\n",
      "[CV 1/3] END ......criterion=gini, max_depth=64;, score=0.628 total time=   5.3s\n",
      "[CV 2/3] END ......criterion=gini, max_depth=64;, score=0.653 total time=   5.5s\n",
      "[CV 3/3] END ......criterion=gini, max_depth=64;, score=0.640 total time=   5.5s\n",
      "[CV 1/3] END ......criterion=gini, max_depth=76;, score=0.631 total time=   6.0s\n",
      "[CV 2/3] END ......criterion=gini, max_depth=76;, score=0.653 total time=   6.4s\n",
      "[CV 3/3] END ......criterion=gini, max_depth=76;, score=0.637 total time=   6.2s\n",
      "[CV 1/3] END ......criterion=gini, max_depth=88;, score=0.631 total time=   6.8s\n",
      "[CV 2/3] END ......criterion=gini, max_depth=88;, score=0.648 total time=   7.2s\n",
      "[CV 3/3] END ......criterion=gini, max_depth=88;, score=0.640 total time=   7.0s\n"
     ]
    },
    {
     "data": {
      "text/plain": [
       "{'criterion': 'entropy', 'max_depth': 64}"
      ]
     },
     "execution_count": 98,
     "metadata": {},
     "output_type": "execute_result"
    }
   ],
   "source": [
    "# Hyperparameter selection on one split\n",
    "X_train, X_val, y_train, y_val = splits[0]\n",
    "gs_cls = MechanizedDecisionTree()\n",
    "gs_cls.choose_mechanism(Mechanism.GAUSSIAN)\n",
    "params_DT = {'criterion': ['entropy','gini'], 'max_depth': np.arange(40, 100, 12)}\n",
    "gs_DT = MechanizedGridSearchCV(estimator=gs_cls, param_grid=params_DT,  cv = 2, verbose=3, scoring='f1_macro')\n",
    "gs_DT.choose_mechanism(Mechanism.GAUSSIAN)\n",
    "gs_DT.fit(X_train, y_train)\n",
    "gs_DT.best_params_"
   ]
  },
  {
   "cell_type": "code",
   "execution_count": null,
   "id": "c2f421d6-89d1-403d-a43a-0645dfc3ed15",
   "metadata": {
    "execution": {
     "iopub.execute_input": "2022-06-07T14:46:29.758659Z",
     "iopub.status.busy": "2022-06-07T14:46:29.758377Z",
     "iopub.status.idle": "2022-06-07T14:47:08.923278Z",
     "shell.execute_reply": "2022-06-07T14:47:08.922941Z",
     "shell.execute_reply.started": "2022-06-07T14:46:29.758641Z"
    },
    "tags": []
   },
   "outputs": [
    {
     "name": "stdout",
     "output_type": "stream",
     "text": [
      "Split 0:\n",
      "  F1 score: 0.6523665371612433\n",
      "  Accuracy: 0.8019869818430969\n",
      "  ROC/AUC score: 0.6626486067196735\n",
      "Split 1:\n",
      "  F1 score: 0.6441563090580416\n",
      "  Accuracy: 0.8004453579993148\n",
      "  ROC/AUC score: 0.6504445860572645\n",
      "Split 2:\n",
      "  F1 score: 0.657025903771099\n",
      "  Accuracy: 0.8054128126070572\n",
      "  ROC/AUC score: 0.6803041347365605\n",
      "Split 3:\n",
      "  F1 score: 0.6405512532578507\n",
      "  Accuracy: 0.7944501541623844\n",
      "  ROC/AUC score: 0.6623286545206735\n",
      "Split 4:\n",
      "  F1 score: 0.6464387506364196\n",
      "  Accuracy: 0.7971560733253383\n",
      "  ROC/AUC score: 0.6517112034282079\n",
      "Average F1 score: 0.7296739456069602\n",
      "Average accuracy: 0.8374843305560646\n",
      "Average ROC/AUC score: 0.8160599663725313\n"
     ]
    }
   ],
   "source": [
    "# Let us now compute performance metrics.\n",
    "for i, (X_train, X_val, y_train, y_val) in enumerate(splits):\n",
    "    print(f\"Split {i}:\")\n",
    "    # Train model\n",
    "    model = MechanizedDecisionTree(**gs_DT.best_params_)\n",
    "    model.choose_mechanism(Mechanism.GAUSSIAN)\n",
    "    model.fit(X_train, y_train)\n",
    "    # Predict\n",
    "    y_pred = model.predict(X_val)\n",
    "    y_proba = model.predict_proba(X_val)\n",
    "    # Compute and append f1, accuracy, confusion matrix; \n",
    "    f1_scores.append(f1_score(y_val, y_pred, average='macro'))\n",
    "    acc_scores.append(accuracy_score(y_val, y_pred))\n",
    "    roc_auc_scores.append(roc_auc_score(y_val, y_proba[:, 1]))\n",
    "    print(f\"  F1 score: {f1_scores[-1]}\")\n",
    "    print(f\"  Accuracy: {acc_scores[-1]}\")\n",
    "    print(f\"  ROC/AUC score: {roc_auc_scores[-1]}\")\n",
    "    conf_matrices.append(confusion_matrix(y_val, y_pred))\n",
    "    models.append(model)\n",
    "print(f\"Average F1 score: {np.average(f1_scores)}\")\n",
    "print(f\"Average accuracy: {np.average(acc_scores)}\")\n",
    "print(f\"Average ROC/AUC score: {np.average(roc_auc_scores)}\")"
   ]
  },
  {
   "cell_type": "code",
   "execution_count": null,
   "id": "d2a42553-63b3-420b-b75c-b2664c3d1cc3",
   "metadata": {
    "execution": {
     "iopub.execute_input": "2022-06-07T14:47:08.924215Z",
     "iopub.status.busy": "2022-06-07T14:47:08.924122Z",
     "iopub.status.idle": "2022-06-07T14:47:08.985342Z",
     "shell.execute_reply": "2022-06-07T14:47:08.984985Z",
     "shell.execute_reply.started": "2022-06-07T14:47:08.924206Z"
    },
    "tags": []
   },
   "outputs": [
    {
     "data": {
      "text/plain": [
       "Text(33.0, 0.5, 'True label')"
      ]
     },
     "execution_count": 100,
     "metadata": {},
     "output_type": "execute_result"
    },
    {
     "data": {
      "image/png": "[encoded data removed]",
      "text/plain": [
       "<Figure size 432x288 with 2 Axes>"
      ]
     },
     "metadata": {
      "needs_background": "light"
     },
     "output_type": "display_data"
    }
   ],
   "source": [
    "sns.heatmap(sum(conf_matrices), annot=True, cmap=\"Blues\", fmt=\"d\")\n",
    "plt.xlabel('Predicted label'); plt.ylabel('True label')"
   ]
  },
  {
   "cell_type": "code",
   "execution_count": null,
   "id": "7af69a65-2d70-4bc5-b8f6-ffb4eea85b16",
   "metadata": {
    "execution": {
     "iopub.execute_input": "2022-06-07T14:47:08.985932Z",
     "iopub.status.busy": "2022-06-07T14:47:08.985864Z",
     "iopub.status.idle": "2022-06-07T14:47:09.042511Z",
     "shell.execute_reply": "2022-06-07T14:47:09.042111Z",
     "shell.execute_reply.started": "2022-06-07T14:47:08.985924Z"
    },
    "tags": []
   },
   "outputs": [
    {
     "data": {
      "text/plain": [
       "Text(33.0, 0.5, 'True label')"
      ]
     },
     "execution_count": 101,
     "metadata": {},
     "output_type": "execute_result"
    },
    {
     "data": {
      "image/png": "[encoded data removed]",
      "text/plain": [
       "<Figure size 432x288 with 2 Axes>"
      ]
     },
     "metadata": {
      "needs_background": "light"
     },
     "output_type": "display_data"
    }
   ],
   "source": [
    "# With percentages instead\n",
    "sns.heatmap(sum(conf_matrices)/np.sum(sum(conf_matrices)), \n",
    "            annot=True, cmap=\"Blues\", fmt=\".2%\")\n",
    "plt.xlabel('Predicted label'); plt.ylabel('True label')"
   ]
  },
  {
   "cell_type": "code",
   "execution_count": null,
   "id": "cd5bae22-565c-45da-a737-d4ca6a37f46b",
   "metadata": {
    "execution": {
     "iopub.execute_input": "2022-06-07T14:47:09.043208Z",
     "iopub.status.busy": "2022-06-07T14:47:09.043143Z",
     "iopub.status.idle": "2022-06-07T14:47:17.507141Z",
     "shell.execute_reply": "2022-06-07T14:47:17.506686Z",
     "shell.execute_reply.started": "2022-06-07T14:47:09.043200Z"
    },
    "tags": []
   },
   "outputs": [
    {
     "data": {
      "text/plain": [
       "DecisionTreeClassifier(criterion='entropy', max_depth=64)"
      ]
     },
     "execution_count": 102,
     "metadata": {},
     "output_type": "execute_result"
    }
   ],
   "source": [
    "# Training on a new 80-20 split to draw ROC curve\n",
    "X_train, X_val, y_train, y_val = train_test_split(X, y, test_size=0.2)\n",
    "X_train.reset_index(drop=True, inplace=True)\n",
    "y_train.reset_index(drop=True, inplace=True)\n",
    "X_val.reset_index(drop=True, inplace=True)\n",
    "y_val.reset_index(drop=True, inplace=True)\n",
    "model = MechanizedDecisionTree(**gs_DT.best_params_)\n",
    "model.choose_mechanism(Mechanism.GAUSSIAN)\n",
    "model.fit(X_train, y_train)"
   ]
  },
  {
   "cell_type": "code",
   "execution_count": null,
   "id": "dfce181e-4aa1-4eb6-832d-7528a24bf453",
   "metadata": {
    "execution": {
     "iopub.execute_input": "2022-06-07T14:47:17.507926Z",
     "iopub.status.busy": "2022-06-07T14:47:17.507853Z",
     "iopub.status.idle": "2022-06-07T14:47:17.610211Z",
     "shell.execute_reply": "2022-06-07T14:47:17.609848Z",
     "shell.execute_reply.started": "2022-06-07T14:47:17.507915Z"
    },
    "tags": []
   },
   "outputs": [
    {
     "data": {
      "text/plain": [
       "[<matplotlib.lines.Line2D at 0x178b9a7f0>]"
      ]
     },
     "execution_count": 103,
     "metadata": {},
     "output_type": "execute_result"
    },
    {
     "data": {
      "image/png": "[encoded data removed]",
      "text/plain": [
       "<Figure size 432x288 with 1 Axes>"
      ]
     },
     "metadata": {
      "needs_background": "light"
     },
     "output_type": "display_data"
    }
   ],
   "source": [
    "# Display ROC curve\n",
    "RocCurveDisplay.from_predictions(y_val, model.predict_proba(X_val)[:, 1], color='orange')\n",
    "plt.xlim([0, 1]); plt.ylim([0, 1.05])\n",
    "plt.plot([0, 1], [0, 1], 'k--')"
   ]
  },
  {
   "cell_type": "markdown",
   "id": "232fd04d-5e56-49f0-b5a9-77c2957166f7",
   "metadata": {},
   "source": [
    "Time to pick the best model, predict on test and save."
   ]
  },
  {
   "cell_type": "code",
   "execution_count": null,
   "id": "13d8d7f1-f8b7-41e1-976f-1fb617c464dd",
   "metadata": {
    "execution": {
     "iopub.execute_input": "2022-06-07T14:47:28.691297Z",
     "iopub.status.busy": "2022-06-07T14:47:28.690405Z",
     "iopub.status.idle": "2022-06-07T14:47:50.750644Z",
     "shell.execute_reply": "2022-06-07T14:47:50.737933Z",
     "shell.execute_reply.started": "2022-06-07T14:47:28.691252Z"
    },
    "tags": []
   },
   "outputs": [
    {
     "data": {
      "text/plain": [
       "LogisticRegression(C=10.7977516232771, max_iter=1500)"
      ]
     },
     "execution_count": 106,
     "metadata": {},
     "output_type": "execute_result"
    }
   ],
   "source": [
    "# This model seems to perform better on the public test data.\n",
    "model4 = LogisticRegression(C=10.7977516232771, max_iter=1500)\n",
    "model4.fit(X, y)"
   ]
  },
  {
   "cell_type": "code",
   "execution_count": null,
   "id": "29188cc0-f804-48a1-a77b-eac7d6d229f5",
   "metadata": {
    "execution": {
     "iopub.execute_input": "2022-06-07T14:47:50.758967Z",
     "iopub.status.busy": "2022-06-07T14:47:50.757462Z",
     "iopub.status.idle": "2022-06-07T14:47:53.052706Z",
     "shell.execute_reply": "2022-06-07T14:47:53.052321Z",
     "shell.execute_reply.started": "2022-06-07T14:47:50.758924Z"
    },
    "tags": []
   },
   "outputs": [],
   "source": [
    "# Preprocessing\n",
    "proc_test_df = apply_tfidf(preprocess(test_df), r_vectorizer, s_vectorizer)\n",
    "proc_test_df = pd.DataFrame(scaler.transform(proc_test_df), columns=proc_test_df.columns, index=proc_test_df.index)[relcols]"
   ]
  },
  {
   "cell_type": "code",
   "execution_count": null,
   "id": "167dae53-3ec3-4d7a-b9c9-e0f86bfd3525",
   "metadata": {
    "execution": {
     "iopub.execute_input": "2022-06-07T14:47:54.907212Z",
     "iopub.status.busy": "2022-06-07T14:47:54.905861Z",
     "iopub.status.idle": "2022-06-07T14:47:54.989286Z",
     "shell.execute_reply": "2022-06-07T14:47:54.980577Z",
     "shell.execute_reply.started": "2022-06-07T14:47:54.906799Z"
    },
    "tags": []
   },
   "outputs": [],
   "source": [
    "# Predict on test and save as .csv\n",
    "proc_test_df['predicted'] = model4.predict(proc_test_df)\n",
    "proc_test_df = proc_test_df.reset_index()[['index', 'predicted']]\n",
    "proc_test_df.rename(columns={'index': 'id'}).to_csv('task14.csv', index=False)"
   ]
  }
 ],
 "metadata": {
  "kernelspec": {
   "display_name": "Python 3",
   "language": "python",
   "name": "python3"
  },
  "language_info": {
   "codemirror_mode": {
    "name": "ipython",
    "version": 3
   },
   "file_extension": ".py",
   "mimetype": "text/x-python",
   "name": "python",
   "nbconvert_exporter": "python",
   "pygments_lexer": "ipython3",
   "version": "3.10.6"
  },
  "vscode": {
   "interpreter": {
    "hash": "aee8b7b246df8f9039afb4144a1f6fd8d2ca17a180786b69acc140d282b71a49"
   }
  }
 },
 "nbformat": 4,
 "nbformat_minor": 5
}
