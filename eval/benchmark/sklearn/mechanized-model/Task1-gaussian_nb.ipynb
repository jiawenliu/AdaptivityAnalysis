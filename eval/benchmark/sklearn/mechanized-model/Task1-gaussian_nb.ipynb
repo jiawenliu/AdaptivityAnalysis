{
 "cells": [
  {
   "cell_type": "code",
   "execution_count": 2,
   "id": "588f71ba-f0f5-49e7-bd47-9ff3d396fce6",
   "metadata": {
    "execution": {
     "iopub.execute_input": "2022-06-07T13:32:16.560634Z",
     "iopub.status.busy": "2022-06-07T13:32:16.560406Z",
     "iopub.status.idle": "2022-06-07T13:32:17.402020Z",
     "shell.execute_reply": "2022-06-07T13:32:17.401771Z",
     "shell.execute_reply.started": "2022-06-07T13:32:16.560554Z"
    },
    "tags": []
   },
   "outputs": [],
   "source": [
    "import pandas as pd\n",
    "import numpy as np\n",
    "import matplotlib.pyplot as plt\n",
    "import seaborn as sns\n",
    "from sklearn import preprocessing\n",
    "from sklearn.model_selection import train_test_split, KFold, GridSearchCV\n",
    "from sklearn.feature_extraction.text import TfidfVectorizer"
   ]
  },
  {
   "cell_type": "code",
   "execution_count": 3,
   "id": "697a6538-f1d8-4f02-9f63-daaf253e6a4d",
   "metadata": {
    "execution": {
     "iopub.execute_input": "2022-06-07T13:32:17.402605Z",
     "iopub.status.busy": "2022-06-07T13:32:17.402510Z",
     "iopub.status.idle": "2022-06-07T13:32:17.430681Z",
     "shell.execute_reply": "2022-06-07T13:32:17.430380Z",
     "shell.execute_reply.started": "2022-06-07T13:32:17.402596Z"
    },
    "tags": []
   },
   "outputs": [],
   "source": [
    "\n",
    "\n",
    "from sklearn.metrics import accuracy_score, f1_score, roc_auc_score, confusion_matrix, RocCurveDisplay\n",
    "from sklearn.linear_model import LogisticRegression\n",
    "from sklearn.tree import DecisionTreeClassifier\n",
    "from sklearn.naive_bayes import GaussianNB\n",
    "\n",
    "import sys\n",
    "sys.path.append(\"..\")\n",
    "\n",
    "from mechanism.mechanized_models import MechanizedGaussianNB\n",
    "from mechanism.mechanized_models import MechanizedLogisticRegression\n",
    "from mechanism.mechanized_models import MechanizedDecisionTree\n",
    "\n",
    "\n"
   ]
  },
  {
   "cell_type": "code",
   "execution_count": 4,
   "id": "41bae7ab-7f6c-49ef-9241-458916ff6a39",
   "metadata": {
    "execution": {
     "iopub.execute_input": "2022-06-07T13:32:17.431942Z",
     "iopub.status.busy": "2022-06-07T13:32:17.431849Z",
     "iopub.status.idle": "2022-06-07T13:32:17.435166Z",
     "shell.execute_reply": "2022-06-07T13:32:17.434933Z",
     "shell.execute_reply.started": "2022-06-07T13:32:17.431929Z"
    },
    "tags": []
   },
   "outputs": [],
   "source": [
    "# Basic preprocessing\n",
    "def preprocess(df):\n",
    "    df_new = df.copy()\n",
    "    \n",
    "    # Discard identifiers, style information, timestamps\n",
    "    df_new = df_new[df_new.columns.difference(['image', 'style', 'reviewTime', \n",
    "                                               'reviewerID', 'asin', 'reviewerName', 'unixReviewTime'])]\n",
    "\n",
    "    # Turn category into binary features\n",
    "    for cat in df_new.category.unique():\n",
    "        df_new[cat] = df_new['category'] == cat\n",
    "\n",
    "    # Drop category column\n",
    "    df_new.drop(columns=['category'], inplace=True)\n",
    "\n",
    "    # NaN vote is 0 users found helpful\n",
    "    df_new.vote.fillna(0, inplace=True)\n",
    "    \n",
    "    # Turn vote into binary feature\n",
    "    df_new.vote = df_new.vote > 0\n",
    "    # df_new.vote.clip(0, 10)\n",
    "    # df_new.vote = df_new.vote / 10\n",
    "\n",
    "    # NaN summary is empty summary\n",
    "    df_new.summary.fillna('', inplace=True)\n",
    "\n",
    "    # Turn Booleans into binary variables\n",
    "    df_new.replace({False: 0, True: 1}, inplace=True)\n",
    "    \n",
    "    return df_new"
   ]
  },
  {
   "cell_type": "code",
   "execution_count": 5,
   "id": "645feae0-59a6-443f-bb4e-23caf28e59ab",
   "metadata": {
    "execution": {
     "iopub.execute_input": "2022-06-07T13:32:17.435526Z",
     "iopub.status.busy": "2022-06-07T13:32:17.435468Z",
     "iopub.status.idle": "2022-06-07T13:32:17.437790Z",
     "shell.execute_reply": "2022-06-07T13:32:17.437525Z",
     "shell.execute_reply.started": "2022-06-07T13:32:17.435518Z"
    },
    "tags": []
   },
   "outputs": [],
   "source": [
    "# Remove 'overall' column and add cutoff column applying cutoff\n",
    "def apply_cutoff(df, cutoff):\n",
    "    df_new = df.copy()\n",
    "    \n",
    "    # Apply cutoff\n",
    "    cut = df['overall'] > cutoff\n",
    "    df_new['cutoff'] = cut\n",
    "\n",
    "    # Drop overall and category\n",
    "    df_new.drop(columns=['overall'], inplace=True)\n",
    "    \n",
    "    # Turn Booleans into binary variables\n",
    "    df_new.replace({False: 0, True: 1}, inplace=True)\n",
    "    \n",
    "    return df_new"
   ]
  },
  {
   "cell_type": "code",
   "execution_count": 6,
   "id": "c04094b6-1e7a-4817-a324-1820e843737c",
   "metadata": {
    "execution": {
     "iopub.execute_input": "2022-06-07T13:32:17.438231Z",
     "iopub.status.busy": "2022-06-07T13:32:17.438169Z",
     "iopub.status.idle": "2022-06-07T13:32:17.440536Z",
     "shell.execute_reply": "2022-06-07T13:32:17.440296Z",
     "shell.execute_reply.started": "2022-06-07T13:32:17.438223Z"
    },
    "tags": []
   },
   "outputs": [],
   "source": [
    "def apply_tfidf(df, review_vectorizer, summary_vectorizer):\n",
    "    review_matrix = pd.DataFrame(data=review_vectorizer.transform(df.reviewText).toarray(), columns='R_' + review_vectorizer.get_feature_names_out())\n",
    "    summary_matrix = pd.DataFrame(data=summary_vectorizer.transform(df.summary).toarray(), columns='S_' + summary_vectorizer.get_feature_names_out())\n",
    "    df_new = pd.concat([df, review_matrix, summary_matrix], axis=1)\n",
    "    df_new.drop(columns=['summary', 'reviewText'], inplace=True)\n",
    "    return df_new"
   ]
  },
  {
   "cell_type": "code",
   "execution_count": 7,
   "id": "4d7dad27-0687-48a6-9c8b-4954e6fe21cc",
   "metadata": {
    "execution": {
     "iopub.execute_input": "2022-06-07T13:32:17.441028Z",
     "iopub.status.busy": "2022-06-07T13:32:17.440938Z",
     "iopub.status.idle": "2022-06-07T13:32:17.603401Z",
     "shell.execute_reply": "2022-06-07T13:32:17.603159Z",
     "shell.execute_reply.started": "2022-06-07T13:32:17.441019Z"
    },
    "tags": []
   },
   "outputs": [],
   "source": [
    "training_df = pd.read_csv('../data/Training.csv')\n",
    "test_df = pd.read_csv('../data/Test.csv')"
   ]
  },
  {
   "cell_type": "markdown",
   "id": "1125a5cf-8b7c-4f58-95e8-ccf10b5e8e67",
   "metadata": {
    "tags": []
   },
   "source": [
    "# Task 1.1"
   ]
  },
  {
   "cell_type": "code",
   "execution_count": 8,
   "id": "25f1603d-4906-497b-a699-91c1b1967f4f",
   "metadata": {
    "execution": {
     "iopub.execute_input": "2022-06-07T13:32:17.603858Z",
     "iopub.status.busy": "2022-06-07T13:32:17.603790Z",
     "iopub.status.idle": "2022-06-07T13:33:00.794496Z",
     "shell.execute_reply": "2022-06-07T13:33:00.793813Z",
     "shell.execute_reply.started": "2022-06-07T13:32:17.603849Z"
    },
    "tags": []
   },
   "outputs": [],
   "source": [
    "# Preprocessing of training data\n",
    "proc_training_df = apply_cutoff(preprocess(training_df), 1)\n",
    "\n",
    "# Set cutoff to be the label; define X and y accordingly\n",
    "X = proc_training_df.drop('cutoff', axis=1)\n",
    "y = proc_training_df['cutoff']\n",
    "\n",
    "# Fit TF-IDF vectorizer for 'reviewText' and 'summary' features, creating max. 11500 features.\n",
    "r_vectorizer = TfidfVectorizer(max_features=11500, stop_words='english', ngram_range=(1, 3))\n",
    "s_vectorizer = TfidfVectorizer(max_features=11500, stop_words='english', ngram_range=(1, 3))\n",
    "r_vectorizer.fit(X.reviewText)\n",
    "s_vectorizer.fit(X.summary)\n",
    "\n",
    "# Apply TF-IDF vectorization \n",
    "X = apply_tfidf(X, r_vectorizer, s_vectorizer)\n",
    "\n",
    "# Apply robust scaling\n",
    "scaler = preprocessing.RobustScaler()\n",
    "X = pd.DataFrame(scaler.fit_transform(X), columns=X.columns, index=X.index)"
   ]
  },
  {
   "cell_type": "code",
   "execution_count": 9,
   "id": "e361be40-f9b9-489e-81dd-d04257847694",
   "metadata": {
    "execution": {
     "iopub.execute_input": "2022-06-07T13:33:00.795790Z",
     "iopub.status.busy": "2022-06-07T13:33:00.795564Z",
     "iopub.status.idle": "2022-06-07T13:33:00.818424Z",
     "shell.execute_reply": "2022-06-07T13:33:00.818095Z",
     "shell.execute_reply.started": "2022-06-07T13:33:00.795768Z"
    },
    "tags": []
   },
   "outputs": [
    {
     "data": {
      "text/html": [
       "<div>\n",
       "<style scoped>\n",
       "    .dataframe tbody tr th:only-of-type {\n",
       "        vertical-align: middle;\n",
       "    }\n",
       "\n",
       "    .dataframe tbody tr th {\n",
       "        vertical-align: top;\n",
       "    }\n",
       "\n",
       "    .dataframe thead th {\n",
       "        text-align: right;\n",
       "    }\n",
       "</style>\n",
       "<table border=\"1\" class=\"dataframe\">\n",
       "  <thead>\n",
       "    <tr style=\"text-align: right;\">\n",
       "      <th></th>\n",
       "      <th>verified</th>\n",
       "      <th>vote</th>\n",
       "      <th>automotive</th>\n",
       "      <th>CDs</th>\n",
       "      <th>grocery</th>\n",
       "      <th>cell_phones</th>\n",
       "      <th>sports</th>\n",
       "      <th>toys</th>\n",
       "      <th>R_00</th>\n",
       "      <th>R_000</th>\n",
       "      <th>...</th>\n",
       "      <th>S_zest</th>\n",
       "      <th>S_zest far</th>\n",
       "      <th>S_zest far inferior</th>\n",
       "      <th>S_zimmer</th>\n",
       "      <th>S_zipper</th>\n",
       "      <th>S_zippers</th>\n",
       "      <th>S_zoom</th>\n",
       "      <th>S_zz</th>\n",
       "      <th>S_zz greatest</th>\n",
       "      <th>S_zz greatest hits</th>\n",
       "    </tr>\n",
       "  </thead>\n",
       "  <tbody>\n",
       "    <tr>\n",
       "      <th>0</th>\n",
       "      <td>-1.0</td>\n",
       "      <td>1.0</td>\n",
       "      <td>1.0</td>\n",
       "      <td>0.0</td>\n",
       "      <td>0.0</td>\n",
       "      <td>0.0</td>\n",
       "      <td>0.0</td>\n",
       "      <td>0.0</td>\n",
       "      <td>0.0</td>\n",
       "      <td>0.0</td>\n",
       "      <td>...</td>\n",
       "      <td>0.0</td>\n",
       "      <td>0.0</td>\n",
       "      <td>0.0</td>\n",
       "      <td>0.0</td>\n",
       "      <td>0.0</td>\n",
       "      <td>0.0</td>\n",
       "      <td>0.0</td>\n",
       "      <td>0.0</td>\n",
       "      <td>0.0</td>\n",
       "      <td>0.0</td>\n",
       "    </tr>\n",
       "    <tr>\n",
       "      <th>1</th>\n",
       "      <td>0.0</td>\n",
       "      <td>0.0</td>\n",
       "      <td>1.0</td>\n",
       "      <td>0.0</td>\n",
       "      <td>0.0</td>\n",
       "      <td>0.0</td>\n",
       "      <td>0.0</td>\n",
       "      <td>0.0</td>\n",
       "      <td>0.0</td>\n",
       "      <td>0.0</td>\n",
       "      <td>...</td>\n",
       "      <td>0.0</td>\n",
       "      <td>0.0</td>\n",
       "      <td>0.0</td>\n",
       "      <td>0.0</td>\n",
       "      <td>0.0</td>\n",
       "      <td>0.0</td>\n",
       "      <td>0.0</td>\n",
       "      <td>0.0</td>\n",
       "      <td>0.0</td>\n",
       "      <td>0.0</td>\n",
       "    </tr>\n",
       "    <tr>\n",
       "      <th>2</th>\n",
       "      <td>0.0</td>\n",
       "      <td>0.0</td>\n",
       "      <td>1.0</td>\n",
       "      <td>0.0</td>\n",
       "      <td>0.0</td>\n",
       "      <td>0.0</td>\n",
       "      <td>0.0</td>\n",
       "      <td>0.0</td>\n",
       "      <td>0.0</td>\n",
       "      <td>0.0</td>\n",
       "      <td>...</td>\n",
       "      <td>0.0</td>\n",
       "      <td>0.0</td>\n",
       "      <td>0.0</td>\n",
       "      <td>0.0</td>\n",
       "      <td>0.0</td>\n",
       "      <td>0.0</td>\n",
       "      <td>0.0</td>\n",
       "      <td>0.0</td>\n",
       "      <td>0.0</td>\n",
       "      <td>0.0</td>\n",
       "    </tr>\n",
       "    <tr>\n",
       "      <th>3</th>\n",
       "      <td>0.0</td>\n",
       "      <td>0.0</td>\n",
       "      <td>1.0</td>\n",
       "      <td>0.0</td>\n",
       "      <td>0.0</td>\n",
       "      <td>0.0</td>\n",
       "      <td>0.0</td>\n",
       "      <td>0.0</td>\n",
       "      <td>0.0</td>\n",
       "      <td>0.0</td>\n",
       "      <td>...</td>\n",
       "      <td>0.0</td>\n",
       "      <td>0.0</td>\n",
       "      <td>0.0</td>\n",
       "      <td>0.0</td>\n",
       "      <td>0.0</td>\n",
       "      <td>0.0</td>\n",
       "      <td>0.0</td>\n",
       "      <td>0.0</td>\n",
       "      <td>0.0</td>\n",
       "      <td>0.0</td>\n",
       "    </tr>\n",
       "    <tr>\n",
       "      <th>4</th>\n",
       "      <td>0.0</td>\n",
       "      <td>0.0</td>\n",
       "      <td>1.0</td>\n",
       "      <td>0.0</td>\n",
       "      <td>0.0</td>\n",
       "      <td>0.0</td>\n",
       "      <td>0.0</td>\n",
       "      <td>0.0</td>\n",
       "      <td>0.0</td>\n",
       "      <td>0.0</td>\n",
       "      <td>...</td>\n",
       "      <td>0.0</td>\n",
       "      <td>0.0</td>\n",
       "      <td>0.0</td>\n",
       "      <td>0.0</td>\n",
       "      <td>0.0</td>\n",
       "      <td>0.0</td>\n",
       "      <td>0.0</td>\n",
       "      <td>0.0</td>\n",
       "      <td>0.0</td>\n",
       "      <td>0.0</td>\n",
       "    </tr>\n",
       "    <tr>\n",
       "      <th>...</th>\n",
       "      <td>...</td>\n",
       "      <td>...</td>\n",
       "      <td>...</td>\n",
       "      <td>...</td>\n",
       "      <td>...</td>\n",
       "      <td>...</td>\n",
       "      <td>...</td>\n",
       "      <td>...</td>\n",
       "      <td>...</td>\n",
       "      <td>...</td>\n",
       "      <td>...</td>\n",
       "      <td>...</td>\n",
       "      <td>...</td>\n",
       "      <td>...</td>\n",
       "      <td>...</td>\n",
       "      <td>...</td>\n",
       "      <td>...</td>\n",
       "      <td>...</td>\n",
       "      <td>...</td>\n",
       "      <td>...</td>\n",
       "      <td>...</td>\n",
       "    </tr>\n",
       "    <tr>\n",
       "      <th>29184</th>\n",
       "      <td>0.0</td>\n",
       "      <td>0.0</td>\n",
       "      <td>0.0</td>\n",
       "      <td>0.0</td>\n",
       "      <td>0.0</td>\n",
       "      <td>0.0</td>\n",
       "      <td>0.0</td>\n",
       "      <td>1.0</td>\n",
       "      <td>0.0</td>\n",
       "      <td>0.0</td>\n",
       "      <td>...</td>\n",
       "      <td>0.0</td>\n",
       "      <td>0.0</td>\n",
       "      <td>0.0</td>\n",
       "      <td>0.0</td>\n",
       "      <td>0.0</td>\n",
       "      <td>0.0</td>\n",
       "      <td>0.0</td>\n",
       "      <td>0.0</td>\n",
       "      <td>0.0</td>\n",
       "      <td>0.0</td>\n",
       "    </tr>\n",
       "    <tr>\n",
       "      <th>29185</th>\n",
       "      <td>0.0</td>\n",
       "      <td>0.0</td>\n",
       "      <td>0.0</td>\n",
       "      <td>0.0</td>\n",
       "      <td>0.0</td>\n",
       "      <td>0.0</td>\n",
       "      <td>0.0</td>\n",
       "      <td>1.0</td>\n",
       "      <td>0.0</td>\n",
       "      <td>0.0</td>\n",
       "      <td>...</td>\n",
       "      <td>0.0</td>\n",
       "      <td>0.0</td>\n",
       "      <td>0.0</td>\n",
       "      <td>0.0</td>\n",
       "      <td>0.0</td>\n",
       "      <td>0.0</td>\n",
       "      <td>0.0</td>\n",
       "      <td>0.0</td>\n",
       "      <td>0.0</td>\n",
       "      <td>0.0</td>\n",
       "    </tr>\n",
       "    <tr>\n",
       "      <th>29186</th>\n",
       "      <td>0.0</td>\n",
       "      <td>0.0</td>\n",
       "      <td>0.0</td>\n",
       "      <td>0.0</td>\n",
       "      <td>0.0</td>\n",
       "      <td>0.0</td>\n",
       "      <td>0.0</td>\n",
       "      <td>1.0</td>\n",
       "      <td>0.0</td>\n",
       "      <td>0.0</td>\n",
       "      <td>...</td>\n",
       "      <td>0.0</td>\n",
       "      <td>0.0</td>\n",
       "      <td>0.0</td>\n",
       "      <td>0.0</td>\n",
       "      <td>0.0</td>\n",
       "      <td>0.0</td>\n",
       "      <td>0.0</td>\n",
       "      <td>0.0</td>\n",
       "      <td>0.0</td>\n",
       "      <td>0.0</td>\n",
       "    </tr>\n",
       "    <tr>\n",
       "      <th>29187</th>\n",
       "      <td>0.0</td>\n",
       "      <td>0.0</td>\n",
       "      <td>0.0</td>\n",
       "      <td>0.0</td>\n",
       "      <td>0.0</td>\n",
       "      <td>0.0</td>\n",
       "      <td>0.0</td>\n",
       "      <td>1.0</td>\n",
       "      <td>0.0</td>\n",
       "      <td>0.0</td>\n",
       "      <td>...</td>\n",
       "      <td>0.0</td>\n",
       "      <td>0.0</td>\n",
       "      <td>0.0</td>\n",
       "      <td>0.0</td>\n",
       "      <td>0.0</td>\n",
       "      <td>0.0</td>\n",
       "      <td>0.0</td>\n",
       "      <td>0.0</td>\n",
       "      <td>0.0</td>\n",
       "      <td>0.0</td>\n",
       "    </tr>\n",
       "    <tr>\n",
       "      <th>29188</th>\n",
       "      <td>0.0</td>\n",
       "      <td>0.0</td>\n",
       "      <td>0.0</td>\n",
       "      <td>0.0</td>\n",
       "      <td>0.0</td>\n",
       "      <td>0.0</td>\n",
       "      <td>0.0</td>\n",
       "      <td>1.0</td>\n",
       "      <td>0.0</td>\n",
       "      <td>0.0</td>\n",
       "      <td>...</td>\n",
       "      <td>0.0</td>\n",
       "      <td>0.0</td>\n",
       "      <td>0.0</td>\n",
       "      <td>0.0</td>\n",
       "      <td>0.0</td>\n",
       "      <td>0.0</td>\n",
       "      <td>0.0</td>\n",
       "      <td>0.0</td>\n",
       "      <td>0.0</td>\n",
       "      <td>0.0</td>\n",
       "    </tr>\n",
       "  </tbody>\n",
       "</table>\n",
       "<p>29189 rows × 23008 columns</p>\n",
       "</div>"
      ],
      "text/plain": [
       "       verified  vote  automotive  CDs  grocery  cell_phones  sports  toys  \\\n",
       "0          -1.0   1.0         1.0  0.0      0.0          0.0     0.0   0.0   \n",
       "1           0.0   0.0         1.0  0.0      0.0          0.0     0.0   0.0   \n",
       "2           0.0   0.0         1.0  0.0      0.0          0.0     0.0   0.0   \n",
       "3           0.0   0.0         1.0  0.0      0.0          0.0     0.0   0.0   \n",
       "4           0.0   0.0         1.0  0.0      0.0          0.0     0.0   0.0   \n",
       "...         ...   ...         ...  ...      ...          ...     ...   ...   \n",
       "29184       0.0   0.0         0.0  0.0      0.0          0.0     0.0   1.0   \n",
       "29185       0.0   0.0         0.0  0.0      0.0          0.0     0.0   1.0   \n",
       "29186       0.0   0.0         0.0  0.0      0.0          0.0     0.0   1.0   \n",
       "29187       0.0   0.0         0.0  0.0      0.0          0.0     0.0   1.0   \n",
       "29188       0.0   0.0         0.0  0.0      0.0          0.0     0.0   1.0   \n",
       "\n",
       "       R_00  R_000  ...  S_zest  S_zest far  S_zest far inferior  S_zimmer  \\\n",
       "0       0.0    0.0  ...     0.0         0.0                  0.0       0.0   \n",
       "1       0.0    0.0  ...     0.0         0.0                  0.0       0.0   \n",
       "2       0.0    0.0  ...     0.0         0.0                  0.0       0.0   \n",
       "3       0.0    0.0  ...     0.0         0.0                  0.0       0.0   \n",
       "4       0.0    0.0  ...     0.0         0.0                  0.0       0.0   \n",
       "...     ...    ...  ...     ...         ...                  ...       ...   \n",
       "29184   0.0    0.0  ...     0.0         0.0                  0.0       0.0   \n",
       "29185   0.0    0.0  ...     0.0         0.0                  0.0       0.0   \n",
       "29186   0.0    0.0  ...     0.0         0.0                  0.0       0.0   \n",
       "29187   0.0    0.0  ...     0.0         0.0                  0.0       0.0   \n",
       "29188   0.0    0.0  ...     0.0         0.0                  0.0       0.0   \n",
       "\n",
       "       S_zipper  S_zippers  S_zoom  S_zz  S_zz greatest  S_zz greatest hits  \n",
       "0           0.0        0.0     0.0   0.0            0.0                 0.0  \n",
       "1           0.0        0.0     0.0   0.0            0.0                 0.0  \n",
       "2           0.0        0.0     0.0   0.0            0.0                 0.0  \n",
       "3           0.0        0.0     0.0   0.0            0.0                 0.0  \n",
       "4           0.0        0.0     0.0   0.0            0.0                 0.0  \n",
       "...         ...        ...     ...   ...            ...                 ...  \n",
       "29184       0.0        0.0     0.0   0.0            0.0                 0.0  \n",
       "29185       0.0        0.0     0.0   0.0            0.0                 0.0  \n",
       "29186       0.0        0.0     0.0   0.0            0.0                 0.0  \n",
       "29187       0.0        0.0     0.0   0.0            0.0                 0.0  \n",
       "29188       0.0        0.0     0.0   0.0            0.0                 0.0  \n",
       "\n",
       "[29189 rows x 23008 columns]"
      ]
     },
     "execution_count": 9,
     "metadata": {},
     "output_type": "execute_result"
    }
   ],
   "source": [
    "X"
   ]
  },
  {
   "cell_type": "code",
   "execution_count": 10,
   "id": "2f349e51-5599-42f9-9d63-bd73cb4a795b",
   "metadata": {
    "execution": {
     "iopub.execute_input": "2022-06-07T13:33:00.819142Z",
     "iopub.status.busy": "2022-06-07T13:33:00.819066Z",
     "iopub.status.idle": "2022-06-07T13:33:07.936578Z",
     "shell.execute_reply": "2022-06-07T13:33:07.936277Z",
     "shell.execute_reply.started": "2022-06-07T13:33:00.819133Z"
    },
    "tags": []
   },
   "outputs": [
    {
     "data": {
      "text/plain": [
       "Index(['verified', 'vote', 'R_00', 'R_08', 'R_10 bucks', 'R_12', 'R_15',\n",
       "       'R_1970', 'R_1970s', 'R_1973',\n",
       "       ...\n",
       "       'S_wtf', 'S_year old', 'S_young', 'S_yuck', 'S_yucky', 'S_yuk', 'S_yum',\n",
       "       'S_yummy', 'S_zero', 'S_zero stars'],\n",
       "      dtype='object', length=4272)"
      ]
     },
     "execution_count": 10,
     "metadata": {},
     "output_type": "execute_result"
    }
   ],
   "source": [
    "# Let us reduce the number of features by eliminating the statistically least correlated ones.\n",
    "relcols = X.columns[abs(X.corrwith(y)) > 0.01]\n",
    "relcols"
   ]
  },
  {
   "cell_type": "code",
   "execution_count": 11,
   "id": "56c82cb4-e2bf-441c-a50a-9972f422ff31",
   "metadata": {
    "execution": {
     "iopub.execute_input": "2022-06-07T13:33:07.937445Z",
     "iopub.status.busy": "2022-06-07T13:33:07.937340Z",
     "iopub.status.idle": "2022-06-07T13:33:08.236297Z",
     "shell.execute_reply": "2022-06-07T13:33:08.236007Z",
     "shell.execute_reply.started": "2022-06-07T13:33:07.937433Z"
    },
    "tags": []
   },
   "outputs": [],
   "source": [
    "# We will go with these columns.\n",
    "X = X[relcols]"
   ]
  },
  {
   "cell_type": "code",
   "execution_count": 12,
   "id": "fe4e3e35-4091-421d-8228-dd2c0f1faf17",
   "metadata": {
    "execution": {
     "iopub.execute_input": "2022-06-07T13:33:08.237221Z",
     "iopub.status.busy": "2022-06-07T13:33:08.237126Z",
     "iopub.status.idle": "2022-06-07T13:33:09.555464Z",
     "shell.execute_reply": "2022-06-07T13:33:09.555084Z",
     "shell.execute_reply.started": "2022-06-07T13:33:08.237210Z"
    },
    "tags": []
   },
   "outputs": [],
   "source": [
    "# 5-fold cross validation\n",
    "kf = KFold(n_splits=5, shuffle=True, random_state=42)\n",
    "splits = []\n",
    "for train_idx, val_idx in kf.split(X, y):\n",
    "    # Apply split\n",
    "    X_train, X_val = X.iloc[train_idx], X.iloc[val_idx]\n",
    "    y_train, y_val = y.iloc[train_idx], y.iloc[val_idx]\n",
    "    \n",
    "    # Reset indices\n",
    "    X_train.reset_index(drop=True, inplace=True)\n",
    "    y_train.reset_index(drop=True, inplace=True)\n",
    "    X_val.reset_index(drop=True, inplace=True)\n",
    "    y_val.reset_index(drop=True, inplace=True)\n",
    "    splits.append((X_train, X_val, y_train, y_val))\n",
    "f1_scores, acc_scores, roc_auc_scores, conf_matrices, models = [], [], [], [], []"
   ]
  },
  {
   "attachments": {},
   "cell_type": "markdown",
   "id": "29462d8c-57a2-4469-9e8f-050138942200",
   "metadata": {},
   "source": [
    "## Mechanized Gaussian NB"
   ]
  },
  {
   "cell_type": "code",
   "execution_count": 13,
   "id": "c19b2c67-8089-4067-a04d-782d45590b0c",
   "metadata": {
    "execution": {
     "iopub.execute_input": "2022-06-07T13:45:49.859439Z",
     "iopub.status.busy": "2022-06-07T13:45:49.857084Z",
     "iopub.status.idle": "2022-06-07T13:46:24.103242Z",
     "shell.execute_reply": "2022-06-07T13:46:24.102845Z",
     "shell.execute_reply.started": "2022-06-07T13:45:49.859053Z"
    },
    "tags": []
   },
   "outputs": [
    {
     "name": "stdout",
     "output_type": "stream",
     "text": [
      "in gaussian mechanism GridSearchCV\n",
      "Fitting 3 folds for each of 1 candidates, totalling 3 fits\n",
      "[CV 1/3] END ................var_smoothing=0.01;, score=0.674 total time=   4.2s\n",
      "[CV 2/3] END ................var_smoothing=0.01;, score=0.689 total time=   3.7s\n",
      "[CV 3/3] END ................var_smoothing=0.01;, score=0.698 total time=   3.6s\n"
     ]
    },
    {
     "data": {
      "text/plain": [
       "{'var_smoothing': 0.01}"
      ]
     },
     "execution_count": 13,
     "metadata": {},
     "output_type": "execute_result"
    }
   ],
   "source": [
    "# Hyperparameter selection on one split\n",
    "import sys\n",
    "sys.path.append(\"..\")\n",
    "\n",
    "from mechanism.mechanized_models import Mechanism\n",
    "\n",
    "from mechanism.mechanized_models import MechanizedGridSearchCV\n",
    "\n",
    "\n",
    "from mechanism.mechanized_models import MechanizedGaussianNB\n",
    "\n",
    "X_train, X_val, y_train, y_val = splits[0]\n",
    "gs_cls = MechanizedGaussianNB()\n",
    "gs_cls.choose_mechanism(Mechanism.GAUSSIAN)\n",
    "params_GS = {'var_smoothing': np.logspace(-2, -9, num=1)}\n",
    "gs_GS = MechanizedGridSearchCV(estimator=gs_cls, param_grid=params_GS, cv=3, verbose=3, scoring='f1_macro')\n",
    "gs_GS.choose_mechanism(Mechanism.GAUSSIAN)\n",
    "gs_GS.fit(X_train, y_train)\n",
    "gs_GS.best_params_"
   ]
  },
  {
   "cell_type": "code",
   "execution_count": 14,
   "id": "5aea9462-60f9-4787-acab-c99c48471aea",
   "metadata": {
    "execution": {
     "iopub.execute_input": "2022-06-07T13:33:44.536189Z",
     "iopub.status.busy": "2022-06-07T13:33:44.536065Z",
     "iopub.status.idle": "2022-06-07T13:33:51.493654Z",
     "shell.execute_reply": "2022-06-07T13:33:51.493230Z",
     "shell.execute_reply.started": "2022-06-07T13:33:44.536174Z"
    },
    "tags": []
   },
   "outputs": [
    {
     "name": "stdout",
     "output_type": "stream",
     "text": [
      "Split 0:\n",
      "in gaussian mechanism MechanizedGaussianNB\n",
      "  F1 score: 0.5949274401283179\n",
      "  Accuracy: 0.8240835902706406\n",
      "  ROC/AUC score: 0.8765676611250686\n",
      "Average F1 score: 0.5949274401283179\n",
      "Average accuracy: 0.8240835902706406\n",
      "Average ROC/AUC score: 0.8765676611250686\n"
     ]
    }
   ],
   "source": [
    "# Let us now compute performance metrics.\n",
    "for i, (X_train, X_val, y_train, y_val) in enumerate(splits[:1]):\n",
    "    print(f\"Split {i}:\")\n",
    "    # Train model\n",
    "    model = MechanizedGaussianNB(var_smoothing=gs_GS.best_params_['var_smoothing'])\n",
    "    model.choose_mechanism(Mechanism.GAUSSIAN)\n",
    "    model.fit(X_train, y_train)\n",
    "    # Predict\n",
    "    y_pred = model.predict(X_val)\n",
    "    y_proba = model.predict_proba(X_val)\n",
    "    # Compute and append f1, accuracy, confusion matrix; \n",
    "    f1_scores.append(f1_score(y_val, y_pred, average='macro'))\n",
    "    acc_scores.append(accuracy_score(y_val, y_pred))\n",
    "    roc_auc_scores.append(roc_auc_score(y_val, y_proba[:, 1]))\n",
    "    print(f\"  F1 score: {f1_scores[-1]}\")\n",
    "    print(f\"  Accuracy: {acc_scores[-1]}\")\n",
    "    print(f\"  ROC/AUC score: {roc_auc_scores[-1]}\")\n",
    "    conf_matrices.append(confusion_matrix(y_val, y_pred))\n",
    "    models.append(model)\n",
    "print(f\"Average F1 score: {np.average(f1_scores)}\")\n",
    "print(f\"Average accuracy: {np.average(acc_scores)}\")\n",
    "print(f\"Average ROC/AUC score: {np.average(roc_auc_scores)}\")"
   ]
  },
  {
   "cell_type": "code",
   "execution_count": null,
   "id": "b4dcfce5-079d-4977-bd38-449f5447c8d9",
   "metadata": {
    "execution": {
     "iopub.execute_input": "2022-06-07T13:33:51.494508Z",
     "iopub.status.busy": "2022-06-07T13:33:51.494419Z",
     "iopub.status.idle": "2022-06-07T13:33:51.578492Z",
     "shell.execute_reply": "2022-06-07T13:33:51.578085Z",
     "shell.execute_reply.started": "2022-06-07T13:33:51.494497Z"
    }
   },
   "outputs": [
    {
     "data": {
      "text/plain": [
       "Text(33.0, 0.5, 'True label')"
      ]
     },
     "execution_count": 14,
     "metadata": {},
     "output_type": "execute_result"
    },
    {
     "data": {
      "image/png": "[encoded data removed]",
      "text/plain": [
       "<Figure size 432x288 with 2 Axes>"
      ]
     },
     "metadata": {
      "needs_background": "light"
     },
     "output_type": "display_data"
    }
   ],
   "source": [
    "sns.heatmap(sum(conf_matrices), annot=True, cmap=\"Blues\", fmt=\"d\")\n",
    "plt.xlabel('Predicted label'); plt.ylabel('True label')"
   ]
  },
  {
   "cell_type": "code",
   "execution_count": null,
   "id": "820c83d6-9fbb-4c79-b05a-a56a20f750a3",
   "metadata": {
    "execution": {
     "iopub.execute_input": "2022-06-07T13:33:51.579446Z",
     "iopub.status.busy": "2022-06-07T13:33:51.579201Z",
     "iopub.status.idle": "2022-06-07T13:33:51.655721Z",
     "shell.execute_reply": "2022-06-07T13:33:51.655252Z",
     "shell.execute_reply.started": "2022-06-07T13:33:51.579432Z"
    }
   },
   "outputs": [
    {
     "data": {
      "text/plain": [
       "Text(33.0, 0.5, 'True label')"
      ]
     },
     "execution_count": 15,
     "metadata": {},
     "output_type": "execute_result"
    },
    {
     "data": {
      "image/png": "[encoded data removed]",
      "text/plain": [
       "<Figure size 432x288 with 2 Axes>"
      ]
     },
     "metadata": {
      "needs_background": "light"
     },
     "output_type": "display_data"
    }
   ],
   "source": [
    "# With percentages instead\n",
    "sns.heatmap(sum(conf_matrices)/np.sum(sum(conf_matrices)), \n",
    "            annot=True, cmap=\"Blues\", fmt=\".2%\")\n",
    "plt.xlabel('Predicted label'); plt.ylabel('True label')"
   ]
  },
  {
   "cell_type": "code",
   "execution_count": null,
   "id": "509bb123-e86f-495c-8666-7f8d8220d7e8",
   "metadata": {
    "execution": {
     "iopub.execute_input": "2022-06-07T13:33:51.656823Z",
     "iopub.status.busy": "2022-06-07T13:33:51.656496Z",
     "iopub.status.idle": "2022-06-07T13:33:53.370407Z",
     "shell.execute_reply": "2022-06-07T13:33:53.369939Z",
     "shell.execute_reply.started": "2022-06-07T13:33:51.656807Z"
    },
    "tags": []
   },
   "outputs": [
    {
     "data": {
      "text/plain": [
       "GaussianNB(var_smoothing=0.0016681005372000592)"
      ]
     },
     "execution_count": 16,
     "metadata": {},
     "output_type": "execute_result"
    }
   ],
   "source": [
    "# Training on a new 80-20 split to draw ROC curve\n",
    "X_train, X_val, y_train, y_val = train_test_split(X, y, test_size=0.2)\n",
    "X_train.reset_index(drop=True, inplace=True)\n",
    "y_train.reset_index(drop=True, inplace=True)\n",
    "X_val.reset_index(drop=True, inplace=True)\n",
    "y_val.reset_index(drop=True, inplace=True)\n",
    "model = MechanizedGaussianNB(var_smoothing=gs_GS.best_params_['var_smoothing'])\n",
    "model.choose_mechanism(Mechanism.GAUSSIAN)\n",
    "model.fit(X_train, y_train)"
   ]
  },
  {
   "cell_type": "code",
   "execution_count": null,
   "id": "584b4585-b164-45e2-9c52-15b5821f1946",
   "metadata": {
    "execution": {
     "iopub.execute_input": "2022-06-07T13:33:53.370993Z",
     "iopub.status.busy": "2022-06-07T13:33:53.370920Z",
     "iopub.status.idle": "2022-06-07T13:33:53.613121Z",
     "shell.execute_reply": "2022-06-07T13:33:53.612758Z",
     "shell.execute_reply.started": "2022-06-07T13:33:53.370983Z"
    }
   },
   "outputs": [
    {
     "data": {
      "text/plain": [
       "[<matplotlib.lines.Line2D at 0x17e9e3850>]"
      ]
     },
     "execution_count": 17,
     "metadata": {},
     "output_type": "execute_result"
    },
    {
     "data": {
      "image/png": "[encoded data removed]",
      "text/plain": [
       "<Figure size 432x288 with 1 Axes>"
      ]
     },
     "metadata": {
      "needs_background": "light"
     },
     "output_type": "display_data"
    }
   ],
   "source": [
    "# Display ROC curve\n",
    "RocCurveDisplay.from_predictions(y_val, model.predict_proba(X_val)[:, 1], color='orange')\n",
    "plt.xlim([0, 1]); plt.ylim([0, 1.05])\n",
    "plt.plot([0, 1], [0, 1], 'k--')"
   ]
  },
  {
   "attachments": {},
   "cell_type": "markdown",
   "id": "ce316ae9-8bbf-41b9-a299-c8bc482b5a63",
   "metadata": {
    "tags": []
   },
   "source": [
    "# Processing data - II"
   ]
  },
  {
   "cell_type": "code",
   "execution_count": null,
   "id": "f9197f97-c759-49a4-815c-bc15a23055a7",
   "metadata": {
    "execution": {
     "iopub.execute_input": "2022-06-07T13:50:00.327485Z",
     "iopub.status.busy": "2022-06-07T13:50:00.327145Z",
     "iopub.status.idle": "2022-06-07T13:51:08.616995Z",
     "shell.execute_reply": "2022-06-07T13:51:08.616129Z",
     "shell.execute_reply.started": "2022-06-07T13:50:00.327434Z"
    },
    "tags": []
   },
   "outputs": [],
   "source": [
    "# Preprocessing of training data\n",
    "proc_training_df = apply_cutoff(preprocess(training_df), 2)\n",
    "\n",
    "# Set cutoff to be the label; define X and y accordingly\n",
    "X = proc_training_df.drop('cutoff', axis=1)\n",
    "y = proc_training_df['cutoff']\n",
    "\n",
    "# Fit TF-IDF vectorizer for 'reviewText' and 'summary' features, creating max. 11500 features.\n",
    "r_vectorizer = TfidfVectorizer(max_features=11500, stop_words='english', ngram_range=(1, 3))\n",
    "s_vectorizer = TfidfVectorizer(max_features=11500, stop_words='english', ngram_range=(1, 3))\n",
    "r_vectorizer.fit(X.reviewText)\n",
    "s_vectorizer.fit(X.summary)\n",
    "\n",
    "# Apply TF-IDF vectorization \n",
    "X = apply_tfidf(X, r_vectorizer, s_vectorizer)\n",
    "\n",
    "# Apply robust scaling\n",
    "scaler = preprocessing.RobustScaler()\n",
    "X = pd.DataFrame(scaler.fit_transform(X), columns=X.columns, index=X.index)\n",
    "\n",
    "# Let us reduce the number of features by eliminating the statistically least correlated ones.\n",
    "relcols = X.columns[abs(X.corrwith(y)) > 0.01]\n",
    "X = X[relcols]\n",
    "\n",
    "# 5-fold cross validation\n",
    "kf = KFold(n_splits=5, shuffle=True, random_state=42)\n",
    "splits = []\n",
    "for train_idx, val_idx in kf.split(X, y):\n",
    "    # Apply split\n",
    "    X_train, X_val = X.iloc[train_idx], X.iloc[val_idx]\n",
    "    y_train, y_val = y.iloc[train_idx], y.iloc[val_idx]\n",
    "    \n",
    "    # Reset indices\n",
    "    X_train.reset_index(drop=True, inplace=True)\n",
    "    y_train.reset_index(drop=True, inplace=True)\n",
    "    X_val.reset_index(drop=True, inplace=True)\n",
    "    y_val.reset_index(drop=True, inplace=True)\n",
    "    splits.append((X_train, X_val, y_train, y_val))\n",
    "f1_scores, acc_scores, roc_auc_scores, conf_matrices, models = [], [], [], [], []"
   ]
  },
  {
   "cell_type": "markdown",
   "id": "0e00d4d6-8ce0-4e80-8f14-33602850eb3f",
   "metadata": {},
   "source": [
    "## Gaussian NB"
   ]
  },
  {
   "cell_type": "code",
   "execution_count": null,
   "id": "d82109b7-f624-4395-bd24-99b69b93efa0",
   "metadata": {
    "execution": {
     "iopub.execute_input": "2022-06-07T13:51:08.618583Z",
     "iopub.status.busy": "2022-06-07T13:51:08.618441Z",
     "iopub.status.idle": "2022-06-07T13:51:37.192274Z",
     "shell.execute_reply": "2022-06-07T13:51:37.191965Z",
     "shell.execute_reply.started": "2022-06-07T13:51:08.618560Z"
    },
    "tags": []
   },
   "outputs": [
    {
     "name": "stdout",
     "output_type": "stream",
     "text": [
      "Fitting 3 folds for each of 10 candidates, totalling 30 fits\n",
      "[CV 1/3] END ................var_smoothing=0.01;, score=0.667 total time=   1.2s\n",
      "[CV 2/3] END ................var_smoothing=0.01;, score=0.641 total time=   0.9s\n",
      "[CV 3/3] END ................var_smoothing=0.01;, score=0.677 total time=   0.9s\n",
      "[CV 1/3] END var_smoothing=0.0016681005372000592;, score=0.756 total time=   0.9s\n",
      "[CV 2/3] END var_smoothing=0.0016681005372000592;, score=0.756 total time=   0.9s\n",
      "[CV 3/3] END var_smoothing=0.0016681005372000592;, score=0.787 total time=   0.9s\n",
      "[CV 1/3] END var_smoothing=0.0002782559402207126;, score=0.760 total time=   0.9s\n",
      "[CV 2/3] END var_smoothing=0.0002782559402207126;, score=0.767 total time=   0.9s\n",
      "[CV 3/3] END var_smoothing=0.0002782559402207126;, score=0.806 total time=   0.9s\n",
      "[CV 1/3] END var_smoothing=4.641588833612772e-05;, score=0.730 total time=   0.9s\n",
      "[CV 2/3] END var_smoothing=4.641588833612772e-05;, score=0.752 total time=   0.9s\n",
      "[CV 3/3] END var_smoothing=4.641588833612772e-05;, score=0.795 total time=   0.9s\n",
      "[CV 1/3] END var_smoothing=7.742636826811277e-06;, score=0.711 total time=   0.9s\n",
      "[CV 2/3] END var_smoothing=7.742636826811277e-06;, score=0.739 total time=   0.9s\n",
      "[CV 3/3] END var_smoothing=7.742636826811277e-06;, score=0.788 total time=   0.9s\n",
      "[CV 1/3] END var_smoothing=1.2915496650148827e-06;, score=0.700 total time=   0.9s\n",
      "[CV 2/3] END var_smoothing=1.2915496650148827e-06;, score=0.734 total time=   0.9s\n",
      "[CV 3/3] END var_smoothing=1.2915496650148827e-06;, score=0.784 total time=   0.9s\n",
      "[CV 1/3] END var_smoothing=2.1544346900318822e-07;, score=0.698 total time=   0.9s\n",
      "[CV 2/3] END var_smoothing=2.1544346900318822e-07;, score=0.732 total time=   0.9s\n",
      "[CV 3/3] END var_smoothing=2.1544346900318822e-07;, score=0.782 total time=   0.9s\n",
      "[CV 1/3] END var_smoothing=3.593813663804626e-08;, score=0.698 total time=   0.9s\n",
      "[CV 2/3] END var_smoothing=3.593813663804626e-08;, score=0.732 total time=   0.9s\n",
      "[CV 3/3] END var_smoothing=3.593813663804626e-08;, score=0.781 total time=   0.9s\n",
      "[CV 1/3] END var_smoothing=5.994842503189421e-09;, score=0.697 total time=   0.9s\n",
      "[CV 2/3] END var_smoothing=5.994842503189421e-09;, score=0.731 total time=   0.9s\n",
      "[CV 3/3] END var_smoothing=5.994842503189421e-09;, score=0.780 total time=   0.9s\n",
      "[CV 1/3] END ...............var_smoothing=1e-09;, score=0.698 total time=   0.9s\n",
      "[CV 2/3] END ...............var_smoothing=1e-09;, score=0.732 total time=   0.9s\n",
      "[CV 3/3] END ...............var_smoothing=1e-09;, score=0.778 total time=   0.9s\n"
     ]
    },
    {
     "data": {
      "text/plain": [
       "{'var_smoothing': 0.0002782559402207126}"
      ]
     },
     "execution_count": 37,
     "metadata": {},
     "output_type": "execute_result"
    }
   ],
   "source": [
    "# Hyperparameter selection on one split\n",
    "X_train, X_val, y_train, y_val = splits[0]\n",
    "gs_cls = MechanizedGaussianNB()\n",
    "gs_cls.choose_mechanism(Mechanism.GAUSSIAN)\n",
    "params_GS = {'var_smoothing': np.logspace(-2, -9, num = 2)}\n",
    "gs_GS = MechanizedGridSearchCV(estimator=gs_cls, param_grid=params_GS, cv=3, verbose=3, scoring='f1_macro')\n",
    "gs_GS.choose_mechanism(Mechanism.GAUSSIAN)\n",
    "gs_GS.fit(X_train, y_train)\n",
    "gs_GS.best_params_"
   ]
  },
  {
   "cell_type": "code",
   "execution_count": null,
   "id": "581d08d6-58a9-43e6-8f10-a2d7dfe793e5",
   "metadata": {
    "execution": {
     "iopub.execute_input": "2022-06-07T13:51:37.193036Z",
     "iopub.status.busy": "2022-06-07T13:51:37.192957Z",
     "iopub.status.idle": "2022-06-07T13:51:43.950467Z",
     "shell.execute_reply": "2022-06-07T13:51:43.950009Z",
     "shell.execute_reply.started": "2022-06-07T13:51:37.193027Z"
    },
    "tags": []
   },
   "outputs": [
    {
     "name": "stdout",
     "output_type": "stream",
     "text": [
      "Split 0:\n",
      "  F1 score: 0.8189320562486069\n",
      "  Accuracy: 0.8271668379582049\n",
      "  ROC/AUC score: 0.8349656553296472\n",
      "Split 1:\n",
      "  F1 score: 0.8121334300249674\n",
      "  Accuracy: 0.8208290510448784\n",
      "  ROC/AUC score: 0.8320448031103385\n",
      "Split 2:\n",
      "  F1 score: 0.8166640547618027\n",
      "  Accuracy: 0.8237410071942446\n",
      "  ROC/AUC score: 0.8334087321605832\n",
      "Split 3:\n",
      "  F1 score: 0.818570815372217\n",
      "  Accuracy: 0.828708461801987\n",
      "  ROC/AUC score: 0.8354848096488993\n",
      "Split 4:\n",
      "  F1 score: 0.8201116947446008\n",
      "  Accuracy: 0.8295357204043173\n",
      "  ROC/AUC score: 0.8332006210302082\n",
      "Average F1 score: 0.8172824102304389\n",
      "Average accuracy: 0.8259962156807263\n",
      "Average ROC/AUC score: 0.8338209242559353\n"
     ]
    }
   ],
   "source": [
    "# Let us now compute performance metrics.\n",
    "for i, (X_train, X_val, y_train, y_val) in enumerate(splits[:1]):\n",
    "    print(f\"Split {i}:\")\n",
    "    # Train model\n",
    "    model = MechanizedGaussianNB(var_smoothing=gs_GS.best_params_['var_smoothing'])\n",
    "    model.choose_mechanism(Mechanism.GAUSSIAN)\n",
    "    model.fit(X_train, y_train)\n",
    "    # Predict\n",
    "    y_pred = model.predict(X_val)\n",
    "    y_proba = model.predict_proba(X_val)\n",
    "    # Compute and append f1, accuracy, confusion matrix; \n",
    "    f1_scores.append(f1_score(y_val, y_pred, average='macro'))\n",
    "    acc_scores.append(accuracy_score(y_val, y_pred))\n",
    "    roc_auc_scores.append(roc_auc_score(y_val, y_proba[:, 1]))\n",
    "    print(f\"  F1 score: {f1_scores[-1]}\")\n",
    "    print(f\"  Accuracy: {acc_scores[-1]}\")\n",
    "    print(f\"  ROC/AUC score: {roc_auc_scores[-1]}\")\n",
    "    conf_matrices.append(confusion_matrix(y_val, y_pred))\n",
    "    models.append(model)\n",
    "print(f\"Average F1 score: {np.average(f1_scores)}\")\n",
    "print(f\"Average accuracy: {np.average(acc_scores)}\")\n",
    "print(f\"Average ROC/AUC score: {np.average(roc_auc_scores)}\")"
   ]
  },
  {
   "cell_type": "code",
   "execution_count": null,
   "id": "cf77ae84-9055-490e-b626-6f54b3b18810",
   "metadata": {
    "execution": {
     "iopub.execute_input": "2022-06-07T13:51:43.952535Z",
     "iopub.status.busy": "2022-06-07T13:51:43.952439Z",
     "iopub.status.idle": "2022-06-07T13:51:44.016971Z",
     "shell.execute_reply": "2022-06-07T13:51:44.016591Z",
     "shell.execute_reply.started": "2022-06-07T13:51:43.952513Z"
    },
    "tags": []
   },
   "outputs": [
    {
     "data": {
      "text/plain": [
       "Text(33.0, 0.5, 'True label')"
      ]
     },
     "execution_count": 39,
     "metadata": {},
     "output_type": "execute_result"
    },
    {
     "data": {
      "image/png": "[encoded data removed]",
      "text/plain": [
       "<Figure size 432x288 with 2 Axes>"
      ]
     },
     "metadata": {
      "needs_background": "light"
     },
     "output_type": "display_data"
    }
   ],
   "source": [
    "sns.heatmap(sum(conf_matrices), annot=True, cmap=\"Blues\", fmt=\"d\")\n",
    "plt.xlabel('Predicted label'); plt.ylabel('True label')"
   ]
  },
  {
   "cell_type": "code",
   "execution_count": null,
   "id": "41dcda09-f79c-4af0-9a12-df2a99c1328b",
   "metadata": {
    "execution": {
     "iopub.execute_input": "2022-06-07T13:51:44.017735Z",
     "iopub.status.busy": "2022-06-07T13:51:44.017604Z",
     "iopub.status.idle": "2022-06-07T13:51:44.073590Z",
     "shell.execute_reply": "2022-06-07T13:51:44.073048Z",
     "shell.execute_reply.started": "2022-06-07T13:51:44.017715Z"
    },
    "tags": []
   },
   "outputs": [
    {
     "data": {
      "text/plain": [
       "Text(33.0, 0.5, 'True label')"
      ]
     },
     "execution_count": 40,
     "metadata": {},
     "output_type": "execute_result"
    },
    {
     "data": {
      "image/png": "[encoded data removed]",
      "text/plain": [
       "<Figure size 432x288 with 2 Axes>"
      ]
     },
     "metadata": {
      "needs_background": "light"
     },
     "output_type": "display_data"
    }
   ],
   "source": [
    "# With percentages instead\n",
    "sns.heatmap(sum(conf_matrices)/np.sum(sum(conf_matrices)), \n",
    "            annot=True, cmap=\"Blues\", fmt=\".2%\")\n",
    "plt.xlabel('Predicted label'); plt.ylabel('True label')"
   ]
  },
  {
   "cell_type": "code",
   "execution_count": null,
   "id": "70b15fa4-da9d-45ff-8659-5c0d7c49d313",
   "metadata": {
    "execution": {
     "iopub.execute_input": "2022-06-07T13:51:44.074259Z",
     "iopub.status.busy": "2022-06-07T13:51:44.074147Z",
     "iopub.status.idle": "2022-06-07T13:51:45.876021Z",
     "shell.execute_reply": "2022-06-07T13:51:45.875540Z",
     "shell.execute_reply.started": "2022-06-07T13:51:44.074249Z"
    },
    "tags": []
   },
   "outputs": [
    {
     "data": {
      "text/plain": [
       "GaussianNB(var_smoothing=0.0002782559402207126)"
      ]
     },
     "execution_count": 41,
     "metadata": {},
     "output_type": "execute_result"
    }
   ],
   "source": [
    "# Training on a new 80-20 split to draw ROC curve\n",
    "X_train, X_val, y_train, y_val = train_test_split(X, y, test_size=0.2)\n",
    "X_train.reset_index(drop=True, inplace=True)\n",
    "y_train.reset_index(drop=True, inplace=True)\n",
    "X_val.reset_index(drop=True, inplace=True)\n",
    "y_val.reset_index(drop=True, inplace=True)\n",
    "model = MechanizedGaussianNB(var_smoothing=gs_GS.best_params_['var_smoothing'])\n",
    "model.choose_mechanism(Mechanism.GAUSSIAN)\n",
    "model.fit(X_train, y_train)"
   ]
  },
  {
   "cell_type": "code",
   "execution_count": null,
   "id": "377d85ac-63a2-4d4d-9c63-08a0173b207d",
   "metadata": {
    "execution": {
     "iopub.execute_input": "2022-06-07T13:51:45.876897Z",
     "iopub.status.busy": "2022-06-07T13:51:45.876749Z",
     "iopub.status.idle": "2022-06-07T13:51:46.125676Z",
     "shell.execute_reply": "2022-06-07T13:51:46.125195Z",
     "shell.execute_reply.started": "2022-06-07T13:51:45.876847Z"
    },
    "tags": []
   },
   "outputs": [
    {
     "data": {
      "text/plain": [
       "[<matplotlib.lines.Line2D at 0x2800aafd0>]"
      ]
     },
     "execution_count": 42,
     "metadata": {},
     "output_type": "execute_result"
    },
    {
     "data": {
      "image/png": "[encoded data removed]",
      "text/plain": [
       "<Figure size 432x288 with 1 Axes>"
      ]
     },
     "metadata": {
      "needs_background": "light"
     },
     "output_type": "display_data"
    }
   ],
   "source": [
    "# Display ROC curve\n",
    "RocCurveDisplay.from_predictions(y_val, model.predict_proba(X_val)[:, 1], color='orange')\n",
    "plt.xlim([0, 1]); plt.ylim([0, 1.05])\n",
    "plt.plot([0, 1], [0, 1], 'k--')"
   ]
  },
  {
   "attachments": {},
   "cell_type": "markdown",
   "id": "891e3c69-0171-475e-ab5c-678751d5b73b",
   "metadata": {},
   "source": [
    "# Processing the data - III"
   ]
  },
  {
   "cell_type": "code",
   "execution_count": null,
   "id": "3740cd82-ad9c-4fc3-bf1e-3d444582551b",
   "metadata": {
    "execution": {
     "iopub.execute_input": "2022-06-07T14:08:04.194130Z",
     "iopub.status.busy": "2022-06-07T14:08:04.193644Z",
     "iopub.status.idle": "2022-06-07T14:08:54.344732Z",
     "shell.execute_reply": "2022-06-07T14:08:54.344066Z",
     "shell.execute_reply.started": "2022-06-07T14:08:04.194085Z"
    },
    "tags": []
   },
   "outputs": [],
   "source": [
    "# Preprocessing of training data\n",
    "proc_training_df = apply_cutoff(preprocess(training_df), 3)\n",
    "\n",
    "# Set cutoff to be the label; define X and y accordingly\n",
    "X = proc_training_df.drop('cutoff', axis=1)\n",
    "y = proc_training_df['cutoff']\n",
    "\n",
    "# Fit TF-IDF vectorizer for 'reviewText' and 'summary' features, creating max. 11500 features.\n",
    "r_vectorizer = TfidfVectorizer(max_features=11500, stop_words='english', ngram_range=(1, 3))\n",
    "s_vectorizer = TfidfVectorizer(max_features=11500, stop_words='english', ngram_range=(1, 3))\n",
    "r_vectorizer.fit(X.reviewText)\n",
    "s_vectorizer.fit(X.summary)\n",
    "\n",
    "# Apply TF-IDF vectorization \n",
    "X = apply_tfidf(X, r_vectorizer, s_vectorizer)\n",
    "\n",
    "# Apply robust scaling\n",
    "scaler = preprocessing.RobustScaler()\n",
    "X = pd.DataFrame(scaler.fit_transform(X), columns=X.columns, index=X.index)\n",
    "\n",
    "# Let us reduce the number of features by eliminating the statistically least correlated ones.\n",
    "relcols = X.columns[abs(X.corrwith(y)) > 0.01]\n",
    "X = X[relcols]\n",
    "\n",
    "# 5-fold cross validation\n",
    "kf = KFold(n_splits=5, shuffle=True, random_state=42)\n",
    "splits = []\n",
    "for train_idx, val_idx in kf.split(X, y):\n",
    "    # Apply split\n",
    "    X_train, X_val = X.iloc[train_idx], X.iloc[val_idx]\n",
    "    y_train, y_val = y.iloc[train_idx], y.iloc[val_idx]\n",
    "    \n",
    "    # Reset indices\n",
    "    X_train.reset_index(drop=True, inplace=True)\n",
    "    y_train.reset_index(drop=True, inplace=True)\n",
    "    X_val.reset_index(drop=True, inplace=True)\n",
    "    y_val.reset_index(drop=True, inplace=True)\n",
    "    splits.append((X_train, X_val, y_train, y_val))\n",
    "f1_scores, acc_scores, roc_auc_scores, conf_matrices, models = [], [], [], [], []"
   ]
  },
  {
   "cell_type": "markdown",
   "id": "0e78a33a-87db-44c1-967d-e2781d609f81",
   "metadata": {},
   "source": [
    "## Gaussian NB"
   ]
  },
  {
   "cell_type": "code",
   "execution_count": null,
   "id": "2b829258-a65b-495b-b6eb-75605bac68c4",
   "metadata": {
    "execution": {
     "iopub.execute_input": "2022-06-07T14:08:54.346476Z",
     "iopub.status.busy": "2022-06-07T14:08:54.346340Z",
     "iopub.status.idle": "2022-06-07T14:09:29.631317Z",
     "shell.execute_reply": "2022-06-07T14:09:29.630949Z",
     "shell.execute_reply.started": "2022-06-07T14:08:54.346462Z"
    },
    "tags": []
   },
   "outputs": [
    {
     "name": "stdout",
     "output_type": "stream",
     "text": [
      "Fitting 3 folds for each of 10 candidates, totalling 30 fits\n",
      "[CV 1/3] END ................var_smoothing=0.01;, score=0.768 total time=   1.5s\n",
      "[CV 2/3] END ................var_smoothing=0.01;, score=0.753 total time=   1.2s\n",
      "[CV 3/3] END ................var_smoothing=0.01;, score=0.806 total time=   1.1s\n",
      "[CV 1/3] END var_smoothing=0.0016681005372000592;, score=0.782 total time=   1.1s\n",
      "[CV 2/3] END var_smoothing=0.0016681005372000592;, score=0.791 total time=   1.1s\n",
      "[CV 3/3] END var_smoothing=0.0016681005372000592;, score=0.820 total time=   1.1s\n",
      "[CV 1/3] END var_smoothing=0.0002782559402207126;, score=0.754 total time=   1.1s\n",
      "[CV 2/3] END var_smoothing=0.0002782559402207126;, score=0.790 total time=   1.1s\n",
      "[CV 3/3] END var_smoothing=0.0002782559402207126;, score=0.810 total time=   1.1s\n",
      "[CV 1/3] END var_smoothing=4.641588833612772e-05;, score=0.727 total time=   1.1s\n",
      "[CV 2/3] END var_smoothing=4.641588833612772e-05;, score=0.762 total time=   1.1s\n",
      "[CV 3/3] END var_smoothing=4.641588833612772e-05;, score=0.787 total time=   1.1s\n",
      "[CV 1/3] END var_smoothing=7.742636826811277e-06;, score=0.707 total time=   1.1s\n",
      "[CV 2/3] END var_smoothing=7.742636826811277e-06;, score=0.743 total time=   1.1s\n",
      "[CV 3/3] END var_smoothing=7.742636826811277e-06;, score=0.773 total time=   1.1s\n",
      "[CV 1/3] END var_smoothing=1.2915496650148827e-06;, score=0.689 total time=   1.2s\n",
      "[CV 2/3] END var_smoothing=1.2915496650148827e-06;, score=0.731 total time=   1.1s\n",
      "[CV 3/3] END var_smoothing=1.2915496650148827e-06;, score=0.757 total time=   1.1s\n",
      "[CV 1/3] END var_smoothing=2.1544346900318822e-07;, score=0.681 total time=   1.1s\n",
      "[CV 2/3] END var_smoothing=2.1544346900318822e-07;, score=0.721 total time=   1.1s\n",
      "[CV 3/3] END var_smoothing=2.1544346900318822e-07;, score=0.744 total time=   1.1s\n",
      "[CV 1/3] END var_smoothing=3.593813663804626e-08;, score=0.675 total time=   1.1s\n",
      "[CV 2/3] END var_smoothing=3.593813663804626e-08;, score=0.715 total time=   1.1s\n",
      "[CV 3/3] END var_smoothing=3.593813663804626e-08;, score=0.730 total time=   1.1s\n",
      "[CV 1/3] END var_smoothing=5.994842503189421e-09;, score=0.668 total time=   1.1s\n",
      "[CV 2/3] END var_smoothing=5.994842503189421e-09;, score=0.707 total time=   1.1s\n",
      "[CV 3/3] END var_smoothing=5.994842503189421e-09;, score=0.719 total time=   1.1s\n",
      "[CV 1/3] END ...............var_smoothing=1e-09;, score=0.660 total time=   1.1s\n",
      "[CV 2/3] END ...............var_smoothing=1e-09;, score=0.701 total time=   1.2s\n",
      "[CV 3/3] END ...............var_smoothing=1e-09;, score=0.712 total time=   1.1s\n"
     ]
    },
    {
     "data": {
      "text/plain": [
       "{'var_smoothing': 0.0016681005372000592}"
      ]
     },
     "execution_count": 62,
     "metadata": {},
     "output_type": "execute_result"
    }
   ],
   "source": [
    "# Hyperparameter selection on one split\n",
    "X_train, X_val, y_train, y_val = splits[0]\n",
    "gs_cls = MechanizedGaussianNB()\n",
    "gs_cls.choose_mechanism(Mechanism.GAUSSIAN)\n",
    "params_GS = {'var_smoothing': np.logspace(-2, -9, num=2)}\n",
    "gs_GS = MechanizedGridSearchCV(estimator=gs_cls, param_grid=params_GS, cv=3, verbose=3, scoring='f1_macro')\n",
    "gs_GS.choose_mechanism(Mechanism.GAUSSIAN)\n",
    "gs_GS.fit(X_train, y_train)\n",
    "gs_GS.best_params_"
   ]
  },
  {
   "cell_type": "code",
   "execution_count": null,
   "id": "79d30ed7-88f8-4e5f-bf6c-a4e92016b309",
   "metadata": {
    "execution": {
     "iopub.execute_input": "2022-06-07T14:09:29.631893Z",
     "iopub.status.busy": "2022-06-07T14:09:29.631827Z",
     "iopub.status.idle": "2022-06-07T14:09:37.944029Z",
     "shell.execute_reply": "2022-06-07T14:09:37.943471Z",
     "shell.execute_reply.started": "2022-06-07T14:09:29.631885Z"
    },
    "tags": []
   },
   "outputs": [
    {
     "name": "stdout",
     "output_type": "stream",
     "text": [
      "Split 0:\n",
      "  F1 score: 0.8391898004477383\n",
      "  Accuracy: 0.8454950325453923\n",
      "  ROC/AUC score: 0.8920614416376393\n",
      "Split 1:\n",
      "  F1 score: 0.8213463929707884\n",
      "  Accuracy: 0.8281945871873929\n",
      "  ROC/AUC score: 0.8794714301417343\n",
      "Split 2:\n",
      "  F1 score: 0.8404802002077143\n",
      "  Accuracy: 0.8468653648509764\n",
      "  ROC/AUC score: 0.8956045481354081\n",
      "Split 3:\n",
      "  F1 score: 0.8252105323324315\n",
      "  Accuracy: 0.8304213771839671\n",
      "  ROC/AUC score: 0.8846840313618264\n",
      "Split 4:\n",
      "  F1 score: 0.815241799342201\n",
      "  Accuracy: 0.821140997087545\n",
      "  ROC/AUC score: 0.8754963861834835\n",
      "Average F1 score: 0.8282937450601746\n",
      "Average accuracy: 0.8344234717710547\n",
      "Average ROC/AUC score: 0.8854635674920184\n"
     ]
    }
   ],
   "source": [
    "# Let us now compute performance metrics.\n",
    "for i, (X_train, X_val, y_train, y_val) in enumerate(splits[:1]):\n",
    "    print(f\"Split {i}:\")\n",
    "    # Train model\n",
    "    model = MechanizedGaussianNB(var_smoothing=gs_GS.best_params_['var_smoothing'])\n",
    "    model.choose_mechanism(Mechanism.GAUSSIAN)\n",
    "    model.fit(X_train, y_train)\n",
    "    # Predict\n",
    "    y_pred = model.predict(X_val)\n",
    "    y_proba = model.predict_proba(X_val)\n",
    "    # Compute and append f1, accuracy, confusion matrix; \n",
    "    f1_scores.append(f1_score(y_val, y_pred, average='macro'))\n",
    "    acc_scores.append(accuracy_score(y_val, y_pred))\n",
    "    roc_auc_scores.append(roc_auc_score(y_val, y_proba[:, 1]))\n",
    "    print(f\"  F1 score: {f1_scores[-1]}\")\n",
    "    print(f\"  Accuracy: {acc_scores[-1]}\")\n",
    "    print(f\"  ROC/AUC score: {roc_auc_scores[-1]}\")\n",
    "    conf_matrices.append(confusion_matrix(y_val, y_pred))\n",
    "    models.append(model)\n",
    "print(f\"Average F1 score: {np.average(f1_scores)}\")\n",
    "print(f\"Average accuracy: {np.average(acc_scores)}\")\n",
    "print(f\"Average ROC/AUC score: {np.average(roc_auc_scores)}\")"
   ]
  },
  {
   "cell_type": "code",
   "execution_count": null,
   "id": "a1360de5-bf74-4b08-9b83-737788c964a9",
   "metadata": {
    "execution": {
     "iopub.execute_input": "2022-06-07T14:09:37.946185Z",
     "iopub.status.busy": "2022-06-07T14:09:37.946077Z",
     "iopub.status.idle": "2022-06-07T14:09:38.013440Z",
     "shell.execute_reply": "2022-06-07T14:09:38.012932Z",
     "shell.execute_reply.started": "2022-06-07T14:09:37.946176Z"
    },
    "tags": []
   },
   "outputs": [
    {
     "data": {
      "text/plain": [
       "Text(33.0, 0.5, 'True label')"
      ]
     },
     "execution_count": 64,
     "metadata": {},
     "output_type": "execute_result"
    },
    {
     "data": {
      "image/png": "[encoded data removed]",
      "text/plain": [
       "<Figure size 432x288 with 2 Axes>"
      ]
     },
     "metadata": {
      "needs_background": "light"
     },
     "output_type": "display_data"
    }
   ],
   "source": [
    "sns.heatmap(sum(conf_matrices), annot=True, cmap=\"Blues\", fmt=\"d\")\n",
    "plt.xlabel('Predicted label'); plt.ylabel('True label')"
   ]
  },
  {
   "cell_type": "code",
   "execution_count": null,
   "id": "41a8e063-6bb6-44e2-b557-6825172f718a",
   "metadata": {
    "execution": {
     "iopub.execute_input": "2022-06-07T14:09:38.014077Z",
     "iopub.status.busy": "2022-06-07T14:09:38.013993Z",
     "iopub.status.idle": "2022-06-07T14:09:38.075404Z",
     "shell.execute_reply": "2022-06-07T14:09:38.075039Z",
     "shell.execute_reply.started": "2022-06-07T14:09:38.014067Z"
    },
    "tags": []
   },
   "outputs": [
    {
     "data": {
      "text/plain": [
       "Text(33.0, 0.5, 'True label')"
      ]
     },
     "execution_count": 65,
     "metadata": {},
     "output_type": "execute_result"
    },
    {
     "data": {
      "image/png": "[encoded data removed]",
      "text/plain": [
       "<Figure size 432x288 with 2 Axes>"
      ]
     },
     "metadata": {
      "needs_background": "light"
     },
     "output_type": "display_data"
    }
   ],
   "source": [
    "# With percentages instead\n",
    "sns.heatmap(sum(conf_matrices)/np.sum(sum(conf_matrices)), \n",
    "            annot=True, cmap=\"Blues\", fmt=\".2%\")\n",
    "plt.xlabel('Predicted label'); plt.ylabel('True label')"
   ]
  },
  {
   "cell_type": "code",
   "execution_count": null,
   "id": "1e230194-94e6-4f34-8748-099b0e2ba519",
   "metadata": {
    "execution": {
     "iopub.execute_input": "2022-06-07T14:09:38.076105Z",
     "iopub.status.busy": "2022-06-07T14:09:38.076038Z",
     "iopub.status.idle": "2022-06-07T14:09:40.120132Z",
     "shell.execute_reply": "2022-06-07T14:09:40.119775Z",
     "shell.execute_reply.started": "2022-06-07T14:09:38.076096Z"
    },
    "tags": []
   },
   "outputs": [
    {
     "data": {
      "text/plain": [
       "GaussianNB(var_smoothing=0.0016681005372000592)"
      ]
     },
     "execution_count": 66,
     "metadata": {},
     "output_type": "execute_result"
    }
   ],
   "source": [
    "# Training on a new 80-20 split to draw ROC curve\n",
    "X_train, X_val, y_train, y_val = train_test_split(X, y, test_size=0.2)\n",
    "X_train.reset_index(drop=True, inplace=True)\n",
    "y_train.reset_index(drop=True, inplace=True)\n",
    "X_val.reset_index(drop=True, inplace=True)\n",
    "y_val.reset_index(drop=True, inplace=True)\n",
    "model = MechanizedGaussianNB(var_smoothing=gs_GS.best_params_['var_smoothing'])\n",
    "model.choose_mechanism(Mechanism.GAUSSIAN)\n",
    "model.fit(X_train, y_train)"
   ]
  },
  {
   "cell_type": "code",
   "execution_count": null,
   "id": "bb9477f4-d3e9-47ce-8d6a-772473f07507",
   "metadata": {
    "execution": {
     "iopub.execute_input": "2022-06-07T14:09:40.120996Z",
     "iopub.status.busy": "2022-06-07T14:09:40.120863Z",
     "iopub.status.idle": "2022-06-07T14:09:40.399445Z",
     "shell.execute_reply": "2022-06-07T14:09:40.398957Z",
     "shell.execute_reply.started": "2022-06-07T14:09:40.120981Z"
    },
    "tags": []
   },
   "outputs": [
    {
     "data": {
      "text/plain": [
       "[<matplotlib.lines.Line2D at 0x178999ee0>]"
      ]
     },
     "execution_count": 67,
     "metadata": {},
     "output_type": "execute_result"
    },
    {
     "data": {
      "image/png": "[encoded data removed]",
      "text/plain": [
       "<Figure size 432x288 with 1 Axes>"
      ]
     },
     "metadata": {
      "needs_background": "light"
     },
     "output_type": "display_data"
    }
   ],
   "source": [
    "# Display ROC curve\n",
    "RocCurveDisplay.from_predictions(y_val, model.predict_proba(X_val)[:, 1], color='orange')\n",
    "plt.xlim([0, 1]); plt.ylim([0, 1.05])\n",
    "plt.plot([0, 1], [0, 1], 'k--')"
   ]
  },
  {
   "cell_type": "markdown",
   "id": "5d7fa682-2fe4-473d-b85f-838038c3a0f9",
   "metadata": {},
   "source": [
    "# Task 1.4"
   ]
  },
  {
   "cell_type": "code",
   "execution_count": null,
   "id": "0369de1e-1e0b-47ee-8f72-a7d42aed0fb5",
   "metadata": {
    "execution": {
     "iopub.execute_input": "2022-06-07T14:34:22.297896Z",
     "iopub.status.busy": "2022-06-07T14:34:22.297105Z",
     "iopub.status.idle": "2022-06-07T14:35:11.034640Z",
     "shell.execute_reply": "2022-06-07T14:35:11.033669Z",
     "shell.execute_reply.started": "2022-06-07T14:34:22.297816Z"
    },
    "tags": []
   },
   "outputs": [],
   "source": [
    "# Preprocessing of training data\n",
    "proc_training_df = apply_cutoff(preprocess(training_df), 4)\n",
    "\n",
    "# Set cutoff to be the label; define X and y accordingly\n",
    "X = proc_training_df.drop('cutoff', axis=1)\n",
    "y = proc_training_df['cutoff']\n",
    "\n",
    "# Fit TF-IDF vectorizer for 'reviewText' and 'summary' features, creating max. 11500 features.\n",
    "r_vectorizer = TfidfVectorizer(max_features=11500, stop_words='english', ngram_range=(1, 3))\n",
    "s_vectorizer = TfidfVectorizer(max_features=11500, stop_words='english', ngram_range=(1, 3))\n",
    "r_vectorizer.fit(X.reviewText)\n",
    "s_vectorizer.fit(X.summary)\n",
    "\n",
    "# Apply TF-IDF vectorization \n",
    "X = apply_tfidf(X, r_vectorizer, s_vectorizer)\n",
    "\n",
    "# Apply robust scaling\n",
    "scaler = preprocessing.RobustScaler()\n",
    "X = pd.DataFrame(scaler.fit_transform(X), columns=X.columns, index=X.index)\n",
    "\n",
    "# Let us reduce the number of features by eliminating the statistically least correlated ones.\n",
    "relcols = X.columns[abs(X.corrwith(y)) > 0.01]\n",
    "X = X[relcols]\n",
    "\n",
    "# 5-fold cross validation\n",
    "kf = KFold(n_splits=5, shuffle=True, random_state=42)\n",
    "splits = []\n",
    "for train_idx, val_idx in kf.split(X, y):\n",
    "    # Apply split\n",
    "    X_train, X_val = X.iloc[train_idx], X.iloc[val_idx]\n",
    "    y_train, y_val = y.iloc[train_idx], y.iloc[val_idx]\n",
    "    \n",
    "    # Reset indices\n",
    "    X_train.reset_index(drop=True, inplace=True)\n",
    "    y_train.reset_index(drop=True, inplace=True)\n",
    "    X_val.reset_index(drop=True, inplace=True)\n",
    "    y_val.reset_index(drop=True, inplace=True)\n",
    "    splits.append((X_train, X_val, y_train, y_val))\n",
    "f1_scores, acc_scores, roc_auc_scores, conf_matrices, models = [], [], [], [], []"
   ]
  },
  {
   "cell_type": "markdown",
   "id": "3811ad3f-6e30-4d7f-95be-00992952d9a8",
   "metadata": {},
   "source": [
    "## Gaussian NB"
   ]
  },
  {
   "cell_type": "code",
   "execution_count": null,
   "id": "c63e99d7-8a18-4594-8105-e7289c6b2001",
   "metadata": {
    "execution": {
     "iopub.execute_input": "2022-06-07T14:35:11.036294Z",
     "iopub.status.busy": "2022-06-07T14:35:11.036088Z",
     "iopub.status.idle": "2022-06-07T14:35:37.661585Z",
     "shell.execute_reply": "2022-06-07T14:35:37.661234Z",
     "shell.execute_reply.started": "2022-06-07T14:35:11.036271Z"
    },
    "tags": []
   },
   "outputs": [
    {
     "name": "stdout",
     "output_type": "stream",
     "text": [
      "Fitting 3 folds for each of 10 candidates, totalling 30 fits\n",
      "[CV 1/3] END ................var_smoothing=0.01;, score=0.733 total time=   1.0s\n",
      "[CV 2/3] END ................var_smoothing=0.01;, score=0.735 total time=   0.9s\n",
      "[CV 3/3] END ................var_smoothing=0.01;, score=0.743 total time=   0.8s\n",
      "[CV 1/3] END var_smoothing=0.0016681005372000592;, score=0.738 total time=   0.8s\n",
      "[CV 2/3] END var_smoothing=0.0016681005372000592;, score=0.742 total time=   0.8s\n",
      "[CV 3/3] END var_smoothing=0.0016681005372000592;, score=0.760 total time=   0.8s\n",
      "[CV 1/3] END var_smoothing=0.0002782559402207126;, score=0.730 total time=   0.8s\n",
      "[CV 2/3] END var_smoothing=0.0002782559402207126;, score=0.718 total time=   0.8s\n",
      "[CV 3/3] END var_smoothing=0.0002782559402207126;, score=0.747 total time=   0.8s\n",
      "[CV 1/3] END var_smoothing=4.641588833612772e-05;, score=0.705 total time=   0.8s\n",
      "[CV 2/3] END var_smoothing=4.641588833612772e-05;, score=0.689 total time=   0.8s\n",
      "[CV 3/3] END var_smoothing=4.641588833612772e-05;, score=0.718 total time=   0.9s\n",
      "[CV 1/3] END var_smoothing=7.742636826811277e-06;, score=0.685 total time=   0.8s\n",
      "[CV 2/3] END var_smoothing=7.742636826811277e-06;, score=0.672 total time=   0.9s\n",
      "[CV 3/3] END var_smoothing=7.742636826811277e-06;, score=0.696 total time=   0.8s\n",
      "[CV 1/3] END var_smoothing=1.2915496650148827e-06;, score=0.676 total time=   0.8s\n",
      "[CV 2/3] END var_smoothing=1.2915496650148827e-06;, score=0.662 total time=   0.8s\n",
      "[CV 3/3] END var_smoothing=1.2915496650148827e-06;, score=0.683 total time=   0.8s\n",
      "[CV 1/3] END var_smoothing=2.1544346900318822e-07;, score=0.670 total time=   0.8s\n",
      "[CV 2/3] END var_smoothing=2.1544346900318822e-07;, score=0.657 total time=   0.8s\n",
      "[CV 3/3] END var_smoothing=2.1544346900318822e-07;, score=0.673 total time=   0.8s\n",
      "[CV 1/3] END var_smoothing=3.593813663804626e-08;, score=0.665 total time=   0.8s\n",
      "[CV 2/3] END var_smoothing=3.593813663804626e-08;, score=0.651 total time=   0.8s\n",
      "[CV 3/3] END var_smoothing=3.593813663804626e-08;, score=0.666 total time=   0.8s\n",
      "[CV 1/3] END var_smoothing=5.994842503189421e-09;, score=0.661 total time=   0.9s\n",
      "[CV 2/3] END var_smoothing=5.994842503189421e-09;, score=0.641 total time=   0.9s\n",
      "[CV 3/3] END var_smoothing=5.994842503189421e-09;, score=0.659 total time=   0.9s\n",
      "[CV 1/3] END ...............var_smoothing=1e-09;, score=0.656 total time=   1.0s\n",
      "[CV 2/3] END ...............var_smoothing=1e-09;, score=0.635 total time=   1.0s\n",
      "[CV 3/3] END ...............var_smoothing=1e-09;, score=0.651 total time=   1.0s\n"
     ]
    },
    {
     "data": {
      "text/plain": [
       "{'var_smoothing': 0.0016681005372000592}"
      ]
     },
     "execution_count": 86,
     "metadata": {},
     "output_type": "execute_result"
    }
   ],
   "source": [
    "# Hyperparameter selection on one split\n",
    "X_train, X_val, y_train, y_val = splits[0]\n",
    "gs_cls = MechanizedGaussianNB()\n",
    "gs_cls.choose_mechanism(Mechanism.GAUSSIAN)\n",
    "params_GS = {'var_smoothing': np.logspace(-2, -9, num = 2)}\n",
    "gs_GS = MechanizedGridSearchCV(estimator=gs_cls, param_grid=params_GS, cv=3, verbose=3, scoring='f1_macro')\n",
    "gs_GS.choose_mechanism(Mechanism.GAUSSIAN)\n",
    "gs_GS.fit(X_train, y_train)\n",
    "gs_GS.best_params_"
   ]
  },
  {
   "cell_type": "code",
   "execution_count": null,
   "id": "a75c86d2-7214-474e-b5b4-c7aca65e877b",
   "metadata": {
    "execution": {
     "iopub.execute_input": "2022-06-07T14:35:37.662163Z",
     "iopub.status.busy": "2022-06-07T14:35:37.662087Z",
     "iopub.status.idle": "2022-06-07T14:35:44.370100Z",
     "shell.execute_reply": "2022-06-07T14:35:44.369590Z",
     "shell.execute_reply.started": "2022-06-07T14:35:37.662153Z"
    },
    "tags": []
   },
   "outputs": [
    {
     "name": "stdout",
     "output_type": "stream",
     "text": [
      "Split 0:\n",
      "  F1 score: 0.7770344942395944\n",
      "  Accuracy: 0.8434395340870161\n",
      "  ROC/AUC score: 0.8850624628922866\n",
      "Split 1:\n",
      "  F1 score: 0.7634927233846287\n",
      "  Accuracy: 0.8398424117848579\n",
      "  ROC/AUC score: 0.8768812357978785\n",
      "Split 2:\n",
      "  F1 score: 0.7790028398820905\n",
      "  Accuracy: 0.8466940733127784\n",
      "  ROC/AUC score: 0.8862483791084754\n",
      "Split 3:\n",
      "  F1 score: 0.7808686197992506\n",
      "  Accuracy: 0.8460089071599863\n",
      "  ROC/AUC score: 0.8876574311931661\n",
      "Split 4:\n",
      "  F1 score: 0.7701868959285378\n",
      "  Accuracy: 0.8393010107932157\n",
      "  ROC/AUC score: 0.8749223413611781\n",
      "Average F1 score: 0.7741171146468204\n",
      "Average accuracy: 0.843057187427571\n",
      "Average ROC/AUC score: 0.8821543700705968\n"
     ]
    }
   ],
   "source": [
    "# Let us now compute performance metrics.\n",
    "for i, (X_train, X_val, y_train, y_val) in enumerate(splits[:1]):\n",
    "    print(f\"Split {i}:\")\n",
    "    # Train model\n",
    "    model = MechanizedGaussianNB(var_smoothing=gs_GS.best_params_['var_smoothing'])\n",
    "    model.choose_mechanism(Mechanism.GAUSSIAN)\n",
    "    model.fit(X_train, y_train)\n",
    "    # Predict\n",
    "    y_pred = model.predict(X_val)\n",
    "    y_proba = model.predict_proba(X_val)\n",
    "    # Compute and append f1, accuracy, confusion matrix; \n",
    "    f1_scores.append(f1_score(y_val, y_pred, average='macro'))\n",
    "    acc_scores.append(accuracy_score(y_val, y_pred))\n",
    "    roc_auc_scores.append(roc_auc_score(y_val, y_proba[:, 1]))\n",
    "    print(f\"  F1 score: {f1_scores[-1]}\")\n",
    "    print(f\"  Accuracy: {acc_scores[-1]}\")\n",
    "    print(f\"  ROC/AUC score: {roc_auc_scores[-1]}\")\n",
    "    conf_matrices.append(confusion_matrix(y_val, y_pred))\n",
    "    models.append(model)\n",
    "print(f\"Average F1 score: {np.average(f1_scores)}\")\n",
    "print(f\"Average accuracy: {np.average(acc_scores)}\")\n",
    "print(f\"Average ROC/AUC score: {np.average(roc_auc_scores)}\")"
   ]
  },
  {
   "cell_type": "code",
   "execution_count": null,
   "id": "aede2074-a5df-4089-b769-0ec75762c041",
   "metadata": {
    "execution": {
     "iopub.execute_input": "2022-06-07T14:35:44.372379Z",
     "iopub.status.busy": "2022-06-07T14:35:44.371923Z",
     "iopub.status.idle": "2022-06-07T14:35:44.667371Z",
     "shell.execute_reply": "2022-06-07T14:35:44.666803Z",
     "shell.execute_reply.started": "2022-06-07T14:35:44.372356Z"
    },
    "tags": []
   },
   "outputs": [
    {
     "data": {
      "text/plain": [
       "Text(33.0, 0.5, 'True label')"
      ]
     },
     "execution_count": 88,
     "metadata": {},
     "output_type": "execute_result"
    },
    {
     "data": {
      "image/png": "[encoded data removed]",
      "text/plain": [
       "<Figure size 432x288 with 2 Axes>"
      ]
     },
     "metadata": {
      "needs_background": "light"
     },
     "output_type": "display_data"
    }
   ],
   "source": [
    "sns.heatmap(sum(conf_matrices), annot=True, cmap=\"Blues\", fmt=\"d\")\n",
    "plt.xlabel('Predicted label'); plt.ylabel('True label')"
   ]
  },
  {
   "cell_type": "code",
   "execution_count": null,
   "id": "b184f6d0-feb8-41dd-b60d-caf24be26154",
   "metadata": {
    "execution": {
     "iopub.execute_input": "2022-06-07T14:35:44.668234Z",
     "iopub.status.busy": "2022-06-07T14:35:44.668026Z",
     "iopub.status.idle": "2022-06-07T14:35:44.774129Z",
     "shell.execute_reply": "2022-06-07T14:35:44.773603Z",
     "shell.execute_reply.started": "2022-06-07T14:35:44.668209Z"
    },
    "tags": []
   },
   "outputs": [
    {
     "data": {
      "text/plain": [
       "Text(33.0, 0.5, 'True label')"
      ]
     },
     "execution_count": 89,
     "metadata": {},
     "output_type": "execute_result"
    },
    {
     "data": {
      "image/png": "[encoded data removed]",
      "text/plain": [
       "<Figure size 432x288 with 2 Axes>"
      ]
     },
     "metadata": {
      "needs_background": "light"
     },
     "output_type": "display_data"
    }
   ],
   "source": [
    "# With percentages instead\n",
    "sns.heatmap(sum(conf_matrices)/np.sum(sum(conf_matrices)), \n",
    "            annot=True, cmap=\"Blues\", fmt=\".2%\")\n",
    "plt.xlabel('Predicted label'); plt.ylabel('True label')"
   ]
  },
  {
   "cell_type": "code",
   "execution_count": null,
   "id": "16fa4156-de1c-4509-bcef-812adb1b8009",
   "metadata": {
    "execution": {
     "iopub.execute_input": "2022-06-07T14:35:44.774970Z",
     "iopub.status.busy": "2022-06-07T14:35:44.774845Z",
     "iopub.status.idle": "2022-06-07T14:35:46.693914Z",
     "shell.execute_reply": "2022-06-07T14:35:46.693559Z",
     "shell.execute_reply.started": "2022-06-07T14:35:44.774953Z"
    },
    "tags": []
   },
   "outputs": [
    {
     "data": {
      "text/plain": [
       "GaussianNB(var_smoothing=0.0016681005372000592)"
      ]
     },
     "execution_count": 90,
     "metadata": {},
     "output_type": "execute_result"
    }
   ],
   "source": [
    "# Training on a new 80-20 split to draw ROC curve\n",
    "X_train, X_val, y_train, y_val = train_test_split(X, y, test_size=0.2)\n",
    "X_train.reset_index(drop=True, inplace=True)\n",
    "y_train.reset_index(drop=True, inplace=True)\n",
    "X_val.reset_index(drop=True, inplace=True)\n",
    "y_val.reset_index(drop=True, inplace=True)\n",
    "model = MechanizedGaussianNB(var_smoothing=gs_GS.best_params_['var_smoothing'])\n",
    "model.choose_mechanism(Mechanism.GAUSSIAN)\n",
    "model.fit(X_train, y_train)"
   ]
  },
  {
   "cell_type": "code",
   "execution_count": null,
   "id": "f314292f-0385-4d10-aa80-4801c5b6fcae",
   "metadata": {
    "execution": {
     "iopub.execute_input": "2022-06-07T14:35:46.694541Z",
     "iopub.status.busy": "2022-06-07T14:35:46.694464Z",
     "iopub.status.idle": "2022-06-07T14:35:46.940275Z",
     "shell.execute_reply": "2022-06-07T14:35:46.939887Z",
     "shell.execute_reply.started": "2022-06-07T14:35:46.694531Z"
    },
    "tags": []
   },
   "outputs": [
    {
     "data": {
      "text/plain": [
       "[<matplotlib.lines.Line2D at 0x17f37a580>]"
      ]
     },
     "execution_count": 91,
     "metadata": {},
     "output_type": "execute_result"
    },
    {
     "data": {
      "image/png": "[encoded data removed]",
      "text/plain": [
       "<Figure size 432x288 with 1 Axes>"
      ]
     },
     "metadata": {
      "needs_background": "light"
     },
     "output_type": "display_data"
    }
   ],
   "source": [
    "# Display ROC curve\n",
    "RocCurveDisplay.from_predictions(y_val, model.predict_proba(X_val)[:, 1], color='orange')\n",
    "plt.xlim([0, 1]); plt.ylim([0, 1.05])\n",
    "plt.plot([0, 1], [0, 1], 'k--')"
   ]
  }
 ],
 "metadata": {
  "kernelspec": {
   "display_name": "Python 3",
   "language": "python",
   "name": "python3"
  },
  "language_info": {
   "codemirror_mode": {
    "name": "ipython",
    "version": 3
   },
   "file_extension": ".py",
   "mimetype": "text/x-python",
   "name": "python",
   "nbconvert_exporter": "python",
   "pygments_lexer": "ipython3",
   "version": "3.10.6"
  },
  "vscode": {
   "interpreter": {
    "hash": "aee8b7b246df8f9039afb4144a1f6fd8d2ca17a180786b69acc140d282b71a49"
   }
  }
 },
 "nbformat": 4,
 "nbformat_minor": 5
}
