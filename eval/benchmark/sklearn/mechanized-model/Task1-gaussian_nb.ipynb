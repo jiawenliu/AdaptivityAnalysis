{
 "cells": [
  {
   "cell_type": "code",
   "execution_count": 3,
   "id": "588f71ba-f0f5-49e7-bd47-9ff3d396fce6",
   "metadata": {
    "execution": {
     "iopub.execute_input": "2022-06-07T13:32:16.560634Z",
     "iopub.status.busy": "2022-06-07T13:32:16.560406Z",
     "iopub.status.idle": "2022-06-07T13:32:17.402020Z",
     "shell.execute_reply": "2022-06-07T13:32:17.401771Z",
     "shell.execute_reply.started": "2022-06-07T13:32:16.560554Z"
    },
    "tags": []
   },
   "outputs": [],
   "source": [
    "import pandas as pd\n",
    "import numpy as np\n",
    "import matplotlib.pyplot as plt\n",
    "import seaborn as sns\n",
    "from sklearn import preprocessing\n",
    "from sklearn.model_selection import train_test_split, KFold, GridSearchCV\n",
    "from sklearn.feature_extraction.text import TfidfVectorizer"
   ]
  },
  {
   "cell_type": "code",
   "execution_count": 4,
   "id": "697a6538-f1d8-4f02-9f63-daaf253e6a4d",
   "metadata": {
    "execution": {
     "iopub.execute_input": "2022-06-07T13:32:17.402605Z",
     "iopub.status.busy": "2022-06-07T13:32:17.402510Z",
     "iopub.status.idle": "2022-06-07T13:32:17.430681Z",
     "shell.execute_reply": "2022-06-07T13:32:17.430380Z",
     "shell.execute_reply.started": "2022-06-07T13:32:17.402596Z"
    },
    "tags": []
   },
   "outputs": [],
   "source": [
    "\n",
    "\n",
    "from sklearn.metrics import accuracy_score, f1_score, roc_auc_score, confusion_matrix, RocCurveDisplay\n",
    "from sklearn.linear_model import LogisticRegression\n",
    "from sklearn.tree import DecisionTreeClassifier\n",
    "from sklearn.naive_bayes import GaussianNB\n",
    "\n",
    "import sys\n",
    "sys.path.append(\"..\")\n",
    "\n",
    "from mechanism.mechanized_models import MechanizedGaussianNB\n",
    "from mechanism.mechanized_models import MechanizedLogisticRegression\n",
    "from mechanism.mechanized_models import MechanizedDecisionTree\n",
    "\n",
    "\n"
   ]
  },
  {
   "cell_type": "code",
   "execution_count": 5,
   "id": "41bae7ab-7f6c-49ef-9241-458916ff6a39",
   "metadata": {
    "execution": {
     "iopub.execute_input": "2022-06-07T13:32:17.431942Z",
     "iopub.status.busy": "2022-06-07T13:32:17.431849Z",
     "iopub.status.idle": "2022-06-07T13:32:17.435166Z",
     "shell.execute_reply": "2022-06-07T13:32:17.434933Z",
     "shell.execute_reply.started": "2022-06-07T13:32:17.431929Z"
    },
    "tags": []
   },
   "outputs": [],
   "source": [
    "# Basic preprocessing\n",
    "def preprocess(df):\n",
    "    df_new = df.copy()\n",
    "    \n",
    "    # Discard identifiers, style information, timestamps\n",
    "    df_new = df_new[df_new.columns.difference(['image', 'style', 'reviewTime', \n",
    "                                               'reviewerID', 'asin', 'reviewerName', 'unixReviewTime'])]\n",
    "\n",
    "    # Turn category into binary features\n",
    "    for cat in df_new.category.unique():\n",
    "        df_new[cat] = df_new['category'] == cat\n",
    "\n",
    "    # Drop category column\n",
    "    df_new.drop(columns=['category'], inplace=True)\n",
    "\n",
    "    # NaN vote is 0 users found helpful\n",
    "    df_new.vote.fillna(0, inplace=True)\n",
    "    \n",
    "    # Turn vote into binary feature\n",
    "    df_new.vote = df_new.vote > 0\n",
    "    # df_new.vote.clip(0, 10)\n",
    "    # df_new.vote = df_new.vote / 10\n",
    "\n",
    "    # NaN summary is empty summary\n",
    "    df_new.summary.fillna('', inplace=True)\n",
    "\n",
    "    # Turn Booleans into binary variables\n",
    "    df_new.replace({False: 0, True: 1}, inplace=True)\n",
    "    \n",
    "    return df_new"
   ]
  },
  {
   "cell_type": "code",
   "execution_count": 6,
   "id": "645feae0-59a6-443f-bb4e-23caf28e59ab",
   "metadata": {
    "execution": {
     "iopub.execute_input": "2022-06-07T13:32:17.435526Z",
     "iopub.status.busy": "2022-06-07T13:32:17.435468Z",
     "iopub.status.idle": "2022-06-07T13:32:17.437790Z",
     "shell.execute_reply": "2022-06-07T13:32:17.437525Z",
     "shell.execute_reply.started": "2022-06-07T13:32:17.435518Z"
    },
    "tags": []
   },
   "outputs": [],
   "source": [
    "# Remove 'overall' column and add cutoff column applying cutoff\n",
    "def apply_cutoff(df, cutoff):\n",
    "    df_new = df.copy()\n",
    "    \n",
    "    # Apply cutoff\n",
    "    cut = df['overall'] > cutoff\n",
    "    df_new['cutoff'] = cut\n",
    "\n",
    "    # Drop overall and category\n",
    "    df_new.drop(columns=['overall'], inplace=True)\n",
    "    \n",
    "    # Turn Booleans into binary variables\n",
    "    df_new.replace({False: 0, True: 1}, inplace=True)\n",
    "    \n",
    "    return df_new"
   ]
  },
  {
   "cell_type": "code",
   "execution_count": 7,
   "id": "c04094b6-1e7a-4817-a324-1820e843737c",
   "metadata": {
    "execution": {
     "iopub.execute_input": "2022-06-07T13:32:17.438231Z",
     "iopub.status.busy": "2022-06-07T13:32:17.438169Z",
     "iopub.status.idle": "2022-06-07T13:32:17.440536Z",
     "shell.execute_reply": "2022-06-07T13:32:17.440296Z",
     "shell.execute_reply.started": "2022-06-07T13:32:17.438223Z"
    },
    "tags": []
   },
   "outputs": [],
   "source": [
    "def apply_tfidf(df, review_vectorizer, summary_vectorizer):\n",
    "    review_matrix = pd.DataFrame(data=review_vectorizer.transform(df.reviewText).toarray(), columns='R_' + review_vectorizer.get_feature_names_out())\n",
    "    summary_matrix = pd.DataFrame(data=summary_vectorizer.transform(df.summary).toarray(), columns='S_' + summary_vectorizer.get_feature_names_out())\n",
    "    df_new = pd.concat([df, review_matrix, summary_matrix], axis=1)\n",
    "    df_new.drop(columns=['summary', 'reviewText'], inplace=True)\n",
    "    return df_new"
   ]
  },
  {
   "cell_type": "code",
   "execution_count": 8,
   "id": "4d7dad27-0687-48a6-9c8b-4954e6fe21cc",
   "metadata": {
    "execution": {
     "iopub.execute_input": "2022-06-07T13:32:17.441028Z",
     "iopub.status.busy": "2022-06-07T13:32:17.440938Z",
     "iopub.status.idle": "2022-06-07T13:32:17.603401Z",
     "shell.execute_reply": "2022-06-07T13:32:17.603159Z",
     "shell.execute_reply.started": "2022-06-07T13:32:17.441019Z"
    },
    "tags": []
   },
   "outputs": [],
   "source": [
    "training_df = pd.read_csv('../data/Training.csv')\n",
    "test_df = pd.read_csv('../data/Test.csv')"
   ]
  },
  {
   "cell_type": "markdown",
   "id": "1125a5cf-8b7c-4f58-95e8-ccf10b5e8e67",
   "metadata": {
    "tags": []
   },
   "source": [
    "# Task 1.1"
   ]
  },
  {
   "cell_type": "code",
   "execution_count": 9,
   "id": "25f1603d-4906-497b-a699-91c1b1967f4f",
   "metadata": {
    "execution": {
     "iopub.execute_input": "2022-06-07T13:32:17.603858Z",
     "iopub.status.busy": "2022-06-07T13:32:17.603790Z",
     "iopub.status.idle": "2022-06-07T13:33:00.794496Z",
     "shell.execute_reply": "2022-06-07T13:33:00.793813Z",
     "shell.execute_reply.started": "2022-06-07T13:32:17.603849Z"
    },
    "tags": []
   },
   "outputs": [],
   "source": [
    "# Preprocessing of training data\n",
    "proc_training_df = apply_cutoff(preprocess(training_df), 1)\n",
    "\n",
    "# Set cutoff to be the label; define X and y accordingly\n",
    "X = proc_training_df.drop('cutoff', axis=1)\n",
    "y = proc_training_df['cutoff']\n",
    "\n",
    "# Fit TF-IDF vectorizer for 'reviewText' and 'summary' features, creating max. 11500 features.\n",
    "r_vectorizer = TfidfVectorizer(max_features=11500, stop_words='english', ngram_range=(1, 3))\n",
    "s_vectorizer = TfidfVectorizer(max_features=11500, stop_words='english', ngram_range=(1, 3))\n",
    "r_vectorizer.fit(X.reviewText)\n",
    "s_vectorizer.fit(X.summary)\n",
    "\n",
    "# Apply TF-IDF vectorization \n",
    "X = apply_tfidf(X, r_vectorizer, s_vectorizer)\n",
    "\n",
    "# Apply robust scaling\n",
    "scaler = preprocessing.RobustScaler()\n",
    "X = pd.DataFrame(scaler.fit_transform(X), columns=X.columns, index=X.index)"
   ]
  },
  {
   "cell_type": "code",
   "execution_count": 10,
   "id": "e361be40-f9b9-489e-81dd-d04257847694",
   "metadata": {
    "execution": {
     "iopub.execute_input": "2022-06-07T13:33:00.795790Z",
     "iopub.status.busy": "2022-06-07T13:33:00.795564Z",
     "iopub.status.idle": "2022-06-07T13:33:00.818424Z",
     "shell.execute_reply": "2022-06-07T13:33:00.818095Z",
     "shell.execute_reply.started": "2022-06-07T13:33:00.795768Z"
    },
    "tags": []
   },
   "outputs": [
    {
     "data": {
      "text/html": [
       "<div>\n",
       "<style scoped>\n",
       "    .dataframe tbody tr th:only-of-type {\n",
       "        vertical-align: middle;\n",
       "    }\n",
       "\n",
       "    .dataframe tbody tr th {\n",
       "        vertical-align: top;\n",
       "    }\n",
       "\n",
       "    .dataframe thead th {\n",
       "        text-align: right;\n",
       "    }\n",
       "</style>\n",
       "<table border=\"1\" class=\"dataframe\">\n",
       "  <thead>\n",
       "    <tr style=\"text-align: right;\">\n",
       "      <th></th>\n",
       "      <th>verified</th>\n",
       "      <th>vote</th>\n",
       "      <th>automotive</th>\n",
       "      <th>CDs</th>\n",
       "      <th>grocery</th>\n",
       "      <th>cell_phones</th>\n",
       "      <th>sports</th>\n",
       "      <th>toys</th>\n",
       "      <th>R_00</th>\n",
       "      <th>R_000</th>\n",
       "      <th>...</th>\n",
       "      <th>S_zest</th>\n",
       "      <th>S_zest far</th>\n",
       "      <th>S_zest far inferior</th>\n",
       "      <th>S_zimmer</th>\n",
       "      <th>S_zipper</th>\n",
       "      <th>S_zippers</th>\n",
       "      <th>S_zoom</th>\n",
       "      <th>S_zz</th>\n",
       "      <th>S_zz greatest</th>\n",
       "      <th>S_zz greatest hits</th>\n",
       "    </tr>\n",
       "  </thead>\n",
       "  <tbody>\n",
       "    <tr>\n",
       "      <th>0</th>\n",
       "      <td>-1.0</td>\n",
       "      <td>1.0</td>\n",
       "      <td>1.0</td>\n",
       "      <td>0.0</td>\n",
       "      <td>0.0</td>\n",
       "      <td>0.0</td>\n",
       "      <td>0.0</td>\n",
       "      <td>0.0</td>\n",
       "      <td>0.0</td>\n",
       "      <td>0.0</td>\n",
       "      <td>...</td>\n",
       "      <td>0.0</td>\n",
       "      <td>0.0</td>\n",
       "      <td>0.0</td>\n",
       "      <td>0.0</td>\n",
       "      <td>0.0</td>\n",
       "      <td>0.0</td>\n",
       "      <td>0.0</td>\n",
       "      <td>0.0</td>\n",
       "      <td>0.0</td>\n",
       "      <td>0.0</td>\n",
       "    </tr>\n",
       "    <tr>\n",
       "      <th>1</th>\n",
       "      <td>0.0</td>\n",
       "      <td>0.0</td>\n",
       "      <td>1.0</td>\n",
       "      <td>0.0</td>\n",
       "      <td>0.0</td>\n",
       "      <td>0.0</td>\n",
       "      <td>0.0</td>\n",
       "      <td>0.0</td>\n",
       "      <td>0.0</td>\n",
       "      <td>0.0</td>\n",
       "      <td>...</td>\n",
       "      <td>0.0</td>\n",
       "      <td>0.0</td>\n",
       "      <td>0.0</td>\n",
       "      <td>0.0</td>\n",
       "      <td>0.0</td>\n",
       "      <td>0.0</td>\n",
       "      <td>0.0</td>\n",
       "      <td>0.0</td>\n",
       "      <td>0.0</td>\n",
       "      <td>0.0</td>\n",
       "    </tr>\n",
       "    <tr>\n",
       "      <th>2</th>\n",
       "      <td>0.0</td>\n",
       "      <td>0.0</td>\n",
       "      <td>1.0</td>\n",
       "      <td>0.0</td>\n",
       "      <td>0.0</td>\n",
       "      <td>0.0</td>\n",
       "      <td>0.0</td>\n",
       "      <td>0.0</td>\n",
       "      <td>0.0</td>\n",
       "      <td>0.0</td>\n",
       "      <td>...</td>\n",
       "      <td>0.0</td>\n",
       "      <td>0.0</td>\n",
       "      <td>0.0</td>\n",
       "      <td>0.0</td>\n",
       "      <td>0.0</td>\n",
       "      <td>0.0</td>\n",
       "      <td>0.0</td>\n",
       "      <td>0.0</td>\n",
       "      <td>0.0</td>\n",
       "      <td>0.0</td>\n",
       "    </tr>\n",
       "    <tr>\n",
       "      <th>3</th>\n",
       "      <td>0.0</td>\n",
       "      <td>0.0</td>\n",
       "      <td>1.0</td>\n",
       "      <td>0.0</td>\n",
       "      <td>0.0</td>\n",
       "      <td>0.0</td>\n",
       "      <td>0.0</td>\n",
       "      <td>0.0</td>\n",
       "      <td>0.0</td>\n",
       "      <td>0.0</td>\n",
       "      <td>...</td>\n",
       "      <td>0.0</td>\n",
       "      <td>0.0</td>\n",
       "      <td>0.0</td>\n",
       "      <td>0.0</td>\n",
       "      <td>0.0</td>\n",
       "      <td>0.0</td>\n",
       "      <td>0.0</td>\n",
       "      <td>0.0</td>\n",
       "      <td>0.0</td>\n",
       "      <td>0.0</td>\n",
       "    </tr>\n",
       "    <tr>\n",
       "      <th>4</th>\n",
       "      <td>0.0</td>\n",
       "      <td>0.0</td>\n",
       "      <td>1.0</td>\n",
       "      <td>0.0</td>\n",
       "      <td>0.0</td>\n",
       "      <td>0.0</td>\n",
       "      <td>0.0</td>\n",
       "      <td>0.0</td>\n",
       "      <td>0.0</td>\n",
       "      <td>0.0</td>\n",
       "      <td>...</td>\n",
       "      <td>0.0</td>\n",
       "      <td>0.0</td>\n",
       "      <td>0.0</td>\n",
       "      <td>0.0</td>\n",
       "      <td>0.0</td>\n",
       "      <td>0.0</td>\n",
       "      <td>0.0</td>\n",
       "      <td>0.0</td>\n",
       "      <td>0.0</td>\n",
       "      <td>0.0</td>\n",
       "    </tr>\n",
       "    <tr>\n",
       "      <th>...</th>\n",
       "      <td>...</td>\n",
       "      <td>...</td>\n",
       "      <td>...</td>\n",
       "      <td>...</td>\n",
       "      <td>...</td>\n",
       "      <td>...</td>\n",
       "      <td>...</td>\n",
       "      <td>...</td>\n",
       "      <td>...</td>\n",
       "      <td>...</td>\n",
       "      <td>...</td>\n",
       "      <td>...</td>\n",
       "      <td>...</td>\n",
       "      <td>...</td>\n",
       "      <td>...</td>\n",
       "      <td>...</td>\n",
       "      <td>...</td>\n",
       "      <td>...</td>\n",
       "      <td>...</td>\n",
       "      <td>...</td>\n",
       "      <td>...</td>\n",
       "    </tr>\n",
       "    <tr>\n",
       "      <th>29184</th>\n",
       "      <td>0.0</td>\n",
       "      <td>0.0</td>\n",
       "      <td>0.0</td>\n",
       "      <td>0.0</td>\n",
       "      <td>0.0</td>\n",
       "      <td>0.0</td>\n",
       "      <td>0.0</td>\n",
       "      <td>1.0</td>\n",
       "      <td>0.0</td>\n",
       "      <td>0.0</td>\n",
       "      <td>...</td>\n",
       "      <td>0.0</td>\n",
       "      <td>0.0</td>\n",
       "      <td>0.0</td>\n",
       "      <td>0.0</td>\n",
       "      <td>0.0</td>\n",
       "      <td>0.0</td>\n",
       "      <td>0.0</td>\n",
       "      <td>0.0</td>\n",
       "      <td>0.0</td>\n",
       "      <td>0.0</td>\n",
       "    </tr>\n",
       "    <tr>\n",
       "      <th>29185</th>\n",
       "      <td>0.0</td>\n",
       "      <td>0.0</td>\n",
       "      <td>0.0</td>\n",
       "      <td>0.0</td>\n",
       "      <td>0.0</td>\n",
       "      <td>0.0</td>\n",
       "      <td>0.0</td>\n",
       "      <td>1.0</td>\n",
       "      <td>0.0</td>\n",
       "      <td>0.0</td>\n",
       "      <td>...</td>\n",
       "      <td>0.0</td>\n",
       "      <td>0.0</td>\n",
       "      <td>0.0</td>\n",
       "      <td>0.0</td>\n",
       "      <td>0.0</td>\n",
       "      <td>0.0</td>\n",
       "      <td>0.0</td>\n",
       "      <td>0.0</td>\n",
       "      <td>0.0</td>\n",
       "      <td>0.0</td>\n",
       "    </tr>\n",
       "    <tr>\n",
       "      <th>29186</th>\n",
       "      <td>0.0</td>\n",
       "      <td>0.0</td>\n",
       "      <td>0.0</td>\n",
       "      <td>0.0</td>\n",
       "      <td>0.0</td>\n",
       "      <td>0.0</td>\n",
       "      <td>0.0</td>\n",
       "      <td>1.0</td>\n",
       "      <td>0.0</td>\n",
       "      <td>0.0</td>\n",
       "      <td>...</td>\n",
       "      <td>0.0</td>\n",
       "      <td>0.0</td>\n",
       "      <td>0.0</td>\n",
       "      <td>0.0</td>\n",
       "      <td>0.0</td>\n",
       "      <td>0.0</td>\n",
       "      <td>0.0</td>\n",
       "      <td>0.0</td>\n",
       "      <td>0.0</td>\n",
       "      <td>0.0</td>\n",
       "    </tr>\n",
       "    <tr>\n",
       "      <th>29187</th>\n",
       "      <td>0.0</td>\n",
       "      <td>0.0</td>\n",
       "      <td>0.0</td>\n",
       "      <td>0.0</td>\n",
       "      <td>0.0</td>\n",
       "      <td>0.0</td>\n",
       "      <td>0.0</td>\n",
       "      <td>1.0</td>\n",
       "      <td>0.0</td>\n",
       "      <td>0.0</td>\n",
       "      <td>...</td>\n",
       "      <td>0.0</td>\n",
       "      <td>0.0</td>\n",
       "      <td>0.0</td>\n",
       "      <td>0.0</td>\n",
       "      <td>0.0</td>\n",
       "      <td>0.0</td>\n",
       "      <td>0.0</td>\n",
       "      <td>0.0</td>\n",
       "      <td>0.0</td>\n",
       "      <td>0.0</td>\n",
       "    </tr>\n",
       "    <tr>\n",
       "      <th>29188</th>\n",
       "      <td>0.0</td>\n",
       "      <td>0.0</td>\n",
       "      <td>0.0</td>\n",
       "      <td>0.0</td>\n",
       "      <td>0.0</td>\n",
       "      <td>0.0</td>\n",
       "      <td>0.0</td>\n",
       "      <td>1.0</td>\n",
       "      <td>0.0</td>\n",
       "      <td>0.0</td>\n",
       "      <td>...</td>\n",
       "      <td>0.0</td>\n",
       "      <td>0.0</td>\n",
       "      <td>0.0</td>\n",
       "      <td>0.0</td>\n",
       "      <td>0.0</td>\n",
       "      <td>0.0</td>\n",
       "      <td>0.0</td>\n",
       "      <td>0.0</td>\n",
       "      <td>0.0</td>\n",
       "      <td>0.0</td>\n",
       "    </tr>\n",
       "  </tbody>\n",
       "</table>\n",
       "<p>29189 rows × 23008 columns</p>\n",
       "</div>"
      ],
      "text/plain": [
       "       verified  vote  automotive  CDs  grocery  cell_phones  sports  toys  \\\n",
       "0          -1.0   1.0         1.0  0.0      0.0          0.0     0.0   0.0   \n",
       "1           0.0   0.0         1.0  0.0      0.0          0.0     0.0   0.0   \n",
       "2           0.0   0.0         1.0  0.0      0.0          0.0     0.0   0.0   \n",
       "3           0.0   0.0         1.0  0.0      0.0          0.0     0.0   0.0   \n",
       "4           0.0   0.0         1.0  0.0      0.0          0.0     0.0   0.0   \n",
       "...         ...   ...         ...  ...      ...          ...     ...   ...   \n",
       "29184       0.0   0.0         0.0  0.0      0.0          0.0     0.0   1.0   \n",
       "29185       0.0   0.0         0.0  0.0      0.0          0.0     0.0   1.0   \n",
       "29186       0.0   0.0         0.0  0.0      0.0          0.0     0.0   1.0   \n",
       "29187       0.0   0.0         0.0  0.0      0.0          0.0     0.0   1.0   \n",
       "29188       0.0   0.0         0.0  0.0      0.0          0.0     0.0   1.0   \n",
       "\n",
       "       R_00  R_000  ...  S_zest  S_zest far  S_zest far inferior  S_zimmer  \\\n",
       "0       0.0    0.0  ...     0.0         0.0                  0.0       0.0   \n",
       "1       0.0    0.0  ...     0.0         0.0                  0.0       0.0   \n",
       "2       0.0    0.0  ...     0.0         0.0                  0.0       0.0   \n",
       "3       0.0    0.0  ...     0.0         0.0                  0.0       0.0   \n",
       "4       0.0    0.0  ...     0.0         0.0                  0.0       0.0   \n",
       "...     ...    ...  ...     ...         ...                  ...       ...   \n",
       "29184   0.0    0.0  ...     0.0         0.0                  0.0       0.0   \n",
       "29185   0.0    0.0  ...     0.0         0.0                  0.0       0.0   \n",
       "29186   0.0    0.0  ...     0.0         0.0                  0.0       0.0   \n",
       "29187   0.0    0.0  ...     0.0         0.0                  0.0       0.0   \n",
       "29188   0.0    0.0  ...     0.0         0.0                  0.0       0.0   \n",
       "\n",
       "       S_zipper  S_zippers  S_zoom  S_zz  S_zz greatest  S_zz greatest hits  \n",
       "0           0.0        0.0     0.0   0.0            0.0                 0.0  \n",
       "1           0.0        0.0     0.0   0.0            0.0                 0.0  \n",
       "2           0.0        0.0     0.0   0.0            0.0                 0.0  \n",
       "3           0.0        0.0     0.0   0.0            0.0                 0.0  \n",
       "4           0.0        0.0     0.0   0.0            0.0                 0.0  \n",
       "...         ...        ...     ...   ...            ...                 ...  \n",
       "29184       0.0        0.0     0.0   0.0            0.0                 0.0  \n",
       "29185       0.0        0.0     0.0   0.0            0.0                 0.0  \n",
       "29186       0.0        0.0     0.0   0.0            0.0                 0.0  \n",
       "29187       0.0        0.0     0.0   0.0            0.0                 0.0  \n",
       "29188       0.0        0.0     0.0   0.0            0.0                 0.0  \n",
       "\n",
       "[29189 rows x 23008 columns]"
      ]
     },
     "execution_count": 10,
     "metadata": {},
     "output_type": "execute_result"
    }
   ],
   "source": [
    "X"
   ]
  },
  {
   "cell_type": "code",
   "execution_count": 11,
   "id": "2f349e51-5599-42f9-9d63-bd73cb4a795b",
   "metadata": {
    "execution": {
     "iopub.execute_input": "2022-06-07T13:33:00.819142Z",
     "iopub.status.busy": "2022-06-07T13:33:00.819066Z",
     "iopub.status.idle": "2022-06-07T13:33:07.936578Z",
     "shell.execute_reply": "2022-06-07T13:33:07.936277Z",
     "shell.execute_reply.started": "2022-06-07T13:33:00.819133Z"
    },
    "tags": []
   },
   "outputs": [
    {
     "data": {
      "text/plain": [
       "Index(['verified', 'vote', 'R_00', 'R_08', 'R_10 bucks', 'R_12', 'R_15',\n",
       "       'R_1970', 'R_1970s', 'R_1973',\n",
       "       ...\n",
       "       'S_wtf', 'S_year old', 'S_young', 'S_yuck', 'S_yucky', 'S_yuk', 'S_yum',\n",
       "       'S_yummy', 'S_zero', 'S_zero stars'],\n",
       "      dtype='object', length=4272)"
      ]
     },
     "execution_count": 11,
     "metadata": {},
     "output_type": "execute_result"
    }
   ],
   "source": [
    "# Let us reduce the number of features by eliminating the statistically least correlated ones.\n",
    "relcols = X.columns[abs(X.corrwith(y)) > 0.01]\n",
    "relcols"
   ]
  },
  {
   "cell_type": "code",
   "execution_count": 12,
   "id": "56c82cb4-e2bf-441c-a50a-9972f422ff31",
   "metadata": {
    "execution": {
     "iopub.execute_input": "2022-06-07T13:33:07.937445Z",
     "iopub.status.busy": "2022-06-07T13:33:07.937340Z",
     "iopub.status.idle": "2022-06-07T13:33:08.236297Z",
     "shell.execute_reply": "2022-06-07T13:33:08.236007Z",
     "shell.execute_reply.started": "2022-06-07T13:33:07.937433Z"
    },
    "tags": []
   },
   "outputs": [],
   "source": [
    "# We will go with these columns.\n",
    "X = X[relcols]"
   ]
  },
  {
   "cell_type": "code",
   "execution_count": 13,
   "id": "fe4e3e35-4091-421d-8228-dd2c0f1faf17",
   "metadata": {
    "execution": {
     "iopub.execute_input": "2022-06-07T13:33:08.237221Z",
     "iopub.status.busy": "2022-06-07T13:33:08.237126Z",
     "iopub.status.idle": "2022-06-07T13:33:09.555464Z",
     "shell.execute_reply": "2022-06-07T13:33:09.555084Z",
     "shell.execute_reply.started": "2022-06-07T13:33:08.237210Z"
    },
    "tags": []
   },
   "outputs": [],
   "source": [
    "# 5-fold cross validation\n",
    "kf = KFold(n_splits=5, shuffle=True, random_state=42)\n",
    "splits = []\n",
    "for train_idx, val_idx in kf.split(X, y):\n",
    "    # Apply split\n",
    "    X_train, X_val = X.iloc[train_idx], X.iloc[val_idx]\n",
    "    y_train, y_val = y.iloc[train_idx], y.iloc[val_idx]\n",
    "    \n",
    "    # Reset indices\n",
    "    X_train.reset_index(drop=True, inplace=True)\n",
    "    y_train.reset_index(drop=True, inplace=True)\n",
    "    X_val.reset_index(drop=True, inplace=True)\n",
    "    y_val.reset_index(drop=True, inplace=True)\n",
    "    splits.append((X_train, X_val, y_train, y_val))\n",
    "f1_scores, acc_scores, roc_auc_scores, conf_matrices, models = [], [], [], [], []"
   ]
  },
  {
   "cell_type": "markdown",
   "id": "29462d8c-57a2-4469-9e8f-050138942200",
   "metadata": {},
   "source": [
    "## Gaussian NB"
   ]
  },
  {
   "cell_type": "code",
   "execution_count": 14,
   "id": "c19b2c67-8089-4067-a04d-782d45590b0c",
   "metadata": {
    "execution": {
     "iopub.execute_input": "2022-06-07T13:45:49.859439Z",
     "iopub.status.busy": "2022-06-07T13:45:49.857084Z",
     "iopub.status.idle": "2022-06-07T13:46:24.103242Z",
     "shell.execute_reply": "2022-06-07T13:46:24.102845Z",
     "shell.execute_reply.started": "2022-06-07T13:45:49.859053Z"
    },
    "tags": []
   },
   "outputs": [
    {
     "name": "stdout",
     "output_type": "stream",
     "text": [
      "Fitting 3 folds for each of 10 candidates, totalling 30 fits\n",
      "[CV 1/3] END ................var_smoothing=0.01;, score=0.681 total time=   5.5s\n",
      "[CV 2/3] END ................var_smoothing=0.01;, score=0.698 total time=   3.6s\n",
      "[CV 3/3] END ................var_smoothing=0.01;, score=0.709 total time=   3.8s\n",
      "[CV 1/3] END var_smoothing=0.0016681005372000592;, score=0.753 total time=   3.8s\n",
      "[CV 2/3] END var_smoothing=0.0016681005372000592;, score=0.759 total time=   3.9s\n",
      "[CV 3/3] END var_smoothing=0.0016681005372000592;, score=0.780 total time=   3.4s\n",
      "[CV 1/3] END var_smoothing=0.0002782559402207126;, score=0.730 total time=   3.5s\n",
      "[CV 2/3] END var_smoothing=0.0002782559402207126;, score=0.760 total time=   3.5s\n",
      "[CV 3/3] END var_smoothing=0.0002782559402207126;, score=0.788 total time=   3.3s\n",
      "[CV 1/3] END var_smoothing=4.641588833612772e-05;, score=0.680 total time=   3.5s\n",
      "[CV 2/3] END var_smoothing=4.641588833612772e-05;, score=0.744 total time=   3.7s\n",
      "[CV 3/3] END var_smoothing=4.641588833612772e-05;, score=0.775 total time=   3.5s\n",
      "[CV 1/3] END var_smoothing=7.742636826811277e-06;, score=0.661 total time=   3.6s\n",
      "[CV 2/3] END var_smoothing=7.742636826811277e-06;, score=0.732 total time=   3.6s\n",
      "[CV 3/3] END var_smoothing=7.742636826811277e-06;, score=0.764 total time=   3.5s\n"
     ]
    },
    {
     "ename": "KeyboardInterrupt",
     "evalue": "",
     "output_type": "error",
     "traceback": [
      "\u001b[0;31m---------------------------------------------------------------------------\u001b[0m",
      "\u001b[0;31mKeyboardInterrupt\u001b[0m                         Traceback (most recent call last)",
      "Cell \u001b[0;32mIn[14], line 6\u001b[0m\n\u001b[1;32m      4\u001b[0m params_GS \u001b[39m=\u001b[39m {\u001b[39m'\u001b[39m\u001b[39mvar_smoothing\u001b[39m\u001b[39m'\u001b[39m: np\u001b[39m.\u001b[39mlogspace(\u001b[39m-\u001b[39m\u001b[39m2\u001b[39m, \u001b[39m-\u001b[39m\u001b[39m9\u001b[39m, num\u001b[39m=\u001b[39m\u001b[39m10\u001b[39m)}\n\u001b[1;32m      5\u001b[0m gs_GS \u001b[39m=\u001b[39m GridSearchCV(estimator\u001b[39m=\u001b[39mgs_cls, param_grid\u001b[39m=\u001b[39mparams_GS, cv\u001b[39m=\u001b[39m\u001b[39m3\u001b[39m, verbose\u001b[39m=\u001b[39m\u001b[39m3\u001b[39m, scoring\u001b[39m=\u001b[39m\u001b[39m'\u001b[39m\u001b[39mf1_macro\u001b[39m\u001b[39m'\u001b[39m)\n\u001b[0;32m----> 6\u001b[0m gs_GS\u001b[39m.\u001b[39;49mfit(X_train, y_train)\n\u001b[1;32m      7\u001b[0m gs_GS\u001b[39m.\u001b[39mbest_params_\n",
      "File \u001b[0;32m/usr/local/lib/python3.10/site-packages/sklearn/model_selection/_search.py:874\u001b[0m, in \u001b[0;36mBaseSearchCV.fit\u001b[0;34m(self, X, y, groups, **fit_params)\u001b[0m\n\u001b[1;32m    868\u001b[0m     results \u001b[39m=\u001b[39m \u001b[39mself\u001b[39m\u001b[39m.\u001b[39m_format_results(\n\u001b[1;32m    869\u001b[0m         all_candidate_params, n_splits, all_out, all_more_results\n\u001b[1;32m    870\u001b[0m     )\n\u001b[1;32m    872\u001b[0m     \u001b[39mreturn\u001b[39;00m results\n\u001b[0;32m--> 874\u001b[0m \u001b[39mself\u001b[39;49m\u001b[39m.\u001b[39;49m_run_search(evaluate_candidates)\n\u001b[1;32m    876\u001b[0m \u001b[39m# multimetric is determined here because in the case of a callable\u001b[39;00m\n\u001b[1;32m    877\u001b[0m \u001b[39m# self.scoring the return type is only known after calling\u001b[39;00m\n\u001b[1;32m    878\u001b[0m first_test_score \u001b[39m=\u001b[39m all_out[\u001b[39m0\u001b[39m][\u001b[39m\"\u001b[39m\u001b[39mtest_scores\u001b[39m\u001b[39m\"\u001b[39m]\n",
      "File \u001b[0;32m/usr/local/lib/python3.10/site-packages/sklearn/model_selection/_search.py:1388\u001b[0m, in \u001b[0;36mGridSearchCV._run_search\u001b[0;34m(self, evaluate_candidates)\u001b[0m\n\u001b[1;32m   1386\u001b[0m \u001b[39mdef\u001b[39;00m \u001b[39m_run_search\u001b[39m(\u001b[39mself\u001b[39m, evaluate_candidates):\n\u001b[1;32m   1387\u001b[0m \u001b[39m    \u001b[39m\u001b[39m\"\"\"Search all candidates in param_grid\"\"\"\u001b[39;00m\n\u001b[0;32m-> 1388\u001b[0m     evaluate_candidates(ParameterGrid(\u001b[39mself\u001b[39;49m\u001b[39m.\u001b[39;49mparam_grid))\n",
      "File \u001b[0;32m/usr/local/lib/python3.10/site-packages/sklearn/model_selection/_search.py:821\u001b[0m, in \u001b[0;36mBaseSearchCV.fit.<locals>.evaluate_candidates\u001b[0;34m(candidate_params, cv, more_results)\u001b[0m\n\u001b[1;32m    813\u001b[0m \u001b[39mif\u001b[39;00m \u001b[39mself\u001b[39m\u001b[39m.\u001b[39mverbose \u001b[39m>\u001b[39m \u001b[39m0\u001b[39m:\n\u001b[1;32m    814\u001b[0m     \u001b[39mprint\u001b[39m(\n\u001b[1;32m    815\u001b[0m         \u001b[39m\"\u001b[39m\u001b[39mFitting \u001b[39m\u001b[39m{0}\u001b[39;00m\u001b[39m folds for each of \u001b[39m\u001b[39m{1}\u001b[39;00m\u001b[39m candidates,\u001b[39m\u001b[39m\"\u001b[39m\n\u001b[1;32m    816\u001b[0m         \u001b[39m\"\u001b[39m\u001b[39m totalling \u001b[39m\u001b[39m{2}\u001b[39;00m\u001b[39m fits\u001b[39m\u001b[39m\"\u001b[39m\u001b[39m.\u001b[39mformat(\n\u001b[1;32m    817\u001b[0m             n_splits, n_candidates, n_candidates \u001b[39m*\u001b[39m n_splits\n\u001b[1;32m    818\u001b[0m         )\n\u001b[1;32m    819\u001b[0m     )\n\u001b[0;32m--> 821\u001b[0m out \u001b[39m=\u001b[39m parallel(\n\u001b[1;32m    822\u001b[0m     delayed(_fit_and_score)(\n\u001b[1;32m    823\u001b[0m         clone(base_estimator),\n\u001b[1;32m    824\u001b[0m         X,\n\u001b[1;32m    825\u001b[0m         y,\n\u001b[1;32m    826\u001b[0m         train\u001b[39m=\u001b[39;49mtrain,\n\u001b[1;32m    827\u001b[0m         test\u001b[39m=\u001b[39;49mtest,\n\u001b[1;32m    828\u001b[0m         parameters\u001b[39m=\u001b[39;49mparameters,\n\u001b[1;32m    829\u001b[0m         split_progress\u001b[39m=\u001b[39;49m(split_idx, n_splits),\n\u001b[1;32m    830\u001b[0m         candidate_progress\u001b[39m=\u001b[39;49m(cand_idx, n_candidates),\n\u001b[1;32m    831\u001b[0m         \u001b[39m*\u001b[39;49m\u001b[39m*\u001b[39;49mfit_and_score_kwargs,\n\u001b[1;32m    832\u001b[0m     )\n\u001b[1;32m    833\u001b[0m     \u001b[39mfor\u001b[39;49;00m (cand_idx, parameters), (split_idx, (train, test)) \u001b[39min\u001b[39;49;00m product(\n\u001b[1;32m    834\u001b[0m         \u001b[39menumerate\u001b[39;49m(candidate_params), \u001b[39menumerate\u001b[39;49m(cv\u001b[39m.\u001b[39;49msplit(X, y, groups))\n\u001b[1;32m    835\u001b[0m     )\n\u001b[1;32m    836\u001b[0m )\n\u001b[1;32m    838\u001b[0m \u001b[39mif\u001b[39;00m \u001b[39mlen\u001b[39m(out) \u001b[39m<\u001b[39m \u001b[39m1\u001b[39m:\n\u001b[1;32m    839\u001b[0m     \u001b[39mraise\u001b[39;00m \u001b[39mValueError\u001b[39;00m(\n\u001b[1;32m    840\u001b[0m         \u001b[39m\"\u001b[39m\u001b[39mNo fits were performed. \u001b[39m\u001b[39m\"\u001b[39m\n\u001b[1;32m    841\u001b[0m         \u001b[39m\"\u001b[39m\u001b[39mWas the CV iterator empty? \u001b[39m\u001b[39m\"\u001b[39m\n\u001b[1;32m    842\u001b[0m         \u001b[39m\"\u001b[39m\u001b[39mWere there no candidates?\u001b[39m\u001b[39m\"\u001b[39m\n\u001b[1;32m    843\u001b[0m     )\n",
      "File \u001b[0;32m/usr/local/lib/python3.10/site-packages/sklearn/utils/parallel.py:63\u001b[0m, in \u001b[0;36mParallel.__call__\u001b[0;34m(self, iterable)\u001b[0m\n\u001b[1;32m     58\u001b[0m config \u001b[39m=\u001b[39m get_config()\n\u001b[1;32m     59\u001b[0m iterable_with_config \u001b[39m=\u001b[39m (\n\u001b[1;32m     60\u001b[0m     (_with_config(delayed_func, config), args, kwargs)\n\u001b[1;32m     61\u001b[0m     \u001b[39mfor\u001b[39;00m delayed_func, args, kwargs \u001b[39min\u001b[39;00m iterable\n\u001b[1;32m     62\u001b[0m )\n\u001b[0;32m---> 63\u001b[0m \u001b[39mreturn\u001b[39;00m \u001b[39msuper\u001b[39;49m()\u001b[39m.\u001b[39;49m\u001b[39m__call__\u001b[39;49m(iterable_with_config)\n",
      "File \u001b[0;32m/usr/local/lib/python3.10/site-packages/joblib/parallel.py:1088\u001b[0m, in \u001b[0;36mParallel.__call__\u001b[0;34m(self, iterable)\u001b[0m\n\u001b[1;32m   1085\u001b[0m \u001b[39mif\u001b[39;00m \u001b[39mself\u001b[39m\u001b[39m.\u001b[39mdispatch_one_batch(iterator):\n\u001b[1;32m   1086\u001b[0m     \u001b[39mself\u001b[39m\u001b[39m.\u001b[39m_iterating \u001b[39m=\u001b[39m \u001b[39mself\u001b[39m\u001b[39m.\u001b[39m_original_iterator \u001b[39mis\u001b[39;00m \u001b[39mnot\u001b[39;00m \u001b[39mNone\u001b[39;00m\n\u001b[0;32m-> 1088\u001b[0m \u001b[39mwhile\u001b[39;00m \u001b[39mself\u001b[39;49m\u001b[39m.\u001b[39;49mdispatch_one_batch(iterator):\n\u001b[1;32m   1089\u001b[0m     \u001b[39mpass\u001b[39;00m\n\u001b[1;32m   1091\u001b[0m \u001b[39mif\u001b[39;00m pre_dispatch \u001b[39m==\u001b[39m \u001b[39m\"\u001b[39m\u001b[39mall\u001b[39m\u001b[39m\"\u001b[39m \u001b[39mor\u001b[39;00m n_jobs \u001b[39m==\u001b[39m \u001b[39m1\u001b[39m:\n\u001b[1;32m   1092\u001b[0m     \u001b[39m# The iterable was consumed all at once by the above for loop.\u001b[39;00m\n\u001b[1;32m   1093\u001b[0m     \u001b[39m# No need to wait for async callbacks to trigger to\u001b[39;00m\n\u001b[1;32m   1094\u001b[0m     \u001b[39m# consumption.\u001b[39;00m\n",
      "File \u001b[0;32m/usr/local/lib/python3.10/site-packages/joblib/parallel.py:901\u001b[0m, in \u001b[0;36mParallel.dispatch_one_batch\u001b[0;34m(self, iterator)\u001b[0m\n\u001b[1;32m    899\u001b[0m     \u001b[39mreturn\u001b[39;00m \u001b[39mFalse\u001b[39;00m\n\u001b[1;32m    900\u001b[0m \u001b[39melse\u001b[39;00m:\n\u001b[0;32m--> 901\u001b[0m     \u001b[39mself\u001b[39;49m\u001b[39m.\u001b[39;49m_dispatch(tasks)\n\u001b[1;32m    902\u001b[0m     \u001b[39mreturn\u001b[39;00m \u001b[39mTrue\u001b[39;00m\n",
      "File \u001b[0;32m/usr/local/lib/python3.10/site-packages/joblib/parallel.py:819\u001b[0m, in \u001b[0;36mParallel._dispatch\u001b[0;34m(self, batch)\u001b[0m\n\u001b[1;32m    817\u001b[0m \u001b[39mwith\u001b[39;00m \u001b[39mself\u001b[39m\u001b[39m.\u001b[39m_lock:\n\u001b[1;32m    818\u001b[0m     job_idx \u001b[39m=\u001b[39m \u001b[39mlen\u001b[39m(\u001b[39mself\u001b[39m\u001b[39m.\u001b[39m_jobs)\n\u001b[0;32m--> 819\u001b[0m     job \u001b[39m=\u001b[39m \u001b[39mself\u001b[39;49m\u001b[39m.\u001b[39;49m_backend\u001b[39m.\u001b[39;49mapply_async(batch, callback\u001b[39m=\u001b[39;49mcb)\n\u001b[1;32m    820\u001b[0m     \u001b[39m# A job can complete so quickly than its callback is\u001b[39;00m\n\u001b[1;32m    821\u001b[0m     \u001b[39m# called before we get here, causing self._jobs to\u001b[39;00m\n\u001b[1;32m    822\u001b[0m     \u001b[39m# grow. To ensure correct results ordering, .insert is\u001b[39;00m\n\u001b[1;32m    823\u001b[0m     \u001b[39m# used (rather than .append) in the following line\u001b[39;00m\n\u001b[1;32m    824\u001b[0m     \u001b[39mself\u001b[39m\u001b[39m.\u001b[39m_jobs\u001b[39m.\u001b[39minsert(job_idx, job)\n",
      "File \u001b[0;32m/usr/local/lib/python3.10/site-packages/joblib/_parallel_backends.py:208\u001b[0m, in \u001b[0;36mSequentialBackend.apply_async\u001b[0;34m(self, func, callback)\u001b[0m\n\u001b[1;32m    206\u001b[0m \u001b[39mdef\u001b[39;00m \u001b[39mapply_async\u001b[39m(\u001b[39mself\u001b[39m, func, callback\u001b[39m=\u001b[39m\u001b[39mNone\u001b[39;00m):\n\u001b[1;32m    207\u001b[0m \u001b[39m    \u001b[39m\u001b[39m\"\"\"Schedule a func to be run\"\"\"\u001b[39;00m\n\u001b[0;32m--> 208\u001b[0m     result \u001b[39m=\u001b[39m ImmediateResult(func)\n\u001b[1;32m    209\u001b[0m     \u001b[39mif\u001b[39;00m callback:\n\u001b[1;32m    210\u001b[0m         callback(result)\n",
      "File \u001b[0;32m/usr/local/lib/python3.10/site-packages/joblib/_parallel_backends.py:597\u001b[0m, in \u001b[0;36mImmediateResult.__init__\u001b[0;34m(self, batch)\u001b[0m\n\u001b[1;32m    594\u001b[0m \u001b[39mdef\u001b[39;00m \u001b[39m__init__\u001b[39m(\u001b[39mself\u001b[39m, batch):\n\u001b[1;32m    595\u001b[0m     \u001b[39m# Don't delay the application, to avoid keeping the input\u001b[39;00m\n\u001b[1;32m    596\u001b[0m     \u001b[39m# arguments in memory\u001b[39;00m\n\u001b[0;32m--> 597\u001b[0m     \u001b[39mself\u001b[39m\u001b[39m.\u001b[39mresults \u001b[39m=\u001b[39m batch()\n",
      "File \u001b[0;32m/usr/local/lib/python3.10/site-packages/joblib/parallel.py:288\u001b[0m, in \u001b[0;36mBatchedCalls.__call__\u001b[0;34m(self)\u001b[0m\n\u001b[1;32m    284\u001b[0m \u001b[39mdef\u001b[39;00m \u001b[39m__call__\u001b[39m(\u001b[39mself\u001b[39m):\n\u001b[1;32m    285\u001b[0m     \u001b[39m# Set the default nested backend to self._backend but do not set the\u001b[39;00m\n\u001b[1;32m    286\u001b[0m     \u001b[39m# change the default number of processes to -1\u001b[39;00m\n\u001b[1;32m    287\u001b[0m     \u001b[39mwith\u001b[39;00m parallel_backend(\u001b[39mself\u001b[39m\u001b[39m.\u001b[39m_backend, n_jobs\u001b[39m=\u001b[39m\u001b[39mself\u001b[39m\u001b[39m.\u001b[39m_n_jobs):\n\u001b[0;32m--> 288\u001b[0m         \u001b[39mreturn\u001b[39;00m [func(\u001b[39m*\u001b[39margs, \u001b[39m*\u001b[39m\u001b[39m*\u001b[39mkwargs)\n\u001b[1;32m    289\u001b[0m                 \u001b[39mfor\u001b[39;00m func, args, kwargs \u001b[39min\u001b[39;00m \u001b[39mself\u001b[39m\u001b[39m.\u001b[39mitems]\n",
      "File \u001b[0;32m/usr/local/lib/python3.10/site-packages/joblib/parallel.py:288\u001b[0m, in \u001b[0;36m<listcomp>\u001b[0;34m(.0)\u001b[0m\n\u001b[1;32m    284\u001b[0m \u001b[39mdef\u001b[39;00m \u001b[39m__call__\u001b[39m(\u001b[39mself\u001b[39m):\n\u001b[1;32m    285\u001b[0m     \u001b[39m# Set the default nested backend to self._backend but do not set the\u001b[39;00m\n\u001b[1;32m    286\u001b[0m     \u001b[39m# change the default number of processes to -1\u001b[39;00m\n\u001b[1;32m    287\u001b[0m     \u001b[39mwith\u001b[39;00m parallel_backend(\u001b[39mself\u001b[39m\u001b[39m.\u001b[39m_backend, n_jobs\u001b[39m=\u001b[39m\u001b[39mself\u001b[39m\u001b[39m.\u001b[39m_n_jobs):\n\u001b[0;32m--> 288\u001b[0m         \u001b[39mreturn\u001b[39;00m [func(\u001b[39m*\u001b[39;49margs, \u001b[39m*\u001b[39;49m\u001b[39m*\u001b[39;49mkwargs)\n\u001b[1;32m    289\u001b[0m                 \u001b[39mfor\u001b[39;00m func, args, kwargs \u001b[39min\u001b[39;00m \u001b[39mself\u001b[39m\u001b[39m.\u001b[39mitems]\n",
      "File \u001b[0;32m/usr/local/lib/python3.10/site-packages/sklearn/utils/parallel.py:123\u001b[0m, in \u001b[0;36m_FuncWrapper.__call__\u001b[0;34m(self, *args, **kwargs)\u001b[0m\n\u001b[1;32m    121\u001b[0m     config \u001b[39m=\u001b[39m {}\n\u001b[1;32m    122\u001b[0m \u001b[39mwith\u001b[39;00m config_context(\u001b[39m*\u001b[39m\u001b[39m*\u001b[39mconfig):\n\u001b[0;32m--> 123\u001b[0m     \u001b[39mreturn\u001b[39;00m \u001b[39mself\u001b[39;49m\u001b[39m.\u001b[39;49mfunction(\u001b[39m*\u001b[39;49margs, \u001b[39m*\u001b[39;49m\u001b[39m*\u001b[39;49mkwargs)\n",
      "File \u001b[0;32m/usr/local/lib/python3.10/site-packages/sklearn/model_selection/_validation.py:679\u001b[0m, in \u001b[0;36m_fit_and_score\u001b[0;34m(estimator, X, y, scorer, train, test, verbose, parameters, fit_params, return_train_score, return_parameters, return_n_test_samples, return_times, return_estimator, split_progress, candidate_progress, error_score)\u001b[0m\n\u001b[1;32m    676\u001b[0m start_time \u001b[39m=\u001b[39m time\u001b[39m.\u001b[39mtime()\n\u001b[1;32m    678\u001b[0m X_train, y_train \u001b[39m=\u001b[39m _safe_split(estimator, X, y, train)\n\u001b[0;32m--> 679\u001b[0m X_test, y_test \u001b[39m=\u001b[39m _safe_split(estimator, X, y, test, train)\n\u001b[1;32m    681\u001b[0m result \u001b[39m=\u001b[39m {}\n\u001b[1;32m    682\u001b[0m \u001b[39mtry\u001b[39;00m:\n",
      "File \u001b[0;32m/usr/local/lib/python3.10/site-packages/sklearn/utils/metaestimators.py:233\u001b[0m, in \u001b[0;36m_safe_split\u001b[0;34m(estimator, X, y, indices, train_indices)\u001b[0m\n\u001b[1;32m    231\u001b[0m         X_subset \u001b[39m=\u001b[39m X[np\u001b[39m.\u001b[39mix_(indices, train_indices)]\n\u001b[1;32m    232\u001b[0m \u001b[39melse\u001b[39;00m:\n\u001b[0;32m--> 233\u001b[0m     X_subset \u001b[39m=\u001b[39m _safe_indexing(X, indices)\n\u001b[1;32m    235\u001b[0m \u001b[39mif\u001b[39;00m y \u001b[39mis\u001b[39;00m \u001b[39mnot\u001b[39;00m \u001b[39mNone\u001b[39;00m:\n\u001b[1;32m    236\u001b[0m     y_subset \u001b[39m=\u001b[39m _safe_indexing(y, indices)\n",
      "File \u001b[0;32m/usr/local/lib/python3.10/site-packages/sklearn/utils/__init__.py:354\u001b[0m, in \u001b[0;36m_safe_indexing\u001b[0;34m(X, indices, axis)\u001b[0m\n\u001b[1;32m    348\u001b[0m     \u001b[39mraise\u001b[39;00m \u001b[39mValueError\u001b[39;00m(\n\u001b[1;32m    349\u001b[0m         \u001b[39m\"\u001b[39m\u001b[39mSpecifying the columns using strings is only supported for \u001b[39m\u001b[39m\"\u001b[39m\n\u001b[1;32m    350\u001b[0m         \u001b[39m\"\u001b[39m\u001b[39mpandas DataFrames\u001b[39m\u001b[39m\"\u001b[39m\n\u001b[1;32m    351\u001b[0m     )\n\u001b[1;32m    353\u001b[0m \u001b[39mif\u001b[39;00m \u001b[39mhasattr\u001b[39m(X, \u001b[39m\"\u001b[39m\u001b[39miloc\u001b[39m\u001b[39m\"\u001b[39m):\n\u001b[0;32m--> 354\u001b[0m     \u001b[39mreturn\u001b[39;00m _pandas_indexing(X, indices, indices_dtype, axis\u001b[39m=\u001b[39;49maxis)\n\u001b[1;32m    355\u001b[0m \u001b[39melif\u001b[39;00m \u001b[39mhasattr\u001b[39m(X, \u001b[39m\"\u001b[39m\u001b[39mshape\u001b[39m\u001b[39m\"\u001b[39m):\n\u001b[1;32m    356\u001b[0m     \u001b[39mreturn\u001b[39;00m _array_indexing(X, indices, indices_dtype, axis\u001b[39m=\u001b[39maxis)\n",
      "File \u001b[0;32m/usr/local/lib/python3.10/site-packages/sklearn/utils/__init__.py:196\u001b[0m, in \u001b[0;36m_pandas_indexing\u001b[0;34m(X, key, key_dtype, axis)\u001b[0m\n\u001b[1;32m    191\u001b[0m     key \u001b[39m=\u001b[39m np\u001b[39m.\u001b[39masarray(key)\n\u001b[1;32m    193\u001b[0m \u001b[39mif\u001b[39;00m key_dtype \u001b[39m==\u001b[39m \u001b[39m\"\u001b[39m\u001b[39mint\u001b[39m\u001b[39m\"\u001b[39m \u001b[39mand\u001b[39;00m \u001b[39mnot\u001b[39;00m (\u001b[39misinstance\u001b[39m(key, \u001b[39mslice\u001b[39m) \u001b[39mor\u001b[39;00m np\u001b[39m.\u001b[39misscalar(key)):\n\u001b[1;32m    194\u001b[0m     \u001b[39m# using take() instead of iloc[] ensures the return value is a \"proper\"\u001b[39;00m\n\u001b[1;32m    195\u001b[0m     \u001b[39m# copy that will not raise SettingWithCopyWarning\u001b[39;00m\n\u001b[0;32m--> 196\u001b[0m     \u001b[39mreturn\u001b[39;00m X\u001b[39m.\u001b[39;49mtake(key, axis\u001b[39m=\u001b[39;49maxis)\n\u001b[1;32m    197\u001b[0m \u001b[39melse\u001b[39;00m:\n\u001b[1;32m    198\u001b[0m     \u001b[39m# check whether we should index with loc or iloc\u001b[39;00m\n\u001b[1;32m    199\u001b[0m     indexer \u001b[39m=\u001b[39m X\u001b[39m.\u001b[39miloc \u001b[39mif\u001b[39;00m key_dtype \u001b[39m==\u001b[39m \u001b[39m\"\u001b[39m\u001b[39mint\u001b[39m\u001b[39m\"\u001b[39m \u001b[39melse\u001b[39;00m X\u001b[39m.\u001b[39mloc\n",
      "File \u001b[0;32m/usr/local/lib/python3.10/site-packages/pandas/core/generic.py:3871\u001b[0m, in \u001b[0;36mNDFrame.take\u001b[0;34m(self, indices, axis, is_copy, **kwargs)\u001b[0m\n\u001b[1;32m   3862\u001b[0m     warnings\u001b[39m.\u001b[39mwarn(\n\u001b[1;32m   3863\u001b[0m         \u001b[39m\"\u001b[39m\u001b[39mis_copy is deprecated and will be removed in a future version. \u001b[39m\u001b[39m\"\u001b[39m\n\u001b[1;32m   3864\u001b[0m         \u001b[39m\"\u001b[39m\u001b[39m'\u001b[39m\u001b[39mtake\u001b[39m\u001b[39m'\u001b[39m\u001b[39m always returns a copy, so there is no need to specify this.\u001b[39m\u001b[39m\"\u001b[39m,\n\u001b[1;32m   3865\u001b[0m         \u001b[39mFutureWarning\u001b[39;00m,\n\u001b[1;32m   3866\u001b[0m         stacklevel\u001b[39m=\u001b[39mfind_stack_level(),\n\u001b[1;32m   3867\u001b[0m     )\n\u001b[1;32m   3869\u001b[0m nv\u001b[39m.\u001b[39mvalidate_take((), kwargs)\n\u001b[0;32m-> 3871\u001b[0m \u001b[39mreturn\u001b[39;00m \u001b[39mself\u001b[39;49m\u001b[39m.\u001b[39;49m_take(indices, axis)\n",
      "File \u001b[0;32m/usr/local/lib/python3.10/site-packages/pandas/core/generic.py:3886\u001b[0m, in \u001b[0;36mNDFrame._take\u001b[0;34m(self, indices, axis, convert_indices)\u001b[0m\n\u001b[1;32m   3879\u001b[0m \u001b[39m\u001b[39m\u001b[39m\"\"\"\u001b[39;00m\n\u001b[1;32m   3880\u001b[0m \u001b[39mInternal version of the `take` allowing specification of additional args.\u001b[39;00m\n\u001b[1;32m   3881\u001b[0m \n\u001b[1;32m   3882\u001b[0m \u001b[39mSee the docstring of `take` for full explanation of the parameters.\u001b[39;00m\n\u001b[1;32m   3883\u001b[0m \u001b[39m\"\"\"\u001b[39;00m\n\u001b[1;32m   3884\u001b[0m \u001b[39mself\u001b[39m\u001b[39m.\u001b[39m_consolidate_inplace()\n\u001b[0;32m-> 3886\u001b[0m new_data \u001b[39m=\u001b[39m \u001b[39mself\u001b[39;49m\u001b[39m.\u001b[39;49m_mgr\u001b[39m.\u001b[39;49mtake(\n\u001b[1;32m   3887\u001b[0m     indices,\n\u001b[1;32m   3888\u001b[0m     axis\u001b[39m=\u001b[39;49m\u001b[39mself\u001b[39;49m\u001b[39m.\u001b[39;49m_get_block_manager_axis(axis),\n\u001b[1;32m   3889\u001b[0m     verify\u001b[39m=\u001b[39;49m\u001b[39mTrue\u001b[39;49;00m,\n\u001b[1;32m   3890\u001b[0m     convert_indices\u001b[39m=\u001b[39;49mconvert_indices,\n\u001b[1;32m   3891\u001b[0m )\n\u001b[1;32m   3892\u001b[0m \u001b[39mreturn\u001b[39;00m \u001b[39mself\u001b[39m\u001b[39m.\u001b[39m_constructor(new_data)\u001b[39m.\u001b[39m__finalize__(\u001b[39mself\u001b[39m, method\u001b[39m=\u001b[39m\u001b[39m\"\u001b[39m\u001b[39mtake\u001b[39m\u001b[39m\"\u001b[39m)\n",
      "File \u001b[0;32m/usr/local/lib/python3.10/site-packages/pandas/core/internals/managers.py:978\u001b[0m, in \u001b[0;36mBaseBlockManager.take\u001b[0;34m(self, indexer, axis, verify, convert_indices)\u001b[0m\n\u001b[1;32m    975\u001b[0m     indexer \u001b[39m=\u001b[39m maybe_convert_indices(indexer, n, verify\u001b[39m=\u001b[39mverify)\n\u001b[1;32m    977\u001b[0m new_labels \u001b[39m=\u001b[39m \u001b[39mself\u001b[39m\u001b[39m.\u001b[39maxes[axis]\u001b[39m.\u001b[39mtake(indexer)\n\u001b[0;32m--> 978\u001b[0m \u001b[39mreturn\u001b[39;00m \u001b[39mself\u001b[39;49m\u001b[39m.\u001b[39;49mreindex_indexer(\n\u001b[1;32m    979\u001b[0m     new_axis\u001b[39m=\u001b[39;49mnew_labels,\n\u001b[1;32m    980\u001b[0m     indexer\u001b[39m=\u001b[39;49mindexer,\n\u001b[1;32m    981\u001b[0m     axis\u001b[39m=\u001b[39;49maxis,\n\u001b[1;32m    982\u001b[0m     allow_dups\u001b[39m=\u001b[39;49m\u001b[39mTrue\u001b[39;49;00m,\n\u001b[1;32m    983\u001b[0m     copy\u001b[39m=\u001b[39;49m\u001b[39mNone\u001b[39;49;00m,\n\u001b[1;32m    984\u001b[0m )\n",
      "File \u001b[0;32m/usr/local/lib/python3.10/site-packages/pandas/core/internals/managers.py:751\u001b[0m, in \u001b[0;36mBaseBlockManager.reindex_indexer\u001b[0;34m(self, new_axis, indexer, axis, fill_value, allow_dups, copy, only_slice, use_na_proxy)\u001b[0m\n\u001b[1;32m    749\u001b[0m     parent \u001b[39m=\u001b[39m \u001b[39mNone\u001b[39;00m \u001b[39mif\u001b[39;00m com\u001b[39m.\u001b[39mall_none(\u001b[39m*\u001b[39mnew_refs) \u001b[39melse\u001b[39;00m \u001b[39mself\u001b[39m\n\u001b[1;32m    750\u001b[0m \u001b[39melse\u001b[39;00m:\n\u001b[0;32m--> 751\u001b[0m     new_blocks \u001b[39m=\u001b[39m [\n\u001b[1;32m    752\u001b[0m         blk\u001b[39m.\u001b[39mtake_nd(\n\u001b[1;32m    753\u001b[0m             indexer,\n\u001b[1;32m    754\u001b[0m             axis\u001b[39m=\u001b[39m\u001b[39m1\u001b[39m,\n\u001b[1;32m    755\u001b[0m             fill_value\u001b[39m=\u001b[39m(\n\u001b[1;32m    756\u001b[0m                 fill_value \u001b[39mif\u001b[39;00m fill_value \u001b[39mis\u001b[39;00m \u001b[39mnot\u001b[39;00m \u001b[39mNone\u001b[39;00m \u001b[39melse\u001b[39;00m blk\u001b[39m.\u001b[39mfill_value\n\u001b[1;32m    757\u001b[0m             ),\n\u001b[1;32m    758\u001b[0m         )\n\u001b[1;32m    759\u001b[0m         \u001b[39mfor\u001b[39;00m blk \u001b[39min\u001b[39;00m \u001b[39mself\u001b[39m\u001b[39m.\u001b[39mblocks\n\u001b[1;32m    760\u001b[0m     ]\n\u001b[1;32m    761\u001b[0m     new_refs \u001b[39m=\u001b[39m \u001b[39mNone\u001b[39;00m\n\u001b[1;32m    762\u001b[0m     parent \u001b[39m=\u001b[39m \u001b[39mNone\u001b[39;00m\n",
      "File \u001b[0;32m/usr/local/lib/python3.10/site-packages/pandas/core/internals/managers.py:752\u001b[0m, in \u001b[0;36m<listcomp>\u001b[0;34m(.0)\u001b[0m\n\u001b[1;32m    749\u001b[0m     parent \u001b[39m=\u001b[39m \u001b[39mNone\u001b[39;00m \u001b[39mif\u001b[39;00m com\u001b[39m.\u001b[39mall_none(\u001b[39m*\u001b[39mnew_refs) \u001b[39melse\u001b[39;00m \u001b[39mself\u001b[39m\n\u001b[1;32m    750\u001b[0m \u001b[39melse\u001b[39;00m:\n\u001b[1;32m    751\u001b[0m     new_blocks \u001b[39m=\u001b[39m [\n\u001b[0;32m--> 752\u001b[0m         blk\u001b[39m.\u001b[39;49mtake_nd(\n\u001b[1;32m    753\u001b[0m             indexer,\n\u001b[1;32m    754\u001b[0m             axis\u001b[39m=\u001b[39;49m\u001b[39m1\u001b[39;49m,\n\u001b[1;32m    755\u001b[0m             fill_value\u001b[39m=\u001b[39;49m(\n\u001b[1;32m    756\u001b[0m                 fill_value \u001b[39mif\u001b[39;49;00m fill_value \u001b[39mis\u001b[39;49;00m \u001b[39mnot\u001b[39;49;00m \u001b[39mNone\u001b[39;49;00m \u001b[39melse\u001b[39;49;00m blk\u001b[39m.\u001b[39;49mfill_value\n\u001b[1;32m    757\u001b[0m             ),\n\u001b[1;32m    758\u001b[0m         )\n\u001b[1;32m    759\u001b[0m         \u001b[39mfor\u001b[39;00m blk \u001b[39min\u001b[39;00m \u001b[39mself\u001b[39m\u001b[39m.\u001b[39mblocks\n\u001b[1;32m    760\u001b[0m     ]\n\u001b[1;32m    761\u001b[0m     new_refs \u001b[39m=\u001b[39m \u001b[39mNone\u001b[39;00m\n\u001b[1;32m    762\u001b[0m     parent \u001b[39m=\u001b[39m \u001b[39mNone\u001b[39;00m\n",
      "File \u001b[0;32m/usr/local/lib/python3.10/site-packages/pandas/core/internals/blocks.py:880\u001b[0m, in \u001b[0;36mBlock.take_nd\u001b[0;34m(self, indexer, axis, new_mgr_locs, fill_value)\u001b[0m\n\u001b[1;32m    877\u001b[0m     allow_fill \u001b[39m=\u001b[39m \u001b[39mTrue\u001b[39;00m\n\u001b[1;32m    879\u001b[0m \u001b[39m# Note: algos.take_nd has upcast logic similar to coerce_to_target_dtype\u001b[39;00m\n\u001b[0;32m--> 880\u001b[0m new_values \u001b[39m=\u001b[39m algos\u001b[39m.\u001b[39;49mtake_nd(\n\u001b[1;32m    881\u001b[0m     values, indexer, axis\u001b[39m=\u001b[39;49maxis, allow_fill\u001b[39m=\u001b[39;49mallow_fill, fill_value\u001b[39m=\u001b[39;49mfill_value\n\u001b[1;32m    882\u001b[0m )\n\u001b[1;32m    884\u001b[0m \u001b[39m# Called from three places in managers, all of which satisfy\u001b[39;00m\n\u001b[1;32m    885\u001b[0m \u001b[39m#  this assertion\u001b[39;00m\n\u001b[1;32m    886\u001b[0m \u001b[39massert\u001b[39;00m \u001b[39mnot\u001b[39;00m (axis \u001b[39m==\u001b[39m \u001b[39m0\u001b[39m \u001b[39mand\u001b[39;00m new_mgr_locs \u001b[39mis\u001b[39;00m \u001b[39mNone\u001b[39;00m)\n",
      "File \u001b[0;32m/usr/local/lib/python3.10/site-packages/pandas/core/array_algos/take.py:117\u001b[0m, in \u001b[0;36mtake_nd\u001b[0;34m(arr, indexer, axis, fill_value, allow_fill)\u001b[0m\n\u001b[1;32m    114\u001b[0m     \u001b[39mreturn\u001b[39;00m arr\u001b[39m.\u001b[39mtake(indexer, fill_value\u001b[39m=\u001b[39mfill_value, allow_fill\u001b[39m=\u001b[39mallow_fill)\n\u001b[1;32m    116\u001b[0m arr \u001b[39m=\u001b[39m np\u001b[39m.\u001b[39masarray(arr)\n\u001b[0;32m--> 117\u001b[0m \u001b[39mreturn\u001b[39;00m _take_nd_ndarray(arr, indexer, axis, fill_value, allow_fill)\n",
      "File \u001b[0;32m/usr/local/lib/python3.10/site-packages/pandas/core/array_algos/take.py:163\u001b[0m, in \u001b[0;36m_take_nd_ndarray\u001b[0;34m(arr, indexer, axis, fill_value, allow_fill)\u001b[0m\n\u001b[1;32m    158\u001b[0m     out \u001b[39m=\u001b[39m np\u001b[39m.\u001b[39mempty(out_shape, dtype\u001b[39m=\u001b[39mdtype)\n\u001b[1;32m    160\u001b[0m func \u001b[39m=\u001b[39m _get_take_nd_function(\n\u001b[1;32m    161\u001b[0m     arr\u001b[39m.\u001b[39mndim, arr\u001b[39m.\u001b[39mdtype, out\u001b[39m.\u001b[39mdtype, axis\u001b[39m=\u001b[39maxis, mask_info\u001b[39m=\u001b[39mmask_info\n\u001b[1;32m    162\u001b[0m )\n\u001b[0;32m--> 163\u001b[0m func(arr, indexer, out, fill_value)\n\u001b[1;32m    165\u001b[0m \u001b[39mif\u001b[39;00m flip_order:\n\u001b[1;32m    166\u001b[0m     out \u001b[39m=\u001b[39m out\u001b[39m.\u001b[39mT\n",
      "\u001b[0;31mKeyboardInterrupt\u001b[0m: "
     ]
    }
   ],
   "source": [
    "# Hyperparameter selection on one split\n",
    "X_train, X_val, y_train, y_val = splits[0]\n",
    "gs_cls = GaussianNB()\n",
    "params_GS = {'var_smoothing': np.logspace(-2, -9, num=10)}\n",
    "gs_GS = GridSearchCV(estimator=gs_cls, param_grid=params_GS, cv=3, verbose=3, scoring='f1_macro')\n",
    "gs_GS.fit(X_train, y_train)\n",
    "gs_GS.best_params_"
   ]
  },
  {
   "cell_type": "code",
   "execution_count": null,
   "id": "5aea9462-60f9-4787-acab-c99c48471aea",
   "metadata": {
    "execution": {
     "iopub.execute_input": "2022-06-07T13:33:44.536189Z",
     "iopub.status.busy": "2022-06-07T13:33:44.536065Z",
     "iopub.status.idle": "2022-06-07T13:33:51.493654Z",
     "shell.execute_reply": "2022-06-07T13:33:51.493230Z",
     "shell.execute_reply.started": "2022-06-07T13:33:44.536174Z"
    },
    "tags": []
   },
   "outputs": [
    {
     "name": "stdout",
     "output_type": "stream",
     "text": [
      "Split 0:\n",
      "  F1 score: 0.7846501883978524\n",
      "  Accuracy: 0.869475847893114\n",
      "  ROC/AUC score: 0.7797771736881083\n",
      "Split 1:\n",
      "  F1 score: 0.790974276098704\n",
      "  Accuracy: 0.8806097978759849\n",
      "  ROC/AUC score: 0.790100414977466\n",
      "Split 2:\n",
      "  F1 score: 0.793922378606564\n",
      "  Accuracy: 0.8747858855772525\n",
      "  ROC/AUC score: 0.7829463264359233\n",
      "Split 3:\n",
      "  F1 score: 0.7835802478866678\n",
      "  Accuracy: 0.8751284686536485\n",
      "  ROC/AUC score: 0.7739075571445193\n",
      "Split 4:\n",
      "  F1 score: 0.7767782184872329\n",
      "  Accuracy: 0.8694534863799898\n",
      "  ROC/AUC score: 0.7704474032119404\n",
      "Average F1 score: 0.7859810618954042\n",
      "Average accuracy: 0.8738906972759979\n",
      "Average ROC/AUC score: 0.7794357750915915\n"
     ]
    }
   ],
   "source": [
    "# Let us now compute performance metrics.\n",
    "for i, (X_train, X_val, y_train, y_val) in enumerate(splits):\n",
    "    print(f\"Split {i}:\")\n",
    "    # Train model\n",
    "    model = GaussianNB(var_smoothing=gs_GS.best_params_['var_smoothing'])\n",
    "    model.fit(X_train, y_train)\n",
    "    # Predict\n",
    "    y_pred = model.predict(X_val)\n",
    "    y_proba = model.predict_proba(X_val)\n",
    "    # Compute and append f1, accuracy, confusion matrix; \n",
    "    f1_scores.append(f1_score(y_val, y_pred, average='macro'))\n",
    "    acc_scores.append(accuracy_score(y_val, y_pred))\n",
    "    roc_auc_scores.append(roc_auc_score(y_val, y_proba[:, 1]))\n",
    "    print(f\"  F1 score: {f1_scores[-1]}\")\n",
    "    print(f\"  Accuracy: {acc_scores[-1]}\")\n",
    "    print(f\"  ROC/AUC score: {roc_auc_scores[-1]}\")\n",
    "    conf_matrices.append(confusion_matrix(y_val, y_pred))\n",
    "    models.append(model)\n",
    "print(f\"Average F1 score: {np.average(f1_scores)}\")\n",
    "print(f\"Average accuracy: {np.average(acc_scores)}\")\n",
    "print(f\"Average ROC/AUC score: {np.average(roc_auc_scores)}\")"
   ]
  },
  {
   "cell_type": "code",
   "execution_count": null,
   "id": "b4dcfce5-079d-4977-bd38-449f5447c8d9",
   "metadata": {
    "execution": {
     "iopub.execute_input": "2022-06-07T13:33:51.494508Z",
     "iopub.status.busy": "2022-06-07T13:33:51.494419Z",
     "iopub.status.idle": "2022-06-07T13:33:51.578492Z",
     "shell.execute_reply": "2022-06-07T13:33:51.578085Z",
     "shell.execute_reply.started": "2022-06-07T13:33:51.494497Z"
    }
   },
   "outputs": [
    {
     "data": {
      "text/plain": [
       "Text(33.0, 0.5, 'True label')"
      ]
     },
     "execution_count": 14,
     "metadata": {},
     "output_type": "execute_result"
    },
    {
     "data": {
      "image/png": "[encoded data removed]",
      "text/plain": [
       "<Figure size 432x288 with 2 Axes>"
      ]
     },
     "metadata": {
      "needs_background": "light"
     },
     "output_type": "display_data"
    }
   ],
   "source": [
    "sns.heatmap(sum(conf_matrices), annot=True, cmap=\"Blues\", fmt=\"d\")\n",
    "plt.xlabel('Predicted label'); plt.ylabel('True label')"
   ]
  },
  {
   "cell_type": "code",
   "execution_count": null,
   "id": "820c83d6-9fbb-4c79-b05a-a56a20f750a3",
   "metadata": {
    "execution": {
     "iopub.execute_input": "2022-06-07T13:33:51.579446Z",
     "iopub.status.busy": "2022-06-07T13:33:51.579201Z",
     "iopub.status.idle": "2022-06-07T13:33:51.655721Z",
     "shell.execute_reply": "2022-06-07T13:33:51.655252Z",
     "shell.execute_reply.started": "2022-06-07T13:33:51.579432Z"
    }
   },
   "outputs": [
    {
     "data": {
      "text/plain": [
       "Text(33.0, 0.5, 'True label')"
      ]
     },
     "execution_count": 15,
     "metadata": {},
     "output_type": "execute_result"
    },
    {
     "data": {
      "image/png": "[encoded data removed]",
      "text/plain": [
       "<Figure size 432x288 with 2 Axes>"
      ]
     },
     "metadata": {
      "needs_background": "light"
     },
     "output_type": "display_data"
    }
   ],
   "source": [
    "# With percentages instead\n",
    "sns.heatmap(sum(conf_matrices)/np.sum(sum(conf_matrices)), \n",
    "            annot=True, cmap=\"Blues\", fmt=\".2%\")\n",
    "plt.xlabel('Predicted label'); plt.ylabel('True label')"
   ]
  },
  {
   "cell_type": "code",
   "execution_count": null,
   "id": "509bb123-e86f-495c-8666-7f8d8220d7e8",
   "metadata": {
    "execution": {
     "iopub.execute_input": "2022-06-07T13:33:51.656823Z",
     "iopub.status.busy": "2022-06-07T13:33:51.656496Z",
     "iopub.status.idle": "2022-06-07T13:33:53.370407Z",
     "shell.execute_reply": "2022-06-07T13:33:53.369939Z",
     "shell.execute_reply.started": "2022-06-07T13:33:51.656807Z"
    },
    "tags": []
   },
   "outputs": [
    {
     "data": {
      "text/plain": [
       "GaussianNB(var_smoothing=0.0016681005372000592)"
      ]
     },
     "execution_count": 16,
     "metadata": {},
     "output_type": "execute_result"
    }
   ],
   "source": [
    "# Training on a new 80-20 split to draw ROC curve\n",
    "X_train, X_val, y_train, y_val = train_test_split(X, y, test_size=0.2)\n",
    "X_train.reset_index(drop=True, inplace=True)\n",
    "y_train.reset_index(drop=True, inplace=True)\n",
    "X_val.reset_index(drop=True, inplace=True)\n",
    "y_val.reset_index(drop=True, inplace=True)\n",
    "model = GaussianNB(var_smoothing=gs_GS.best_params_['var_smoothing'])\n",
    "model.fit(X_train, y_train)"
   ]
  },
  {
   "cell_type": "code",
   "execution_count": null,
   "id": "584b4585-b164-45e2-9c52-15b5821f1946",
   "metadata": {
    "execution": {
     "iopub.execute_input": "2022-06-07T13:33:53.370993Z",
     "iopub.status.busy": "2022-06-07T13:33:53.370920Z",
     "iopub.status.idle": "2022-06-07T13:33:53.613121Z",
     "shell.execute_reply": "2022-06-07T13:33:53.612758Z",
     "shell.execute_reply.started": "2022-06-07T13:33:53.370983Z"
    }
   },
   "outputs": [
    {
     "data": {
      "text/plain": [
       "[<matplotlib.lines.Line2D at 0x17e9e3850>]"
      ]
     },
     "execution_count": 17,
     "metadata": {},
     "output_type": "execute_result"
    },
    {
     "data": {
      "image/png": "[encoded data removed]",
      "text/plain": [
       "<Figure size 432x288 with 1 Axes>"
      ]
     },
     "metadata": {
      "needs_background": "light"
     },
     "output_type": "display_data"
    }
   ],
   "source": [
    "# Display ROC curve\n",
    "RocCurveDisplay.from_predictions(y_val, model.predict_proba(X_val)[:, 1], color='orange')\n",
    "plt.xlim([0, 1]); plt.ylim([0, 1.05])\n",
    "plt.plot([0, 1], [0, 1], 'k--')"
   ]
  },
  {
   "cell_type": "markdown",
   "id": "c546e5d7-5488-459c-9efa-8fe05d0de35b",
   "metadata": {},
   "source": [
    "## Logistic Regression"
   ]
  },
  {
   "cell_type": "code",
   "execution_count": 41,
   "id": "06b96486-e67c-4ee0-a228-98d0dbe46571",
   "metadata": {
    "execution": {
     "iopub.execute_input": "2022-06-07T13:33:53.613711Z",
     "iopub.status.busy": "2022-06-07T13:33:53.613632Z",
     "iopub.status.idle": "2022-06-07T13:39:17.195636Z",
     "shell.execute_reply": "2022-06-07T13:39:17.184309Z",
     "shell.execute_reply.started": "2022-06-07T13:33:53.613700Z"
    }
   },
   "outputs": [
    {
     "name": "stdout",
     "output_type": "stream",
     "text": [
      "in gaussian mechanism\n",
      "Fitting 2 folds for each of 1 candidates, totalling 2 fits\n",
      "[CV] END ................................C=5.011872336272722; total time=   1.5s\n",
      "[CV] END ................................C=5.011872336272722; total time=   1.1s\n"
     ]
    },
    {
     "ename": "ValueError",
     "evalue": "\nAll the 2 fits failed.\nIt is very likely that your model is misconfigured.\nYou can try to debug the error by setting error_score='raise'.\n\nBelow are more details about the failures:\n--------------------------------------------------------------------------------\n2 fits failed with the following error:\nTraceback (most recent call last):\n  File \"/usr/local/lib/python3.10/site-packages/sklearn/model_selection/_validation.py\", line 686, in _fit_and_score\n    estimator.fit(X_train, y_train, **fit_params)\n  File \"/Users/admin/iCloud Drive (Archive)/Documents/.git/AdaptiveAnalysis-jiawen/AdaptivityAnalysis/eval/benchmark/sklearn/mechanized-model/../mechanism/mechanized_models.py\", line 45, in fit\n    else:\n  File \"/usr/local/lib/python3.10/site-packages/sklearn/linear_model/_logistic.py\", line 1204, in fit\n    check_classification_targets(y)\n  File \"/usr/local/lib/python3.10/site-packages/sklearn/utils/multiclass.py\", line 207, in check_classification_targets\n    raise ValueError(\"Unknown label type: %r\" % y_type)\nValueError: Unknown label type: 'continuous'\n",
     "output_type": "error",
     "traceback": [
      "\u001b[0;31m---------------------------------------------------------------------------\u001b[0m",
      "\u001b[0;31mValueError\u001b[0m                                Traceback (most recent call last)",
      "Cell \u001b[0;32mIn[41], line 20\u001b[0m\n\u001b[1;32m     18\u001b[0m gs_LR \u001b[39m=\u001b[39m MechanizedGridSearchCV(estimator\u001b[39m=\u001b[39mgs_cls, param_grid\u001b[39m=\u001b[39mparams_LR, cv\u001b[39m=\u001b[39m\u001b[39m2\u001b[39m, verbose\u001b[39m=\u001b[39m\u001b[39m2\u001b[39m, scoring\u001b[39m=\u001b[39m\u001b[39m'\u001b[39m\u001b[39mf1_macro\u001b[39m\u001b[39m'\u001b[39m)\n\u001b[1;32m     19\u001b[0m gs_LR\u001b[39m.\u001b[39mchoose_mechanism(Mechanism\u001b[39m.\u001b[39mGAUSSIAN)\n\u001b[0;32m---> 20\u001b[0m gs_LR\u001b[39m.\u001b[39;49mfit(X_train, y_train)\n\u001b[1;32m     21\u001b[0m gs_LR\u001b[39m.\u001b[39mbest_params_\n",
      "File \u001b[0;32m~/iCloud Drive (Archive)/Documents/.git/AdaptiveAnalysis-jiawen/AdaptivityAnalysis/eval/benchmark/sklearn/mechanized-model/../mechanism/mechanized_models.py:72\u001b[0m, in \u001b[0;36mfit\u001b[0;34m(self, x_train, y_train)\u001b[0m\n\u001b[1;32m     69\u001b[0m     \u001b[39melse\u001b[39;00m:\n\u001b[1;32m     70\u001b[0m         \u001b[39msuper\u001b[39m(MechanizedGridSearchCV, \u001b[39mself\u001b[39m)\u001b[39m.\u001b[39mfit(x_train, y_train)\n\u001b[0;32m---> 72\u001b[0m \u001b[39mdef\u001b[39;00m \u001b[39mchoose_mechanism\u001b[39m(\u001b[39mself\u001b[39m, mech):\n\u001b[1;32m     73\u001b[0m     \u001b[39mself\u001b[39m\u001b[39m.\u001b[39mmechanism \u001b[39m=\u001b[39m mech\n",
      "File \u001b[0;32m/usr/local/lib/python3.10/site-packages/sklearn/model_selection/_search.py:874\u001b[0m, in \u001b[0;36mBaseSearchCV.fit\u001b[0;34m(self, X, y, groups, **fit_params)\u001b[0m\n\u001b[1;32m    868\u001b[0m     results \u001b[39m=\u001b[39m \u001b[39mself\u001b[39m\u001b[39m.\u001b[39m_format_results(\n\u001b[1;32m    869\u001b[0m         all_candidate_params, n_splits, all_out, all_more_results\n\u001b[1;32m    870\u001b[0m     )\n\u001b[1;32m    872\u001b[0m     \u001b[39mreturn\u001b[39;00m results\n\u001b[0;32m--> 874\u001b[0m \u001b[39mself\u001b[39;49m\u001b[39m.\u001b[39;49m_run_search(evaluate_candidates)\n\u001b[1;32m    876\u001b[0m \u001b[39m# multimetric is determined here because in the case of a callable\u001b[39;00m\n\u001b[1;32m    877\u001b[0m \u001b[39m# self.scoring the return type is only known after calling\u001b[39;00m\n\u001b[1;32m    878\u001b[0m first_test_score \u001b[39m=\u001b[39m all_out[\u001b[39m0\u001b[39m][\u001b[39m\"\u001b[39m\u001b[39mtest_scores\u001b[39m\u001b[39m\"\u001b[39m]\n",
      "File \u001b[0;32m/usr/local/lib/python3.10/site-packages/sklearn/model_selection/_search.py:1388\u001b[0m, in \u001b[0;36mGridSearchCV._run_search\u001b[0;34m(self, evaluate_candidates)\u001b[0m\n\u001b[1;32m   1386\u001b[0m \u001b[39mdef\u001b[39;00m \u001b[39m_run_search\u001b[39m(\u001b[39mself\u001b[39m, evaluate_candidates):\n\u001b[1;32m   1387\u001b[0m \u001b[39m    \u001b[39m\u001b[39m\"\"\"Search all candidates in param_grid\"\"\"\u001b[39;00m\n\u001b[0;32m-> 1388\u001b[0m     evaluate_candidates(ParameterGrid(\u001b[39mself\u001b[39;49m\u001b[39m.\u001b[39;49mparam_grid))\n",
      "File \u001b[0;32m/usr/local/lib/python3.10/site-packages/sklearn/model_selection/_search.py:851\u001b[0m, in \u001b[0;36mBaseSearchCV.fit.<locals>.evaluate_candidates\u001b[0;34m(candidate_params, cv, more_results)\u001b[0m\n\u001b[1;32m    844\u001b[0m \u001b[39melif\u001b[39;00m \u001b[39mlen\u001b[39m(out) \u001b[39m!=\u001b[39m n_candidates \u001b[39m*\u001b[39m n_splits:\n\u001b[1;32m    845\u001b[0m     \u001b[39mraise\u001b[39;00m \u001b[39mValueError\u001b[39;00m(\n\u001b[1;32m    846\u001b[0m         \u001b[39m\"\u001b[39m\u001b[39mcv.split and cv.get_n_splits returned \u001b[39m\u001b[39m\"\u001b[39m\n\u001b[1;32m    847\u001b[0m         \u001b[39m\"\u001b[39m\u001b[39minconsistent results. Expected \u001b[39m\u001b[39m{}\u001b[39;00m\u001b[39m \u001b[39m\u001b[39m\"\u001b[39m\n\u001b[1;32m    848\u001b[0m         \u001b[39m\"\u001b[39m\u001b[39msplits, got \u001b[39m\u001b[39m{}\u001b[39;00m\u001b[39m\"\u001b[39m\u001b[39m.\u001b[39mformat(n_splits, \u001b[39mlen\u001b[39m(out) \u001b[39m/\u001b[39m\u001b[39m/\u001b[39m n_candidates)\n\u001b[1;32m    849\u001b[0m     )\n\u001b[0;32m--> 851\u001b[0m _warn_or_raise_about_fit_failures(out, \u001b[39mself\u001b[39;49m\u001b[39m.\u001b[39;49merror_score)\n\u001b[1;32m    853\u001b[0m \u001b[39m# For callable self.scoring, the return type is only know after\u001b[39;00m\n\u001b[1;32m    854\u001b[0m \u001b[39m# calling. If the return type is a dictionary, the error scores\u001b[39;00m\n\u001b[1;32m    855\u001b[0m \u001b[39m# can now be inserted with the correct key. The type checking\u001b[39;00m\n\u001b[1;32m    856\u001b[0m \u001b[39m# of out will be done in `_insert_error_scores`.\u001b[39;00m\n\u001b[1;32m    857\u001b[0m \u001b[39mif\u001b[39;00m callable(\u001b[39mself\u001b[39m\u001b[39m.\u001b[39mscoring):\n",
      "File \u001b[0;32m/usr/local/lib/python3.10/site-packages/sklearn/model_selection/_validation.py:367\u001b[0m, in \u001b[0;36m_warn_or_raise_about_fit_failures\u001b[0;34m(results, error_score)\u001b[0m\n\u001b[1;32m    360\u001b[0m \u001b[39mif\u001b[39;00m num_failed_fits \u001b[39m==\u001b[39m num_fits:\n\u001b[1;32m    361\u001b[0m     all_fits_failed_message \u001b[39m=\u001b[39m (\n\u001b[1;32m    362\u001b[0m         \u001b[39mf\u001b[39m\u001b[39m\"\u001b[39m\u001b[39m\\n\u001b[39;00m\u001b[39mAll the \u001b[39m\u001b[39m{\u001b[39;00mnum_fits\u001b[39m}\u001b[39;00m\u001b[39m fits failed.\u001b[39m\u001b[39m\\n\u001b[39;00m\u001b[39m\"\u001b[39m\n\u001b[1;32m    363\u001b[0m         \u001b[39m\"\u001b[39m\u001b[39mIt is very likely that your model is misconfigured.\u001b[39m\u001b[39m\\n\u001b[39;00m\u001b[39m\"\u001b[39m\n\u001b[1;32m    364\u001b[0m         \u001b[39m\"\u001b[39m\u001b[39mYou can try to debug the error by setting error_score=\u001b[39m\u001b[39m'\u001b[39m\u001b[39mraise\u001b[39m\u001b[39m'\u001b[39m\u001b[39m.\u001b[39m\u001b[39m\\n\u001b[39;00m\u001b[39m\\n\u001b[39;00m\u001b[39m\"\u001b[39m\n\u001b[1;32m    365\u001b[0m         \u001b[39mf\u001b[39m\u001b[39m\"\u001b[39m\u001b[39mBelow are more details about the failures:\u001b[39m\u001b[39m\\n\u001b[39;00m\u001b[39m{\u001b[39;00mfit_errors_summary\u001b[39m}\u001b[39;00m\u001b[39m\"\u001b[39m\n\u001b[1;32m    366\u001b[0m     )\n\u001b[0;32m--> 367\u001b[0m     \u001b[39mraise\u001b[39;00m \u001b[39mValueError\u001b[39;00m(all_fits_failed_message)\n\u001b[1;32m    369\u001b[0m \u001b[39melse\u001b[39;00m:\n\u001b[1;32m    370\u001b[0m     some_fits_failed_message \u001b[39m=\u001b[39m (\n\u001b[1;32m    371\u001b[0m         \u001b[39mf\u001b[39m\u001b[39m\"\u001b[39m\u001b[39m\\n\u001b[39;00m\u001b[39m{\u001b[39;00mnum_failed_fits\u001b[39m}\u001b[39;00m\u001b[39m fits failed out of a total of \u001b[39m\u001b[39m{\u001b[39;00mnum_fits\u001b[39m}\u001b[39;00m\u001b[39m.\u001b[39m\u001b[39m\\n\u001b[39;00m\u001b[39m\"\u001b[39m\n\u001b[1;32m    372\u001b[0m         \u001b[39m\"\u001b[39m\u001b[39mThe score on these train-test partitions for these parameters\u001b[39m\u001b[39m\"\u001b[39m\n\u001b[0;32m   (...)\u001b[0m\n\u001b[1;32m    376\u001b[0m         \u001b[39mf\u001b[39m\u001b[39m\"\u001b[39m\u001b[39mBelow are more details about the failures:\u001b[39m\u001b[39m\\n\u001b[39;00m\u001b[39m{\u001b[39;00mfit_errors_summary\u001b[39m}\u001b[39;00m\u001b[39m\"\u001b[39m\n\u001b[1;32m    377\u001b[0m     )\n",
      "\u001b[0;31mValueError\u001b[0m: \nAll the 2 fits failed.\nIt is very likely that your model is misconfigured.\nYou can try to debug the error by setting error_score='raise'.\n\nBelow are more details about the failures:\n--------------------------------------------------------------------------------\n2 fits failed with the following error:\nTraceback (most recent call last):\n  File \"/usr/local/lib/python3.10/site-packages/sklearn/model_selection/_validation.py\", line 686, in _fit_and_score\n    estimator.fit(X_train, y_train, **fit_params)\n  File \"/Users/admin/iCloud Drive (Archive)/Documents/.git/AdaptiveAnalysis-jiawen/AdaptivityAnalysis/eval/benchmark/sklearn/mechanized-model/../mechanism/mechanized_models.py\", line 45, in fit\n    else:\n  File \"/usr/local/lib/python3.10/site-packages/sklearn/linear_model/_logistic.py\", line 1204, in fit\n    check_classification_targets(y)\n  File \"/usr/local/lib/python3.10/site-packages/sklearn/utils/multiclass.py\", line 207, in check_classification_targets\n    raise ValueError(\"Unknown label type: %r\" % y_type)\nValueError: Unknown label type: 'continuous'\n"
     ]
    }
   ],
   "source": [
    "# Hyperparameter selection on one split\n",
    "# import sys\n",
    "# sys.path.append(\"..\")\n",
    "\n",
    "from mechanism.mechanized_models import Mechanism\n",
    "from sklearn import preprocessing\n",
    "\n",
    "from mechanism.mechanized_models import MechanizedGridSearchCV\n",
    "\n",
    "\n",
    "X_train, X_val, y_train, y_val = splits[0]\n",
    "\n",
    "\n",
    "gs_cls = MechanizedLogisticRegression(max_iter=1500)\n",
    "gs_cls.choose_mechanism(Mechanism.GAUSSIAN)\n",
    "\n",
    "params_LR = {'C': np.logspace(0.7, 1.1, num=1)}\n",
    "gs_LR = MechanizedGridSearchCV(estimator=gs_cls, param_grid=params_LR, cv=2, verbose=2, scoring='f1_macro')\n",
    "gs_LR.choose_mechanism(Mechanism.GAUSSIAN)\n",
    "gs_LR.fit(X_train, y_train)\n",
    "gs_LR.best_params_"
   ]
  },
  {
   "cell_type": "code",
   "execution_count": 40,
   "id": "8f82c31b-acab-4bb7-b8f8-0f9aaf3a80e6",
   "metadata": {
    "execution": {
     "iopub.execute_input": "2022-06-07T13:39:17.203545Z",
     "iopub.status.busy": "2022-06-07T13:39:17.202664Z",
     "iopub.status.idle": "2022-06-07T13:41:22.407714Z",
     "shell.execute_reply": "2022-06-07T13:41:22.393518Z",
     "shell.execute_reply.started": "2022-06-07T13:39:17.203492Z"
    },
    "tags": []
   },
   "outputs": [
    {
     "name": "stdout",
     "output_type": "stream",
     "text": [
      "Split 0:\n",
      "in gaussian mechanism MechanizedLogisticRegression\n",
      "  F1 score: 0.5866066300139143\n",
      "  Accuracy: 0.8218568002740665\n",
      "  ROC/AUC score: 0.8507080441672326\n",
      "Split 1:\n",
      "in gaussian mechanism MechanizedLogisticRegression\n"
     ]
    },
    {
     "ename": "KeyboardInterrupt",
     "evalue": "",
     "output_type": "error",
     "traceback": [
      "\u001b[0;31m---------------------------------------------------------------------------\u001b[0m",
      "\u001b[0;31mKeyboardInterrupt\u001b[0m                         Traceback (most recent call last)",
      "Cell \u001b[0;32mIn[40], line 8\u001b[0m\n\u001b[1;32m      6\u001b[0m model \u001b[39m=\u001b[39m MechanizedLogisticRegression2(max_iter\u001b[39m=\u001b[39m\u001b[39m1500\u001b[39m, C\u001b[39m=\u001b[39mgs_LR\u001b[39m.\u001b[39mbest_params_[\u001b[39m'\u001b[39m\u001b[39mC\u001b[39m\u001b[39m'\u001b[39m])\n\u001b[1;32m      7\u001b[0m model\u001b[39m.\u001b[39mchoose_mechanism(Mechanism\u001b[39m.\u001b[39mGAUSSIAN)\n\u001b[0;32m----> 8\u001b[0m model\u001b[39m.\u001b[39;49mfit(X_train, y_train)\n\u001b[1;32m      9\u001b[0m \u001b[39m# Predict\u001b[39;00m\n\u001b[1;32m     10\u001b[0m y_pred \u001b[39m=\u001b[39m model\u001b[39m.\u001b[39mpredict(X_val)\n",
      "Cell \u001b[0;32mIn[37], line 48\u001b[0m, in \u001b[0;36mMechanizedLogisticRegression2.fit\u001b[0;34m(self, x_train, y_train)\u001b[0m\n\u001b[1;32m     40\u001b[0m     y_transformed \u001b[39m=\u001b[39m pd\u001b[39m.\u001b[39mSeries(\n\u001b[1;32m     41\u001b[0m     lab\u001b[39m.\u001b[39mfit_transform(noised_y), \n\u001b[1;32m     42\u001b[0m     y_train\u001b[39m.\u001b[39mindex,\n\u001b[0;32m   (...)\u001b[0m\n\u001b[1;32m     45\u001b[0m     y_train\u001b[39m.\u001b[39mcopy\n\u001b[1;32m     46\u001b[0m     )\n\u001b[1;32m     47\u001b[0m     \u001b[39m# y_transformed = lab.fit_transform(noised_y)\u001b[39;00m\n\u001b[0;32m---> 48\u001b[0m     \u001b[39mreturn\u001b[39;00m \u001b[39msuper\u001b[39;49m(MechanizedLogisticRegression2, \u001b[39mself\u001b[39;49m)\u001b[39m.\u001b[39;49mfit(x_train \u001b[39m+\u001b[39;49m x_noise, y_train)\n\u001b[1;32m     49\u001b[0m \u001b[39melse\u001b[39;00m:\n\u001b[1;32m     50\u001b[0m     \u001b[39mreturn\u001b[39;00m \u001b[39msuper\u001b[39m(MechanizedLogisticRegression2, \u001b[39mself\u001b[39m)\u001b[39m.\u001b[39mfit(x_train, y_train)\n",
      "File \u001b[0;32m/usr/local/lib/python3.10/site-packages/sklearn/linear_model/_logistic.py:1291\u001b[0m, in \u001b[0;36mLogisticRegression.fit\u001b[0;34m(self, X, y, sample_weight)\u001b[0m\n\u001b[1;32m   1288\u001b[0m \u001b[39melse\u001b[39;00m:\n\u001b[1;32m   1289\u001b[0m     n_threads \u001b[39m=\u001b[39m \u001b[39m1\u001b[39m\n\u001b[0;32m-> 1291\u001b[0m fold_coefs_ \u001b[39m=\u001b[39m Parallel(n_jobs\u001b[39m=\u001b[39;49m\u001b[39mself\u001b[39;49m\u001b[39m.\u001b[39;49mn_jobs, verbose\u001b[39m=\u001b[39;49m\u001b[39mself\u001b[39;49m\u001b[39m.\u001b[39;49mverbose, prefer\u001b[39m=\u001b[39;49mprefer)(\n\u001b[1;32m   1292\u001b[0m     path_func(\n\u001b[1;32m   1293\u001b[0m         X,\n\u001b[1;32m   1294\u001b[0m         y,\n\u001b[1;32m   1295\u001b[0m         pos_class\u001b[39m=\u001b[39;49mclass_,\n\u001b[1;32m   1296\u001b[0m         Cs\u001b[39m=\u001b[39;49m[C_],\n\u001b[1;32m   1297\u001b[0m         l1_ratio\u001b[39m=\u001b[39;49m\u001b[39mself\u001b[39;49m\u001b[39m.\u001b[39;49ml1_ratio,\n\u001b[1;32m   1298\u001b[0m         fit_intercept\u001b[39m=\u001b[39;49m\u001b[39mself\u001b[39;49m\u001b[39m.\u001b[39;49mfit_intercept,\n\u001b[1;32m   1299\u001b[0m         tol\u001b[39m=\u001b[39;49m\u001b[39mself\u001b[39;49m\u001b[39m.\u001b[39;49mtol,\n\u001b[1;32m   1300\u001b[0m         verbose\u001b[39m=\u001b[39;49m\u001b[39mself\u001b[39;49m\u001b[39m.\u001b[39;49mverbose,\n\u001b[1;32m   1301\u001b[0m         solver\u001b[39m=\u001b[39;49msolver,\n\u001b[1;32m   1302\u001b[0m         multi_class\u001b[39m=\u001b[39;49mmulti_class,\n\u001b[1;32m   1303\u001b[0m         max_iter\u001b[39m=\u001b[39;49m\u001b[39mself\u001b[39;49m\u001b[39m.\u001b[39;49mmax_iter,\n\u001b[1;32m   1304\u001b[0m         class_weight\u001b[39m=\u001b[39;49m\u001b[39mself\u001b[39;49m\u001b[39m.\u001b[39;49mclass_weight,\n\u001b[1;32m   1305\u001b[0m         check_input\u001b[39m=\u001b[39;49m\u001b[39mFalse\u001b[39;49;00m,\n\u001b[1;32m   1306\u001b[0m         random_state\u001b[39m=\u001b[39;49m\u001b[39mself\u001b[39;49m\u001b[39m.\u001b[39;49mrandom_state,\n\u001b[1;32m   1307\u001b[0m         coef\u001b[39m=\u001b[39;49mwarm_start_coef_,\n\u001b[1;32m   1308\u001b[0m         penalty\u001b[39m=\u001b[39;49mpenalty,\n\u001b[1;32m   1309\u001b[0m         max_squared_sum\u001b[39m=\u001b[39;49mmax_squared_sum,\n\u001b[1;32m   1310\u001b[0m         sample_weight\u001b[39m=\u001b[39;49msample_weight,\n\u001b[1;32m   1311\u001b[0m         n_threads\u001b[39m=\u001b[39;49mn_threads,\n\u001b[1;32m   1312\u001b[0m     )\n\u001b[1;32m   1313\u001b[0m     \u001b[39mfor\u001b[39;49;00m class_, warm_start_coef_ \u001b[39min\u001b[39;49;00m \u001b[39mzip\u001b[39;49m(classes_, warm_start_coef)\n\u001b[1;32m   1314\u001b[0m )\n\u001b[1;32m   1316\u001b[0m fold_coefs_, _, n_iter_ \u001b[39m=\u001b[39m \u001b[39mzip\u001b[39m(\u001b[39m*\u001b[39mfold_coefs_)\n\u001b[1;32m   1317\u001b[0m \u001b[39mself\u001b[39m\u001b[39m.\u001b[39mn_iter_ \u001b[39m=\u001b[39m np\u001b[39m.\u001b[39masarray(n_iter_, dtype\u001b[39m=\u001b[39mnp\u001b[39m.\u001b[39mint32)[:, \u001b[39m0\u001b[39m]\n",
      "File \u001b[0;32m/usr/local/lib/python3.10/site-packages/sklearn/utils/parallel.py:63\u001b[0m, in \u001b[0;36mParallel.__call__\u001b[0;34m(self, iterable)\u001b[0m\n\u001b[1;32m     58\u001b[0m config \u001b[39m=\u001b[39m get_config()\n\u001b[1;32m     59\u001b[0m iterable_with_config \u001b[39m=\u001b[39m (\n\u001b[1;32m     60\u001b[0m     (_with_config(delayed_func, config), args, kwargs)\n\u001b[1;32m     61\u001b[0m     \u001b[39mfor\u001b[39;00m delayed_func, args, kwargs \u001b[39min\u001b[39;00m iterable\n\u001b[1;32m     62\u001b[0m )\n\u001b[0;32m---> 63\u001b[0m \u001b[39mreturn\u001b[39;00m \u001b[39msuper\u001b[39;49m()\u001b[39m.\u001b[39;49m\u001b[39m__call__\u001b[39;49m(iterable_with_config)\n",
      "File \u001b[0;32m/usr/local/lib/python3.10/site-packages/joblib/parallel.py:1085\u001b[0m, in \u001b[0;36mParallel.__call__\u001b[0;34m(self, iterable)\u001b[0m\n\u001b[1;32m   1076\u001b[0m \u001b[39mtry\u001b[39;00m:\n\u001b[1;32m   1077\u001b[0m     \u001b[39m# Only set self._iterating to True if at least a batch\u001b[39;00m\n\u001b[1;32m   1078\u001b[0m     \u001b[39m# was dispatched. In particular this covers the edge\u001b[39;00m\n\u001b[0;32m   (...)\u001b[0m\n\u001b[1;32m   1082\u001b[0m     \u001b[39m# was very quick and its callback already dispatched all the\u001b[39;00m\n\u001b[1;32m   1083\u001b[0m     \u001b[39m# remaining jobs.\u001b[39;00m\n\u001b[1;32m   1084\u001b[0m     \u001b[39mself\u001b[39m\u001b[39m.\u001b[39m_iterating \u001b[39m=\u001b[39m \u001b[39mFalse\u001b[39;00m\n\u001b[0;32m-> 1085\u001b[0m     \u001b[39mif\u001b[39;00m \u001b[39mself\u001b[39;49m\u001b[39m.\u001b[39;49mdispatch_one_batch(iterator):\n\u001b[1;32m   1086\u001b[0m         \u001b[39mself\u001b[39m\u001b[39m.\u001b[39m_iterating \u001b[39m=\u001b[39m \u001b[39mself\u001b[39m\u001b[39m.\u001b[39m_original_iterator \u001b[39mis\u001b[39;00m \u001b[39mnot\u001b[39;00m \u001b[39mNone\u001b[39;00m\n\u001b[1;32m   1088\u001b[0m     \u001b[39mwhile\u001b[39;00m \u001b[39mself\u001b[39m\u001b[39m.\u001b[39mdispatch_one_batch(iterator):\n",
      "File \u001b[0;32m/usr/local/lib/python3.10/site-packages/joblib/parallel.py:901\u001b[0m, in \u001b[0;36mParallel.dispatch_one_batch\u001b[0;34m(self, iterator)\u001b[0m\n\u001b[1;32m    899\u001b[0m     \u001b[39mreturn\u001b[39;00m \u001b[39mFalse\u001b[39;00m\n\u001b[1;32m    900\u001b[0m \u001b[39melse\u001b[39;00m:\n\u001b[0;32m--> 901\u001b[0m     \u001b[39mself\u001b[39;49m\u001b[39m.\u001b[39;49m_dispatch(tasks)\n\u001b[1;32m    902\u001b[0m     \u001b[39mreturn\u001b[39;00m \u001b[39mTrue\u001b[39;00m\n",
      "File \u001b[0;32m/usr/local/lib/python3.10/site-packages/joblib/parallel.py:819\u001b[0m, in \u001b[0;36mParallel._dispatch\u001b[0;34m(self, batch)\u001b[0m\n\u001b[1;32m    817\u001b[0m \u001b[39mwith\u001b[39;00m \u001b[39mself\u001b[39m\u001b[39m.\u001b[39m_lock:\n\u001b[1;32m    818\u001b[0m     job_idx \u001b[39m=\u001b[39m \u001b[39mlen\u001b[39m(\u001b[39mself\u001b[39m\u001b[39m.\u001b[39m_jobs)\n\u001b[0;32m--> 819\u001b[0m     job \u001b[39m=\u001b[39m \u001b[39mself\u001b[39;49m\u001b[39m.\u001b[39;49m_backend\u001b[39m.\u001b[39;49mapply_async(batch, callback\u001b[39m=\u001b[39;49mcb)\n\u001b[1;32m    820\u001b[0m     \u001b[39m# A job can complete so quickly than its callback is\u001b[39;00m\n\u001b[1;32m    821\u001b[0m     \u001b[39m# called before we get here, causing self._jobs to\u001b[39;00m\n\u001b[1;32m    822\u001b[0m     \u001b[39m# grow. To ensure correct results ordering, .insert is\u001b[39;00m\n\u001b[1;32m    823\u001b[0m     \u001b[39m# used (rather than .append) in the following line\u001b[39;00m\n\u001b[1;32m    824\u001b[0m     \u001b[39mself\u001b[39m\u001b[39m.\u001b[39m_jobs\u001b[39m.\u001b[39minsert(job_idx, job)\n",
      "File \u001b[0;32m/usr/local/lib/python3.10/site-packages/joblib/_parallel_backends.py:208\u001b[0m, in \u001b[0;36mSequentialBackend.apply_async\u001b[0;34m(self, func, callback)\u001b[0m\n\u001b[1;32m    206\u001b[0m \u001b[39mdef\u001b[39;00m \u001b[39mapply_async\u001b[39m(\u001b[39mself\u001b[39m, func, callback\u001b[39m=\u001b[39m\u001b[39mNone\u001b[39;00m):\n\u001b[1;32m    207\u001b[0m \u001b[39m    \u001b[39m\u001b[39m\"\"\"Schedule a func to be run\"\"\"\u001b[39;00m\n\u001b[0;32m--> 208\u001b[0m     result \u001b[39m=\u001b[39m ImmediateResult(func)\n\u001b[1;32m    209\u001b[0m     \u001b[39mif\u001b[39;00m callback:\n\u001b[1;32m    210\u001b[0m         callback(result)\n",
      "File \u001b[0;32m/usr/local/lib/python3.10/site-packages/joblib/_parallel_backends.py:597\u001b[0m, in \u001b[0;36mImmediateResult.__init__\u001b[0;34m(self, batch)\u001b[0m\n\u001b[1;32m    594\u001b[0m \u001b[39mdef\u001b[39;00m \u001b[39m__init__\u001b[39m(\u001b[39mself\u001b[39m, batch):\n\u001b[1;32m    595\u001b[0m     \u001b[39m# Don't delay the application, to avoid keeping the input\u001b[39;00m\n\u001b[1;32m    596\u001b[0m     \u001b[39m# arguments in memory\u001b[39;00m\n\u001b[0;32m--> 597\u001b[0m     \u001b[39mself\u001b[39m\u001b[39m.\u001b[39mresults \u001b[39m=\u001b[39m batch()\n",
      "File \u001b[0;32m/usr/local/lib/python3.10/site-packages/joblib/parallel.py:288\u001b[0m, in \u001b[0;36mBatchedCalls.__call__\u001b[0;34m(self)\u001b[0m\n\u001b[1;32m    284\u001b[0m \u001b[39mdef\u001b[39;00m \u001b[39m__call__\u001b[39m(\u001b[39mself\u001b[39m):\n\u001b[1;32m    285\u001b[0m     \u001b[39m# Set the default nested backend to self._backend but do not set the\u001b[39;00m\n\u001b[1;32m    286\u001b[0m     \u001b[39m# change the default number of processes to -1\u001b[39;00m\n\u001b[1;32m    287\u001b[0m     \u001b[39mwith\u001b[39;00m parallel_backend(\u001b[39mself\u001b[39m\u001b[39m.\u001b[39m_backend, n_jobs\u001b[39m=\u001b[39m\u001b[39mself\u001b[39m\u001b[39m.\u001b[39m_n_jobs):\n\u001b[0;32m--> 288\u001b[0m         \u001b[39mreturn\u001b[39;00m [func(\u001b[39m*\u001b[39margs, \u001b[39m*\u001b[39m\u001b[39m*\u001b[39mkwargs)\n\u001b[1;32m    289\u001b[0m                 \u001b[39mfor\u001b[39;00m func, args, kwargs \u001b[39min\u001b[39;00m \u001b[39mself\u001b[39m\u001b[39m.\u001b[39mitems]\n",
      "File \u001b[0;32m/usr/local/lib/python3.10/site-packages/joblib/parallel.py:288\u001b[0m, in \u001b[0;36m<listcomp>\u001b[0;34m(.0)\u001b[0m\n\u001b[1;32m    284\u001b[0m \u001b[39mdef\u001b[39;00m \u001b[39m__call__\u001b[39m(\u001b[39mself\u001b[39m):\n\u001b[1;32m    285\u001b[0m     \u001b[39m# Set the default nested backend to self._backend but do not set the\u001b[39;00m\n\u001b[1;32m    286\u001b[0m     \u001b[39m# change the default number of processes to -1\u001b[39;00m\n\u001b[1;32m    287\u001b[0m     \u001b[39mwith\u001b[39;00m parallel_backend(\u001b[39mself\u001b[39m\u001b[39m.\u001b[39m_backend, n_jobs\u001b[39m=\u001b[39m\u001b[39mself\u001b[39m\u001b[39m.\u001b[39m_n_jobs):\n\u001b[0;32m--> 288\u001b[0m         \u001b[39mreturn\u001b[39;00m [func(\u001b[39m*\u001b[39;49margs, \u001b[39m*\u001b[39;49m\u001b[39m*\u001b[39;49mkwargs)\n\u001b[1;32m    289\u001b[0m                 \u001b[39mfor\u001b[39;00m func, args, kwargs \u001b[39min\u001b[39;00m \u001b[39mself\u001b[39m\u001b[39m.\u001b[39mitems]\n",
      "File \u001b[0;32m/usr/local/lib/python3.10/site-packages/sklearn/utils/parallel.py:123\u001b[0m, in \u001b[0;36m_FuncWrapper.__call__\u001b[0;34m(self, *args, **kwargs)\u001b[0m\n\u001b[1;32m    121\u001b[0m     config \u001b[39m=\u001b[39m {}\n\u001b[1;32m    122\u001b[0m \u001b[39mwith\u001b[39;00m config_context(\u001b[39m*\u001b[39m\u001b[39m*\u001b[39mconfig):\n\u001b[0;32m--> 123\u001b[0m     \u001b[39mreturn\u001b[39;00m \u001b[39mself\u001b[39;49m\u001b[39m.\u001b[39;49mfunction(\u001b[39m*\u001b[39;49margs, \u001b[39m*\u001b[39;49m\u001b[39m*\u001b[39;49mkwargs)\n",
      "File \u001b[0;32m/usr/local/lib/python3.10/site-packages/sklearn/linear_model/_logistic.py:450\u001b[0m, in \u001b[0;36m_logistic_regression_path\u001b[0;34m(X, y, pos_class, Cs, fit_intercept, max_iter, tol, verbose, solver, coef, class_weight, dual, penalty, intercept_scaling, multi_class, random_state, check_input, max_squared_sum, sample_weight, l1_ratio, n_threads)\u001b[0m\n\u001b[1;32m    446\u001b[0m l2_reg_strength \u001b[39m=\u001b[39m \u001b[39m1.0\u001b[39m \u001b[39m/\u001b[39m C\n\u001b[1;32m    447\u001b[0m iprint \u001b[39m=\u001b[39m [\u001b[39m-\u001b[39m\u001b[39m1\u001b[39m, \u001b[39m50\u001b[39m, \u001b[39m1\u001b[39m, \u001b[39m100\u001b[39m, \u001b[39m101\u001b[39m][\n\u001b[1;32m    448\u001b[0m     np\u001b[39m.\u001b[39msearchsorted(np\u001b[39m.\u001b[39marray([\u001b[39m0\u001b[39m, \u001b[39m1\u001b[39m, \u001b[39m2\u001b[39m, \u001b[39m3\u001b[39m]), verbose)\n\u001b[1;32m    449\u001b[0m ]\n\u001b[0;32m--> 450\u001b[0m opt_res \u001b[39m=\u001b[39m optimize\u001b[39m.\u001b[39;49mminimize(\n\u001b[1;32m    451\u001b[0m     func,\n\u001b[1;32m    452\u001b[0m     w0,\n\u001b[1;32m    453\u001b[0m     method\u001b[39m=\u001b[39;49m\u001b[39m\"\u001b[39;49m\u001b[39mL-BFGS-B\u001b[39;49m\u001b[39m\"\u001b[39;49m,\n\u001b[1;32m    454\u001b[0m     jac\u001b[39m=\u001b[39;49m\u001b[39mTrue\u001b[39;49;00m,\n\u001b[1;32m    455\u001b[0m     args\u001b[39m=\u001b[39;49m(X, target, sample_weight, l2_reg_strength, n_threads),\n\u001b[1;32m    456\u001b[0m     options\u001b[39m=\u001b[39;49m{\u001b[39m\"\u001b[39;49m\u001b[39miprint\u001b[39;49m\u001b[39m\"\u001b[39;49m: iprint, \u001b[39m\"\u001b[39;49m\u001b[39mgtol\u001b[39;49m\u001b[39m\"\u001b[39;49m: tol, \u001b[39m\"\u001b[39;49m\u001b[39mmaxiter\u001b[39;49m\u001b[39m\"\u001b[39;49m: max_iter},\n\u001b[1;32m    457\u001b[0m )\n\u001b[1;32m    458\u001b[0m n_iter_i \u001b[39m=\u001b[39m _check_optimize_result(\n\u001b[1;32m    459\u001b[0m     solver,\n\u001b[1;32m    460\u001b[0m     opt_res,\n\u001b[1;32m    461\u001b[0m     max_iter,\n\u001b[1;32m    462\u001b[0m     extra_warning_msg\u001b[39m=\u001b[39m_LOGISTIC_SOLVER_CONVERGENCE_MSG,\n\u001b[1;32m    463\u001b[0m )\n\u001b[1;32m    464\u001b[0m w0, loss \u001b[39m=\u001b[39m opt_res\u001b[39m.\u001b[39mx, opt_res\u001b[39m.\u001b[39mfun\n",
      "File \u001b[0;32m/usr/local/lib/python3.10/site-packages/scipy/optimize/_minimize.py:696\u001b[0m, in \u001b[0;36mminimize\u001b[0;34m(fun, x0, args, method, jac, hess, hessp, bounds, constraints, tol, callback, options)\u001b[0m\n\u001b[1;32m    693\u001b[0m     res \u001b[39m=\u001b[39m _minimize_newtoncg(fun, x0, args, jac, hess, hessp, callback,\n\u001b[1;32m    694\u001b[0m                              \u001b[39m*\u001b[39m\u001b[39m*\u001b[39moptions)\n\u001b[1;32m    695\u001b[0m \u001b[39melif\u001b[39;00m meth \u001b[39m==\u001b[39m \u001b[39m'\u001b[39m\u001b[39ml-bfgs-b\u001b[39m\u001b[39m'\u001b[39m:\n\u001b[0;32m--> 696\u001b[0m     res \u001b[39m=\u001b[39m _minimize_lbfgsb(fun, x0, args, jac, bounds,\n\u001b[1;32m    697\u001b[0m                            callback\u001b[39m=\u001b[39;49mcallback, \u001b[39m*\u001b[39;49m\u001b[39m*\u001b[39;49moptions)\n\u001b[1;32m    698\u001b[0m \u001b[39melif\u001b[39;00m meth \u001b[39m==\u001b[39m \u001b[39m'\u001b[39m\u001b[39mtnc\u001b[39m\u001b[39m'\u001b[39m:\n\u001b[1;32m    699\u001b[0m     res \u001b[39m=\u001b[39m _minimize_tnc(fun, x0, args, jac, bounds, callback\u001b[39m=\u001b[39mcallback,\n\u001b[1;32m    700\u001b[0m                         \u001b[39m*\u001b[39m\u001b[39m*\u001b[39moptions)\n",
      "File \u001b[0;32m/usr/local/lib/python3.10/site-packages/scipy/optimize/_lbfgsb_py.py:359\u001b[0m, in \u001b[0;36m_minimize_lbfgsb\u001b[0;34m(fun, x0, args, jac, bounds, disp, maxcor, ftol, gtol, eps, maxfun, maxiter, iprint, callback, maxls, finite_diff_rel_step, **unknown_options)\u001b[0m\n\u001b[1;32m    353\u001b[0m task_str \u001b[39m=\u001b[39m task\u001b[39m.\u001b[39mtobytes()\n\u001b[1;32m    354\u001b[0m \u001b[39mif\u001b[39;00m task_str\u001b[39m.\u001b[39mstartswith(\u001b[39mb\u001b[39m\u001b[39m'\u001b[39m\u001b[39mFG\u001b[39m\u001b[39m'\u001b[39m):\n\u001b[1;32m    355\u001b[0m     \u001b[39m# The minimization routine wants f and g at the current x.\u001b[39;00m\n\u001b[1;32m    356\u001b[0m     \u001b[39m# Note that interruptions due to maxfun are postponed\u001b[39;00m\n\u001b[1;32m    357\u001b[0m     \u001b[39m# until the completion of the current minimization iteration.\u001b[39;00m\n\u001b[1;32m    358\u001b[0m     \u001b[39m# Overwrite f and g:\u001b[39;00m\n\u001b[0;32m--> 359\u001b[0m     f, g \u001b[39m=\u001b[39m func_and_grad(x)\n\u001b[1;32m    360\u001b[0m \u001b[39melif\u001b[39;00m task_str\u001b[39m.\u001b[39mstartswith(\u001b[39mb\u001b[39m\u001b[39m'\u001b[39m\u001b[39mNEW_X\u001b[39m\u001b[39m'\u001b[39m):\n\u001b[1;32m    361\u001b[0m     \u001b[39m# new iteration\u001b[39;00m\n\u001b[1;32m    362\u001b[0m     n_iterations \u001b[39m+\u001b[39m\u001b[39m=\u001b[39m \u001b[39m1\u001b[39m\n",
      "File \u001b[0;32m/usr/local/lib/python3.10/site-packages/scipy/optimize/_differentiable_functions.py:285\u001b[0m, in \u001b[0;36mScalarFunction.fun_and_grad\u001b[0;34m(self, x)\u001b[0m\n\u001b[1;32m    283\u001b[0m \u001b[39mif\u001b[39;00m \u001b[39mnot\u001b[39;00m np\u001b[39m.\u001b[39marray_equal(x, \u001b[39mself\u001b[39m\u001b[39m.\u001b[39mx):\n\u001b[1;32m    284\u001b[0m     \u001b[39mself\u001b[39m\u001b[39m.\u001b[39m_update_x_impl(x)\n\u001b[0;32m--> 285\u001b[0m \u001b[39mself\u001b[39;49m\u001b[39m.\u001b[39;49m_update_fun()\n\u001b[1;32m    286\u001b[0m \u001b[39mself\u001b[39m\u001b[39m.\u001b[39m_update_grad()\n\u001b[1;32m    287\u001b[0m \u001b[39mreturn\u001b[39;00m \u001b[39mself\u001b[39m\u001b[39m.\u001b[39mf, \u001b[39mself\u001b[39m\u001b[39m.\u001b[39mg\n",
      "File \u001b[0;32m/usr/local/lib/python3.10/site-packages/scipy/optimize/_differentiable_functions.py:251\u001b[0m, in \u001b[0;36mScalarFunction._update_fun\u001b[0;34m(self)\u001b[0m\n\u001b[1;32m    249\u001b[0m \u001b[39mdef\u001b[39;00m \u001b[39m_update_fun\u001b[39m(\u001b[39mself\u001b[39m):\n\u001b[1;32m    250\u001b[0m     \u001b[39mif\u001b[39;00m \u001b[39mnot\u001b[39;00m \u001b[39mself\u001b[39m\u001b[39m.\u001b[39mf_updated:\n\u001b[0;32m--> 251\u001b[0m         \u001b[39mself\u001b[39;49m\u001b[39m.\u001b[39;49m_update_fun_impl()\n\u001b[1;32m    252\u001b[0m         \u001b[39mself\u001b[39m\u001b[39m.\u001b[39mf_updated \u001b[39m=\u001b[39m \u001b[39mTrue\u001b[39;00m\n",
      "File \u001b[0;32m/usr/local/lib/python3.10/site-packages/scipy/optimize/_differentiable_functions.py:155\u001b[0m, in \u001b[0;36mScalarFunction.__init__.<locals>.update_fun\u001b[0;34m()\u001b[0m\n\u001b[1;32m    154\u001b[0m \u001b[39mdef\u001b[39;00m \u001b[39mupdate_fun\u001b[39m():\n\u001b[0;32m--> 155\u001b[0m     \u001b[39mself\u001b[39m\u001b[39m.\u001b[39mf \u001b[39m=\u001b[39m fun_wrapped(\u001b[39mself\u001b[39;49m\u001b[39m.\u001b[39;49mx)\n",
      "File \u001b[0;32m/usr/local/lib/python3.10/site-packages/scipy/optimize/_differentiable_functions.py:137\u001b[0m, in \u001b[0;36mScalarFunction.__init__.<locals>.fun_wrapped\u001b[0;34m(x)\u001b[0m\n\u001b[1;32m    133\u001b[0m \u001b[39mself\u001b[39m\u001b[39m.\u001b[39mnfev \u001b[39m+\u001b[39m\u001b[39m=\u001b[39m \u001b[39m1\u001b[39m\n\u001b[1;32m    134\u001b[0m \u001b[39m# Send a copy because the user may overwrite it.\u001b[39;00m\n\u001b[1;32m    135\u001b[0m \u001b[39m# Overwriting results in undefined behaviour because\u001b[39;00m\n\u001b[1;32m    136\u001b[0m \u001b[39m# fun(self.x) will change self.x, with the two no longer linked.\u001b[39;00m\n\u001b[0;32m--> 137\u001b[0m fx \u001b[39m=\u001b[39m fun(np\u001b[39m.\u001b[39;49mcopy(x), \u001b[39m*\u001b[39;49margs)\n\u001b[1;32m    138\u001b[0m \u001b[39m# Make sure the function returns a true scalar\u001b[39;00m\n\u001b[1;32m    139\u001b[0m \u001b[39mif\u001b[39;00m \u001b[39mnot\u001b[39;00m np\u001b[39m.\u001b[39misscalar(fx):\n",
      "File \u001b[0;32m/usr/local/lib/python3.10/site-packages/scipy/optimize/_optimize.py:76\u001b[0m, in \u001b[0;36mMemoizeJac.__call__\u001b[0;34m(self, x, *args)\u001b[0m\n\u001b[1;32m     74\u001b[0m \u001b[39mdef\u001b[39;00m \u001b[39m__call__\u001b[39m(\u001b[39mself\u001b[39m, x, \u001b[39m*\u001b[39margs):\n\u001b[1;32m     75\u001b[0m \u001b[39m    \u001b[39m\u001b[39m\"\"\" returns the function value \"\"\"\u001b[39;00m\n\u001b[0;32m---> 76\u001b[0m     \u001b[39mself\u001b[39;49m\u001b[39m.\u001b[39;49m_compute_if_needed(x, \u001b[39m*\u001b[39;49margs)\n\u001b[1;32m     77\u001b[0m     \u001b[39mreturn\u001b[39;00m \u001b[39mself\u001b[39m\u001b[39m.\u001b[39m_value\n",
      "File \u001b[0;32m/usr/local/lib/python3.10/site-packages/scipy/optimize/_optimize.py:70\u001b[0m, in \u001b[0;36mMemoizeJac._compute_if_needed\u001b[0;34m(self, x, *args)\u001b[0m\n\u001b[1;32m     68\u001b[0m \u001b[39mif\u001b[39;00m \u001b[39mnot\u001b[39;00m np\u001b[39m.\u001b[39mall(x \u001b[39m==\u001b[39m \u001b[39mself\u001b[39m\u001b[39m.\u001b[39mx) \u001b[39mor\u001b[39;00m \u001b[39mself\u001b[39m\u001b[39m.\u001b[39m_value \u001b[39mis\u001b[39;00m \u001b[39mNone\u001b[39;00m \u001b[39mor\u001b[39;00m \u001b[39mself\u001b[39m\u001b[39m.\u001b[39mjac \u001b[39mis\u001b[39;00m \u001b[39mNone\u001b[39;00m:\n\u001b[1;32m     69\u001b[0m     \u001b[39mself\u001b[39m\u001b[39m.\u001b[39mx \u001b[39m=\u001b[39m np\u001b[39m.\u001b[39masarray(x)\u001b[39m.\u001b[39mcopy()\n\u001b[0;32m---> 70\u001b[0m     fg \u001b[39m=\u001b[39m \u001b[39mself\u001b[39;49m\u001b[39m.\u001b[39;49mfun(x, \u001b[39m*\u001b[39;49margs)\n\u001b[1;32m     71\u001b[0m     \u001b[39mself\u001b[39m\u001b[39m.\u001b[39mjac \u001b[39m=\u001b[39m fg[\u001b[39m1\u001b[39m]\n\u001b[1;32m     72\u001b[0m     \u001b[39mself\u001b[39m\u001b[39m.\u001b[39m_value \u001b[39m=\u001b[39m fg[\u001b[39m0\u001b[39m]\n",
      "File \u001b[0;32m/usr/local/lib/python3.10/site-packages/sklearn/linear_model/_linear_loss.py:291\u001b[0m, in \u001b[0;36mLinearModelLoss.loss_gradient\u001b[0;34m(self, coef, X, y, sample_weight, l2_reg_strength, n_threads, raw_prediction)\u001b[0m\n\u001b[1;32m    289\u001b[0m     grad[:n_features] \u001b[39m=\u001b[39m X\u001b[39m.\u001b[39mT \u001b[39m@\u001b[39m grad_pointwise \u001b[39m+\u001b[39m l2_reg_strength \u001b[39m*\u001b[39m weights\n\u001b[1;32m    290\u001b[0m     \u001b[39mif\u001b[39;00m \u001b[39mself\u001b[39m\u001b[39m.\u001b[39mfit_intercept:\n\u001b[0;32m--> 291\u001b[0m         grad[\u001b[39m-\u001b[39m\u001b[39m1\u001b[39m] \u001b[39m=\u001b[39m grad_pointwise\u001b[39m.\u001b[39;49msum()\n\u001b[1;32m    292\u001b[0m \u001b[39melse\u001b[39;00m:\n\u001b[1;32m    293\u001b[0m     grad \u001b[39m=\u001b[39m np\u001b[39m.\u001b[39mempty((n_classes, n_dof), dtype\u001b[39m=\u001b[39mweights\u001b[39m.\u001b[39mdtype, order\u001b[39m=\u001b[39m\u001b[39m\"\u001b[39m\u001b[39mF\u001b[39m\u001b[39m\"\u001b[39m)\n",
      "File \u001b[0;32m/usr/local/lib/python3.10/site-packages/numpy/core/_methods.py:46\u001b[0m, in \u001b[0;36m_sum\u001b[0;34m(a, axis, dtype, out, keepdims, initial, where)\u001b[0m\n\u001b[1;32m     42\u001b[0m \u001b[39mdef\u001b[39;00m \u001b[39m_amin\u001b[39m(a, axis\u001b[39m=\u001b[39m\u001b[39mNone\u001b[39;00m, out\u001b[39m=\u001b[39m\u001b[39mNone\u001b[39;00m, keepdims\u001b[39m=\u001b[39m\u001b[39mFalse\u001b[39;00m,\n\u001b[1;32m     43\u001b[0m           initial\u001b[39m=\u001b[39m_NoValue, where\u001b[39m=\u001b[39m\u001b[39mTrue\u001b[39;00m):\n\u001b[1;32m     44\u001b[0m     \u001b[39mreturn\u001b[39;00m umr_minimum(a, axis, \u001b[39mNone\u001b[39;00m, out, keepdims, initial, where)\n\u001b[0;32m---> 46\u001b[0m \u001b[39mdef\u001b[39;00m \u001b[39m_sum\u001b[39m(a, axis\u001b[39m=\u001b[39m\u001b[39mNone\u001b[39;00m, dtype\u001b[39m=\u001b[39m\u001b[39mNone\u001b[39;00m, out\u001b[39m=\u001b[39m\u001b[39mNone\u001b[39;00m, keepdims\u001b[39m=\u001b[39m\u001b[39mFalse\u001b[39;00m,\n\u001b[1;32m     47\u001b[0m          initial\u001b[39m=\u001b[39m_NoValue, where\u001b[39m=\u001b[39m\u001b[39mTrue\u001b[39;00m):\n\u001b[1;32m     48\u001b[0m     \u001b[39mreturn\u001b[39;00m umr_sum(a, axis, dtype, out, keepdims, initial, where)\n\u001b[1;32m     50\u001b[0m \u001b[39mdef\u001b[39;00m \u001b[39m_prod\u001b[39m(a, axis\u001b[39m=\u001b[39m\u001b[39mNone\u001b[39;00m, dtype\u001b[39m=\u001b[39m\u001b[39mNone\u001b[39;00m, out\u001b[39m=\u001b[39m\u001b[39mNone\u001b[39;00m, keepdims\u001b[39m=\u001b[39m\u001b[39mFalse\u001b[39;00m,\n\u001b[1;32m     51\u001b[0m           initial\u001b[39m=\u001b[39m_NoValue, where\u001b[39m=\u001b[39m\u001b[39mTrue\u001b[39;00m):\n",
      "\u001b[0;31mKeyboardInterrupt\u001b[0m: "
     ]
    }
   ],
   "source": [
    "# Let us now compute performance metrics.\n",
    "for i, (X_train, X_val, y_train, y_val) in enumerate(splits):\n",
    "    print(f\"Split {i}:\")\n",
    "    # Train model\n",
    "\n",
    "    \n",
    "    # model = LogisticRegression(max_iter=1500, C=gs_LR.best_params_['C'])\n",
    "    model = MechanizedLogisticRegression(max_iter=1500, C=gs_LR.best_params_['C'])\n",
    "    model.choose_mechanism(Mechanism.GAUSSIAN)\n",
    "\n",
    "    \n",
    "    model.fit(X_train, y_train)\n",
    "    # Predict\n",
    "    y_pred = model.predict(X_val)\n",
    "    y_proba = model.predict_proba(X_val)\n",
    "    # Compute and append f1, accuracy, confusion matrix; \n",
    "    f1_scores.append(f1_score(y_val, y_pred, average='macro'))\n",
    "    acc_scores.append(accuracy_score(y_val, y_pred))\n",
    "    roc_auc_scores.append(roc_auc_score(y_val, y_proba[:, 1]))\n",
    "    print(f\"  F1 score: {f1_scores[-1]}\")\n",
    "    print(f\"  Accuracy: {acc_scores[-1]}\")\n",
    "    print(f\"  ROC/AUC score: {roc_auc_scores[-1]}\")\n",
    "    conf_matrices.append(confusion_matrix(y_val, y_pred))\n",
    "    models.append(model)\n",
    "print(f\"Average F1 score: {np.average(f1_scores)}\")\n",
    "print(f\"Average accuracy: {np.average(acc_scores)}\")\n",
    "print(f\"Average ROC/AUC score: {np.average(roc_auc_scores)}\")"
   ]
  },
  {
   "cell_type": "code",
   "execution_count": null,
   "id": "58e04891-dc0a-4bfa-bdd7-e5a7e1479b50",
   "metadata": {
    "execution": {
     "iopub.execute_input": "2022-06-07T13:41:22.419987Z",
     "iopub.status.busy": "2022-06-07T13:41:22.419230Z",
     "iopub.status.idle": "2022-06-07T13:41:22.801397Z",
     "shell.execute_reply": "2022-06-07T13:41:22.800703Z",
     "shell.execute_reply.started": "2022-06-07T13:41:22.419914Z"
    }
   },
   "outputs": [
    {
     "data": {
      "text/plain": [
       "Text(33.0, 0.5, 'True label')"
      ]
     },
     "execution_count": 20,
     "metadata": {},
     "output_type": "execute_result"
    },
    {
     "data": {
      "image/png": "[encoded data removed]",
      "text/plain": [
       "<Figure size 432x288 with 2 Axes>"
      ]
     },
     "metadata": {
      "needs_background": "light"
     },
     "output_type": "display_data"
    }
   ],
   "source": [
    "sns.heatmap(sum(conf_matrices), annot=True, cmap=\"Blues\", fmt=\"d\")\n",
    "plt.xlabel('Predicted label'); plt.ylabel('True label')"
   ]
  },
  {
   "cell_type": "code",
   "execution_count": null,
   "id": "56cc6c2b-a097-46e0-a42c-79b996c50242",
   "metadata": {
    "execution": {
     "iopub.execute_input": "2022-06-07T13:41:22.802901Z",
     "iopub.status.busy": "2022-06-07T13:41:22.802724Z",
     "iopub.status.idle": "2022-06-07T13:41:22.932869Z",
     "shell.execute_reply": "2022-06-07T13:41:22.932288Z",
     "shell.execute_reply.started": "2022-06-07T13:41:22.802880Z"
    }
   },
   "outputs": [
    {
     "data": {
      "text/plain": [
       "Text(33.0, 0.5, 'True label')"
      ]
     },
     "execution_count": 21,
     "metadata": {},
     "output_type": "execute_result"
    },
    {
     "data": {
      "image/png": "[encoded data removed]",
      "text/plain": [
       "<Figure size 432x288 with 2 Axes>"
      ]
     },
     "metadata": {
      "needs_background": "light"
     },
     "output_type": "display_data"
    }
   ],
   "source": [
    "# With percentages instead\n",
    "sns.heatmap(sum(conf_matrices)/np.sum(sum(conf_matrices)), \n",
    "            annot=True, cmap=\"Blues\", fmt=\".2%\")\n",
    "plt.xlabel('Predicted label'); plt.ylabel('True label')"
   ]
  },
  {
   "cell_type": "code",
   "execution_count": null,
   "id": "c8d24f72-6702-4c68-9d45-f3e1818a8880",
   "metadata": {
    "execution": {
     "iopub.execute_input": "2022-06-07T13:41:22.933929Z",
     "iopub.status.busy": "2022-06-07T13:41:22.933770Z",
     "iopub.status.idle": "2022-06-07T13:41:45.332376Z",
     "shell.execute_reply": "2022-06-07T13:41:45.331026Z",
     "shell.execute_reply.started": "2022-06-07T13:41:22.933908Z"
    }
   },
   "outputs": [
    {
     "data": {
      "text/plain": [
       "LogisticRegression(C=9.261187281287938, max_iter=1500)"
      ]
     },
     "execution_count": 22,
     "metadata": {},
     "output_type": "execute_result"
    }
   ],
   "source": [
    "# Training on a new 80-20 split to draw ROC curve\n",
    "X_train, X_val, y_train, y_val = train_test_split(X, y, test_size=0.2)\n",
    "X_train.reset_index(drop=True, inplace=True)\n",
    "y_train.reset_index(drop=True, inplace=True)\n",
    "X_val.reset_index(drop=True, inplace=True)\n",
    "y_val.reset_index(drop=True, inplace=True)\n",
    "model = LogisticRegression(max_iter=1500, C=gs_LR.best_params_['C'])\n",
    "model.fit(X_train, y_train)"
   ]
  },
  {
   "cell_type": "code",
   "execution_count": null,
   "id": "ac08ef50-a00d-4fc9-9b4a-b93a37192d2e",
   "metadata": {
    "execution": {
     "iopub.execute_input": "2022-06-07T13:41:45.334984Z",
     "iopub.status.busy": "2022-06-07T13:41:45.333826Z",
     "iopub.status.idle": "2022-06-07T13:41:45.749580Z",
     "shell.execute_reply": "2022-06-07T13:41:45.731434Z",
     "shell.execute_reply.started": "2022-06-07T13:41:45.334957Z"
    }
   },
   "outputs": [
    {
     "data": {
      "text/plain": [
       "[<matplotlib.lines.Line2D at 0x17f388e20>]"
      ]
     },
     "execution_count": 23,
     "metadata": {},
     "output_type": "execute_result"
    },
    {
     "data": {
      "image/png": "[encoded data removed]",
      "text/plain": [
       "<Figure size 432x288 with 1 Axes>"
      ]
     },
     "metadata": {
      "needs_background": "light"
     },
     "output_type": "display_data"
    }
   ],
   "source": [
    "# Display ROC curve\n",
    "RocCurveDisplay.from_predictions(y_val, model.predict_proba(X_val)[:, 1], color='orange')\n",
    "plt.xlim([0, 1]); plt.ylim([0, 1.05])\n",
    "plt.plot([0, 1], [0, 1], 'k--')"
   ]
  },
  {
   "cell_type": "markdown",
   "id": "ed60a2d2-bd0e-4fa9-acf7-2334f7461919",
   "metadata": {},
   "source": [
    "## Decision Tree Classifier"
   ]
  },
  {
   "cell_type": "code",
   "execution_count": null,
   "id": "75651ced-801f-4e28-a53d-a8cc0453ca94",
   "metadata": {
    "execution": {
     "iopub.execute_input": "2022-06-07T13:41:45.753059Z",
     "iopub.status.busy": "2022-06-07T13:41:45.752767Z",
     "iopub.status.idle": "2022-06-07T13:44:25.472639Z",
     "shell.execute_reply": "2022-06-07T13:44:25.472292Z",
     "shell.execute_reply.started": "2022-06-07T13:41:45.753012Z"
    },
    "tags": []
   },
   "outputs": [
    {
     "name": "stdout",
     "output_type": "stream",
     "text": [
      "Fitting 3 folds for each of 10 candidates, totalling 30 fits\n",
      "[CV 1/3] END ...criterion=entropy, max_depth=40;, score=0.673 total time=   3.7s\n",
      "[CV 2/3] END ...criterion=entropy, max_depth=40;, score=0.681 total time=   3.7s\n",
      "[CV 3/3] END ...criterion=entropy, max_depth=40;, score=0.690 total time=   3.5s\n",
      "[CV 1/3] END ...criterion=entropy, max_depth=52;, score=0.673 total time=   3.7s\n",
      "[CV 2/3] END ...criterion=entropy, max_depth=52;, score=0.688 total time=   4.2s\n",
      "[CV 3/3] END ...criterion=entropy, max_depth=52;, score=0.699 total time=   4.0s\n",
      "[CV 1/3] END ...criterion=entropy, max_depth=64;, score=0.675 total time=   4.2s\n",
      "[CV 2/3] END ...criterion=entropy, max_depth=64;, score=0.692 total time=   4.5s\n",
      "[CV 3/3] END ...criterion=entropy, max_depth=64;, score=0.701 total time=   4.7s\n",
      "[CV 1/3] END ...criterion=entropy, max_depth=76;, score=0.682 total time=   4.6s\n",
      "[CV 2/3] END ...criterion=entropy, max_depth=76;, score=0.695 total time=   5.3s\n",
      "[CV 3/3] END ...criterion=entropy, max_depth=76;, score=0.709 total time=   4.5s\n",
      "[CV 1/3] END ...criterion=entropy, max_depth=88;, score=0.675 total time=   4.6s\n",
      "[CV 2/3] END ...criterion=entropy, max_depth=88;, score=0.691 total time=   5.1s\n",
      "[CV 3/3] END ...criterion=entropy, max_depth=88;, score=0.709 total time=   5.0s\n",
      "[CV 1/3] END ......criterion=gini, max_depth=40;, score=0.647 total time=   3.9s\n",
      "[CV 2/3] END ......criterion=gini, max_depth=40;, score=0.696 total time=   4.4s\n",
      "[CV 3/3] END ......criterion=gini, max_depth=40;, score=0.699 total time=   4.3s\n",
      "[CV 1/3] END ......criterion=gini, max_depth=52;, score=0.675 total time=   4.2s\n",
      "[CV 2/3] END ......criterion=gini, max_depth=52;, score=0.699 total time=   4.9s\n",
      "[CV 3/3] END ......criterion=gini, max_depth=52;, score=0.711 total time=   5.2s\n",
      "[CV 1/3] END ......criterion=gini, max_depth=64;, score=0.682 total time=   4.7s\n",
      "[CV 2/3] END ......criterion=gini, max_depth=64;, score=0.707 total time=   6.1s\n",
      "[CV 3/3] END ......criterion=gini, max_depth=64;, score=0.702 total time=   6.5s\n",
      "[CV 1/3] END ......criterion=gini, max_depth=76;, score=0.681 total time=   5.5s\n",
      "[CV 2/3] END ......criterion=gini, max_depth=76;, score=0.702 total time=   7.1s\n",
      "[CV 3/3] END ......criterion=gini, max_depth=76;, score=0.710 total time=   6.3s\n",
      "[CV 1/3] END ......criterion=gini, max_depth=88;, score=0.673 total time=   6.1s\n",
      "[CV 2/3] END ......criterion=gini, max_depth=88;, score=0.699 total time=   7.4s\n",
      "[CV 3/3] END ......criterion=gini, max_depth=88;, score=0.711 total time=   6.9s\n"
     ]
    },
    {
     "data": {
      "text/plain": [
       "{'criterion': 'gini', 'max_depth': 76}"
      ]
     },
     "execution_count": 24,
     "metadata": {},
     "output_type": "execute_result"
    }
   ],
   "source": [
    "# Hyperparameter selection on one split\n",
    "X_train, X_val, y_train, y_val = splits[0]\n",
    "gs_cls = DecisionTreeClassifier()\n",
    "params_DT = {'criterion': ['entropy','gini'], 'max_depth': np.arange(40, 100, 12)}\n",
    "gs_DT = GridSearchCV(estimator=gs_cls, param_grid=params_DT, cv=3, verbose=3, scoring='f1_macro')\n",
    "gs_DT.fit(X_train, y_train)\n",
    "gs_DT.best_params_"
   ]
  },
  {
   "cell_type": "code",
   "execution_count": null,
   "id": "66b58a86-dcd8-48dd-bbf2-54e0dbfae66c",
   "metadata": {
    "execution": {
     "iopub.execute_input": "2022-06-07T13:44:25.473420Z",
     "iopub.status.busy": "2022-06-07T13:44:25.473316Z",
     "iopub.status.idle": "2022-06-07T13:45:16.772050Z",
     "shell.execute_reply": "2022-06-07T13:45:16.771505Z",
     "shell.execute_reply.started": "2022-06-07T13:44:25.473411Z"
    },
    "tags": []
   },
   "outputs": [
    {
     "name": "stdout",
     "output_type": "stream",
     "text": [
      "Split 0:\n",
      "  F1 score: 0.6879175908054609\n",
      "  Accuracy: 0.8119218910585817\n",
      "  ROC/AUC score: 0.7230355417830155\n",
      "Split 1:\n",
      "  F1 score: 0.7071075451819435\n",
      "  Accuracy: 0.8285371702637889\n",
      "  ROC/AUC score: 0.7421798127258873\n",
      "Split 2:\n",
      "  F1 score: 0.7013471842427343\n",
      "  Accuracy: 0.8180883864337102\n",
      "  ROC/AUC score: 0.7204083584015248\n",
      "Split 3:\n",
      "  F1 score: 0.7060267469584561\n",
      "  Accuracy: 0.8302500856457691\n",
      "  ROC/AUC score: 0.7340232577737513\n",
      "Split 4:\n",
      "  F1 score: 0.7024910544553312\n",
      "  Accuracy: 0.8245674147678602\n",
      "  ROC/AUC score: 0.7206652169829723\n",
      "Average F1 score: 0.7646558525695581\n",
      "Average accuracy: 0.8609178600974919\n",
      "Average ROC/AUC score: 0.8114289395660063\n"
     ]
    }
   ],
   "source": [
    "# Let us now compute performance metrics.\n",
    "for i, (X_train, X_val, y_train, y_val) in enumerate(splits):\n",
    "    print(f\"Split {i}:\")\n",
    "    # Train model\n",
    "    model = DecisionTreeClassifier(**gs_DT.best_params_)\n",
    "    model.fit(X_train, y_train)\n",
    "    # Predict\n",
    "    y_pred = model.predict(X_val)\n",
    "    y_proba = model.predict_proba(X_val)\n",
    "    # Compute and append f1, accuracy, confusion matrix; \n",
    "    f1_scores.append(f1_score(y_val, y_pred, average='macro'))\n",
    "    acc_scores.append(accuracy_score(y_val, y_pred))\n",
    "    roc_auc_scores.append(roc_auc_score(y_val, y_proba[:, 1]))\n",
    "    print(f\"  F1 score: {f1_scores[-1]}\")\n",
    "    print(f\"  Accuracy: {acc_scores[-1]}\")\n",
    "    print(f\"  ROC/AUC score: {roc_auc_scores[-1]}\")\n",
    "    conf_matrices.append(confusion_matrix(y_val, y_pred))\n",
    "    models.append(model)\n",
    "print(f\"Average F1 score: {np.average(f1_scores)}\")\n",
    "print(f\"Average accuracy: {np.average(acc_scores)}\")\n",
    "print(f\"Average ROC/AUC score: {np.average(roc_auc_scores)}\")"
   ]
  },
  {
   "cell_type": "code",
   "execution_count": null,
   "id": "04613d4e-25f1-4beb-80d4-ea2505bc5db0",
   "metadata": {
    "execution": {
     "iopub.execute_input": "2022-06-07T13:45:16.772913Z",
     "iopub.status.busy": "2022-06-07T13:45:16.772826Z",
     "iopub.status.idle": "2022-06-07T13:45:16.836299Z",
     "shell.execute_reply": "2022-06-07T13:45:16.835687Z",
     "shell.execute_reply.started": "2022-06-07T13:45:16.772900Z"
    },
    "tags": []
   },
   "outputs": [
    {
     "data": {
      "text/plain": [
       "Text(33.0, 0.5, 'True label')"
      ]
     },
     "execution_count": 26,
     "metadata": {},
     "output_type": "execute_result"
    },
    {
     "data": {
      "image/png": "[encoded data removed]",
      "text/plain": [
       "<Figure size 432x288 with 2 Axes>"
      ]
     },
     "metadata": {
      "needs_background": "light"
     },
     "output_type": "display_data"
    }
   ],
   "source": [
    "sns.heatmap(sum(conf_matrices), annot=True, cmap=\"Blues\", fmt=\"d\")\n",
    "plt.xlabel('Predicted label'); plt.ylabel('True label')"
   ]
  },
  {
   "cell_type": "code",
   "execution_count": null,
   "id": "0a9c2f0e-c072-4c70-8564-331d0b5baac3",
   "metadata": {
    "execution": {
     "iopub.execute_input": "2022-06-07T13:45:16.836911Z",
     "iopub.status.busy": "2022-06-07T13:45:16.836813Z",
     "iopub.status.idle": "2022-06-07T13:45:16.893176Z",
     "shell.execute_reply": "2022-06-07T13:45:16.892841Z",
     "shell.execute_reply.started": "2022-06-07T13:45:16.836902Z"
    },
    "tags": []
   },
   "outputs": [
    {
     "data": {
      "text/plain": [
       "Text(33.0, 0.5, 'True label')"
      ]
     },
     "execution_count": 27,
     "metadata": {},
     "output_type": "execute_result"
    },
    {
     "data": {
      "image/png": "[encoded data removed]",
      "text/plain": [
       "<Figure size 432x288 with 2 Axes>"
      ]
     },
     "metadata": {
      "needs_background": "light"
     },
     "output_type": "display_data"
    }
   ],
   "source": [
    "# With percentages instead\n",
    "sns.heatmap(sum(conf_matrices)/np.sum(sum(conf_matrices)), \n",
    "            annot=True, cmap=\"Blues\", fmt=\".2%\")\n",
    "plt.xlabel('Predicted label'); plt.ylabel('True label')"
   ]
  },
  {
   "cell_type": "code",
   "execution_count": null,
   "id": "2a8d428a-0078-447e-9c29-cce243cb47d1",
   "metadata": {
    "execution": {
     "iopub.execute_input": "2022-06-07T13:45:16.893951Z",
     "iopub.status.busy": "2022-06-07T13:45:16.893849Z",
     "iopub.status.idle": "2022-06-07T13:45:27.499202Z",
     "shell.execute_reply": "2022-06-07T13:45:27.498540Z",
     "shell.execute_reply.started": "2022-06-07T13:45:16.893941Z"
    },
    "tags": []
   },
   "outputs": [
    {
     "data": {
      "text/plain": [
       "DecisionTreeClassifier(max_depth=76)"
      ]
     },
     "execution_count": 28,
     "metadata": {},
     "output_type": "execute_result"
    }
   ],
   "source": [
    "# Training on a new 80-20 split to draw ROC curve\n",
    "X_train, X_val, y_train, y_val = train_test_split(X, y, test_size=0.2)\n",
    "X_train.reset_index(drop=True, inplace=True)\n",
    "y_train.reset_index(drop=True, inplace=True)\n",
    "X_val.reset_index(drop=True, inplace=True)\n",
    "y_val.reset_index(drop=True, inplace=True)\n",
    "model = DecisionTreeClassifier(**gs_DT.best_params_)\n",
    "model.fit(X_train, y_train)"
   ]
  },
  {
   "cell_type": "code",
   "execution_count": null,
   "id": "7b5d9f5f-0cc3-4526-898a-1fb20a1b521f",
   "metadata": {
    "execution": {
     "iopub.execute_input": "2022-06-07T13:45:27.499913Z",
     "iopub.status.busy": "2022-06-07T13:45:27.499821Z",
     "iopub.status.idle": "2022-06-07T13:45:27.613654Z",
     "shell.execute_reply": "2022-06-07T13:45:27.613273Z",
     "shell.execute_reply.started": "2022-06-07T13:45:27.499904Z"
    },
    "tags": []
   },
   "outputs": [
    {
     "data": {
      "text/plain": [
       "[<matplotlib.lines.Line2D at 0x281973100>]"
      ]
     },
     "execution_count": 29,
     "metadata": {},
     "output_type": "execute_result"
    },
    {
     "data": {
      "image/png": "[encoded data removed]",
      "text/plain": [
       "<Figure size 432x288 with 1 Axes>"
      ]
     },
     "metadata": {
      "needs_background": "light"
     },
     "output_type": "display_data"
    }
   ],
   "source": [
    "# Display ROC curve\n",
    "RocCurveDisplay.from_predictions(y_val, model.predict_proba(X_val)[:, 1], color='orange')\n",
    "plt.xlim([0, 1]); plt.ylim([0, 1.05])\n",
    "plt.plot([0, 1], [0, 1], 'k--')"
   ]
  },
  {
   "cell_type": "markdown",
   "id": "95562ec9-a1e6-468f-b83e-1dcf25e134b4",
   "metadata": {},
   "source": [
    "Time to pick the best model, predict on test and save."
   ]
  },
  {
   "cell_type": "code",
   "execution_count": null,
   "id": "e7fee551-d7e0-4bfe-bd49-8276990c2556",
   "metadata": {
    "execution": {
     "iopub.execute_input": "2022-06-07T13:45:27.620489Z",
     "iopub.status.busy": "2022-06-07T13:45:27.620414Z",
     "iopub.status.idle": "2022-06-07T13:45:49.807477Z",
     "shell.execute_reply": "2022-06-07T13:45:49.790751Z",
     "shell.execute_reply.started": "2022-06-07T13:45:27.620481Z"
    }
   },
   "outputs": [
    {
     "data": {
      "text/plain": [
       "LogisticRegression(C=5.011872336272722, max_iter=1500)"
      ]
     },
     "execution_count": 32,
     "metadata": {},
     "output_type": "execute_result"
    }
   ],
   "source": [
    "model1 = LogisticRegression(C=5.011872336272722, max_iter=1500)\n",
    "model1.fit(X, y)"
   ]
  },
  {
   "cell_type": "code",
   "execution_count": null,
   "id": "252dafa2-2565-4b7b-978a-0c90fcddf9ff",
   "metadata": {},
   "outputs": [],
   "source": [
    "# # Extra testing\n",
    "# (X_train, X_val, y_train, y_val) = splits[np.argmax(f1_scores) % 5]\n",
    "# f1_score(y_val, (model2.predict_proba(X_val) >= 0.7)[:, 1].astype(int), average='macro')"
   ]
  },
  {
   "cell_type": "code",
   "execution_count": null,
   "id": "89c91f78-d521-4bf7-bb91-e35ed8049a85",
   "metadata": {
    "execution": {
     "iopub.execute_input": "2022-06-07T13:47:00.948570Z",
     "iopub.status.busy": "2022-06-07T13:47:00.947687Z",
     "iopub.status.idle": "2022-06-07T13:47:02.558709Z",
     "shell.execute_reply": "2022-06-07T13:47:02.558339Z",
     "shell.execute_reply.started": "2022-06-07T13:47:00.948522Z"
    },
    "tags": []
   },
   "outputs": [],
   "source": [
    "# Preprocessing\n",
    "proc_test_df = apply_tfidf(preprocess(test_df), r_vectorizer, s_vectorizer)\n",
    "proc_test_df = pd.DataFrame(scaler.transform(proc_test_df), columns=proc_test_df.columns, index=proc_test_df.index)[relcols]"
   ]
  },
  {
   "cell_type": "code",
   "execution_count": null,
   "id": "b31ab729-b19f-4ebd-82eb-297e7ba20dae",
   "metadata": {
    "execution": {
     "iopub.execute_input": "2022-06-07T13:47:24.103237Z",
     "iopub.status.busy": "2022-06-07T13:47:24.102712Z",
     "iopub.status.idle": "2022-06-07T13:47:24.198577Z",
     "shell.execute_reply": "2022-06-07T13:47:24.186564Z",
     "shell.execute_reply.started": "2022-06-07T13:47:24.103187Z"
    },
    "tags": []
   },
   "outputs": [],
   "source": [
    "# Predict on test and save as .csv\n",
    "# proc_test_df['predicted'] = model1.predict(proc_test_df)\n",
    "proc_test_df['predicted'] = (model1.predict_proba(proc_test_df) >= 0.7)[:, 1].astype(int) # yields better F1 score!\n",
    "proc_test_df = proc_test_df.reset_index()[['index', 'predicted']]\n",
    "proc_test_df.rename(columns={'index': 'id'}).to_csv('task11.csv', index=False)"
   ]
  },
  {
   "cell_type": "markdown",
   "id": "ce316ae9-8bbf-41b9-a299-c8bc482b5a63",
   "metadata": {
    "tags": []
   },
   "source": [
    "# Task 1.2"
   ]
  },
  {
   "cell_type": "code",
   "execution_count": null,
   "id": "f9197f97-c759-49a4-815c-bc15a23055a7",
   "metadata": {
    "execution": {
     "iopub.execute_input": "2022-06-07T13:50:00.327485Z",
     "iopub.status.busy": "2022-06-07T13:50:00.327145Z",
     "iopub.status.idle": "2022-06-07T13:51:08.616995Z",
     "shell.execute_reply": "2022-06-07T13:51:08.616129Z",
     "shell.execute_reply.started": "2022-06-07T13:50:00.327434Z"
    },
    "tags": []
   },
   "outputs": [],
   "source": [
    "# Preprocessing of training data\n",
    "proc_training_df = apply_cutoff(preprocess(training_df), 2)\n",
    "\n",
    "# Set cutoff to be the label; define X and y accordingly\n",
    "X = proc_training_df.drop('cutoff', axis=1)\n",
    "y = proc_training_df['cutoff']\n",
    "\n",
    "# Fit TF-IDF vectorizer for 'reviewText' and 'summary' features, creating max. 11500 features.\n",
    "r_vectorizer = TfidfVectorizer(max_features=11500, stop_words='english', ngram_range=(1, 3))\n",
    "s_vectorizer = TfidfVectorizer(max_features=11500, stop_words='english', ngram_range=(1, 3))\n",
    "r_vectorizer.fit(X.reviewText)\n",
    "s_vectorizer.fit(X.summary)\n",
    "\n",
    "# Apply TF-IDF vectorization \n",
    "X = apply_tfidf(X, r_vectorizer, s_vectorizer)\n",
    "\n",
    "# Apply robust scaling\n",
    "scaler = preprocessing.RobustScaler()\n",
    "X = pd.DataFrame(scaler.fit_transform(X), columns=X.columns, index=X.index)\n",
    "\n",
    "# Let us reduce the number of features by eliminating the statistically least correlated ones.\n",
    "relcols = X.columns[abs(X.corrwith(y)) > 0.01]\n",
    "X = X[relcols]\n",
    "\n",
    "# 5-fold cross validation\n",
    "kf = KFold(n_splits=5, shuffle=True, random_state=42)\n",
    "splits = []\n",
    "for train_idx, val_idx in kf.split(X, y):\n",
    "    # Apply split\n",
    "    X_train, X_val = X.iloc[train_idx], X.iloc[val_idx]\n",
    "    y_train, y_val = y.iloc[train_idx], y.iloc[val_idx]\n",
    "    \n",
    "    # Reset indices\n",
    "    X_train.reset_index(drop=True, inplace=True)\n",
    "    y_train.reset_index(drop=True, inplace=True)\n",
    "    X_val.reset_index(drop=True, inplace=True)\n",
    "    y_val.reset_index(drop=True, inplace=True)\n",
    "    splits.append((X_train, X_val, y_train, y_val))\n",
    "f1_scores, acc_scores, roc_auc_scores, conf_matrices, models = [], [], [], [], []"
   ]
  },
  {
   "cell_type": "markdown",
   "id": "0e00d4d6-8ce0-4e80-8f14-33602850eb3f",
   "metadata": {},
   "source": [
    "## Gaussian NB"
   ]
  },
  {
   "cell_type": "code",
   "execution_count": null,
   "id": "d82109b7-f624-4395-bd24-99b69b93efa0",
   "metadata": {
    "execution": {
     "iopub.execute_input": "2022-06-07T13:51:08.618583Z",
     "iopub.status.busy": "2022-06-07T13:51:08.618441Z",
     "iopub.status.idle": "2022-06-07T13:51:37.192274Z",
     "shell.execute_reply": "2022-06-07T13:51:37.191965Z",
     "shell.execute_reply.started": "2022-06-07T13:51:08.618560Z"
    },
    "tags": []
   },
   "outputs": [
    {
     "name": "stdout",
     "output_type": "stream",
     "text": [
      "Fitting 3 folds for each of 10 candidates, totalling 30 fits\n",
      "[CV 1/3] END ................var_smoothing=0.01;, score=0.667 total time=   1.2s\n",
      "[CV 2/3] END ................var_smoothing=0.01;, score=0.641 total time=   0.9s\n",
      "[CV 3/3] END ................var_smoothing=0.01;, score=0.677 total time=   0.9s\n",
      "[CV 1/3] END var_smoothing=0.0016681005372000592;, score=0.756 total time=   0.9s\n",
      "[CV 2/3] END var_smoothing=0.0016681005372000592;, score=0.756 total time=   0.9s\n",
      "[CV 3/3] END var_smoothing=0.0016681005372000592;, score=0.787 total time=   0.9s\n",
      "[CV 1/3] END var_smoothing=0.0002782559402207126;, score=0.760 total time=   0.9s\n",
      "[CV 2/3] END var_smoothing=0.0002782559402207126;, score=0.767 total time=   0.9s\n",
      "[CV 3/3] END var_smoothing=0.0002782559402207126;, score=0.806 total time=   0.9s\n",
      "[CV 1/3] END var_smoothing=4.641588833612772e-05;, score=0.730 total time=   0.9s\n",
      "[CV 2/3] END var_smoothing=4.641588833612772e-05;, score=0.752 total time=   0.9s\n",
      "[CV 3/3] END var_smoothing=4.641588833612772e-05;, score=0.795 total time=   0.9s\n",
      "[CV 1/3] END var_smoothing=7.742636826811277e-06;, score=0.711 total time=   0.9s\n",
      "[CV 2/3] END var_smoothing=7.742636826811277e-06;, score=0.739 total time=   0.9s\n",
      "[CV 3/3] END var_smoothing=7.742636826811277e-06;, score=0.788 total time=   0.9s\n",
      "[CV 1/3] END var_smoothing=1.2915496650148827e-06;, score=0.700 total time=   0.9s\n",
      "[CV 2/3] END var_smoothing=1.2915496650148827e-06;, score=0.734 total time=   0.9s\n",
      "[CV 3/3] END var_smoothing=1.2915496650148827e-06;, score=0.784 total time=   0.9s\n",
      "[CV 1/3] END var_smoothing=2.1544346900318822e-07;, score=0.698 total time=   0.9s\n",
      "[CV 2/3] END var_smoothing=2.1544346900318822e-07;, score=0.732 total time=   0.9s\n",
      "[CV 3/3] END var_smoothing=2.1544346900318822e-07;, score=0.782 total time=   0.9s\n",
      "[CV 1/3] END var_smoothing=3.593813663804626e-08;, score=0.698 total time=   0.9s\n",
      "[CV 2/3] END var_smoothing=3.593813663804626e-08;, score=0.732 total time=   0.9s\n",
      "[CV 3/3] END var_smoothing=3.593813663804626e-08;, score=0.781 total time=   0.9s\n",
      "[CV 1/3] END var_smoothing=5.994842503189421e-09;, score=0.697 total time=   0.9s\n",
      "[CV 2/3] END var_smoothing=5.994842503189421e-09;, score=0.731 total time=   0.9s\n",
      "[CV 3/3] END var_smoothing=5.994842503189421e-09;, score=0.780 total time=   0.9s\n",
      "[CV 1/3] END ...............var_smoothing=1e-09;, score=0.698 total time=   0.9s\n",
      "[CV 2/3] END ...............var_smoothing=1e-09;, score=0.732 total time=   0.9s\n",
      "[CV 3/3] END ...............var_smoothing=1e-09;, score=0.778 total time=   0.9s\n"
     ]
    },
    {
     "data": {
      "text/plain": [
       "{'var_smoothing': 0.0002782559402207126}"
      ]
     },
     "execution_count": 37,
     "metadata": {},
     "output_type": "execute_result"
    }
   ],
   "source": [
    "# Hyperparameter selection on one split\n",
    "X_train, X_val, y_train, y_val = splits[0]\n",
    "gs_cls = GaussianNB()\n",
    "params_GS = {'var_smoothing': np.logspace(-2, -9, num=10)}\n",
    "gs_GS = GridSearchCV(estimator=gs_cls, param_grid=params_GS, cv=3, verbose=3, scoring='f1_macro')\n",
    "gs_GS.fit(X_train, y_train)\n",
    "gs_GS.best_params_"
   ]
  },
  {
   "cell_type": "code",
   "execution_count": null,
   "id": "581d08d6-58a9-43e6-8f10-a2d7dfe793e5",
   "metadata": {
    "execution": {
     "iopub.execute_input": "2022-06-07T13:51:37.193036Z",
     "iopub.status.busy": "2022-06-07T13:51:37.192957Z",
     "iopub.status.idle": "2022-06-07T13:51:43.950467Z",
     "shell.execute_reply": "2022-06-07T13:51:43.950009Z",
     "shell.execute_reply.started": "2022-06-07T13:51:37.193027Z"
    },
    "tags": []
   },
   "outputs": [
    {
     "name": "stdout",
     "output_type": "stream",
     "text": [
      "Split 0:\n",
      "  F1 score: 0.8189320562486069\n",
      "  Accuracy: 0.8271668379582049\n",
      "  ROC/AUC score: 0.8349656553296472\n",
      "Split 1:\n",
      "  F1 score: 0.8121334300249674\n",
      "  Accuracy: 0.8208290510448784\n",
      "  ROC/AUC score: 0.8320448031103385\n",
      "Split 2:\n",
      "  F1 score: 0.8166640547618027\n",
      "  Accuracy: 0.8237410071942446\n",
      "  ROC/AUC score: 0.8334087321605832\n",
      "Split 3:\n",
      "  F1 score: 0.818570815372217\n",
      "  Accuracy: 0.828708461801987\n",
      "  ROC/AUC score: 0.8354848096488993\n",
      "Split 4:\n",
      "  F1 score: 0.8201116947446008\n",
      "  Accuracy: 0.8295357204043173\n",
      "  ROC/AUC score: 0.8332006210302082\n",
      "Average F1 score: 0.8172824102304389\n",
      "Average accuracy: 0.8259962156807263\n",
      "Average ROC/AUC score: 0.8338209242559353\n"
     ]
    }
   ],
   "source": [
    "# Let us now compute performance metrics.\n",
    "for i, (X_train, X_val, y_train, y_val) in enumerate(splits):\n",
    "    print(f\"Split {i}:\")\n",
    "    # Train model\n",
    "    model = GaussianNB(var_smoothing=gs_GS.best_params_['var_smoothing'])\n",
    "    model.fit(X_train, y_train)\n",
    "    # Predict\n",
    "    y_pred = model.predict(X_val)\n",
    "    y_proba = model.predict_proba(X_val)\n",
    "    # Compute and append f1, accuracy, confusion matrix; \n",
    "    f1_scores.append(f1_score(y_val, y_pred, average='macro'))\n",
    "    acc_scores.append(accuracy_score(y_val, y_pred))\n",
    "    roc_auc_scores.append(roc_auc_score(y_val, y_proba[:, 1]))\n",
    "    print(f\"  F1 score: {f1_scores[-1]}\")\n",
    "    print(f\"  Accuracy: {acc_scores[-1]}\")\n",
    "    print(f\"  ROC/AUC score: {roc_auc_scores[-1]}\")\n",
    "    conf_matrices.append(confusion_matrix(y_val, y_pred))\n",
    "    models.append(model)\n",
    "print(f\"Average F1 score: {np.average(f1_scores)}\")\n",
    "print(f\"Average accuracy: {np.average(acc_scores)}\")\n",
    "print(f\"Average ROC/AUC score: {np.average(roc_auc_scores)}\")"
   ]
  },
  {
   "cell_type": "code",
   "execution_count": null,
   "id": "cf77ae84-9055-490e-b626-6f54b3b18810",
   "metadata": {
    "execution": {
     "iopub.execute_input": "2022-06-07T13:51:43.952535Z",
     "iopub.status.busy": "2022-06-07T13:51:43.952439Z",
     "iopub.status.idle": "2022-06-07T13:51:44.016971Z",
     "shell.execute_reply": "2022-06-07T13:51:44.016591Z",
     "shell.execute_reply.started": "2022-06-07T13:51:43.952513Z"
    },
    "tags": []
   },
   "outputs": [
    {
     "data": {
      "text/plain": [
       "Text(33.0, 0.5, 'True label')"
      ]
     },
     "execution_count": 39,
     "metadata": {},
     "output_type": "execute_result"
    },
    {
     "data": {
      "image/png": "[encoded data removed]",
      "text/plain": [
       "<Figure size 432x288 with 2 Axes>"
      ]
     },
     "metadata": {
      "needs_background": "light"
     },
     "output_type": "display_data"
    }
   ],
   "source": [
    "sns.heatmap(sum(conf_matrices), annot=True, cmap=\"Blues\", fmt=\"d\")\n",
    "plt.xlabel('Predicted label'); plt.ylabel('True label')"
   ]
  },
  {
   "cell_type": "code",
   "execution_count": null,
   "id": "41dcda09-f79c-4af0-9a12-df2a99c1328b",
   "metadata": {
    "execution": {
     "iopub.execute_input": "2022-06-07T13:51:44.017735Z",
     "iopub.status.busy": "2022-06-07T13:51:44.017604Z",
     "iopub.status.idle": "2022-06-07T13:51:44.073590Z",
     "shell.execute_reply": "2022-06-07T13:51:44.073048Z",
     "shell.execute_reply.started": "2022-06-07T13:51:44.017715Z"
    },
    "tags": []
   },
   "outputs": [
    {
     "data": {
      "text/plain": [
       "Text(33.0, 0.5, 'True label')"
      ]
     },
     "execution_count": 40,
     "metadata": {},
     "output_type": "execute_result"
    },
    {
     "data": {
      "image/png": "[encoded data removed]",
      "text/plain": [
       "<Figure size 432x288 with 2 Axes>"
      ]
     },
     "metadata": {
      "needs_background": "light"
     },
     "output_type": "display_data"
    }
   ],
   "source": [
    "# With percentages instead\n",
    "sns.heatmap(sum(conf_matrices)/np.sum(sum(conf_matrices)), \n",
    "            annot=True, cmap=\"Blues\", fmt=\".2%\")\n",
    "plt.xlabel('Predicted label'); plt.ylabel('True label')"
   ]
  },
  {
   "cell_type": "code",
   "execution_count": null,
   "id": "70b15fa4-da9d-45ff-8659-5c0d7c49d313",
   "metadata": {
    "execution": {
     "iopub.execute_input": "2022-06-07T13:51:44.074259Z",
     "iopub.status.busy": "2022-06-07T13:51:44.074147Z",
     "iopub.status.idle": "2022-06-07T13:51:45.876021Z",
     "shell.execute_reply": "2022-06-07T13:51:45.875540Z",
     "shell.execute_reply.started": "2022-06-07T13:51:44.074249Z"
    },
    "tags": []
   },
   "outputs": [
    {
     "data": {
      "text/plain": [
       "GaussianNB(var_smoothing=0.0002782559402207126)"
      ]
     },
     "execution_count": 41,
     "metadata": {},
     "output_type": "execute_result"
    }
   ],
   "source": [
    "# Training on a new 80-20 split to draw ROC curve\n",
    "X_train, X_val, y_train, y_val = train_test_split(X, y, test_size=0.2)\n",
    "X_train.reset_index(drop=True, inplace=True)\n",
    "y_train.reset_index(drop=True, inplace=True)\n",
    "X_val.reset_index(drop=True, inplace=True)\n",
    "y_val.reset_index(drop=True, inplace=True)\n",
    "model = GaussianNB(var_smoothing=gs_GS.best_params_['var_smoothing'])\n",
    "model.fit(X_train, y_train)"
   ]
  },
  {
   "cell_type": "code",
   "execution_count": null,
   "id": "377d85ac-63a2-4d4d-9c63-08a0173b207d",
   "metadata": {
    "execution": {
     "iopub.execute_input": "2022-06-07T13:51:45.876897Z",
     "iopub.status.busy": "2022-06-07T13:51:45.876749Z",
     "iopub.status.idle": "2022-06-07T13:51:46.125676Z",
     "shell.execute_reply": "2022-06-07T13:51:46.125195Z",
     "shell.execute_reply.started": "2022-06-07T13:51:45.876847Z"
    },
    "tags": []
   },
   "outputs": [
    {
     "data": {
      "text/plain": [
       "[<matplotlib.lines.Line2D at 0x2800aafd0>]"
      ]
     },
     "execution_count": 42,
     "metadata": {},
     "output_type": "execute_result"
    },
    {
     "data": {
      "image/png": "[encoded data removed]",
      "text/plain": [
       "<Figure size 432x288 with 1 Axes>"
      ]
     },
     "metadata": {
      "needs_background": "light"
     },
     "output_type": "display_data"
    }
   ],
   "source": [
    "# Display ROC curve\n",
    "RocCurveDisplay.from_predictions(y_val, model.predict_proba(X_val)[:, 1], color='orange')\n",
    "plt.xlim([0, 1]); plt.ylim([0, 1.05])\n",
    "plt.plot([0, 1], [0, 1], 'k--')"
   ]
  },
  {
   "cell_type": "markdown",
   "id": "327a5e99-8032-4565-8714-c15e5e3e633e",
   "metadata": {},
   "source": [
    "## Logistic Regression"
   ]
  },
  {
   "cell_type": "code",
   "execution_count": 39,
   "id": "a2cd6fe5-d890-4414-97ba-eb80d9512ff0",
   "metadata": {
    "execution": {
     "iopub.execute_input": "2022-06-07T13:51:46.126270Z",
     "iopub.status.busy": "2022-06-07T13:51:46.126196Z",
     "iopub.status.idle": "2022-06-07T14:00:20.532135Z",
     "shell.execute_reply": "2022-06-07T14:00:20.531299Z",
     "shell.execute_reply.started": "2022-06-07T13:51:46.126262Z"
    },
    "tags": []
   },
   "outputs": [
    {
     "name": "stdout",
     "output_type": "stream",
     "text": [
      "Fitting 3 folds for each of 7 candidates, totalling 21 fits\n"
     ]
    },
    {
     "ename": "KeyboardInterrupt",
     "evalue": "",
     "output_type": "error",
     "traceback": [
      "\u001b[0;31m---------------------------------------------------------------------------\u001b[0m",
      "\u001b[0;31mKeyboardInterrupt\u001b[0m                         Traceback (most recent call last)",
      "Cell \u001b[0;32mIn[39], line 6\u001b[0m\n\u001b[1;32m      4\u001b[0m params_LR \u001b[39m=\u001b[39m {\u001b[39m'\u001b[39m\u001b[39mC\u001b[39m\u001b[39m'\u001b[39m: np\u001b[39m.\u001b[39mlogspace(\u001b[39m0.7\u001b[39m, \u001b[39m1.1\u001b[39m, num\u001b[39m=\u001b[39m\u001b[39m7\u001b[39m)}\n\u001b[1;32m      5\u001b[0m gs_LR \u001b[39m=\u001b[39m GridSearchCV(estimator\u001b[39m=\u001b[39mgs_cls, param_grid\u001b[39m=\u001b[39mparams_LR, cv\u001b[39m=\u001b[39m\u001b[39m3\u001b[39m, verbose\u001b[39m=\u001b[39m\u001b[39m3\u001b[39m, scoring\u001b[39m=\u001b[39m\u001b[39m'\u001b[39m\u001b[39mf1_macro\u001b[39m\u001b[39m'\u001b[39m)\n\u001b[0;32m----> 6\u001b[0m gs_LR\u001b[39m.\u001b[39;49mfit(X_train, y_train)\n\u001b[1;32m      7\u001b[0m gs_LR\u001b[39m.\u001b[39mbest_params_\n",
      "File \u001b[0;32m/usr/local/lib/python3.10/site-packages/sklearn/model_selection/_search.py:874\u001b[0m, in \u001b[0;36mBaseSearchCV.fit\u001b[0;34m(self, X, y, groups, **fit_params)\u001b[0m\n\u001b[1;32m    868\u001b[0m     results \u001b[39m=\u001b[39m \u001b[39mself\u001b[39m\u001b[39m.\u001b[39m_format_results(\n\u001b[1;32m    869\u001b[0m         all_candidate_params, n_splits, all_out, all_more_results\n\u001b[1;32m    870\u001b[0m     )\n\u001b[1;32m    872\u001b[0m     \u001b[39mreturn\u001b[39;00m results\n\u001b[0;32m--> 874\u001b[0m \u001b[39mself\u001b[39;49m\u001b[39m.\u001b[39;49m_run_search(evaluate_candidates)\n\u001b[1;32m    876\u001b[0m \u001b[39m# multimetric is determined here because in the case of a callable\u001b[39;00m\n\u001b[1;32m    877\u001b[0m \u001b[39m# self.scoring the return type is only known after calling\u001b[39;00m\n\u001b[1;32m    878\u001b[0m first_test_score \u001b[39m=\u001b[39m all_out[\u001b[39m0\u001b[39m][\u001b[39m\"\u001b[39m\u001b[39mtest_scores\u001b[39m\u001b[39m\"\u001b[39m]\n",
      "File \u001b[0;32m/usr/local/lib/python3.10/site-packages/sklearn/model_selection/_search.py:1388\u001b[0m, in \u001b[0;36mGridSearchCV._run_search\u001b[0;34m(self, evaluate_candidates)\u001b[0m\n\u001b[1;32m   1386\u001b[0m \u001b[39mdef\u001b[39;00m \u001b[39m_run_search\u001b[39m(\u001b[39mself\u001b[39m, evaluate_candidates):\n\u001b[1;32m   1387\u001b[0m \u001b[39m    \u001b[39m\u001b[39m\"\"\"Search all candidates in param_grid\"\"\"\u001b[39;00m\n\u001b[0;32m-> 1388\u001b[0m     evaluate_candidates(ParameterGrid(\u001b[39mself\u001b[39;49m\u001b[39m.\u001b[39;49mparam_grid))\n",
      "File \u001b[0;32m/usr/local/lib/python3.10/site-packages/sklearn/model_selection/_search.py:821\u001b[0m, in \u001b[0;36mBaseSearchCV.fit.<locals>.evaluate_candidates\u001b[0;34m(candidate_params, cv, more_results)\u001b[0m\n\u001b[1;32m    813\u001b[0m \u001b[39mif\u001b[39;00m \u001b[39mself\u001b[39m\u001b[39m.\u001b[39mverbose \u001b[39m>\u001b[39m \u001b[39m0\u001b[39m:\n\u001b[1;32m    814\u001b[0m     \u001b[39mprint\u001b[39m(\n\u001b[1;32m    815\u001b[0m         \u001b[39m\"\u001b[39m\u001b[39mFitting \u001b[39m\u001b[39m{0}\u001b[39;00m\u001b[39m folds for each of \u001b[39m\u001b[39m{1}\u001b[39;00m\u001b[39m candidates,\u001b[39m\u001b[39m\"\u001b[39m\n\u001b[1;32m    816\u001b[0m         \u001b[39m\"\u001b[39m\u001b[39m totalling \u001b[39m\u001b[39m{2}\u001b[39;00m\u001b[39m fits\u001b[39m\u001b[39m\"\u001b[39m\u001b[39m.\u001b[39mformat(\n\u001b[1;32m    817\u001b[0m             n_splits, n_candidates, n_candidates \u001b[39m*\u001b[39m n_splits\n\u001b[1;32m    818\u001b[0m         )\n\u001b[1;32m    819\u001b[0m     )\n\u001b[0;32m--> 821\u001b[0m out \u001b[39m=\u001b[39m parallel(\n\u001b[1;32m    822\u001b[0m     delayed(_fit_and_score)(\n\u001b[1;32m    823\u001b[0m         clone(base_estimator),\n\u001b[1;32m    824\u001b[0m         X,\n\u001b[1;32m    825\u001b[0m         y,\n\u001b[1;32m    826\u001b[0m         train\u001b[39m=\u001b[39;49mtrain,\n\u001b[1;32m    827\u001b[0m         test\u001b[39m=\u001b[39;49mtest,\n\u001b[1;32m    828\u001b[0m         parameters\u001b[39m=\u001b[39;49mparameters,\n\u001b[1;32m    829\u001b[0m         split_progress\u001b[39m=\u001b[39;49m(split_idx, n_splits),\n\u001b[1;32m    830\u001b[0m         candidate_progress\u001b[39m=\u001b[39;49m(cand_idx, n_candidates),\n\u001b[1;32m    831\u001b[0m         \u001b[39m*\u001b[39;49m\u001b[39m*\u001b[39;49mfit_and_score_kwargs,\n\u001b[1;32m    832\u001b[0m     )\n\u001b[1;32m    833\u001b[0m     \u001b[39mfor\u001b[39;49;00m (cand_idx, parameters), (split_idx, (train, test)) \u001b[39min\u001b[39;49;00m product(\n\u001b[1;32m    834\u001b[0m         \u001b[39menumerate\u001b[39;49m(candidate_params), \u001b[39menumerate\u001b[39;49m(cv\u001b[39m.\u001b[39;49msplit(X, y, groups))\n\u001b[1;32m    835\u001b[0m     )\n\u001b[1;32m    836\u001b[0m )\n\u001b[1;32m    838\u001b[0m \u001b[39mif\u001b[39;00m \u001b[39mlen\u001b[39m(out) \u001b[39m<\u001b[39m \u001b[39m1\u001b[39m:\n\u001b[1;32m    839\u001b[0m     \u001b[39mraise\u001b[39;00m \u001b[39mValueError\u001b[39;00m(\n\u001b[1;32m    840\u001b[0m         \u001b[39m\"\u001b[39m\u001b[39mNo fits were performed. \u001b[39m\u001b[39m\"\u001b[39m\n\u001b[1;32m    841\u001b[0m         \u001b[39m\"\u001b[39m\u001b[39mWas the CV iterator empty? \u001b[39m\u001b[39m\"\u001b[39m\n\u001b[1;32m    842\u001b[0m         \u001b[39m\"\u001b[39m\u001b[39mWere there no candidates?\u001b[39m\u001b[39m\"\u001b[39m\n\u001b[1;32m    843\u001b[0m     )\n",
      "File \u001b[0;32m/usr/local/lib/python3.10/site-packages/sklearn/utils/parallel.py:63\u001b[0m, in \u001b[0;36mParallel.__call__\u001b[0;34m(self, iterable)\u001b[0m\n\u001b[1;32m     58\u001b[0m config \u001b[39m=\u001b[39m get_config()\n\u001b[1;32m     59\u001b[0m iterable_with_config \u001b[39m=\u001b[39m (\n\u001b[1;32m     60\u001b[0m     (_with_config(delayed_func, config), args, kwargs)\n\u001b[1;32m     61\u001b[0m     \u001b[39mfor\u001b[39;00m delayed_func, args, kwargs \u001b[39min\u001b[39;00m iterable\n\u001b[1;32m     62\u001b[0m )\n\u001b[0;32m---> 63\u001b[0m \u001b[39mreturn\u001b[39;00m \u001b[39msuper\u001b[39;49m()\u001b[39m.\u001b[39;49m\u001b[39m__call__\u001b[39;49m(iterable_with_config)\n",
      "File \u001b[0;32m/usr/local/lib/python3.10/site-packages/joblib/parallel.py:1085\u001b[0m, in \u001b[0;36mParallel.__call__\u001b[0;34m(self, iterable)\u001b[0m\n\u001b[1;32m   1076\u001b[0m \u001b[39mtry\u001b[39;00m:\n\u001b[1;32m   1077\u001b[0m     \u001b[39m# Only set self._iterating to True if at least a batch\u001b[39;00m\n\u001b[1;32m   1078\u001b[0m     \u001b[39m# was dispatched. In particular this covers the edge\u001b[39;00m\n\u001b[0;32m   (...)\u001b[0m\n\u001b[1;32m   1082\u001b[0m     \u001b[39m# was very quick and its callback already dispatched all the\u001b[39;00m\n\u001b[1;32m   1083\u001b[0m     \u001b[39m# remaining jobs.\u001b[39;00m\n\u001b[1;32m   1084\u001b[0m     \u001b[39mself\u001b[39m\u001b[39m.\u001b[39m_iterating \u001b[39m=\u001b[39m \u001b[39mFalse\u001b[39;00m\n\u001b[0;32m-> 1085\u001b[0m     \u001b[39mif\u001b[39;00m \u001b[39mself\u001b[39;49m\u001b[39m.\u001b[39;49mdispatch_one_batch(iterator):\n\u001b[1;32m   1086\u001b[0m         \u001b[39mself\u001b[39m\u001b[39m.\u001b[39m_iterating \u001b[39m=\u001b[39m \u001b[39mself\u001b[39m\u001b[39m.\u001b[39m_original_iterator \u001b[39mis\u001b[39;00m \u001b[39mnot\u001b[39;00m \u001b[39mNone\u001b[39;00m\n\u001b[1;32m   1088\u001b[0m     \u001b[39mwhile\u001b[39;00m \u001b[39mself\u001b[39m\u001b[39m.\u001b[39mdispatch_one_batch(iterator):\n",
      "File \u001b[0;32m/usr/local/lib/python3.10/site-packages/joblib/parallel.py:901\u001b[0m, in \u001b[0;36mParallel.dispatch_one_batch\u001b[0;34m(self, iterator)\u001b[0m\n\u001b[1;32m    899\u001b[0m     \u001b[39mreturn\u001b[39;00m \u001b[39mFalse\u001b[39;00m\n\u001b[1;32m    900\u001b[0m \u001b[39melse\u001b[39;00m:\n\u001b[0;32m--> 901\u001b[0m     \u001b[39mself\u001b[39;49m\u001b[39m.\u001b[39;49m_dispatch(tasks)\n\u001b[1;32m    902\u001b[0m     \u001b[39mreturn\u001b[39;00m \u001b[39mTrue\u001b[39;00m\n",
      "File \u001b[0;32m/usr/local/lib/python3.10/site-packages/joblib/parallel.py:819\u001b[0m, in \u001b[0;36mParallel._dispatch\u001b[0;34m(self, batch)\u001b[0m\n\u001b[1;32m    817\u001b[0m \u001b[39mwith\u001b[39;00m \u001b[39mself\u001b[39m\u001b[39m.\u001b[39m_lock:\n\u001b[1;32m    818\u001b[0m     job_idx \u001b[39m=\u001b[39m \u001b[39mlen\u001b[39m(\u001b[39mself\u001b[39m\u001b[39m.\u001b[39m_jobs)\n\u001b[0;32m--> 819\u001b[0m     job \u001b[39m=\u001b[39m \u001b[39mself\u001b[39;49m\u001b[39m.\u001b[39;49m_backend\u001b[39m.\u001b[39;49mapply_async(batch, callback\u001b[39m=\u001b[39;49mcb)\n\u001b[1;32m    820\u001b[0m     \u001b[39m# A job can complete so quickly than its callback is\u001b[39;00m\n\u001b[1;32m    821\u001b[0m     \u001b[39m# called before we get here, causing self._jobs to\u001b[39;00m\n\u001b[1;32m    822\u001b[0m     \u001b[39m# grow. To ensure correct results ordering, .insert is\u001b[39;00m\n\u001b[1;32m    823\u001b[0m     \u001b[39m# used (rather than .append) in the following line\u001b[39;00m\n\u001b[1;32m    824\u001b[0m     \u001b[39mself\u001b[39m\u001b[39m.\u001b[39m_jobs\u001b[39m.\u001b[39minsert(job_idx, job)\n",
      "File \u001b[0;32m/usr/local/lib/python3.10/site-packages/joblib/_parallel_backends.py:208\u001b[0m, in \u001b[0;36mSequentialBackend.apply_async\u001b[0;34m(self, func, callback)\u001b[0m\n\u001b[1;32m    206\u001b[0m \u001b[39mdef\u001b[39;00m \u001b[39mapply_async\u001b[39m(\u001b[39mself\u001b[39m, func, callback\u001b[39m=\u001b[39m\u001b[39mNone\u001b[39;00m):\n\u001b[1;32m    207\u001b[0m \u001b[39m    \u001b[39m\u001b[39m\"\"\"Schedule a func to be run\"\"\"\u001b[39;00m\n\u001b[0;32m--> 208\u001b[0m     result \u001b[39m=\u001b[39m ImmediateResult(func)\n\u001b[1;32m    209\u001b[0m     \u001b[39mif\u001b[39;00m callback:\n\u001b[1;32m    210\u001b[0m         callback(result)\n",
      "File \u001b[0;32m/usr/local/lib/python3.10/site-packages/joblib/_parallel_backends.py:597\u001b[0m, in \u001b[0;36mImmediateResult.__init__\u001b[0;34m(self, batch)\u001b[0m\n\u001b[1;32m    594\u001b[0m \u001b[39mdef\u001b[39;00m \u001b[39m__init__\u001b[39m(\u001b[39mself\u001b[39m, batch):\n\u001b[1;32m    595\u001b[0m     \u001b[39m# Don't delay the application, to avoid keeping the input\u001b[39;00m\n\u001b[1;32m    596\u001b[0m     \u001b[39m# arguments in memory\u001b[39;00m\n\u001b[0;32m--> 597\u001b[0m     \u001b[39mself\u001b[39m\u001b[39m.\u001b[39mresults \u001b[39m=\u001b[39m batch()\n",
      "File \u001b[0;32m/usr/local/lib/python3.10/site-packages/joblib/parallel.py:288\u001b[0m, in \u001b[0;36mBatchedCalls.__call__\u001b[0;34m(self)\u001b[0m\n\u001b[1;32m    284\u001b[0m \u001b[39mdef\u001b[39;00m \u001b[39m__call__\u001b[39m(\u001b[39mself\u001b[39m):\n\u001b[1;32m    285\u001b[0m     \u001b[39m# Set the default nested backend to self._backend but do not set the\u001b[39;00m\n\u001b[1;32m    286\u001b[0m     \u001b[39m# change the default number of processes to -1\u001b[39;00m\n\u001b[1;32m    287\u001b[0m     \u001b[39mwith\u001b[39;00m parallel_backend(\u001b[39mself\u001b[39m\u001b[39m.\u001b[39m_backend, n_jobs\u001b[39m=\u001b[39m\u001b[39mself\u001b[39m\u001b[39m.\u001b[39m_n_jobs):\n\u001b[0;32m--> 288\u001b[0m         \u001b[39mreturn\u001b[39;00m [func(\u001b[39m*\u001b[39margs, \u001b[39m*\u001b[39m\u001b[39m*\u001b[39mkwargs)\n\u001b[1;32m    289\u001b[0m                 \u001b[39mfor\u001b[39;00m func, args, kwargs \u001b[39min\u001b[39;00m \u001b[39mself\u001b[39m\u001b[39m.\u001b[39mitems]\n",
      "File \u001b[0;32m/usr/local/lib/python3.10/site-packages/joblib/parallel.py:288\u001b[0m, in \u001b[0;36m<listcomp>\u001b[0;34m(.0)\u001b[0m\n\u001b[1;32m    284\u001b[0m \u001b[39mdef\u001b[39;00m \u001b[39m__call__\u001b[39m(\u001b[39mself\u001b[39m):\n\u001b[1;32m    285\u001b[0m     \u001b[39m# Set the default nested backend to self._backend but do not set the\u001b[39;00m\n\u001b[1;32m    286\u001b[0m     \u001b[39m# change the default number of processes to -1\u001b[39;00m\n\u001b[1;32m    287\u001b[0m     \u001b[39mwith\u001b[39;00m parallel_backend(\u001b[39mself\u001b[39m\u001b[39m.\u001b[39m_backend, n_jobs\u001b[39m=\u001b[39m\u001b[39mself\u001b[39m\u001b[39m.\u001b[39m_n_jobs):\n\u001b[0;32m--> 288\u001b[0m         \u001b[39mreturn\u001b[39;00m [func(\u001b[39m*\u001b[39;49margs, \u001b[39m*\u001b[39;49m\u001b[39m*\u001b[39;49mkwargs)\n\u001b[1;32m    289\u001b[0m                 \u001b[39mfor\u001b[39;00m func, args, kwargs \u001b[39min\u001b[39;00m \u001b[39mself\u001b[39m\u001b[39m.\u001b[39mitems]\n",
      "File \u001b[0;32m/usr/local/lib/python3.10/site-packages/sklearn/utils/parallel.py:123\u001b[0m, in \u001b[0;36m_FuncWrapper.__call__\u001b[0;34m(self, *args, **kwargs)\u001b[0m\n\u001b[1;32m    121\u001b[0m     config \u001b[39m=\u001b[39m {}\n\u001b[1;32m    122\u001b[0m \u001b[39mwith\u001b[39;00m config_context(\u001b[39m*\u001b[39m\u001b[39m*\u001b[39mconfig):\n\u001b[0;32m--> 123\u001b[0m     \u001b[39mreturn\u001b[39;00m \u001b[39mself\u001b[39;49m\u001b[39m.\u001b[39;49mfunction(\u001b[39m*\u001b[39;49margs, \u001b[39m*\u001b[39;49m\u001b[39m*\u001b[39;49mkwargs)\n",
      "File \u001b[0;32m/usr/local/lib/python3.10/site-packages/sklearn/model_selection/_validation.py:686\u001b[0m, in \u001b[0;36m_fit_and_score\u001b[0;34m(estimator, X, y, scorer, train, test, verbose, parameters, fit_params, return_train_score, return_parameters, return_n_test_samples, return_times, return_estimator, split_progress, candidate_progress, error_score)\u001b[0m\n\u001b[1;32m    684\u001b[0m         estimator\u001b[39m.\u001b[39mfit(X_train, \u001b[39m*\u001b[39m\u001b[39m*\u001b[39mfit_params)\n\u001b[1;32m    685\u001b[0m     \u001b[39melse\u001b[39;00m:\n\u001b[0;32m--> 686\u001b[0m         estimator\u001b[39m.\u001b[39;49mfit(X_train, y_train, \u001b[39m*\u001b[39;49m\u001b[39m*\u001b[39;49mfit_params)\n\u001b[1;32m    688\u001b[0m \u001b[39mexcept\u001b[39;00m \u001b[39mException\u001b[39;00m:\n\u001b[1;32m    689\u001b[0m     \u001b[39m# Note fit time as time until error\u001b[39;00m\n\u001b[1;32m    690\u001b[0m     fit_time \u001b[39m=\u001b[39m time\u001b[39m.\u001b[39mtime() \u001b[39m-\u001b[39m start_time\n",
      "File \u001b[0;32m/usr/local/lib/python3.10/site-packages/sklearn/linear_model/_logistic.py:1291\u001b[0m, in \u001b[0;36mLogisticRegression.fit\u001b[0;34m(self, X, y, sample_weight)\u001b[0m\n\u001b[1;32m   1288\u001b[0m \u001b[39melse\u001b[39;00m:\n\u001b[1;32m   1289\u001b[0m     n_threads \u001b[39m=\u001b[39m \u001b[39m1\u001b[39m\n\u001b[0;32m-> 1291\u001b[0m fold_coefs_ \u001b[39m=\u001b[39m Parallel(n_jobs\u001b[39m=\u001b[39;49m\u001b[39mself\u001b[39;49m\u001b[39m.\u001b[39;49mn_jobs, verbose\u001b[39m=\u001b[39;49m\u001b[39mself\u001b[39;49m\u001b[39m.\u001b[39;49mverbose, prefer\u001b[39m=\u001b[39;49mprefer)(\n\u001b[1;32m   1292\u001b[0m     path_func(\n\u001b[1;32m   1293\u001b[0m         X,\n\u001b[1;32m   1294\u001b[0m         y,\n\u001b[1;32m   1295\u001b[0m         pos_class\u001b[39m=\u001b[39;49mclass_,\n\u001b[1;32m   1296\u001b[0m         Cs\u001b[39m=\u001b[39;49m[C_],\n\u001b[1;32m   1297\u001b[0m         l1_ratio\u001b[39m=\u001b[39;49m\u001b[39mself\u001b[39;49m\u001b[39m.\u001b[39;49ml1_ratio,\n\u001b[1;32m   1298\u001b[0m         fit_intercept\u001b[39m=\u001b[39;49m\u001b[39mself\u001b[39;49m\u001b[39m.\u001b[39;49mfit_intercept,\n\u001b[1;32m   1299\u001b[0m         tol\u001b[39m=\u001b[39;49m\u001b[39mself\u001b[39;49m\u001b[39m.\u001b[39;49mtol,\n\u001b[1;32m   1300\u001b[0m         verbose\u001b[39m=\u001b[39;49m\u001b[39mself\u001b[39;49m\u001b[39m.\u001b[39;49mverbose,\n\u001b[1;32m   1301\u001b[0m         solver\u001b[39m=\u001b[39;49msolver,\n\u001b[1;32m   1302\u001b[0m         multi_class\u001b[39m=\u001b[39;49mmulti_class,\n\u001b[1;32m   1303\u001b[0m         max_iter\u001b[39m=\u001b[39;49m\u001b[39mself\u001b[39;49m\u001b[39m.\u001b[39;49mmax_iter,\n\u001b[1;32m   1304\u001b[0m         class_weight\u001b[39m=\u001b[39;49m\u001b[39mself\u001b[39;49m\u001b[39m.\u001b[39;49mclass_weight,\n\u001b[1;32m   1305\u001b[0m         check_input\u001b[39m=\u001b[39;49m\u001b[39mFalse\u001b[39;49;00m,\n\u001b[1;32m   1306\u001b[0m         random_state\u001b[39m=\u001b[39;49m\u001b[39mself\u001b[39;49m\u001b[39m.\u001b[39;49mrandom_state,\n\u001b[1;32m   1307\u001b[0m         coef\u001b[39m=\u001b[39;49mwarm_start_coef_,\n\u001b[1;32m   1308\u001b[0m         penalty\u001b[39m=\u001b[39;49mpenalty,\n\u001b[1;32m   1309\u001b[0m         max_squared_sum\u001b[39m=\u001b[39;49mmax_squared_sum,\n\u001b[1;32m   1310\u001b[0m         sample_weight\u001b[39m=\u001b[39;49msample_weight,\n\u001b[1;32m   1311\u001b[0m         n_threads\u001b[39m=\u001b[39;49mn_threads,\n\u001b[1;32m   1312\u001b[0m     )\n\u001b[1;32m   1313\u001b[0m     \u001b[39mfor\u001b[39;49;00m class_, warm_start_coef_ \u001b[39min\u001b[39;49;00m \u001b[39mzip\u001b[39;49m(classes_, warm_start_coef)\n\u001b[1;32m   1314\u001b[0m )\n\u001b[1;32m   1316\u001b[0m fold_coefs_, _, n_iter_ \u001b[39m=\u001b[39m \u001b[39mzip\u001b[39m(\u001b[39m*\u001b[39mfold_coefs_)\n\u001b[1;32m   1317\u001b[0m \u001b[39mself\u001b[39m\u001b[39m.\u001b[39mn_iter_ \u001b[39m=\u001b[39m np\u001b[39m.\u001b[39masarray(n_iter_, dtype\u001b[39m=\u001b[39mnp\u001b[39m.\u001b[39mint32)[:, \u001b[39m0\u001b[39m]\n",
      "File \u001b[0;32m/usr/local/lib/python3.10/site-packages/sklearn/utils/parallel.py:63\u001b[0m, in \u001b[0;36mParallel.__call__\u001b[0;34m(self, iterable)\u001b[0m\n\u001b[1;32m     58\u001b[0m config \u001b[39m=\u001b[39m get_config()\n\u001b[1;32m     59\u001b[0m iterable_with_config \u001b[39m=\u001b[39m (\n\u001b[1;32m     60\u001b[0m     (_with_config(delayed_func, config), args, kwargs)\n\u001b[1;32m     61\u001b[0m     \u001b[39mfor\u001b[39;00m delayed_func, args, kwargs \u001b[39min\u001b[39;00m iterable\n\u001b[1;32m     62\u001b[0m )\n\u001b[0;32m---> 63\u001b[0m \u001b[39mreturn\u001b[39;00m \u001b[39msuper\u001b[39;49m()\u001b[39m.\u001b[39;49m\u001b[39m__call__\u001b[39;49m(iterable_with_config)\n",
      "File \u001b[0;32m/usr/local/lib/python3.10/site-packages/joblib/parallel.py:1085\u001b[0m, in \u001b[0;36mParallel.__call__\u001b[0;34m(self, iterable)\u001b[0m\n\u001b[1;32m   1076\u001b[0m \u001b[39mtry\u001b[39;00m:\n\u001b[1;32m   1077\u001b[0m     \u001b[39m# Only set self._iterating to True if at least a batch\u001b[39;00m\n\u001b[1;32m   1078\u001b[0m     \u001b[39m# was dispatched. In particular this covers the edge\u001b[39;00m\n\u001b[0;32m   (...)\u001b[0m\n\u001b[1;32m   1082\u001b[0m     \u001b[39m# was very quick and its callback already dispatched all the\u001b[39;00m\n\u001b[1;32m   1083\u001b[0m     \u001b[39m# remaining jobs.\u001b[39;00m\n\u001b[1;32m   1084\u001b[0m     \u001b[39mself\u001b[39m\u001b[39m.\u001b[39m_iterating \u001b[39m=\u001b[39m \u001b[39mFalse\u001b[39;00m\n\u001b[0;32m-> 1085\u001b[0m     \u001b[39mif\u001b[39;00m \u001b[39mself\u001b[39;49m\u001b[39m.\u001b[39;49mdispatch_one_batch(iterator):\n\u001b[1;32m   1086\u001b[0m         \u001b[39mself\u001b[39m\u001b[39m.\u001b[39m_iterating \u001b[39m=\u001b[39m \u001b[39mself\u001b[39m\u001b[39m.\u001b[39m_original_iterator \u001b[39mis\u001b[39;00m \u001b[39mnot\u001b[39;00m \u001b[39mNone\u001b[39;00m\n\u001b[1;32m   1088\u001b[0m     \u001b[39mwhile\u001b[39;00m \u001b[39mself\u001b[39m\u001b[39m.\u001b[39mdispatch_one_batch(iterator):\n",
      "File \u001b[0;32m/usr/local/lib/python3.10/site-packages/joblib/parallel.py:901\u001b[0m, in \u001b[0;36mParallel.dispatch_one_batch\u001b[0;34m(self, iterator)\u001b[0m\n\u001b[1;32m    899\u001b[0m     \u001b[39mreturn\u001b[39;00m \u001b[39mFalse\u001b[39;00m\n\u001b[1;32m    900\u001b[0m \u001b[39melse\u001b[39;00m:\n\u001b[0;32m--> 901\u001b[0m     \u001b[39mself\u001b[39;49m\u001b[39m.\u001b[39;49m_dispatch(tasks)\n\u001b[1;32m    902\u001b[0m     \u001b[39mreturn\u001b[39;00m \u001b[39mTrue\u001b[39;00m\n",
      "File \u001b[0;32m/usr/local/lib/python3.10/site-packages/joblib/parallel.py:819\u001b[0m, in \u001b[0;36mParallel._dispatch\u001b[0;34m(self, batch)\u001b[0m\n\u001b[1;32m    817\u001b[0m \u001b[39mwith\u001b[39;00m \u001b[39mself\u001b[39m\u001b[39m.\u001b[39m_lock:\n\u001b[1;32m    818\u001b[0m     job_idx \u001b[39m=\u001b[39m \u001b[39mlen\u001b[39m(\u001b[39mself\u001b[39m\u001b[39m.\u001b[39m_jobs)\n\u001b[0;32m--> 819\u001b[0m     job \u001b[39m=\u001b[39m \u001b[39mself\u001b[39;49m\u001b[39m.\u001b[39;49m_backend\u001b[39m.\u001b[39;49mapply_async(batch, callback\u001b[39m=\u001b[39;49mcb)\n\u001b[1;32m    820\u001b[0m     \u001b[39m# A job can complete so quickly than its callback is\u001b[39;00m\n\u001b[1;32m    821\u001b[0m     \u001b[39m# called before we get here, causing self._jobs to\u001b[39;00m\n\u001b[1;32m    822\u001b[0m     \u001b[39m# grow. To ensure correct results ordering, .insert is\u001b[39;00m\n\u001b[1;32m    823\u001b[0m     \u001b[39m# used (rather than .append) in the following line\u001b[39;00m\n\u001b[1;32m    824\u001b[0m     \u001b[39mself\u001b[39m\u001b[39m.\u001b[39m_jobs\u001b[39m.\u001b[39minsert(job_idx, job)\n",
      "File \u001b[0;32m/usr/local/lib/python3.10/site-packages/joblib/_parallel_backends.py:208\u001b[0m, in \u001b[0;36mSequentialBackend.apply_async\u001b[0;34m(self, func, callback)\u001b[0m\n\u001b[1;32m    206\u001b[0m \u001b[39mdef\u001b[39;00m \u001b[39mapply_async\u001b[39m(\u001b[39mself\u001b[39m, func, callback\u001b[39m=\u001b[39m\u001b[39mNone\u001b[39;00m):\n\u001b[1;32m    207\u001b[0m \u001b[39m    \u001b[39m\u001b[39m\"\"\"Schedule a func to be run\"\"\"\u001b[39;00m\n\u001b[0;32m--> 208\u001b[0m     result \u001b[39m=\u001b[39m ImmediateResult(func)\n\u001b[1;32m    209\u001b[0m     \u001b[39mif\u001b[39;00m callback:\n\u001b[1;32m    210\u001b[0m         callback(result)\n",
      "File \u001b[0;32m/usr/local/lib/python3.10/site-packages/joblib/_parallel_backends.py:597\u001b[0m, in \u001b[0;36mImmediateResult.__init__\u001b[0;34m(self, batch)\u001b[0m\n\u001b[1;32m    594\u001b[0m \u001b[39mdef\u001b[39;00m \u001b[39m__init__\u001b[39m(\u001b[39mself\u001b[39m, batch):\n\u001b[1;32m    595\u001b[0m     \u001b[39m# Don't delay the application, to avoid keeping the input\u001b[39;00m\n\u001b[1;32m    596\u001b[0m     \u001b[39m# arguments in memory\u001b[39;00m\n\u001b[0;32m--> 597\u001b[0m     \u001b[39mself\u001b[39m\u001b[39m.\u001b[39mresults \u001b[39m=\u001b[39m batch()\n",
      "File \u001b[0;32m/usr/local/lib/python3.10/site-packages/joblib/parallel.py:288\u001b[0m, in \u001b[0;36mBatchedCalls.__call__\u001b[0;34m(self)\u001b[0m\n\u001b[1;32m    284\u001b[0m \u001b[39mdef\u001b[39;00m \u001b[39m__call__\u001b[39m(\u001b[39mself\u001b[39m):\n\u001b[1;32m    285\u001b[0m     \u001b[39m# Set the default nested backend to self._backend but do not set the\u001b[39;00m\n\u001b[1;32m    286\u001b[0m     \u001b[39m# change the default number of processes to -1\u001b[39;00m\n\u001b[1;32m    287\u001b[0m     \u001b[39mwith\u001b[39;00m parallel_backend(\u001b[39mself\u001b[39m\u001b[39m.\u001b[39m_backend, n_jobs\u001b[39m=\u001b[39m\u001b[39mself\u001b[39m\u001b[39m.\u001b[39m_n_jobs):\n\u001b[0;32m--> 288\u001b[0m         \u001b[39mreturn\u001b[39;00m [func(\u001b[39m*\u001b[39margs, \u001b[39m*\u001b[39m\u001b[39m*\u001b[39mkwargs)\n\u001b[1;32m    289\u001b[0m                 \u001b[39mfor\u001b[39;00m func, args, kwargs \u001b[39min\u001b[39;00m \u001b[39mself\u001b[39m\u001b[39m.\u001b[39mitems]\n",
      "File \u001b[0;32m/usr/local/lib/python3.10/site-packages/joblib/parallel.py:288\u001b[0m, in \u001b[0;36m<listcomp>\u001b[0;34m(.0)\u001b[0m\n\u001b[1;32m    284\u001b[0m \u001b[39mdef\u001b[39;00m \u001b[39m__call__\u001b[39m(\u001b[39mself\u001b[39m):\n\u001b[1;32m    285\u001b[0m     \u001b[39m# Set the default nested backend to self._backend but do not set the\u001b[39;00m\n\u001b[1;32m    286\u001b[0m     \u001b[39m# change the default number of processes to -1\u001b[39;00m\n\u001b[1;32m    287\u001b[0m     \u001b[39mwith\u001b[39;00m parallel_backend(\u001b[39mself\u001b[39m\u001b[39m.\u001b[39m_backend, n_jobs\u001b[39m=\u001b[39m\u001b[39mself\u001b[39m\u001b[39m.\u001b[39m_n_jobs):\n\u001b[0;32m--> 288\u001b[0m         \u001b[39mreturn\u001b[39;00m [func(\u001b[39m*\u001b[39;49margs, \u001b[39m*\u001b[39;49m\u001b[39m*\u001b[39;49mkwargs)\n\u001b[1;32m    289\u001b[0m                 \u001b[39mfor\u001b[39;00m func, args, kwargs \u001b[39min\u001b[39;00m \u001b[39mself\u001b[39m\u001b[39m.\u001b[39mitems]\n",
      "File \u001b[0;32m/usr/local/lib/python3.10/site-packages/sklearn/utils/parallel.py:123\u001b[0m, in \u001b[0;36m_FuncWrapper.__call__\u001b[0;34m(self, *args, **kwargs)\u001b[0m\n\u001b[1;32m    121\u001b[0m     config \u001b[39m=\u001b[39m {}\n\u001b[1;32m    122\u001b[0m \u001b[39mwith\u001b[39;00m config_context(\u001b[39m*\u001b[39m\u001b[39m*\u001b[39mconfig):\n\u001b[0;32m--> 123\u001b[0m     \u001b[39mreturn\u001b[39;00m \u001b[39mself\u001b[39;49m\u001b[39m.\u001b[39;49mfunction(\u001b[39m*\u001b[39;49margs, \u001b[39m*\u001b[39;49m\u001b[39m*\u001b[39;49mkwargs)\n",
      "File \u001b[0;32m/usr/local/lib/python3.10/site-packages/sklearn/linear_model/_logistic.py:450\u001b[0m, in \u001b[0;36m_logistic_regression_path\u001b[0;34m(X, y, pos_class, Cs, fit_intercept, max_iter, tol, verbose, solver, coef, class_weight, dual, penalty, intercept_scaling, multi_class, random_state, check_input, max_squared_sum, sample_weight, l1_ratio, n_threads)\u001b[0m\n\u001b[1;32m    446\u001b[0m l2_reg_strength \u001b[39m=\u001b[39m \u001b[39m1.0\u001b[39m \u001b[39m/\u001b[39m C\n\u001b[1;32m    447\u001b[0m iprint \u001b[39m=\u001b[39m [\u001b[39m-\u001b[39m\u001b[39m1\u001b[39m, \u001b[39m50\u001b[39m, \u001b[39m1\u001b[39m, \u001b[39m100\u001b[39m, \u001b[39m101\u001b[39m][\n\u001b[1;32m    448\u001b[0m     np\u001b[39m.\u001b[39msearchsorted(np\u001b[39m.\u001b[39marray([\u001b[39m0\u001b[39m, \u001b[39m1\u001b[39m, \u001b[39m2\u001b[39m, \u001b[39m3\u001b[39m]), verbose)\n\u001b[1;32m    449\u001b[0m ]\n\u001b[0;32m--> 450\u001b[0m opt_res \u001b[39m=\u001b[39m optimize\u001b[39m.\u001b[39;49mminimize(\n\u001b[1;32m    451\u001b[0m     func,\n\u001b[1;32m    452\u001b[0m     w0,\n\u001b[1;32m    453\u001b[0m     method\u001b[39m=\u001b[39;49m\u001b[39m\"\u001b[39;49m\u001b[39mL-BFGS-B\u001b[39;49m\u001b[39m\"\u001b[39;49m,\n\u001b[1;32m    454\u001b[0m     jac\u001b[39m=\u001b[39;49m\u001b[39mTrue\u001b[39;49;00m,\n\u001b[1;32m    455\u001b[0m     args\u001b[39m=\u001b[39;49m(X, target, sample_weight, l2_reg_strength, n_threads),\n\u001b[1;32m    456\u001b[0m     options\u001b[39m=\u001b[39;49m{\u001b[39m\"\u001b[39;49m\u001b[39miprint\u001b[39;49m\u001b[39m\"\u001b[39;49m: iprint, \u001b[39m\"\u001b[39;49m\u001b[39mgtol\u001b[39;49m\u001b[39m\"\u001b[39;49m: tol, \u001b[39m\"\u001b[39;49m\u001b[39mmaxiter\u001b[39;49m\u001b[39m\"\u001b[39;49m: max_iter},\n\u001b[1;32m    457\u001b[0m )\n\u001b[1;32m    458\u001b[0m n_iter_i \u001b[39m=\u001b[39m _check_optimize_result(\n\u001b[1;32m    459\u001b[0m     solver,\n\u001b[1;32m    460\u001b[0m     opt_res,\n\u001b[1;32m    461\u001b[0m     max_iter,\n\u001b[1;32m    462\u001b[0m     extra_warning_msg\u001b[39m=\u001b[39m_LOGISTIC_SOLVER_CONVERGENCE_MSG,\n\u001b[1;32m    463\u001b[0m )\n\u001b[1;32m    464\u001b[0m w0, loss \u001b[39m=\u001b[39m opt_res\u001b[39m.\u001b[39mx, opt_res\u001b[39m.\u001b[39mfun\n",
      "File \u001b[0;32m/usr/local/lib/python3.10/site-packages/scipy/optimize/_minimize.py:696\u001b[0m, in \u001b[0;36mminimize\u001b[0;34m(fun, x0, args, method, jac, hess, hessp, bounds, constraints, tol, callback, options)\u001b[0m\n\u001b[1;32m    693\u001b[0m     res \u001b[39m=\u001b[39m _minimize_newtoncg(fun, x0, args, jac, hess, hessp, callback,\n\u001b[1;32m    694\u001b[0m                              \u001b[39m*\u001b[39m\u001b[39m*\u001b[39moptions)\n\u001b[1;32m    695\u001b[0m \u001b[39melif\u001b[39;00m meth \u001b[39m==\u001b[39m \u001b[39m'\u001b[39m\u001b[39ml-bfgs-b\u001b[39m\u001b[39m'\u001b[39m:\n\u001b[0;32m--> 696\u001b[0m     res \u001b[39m=\u001b[39m _minimize_lbfgsb(fun, x0, args, jac, bounds,\n\u001b[1;32m    697\u001b[0m                            callback\u001b[39m=\u001b[39;49mcallback, \u001b[39m*\u001b[39;49m\u001b[39m*\u001b[39;49moptions)\n\u001b[1;32m    698\u001b[0m \u001b[39melif\u001b[39;00m meth \u001b[39m==\u001b[39m \u001b[39m'\u001b[39m\u001b[39mtnc\u001b[39m\u001b[39m'\u001b[39m:\n\u001b[1;32m    699\u001b[0m     res \u001b[39m=\u001b[39m _minimize_tnc(fun, x0, args, jac, bounds, callback\u001b[39m=\u001b[39mcallback,\n\u001b[1;32m    700\u001b[0m                         \u001b[39m*\u001b[39m\u001b[39m*\u001b[39moptions)\n",
      "File \u001b[0;32m/usr/local/lib/python3.10/site-packages/scipy/optimize/_lbfgsb_py.py:359\u001b[0m, in \u001b[0;36m_minimize_lbfgsb\u001b[0;34m(fun, x0, args, jac, bounds, disp, maxcor, ftol, gtol, eps, maxfun, maxiter, iprint, callback, maxls, finite_diff_rel_step, **unknown_options)\u001b[0m\n\u001b[1;32m    353\u001b[0m task_str \u001b[39m=\u001b[39m task\u001b[39m.\u001b[39mtobytes()\n\u001b[1;32m    354\u001b[0m \u001b[39mif\u001b[39;00m task_str\u001b[39m.\u001b[39mstartswith(\u001b[39mb\u001b[39m\u001b[39m'\u001b[39m\u001b[39mFG\u001b[39m\u001b[39m'\u001b[39m):\n\u001b[1;32m    355\u001b[0m     \u001b[39m# The minimization routine wants f and g at the current x.\u001b[39;00m\n\u001b[1;32m    356\u001b[0m     \u001b[39m# Note that interruptions due to maxfun are postponed\u001b[39;00m\n\u001b[1;32m    357\u001b[0m     \u001b[39m# until the completion of the current minimization iteration.\u001b[39;00m\n\u001b[1;32m    358\u001b[0m     \u001b[39m# Overwrite f and g:\u001b[39;00m\n\u001b[0;32m--> 359\u001b[0m     f, g \u001b[39m=\u001b[39m func_and_grad(x)\n\u001b[1;32m    360\u001b[0m \u001b[39melif\u001b[39;00m task_str\u001b[39m.\u001b[39mstartswith(\u001b[39mb\u001b[39m\u001b[39m'\u001b[39m\u001b[39mNEW_X\u001b[39m\u001b[39m'\u001b[39m):\n\u001b[1;32m    361\u001b[0m     \u001b[39m# new iteration\u001b[39;00m\n\u001b[1;32m    362\u001b[0m     n_iterations \u001b[39m+\u001b[39m\u001b[39m=\u001b[39m \u001b[39m1\u001b[39m\n",
      "File \u001b[0;32m/usr/local/lib/python3.10/site-packages/scipy/optimize/_differentiable_functions.py:285\u001b[0m, in \u001b[0;36mScalarFunction.fun_and_grad\u001b[0;34m(self, x)\u001b[0m\n\u001b[1;32m    283\u001b[0m \u001b[39mif\u001b[39;00m \u001b[39mnot\u001b[39;00m np\u001b[39m.\u001b[39marray_equal(x, \u001b[39mself\u001b[39m\u001b[39m.\u001b[39mx):\n\u001b[1;32m    284\u001b[0m     \u001b[39mself\u001b[39m\u001b[39m.\u001b[39m_update_x_impl(x)\n\u001b[0;32m--> 285\u001b[0m \u001b[39mself\u001b[39;49m\u001b[39m.\u001b[39;49m_update_fun()\n\u001b[1;32m    286\u001b[0m \u001b[39mself\u001b[39m\u001b[39m.\u001b[39m_update_grad()\n\u001b[1;32m    287\u001b[0m \u001b[39mreturn\u001b[39;00m \u001b[39mself\u001b[39m\u001b[39m.\u001b[39mf, \u001b[39mself\u001b[39m\u001b[39m.\u001b[39mg\n",
      "File \u001b[0;32m/usr/local/lib/python3.10/site-packages/scipy/optimize/_differentiable_functions.py:251\u001b[0m, in \u001b[0;36mScalarFunction._update_fun\u001b[0;34m(self)\u001b[0m\n\u001b[1;32m    249\u001b[0m \u001b[39mdef\u001b[39;00m \u001b[39m_update_fun\u001b[39m(\u001b[39mself\u001b[39m):\n\u001b[1;32m    250\u001b[0m     \u001b[39mif\u001b[39;00m \u001b[39mnot\u001b[39;00m \u001b[39mself\u001b[39m\u001b[39m.\u001b[39mf_updated:\n\u001b[0;32m--> 251\u001b[0m         \u001b[39mself\u001b[39;49m\u001b[39m.\u001b[39;49m_update_fun_impl()\n\u001b[1;32m    252\u001b[0m         \u001b[39mself\u001b[39m\u001b[39m.\u001b[39mf_updated \u001b[39m=\u001b[39m \u001b[39mTrue\u001b[39;00m\n",
      "File \u001b[0;32m/usr/local/lib/python3.10/site-packages/scipy/optimize/_differentiable_functions.py:155\u001b[0m, in \u001b[0;36mScalarFunction.__init__.<locals>.update_fun\u001b[0;34m()\u001b[0m\n\u001b[1;32m    154\u001b[0m \u001b[39mdef\u001b[39;00m \u001b[39mupdate_fun\u001b[39m():\n\u001b[0;32m--> 155\u001b[0m     \u001b[39mself\u001b[39m\u001b[39m.\u001b[39mf \u001b[39m=\u001b[39m fun_wrapped(\u001b[39mself\u001b[39;49m\u001b[39m.\u001b[39;49mx)\n",
      "File \u001b[0;32m/usr/local/lib/python3.10/site-packages/scipy/optimize/_differentiable_functions.py:137\u001b[0m, in \u001b[0;36mScalarFunction.__init__.<locals>.fun_wrapped\u001b[0;34m(x)\u001b[0m\n\u001b[1;32m    133\u001b[0m \u001b[39mself\u001b[39m\u001b[39m.\u001b[39mnfev \u001b[39m+\u001b[39m\u001b[39m=\u001b[39m \u001b[39m1\u001b[39m\n\u001b[1;32m    134\u001b[0m \u001b[39m# Send a copy because the user may overwrite it.\u001b[39;00m\n\u001b[1;32m    135\u001b[0m \u001b[39m# Overwriting results in undefined behaviour because\u001b[39;00m\n\u001b[1;32m    136\u001b[0m \u001b[39m# fun(self.x) will change self.x, with the two no longer linked.\u001b[39;00m\n\u001b[0;32m--> 137\u001b[0m fx \u001b[39m=\u001b[39m fun(np\u001b[39m.\u001b[39;49mcopy(x), \u001b[39m*\u001b[39;49margs)\n\u001b[1;32m    138\u001b[0m \u001b[39m# Make sure the function returns a true scalar\u001b[39;00m\n\u001b[1;32m    139\u001b[0m \u001b[39mif\u001b[39;00m \u001b[39mnot\u001b[39;00m np\u001b[39m.\u001b[39misscalar(fx):\n",
      "File \u001b[0;32m/usr/local/lib/python3.10/site-packages/scipy/optimize/_optimize.py:76\u001b[0m, in \u001b[0;36mMemoizeJac.__call__\u001b[0;34m(self, x, *args)\u001b[0m\n\u001b[1;32m     74\u001b[0m \u001b[39mdef\u001b[39;00m \u001b[39m__call__\u001b[39m(\u001b[39mself\u001b[39m, x, \u001b[39m*\u001b[39margs):\n\u001b[1;32m     75\u001b[0m \u001b[39m    \u001b[39m\u001b[39m\"\"\" returns the function value \"\"\"\u001b[39;00m\n\u001b[0;32m---> 76\u001b[0m     \u001b[39mself\u001b[39;49m\u001b[39m.\u001b[39;49m_compute_if_needed(x, \u001b[39m*\u001b[39;49margs)\n\u001b[1;32m     77\u001b[0m     \u001b[39mreturn\u001b[39;00m \u001b[39mself\u001b[39m\u001b[39m.\u001b[39m_value\n",
      "File \u001b[0;32m/usr/local/lib/python3.10/site-packages/scipy/optimize/_optimize.py:70\u001b[0m, in \u001b[0;36mMemoizeJac._compute_if_needed\u001b[0;34m(self, x, *args)\u001b[0m\n\u001b[1;32m     68\u001b[0m \u001b[39mif\u001b[39;00m \u001b[39mnot\u001b[39;00m np\u001b[39m.\u001b[39mall(x \u001b[39m==\u001b[39m \u001b[39mself\u001b[39m\u001b[39m.\u001b[39mx) \u001b[39mor\u001b[39;00m \u001b[39mself\u001b[39m\u001b[39m.\u001b[39m_value \u001b[39mis\u001b[39;00m \u001b[39mNone\u001b[39;00m \u001b[39mor\u001b[39;00m \u001b[39mself\u001b[39m\u001b[39m.\u001b[39mjac \u001b[39mis\u001b[39;00m \u001b[39mNone\u001b[39;00m:\n\u001b[1;32m     69\u001b[0m     \u001b[39mself\u001b[39m\u001b[39m.\u001b[39mx \u001b[39m=\u001b[39m np\u001b[39m.\u001b[39masarray(x)\u001b[39m.\u001b[39mcopy()\n\u001b[0;32m---> 70\u001b[0m     fg \u001b[39m=\u001b[39m \u001b[39mself\u001b[39;49m\u001b[39m.\u001b[39;49mfun(x, \u001b[39m*\u001b[39;49margs)\n\u001b[1;32m     71\u001b[0m     \u001b[39mself\u001b[39m\u001b[39m.\u001b[39mjac \u001b[39m=\u001b[39m fg[\u001b[39m1\u001b[39m]\n\u001b[1;32m     72\u001b[0m     \u001b[39mself\u001b[39m\u001b[39m.\u001b[39m_value \u001b[39m=\u001b[39m fg[\u001b[39m0\u001b[39m]\n",
      "File \u001b[0;32m/usr/local/lib/python3.10/site-packages/sklearn/linear_model/_linear_loss.py:291\u001b[0m, in \u001b[0;36mLinearModelLoss.loss_gradient\u001b[0;34m(self, coef, X, y, sample_weight, l2_reg_strength, n_threads, raw_prediction)\u001b[0m\n\u001b[1;32m    289\u001b[0m     grad[:n_features] \u001b[39m=\u001b[39m X\u001b[39m.\u001b[39mT \u001b[39m@\u001b[39m grad_pointwise \u001b[39m+\u001b[39m l2_reg_strength \u001b[39m*\u001b[39m weights\n\u001b[1;32m    290\u001b[0m     \u001b[39mif\u001b[39;00m \u001b[39mself\u001b[39m\u001b[39m.\u001b[39mfit_intercept:\n\u001b[0;32m--> 291\u001b[0m         grad[\u001b[39m-\u001b[39m\u001b[39m1\u001b[39m] \u001b[39m=\u001b[39m grad_pointwise\u001b[39m.\u001b[39;49msum()\n\u001b[1;32m    292\u001b[0m \u001b[39melse\u001b[39;00m:\n\u001b[1;32m    293\u001b[0m     grad \u001b[39m=\u001b[39m np\u001b[39m.\u001b[39mempty((n_classes, n_dof), dtype\u001b[39m=\u001b[39mweights\u001b[39m.\u001b[39mdtype, order\u001b[39m=\u001b[39m\u001b[39m\"\u001b[39m\u001b[39mF\u001b[39m\u001b[39m\"\u001b[39m)\n",
      "File \u001b[0;32m/usr/local/lib/python3.10/site-packages/numpy/core/_methods.py:46\u001b[0m, in \u001b[0;36m_sum\u001b[0;34m(a, axis, dtype, out, keepdims, initial, where)\u001b[0m\n\u001b[1;32m     42\u001b[0m \u001b[39mdef\u001b[39;00m \u001b[39m_amin\u001b[39m(a, axis\u001b[39m=\u001b[39m\u001b[39mNone\u001b[39;00m, out\u001b[39m=\u001b[39m\u001b[39mNone\u001b[39;00m, keepdims\u001b[39m=\u001b[39m\u001b[39mFalse\u001b[39;00m,\n\u001b[1;32m     43\u001b[0m           initial\u001b[39m=\u001b[39m_NoValue, where\u001b[39m=\u001b[39m\u001b[39mTrue\u001b[39;00m):\n\u001b[1;32m     44\u001b[0m     \u001b[39mreturn\u001b[39;00m umr_minimum(a, axis, \u001b[39mNone\u001b[39;00m, out, keepdims, initial, where)\n\u001b[0;32m---> 46\u001b[0m \u001b[39mdef\u001b[39;00m \u001b[39m_sum\u001b[39m(a, axis\u001b[39m=\u001b[39m\u001b[39mNone\u001b[39;00m, dtype\u001b[39m=\u001b[39m\u001b[39mNone\u001b[39;00m, out\u001b[39m=\u001b[39m\u001b[39mNone\u001b[39;00m, keepdims\u001b[39m=\u001b[39m\u001b[39mFalse\u001b[39;00m,\n\u001b[1;32m     47\u001b[0m          initial\u001b[39m=\u001b[39m_NoValue, where\u001b[39m=\u001b[39m\u001b[39mTrue\u001b[39;00m):\n\u001b[1;32m     48\u001b[0m     \u001b[39mreturn\u001b[39;00m umr_sum(a, axis, dtype, out, keepdims, initial, where)\n\u001b[1;32m     50\u001b[0m \u001b[39mdef\u001b[39;00m \u001b[39m_prod\u001b[39m(a, axis\u001b[39m=\u001b[39m\u001b[39mNone\u001b[39;00m, dtype\u001b[39m=\u001b[39m\u001b[39mNone\u001b[39;00m, out\u001b[39m=\u001b[39m\u001b[39mNone\u001b[39;00m, keepdims\u001b[39m=\u001b[39m\u001b[39mFalse\u001b[39;00m,\n\u001b[1;32m     51\u001b[0m           initial\u001b[39m=\u001b[39m_NoValue, where\u001b[39m=\u001b[39m\u001b[39mTrue\u001b[39;00m):\n",
      "\u001b[0;31mKeyboardInterrupt\u001b[0m: "
     ]
    }
   ],
   "source": [
    "# Hyperparameter selection on one split\n",
    "X_train, X_val, y_train, y_val = splits[0]\n",
    "gs_cls = LogisticRegression(max_iter=1500)\n",
    "params_LR = {'C': np.logspace(0.7, 1.1, num=7)}\n",
    "gs_LR = GridSearchCV(estimator=gs_cls, param_grid=params_LR, cv=3, verbose=3, scoring='f1_macro')\n",
    "gs_LR.fit(X_train, y_train)\n",
    "gs_LR.best_params_"
   ]
  },
  {
   "cell_type": "code",
   "execution_count": null,
   "id": "5c09d194-e8e2-4a90-b643-bc5b9bf851c3",
   "metadata": {
    "execution": {
     "iopub.execute_input": "2022-06-07T14:00:20.538307Z",
     "iopub.status.busy": "2022-06-07T14:00:20.534868Z",
     "iopub.status.idle": "2022-06-07T14:02:09.696752Z",
     "shell.execute_reply": "2022-06-07T14:02:09.689689Z",
     "shell.execute_reply.started": "2022-06-07T14:00:20.538254Z"
    },
    "tags": []
   },
   "outputs": [
    {
     "name": "stdout",
     "output_type": "stream",
     "text": [
      "Split 0:\n",
      "  F1 score: 0.8252987366895426\n",
      "  Accuracy: 0.8329907502569374\n",
      "  ROC/AUC score: 0.9081659269331246\n",
      "Split 1:\n",
      "  F1 score: 0.824705762623679\n",
      "  Accuracy: 0.8328194587187393\n",
      "  ROC/AUC score: 0.9096579547490281\n",
      "Split 2:\n",
      "  F1 score: 0.823219996881188\n",
      "  Accuracy: 0.8307639602603631\n",
      "  ROC/AUC score: 0.9105590904406222\n",
      "Split 3:\n",
      "  F1 score: 0.8242859232328297\n",
      "  Accuracy: 0.8341897910243234\n",
      "  ROC/AUC score: 0.9081516731685324\n",
      "Split 4:\n",
      "  F1 score: 0.8300144682903303\n",
      "  Accuracy: 0.8386157272571526\n",
      "  ROC/AUC score: 0.9102304246306236\n",
      "Average F1 score: 0.8213936938869765\n",
      "Average accuracy: 0.8299360765921149\n",
      "Average ROC/AUC score: 0.8715869691201608\n"
     ]
    }
   ],
   "source": [
    "# Let us now compute performance metrics.\n",
    "for i, (X_train, X_val, y_train, y_val) in enumerate(splits):\n",
    "    print(f\"Split {i}:\")\n",
    "    # Train model\n",
    "    model = LogisticRegression(max_iter=1500, C=gs_LR.best_params_['C'])\n",
    "    model.fit(X_train, y_train)\n",
    "    # Predict\n",
    "    y_pred = model.predict(X_val)\n",
    "    y_proba = model.predict_proba(X_val)\n",
    "    # Compute and append f1, accuracy, confusion matrix; \n",
    "    f1_scores.append(f1_score(y_val, y_pred, average='macro'))\n",
    "    acc_scores.append(accuracy_score(y_val, y_pred))\n",
    "    roc_auc_scores.append(roc_auc_score(y_val, y_proba[:, 1]))\n",
    "    print(f\"  F1 score: {f1_scores[-1]}\")\n",
    "    print(f\"  Accuracy: {acc_scores[-1]}\")\n",
    "    print(f\"  ROC/AUC score: {roc_auc_scores[-1]}\")\n",
    "    conf_matrices.append(confusion_matrix(y_val, y_pred))\n",
    "    models.append(model)\n",
    "print(f\"Average F1 score: {np.average(f1_scores)}\")\n",
    "print(f\"Average accuracy: {np.average(acc_scores)}\")\n",
    "print(f\"Average ROC/AUC score: {np.average(roc_auc_scores)}\")"
   ]
  },
  {
   "cell_type": "code",
   "execution_count": null,
   "id": "4e4e2582-ecd8-42bd-a4f9-fa22d8952d7e",
   "metadata": {
    "execution": {
     "iopub.execute_input": "2022-06-07T14:02:09.718727Z",
     "iopub.status.busy": "2022-06-07T14:02:09.718145Z",
     "iopub.status.idle": "2022-06-07T14:02:09.923771Z",
     "shell.execute_reply": "2022-06-07T14:02:09.921086Z",
     "shell.execute_reply.started": "2022-06-07T14:02:09.718673Z"
    },
    "tags": []
   },
   "outputs": [
    {
     "data": {
      "text/plain": [
       "Text(33.0, 0.5, 'True label')"
      ]
     },
     "execution_count": 45,
     "metadata": {},
     "output_type": "execute_result"
    },
    {
     "data": {
      "image/png": "[encoded data removed]",
      "text/plain": [
       "<Figure size 432x288 with 2 Axes>"
      ]
     },
     "metadata": {
      "needs_background": "light"
     },
     "output_type": "display_data"
    }
   ],
   "source": [
    "sns.heatmap(sum(conf_matrices), annot=True, cmap=\"Blues\", fmt=\"d\")\n",
    "plt.xlabel('Predicted label'); plt.ylabel('True label')"
   ]
  },
  {
   "cell_type": "code",
   "execution_count": null,
   "id": "b758038e-a8ac-451a-96d4-b903deb068e2",
   "metadata": {
    "execution": {
     "iopub.execute_input": "2022-06-07T14:02:09.925229Z",
     "iopub.status.busy": "2022-06-07T14:02:09.924967Z",
     "iopub.status.idle": "2022-06-07T14:02:10.035215Z",
     "shell.execute_reply": "2022-06-07T14:02:10.034543Z",
     "shell.execute_reply.started": "2022-06-07T14:02:09.925199Z"
    },
    "tags": []
   },
   "outputs": [
    {
     "data": {
      "text/plain": [
       "Text(33.0, 0.5, 'True label')"
      ]
     },
     "execution_count": 46,
     "metadata": {},
     "output_type": "execute_result"
    },
    {
     "data": {
      "image/png": "[encoded data removed]",
      "text/plain": [
       "<Figure size 432x288 with 2 Axes>"
      ]
     },
     "metadata": {
      "needs_background": "light"
     },
     "output_type": "display_data"
    }
   ],
   "source": [
    "# With percentages instead\n",
    "sns.heatmap(sum(conf_matrices)/np.sum(sum(conf_matrices)), \n",
    "            annot=True, cmap=\"Blues\", fmt=\".2%\")\n",
    "plt.xlabel('Predicted label'); plt.ylabel('True label')"
   ]
  },
  {
   "cell_type": "code",
   "execution_count": null,
   "id": "4781d738-e7ab-42e1-b9a7-444451761815",
   "metadata": {
    "execution": {
     "iopub.execute_input": "2022-06-07T14:02:10.036368Z",
     "iopub.status.busy": "2022-06-07T14:02:10.036135Z",
     "iopub.status.idle": "2022-06-07T14:02:33.855160Z",
     "shell.execute_reply": "2022-06-07T14:02:33.851729Z",
     "shell.execute_reply.started": "2022-06-07T14:02:10.036349Z"
    },
    "tags": []
   },
   "outputs": [
    {
     "data": {
      "text/plain": [
       "LogisticRegression(C=5.011872336272722, max_iter=1500)"
      ]
     },
     "execution_count": 47,
     "metadata": {},
     "output_type": "execute_result"
    }
   ],
   "source": [
    "# Training on a new 80-20 split to draw ROC curve\n",
    "X_train, X_val, y_train, y_val = train_test_split(X, y, test_size=0.2)\n",
    "X_train.reset_index(drop=True, inplace=True)\n",
    "y_train.reset_index(drop=True, inplace=True)\n",
    "X_val.reset_index(drop=True, inplace=True)\n",
    "y_val.reset_index(drop=True, inplace=True)\n",
    "model = LogisticRegression(max_iter=1500, C=gs_LR.best_params_['C'])\n",
    "model.fit(X_train, y_train)"
   ]
  },
  {
   "cell_type": "code",
   "execution_count": null,
   "id": "63d04764-e486-4e7c-ab9d-c9d0ffcd8f0f",
   "metadata": {
    "execution": {
     "iopub.execute_input": "2022-06-07T14:02:33.864647Z",
     "iopub.status.busy": "2022-06-07T14:02:33.863932Z",
     "iopub.status.idle": "2022-06-07T14:02:34.297214Z",
     "shell.execute_reply": "2022-06-07T14:02:34.296055Z",
     "shell.execute_reply.started": "2022-06-07T14:02:33.864593Z"
    },
    "tags": []
   },
   "outputs": [
    {
     "data": {
      "text/plain": [
       "[<matplotlib.lines.Line2D at 0x175a458b0>]"
      ]
     },
     "execution_count": 48,
     "metadata": {},
     "output_type": "execute_result"
    },
    {
     "data": {
      "image/png": "[encoded data removed]",
      "text/plain": [
       "<Figure size 432x288 with 1 Axes>"
      ]
     },
     "metadata": {
      "needs_background": "light"
     },
     "output_type": "display_data"
    }
   ],
   "source": [
    "# Display ROC curve\n",
    "RocCurveDisplay.from_predictions(y_val, model.predict_proba(X_val)[:, 1], color='orange')\n",
    "plt.xlim([0, 1]); plt.ylim([0, 1.05])\n",
    "plt.plot([0, 1], [0, 1], 'k--')"
   ]
  },
  {
   "cell_type": "markdown",
   "id": "13bbaf42-f435-4fb7-9dbe-e6cde73d9fcd",
   "metadata": {},
   "source": [
    "## Decision Tree Classifier"
   ]
  },
  {
   "cell_type": "code",
   "execution_count": null,
   "id": "c5be557d-0c41-4ce1-9d3c-22d1ad46c872",
   "metadata": {
    "execution": {
     "iopub.execute_input": "2022-06-07T14:02:34.299562Z",
     "iopub.status.busy": "2022-06-07T14:02:34.298889Z",
     "iopub.status.idle": "2022-06-07T14:05:29.658750Z",
     "shell.execute_reply": "2022-06-07T14:05:29.658414Z",
     "shell.execute_reply.started": "2022-06-07T14:02:34.299538Z"
    },
    "tags": []
   },
   "outputs": [
    {
     "name": "stdout",
     "output_type": "stream",
     "text": [
      "Fitting 3 folds for each of 10 candidates, totalling 30 fits\n",
      "[CV 1/3] END ...criterion=entropy, max_depth=40;, score=0.669 total time=   4.8s\n",
      "[CV 2/3] END ...criterion=entropy, max_depth=40;, score=0.694 total time=   4.4s\n",
      "[CV 3/3] END ...criterion=entropy, max_depth=40;, score=0.688 total time=   4.4s\n",
      "[CV 1/3] END ...criterion=entropy, max_depth=52;, score=0.664 total time=   4.8s\n",
      "[CV 2/3] END ...criterion=entropy, max_depth=52;, score=0.661 total time=   5.1s\n",
      "[CV 3/3] END ...criterion=entropy, max_depth=52;, score=0.691 total time=   7.4s\n",
      "[CV 1/3] END ...criterion=entropy, max_depth=64;, score=0.671 total time=   5.8s\n",
      "[CV 2/3] END ...criterion=entropy, max_depth=64;, score=0.670 total time=   5.7s\n",
      "[CV 3/3] END ...criterion=entropy, max_depth=64;, score=0.687 total time=   5.9s\n",
      "[CV 1/3] END ...criterion=entropy, max_depth=76;, score=0.670 total time=   5.5s\n",
      "[CV 2/3] END ...criterion=entropy, max_depth=76;, score=0.672 total time=   6.1s\n",
      "[CV 3/3] END ...criterion=entropy, max_depth=76;, score=0.682 total time=   5.7s\n",
      "[CV 1/3] END ...criterion=entropy, max_depth=88;, score=0.666 total time=   5.3s\n",
      "[CV 2/3] END ...criterion=entropy, max_depth=88;, score=0.672 total time=   5.7s\n",
      "[CV 3/3] END ...criterion=entropy, max_depth=88;, score=0.684 total time=   6.4s\n",
      "[CV 1/3] END ......criterion=gini, max_depth=40;, score=0.668 total time=   4.4s\n",
      "[CV 2/3] END ......criterion=gini, max_depth=40;, score=0.698 total time=   4.5s\n",
      "[CV 3/3] END ......criterion=gini, max_depth=40;, score=0.696 total time=   4.7s\n",
      "[CV 1/3] END ......criterion=gini, max_depth=52;, score=0.665 total time=   4.8s\n",
      "[CV 2/3] END ......criterion=gini, max_depth=52;, score=0.694 total time=   5.2s\n",
      "[CV 3/3] END ......criterion=gini, max_depth=52;, score=0.700 total time=   5.3s\n",
      "[CV 1/3] END ......criterion=gini, max_depth=64;, score=0.672 total time=   5.4s\n",
      "[CV 2/3] END ......criterion=gini, max_depth=64;, score=0.696 total time=   5.9s\n",
      "[CV 3/3] END ......criterion=gini, max_depth=64;, score=0.680 total time=   6.8s\n",
      "[CV 1/3] END ......criterion=gini, max_depth=76;, score=0.662 total time=   5.7s\n",
      "[CV 2/3] END ......criterion=gini, max_depth=76;, score=0.664 total time=   6.4s\n",
      "[CV 3/3] END ......criterion=gini, max_depth=76;, score=0.691 total time=   6.1s\n",
      "[CV 1/3] END ......criterion=gini, max_depth=88;, score=0.666 total time=   5.9s\n",
      "[CV 2/3] END ......criterion=gini, max_depth=88;, score=0.670 total time=   6.7s\n",
      "[CV 3/3] END ......criterion=gini, max_depth=88;, score=0.690 total time=   6.8s\n"
     ]
    },
    {
     "data": {
      "text/plain": [
       "{'criterion': 'gini', 'max_depth': 40}"
      ]
     },
     "execution_count": 49,
     "metadata": {},
     "output_type": "execute_result"
    }
   ],
   "source": [
    "# Hyperparameter selection on one split\n",
    "X_train, X_val, y_train, y_val = splits[0]\n",
    "gs_cls = DecisionTreeClassifier()\n",
    "params_DT = {'criterion': ['entropy','gini'], 'max_depth': np.arange(40, 100, 12)}\n",
    "gs_DT = GridSearchCV(estimator=gs_cls, param_grid=params_DT, cv=3, verbose=3, scoring='f1_macro')\n",
    "gs_DT.fit(X_train, y_train)\n",
    "gs_DT.best_params_"
   ]
  },
  {
   "cell_type": "code",
   "execution_count": null,
   "id": "5ae95aca-6442-47fb-b51b-98fcb68ddd66",
   "metadata": {
    "execution": {
     "iopub.execute_input": "2022-06-07T14:05:29.659378Z",
     "iopub.status.busy": "2022-06-07T14:05:29.659305Z",
     "iopub.status.idle": "2022-06-07T14:06:07.201574Z",
     "shell.execute_reply": "2022-06-07T14:06:07.200953Z",
     "shell.execute_reply.started": "2022-06-07T14:05:29.659369Z"
    },
    "tags": []
   },
   "outputs": [
    {
     "name": "stdout",
     "output_type": "stream",
     "text": [
      "Split 0:\n",
      "  F1 score: 0.712787126555376\n",
      "  Accuracy: 0.7166837958204865\n",
      "  ROC/AUC score: 0.7363283136420002\n",
      "Split 1:\n",
      "  F1 score: 0.6995770711724503\n",
      "  Accuracy: 0.7045220966084276\n",
      "  ROC/AUC score: 0.7197773885550773\n",
      "Split 2:\n",
      "  F1 score: 0.6930866541693375\n",
      "  Accuracy: 0.697499143542309\n",
      "  ROC/AUC score: 0.7115494006968515\n",
      "Split 3:\n",
      "  F1 score: 0.6986868581872935\n",
      "  Accuracy: 0.7057211373758137\n",
      "  ROC/AUC score: 0.7191704975397464\n",
      "Split 4:\n",
      "  F1 score: 0.7111411387475473\n",
      "  Accuracy: 0.7166352578379305\n",
      "  ROC/AUC score: 0.733978614917399\n",
      "Average F1 score: 0.781947719180118\n",
      "Average accuracy: 0.7893614798070744\n",
      "Average ROC/AUC score: 0.822444927103512\n"
     ]
    }
   ],
   "source": [
    "# Let us now compute performance metrics.\n",
    "for i, (X_train, X_val, y_train, y_val) in enumerate(splits):\n",
    "    print(f\"Split {i}:\")\n",
    "    # Train model\n",
    "    model = DecisionTreeClassifier(**gs_DT.best_params_)\n",
    "    model.fit(X_train, y_train)\n",
    "    # Predict\n",
    "    y_pred = model.predict(X_val)\n",
    "    y_proba = model.predict_proba(X_val)\n",
    "    # Compute and append f1, accuracy, confusion matrix; \n",
    "    f1_scores.append(f1_score(y_val, y_pred, average='macro'))\n",
    "    acc_scores.append(accuracy_score(y_val, y_pred))\n",
    "    roc_auc_scores.append(roc_auc_score(y_val, y_proba[:, 1]))\n",
    "    print(f\"  F1 score: {f1_scores[-1]}\")\n",
    "    print(f\"  Accuracy: {acc_scores[-1]}\")\n",
    "    print(f\"  ROC/AUC score: {roc_auc_scores[-1]}\")\n",
    "    conf_matrices.append(confusion_matrix(y_val, y_pred))\n",
    "    models.append(model)\n",
    "print(f\"Average F1 score: {np.average(f1_scores)}\")\n",
    "print(f\"Average accuracy: {np.average(acc_scores)}\")\n",
    "print(f\"Average ROC/AUC score: {np.average(roc_auc_scores)}\")"
   ]
  },
  {
   "cell_type": "code",
   "execution_count": null,
   "id": "aaa88fce-2cd1-4ce5-b089-38836be22d36",
   "metadata": {
    "execution": {
     "iopub.execute_input": "2022-06-07T14:06:07.202997Z",
     "iopub.status.busy": "2022-06-07T14:06:07.202841Z",
     "iopub.status.idle": "2022-06-07T14:06:07.275620Z",
     "shell.execute_reply": "2022-06-07T14:06:07.275214Z",
     "shell.execute_reply.started": "2022-06-07T14:06:07.202981Z"
    },
    "tags": []
   },
   "outputs": [
    {
     "data": {
      "text/plain": [
       "Text(33.0, 0.5, 'True label')"
      ]
     },
     "execution_count": 51,
     "metadata": {},
     "output_type": "execute_result"
    },
    {
     "data": {
      "image/png": "[encoded data removed]",
      "text/plain": [
       "<Figure size 432x288 with 2 Axes>"
      ]
     },
     "metadata": {
      "needs_background": "light"
     },
     "output_type": "display_data"
    }
   ],
   "source": [
    "sns.heatmap(sum(conf_matrices), annot=True, cmap=\"Blues\", fmt=\"d\")\n",
    "plt.xlabel('Predicted label'); plt.ylabel('True label')"
   ]
  },
  {
   "cell_type": "code",
   "execution_count": null,
   "id": "b574df8b-e7a1-423e-9493-39f583aa23ce",
   "metadata": {
    "execution": {
     "iopub.execute_input": "2022-06-07T14:06:07.276538Z",
     "iopub.status.busy": "2022-06-07T14:06:07.276385Z",
     "iopub.status.idle": "2022-06-07T14:06:07.355933Z",
     "shell.execute_reply": "2022-06-07T14:06:07.355461Z",
     "shell.execute_reply.started": "2022-06-07T14:06:07.276526Z"
    },
    "tags": []
   },
   "outputs": [
    {
     "data": {
      "text/plain": [
       "Text(33.0, 0.5, 'True label')"
      ]
     },
     "execution_count": 52,
     "metadata": {},
     "output_type": "execute_result"
    },
    {
     "data": {
      "image/png": "[encoded data removed]",
      "text/plain": [
       "<Figure size 432x288 with 2 Axes>"
      ]
     },
     "metadata": {
      "needs_background": "light"
     },
     "output_type": "display_data"
    }
   ],
   "source": [
    "# With percentages instead\n",
    "sns.heatmap(sum(conf_matrices)/np.sum(sum(conf_matrices)), \n",
    "            annot=True, cmap=\"Blues\", fmt=\".2%\")\n",
    "plt.xlabel('Predicted label'); plt.ylabel('True label')"
   ]
  },
  {
   "cell_type": "code",
   "execution_count": null,
   "id": "7268a546-c040-411a-bc44-e650857a5ba0",
   "metadata": {
    "execution": {
     "iopub.execute_input": "2022-06-07T14:06:07.356868Z",
     "iopub.status.busy": "2022-06-07T14:06:07.356703Z",
     "iopub.status.idle": "2022-06-07T14:06:15.932994Z",
     "shell.execute_reply": "2022-06-07T14:06:15.932556Z",
     "shell.execute_reply.started": "2022-06-07T14:06:07.356845Z"
    },
    "tags": []
   },
   "outputs": [
    {
     "data": {
      "text/plain": [
       "DecisionTreeClassifier(max_depth=40)"
      ]
     },
     "execution_count": 53,
     "metadata": {},
     "output_type": "execute_result"
    }
   ],
   "source": [
    "# Training on a new 80-20 split to draw ROC curve\n",
    "X_train, X_val, y_train, y_val = train_test_split(X, y, test_size=0.2)\n",
    "X_train.reset_index(drop=True, inplace=True)\n",
    "y_train.reset_index(drop=True, inplace=True)\n",
    "X_val.reset_index(drop=True, inplace=True)\n",
    "y_val.reset_index(drop=True, inplace=True)\n",
    "model = DecisionTreeClassifier(**gs_DT.best_params_)\n",
    "model.fit(X_train, y_train)"
   ]
  },
  {
   "cell_type": "code",
   "execution_count": null,
   "id": "4be999d4-c93a-4af6-866a-03edef69bfff",
   "metadata": {
    "execution": {
     "iopub.execute_input": "2022-06-07T14:06:15.933567Z",
     "iopub.status.busy": "2022-06-07T14:06:15.933505Z",
     "iopub.status.idle": "2022-06-07T14:06:16.202949Z",
     "shell.execute_reply": "2022-06-07T14:06:16.202509Z",
     "shell.execute_reply.started": "2022-06-07T14:06:15.933557Z"
    },
    "tags": []
   },
   "outputs": [
    {
     "data": {
      "text/plain": [
       "[<matplotlib.lines.Line2D at 0x281b72ee0>]"
      ]
     },
     "execution_count": 54,
     "metadata": {},
     "output_type": "execute_result"
    },
    {
     "data": {
      "image/png": "[encoded data removed]",
      "text/plain": [
       "<Figure size 432x288 with 1 Axes>"
      ]
     },
     "metadata": {
      "needs_background": "light"
     },
     "output_type": "display_data"
    }
   ],
   "source": [
    "# Display ROC curve\n",
    "RocCurveDisplay.from_predictions(y_val, model.predict_proba(X_val)[:, 1], color='orange')\n",
    "plt.xlim([0, 1]); plt.ylim([0, 1.05])\n",
    "plt.plot([0, 1], [0, 1], 'k--')"
   ]
  },
  {
   "cell_type": "markdown",
   "id": "39074c73-6393-46e7-b68b-77c9f77b9d0f",
   "metadata": {},
   "source": [
    "Time to pick the best model, predict on test and save."
   ]
  },
  {
   "cell_type": "code",
   "execution_count": null,
   "id": "5236af74-1ee0-460d-b97c-a4d76115a965",
   "metadata": {
    "execution": {
     "iopub.execute_input": "2022-06-07T14:06:16.210416Z",
     "iopub.status.busy": "2022-06-07T14:06:16.210288Z",
     "iopub.status.idle": "2022-06-07T14:06:40.053132Z",
     "shell.execute_reply": "2022-06-07T14:06:40.045200Z",
     "shell.execute_reply.started": "2022-06-07T14:06:16.210407Z"
    }
   },
   "outputs": [
    {
     "data": {
      "text/plain": [
       "LogisticRegression(C=5.011872336272722, max_iter=1500)"
      ]
     },
     "execution_count": 57,
     "metadata": {},
     "output_type": "execute_result"
    }
   ],
   "source": [
    "model2 = LogisticRegression(C=5.011872336272722, max_iter=1500)\n",
    "model2.fit(X, y)"
   ]
  },
  {
   "cell_type": "code",
   "execution_count": null,
   "id": "a09539a6-ea67-480e-a2be-70e2b25be491",
   "metadata": {
    "execution": {
     "iopub.execute_input": "2022-06-07T14:07:06.489165Z",
     "iopub.status.busy": "2022-06-07T14:07:06.488415Z",
     "iopub.status.idle": "2022-06-07T14:07:06.497475Z",
     "shell.execute_reply": "2022-06-07T14:07:06.494788Z",
     "shell.execute_reply.started": "2022-06-07T14:07:06.489107Z"
    },
    "tags": []
   },
   "outputs": [],
   "source": [
    "# # Extra testing\n",
    "# (X_train, X_val, y_train, y_val) = splits[np.argmax(f1_scores) % 5]\n",
    "# f1_score(y_val, (model2.predict_proba(X_val) >= 0.54)[:, 1].astype(int), average='macro')"
   ]
  },
  {
   "cell_type": "code",
   "execution_count": null,
   "id": "d9a9e832-37a4-4f64-bd38-a5575c51d077",
   "metadata": {
    "execution": {
     "iopub.execute_input": "2022-06-07T14:07:08.561544Z",
     "iopub.status.busy": "2022-06-07T14:07:08.561221Z",
     "iopub.status.idle": "2022-06-07T14:07:10.199181Z",
     "shell.execute_reply": "2022-06-07T14:07:10.198927Z",
     "shell.execute_reply.started": "2022-06-07T14:07:08.561519Z"
    },
    "tags": []
   },
   "outputs": [],
   "source": [
    "# Preprocessing\n",
    "proc_test_df = apply_tfidf(preprocess(test_df), r_vectorizer, s_vectorizer)\n",
    "proc_test_df = pd.DataFrame(scaler.transform(proc_test_df), columns=proc_test_df.columns, index=proc_test_df.index)[relcols]"
   ]
  },
  {
   "cell_type": "code",
   "execution_count": null,
   "id": "c3e12937-e3e7-4983-80d9-7659510459bd",
   "metadata": {
    "execution": {
     "iopub.execute_input": "2022-06-07T14:07:12.762920Z",
     "iopub.status.busy": "2022-06-07T14:07:12.761959Z",
     "iopub.status.idle": "2022-06-07T14:07:12.839908Z",
     "shell.execute_reply": "2022-06-07T14:07:12.839176Z",
     "shell.execute_reply.started": "2022-06-07T14:07:12.762861Z"
    },
    "tags": []
   },
   "outputs": [],
   "source": [
    "# Predict on test and save as .csv\n",
    "proc_test_df['predicted'] = model2.predict(proc_test_df)\n",
    "# proc_test_df['predicted'] = (model2.predict_proba(proc_test_df) >= 0.54)[:, 1].astype(int) # yields better F1 score!\n",
    "proc_test_df = proc_test_df.reset_index()[['index', 'predicted']]\n",
    "proc_test_df.rename(columns={'index': 'id'}).to_csv('task12.csv', index=False)"
   ]
  },
  {
   "cell_type": "markdown",
   "id": "891e3c69-0171-475e-ab5c-678751d5b73b",
   "metadata": {},
   "source": [
    "# Task 1.3"
   ]
  },
  {
   "cell_type": "code",
   "execution_count": null,
   "id": "3740cd82-ad9c-4fc3-bf1e-3d444582551b",
   "metadata": {
    "execution": {
     "iopub.execute_input": "2022-06-07T14:08:04.194130Z",
     "iopub.status.busy": "2022-06-07T14:08:04.193644Z",
     "iopub.status.idle": "2022-06-07T14:08:54.344732Z",
     "shell.execute_reply": "2022-06-07T14:08:54.344066Z",
     "shell.execute_reply.started": "2022-06-07T14:08:04.194085Z"
    },
    "tags": []
   },
   "outputs": [],
   "source": [
    "# Preprocessing of training data\n",
    "proc_training_df = apply_cutoff(preprocess(training_df), 3)\n",
    "\n",
    "# Set cutoff to be the label; define X and y accordingly\n",
    "X = proc_training_df.drop('cutoff', axis=1)\n",
    "y = proc_training_df['cutoff']\n",
    "\n",
    "# Fit TF-IDF vectorizer for 'reviewText' and 'summary' features, creating max. 11500 features.\n",
    "r_vectorizer = TfidfVectorizer(max_features=11500, stop_words='english', ngram_range=(1, 3))\n",
    "s_vectorizer = TfidfVectorizer(max_features=11500, stop_words='english', ngram_range=(1, 3))\n",
    "r_vectorizer.fit(X.reviewText)\n",
    "s_vectorizer.fit(X.summary)\n",
    "\n",
    "# Apply TF-IDF vectorization \n",
    "X = apply_tfidf(X, r_vectorizer, s_vectorizer)\n",
    "\n",
    "# Apply robust scaling\n",
    "scaler = preprocessing.RobustScaler()\n",
    "X = pd.DataFrame(scaler.fit_transform(X), columns=X.columns, index=X.index)\n",
    "\n",
    "# Let us reduce the number of features by eliminating the statistically least correlated ones.\n",
    "relcols = X.columns[abs(X.corrwith(y)) > 0.01]\n",
    "X = X[relcols]\n",
    "\n",
    "# 5-fold cross validation\n",
    "kf = KFold(n_splits=5, shuffle=True, random_state=42)\n",
    "splits = []\n",
    "for train_idx, val_idx in kf.split(X, y):\n",
    "    # Apply split\n",
    "    X_train, X_val = X.iloc[train_idx], X.iloc[val_idx]\n",
    "    y_train, y_val = y.iloc[train_idx], y.iloc[val_idx]\n",
    "    \n",
    "    # Reset indices\n",
    "    X_train.reset_index(drop=True, inplace=True)\n",
    "    y_train.reset_index(drop=True, inplace=True)\n",
    "    X_val.reset_index(drop=True, inplace=True)\n",
    "    y_val.reset_index(drop=True, inplace=True)\n",
    "    splits.append((X_train, X_val, y_train, y_val))\n",
    "f1_scores, acc_scores, roc_auc_scores, conf_matrices, models = [], [], [], [], []"
   ]
  },
  {
   "cell_type": "markdown",
   "id": "0e78a33a-87db-44c1-967d-e2781d609f81",
   "metadata": {},
   "source": [
    "## Gaussian NB"
   ]
  },
  {
   "cell_type": "code",
   "execution_count": null,
   "id": "2b829258-a65b-495b-b6eb-75605bac68c4",
   "metadata": {
    "execution": {
     "iopub.execute_input": "2022-06-07T14:08:54.346476Z",
     "iopub.status.busy": "2022-06-07T14:08:54.346340Z",
     "iopub.status.idle": "2022-06-07T14:09:29.631317Z",
     "shell.execute_reply": "2022-06-07T14:09:29.630949Z",
     "shell.execute_reply.started": "2022-06-07T14:08:54.346462Z"
    },
    "tags": []
   },
   "outputs": [
    {
     "name": "stdout",
     "output_type": "stream",
     "text": [
      "Fitting 3 folds for each of 10 candidates, totalling 30 fits\n",
      "[CV 1/3] END ................var_smoothing=0.01;, score=0.768 total time=   1.5s\n",
      "[CV 2/3] END ................var_smoothing=0.01;, score=0.753 total time=   1.2s\n",
      "[CV 3/3] END ................var_smoothing=0.01;, score=0.806 total time=   1.1s\n",
      "[CV 1/3] END var_smoothing=0.0016681005372000592;, score=0.782 total time=   1.1s\n",
      "[CV 2/3] END var_smoothing=0.0016681005372000592;, score=0.791 total time=   1.1s\n",
      "[CV 3/3] END var_smoothing=0.0016681005372000592;, score=0.820 total time=   1.1s\n",
      "[CV 1/3] END var_smoothing=0.0002782559402207126;, score=0.754 total time=   1.1s\n",
      "[CV 2/3] END var_smoothing=0.0002782559402207126;, score=0.790 total time=   1.1s\n",
      "[CV 3/3] END var_smoothing=0.0002782559402207126;, score=0.810 total time=   1.1s\n",
      "[CV 1/3] END var_smoothing=4.641588833612772e-05;, score=0.727 total time=   1.1s\n",
      "[CV 2/3] END var_smoothing=4.641588833612772e-05;, score=0.762 total time=   1.1s\n",
      "[CV 3/3] END var_smoothing=4.641588833612772e-05;, score=0.787 total time=   1.1s\n",
      "[CV 1/3] END var_smoothing=7.742636826811277e-06;, score=0.707 total time=   1.1s\n",
      "[CV 2/3] END var_smoothing=7.742636826811277e-06;, score=0.743 total time=   1.1s\n",
      "[CV 3/3] END var_smoothing=7.742636826811277e-06;, score=0.773 total time=   1.1s\n",
      "[CV 1/3] END var_smoothing=1.2915496650148827e-06;, score=0.689 total time=   1.2s\n",
      "[CV 2/3] END var_smoothing=1.2915496650148827e-06;, score=0.731 total time=   1.1s\n",
      "[CV 3/3] END var_smoothing=1.2915496650148827e-06;, score=0.757 total time=   1.1s\n",
      "[CV 1/3] END var_smoothing=2.1544346900318822e-07;, score=0.681 total time=   1.1s\n",
      "[CV 2/3] END var_smoothing=2.1544346900318822e-07;, score=0.721 total time=   1.1s\n",
      "[CV 3/3] END var_smoothing=2.1544346900318822e-07;, score=0.744 total time=   1.1s\n",
      "[CV 1/3] END var_smoothing=3.593813663804626e-08;, score=0.675 total time=   1.1s\n",
      "[CV 2/3] END var_smoothing=3.593813663804626e-08;, score=0.715 total time=   1.1s\n",
      "[CV 3/3] END var_smoothing=3.593813663804626e-08;, score=0.730 total time=   1.1s\n",
      "[CV 1/3] END var_smoothing=5.994842503189421e-09;, score=0.668 total time=   1.1s\n",
      "[CV 2/3] END var_smoothing=5.994842503189421e-09;, score=0.707 total time=   1.1s\n",
      "[CV 3/3] END var_smoothing=5.994842503189421e-09;, score=0.719 total time=   1.1s\n",
      "[CV 1/3] END ...............var_smoothing=1e-09;, score=0.660 total time=   1.1s\n",
      "[CV 2/3] END ...............var_smoothing=1e-09;, score=0.701 total time=   1.2s\n",
      "[CV 3/3] END ...............var_smoothing=1e-09;, score=0.712 total time=   1.1s\n"
     ]
    },
    {
     "data": {
      "text/plain": [
       "{'var_smoothing': 0.0016681005372000592}"
      ]
     },
     "execution_count": 62,
     "metadata": {},
     "output_type": "execute_result"
    }
   ],
   "source": [
    "# Hyperparameter selection on one split\n",
    "X_train, X_val, y_train, y_val = splits[0]\n",
    "gs_cls = GaussianNB()\n",
    "params_GS = {'var_smoothing': np.logspace(-2, -9, num=10)}\n",
    "gs_GS = GridSearchCV(estimator=gs_cls, param_grid=params_GS, cv=3, verbose=3, scoring='f1_macro')\n",
    "gs_GS.fit(X_train, y_train)\n",
    "gs_GS.best_params_"
   ]
  },
  {
   "cell_type": "code",
   "execution_count": null,
   "id": "79d30ed7-88f8-4e5f-bf6c-a4e92016b309",
   "metadata": {
    "execution": {
     "iopub.execute_input": "2022-06-07T14:09:29.631893Z",
     "iopub.status.busy": "2022-06-07T14:09:29.631827Z",
     "iopub.status.idle": "2022-06-07T14:09:37.944029Z",
     "shell.execute_reply": "2022-06-07T14:09:37.943471Z",
     "shell.execute_reply.started": "2022-06-07T14:09:29.631885Z"
    },
    "tags": []
   },
   "outputs": [
    {
     "name": "stdout",
     "output_type": "stream",
     "text": [
      "Split 0:\n",
      "  F1 score: 0.8391898004477383\n",
      "  Accuracy: 0.8454950325453923\n",
      "  ROC/AUC score: 0.8920614416376393\n",
      "Split 1:\n",
      "  F1 score: 0.8213463929707884\n",
      "  Accuracy: 0.8281945871873929\n",
      "  ROC/AUC score: 0.8794714301417343\n",
      "Split 2:\n",
      "  F1 score: 0.8404802002077143\n",
      "  Accuracy: 0.8468653648509764\n",
      "  ROC/AUC score: 0.8956045481354081\n",
      "Split 3:\n",
      "  F1 score: 0.8252105323324315\n",
      "  Accuracy: 0.8304213771839671\n",
      "  ROC/AUC score: 0.8846840313618264\n",
      "Split 4:\n",
      "  F1 score: 0.815241799342201\n",
      "  Accuracy: 0.821140997087545\n",
      "  ROC/AUC score: 0.8754963861834835\n",
      "Average F1 score: 0.8282937450601746\n",
      "Average accuracy: 0.8344234717710547\n",
      "Average ROC/AUC score: 0.8854635674920184\n"
     ]
    }
   ],
   "source": [
    "# Let us now compute performance metrics.\n",
    "for i, (X_train, X_val, y_train, y_val) in enumerate(splits):\n",
    "    print(f\"Split {i}:\")\n",
    "    # Train model\n",
    "    model = GaussianNB(var_smoothing=gs_GS.best_params_['var_smoothing'])\n",
    "    model.fit(X_train, y_train)\n",
    "    # Predict\n",
    "    y_pred = model.predict(X_val)\n",
    "    y_proba = model.predict_proba(X_val)\n",
    "    # Compute and append f1, accuracy, confusion matrix; \n",
    "    f1_scores.append(f1_score(y_val, y_pred, average='macro'))\n",
    "    acc_scores.append(accuracy_score(y_val, y_pred))\n",
    "    roc_auc_scores.append(roc_auc_score(y_val, y_proba[:, 1]))\n",
    "    print(f\"  F1 score: {f1_scores[-1]}\")\n",
    "    print(f\"  Accuracy: {acc_scores[-1]}\")\n",
    "    print(f\"  ROC/AUC score: {roc_auc_scores[-1]}\")\n",
    "    conf_matrices.append(confusion_matrix(y_val, y_pred))\n",
    "    models.append(model)\n",
    "print(f\"Average F1 score: {np.average(f1_scores)}\")\n",
    "print(f\"Average accuracy: {np.average(acc_scores)}\")\n",
    "print(f\"Average ROC/AUC score: {np.average(roc_auc_scores)}\")"
   ]
  },
  {
   "cell_type": "code",
   "execution_count": null,
   "id": "a1360de5-bf74-4b08-9b83-737788c964a9",
   "metadata": {
    "execution": {
     "iopub.execute_input": "2022-06-07T14:09:37.946185Z",
     "iopub.status.busy": "2022-06-07T14:09:37.946077Z",
     "iopub.status.idle": "2022-06-07T14:09:38.013440Z",
     "shell.execute_reply": "2022-06-07T14:09:38.012932Z",
     "shell.execute_reply.started": "2022-06-07T14:09:37.946176Z"
    },
    "tags": []
   },
   "outputs": [
    {
     "data": {
      "text/plain": [
       "Text(33.0, 0.5, 'True label')"
      ]
     },
     "execution_count": 64,
     "metadata": {},
     "output_type": "execute_result"
    },
    {
     "data": {
      "image/png": "[encoded data removed]",
      "text/plain": [
       "<Figure size 432x288 with 2 Axes>"
      ]
     },
     "metadata": {
      "needs_background": "light"
     },
     "output_type": "display_data"
    }
   ],
   "source": [
    "sns.heatmap(sum(conf_matrices), annot=True, cmap=\"Blues\", fmt=\"d\")\n",
    "plt.xlabel('Predicted label'); plt.ylabel('True label')"
   ]
  },
  {
   "cell_type": "code",
   "execution_count": null,
   "id": "41a8e063-6bb6-44e2-b557-6825172f718a",
   "metadata": {
    "execution": {
     "iopub.execute_input": "2022-06-07T14:09:38.014077Z",
     "iopub.status.busy": "2022-06-07T14:09:38.013993Z",
     "iopub.status.idle": "2022-06-07T14:09:38.075404Z",
     "shell.execute_reply": "2022-06-07T14:09:38.075039Z",
     "shell.execute_reply.started": "2022-06-07T14:09:38.014067Z"
    },
    "tags": []
   },
   "outputs": [
    {
     "data": {
      "text/plain": [
       "Text(33.0, 0.5, 'True label')"
      ]
     },
     "execution_count": 65,
     "metadata": {},
     "output_type": "execute_result"
    },
    {
     "data": {
      "image/png": "[encoded data removed]",
      "text/plain": [
       "<Figure size 432x288 with 2 Axes>"
      ]
     },
     "metadata": {
      "needs_background": "light"
     },
     "output_type": "display_data"
    }
   ],
   "source": [
    "# With percentages instead\n",
    "sns.heatmap(sum(conf_matrices)/np.sum(sum(conf_matrices)), \n",
    "            annot=True, cmap=\"Blues\", fmt=\".2%\")\n",
    "plt.xlabel('Predicted label'); plt.ylabel('True label')"
   ]
  },
  {
   "cell_type": "code",
   "execution_count": null,
   "id": "1e230194-94e6-4f34-8748-099b0e2ba519",
   "metadata": {
    "execution": {
     "iopub.execute_input": "2022-06-07T14:09:38.076105Z",
     "iopub.status.busy": "2022-06-07T14:09:38.076038Z",
     "iopub.status.idle": "2022-06-07T14:09:40.120132Z",
     "shell.execute_reply": "2022-06-07T14:09:40.119775Z",
     "shell.execute_reply.started": "2022-06-07T14:09:38.076096Z"
    },
    "tags": []
   },
   "outputs": [
    {
     "data": {
      "text/plain": [
       "GaussianNB(var_smoothing=0.0016681005372000592)"
      ]
     },
     "execution_count": 66,
     "metadata": {},
     "output_type": "execute_result"
    }
   ],
   "source": [
    "# Training on a new 80-20 split to draw ROC curve\n",
    "X_train, X_val, y_train, y_val = train_test_split(X, y, test_size=0.2)\n",
    "X_train.reset_index(drop=True, inplace=True)\n",
    "y_train.reset_index(drop=True, inplace=True)\n",
    "X_val.reset_index(drop=True, inplace=True)\n",
    "y_val.reset_index(drop=True, inplace=True)\n",
    "model = GaussianNB(var_smoothing=gs_GS.best_params_['var_smoothing'])\n",
    "model.fit(X_train, y_train)"
   ]
  },
  {
   "cell_type": "code",
   "execution_count": null,
   "id": "bb9477f4-d3e9-47ce-8d6a-772473f07507",
   "metadata": {
    "execution": {
     "iopub.execute_input": "2022-06-07T14:09:40.120996Z",
     "iopub.status.busy": "2022-06-07T14:09:40.120863Z",
     "iopub.status.idle": "2022-06-07T14:09:40.399445Z",
     "shell.execute_reply": "2022-06-07T14:09:40.398957Z",
     "shell.execute_reply.started": "2022-06-07T14:09:40.120981Z"
    },
    "tags": []
   },
   "outputs": [
    {
     "data": {
      "text/plain": [
       "[<matplotlib.lines.Line2D at 0x178999ee0>]"
      ]
     },
     "execution_count": 67,
     "metadata": {},
     "output_type": "execute_result"
    },
    {
     "data": {
      "image/png": "[encoded data removed]",
      "text/plain": [
       "<Figure size 432x288 with 1 Axes>"
      ]
     },
     "metadata": {
      "needs_background": "light"
     },
     "output_type": "display_data"
    }
   ],
   "source": [
    "# Display ROC curve\n",
    "RocCurveDisplay.from_predictions(y_val, model.predict_proba(X_val)[:, 1], color='orange')\n",
    "plt.xlim([0, 1]); plt.ylim([0, 1.05])\n",
    "plt.plot([0, 1], [0, 1], 'k--')"
   ]
  },
  {
   "cell_type": "markdown",
   "id": "06e4bcf1-e5aa-4887-b0f9-7372fd2731b3",
   "metadata": {},
   "source": [
    "## Logistic Regression"
   ]
  },
  {
   "cell_type": "code",
   "execution_count": null,
   "id": "b38d2aa5-8a82-4dc8-a53a-c1b2d6af028b",
   "metadata": {
    "execution": {
     "iopub.execute_input": "2022-06-07T14:09:40.399973Z",
     "iopub.status.busy": "2022-06-07T14:09:40.399897Z",
     "iopub.status.idle": "2022-06-07T14:16:27.879894Z",
     "shell.execute_reply": "2022-06-07T14:16:27.878090Z",
     "shell.execute_reply.started": "2022-06-07T14:09:40.399965Z"
    },
    "tags": []
   },
   "outputs": [
    {
     "name": "stdout",
     "output_type": "stream",
     "text": [
      "Fitting 3 folds for each of 7 candidates, totalling 21 fits\n",
      "[CV 1/3] END ...............C=5.011872336272722;, score=0.753 total time=  13.4s\n",
      "[CV 2/3] END ...............C=5.011872336272722;, score=0.799 total time=  13.8s\n",
      "[CV 3/3] END ...............C=5.011872336272722;, score=0.814 total time=  12.9s\n",
      "[CV 1/3] END ...............C=5.843414133735175;, score=0.754 total time=  13.9s\n",
      "[CV 2/3] END ...............C=5.843414133735175;, score=0.798 total time=  15.7s\n",
      "[CV 3/3] END ...............C=5.843414133735175;, score=0.814 total time=  16.1s\n",
      "[CV 1/3] END ...............C=6.812920690579613;, score=0.755 total time=  16.5s\n",
      "[CV 2/3] END ...............C=6.812920690579613;, score=0.798 total time=  17.8s\n",
      "[CV 3/3] END ...............C=6.812920690579613;, score=0.813 total time=  18.9s\n",
      "[CV 1/3] END ...............C=7.943282347242816;, score=0.755 total time=  19.2s\n",
      "[CV 2/3] END ...............C=7.943282347242816;, score=0.799 total time=  18.5s\n",
      "[CV 3/3] END ...............C=7.943282347242816;, score=0.813 total time=  17.9s\n",
      "[CV 1/3] END ...............C=9.261187281287938;, score=0.754 total time=  18.9s\n",
      "[CV 2/3] END ...............C=9.261187281287938;, score=0.797 total time=  22.0s\n",
      "[CV 3/3] END ...............C=9.261187281287938;, score=0.812 total time=  20.5s\n",
      "[CV 1/3] END ................C=10.7977516232771;, score=0.754 total time=  20.0s\n",
      "[CV 2/3] END ................C=10.7977516232771;, score=0.796 total time=  20.1s\n",
      "[CV 3/3] END ................C=10.7977516232771;, score=0.811 total time=  22.3s\n",
      "[CV 1/3] END ..............C=12.589254117941675;, score=0.753 total time=  22.5s\n",
      "[CV 2/3] END ..............C=12.589254117941675;, score=0.792 total time=  21.0s\n",
      "[CV 3/3] END ..............C=12.589254117941675;, score=0.809 total time=  22.1s\n"
     ]
    },
    {
     "data": {
      "text/plain": [
       "{'C': 5.011872336272722}"
      ]
     },
     "execution_count": 68,
     "metadata": {},
     "output_type": "execute_result"
    }
   ],
   "source": [
    "# Hyperparameter selection on one split\n",
    "X_train, X_val, y_train, y_val = splits[0]\n",
    "gs_cls = LogisticRegression(max_iter=1500)\n",
    "params_LR = {'C': np.logspace(0.7, 1.1, num=7)}\n",
    "gs_LR = GridSearchCV(estimator=gs_cls, param_grid=params_LR, cv=3, verbose=3, scoring='f1_macro')\n",
    "gs_LR.fit(X_train, y_train)\n",
    "gs_LR.best_params_"
   ]
  },
  {
   "cell_type": "code",
   "execution_count": null,
   "id": "39e9030f-1f6c-437e-8f7d-468e7862aadf",
   "metadata": {
    "execution": {
     "iopub.execute_input": "2022-06-07T14:16:27.888613Z",
     "iopub.status.busy": "2022-06-07T14:16:27.888209Z",
     "iopub.status.idle": "2022-06-07T14:18:30.918905Z",
     "shell.execute_reply": "2022-06-07T14:18:30.896665Z",
     "shell.execute_reply.started": "2022-06-07T14:16:27.888587Z"
    },
    "tags": []
   },
   "outputs": [
    {
     "name": "stdout",
     "output_type": "stream",
     "text": [
      "Split 0:\n",
      "  F1 score: 0.8383809865374449\n",
      "  Accuracy: 0.8480644056183625\n",
      "  ROC/AUC score: 0.9215711581483395\n",
      "Split 1:\n",
      "  F1 score: 0.825373750426246\n",
      "  Accuracy: 0.8355601233299075\n",
      "  ROC/AUC score: 0.9139299349361746\n",
      "Split 2:\n",
      "  F1 score: 0.839601733357366\n",
      "  Accuracy: 0.8496060294621446\n",
      "  ROC/AUC score: 0.9240344841731486\n",
      "Split 3:\n",
      "  F1 score: 0.8341693552617145\n",
      "  Accuracy: 0.842583076396026\n",
      "  ROC/AUC score: 0.9199483970447963\n",
      "Split 4:\n",
      "  F1 score: 0.8283296342185483\n",
      "  Accuracy: 0.8377591228370739\n",
      "  ROC/AUC score: 0.9162790997163157\n",
      "Average F1 score: 0.8307324185102193\n",
      "Average accuracy: 0.8385690116498787\n",
      "Average ROC/AUC score: 0.9023080911478868\n"
     ]
    }
   ],
   "source": [
    "# Let us now compute performance metrics.\n",
    "for i, (X_train, X_val, y_train, y_val) in enumerate(splits):\n",
    "    print(f\"Split {i}:\")\n",
    "    # Train model\n",
    "    model = LogisticRegression(max_iter=1500, C=gs_LR.best_params_['C'])\n",
    "    model.fit(X_train, y_train)\n",
    "    # Predict\n",
    "    y_pred = model.predict(X_val)\n",
    "    y_proba = model.predict_proba(X_val)\n",
    "    # Compute and append f1, accuracy, confusion matrix; \n",
    "    f1_scores.append(f1_score(y_val, y_pred, average='macro'))\n",
    "    acc_scores.append(accuracy_score(y_val, y_pred))\n",
    "    roc_auc_scores.append(roc_auc_score(y_val, y_proba[:, 1]))\n",
    "    print(f\"  F1 score: {f1_scores[-1]}\")\n",
    "    print(f\"  Accuracy: {acc_scores[-1]}\")\n",
    "    print(f\"  ROC/AUC score: {roc_auc_scores[-1]}\")\n",
    "    conf_matrices.append(confusion_matrix(y_val, y_pred))\n",
    "    models.append(model)\n",
    "print(f\"Average F1 score: {np.average(f1_scores)}\")\n",
    "print(f\"Average accuracy: {np.average(acc_scores)}\")\n",
    "print(f\"Average ROC/AUC score: {np.average(roc_auc_scores)}\")"
   ]
  },
  {
   "cell_type": "code",
   "execution_count": null,
   "id": "2e98ab77-8332-43ac-b797-27926695b015",
   "metadata": {
    "execution": {
     "iopub.execute_input": "2022-06-07T14:18:30.981215Z",
     "iopub.status.busy": "2022-06-07T14:18:30.980388Z",
     "iopub.status.idle": "2022-06-07T14:18:31.197195Z",
     "shell.execute_reply": "2022-06-07T14:18:31.194695Z",
     "shell.execute_reply.started": "2022-06-07T14:18:30.981141Z"
    },
    "tags": []
   },
   "outputs": [
    {
     "data": {
      "text/plain": [
       "Text(33.0, 0.5, 'True label')"
      ]
     },
     "execution_count": 70,
     "metadata": {},
     "output_type": "execute_result"
    },
    {
     "data": {
      "image/png": "[encoded data removed]",
      "text/plain": [
       "<Figure size 432x288 with 2 Axes>"
      ]
     },
     "metadata": {
      "needs_background": "light"
     },
     "output_type": "display_data"
    }
   ],
   "source": [
    "sns.heatmap(sum(conf_matrices), annot=True, cmap=\"Blues\", fmt=\"d\")\n",
    "plt.xlabel('Predicted label'); plt.ylabel('True label')"
   ]
  },
  {
   "cell_type": "code",
   "execution_count": null,
   "id": "1fd2a2c7-dd49-42d8-adf0-3c58e967bbf7",
   "metadata": {
    "execution": {
     "iopub.execute_input": "2022-06-07T14:18:31.198346Z",
     "iopub.status.busy": "2022-06-07T14:18:31.198144Z",
     "iopub.status.idle": "2022-06-07T14:18:31.350156Z",
     "shell.execute_reply": "2022-06-07T14:18:31.349471Z",
     "shell.execute_reply.started": "2022-06-07T14:18:31.198325Z"
    },
    "tags": []
   },
   "outputs": [
    {
     "data": {
      "text/plain": [
       "Text(33.0, 0.5, 'True label')"
      ]
     },
     "execution_count": 71,
     "metadata": {},
     "output_type": "execute_result"
    },
    {
     "data": {
      "image/png": "[encoded data removed]",
      "text/plain": [
       "<Figure size 432x288 with 2 Axes>"
      ]
     },
     "metadata": {
      "needs_background": "light"
     },
     "output_type": "display_data"
    }
   ],
   "source": [
    "# With percentages instead\n",
    "sns.heatmap(sum(conf_matrices)/np.sum(sum(conf_matrices)), \n",
    "            annot=True, cmap=\"Blues\", fmt=\".2%\")\n",
    "plt.xlabel('Predicted label'); plt.ylabel('True label')"
   ]
  },
  {
   "cell_type": "code",
   "execution_count": null,
   "id": "70f01499-7c63-4c00-9db0-8e03b7b9b5e3",
   "metadata": {
    "execution": {
     "iopub.execute_input": "2022-06-07T14:18:31.351453Z",
     "iopub.status.busy": "2022-06-07T14:18:31.351283Z",
     "iopub.status.idle": "2022-06-07T14:18:57.364346Z",
     "shell.execute_reply": "2022-06-07T14:18:57.363069Z",
     "shell.execute_reply.started": "2022-06-07T14:18:31.351432Z"
    },
    "tags": []
   },
   "outputs": [
    {
     "data": {
      "text/plain": [
       "LogisticRegression(C=5.011872336272722, max_iter=1500)"
      ]
     },
     "execution_count": 72,
     "metadata": {},
     "output_type": "execute_result"
    }
   ],
   "source": [
    "# Training on a new 80-20 split to draw ROC curve\n",
    "X_train, X_val, y_train, y_val = train_test_split(X, y, test_size=0.2)\n",
    "X_train.reset_index(drop=True, inplace=True)\n",
    "y_train.reset_index(drop=True, inplace=True)\n",
    "X_val.reset_index(drop=True, inplace=True)\n",
    "y_val.reset_index(drop=True, inplace=True)\n",
    "model = LogisticRegression(max_iter=1500, C=gs_LR.best_params_['C'])\n",
    "model.fit(X_train, y_train)"
   ]
  },
  {
   "cell_type": "code",
   "execution_count": null,
   "id": "e0150e4b-533c-4fd3-a495-2d4291237661",
   "metadata": {
    "execution": {
     "iopub.execute_input": "2022-06-07T14:18:57.366660Z",
     "iopub.status.busy": "2022-06-07T14:18:57.365752Z",
     "iopub.status.idle": "2022-06-07T14:18:57.778806Z",
     "shell.execute_reply": "2022-06-07T14:18:57.778087Z",
     "shell.execute_reply.started": "2022-06-07T14:18:57.366625Z"
    },
    "tags": []
   },
   "outputs": [
    {
     "data": {
      "text/plain": [
       "[<matplotlib.lines.Line2D at 0x17e3695b0>]"
      ]
     },
     "execution_count": 73,
     "metadata": {},
     "output_type": "execute_result"
    },
    {
     "data": {
      "image/png": "[encoded data removed]",
      "text/plain": [
       "<Figure size 432x288 with 1 Axes>"
      ]
     },
     "metadata": {
      "needs_background": "light"
     },
     "output_type": "display_data"
    }
   ],
   "source": [
    "# Display ROC curve\n",
    "RocCurveDisplay.from_predictions(y_val, model.predict_proba(X_val)[:, 1], color='orange')\n",
    "plt.xlim([0, 1]); plt.ylim([0, 1.05])\n",
    "plt.plot([0, 1], [0, 1], 'k--')"
   ]
  },
  {
   "cell_type": "markdown",
   "id": "5edaac24-8c53-46b3-b620-d5d9ccc85c91",
   "metadata": {},
   "source": [
    "## Decision Tree Classifier"
   ]
  },
  {
   "cell_type": "code",
   "execution_count": null,
   "id": "3951113d-c9b3-474d-a8c0-df7089143847",
   "metadata": {
    "execution": {
     "iopub.execute_input": "2022-06-07T14:18:57.791463Z",
     "iopub.status.busy": "2022-06-07T14:18:57.780893Z",
     "iopub.status.idle": "2022-06-07T14:22:06.824061Z",
     "shell.execute_reply": "2022-06-07T14:22:06.823743Z",
     "shell.execute_reply.started": "2022-06-07T14:18:57.791429Z"
    },
    "tags": []
   },
   "outputs": [
    {
     "name": "stdout",
     "output_type": "stream",
     "text": [
      "Fitting 3 folds for each of 10 candidates, totalling 30 fits\n",
      "[CV 1/3] END ...criterion=entropy, max_depth=40;, score=0.642 total time=   4.7s\n",
      "[CV 2/3] END ...criterion=entropy, max_depth=40;, score=0.687 total time=   4.7s\n",
      "[CV 3/3] END ...criterion=entropy, max_depth=40;, score=0.681 total time=   5.2s\n",
      "[CV 1/3] END ...criterion=entropy, max_depth=52;, score=0.649 total time=   5.0s\n",
      "[CV 2/3] END ...criterion=entropy, max_depth=52;, score=0.691 total time=   5.6s\n",
      "[CV 3/3] END ...criterion=entropy, max_depth=52;, score=0.678 total time=   5.7s\n",
      "[CV 1/3] END ...criterion=entropy, max_depth=64;, score=0.649 total time=   5.5s\n",
      "[CV 2/3] END ...criterion=entropy, max_depth=64;, score=0.692 total time=   6.2s\n",
      "[CV 3/3] END ...criterion=entropy, max_depth=64;, score=0.684 total time=   5.9s\n",
      "[CV 1/3] END ...criterion=entropy, max_depth=76;, score=0.651 total time=   5.7s\n",
      "[CV 2/3] END ...criterion=entropy, max_depth=76;, score=0.690 total time=   6.4s\n",
      "[CV 3/3] END ...criterion=entropy, max_depth=76;, score=0.688 total time=   6.3s\n",
      "[CV 1/3] END ...criterion=entropy, max_depth=88;, score=0.654 total time=   6.1s\n",
      "[CV 2/3] END ...criterion=entropy, max_depth=88;, score=0.685 total time=   6.7s\n",
      "[CV 3/3] END ...criterion=entropy, max_depth=88;, score=0.686 total time=   6.7s\n",
      "[CV 1/3] END ......criterion=gini, max_depth=40;, score=0.650 total time=   4.3s\n",
      "[CV 2/3] END ......criterion=gini, max_depth=40;, score=0.697 total time=   4.7s\n",
      "[CV 3/3] END ......criterion=gini, max_depth=40;, score=0.692 total time=   4.8s\n",
      "[CV 1/3] END ......criterion=gini, max_depth=52;, score=0.655 total time=   5.1s\n",
      "[CV 2/3] END ......criterion=gini, max_depth=52;, score=0.695 total time=   5.7s\n",
      "[CV 3/3] END ......criterion=gini, max_depth=52;, score=0.691 total time=   5.6s\n",
      "[CV 1/3] END ......criterion=gini, max_depth=64;, score=0.658 total time=   5.7s\n",
      "[CV 2/3] END ......criterion=gini, max_depth=64;, score=0.690 total time=   6.5s\n",
      "[CV 3/3] END ......criterion=gini, max_depth=64;, score=0.683 total time=   6.3s\n",
      "[CV 1/3] END ......criterion=gini, max_depth=76;, score=0.664 total time=   6.3s\n",
      "[CV 2/3] END ......criterion=gini, max_depth=76;, score=0.693 total time=   7.1s\n",
      "[CV 3/3] END ......criterion=gini, max_depth=76;, score=0.690 total time=   6.9s\n",
      "[CV 1/3] END ......criterion=gini, max_depth=88;, score=0.656 total time=   6.8s\n",
      "[CV 2/3] END ......criterion=gini, max_depth=88;, score=0.695 total time=   7.8s\n",
      "[CV 3/3] END ......criterion=gini, max_depth=88;, score=0.691 total time=   7.6s\n"
     ]
    },
    {
     "data": {
      "text/plain": [
       "{'criterion': 'gini', 'max_depth': 76}"
      ]
     },
     "execution_count": 74,
     "metadata": {},
     "output_type": "execute_result"
    }
   ],
   "source": [
    "# Hyperparameter selection on one split\n",
    "X_train, X_val, y_train, y_val = splits[0]\n",
    "gs_cls = DecisionTreeClassifier()\n",
    "params_DT = {'criterion': ['entropy','gini'], 'max_depth': np.arange(40, 100, 12)}\n",
    "gs_DT = GridSearchCV(estimator=gs_cls, param_grid=params_DT, cv=3, verbose=3, scoring='f1_macro')\n",
    "gs_DT.fit(X_train, y_train)\n",
    "gs_DT.best_params_"
   ]
  },
  {
   "cell_type": "code",
   "execution_count": null,
   "id": "233968af-340e-4cb6-a8d5-25ebbdddbd55",
   "metadata": {
    "execution": {
     "iopub.execute_input": "2022-06-07T14:22:06.824667Z",
     "iopub.status.busy": "2022-06-07T14:22:06.824593Z",
     "iopub.status.idle": "2022-06-07T14:23:04.445412Z",
     "shell.execute_reply": "2022-06-07T14:23:04.444875Z",
     "shell.execute_reply.started": "2022-06-07T14:22:06.824658Z"
    },
    "tags": []
   },
   "outputs": [
    {
     "name": "stdout",
     "output_type": "stream",
     "text": [
      "Split 0:\n",
      "  F1 score: 0.6964286545159137\n",
      "  Accuracy: 0.7166837958204865\n",
      "  ROC/AUC score: 0.6929747783138203\n",
      "Split 1:\n",
      "  F1 score: 0.7075734017935197\n",
      "  Accuracy: 0.7281603288797533\n",
      "  ROC/AUC score: 0.6968208232927531\n",
      "Split 2:\n",
      "  F1 score: 0.6953663022529277\n",
      "  Accuracy: 0.7158273381294964\n",
      "  ROC/AUC score: 0.6825747551393442\n",
      "Split 3:\n",
      "  F1 score: 0.6802179453600354\n",
      "  Accuracy: 0.7019527235354573\n",
      "  ROC/AUC score: 0.6621711679596989\n",
      "Split 4:\n",
      "  F1 score: 0.6940791849663427\n",
      "  Accuracy: 0.7145794072297413\n",
      "  ROC/AUC score: 0.6819709005903037\n",
      "Average F1 score: 0.7853993115993955\n",
      "Average accuracy: 0.7975262473395816\n",
      "Average ROC/AUC score: 0.8293062224516525\n"
     ]
    }
   ],
   "source": [
    "# Let us now compute performance metrics.\n",
    "for i, (X_train, X_val, y_train, y_val) in enumerate(splits):\n",
    "    print(f\"Split {i}:\")\n",
    "    # Train model\n",
    "    model = DecisionTreeClassifier(**gs_DT.best_params_)\n",
    "    model.fit(X_train, y_train)\n",
    "    # Predict\n",
    "    y_pred = model.predict(X_val)\n",
    "    y_proba = model.predict_proba(X_val)\n",
    "    # Compute and append f1, accuracy, confusion matrix; \n",
    "    f1_scores.append(f1_score(y_val, y_pred, average='macro'))\n",
    "    acc_scores.append(accuracy_score(y_val, y_pred))\n",
    "    roc_auc_scores.append(roc_auc_score(y_val, y_proba[:, 1]))\n",
    "    print(f\"  F1 score: {f1_scores[-1]}\")\n",
    "    print(f\"  Accuracy: {acc_scores[-1]}\")\n",
    "    print(f\"  ROC/AUC score: {roc_auc_scores[-1]}\")\n",
    "    conf_matrices.append(confusion_matrix(y_val, y_pred))\n",
    "    models.append(model)\n",
    "print(f\"Average F1 score: {np.average(f1_scores)}\")\n",
    "print(f\"Average accuracy: {np.average(acc_scores)}\")\n",
    "print(f\"Average ROC/AUC score: {np.average(roc_auc_scores)}\")"
   ]
  },
  {
   "cell_type": "code",
   "execution_count": null,
   "id": "bd98af22-cabe-429d-832c-8fbbe162a458",
   "metadata": {
    "execution": {
     "iopub.execute_input": "2022-06-07T14:23:04.447135Z",
     "iopub.status.busy": "2022-06-07T14:23:04.446832Z",
     "iopub.status.idle": "2022-06-07T14:23:04.518622Z",
     "shell.execute_reply": "2022-06-07T14:23:04.518267Z",
     "shell.execute_reply.started": "2022-06-07T14:23:04.447103Z"
    },
    "tags": []
   },
   "outputs": [
    {
     "data": {
      "text/plain": [
       "Text(33.0, 0.5, 'True label')"
      ]
     },
     "execution_count": 76,
     "metadata": {},
     "output_type": "execute_result"
    },
    {
     "data": {
      "image/png": "[encoded data removed]",
      "text/plain": [
       "<Figure size 432x288 with 2 Axes>"
      ]
     },
     "metadata": {
      "needs_background": "light"
     },
     "output_type": "display_data"
    }
   ],
   "source": [
    "sns.heatmap(sum(conf_matrices), annot=True, cmap=\"Blues\", fmt=\"d\")\n",
    "plt.xlabel('Predicted label'); plt.ylabel('True label')"
   ]
  },
  {
   "cell_type": "code",
   "execution_count": null,
   "id": "caf588df-0ea9-49bf-a2ba-973dd1c8251a",
   "metadata": {
    "execution": {
     "iopub.execute_input": "2022-06-07T14:23:04.519810Z",
     "iopub.status.busy": "2022-06-07T14:23:04.519713Z",
     "iopub.status.idle": "2022-06-07T14:23:04.580884Z",
     "shell.execute_reply": "2022-06-07T14:23:04.580537Z",
     "shell.execute_reply.started": "2022-06-07T14:23:04.519798Z"
    },
    "tags": []
   },
   "outputs": [
    {
     "data": {
      "text/plain": [
       "Text(33.0, 0.5, 'True label')"
      ]
     },
     "execution_count": 77,
     "metadata": {},
     "output_type": "execute_result"
    },
    {
     "data": {
      "image/png": "[encoded data removed]",
      "text/plain": [
       "<Figure size 432x288 with 2 Axes>"
      ]
     },
     "metadata": {
      "needs_background": "light"
     },
     "output_type": "display_data"
    }
   ],
   "source": [
    "# With percentages instead\n",
    "sns.heatmap(sum(conf_matrices)/np.sum(sum(conf_matrices)), \n",
    "            annot=True, cmap=\"Blues\", fmt=\".2%\")\n",
    "plt.xlabel('Predicted label'); plt.ylabel('True label')"
   ]
  },
  {
   "cell_type": "code",
   "execution_count": null,
   "id": "42f8b315-36f3-4ccd-bb73-a8af7e2a0c28",
   "metadata": {
    "execution": {
     "iopub.execute_input": "2022-06-07T14:23:04.581477Z",
     "iopub.status.busy": "2022-06-07T14:23:04.581400Z",
     "iopub.status.idle": "2022-06-07T14:23:17.667893Z",
     "shell.execute_reply": "2022-06-07T14:23:17.667477Z",
     "shell.execute_reply.started": "2022-06-07T14:23:04.581467Z"
    },
    "tags": []
   },
   "outputs": [
    {
     "data": {
      "text/plain": [
       "DecisionTreeClassifier(max_depth=76)"
      ]
     },
     "execution_count": 78,
     "metadata": {},
     "output_type": "execute_result"
    }
   ],
   "source": [
    "# Training on a new 80-20 split to draw ROC curve\n",
    "X_train, X_val, y_train, y_val = train_test_split(X, y, test_size=0.2)\n",
    "X_train.reset_index(drop=True, inplace=True)\n",
    "y_train.reset_index(drop=True, inplace=True)\n",
    "X_val.reset_index(drop=True, inplace=True)\n",
    "y_val.reset_index(drop=True, inplace=True)\n",
    "model = DecisionTreeClassifier(**gs_DT.best_params_)\n",
    "model.fit(X_train, y_train)"
   ]
  },
  {
   "cell_type": "code",
   "execution_count": null,
   "id": "0b164d50-fedb-45f3-80be-0a00764c8038",
   "metadata": {
    "execution": {
     "iopub.execute_input": "2022-06-07T14:23:17.668680Z",
     "iopub.status.busy": "2022-06-07T14:23:17.668567Z",
     "iopub.status.idle": "2022-06-07T14:23:17.792295Z",
     "shell.execute_reply": "2022-06-07T14:23:17.791913Z",
     "shell.execute_reply.started": "2022-06-07T14:23:17.668671Z"
    },
    "tags": []
   },
   "outputs": [
    {
     "data": {
      "text/plain": [
       "[<matplotlib.lines.Line2D at 0x2813bc8b0>]"
      ]
     },
     "execution_count": 79,
     "metadata": {},
     "output_type": "execute_result"
    },
    {
     "data": {
      "image/png": "[encoded data removed]",
      "text/plain": [
       "<Figure size 432x288 with 1 Axes>"
      ]
     },
     "metadata": {
      "needs_background": "light"
     },
     "output_type": "display_data"
    }
   ],
   "source": [
    "# Display ROC curve\n",
    "RocCurveDisplay.from_predictions(y_val, model.predict_proba(X_val)[:, 1], color='orange')\n",
    "plt.xlim([0, 1]); plt.ylim([0, 1.05])\n",
    "plt.plot([0, 1], [0, 1], 'k--')"
   ]
  },
  {
   "cell_type": "markdown",
   "id": "2eb91a02-8231-4840-ac24-5566091d08f0",
   "metadata": {},
   "source": [
    "Time to pick the best model, predict on test and save."
   ]
  },
  {
   "cell_type": "code",
   "execution_count": null,
   "id": "30291074-fa56-4778-a3e7-e7c7817e7276",
   "metadata": {
    "execution": {
     "iopub.execute_input": "2022-06-07T14:32:20.677508Z",
     "iopub.status.busy": "2022-06-07T14:32:20.676748Z",
     "iopub.status.idle": "2022-06-07T14:32:50.736605Z",
     "shell.execute_reply": "2022-06-07T14:32:50.733846Z",
     "shell.execute_reply.started": "2022-06-07T14:32:20.677421Z"
    },
    "tags": []
   },
   "outputs": [
    {
     "data": {
      "text/plain": [
       "LogisticRegression(C=5.011872336272722, max_iter=1500)"
      ]
     },
     "execution_count": 82,
     "metadata": {},
     "output_type": "execute_result"
    }
   ],
   "source": [
    "# This model seems to perform better on the public test data.\n",
    "model3 = LogisticRegression(C=5.011872336272722, max_iter=1500)\n",
    "model3.fit(X, y)"
   ]
  },
  {
   "cell_type": "code",
   "execution_count": null,
   "id": "5f8f1714-5f26-4082-86cc-032b5744a833",
   "metadata": {
    "execution": {
     "iopub.execute_input": "2022-06-07T14:33:29.416646Z",
     "iopub.status.busy": "2022-06-07T14:33:29.415864Z",
     "iopub.status.idle": "2022-06-07T14:33:31.151574Z",
     "shell.execute_reply": "2022-06-07T14:33:31.151229Z",
     "shell.execute_reply.started": "2022-06-07T14:33:29.416586Z"
    },
    "tags": []
   },
   "outputs": [],
   "source": [
    "# Preprocessing\n",
    "proc_test_df = apply_tfidf(preprocess(test_df), r_vectorizer, s_vectorizer)\n",
    "proc_test_df = pd.DataFrame(scaler.transform(proc_test_df), columns=proc_test_df.columns, index=proc_test_df.index)[relcols]"
   ]
  },
  {
   "cell_type": "code",
   "execution_count": null,
   "id": "c2dec104-2fe6-412c-9e0b-d9203ce6c8bb",
   "metadata": {
    "execution": {
     "iopub.execute_input": "2022-06-07T14:33:38.545892Z",
     "iopub.status.busy": "2022-06-07T14:33:38.545399Z",
     "iopub.status.idle": "2022-06-07T14:33:38.636483Z",
     "shell.execute_reply": "2022-06-07T14:33:38.635643Z",
     "shell.execute_reply.started": "2022-06-07T14:33:38.545846Z"
    },
    "tags": []
   },
   "outputs": [],
   "source": [
    "# Predict on test and save as .csv\n",
    "proc_test_df['predicted'] = model3.predict(proc_test_df)\n",
    "proc_test_df = proc_test_df.reset_index()[['index', 'predicted']]\n",
    "proc_test_df.rename(columns={'index': 'id'}).to_csv('task13.csv', index=False)"
   ]
  },
  {
   "cell_type": "markdown",
   "id": "5d7fa682-2fe4-473d-b85f-838038c3a0f9",
   "metadata": {},
   "source": [
    "# Task 1.4"
   ]
  },
  {
   "cell_type": "code",
   "execution_count": null,
   "id": "0369de1e-1e0b-47ee-8f72-a7d42aed0fb5",
   "metadata": {
    "execution": {
     "iopub.execute_input": "2022-06-07T14:34:22.297896Z",
     "iopub.status.busy": "2022-06-07T14:34:22.297105Z",
     "iopub.status.idle": "2022-06-07T14:35:11.034640Z",
     "shell.execute_reply": "2022-06-07T14:35:11.033669Z",
     "shell.execute_reply.started": "2022-06-07T14:34:22.297816Z"
    },
    "tags": []
   },
   "outputs": [],
   "source": [
    "# Preprocessing of training data\n",
    "proc_training_df = apply_cutoff(preprocess(training_df), 4)\n",
    "\n",
    "# Set cutoff to be the label; define X and y accordingly\n",
    "X = proc_training_df.drop('cutoff', axis=1)\n",
    "y = proc_training_df['cutoff']\n",
    "\n",
    "# Fit TF-IDF vectorizer for 'reviewText' and 'summary' features, creating max. 11500 features.\n",
    "r_vectorizer = TfidfVectorizer(max_features=11500, stop_words='english', ngram_range=(1, 3))\n",
    "s_vectorizer = TfidfVectorizer(max_features=11500, stop_words='english', ngram_range=(1, 3))\n",
    "r_vectorizer.fit(X.reviewText)\n",
    "s_vectorizer.fit(X.summary)\n",
    "\n",
    "# Apply TF-IDF vectorization \n",
    "X = apply_tfidf(X, r_vectorizer, s_vectorizer)\n",
    "\n",
    "# Apply robust scaling\n",
    "scaler = preprocessing.RobustScaler()\n",
    "X = pd.DataFrame(scaler.fit_transform(X), columns=X.columns, index=X.index)\n",
    "\n",
    "# Let us reduce the number of features by eliminating the statistically least correlated ones.\n",
    "relcols = X.columns[abs(X.corrwith(y)) > 0.01]\n",
    "X = X[relcols]\n",
    "\n",
    "# 5-fold cross validation\n",
    "kf = KFold(n_splits=5, shuffle=True, random_state=42)\n",
    "splits = []\n",
    "for train_idx, val_idx in kf.split(X, y):\n",
    "    # Apply split\n",
    "    X_train, X_val = X.iloc[train_idx], X.iloc[val_idx]\n",
    "    y_train, y_val = y.iloc[train_idx], y.iloc[val_idx]\n",
    "    \n",
    "    # Reset indices\n",
    "    X_train.reset_index(drop=True, inplace=True)\n",
    "    y_train.reset_index(drop=True, inplace=True)\n",
    "    X_val.reset_index(drop=True, inplace=True)\n",
    "    y_val.reset_index(drop=True, inplace=True)\n",
    "    splits.append((X_train, X_val, y_train, y_val))\n",
    "f1_scores, acc_scores, roc_auc_scores, conf_matrices, models = [], [], [], [], []"
   ]
  },
  {
   "cell_type": "markdown",
   "id": "3811ad3f-6e30-4d7f-95be-00992952d9a8",
   "metadata": {},
   "source": [
    "## Gaussian NB"
   ]
  },
  {
   "cell_type": "code",
   "execution_count": null,
   "id": "c63e99d7-8a18-4594-8105-e7289c6b2001",
   "metadata": {
    "execution": {
     "iopub.execute_input": "2022-06-07T14:35:11.036294Z",
     "iopub.status.busy": "2022-06-07T14:35:11.036088Z",
     "iopub.status.idle": "2022-06-07T14:35:37.661585Z",
     "shell.execute_reply": "2022-06-07T14:35:37.661234Z",
     "shell.execute_reply.started": "2022-06-07T14:35:11.036271Z"
    },
    "tags": []
   },
   "outputs": [
    {
     "name": "stdout",
     "output_type": "stream",
     "text": [
      "Fitting 3 folds for each of 10 candidates, totalling 30 fits\n",
      "[CV 1/3] END ................var_smoothing=0.01;, score=0.733 total time=   1.0s\n",
      "[CV 2/3] END ................var_smoothing=0.01;, score=0.735 total time=   0.9s\n",
      "[CV 3/3] END ................var_smoothing=0.01;, score=0.743 total time=   0.8s\n",
      "[CV 1/3] END var_smoothing=0.0016681005372000592;, score=0.738 total time=   0.8s\n",
      "[CV 2/3] END var_smoothing=0.0016681005372000592;, score=0.742 total time=   0.8s\n",
      "[CV 3/3] END var_smoothing=0.0016681005372000592;, score=0.760 total time=   0.8s\n",
      "[CV 1/3] END var_smoothing=0.0002782559402207126;, score=0.730 total time=   0.8s\n",
      "[CV 2/3] END var_smoothing=0.0002782559402207126;, score=0.718 total time=   0.8s\n",
      "[CV 3/3] END var_smoothing=0.0002782559402207126;, score=0.747 total time=   0.8s\n",
      "[CV 1/3] END var_smoothing=4.641588833612772e-05;, score=0.705 total time=   0.8s\n",
      "[CV 2/3] END var_smoothing=4.641588833612772e-05;, score=0.689 total time=   0.8s\n",
      "[CV 3/3] END var_smoothing=4.641588833612772e-05;, score=0.718 total time=   0.9s\n",
      "[CV 1/3] END var_smoothing=7.742636826811277e-06;, score=0.685 total time=   0.8s\n",
      "[CV 2/3] END var_smoothing=7.742636826811277e-06;, score=0.672 total time=   0.9s\n",
      "[CV 3/3] END var_smoothing=7.742636826811277e-06;, score=0.696 total time=   0.8s\n",
      "[CV 1/3] END var_smoothing=1.2915496650148827e-06;, score=0.676 total time=   0.8s\n",
      "[CV 2/3] END var_smoothing=1.2915496650148827e-06;, score=0.662 total time=   0.8s\n",
      "[CV 3/3] END var_smoothing=1.2915496650148827e-06;, score=0.683 total time=   0.8s\n",
      "[CV 1/3] END var_smoothing=2.1544346900318822e-07;, score=0.670 total time=   0.8s\n",
      "[CV 2/3] END var_smoothing=2.1544346900318822e-07;, score=0.657 total time=   0.8s\n",
      "[CV 3/3] END var_smoothing=2.1544346900318822e-07;, score=0.673 total time=   0.8s\n",
      "[CV 1/3] END var_smoothing=3.593813663804626e-08;, score=0.665 total time=   0.8s\n",
      "[CV 2/3] END var_smoothing=3.593813663804626e-08;, score=0.651 total time=   0.8s\n",
      "[CV 3/3] END var_smoothing=3.593813663804626e-08;, score=0.666 total time=   0.8s\n",
      "[CV 1/3] END var_smoothing=5.994842503189421e-09;, score=0.661 total time=   0.9s\n",
      "[CV 2/3] END var_smoothing=5.994842503189421e-09;, score=0.641 total time=   0.9s\n",
      "[CV 3/3] END var_smoothing=5.994842503189421e-09;, score=0.659 total time=   0.9s\n",
      "[CV 1/3] END ...............var_smoothing=1e-09;, score=0.656 total time=   1.0s\n",
      "[CV 2/3] END ...............var_smoothing=1e-09;, score=0.635 total time=   1.0s\n",
      "[CV 3/3] END ...............var_smoothing=1e-09;, score=0.651 total time=   1.0s\n"
     ]
    },
    {
     "data": {
      "text/plain": [
       "{'var_smoothing': 0.0016681005372000592}"
      ]
     },
     "execution_count": 86,
     "metadata": {},
     "output_type": "execute_result"
    }
   ],
   "source": [
    "# Hyperparameter selection on one split\n",
    "X_train, X_val, y_train, y_val = splits[0]\n",
    "gs_cls = GaussianNB()\n",
    "params_GS = {'var_smoothing': np.logspace(-2, -9, num=10)}\n",
    "gs_GS = GridSearchCV(estimator=gs_cls, param_grid=params_GS, cv=3, verbose=3, scoring='f1_macro')\n",
    "gs_GS.fit(X_train, y_train)\n",
    "gs_GS.best_params_"
   ]
  },
  {
   "cell_type": "code",
   "execution_count": null,
   "id": "a75c86d2-7214-474e-b5b4-c7aca65e877b",
   "metadata": {
    "execution": {
     "iopub.execute_input": "2022-06-07T14:35:37.662163Z",
     "iopub.status.busy": "2022-06-07T14:35:37.662087Z",
     "iopub.status.idle": "2022-06-07T14:35:44.370100Z",
     "shell.execute_reply": "2022-06-07T14:35:44.369590Z",
     "shell.execute_reply.started": "2022-06-07T14:35:37.662153Z"
    },
    "tags": []
   },
   "outputs": [
    {
     "name": "stdout",
     "output_type": "stream",
     "text": [
      "Split 0:\n",
      "  F1 score: 0.7770344942395944\n",
      "  Accuracy: 0.8434395340870161\n",
      "  ROC/AUC score: 0.8850624628922866\n",
      "Split 1:\n",
      "  F1 score: 0.7634927233846287\n",
      "  Accuracy: 0.8398424117848579\n",
      "  ROC/AUC score: 0.8768812357978785\n",
      "Split 2:\n",
      "  F1 score: 0.7790028398820905\n",
      "  Accuracy: 0.8466940733127784\n",
      "  ROC/AUC score: 0.8862483791084754\n",
      "Split 3:\n",
      "  F1 score: 0.7808686197992506\n",
      "  Accuracy: 0.8460089071599863\n",
      "  ROC/AUC score: 0.8876574311931661\n",
      "Split 4:\n",
      "  F1 score: 0.7701868959285378\n",
      "  Accuracy: 0.8393010107932157\n",
      "  ROC/AUC score: 0.8749223413611781\n",
      "Average F1 score: 0.7741171146468204\n",
      "Average accuracy: 0.843057187427571\n",
      "Average ROC/AUC score: 0.8821543700705968\n"
     ]
    }
   ],
   "source": [
    "# Let us now compute performance metrics.\n",
    "for i, (X_train, X_val, y_train, y_val) in enumerate(splits):\n",
    "    print(f\"Split {i}:\")\n",
    "    # Train model\n",
    "    model = GaussianNB(var_smoothing=gs_GS.best_params_['var_smoothing'])\n",
    "    model.fit(X_train, y_train)\n",
    "    # Predict\n",
    "    y_pred = model.predict(X_val)\n",
    "    y_proba = model.predict_proba(X_val)\n",
    "    # Compute and append f1, accuracy, confusion matrix; \n",
    "    f1_scores.append(f1_score(y_val, y_pred, average='macro'))\n",
    "    acc_scores.append(accuracy_score(y_val, y_pred))\n",
    "    roc_auc_scores.append(roc_auc_score(y_val, y_proba[:, 1]))\n",
    "    print(f\"  F1 score: {f1_scores[-1]}\")\n",
    "    print(f\"  Accuracy: {acc_scores[-1]}\")\n",
    "    print(f\"  ROC/AUC score: {roc_auc_scores[-1]}\")\n",
    "    conf_matrices.append(confusion_matrix(y_val, y_pred))\n",
    "    models.append(model)\n",
    "print(f\"Average F1 score: {np.average(f1_scores)}\")\n",
    "print(f\"Average accuracy: {np.average(acc_scores)}\")\n",
    "print(f\"Average ROC/AUC score: {np.average(roc_auc_scores)}\")"
   ]
  },
  {
   "cell_type": "code",
   "execution_count": null,
   "id": "aede2074-a5df-4089-b769-0ec75762c041",
   "metadata": {
    "execution": {
     "iopub.execute_input": "2022-06-07T14:35:44.372379Z",
     "iopub.status.busy": "2022-06-07T14:35:44.371923Z",
     "iopub.status.idle": "2022-06-07T14:35:44.667371Z",
     "shell.execute_reply": "2022-06-07T14:35:44.666803Z",
     "shell.execute_reply.started": "2022-06-07T14:35:44.372356Z"
    },
    "tags": []
   },
   "outputs": [
    {
     "data": {
      "text/plain": [
       "Text(33.0, 0.5, 'True label')"
      ]
     },
     "execution_count": 88,
     "metadata": {},
     "output_type": "execute_result"
    },
    {
     "data": {
      "image/png": "[encoded data removed]",
      "text/plain": [
       "<Figure size 432x288 with 2 Axes>"
      ]
     },
     "metadata": {
      "needs_background": "light"
     },
     "output_type": "display_data"
    }
   ],
   "source": [
    "sns.heatmap(sum(conf_matrices), annot=True, cmap=\"Blues\", fmt=\"d\")\n",
    "plt.xlabel('Predicted label'); plt.ylabel('True label')"
   ]
  },
  {
   "cell_type": "code",
   "execution_count": null,
   "id": "b184f6d0-feb8-41dd-b60d-caf24be26154",
   "metadata": {
    "execution": {
     "iopub.execute_input": "2022-06-07T14:35:44.668234Z",
     "iopub.status.busy": "2022-06-07T14:35:44.668026Z",
     "iopub.status.idle": "2022-06-07T14:35:44.774129Z",
     "shell.execute_reply": "2022-06-07T14:35:44.773603Z",
     "shell.execute_reply.started": "2022-06-07T14:35:44.668209Z"
    },
    "tags": []
   },
   "outputs": [
    {
     "data": {
      "text/plain": [
       "Text(33.0, 0.5, 'True label')"
      ]
     },
     "execution_count": 89,
     "metadata": {},
     "output_type": "execute_result"
    },
    {
     "data": {
      "image/png": "[encoded data removed]",
      "text/plain": [
       "<Figure size 432x288 with 2 Axes>"
      ]
     },
     "metadata": {
      "needs_background": "light"
     },
     "output_type": "display_data"
    }
   ],
   "source": [
    "# With percentages instead\n",
    "sns.heatmap(sum(conf_matrices)/np.sum(sum(conf_matrices)), \n",
    "            annot=True, cmap=\"Blues\", fmt=\".2%\")\n",
    "plt.xlabel('Predicted label'); plt.ylabel('True label')"
   ]
  },
  {
   "cell_type": "code",
   "execution_count": null,
   "id": "16fa4156-de1c-4509-bcef-812adb1b8009",
   "metadata": {
    "execution": {
     "iopub.execute_input": "2022-06-07T14:35:44.774970Z",
     "iopub.status.busy": "2022-06-07T14:35:44.774845Z",
     "iopub.status.idle": "2022-06-07T14:35:46.693914Z",
     "shell.execute_reply": "2022-06-07T14:35:46.693559Z",
     "shell.execute_reply.started": "2022-06-07T14:35:44.774953Z"
    },
    "tags": []
   },
   "outputs": [
    {
     "data": {
      "text/plain": [
       "GaussianNB(var_smoothing=0.0016681005372000592)"
      ]
     },
     "execution_count": 90,
     "metadata": {},
     "output_type": "execute_result"
    }
   ],
   "source": [
    "# Training on a new 80-20 split to draw ROC curve\n",
    "X_train, X_val, y_train, y_val = train_test_split(X, y, test_size=0.2)\n",
    "X_train.reset_index(drop=True, inplace=True)\n",
    "y_train.reset_index(drop=True, inplace=True)\n",
    "X_val.reset_index(drop=True, inplace=True)\n",
    "y_val.reset_index(drop=True, inplace=True)\n",
    "model = GaussianNB(var_smoothing=gs_GS.best_params_['var_smoothing'])\n",
    "model.fit(X_train, y_train)"
   ]
  },
  {
   "cell_type": "code",
   "execution_count": null,
   "id": "f314292f-0385-4d10-aa80-4801c5b6fcae",
   "metadata": {
    "execution": {
     "iopub.execute_input": "2022-06-07T14:35:46.694541Z",
     "iopub.status.busy": "2022-06-07T14:35:46.694464Z",
     "iopub.status.idle": "2022-06-07T14:35:46.940275Z",
     "shell.execute_reply": "2022-06-07T14:35:46.939887Z",
     "shell.execute_reply.started": "2022-06-07T14:35:46.694531Z"
    },
    "tags": []
   },
   "outputs": [
    {
     "data": {
      "text/plain": [
       "[<matplotlib.lines.Line2D at 0x17f37a580>]"
      ]
     },
     "execution_count": 91,
     "metadata": {},
     "output_type": "execute_result"
    },
    {
     "data": {
      "image/png": "[encoded data removed]",
      "text/plain": [
       "<Figure size 432x288 with 1 Axes>"
      ]
     },
     "metadata": {
      "needs_background": "light"
     },
     "output_type": "display_data"
    }
   ],
   "source": [
    "# Display ROC curve\n",
    "RocCurveDisplay.from_predictions(y_val, model.predict_proba(X_val)[:, 1], color='orange')\n",
    "plt.xlim([0, 1]); plt.ylim([0, 1.05])\n",
    "plt.plot([0, 1], [0, 1], 'k--')"
   ]
  },
  {
   "cell_type": "markdown",
   "id": "013081f5-650e-442e-86f7-e26bd4ac242a",
   "metadata": {},
   "source": [
    "## Logistic Regression"
   ]
  },
  {
   "cell_type": "code",
   "execution_count": null,
   "id": "a3df6266-5a01-4037-ae3b-2f8e5c8b2988",
   "metadata": {
    "execution": {
     "iopub.execute_input": "2022-06-07T14:35:46.941093Z",
     "iopub.status.busy": "2022-06-07T14:35:46.940953Z",
     "iopub.status.idle": "2022-06-07T14:41:21.221386Z",
     "shell.execute_reply": "2022-06-07T14:41:21.219727Z",
     "shell.execute_reply.started": "2022-06-07T14:35:46.941078Z"
    },
    "tags": []
   },
   "outputs": [
    {
     "name": "stdout",
     "output_type": "stream",
     "text": [
      "Fitting 3 folds for each of 7 candidates, totalling 21 fits\n",
      "[CV 1/3] END ...............C=5.011872336272722;, score=0.671 total time=  10.7s\n",
      "[CV 2/3] END ...............C=5.011872336272722;, score=0.730 total time=  10.1s\n",
      "[CV 3/3] END ...............C=5.011872336272722;, score=0.729 total time=  11.0s\n",
      "[CV 1/3] END ...............C=5.843414133735175;, score=0.677 total time=  11.4s\n",
      "[CV 2/3] END ...............C=5.843414133735175;, score=0.731 total time=  12.5s\n",
      "[CV 3/3] END ...............C=5.843414133735175;, score=0.730 total time=  11.4s\n",
      "[CV 1/3] END ...............C=6.812920690579613;, score=0.681 total time=  12.3s\n",
      "[CV 2/3] END ...............C=6.812920690579613;, score=0.732 total time=  13.3s\n",
      "[CV 3/3] END ...............C=6.812920690579613;, score=0.732 total time=  13.1s\n",
      "[CV 1/3] END ...............C=7.943282347242816;, score=0.683 total time=  11.5s\n",
      "[CV 2/3] END ...............C=7.943282347242816;, score=0.731 total time=  14.7s\n",
      "[CV 3/3] END ...............C=7.943282347242816;, score=0.734 total time=  14.6s\n",
      "[CV 1/3] END ...............C=9.261187281287938;, score=0.686 total time=  16.0s\n",
      "[CV 2/3] END ...............C=9.261187281287938;, score=0.731 total time=  17.2s\n",
      "[CV 3/3] END ...............C=9.261187281287938;, score=0.736 total time=  20.9s\n",
      "[CV 1/3] END ................C=10.7977516232771;, score=0.686 total time=  17.6s\n",
      "[CV 2/3] END ................C=10.7977516232771;, score=0.732 total time=  21.1s\n",
      "[CV 3/3] END ................C=10.7977516232771;, score=0.735 total time=  16.1s\n",
      "[CV 1/3] END ..............C=12.589254117941675;, score=0.687 total time=  18.7s\n",
      "[CV 2/3] END ..............C=12.589254117941675;, score=0.733 total time=  16.6s\n",
      "[CV 3/3] END ..............C=12.589254117941675;, score=0.733 total time=  17.1s\n"
     ]
    },
    {
     "data": {
      "text/plain": [
       "{'C': 10.7977516232771}"
      ]
     },
     "execution_count": 92,
     "metadata": {},
     "output_type": "execute_result"
    }
   ],
   "source": [
    "# Hyperparameter selection on one split\n",
    "X_train, X_val, y_train, y_val = splits[0]\n",
    "gs_cls = LogisticRegression(max_iter=1500)\n",
    "params_LR = {'C': np.logspace(0.7, 1.1, num=7)}\n",
    "gs_LR = GridSearchCV(estimator=gs_cls, param_grid=params_LR, cv=3, verbose=3, scoring='f1_macro')\n",
    "gs_LR.fit(X_train, y_train)\n",
    "gs_LR.best_params_"
   ]
  },
  {
   "cell_type": "code",
   "execution_count": null,
   "id": "9d60edf4-d984-4000-b113-633568eb01af",
   "metadata": {
    "execution": {
     "iopub.execute_input": "2022-06-07T14:41:21.225577Z",
     "iopub.status.busy": "2022-06-07T14:41:21.224246Z",
     "iopub.status.idle": "2022-06-07T14:43:25.059174Z",
     "shell.execute_reply": "2022-06-07T14:43:25.057173Z",
     "shell.execute_reply.started": "2022-06-07T14:41:21.225536Z"
    },
    "tags": []
   },
   "outputs": [
    {
     "name": "stdout",
     "output_type": "stream",
     "text": [
      "Split 0:\n",
      "  F1 score: 0.7731771856398066\n",
      "  Accuracy: 0.8723878040424803\n",
      "  ROC/AUC score: 0.9061957336329776\n",
      "Split 1:\n",
      "  F1 score: 0.7552431636948561\n",
      "  Accuracy: 0.8657074340527577\n",
      "  ROC/AUC score: 0.9013995567154522\n",
      "Split 2:\n",
      "  F1 score: 0.7798873728165618\n",
      "  Accuracy: 0.8770126755738267\n",
      "  ROC/AUC score: 0.9100227532885286\n",
      "Split 3:\n",
      "  F1 score: 0.7653911750431721\n",
      "  Accuracy: 0.8660500171291539\n",
      "  ROC/AUC score: 0.9079985562206043\n",
      "Split 4:\n",
      "  F1 score: 0.7602859597912481\n",
      "  Accuracy: 0.8663697104677061\n",
      "  ROC/AUC score: 0.8970738599150433\n",
      "Average F1 score: 0.7704570430219747\n",
      "Average accuracy: 0.8562813578403778\n",
      "Average ROC/AUC score: 0.893346231012559\n"
     ]
    }
   ],
   "source": [
    "# Let us now compute performance metrics.\n",
    "for i, (X_train, X_val, y_train, y_val) in enumerate(splits):\n",
    "    print(f\"Split {i}:\")\n",
    "    # Train model\n",
    "    model = LogisticRegression(max_iter=1500, C=gs_LR.best_params_['C'])\n",
    "    model.fit(X_train, y_train)\n",
    "    # Predict\n",
    "    y_pred = model.predict(X_val)\n",
    "    y_proba = model.predict_proba(X_val)\n",
    "    # Compute and append f1, accuracy, confusion matrix; \n",
    "    f1_scores.append(f1_score(y_val, y_pred, average='macro'))\n",
    "    acc_scores.append(accuracy_score(y_val, y_pred))\n",
    "    roc_auc_scores.append(roc_auc_score(y_val, y_proba[:, 1]))\n",
    "    print(f\"  F1 score: {f1_scores[-1]}\")\n",
    "    print(f\"  Accuracy: {acc_scores[-1]}\")\n",
    "    print(f\"  ROC/AUC score: {roc_auc_scores[-1]}\")\n",
    "    conf_matrices.append(confusion_matrix(y_val, y_pred))\n",
    "    models.append(model)\n",
    "print(f\"Average F1 score: {np.average(f1_scores)}\")\n",
    "print(f\"Average accuracy: {np.average(acc_scores)}\")\n",
    "print(f\"Average ROC/AUC score: {np.average(roc_auc_scores)}\")"
   ]
  },
  {
   "cell_type": "code",
   "execution_count": null,
   "id": "4c24d0f1-ef51-4044-9e1c-302a13f5e63b",
   "metadata": {
    "execution": {
     "iopub.execute_input": "2022-06-07T14:43:25.069226Z",
     "iopub.status.busy": "2022-06-07T14:43:25.068749Z",
     "iopub.status.idle": "2022-06-07T14:43:25.272553Z",
     "shell.execute_reply": "2022-06-07T14:43:25.271882Z",
     "shell.execute_reply.started": "2022-06-07T14:43:25.069182Z"
    },
    "tags": []
   },
   "outputs": [
    {
     "data": {
      "text/plain": [
       "Text(33.0, 0.5, 'True label')"
      ]
     },
     "execution_count": 94,
     "metadata": {},
     "output_type": "execute_result"
    },
    {
     "data": {
      "image/png": "[encoded data removed]",
      "text/plain": [
       "<Figure size 432x288 with 2 Axes>"
      ]
     },
     "metadata": {
      "needs_background": "light"
     },
     "output_type": "display_data"
    }
   ],
   "source": [
    "sns.heatmap(sum(conf_matrices), annot=True, cmap=\"Blues\", fmt=\"d\")\n",
    "plt.xlabel('Predicted label'); plt.ylabel('True label')"
   ]
  },
  {
   "cell_type": "code",
   "execution_count": null,
   "id": "dad4c3d0-8942-4b60-808a-bf45b55f269e",
   "metadata": {
    "execution": {
     "iopub.execute_input": "2022-06-07T14:43:25.273886Z",
     "iopub.status.busy": "2022-06-07T14:43:25.273734Z",
     "iopub.status.idle": "2022-06-07T14:43:25.408572Z",
     "shell.execute_reply": "2022-06-07T14:43:25.407606Z",
     "shell.execute_reply.started": "2022-06-07T14:43:25.273865Z"
    },
    "tags": []
   },
   "outputs": [
    {
     "data": {
      "text/plain": [
       "Text(33.0, 0.5, 'True label')"
      ]
     },
     "execution_count": 95,
     "metadata": {},
     "output_type": "execute_result"
    },
    {
     "data": {
      "image/png": "[encoded data removed]",
      "text/plain": [
       "<Figure size 432x288 with 2 Axes>"
      ]
     },
     "metadata": {
      "needs_background": "light"
     },
     "output_type": "display_data"
    }
   ],
   "source": [
    "# With percentages instead\n",
    "sns.heatmap(sum(conf_matrices)/np.sum(sum(conf_matrices)), \n",
    "            annot=True, cmap=\"Blues\", fmt=\".2%\")\n",
    "plt.xlabel('Predicted label'); plt.ylabel('True label')"
   ]
  },
  {
   "cell_type": "code",
   "execution_count": null,
   "id": "d0f82172-dcac-4f4b-b8a4-bf02824fc3da",
   "metadata": {
    "execution": {
     "iopub.execute_input": "2022-06-07T14:43:25.409608Z",
     "iopub.status.busy": "2022-06-07T14:43:25.409468Z",
     "iopub.status.idle": "2022-06-07T14:43:49.631546Z",
     "shell.execute_reply": "2022-06-07T14:43:49.623021Z",
     "shell.execute_reply.started": "2022-06-07T14:43:25.409590Z"
    },
    "tags": []
   },
   "outputs": [
    {
     "data": {
      "text/plain": [
       "LogisticRegression(C=10.7977516232771, max_iter=1500)"
      ]
     },
     "execution_count": 96,
     "metadata": {},
     "output_type": "execute_result"
    }
   ],
   "source": [
    "# Training on a new 80-20 split to draw ROC curve\n",
    "X_train, X_val, y_train, y_val = train_test_split(X, y, test_size=0.2)\n",
    "X_train.reset_index(drop=True, inplace=True)\n",
    "y_train.reset_index(drop=True, inplace=True)\n",
    "X_val.reset_index(drop=True, inplace=True)\n",
    "y_val.reset_index(drop=True, inplace=True)\n",
    "model = LogisticRegression(max_iter=1500, C=gs_LR.best_params_['C'])\n",
    "model.fit(X_train, y_train)"
   ]
  },
  {
   "cell_type": "code",
   "execution_count": null,
   "id": "54b7e8b9-c608-4daa-81ef-e99148ea703c",
   "metadata": {
    "execution": {
     "iopub.execute_input": "2022-06-07T14:43:49.636403Z",
     "iopub.status.busy": "2022-06-07T14:43:49.635746Z",
     "iopub.status.idle": "2022-06-07T14:43:49.983593Z",
     "shell.execute_reply": "2022-06-07T14:43:49.980558Z",
     "shell.execute_reply.started": "2022-06-07T14:43:49.636375Z"
    },
    "tags": []
   },
   "outputs": [
    {
     "data": {
      "text/plain": [
       "[<matplotlib.lines.Line2D at 0x17661f430>]"
      ]
     },
     "execution_count": 97,
     "metadata": {},
     "output_type": "execute_result"
    },
    {
     "data": {
      "image/png": "[encoded data removed]",
      "text/plain": [
       "<Figure size 432x288 with 1 Axes>"
      ]
     },
     "metadata": {
      "needs_background": "light"
     },
     "output_type": "display_data"
    }
   ],
   "source": [
    "# Display ROC curve\n",
    "RocCurveDisplay.from_predictions(y_val, model.predict_proba(X_val)[:, 1], color='orange')\n",
    "plt.xlim([0, 1]); plt.ylim([0, 1.05])\n",
    "plt.plot([0, 1], [0, 1], 'k--')"
   ]
  },
  {
   "cell_type": "markdown",
   "id": "78fa7962-8f3e-4c56-8220-3ac73cdf6d87",
   "metadata": {},
   "source": [
    "## Decision Tree Classifier"
   ]
  },
  {
   "cell_type": "code",
   "execution_count": null,
   "id": "4a48d5e5-d91a-4c78-8a1c-1d1fa4ad1f87",
   "metadata": {
    "execution": {
     "iopub.execute_input": "2022-06-07T14:43:49.987860Z",
     "iopub.status.busy": "2022-06-07T14:43:49.987139Z",
     "iopub.status.idle": "2022-06-07T14:46:29.757433Z",
     "shell.execute_reply": "2022-06-07T14:46:29.757009Z",
     "shell.execute_reply.started": "2022-06-07T14:43:49.987821Z"
    },
    "tags": []
   },
   "outputs": [
    {
     "name": "stdout",
     "output_type": "stream",
     "text": [
      "Fitting 3 folds for each of 10 candidates, totalling 30 fits\n",
      "[CV 1/3] END ...criterion=entropy, max_depth=40;, score=0.605 total time=   3.7s\n",
      "[CV 2/3] END ...criterion=entropy, max_depth=40;, score=0.657 total time=   3.8s\n",
      "[CV 3/3] END ...criterion=entropy, max_depth=40;, score=0.639 total time=   3.8s\n",
      "[CV 1/3] END ...criterion=entropy, max_depth=52;, score=0.627 total time=   3.9s\n",
      "[CV 2/3] END ...criterion=entropy, max_depth=52;, score=0.641 total time=   4.4s\n",
      "[CV 3/3] END ...criterion=entropy, max_depth=52;, score=0.637 total time=   4.5s\n",
      "[CV 1/3] END ...criterion=entropy, max_depth=64;, score=0.624 total time=   4.5s\n",
      "[CV 2/3] END ...criterion=entropy, max_depth=64;, score=0.656 total time=   4.8s\n",
      "[CV 3/3] END ...criterion=entropy, max_depth=64;, score=0.643 total time=   4.9s\n",
      "[CV 1/3] END ...criterion=entropy, max_depth=76;, score=0.623 total time=   4.7s\n",
      "[CV 2/3] END ...criterion=entropy, max_depth=76;, score=0.647 total time=   5.3s\n",
      "[CV 3/3] END ...criterion=entropy, max_depth=76;, score=0.635 total time=   5.3s\n",
      "[CV 1/3] END ...criterion=entropy, max_depth=88;, score=0.619 total time=   5.0s\n",
      "[CV 2/3] END ...criterion=entropy, max_depth=88;, score=0.653 total time=   5.6s\n",
      "[CV 3/3] END ...criterion=entropy, max_depth=88;, score=0.636 total time=   5.5s\n",
      "[CV 1/3] END ......criterion=gini, max_depth=40;, score=0.627 total time=   3.7s\n",
      "[CV 2/3] END ......criterion=gini, max_depth=40;, score=0.647 total time=   4.7s\n",
      "[CV 3/3] END ......criterion=gini, max_depth=40;, score=0.632 total time=   3.9s\n",
      "[CV 1/3] END ......criterion=gini, max_depth=52;, score=0.630 total time=   4.5s\n",
      "[CV 2/3] END ......criterion=gini, max_depth=52;, score=0.649 total time=   4.7s\n",
      "[CV 3/3] END ......criterion=gini, max_depth=52;, score=0.641 total time=   4.8s\n",
      "[CV 1/3] END ......criterion=gini, max_depth=64;, score=0.628 total time=   5.3s\n",
      "[CV 2/3] END ......criterion=gini, max_depth=64;, score=0.653 total time=   5.5s\n",
      "[CV 3/3] END ......criterion=gini, max_depth=64;, score=0.640 total time=   5.5s\n",
      "[CV 1/3] END ......criterion=gini, max_depth=76;, score=0.631 total time=   6.0s\n",
      "[CV 2/3] END ......criterion=gini, max_depth=76;, score=0.653 total time=   6.4s\n",
      "[CV 3/3] END ......criterion=gini, max_depth=76;, score=0.637 total time=   6.2s\n",
      "[CV 1/3] END ......criterion=gini, max_depth=88;, score=0.631 total time=   6.8s\n",
      "[CV 2/3] END ......criterion=gini, max_depth=88;, score=0.648 total time=   7.2s\n",
      "[CV 3/3] END ......criterion=gini, max_depth=88;, score=0.640 total time=   7.0s\n"
     ]
    },
    {
     "data": {
      "text/plain": [
       "{'criterion': 'entropy', 'max_depth': 64}"
      ]
     },
     "execution_count": 98,
     "metadata": {},
     "output_type": "execute_result"
    }
   ],
   "source": [
    "# Hyperparameter selection on one split\n",
    "X_train, X_val, y_train, y_val = splits[0]\n",
    "gs_cls = DecisionTreeClassifier()\n",
    "params_DT = {'criterion': ['entropy','gini'], 'max_depth': np.arange(40, 100, 12)}\n",
    "gs_DT = GridSearchCV(estimator=gs_cls, param_grid=params_DT, cv=3, verbose=3, scoring='f1_macro')\n",
    "gs_DT.fit(X_train, y_train)\n",
    "gs_DT.best_params_"
   ]
  },
  {
   "cell_type": "code",
   "execution_count": null,
   "id": "c2f421d6-89d1-403d-a43a-0645dfc3ed15",
   "metadata": {
    "execution": {
     "iopub.execute_input": "2022-06-07T14:46:29.758659Z",
     "iopub.status.busy": "2022-06-07T14:46:29.758377Z",
     "iopub.status.idle": "2022-06-07T14:47:08.923278Z",
     "shell.execute_reply": "2022-06-07T14:47:08.922941Z",
     "shell.execute_reply.started": "2022-06-07T14:46:29.758641Z"
    },
    "tags": []
   },
   "outputs": [
    {
     "name": "stdout",
     "output_type": "stream",
     "text": [
      "Split 0:\n",
      "  F1 score: 0.6523665371612433\n",
      "  Accuracy: 0.8019869818430969\n",
      "  ROC/AUC score: 0.6626486067196735\n",
      "Split 1:\n",
      "  F1 score: 0.6441563090580416\n",
      "  Accuracy: 0.8004453579993148\n",
      "  ROC/AUC score: 0.6504445860572645\n",
      "Split 2:\n",
      "  F1 score: 0.657025903771099\n",
      "  Accuracy: 0.8054128126070572\n",
      "  ROC/AUC score: 0.6803041347365605\n",
      "Split 3:\n",
      "  F1 score: 0.6405512532578507\n",
      "  Accuracy: 0.7944501541623844\n",
      "  ROC/AUC score: 0.6623286545206735\n",
      "Split 4:\n",
      "  F1 score: 0.6464387506364196\n",
      "  Accuracy: 0.7971560733253383\n",
      "  ROC/AUC score: 0.6517112034282079\n",
      "Average F1 score: 0.7296739456069602\n",
      "Average accuracy: 0.8374843305560646\n",
      "Average ROC/AUC score: 0.8160599663725313\n"
     ]
    }
   ],
   "source": [
    "# Let us now compute performance metrics.\n",
    "for i, (X_train, X_val, y_train, y_val) in enumerate(splits):\n",
    "    print(f\"Split {i}:\")\n",
    "    # Train model\n",
    "    model = DecisionTreeClassifier(**gs_DT.best_params_)\n",
    "    model.fit(X_train, y_train)\n",
    "    # Predict\n",
    "    y_pred = model.predict(X_val)\n",
    "    y_proba = model.predict_proba(X_val)\n",
    "    # Compute and append f1, accuracy, confusion matrix; \n",
    "    f1_scores.append(f1_score(y_val, y_pred, average='macro'))\n",
    "    acc_scores.append(accuracy_score(y_val, y_pred))\n",
    "    roc_auc_scores.append(roc_auc_score(y_val, y_proba[:, 1]))\n",
    "    print(f\"  F1 score: {f1_scores[-1]}\")\n",
    "    print(f\"  Accuracy: {acc_scores[-1]}\")\n",
    "    print(f\"  ROC/AUC score: {roc_auc_scores[-1]}\")\n",
    "    conf_matrices.append(confusion_matrix(y_val, y_pred))\n",
    "    models.append(model)\n",
    "print(f\"Average F1 score: {np.average(f1_scores)}\")\n",
    "print(f\"Average accuracy: {np.average(acc_scores)}\")\n",
    "print(f\"Average ROC/AUC score: {np.average(roc_auc_scores)}\")"
   ]
  },
  {
   "cell_type": "code",
   "execution_count": null,
   "id": "d2a42553-63b3-420b-b75c-b2664c3d1cc3",
   "metadata": {
    "execution": {
     "iopub.execute_input": "2022-06-07T14:47:08.924215Z",
     "iopub.status.busy": "2022-06-07T14:47:08.924122Z",
     "iopub.status.idle": "2022-06-07T14:47:08.985342Z",
     "shell.execute_reply": "2022-06-07T14:47:08.984985Z",
     "shell.execute_reply.started": "2022-06-07T14:47:08.924206Z"
    },
    "tags": []
   },
   "outputs": [
    {
     "data": {
      "text/plain": [
       "Text(33.0, 0.5, 'True label')"
      ]
     },
     "execution_count": 100,
     "metadata": {},
     "output_type": "execute_result"
    },
    {
     "data": {
      "image/png": "[encoded data removed]",
      "text/plain": [
       "<Figure size 432x288 with 2 Axes>"
      ]
     },
     "metadata": {
      "needs_background": "light"
     },
     "output_type": "display_data"
    }
   ],
   "source": [
    "sns.heatmap(sum(conf_matrices), annot=True, cmap=\"Blues\", fmt=\"d\")\n",
    "plt.xlabel('Predicted label'); plt.ylabel('True label')"
   ]
  },
  {
   "cell_type": "code",
   "execution_count": null,
   "id": "7af69a65-2d70-4bc5-b8f6-ffb4eea85b16",
   "metadata": {
    "execution": {
     "iopub.execute_input": "2022-06-07T14:47:08.985932Z",
     "iopub.status.busy": "2022-06-07T14:47:08.985864Z",
     "iopub.status.idle": "2022-06-07T14:47:09.042511Z",
     "shell.execute_reply": "2022-06-07T14:47:09.042111Z",
     "shell.execute_reply.started": "2022-06-07T14:47:08.985924Z"
    },
    "tags": []
   },
   "outputs": [
    {
     "data": {
      "text/plain": [
       "Text(33.0, 0.5, 'True label')"
      ]
     },
     "execution_count": 101,
     "metadata": {},
     "output_type": "execute_result"
    },
    {
     "data": {
      "image/png": "[encoded data removed]",
      "text/plain": [
       "<Figure size 432x288 with 2 Axes>"
      ]
     },
     "metadata": {
      "needs_background": "light"
     },
     "output_type": "display_data"
    }
   ],
   "source": [
    "# With percentages instead\n",
    "sns.heatmap(sum(conf_matrices)/np.sum(sum(conf_matrices)), \n",
    "            annot=True, cmap=\"Blues\", fmt=\".2%\")\n",
    "plt.xlabel('Predicted label'); plt.ylabel('True label')"
   ]
  },
  {
   "cell_type": "code",
   "execution_count": null,
   "id": "cd5bae22-565c-45da-a737-d4ca6a37f46b",
   "metadata": {
    "execution": {
     "iopub.execute_input": "2022-06-07T14:47:09.043208Z",
     "iopub.status.busy": "2022-06-07T14:47:09.043143Z",
     "iopub.status.idle": "2022-06-07T14:47:17.507141Z",
     "shell.execute_reply": "2022-06-07T14:47:17.506686Z",
     "shell.execute_reply.started": "2022-06-07T14:47:09.043200Z"
    },
    "tags": []
   },
   "outputs": [
    {
     "data": {
      "text/plain": [
       "DecisionTreeClassifier(criterion='entropy', max_depth=64)"
      ]
     },
     "execution_count": 102,
     "metadata": {},
     "output_type": "execute_result"
    }
   ],
   "source": [
    "# Training on a new 80-20 split to draw ROC curve\n",
    "X_train, X_val, y_train, y_val = train_test_split(X, y, test_size=0.2)\n",
    "X_train.reset_index(drop=True, inplace=True)\n",
    "y_train.reset_index(drop=True, inplace=True)\n",
    "X_val.reset_index(drop=True, inplace=True)\n",
    "y_val.reset_index(drop=True, inplace=True)\n",
    "model = DecisionTreeClassifier(**gs_DT.best_params_)\n",
    "model.fit(X_train, y_train)"
   ]
  },
  {
   "cell_type": "code",
   "execution_count": null,
   "id": "dfce181e-4aa1-4eb6-832d-7528a24bf453",
   "metadata": {
    "execution": {
     "iopub.execute_input": "2022-06-07T14:47:17.507926Z",
     "iopub.status.busy": "2022-06-07T14:47:17.507853Z",
     "iopub.status.idle": "2022-06-07T14:47:17.610211Z",
     "shell.execute_reply": "2022-06-07T14:47:17.609848Z",
     "shell.execute_reply.started": "2022-06-07T14:47:17.507915Z"
    },
    "tags": []
   },
   "outputs": [
    {
     "data": {
      "text/plain": [
       "[<matplotlib.lines.Line2D at 0x178b9a7f0>]"
      ]
     },
     "execution_count": 103,
     "metadata": {},
     "output_type": "execute_result"
    },
    {
     "data": {
      "image/png": "[encoded data removed]",
      "text/plain": [
       "<Figure size 432x288 with 1 Axes>"
      ]
     },
     "metadata": {
      "needs_background": "light"
     },
     "output_type": "display_data"
    }
   ],
   "source": [
    "# Display ROC curve\n",
    "RocCurveDisplay.from_predictions(y_val, model.predict_proba(X_val)[:, 1], color='orange')\n",
    "plt.xlim([0, 1]); plt.ylim([0, 1.05])\n",
    "plt.plot([0, 1], [0, 1], 'k--')"
   ]
  },
  {
   "cell_type": "markdown",
   "id": "232fd04d-5e56-49f0-b5a9-77c2957166f7",
   "metadata": {},
   "source": [
    "Time to pick the best model, predict on test and save."
   ]
  },
  {
   "cell_type": "code",
   "execution_count": null,
   "id": "13d8d7f1-f8b7-41e1-976f-1fb617c464dd",
   "metadata": {
    "execution": {
     "iopub.execute_input": "2022-06-07T14:47:28.691297Z",
     "iopub.status.busy": "2022-06-07T14:47:28.690405Z",
     "iopub.status.idle": "2022-06-07T14:47:50.750644Z",
     "shell.execute_reply": "2022-06-07T14:47:50.737933Z",
     "shell.execute_reply.started": "2022-06-07T14:47:28.691252Z"
    },
    "tags": []
   },
   "outputs": [
    {
     "data": {
      "text/plain": [
       "LogisticRegression(C=10.7977516232771, max_iter=1500)"
      ]
     },
     "execution_count": 106,
     "metadata": {},
     "output_type": "execute_result"
    }
   ],
   "source": [
    "# This model seems to perform better on the public test data.\n",
    "model4 = LogisticRegression(C=10.7977516232771, max_iter=1500)\n",
    "model4.fit(X, y)"
   ]
  },
  {
   "cell_type": "code",
   "execution_count": null,
   "id": "29188cc0-f804-48a1-a77b-eac7d6d229f5",
   "metadata": {
    "execution": {
     "iopub.execute_input": "2022-06-07T14:47:50.758967Z",
     "iopub.status.busy": "2022-06-07T14:47:50.757462Z",
     "iopub.status.idle": "2022-06-07T14:47:53.052706Z",
     "shell.execute_reply": "2022-06-07T14:47:53.052321Z",
     "shell.execute_reply.started": "2022-06-07T14:47:50.758924Z"
    },
    "tags": []
   },
   "outputs": [],
   "source": [
    "# Preprocessing\n",
    "proc_test_df = apply_tfidf(preprocess(test_df), r_vectorizer, s_vectorizer)\n",
    "proc_test_df = pd.DataFrame(scaler.transform(proc_test_df), columns=proc_test_df.columns, index=proc_test_df.index)[relcols]"
   ]
  },
  {
   "cell_type": "code",
   "execution_count": null,
   "id": "167dae53-3ec3-4d7a-b9c9-e0f86bfd3525",
   "metadata": {
    "execution": {
     "iopub.execute_input": "2022-06-07T14:47:54.907212Z",
     "iopub.status.busy": "2022-06-07T14:47:54.905861Z",
     "iopub.status.idle": "2022-06-07T14:47:54.989286Z",
     "shell.execute_reply": "2022-06-07T14:47:54.980577Z",
     "shell.execute_reply.started": "2022-06-07T14:47:54.906799Z"
    },
    "tags": []
   },
   "outputs": [],
   "source": [
    "# Predict on test and save as .csv\n",
    "proc_test_df['predicted'] = model4.predict(proc_test_df)\n",
    "proc_test_df = proc_test_df.reset_index()[['index', 'predicted']]\n",
    "proc_test_df.rename(columns={'index': 'id'}).to_csv('task14.csv', index=False)"
   ]
  },
  {
   "cell_type": "code",
   "execution_count": null,
   "id": "08e306b5-aeea-42fe-b4de-1e129bffe103",
   "metadata": {},
   "outputs": [],
   "source": []
  },
  {
   "cell_type": "code",
   "execution_count": null,
   "id": "3ec84a3a-5001-43e7-a781-353fb8f77aab",
   "metadata": {},
   "outputs": [],
   "source": []
  }
 ],
 "metadata": {
  "kernelspec": {
   "display_name": "Python 3",
   "language": "python",
   "name": "python3"
  },
  "language_info": {
   "codemirror_mode": {
    "name": "ipython",
    "version": 3
   },
   "file_extension": ".py",
   "mimetype": "text/x-python",
   "name": "python",
   "nbconvert_exporter": "python",
   "pygments_lexer": "ipython3",
   "version": "3.10.6"
  },
  "vscode": {
   "interpreter": {
    "hash": "aee8b7b246df8f9039afb4144a1f6fd8d2ca17a180786b69acc140d282b71a49"
   }
  }
 },
 "nbformat": 4,
 "nbformat_minor": 5
}
