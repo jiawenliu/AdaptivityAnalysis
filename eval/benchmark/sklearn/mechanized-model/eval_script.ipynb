{
 "cells": [
  {
   "cell_type": "code",
   "execution_count": 3,
   "metadata": {},
   "outputs": [],
   "source": [
    "import pandas as pd\n",
    "import numpy as np\n",
    "import matplotlib.pyplot as plt\n",
    "import seaborn as sns\n",
    "from sklearn import preprocessing\n",
    "from sklearn.model_selection import train_test_split, KFold, GridSearchCV\n",
    "from sklearn.feature_extraction.text import TfidfVectorizer\n",
    "\n",
    "\n",
    "from sklearn.metrics import accuracy_score, f1_score, roc_auc_score, confusion_matrix, mean_squared_error, RocCurveDisplay\n",
    "from sklearn.linear_model import LogisticRegression\n",
    "from sklearn.tree import DecisionTreeClassifier\n",
    "from sklearn.naive_bayes import GaussianNB\n",
    "\n",
    "\n",
    "\n",
    "\n",
    "# Basic preprocessing\n",
    "def preprocess(df):\n",
    "    df_new = df.copy()\n",
    "    \n",
    "    # Discard identifiers, style information, timestamps\n",
    "    df_new = df_new[df_new.columns.difference(['image', 'style', 'reviewTime', \n",
    "                                               'reviewerID', 'asin', 'reviewerName', 'unixReviewTime'])]\n",
    "\n",
    "    # Turn category into binary features\n",
    "    for cat in df_new.category.unique():\n",
    "        df_new[cat] = df_new['category'] == cat\n",
    "\n",
    "    # Drop category column\n",
    "    df_new.drop(columns=['category'], inplace=True)\n",
    "\n",
    "    # NaN vote is 0 users found helpful\n",
    "    df_new.vote.fillna(0, inplace=True)\n",
    "    \n",
    "    # Turn vote into binary feature\n",
    "    df_new.vote = df_new.vote > 0\n",
    "    # df_new.vote.clip(0, 10)\n",
    "    # df_new.vote = df_new.vote / 10\n",
    "\n",
    "    # NaN summary is empty summary\n",
    "    df_new.summary.fillna('', inplace=True)\n",
    "\n",
    "    # Turn Booleans into binary variables\n",
    "    df_new.replace({False: 0, True: 1}, inplace=True)\n",
    "    \n",
    "    return df_new\n",
    "# Remove 'overall' column and add cutoff column applying cutoff\n",
    "def apply_cutoff(df, cutoff):\n",
    "    df_new = df.copy()\n",
    "    \n",
    "    # Apply cutoff\n",
    "    cut = df['overall'] > cutoff\n",
    "    df_new['cutoff'] = cut\n",
    "\n",
    "    # Drop overall and category\n",
    "    df_new.drop(columns=['overall'], inplace=True)\n",
    "    \n",
    "    # Turn Booleans into binary variables\n",
    "    df_new.replace({False: 0, True: 1}, inplace=True)\n",
    "    \n",
    "    return df_new\n",
    "def apply_tfidf(df, review_vectorizer, summary_vectorizer):\n",
    "    review_matrix = pd.DataFrame(data=review_vectorizer.transform(df.reviewText).toarray(), columns='R_' + review_vectorizer.get_feature_names_out())\n",
    "    summary_matrix = pd.DataFrame(data=summary_vectorizer.transform(df.summary).toarray(), columns='S_' + summary_vectorizer.get_feature_names_out())\n",
    "    df_new = pd.concat([df, review_matrix, summary_matrix], axis=1)\n",
    "    df_new.drop(columns=['summary', 'reviewText'], inplace=True)\n",
    "    return df_new\n",
    "\n",
    "\n",
    "# Processing the data - I\n",
    "# Preprocessing of training data\n",
    "def load_and_process_data():\n",
    "    training_df = pd.read_csv('../data/Training.csv')\n",
    "    test_df = pd.read_csv('../data/Test.csv')\n",
    "\n",
    "    proc_training_df = apply_cutoff(preprocess(training_df), 1)\n",
    "\n",
    "    # Set cutoff to be the label; define data_x and y accordingly\n",
    "    data_x = proc_training_df.drop('cutoff', axis=1)\n",
    "    data_y = proc_training_df['cutoff']\n",
    "\n",
    "    # Fit TF-IDF vectorizer for 'reviewText' and 'summary' features, creating max. 11500 features.\n",
    "    r_vectorizer = TfidfVectorizer(max_features=11500, stop_words='english', ngram_range=(1, 3))\n",
    "    s_vectorizer = TfidfVectorizer(max_features=11500, stop_words='english', ngram_range=(1, 3))\n",
    "    r_vectorizer.fit(data_x.reviewText)\n",
    "    s_vectorizer.fit(data_x.summary)\n",
    "\n",
    "    # Apply TF-IDF vectorization \n",
    "    data_x = apply_tfidf(data_x, r_vectorizer, s_vectorizer)\n",
    "\n",
    "    # Apply robust scaling\n",
    "    scaler = preprocessing.RobustScaler()\n",
    "    data_x = pd.DataFrame(scaler.fit_transform(data_x), columns=data_x.columns, index=data_x.index)\n",
    "\n",
    "    # Let us reduce the number of features by eliminating the statistically least correlated ones.\n",
    "    relcols = data_x.columns[abs(data_x.corrwith(data_y)) > 0.01]\n",
    "\n",
    "\n",
    "    # We will go with these columns.\n",
    "    data_x = data_x[relcols]\n",
    "\n",
    "    return data_x, data_y\n",
    "\n",
    "def create_splits(data_x, data_y, n_splits):\n",
    "    # 5-fold cross validation\n",
    "    kf = KFold(n_splits=n_splits, shuffle=True)\n",
    "    splits = []\n",
    "    for train_idx, val_idx in kf.split(data_x, data_y):\n",
    "        # Apply split\n",
    "        x_train, x_val = data_x.iloc[train_idx], data_x.iloc[val_idx]\n",
    "        y_train, y_val = data_y.iloc[train_idx], data_y.iloc[val_idx]\n",
    "        \n",
    "        # Reset indices\n",
    "        x_train.reset_index(drop=True, inplace=True)\n",
    "        y_train.reset_index(drop=True, inplace=True)\n",
    "        x_val.reset_index(drop=True, inplace=True)\n",
    "        y_val.reset_index(drop=True, inplace=True)\n",
    "        splits.append((x_train, x_val, y_train, y_val))\n",
    "    return splits\n",
    "\n",
    "## Mechanized Decision Tree Classifier\n",
    "# Hyperparameter selection on one split\n",
    "import sys\n",
    "sys.path.append(\"..\")\n",
    "from mechanism.mechanized_models import Mechanism\n",
    "from mechanism.mechanized_models import MechanizedGaussianNB, MechanizedLogisticRegression, MechanizedOneVSRest, MechanizedDecisionTree\n",
    "from mechanism.mechanized_models import MechanizedGridSearchCV\n",
    "\n",
    "\n",
    "def hyper_parameter(splits):\n",
    "    x_train, x_val, y_train, y_val = splits[0]\n",
    "    estimator = MechanizedLogisticRegression(max_iter=1500)\n",
    "    estimator.choose_mechanism(Mechanism.GAUSSIAN)\n",
    "    gs_cls = MechanizedOneVSRest(estimator = estimator)\n",
    "    gs_cls.choose_mechanism(Mechanism.GAUSSIAN)\n",
    "\n",
    "    params_LR = {'estimator__C': np.logspace(-0.2, 0.7, num = 10)}\n",
    "    gs_LR = GridSearchCV(estimator=gs_cls, param_grid=params_LR, cv = 2, verbose=2, scoring='f1_macro')\n",
    "    gs_LR.fit(x_train, y_train)\n",
    "\n",
    "BEST_C = 1.5848931924611134\n",
    "'''\n",
    "C=1.5848931924611134, max_iter=1500\n",
    "'''\n",
    "\n",
    "X_DATA, Y_DATA = load_and_process_data()\n",
    "\n",
    "# print(len(X_DATA))\n",
    "\n",
    "def eval(estimator, mechanism, splits):\n",
    "    # f1_scores, acc_scores, models = [], [], [], [], []\n",
    "    x_train, x_val, y_train, y_val = splits[0]\n",
    "    estimator = estimator\n",
    "    \n",
    "    model = MechanizedOneVSRest(estimator, mechanism = mechanism)\n",
    "    # model.choose_mechanism(mechanism)\n",
    "\n",
    "    model.fit(x_train, y_train)\n",
    "    # Predict\n",
    "    x_train, x_val, y_train, y_val = splits[1]\n",
    "    y_pred = model.predict(x_val)\n",
    "\n",
    "    return mean_squared_error(y_val, y_pred)\n",
    "\n",
    "\n",
    "def eval_multiple_rounds(stepped_rounds, mechanism, non_adaptive_num):\n",
    "    splits = create_splits(X_DATA, Y_DATA, non_adaptive_num)\n",
    "    generalization_error_list = []\n",
    "    for r in stepped_rounds:\n",
    "        estimator = MechanizedLogisticRegression(C = BEST_C, max_iter = r, mechanism = mechanism, solver = 'sag')\n",
    "        generalization_error_list.append(eval(estimator, mechanism, splits))\n",
    "    return generalization_error_list\n",
    "\n",
    "def eval_const_rounds(round, mechanism, stepped_non_adaptive_num):\n",
    "    generalization_error_list = []\n",
    "    for n_splits in stepped_non_adaptive_num:\n",
    "        splits = create_splits(X_DATA, Y_DATA, n_splits)\n",
    "        estimator = MechanizedLogisticRegression(C = BEST_C, max_iter = round, mechanism = mechanism)\n",
    "        generalization_error_list.append(eval(estimator, mechanism, splits))\n",
    "    return generalization_error_list"
   ]
  },
  {
   "cell_type": "code",
   "execution_count": 4,
   "metadata": {},
   "outputs": [],
   "source": [
    "\n",
    "def plot_error(rounds, generalization_error, mechanism):\n",
    "    plt.plot(rounds, generalization_error, label = mechanism)\n",
    "    plt.xlabel(\"Queries\")\n",
    "    plt.ylabel(\"RMSE (Generalization Error) for adaptive queries\")\n",
    "    plt.legend()\n",
    "    plt.grid()\n",
    "\n",
    "stepped_non_adaptive_num = range(2, 10, 1)\n",
    "round = 5\n"
   ]
  },
  {
   "cell_type": "code",
   "execution_count": null,
   "metadata": {},
   "outputs": [],
   "source": [
    "\n",
    "baseline_generalization_error_list = eval_const_rounds(round, Mechanism(mechanism_type = Mechanism.MechanismType.NONE), stepped_non_adaptive_num)\n",
    "# baseline_generalization_error_list = [0.47190818773552584, 0.473107228502912, 0.473792394655704, 0.47070914696813976, 0.4659129838985954, 0.4720794792737239, 0.47447756080849607, 0.473107228502912, 0.4775608084960603, 0.47619047619047616, 0.4712230215827338, 0.47447756080849607, 0.47567660157588215, 0.473792394655704, 0.47533401849948614]\n",
    "print(baseline_generalization_error_list)"
   ]
  },
  {
   "cell_type": "code",
   "execution_count": null,
   "metadata": {},
   "outputs": [],
   "source": [
    "gaussian_generalization_error_list = eval_const_rounds(round, Mechanism(mechanism_type = Mechanism.MechanismType.GAUSSIAN, sigma = 0.1), stepped_non_adaptive_num)\n",
    "# gaussian_generalization_error_list = [0.3984241178485783, 0.4035628639945187, 0.39482699554642003, 0.3977389516957862, 0.3977389516957862, 0.3917437478588558, 0.3975676601575882, 0.39585474477560806, 0.38866050017129156, 0.3970537855429942, 0.39568345323741005, 0.3857485440219253, 0.38506337786913325, 0.39157245632065774, 0.3871188763275094]\n",
    "\n",
    "print(gaussian_generalization_error_list)\n"
   ]
  },
  {
   "cell_type": "code",
   "execution_count": null,
   "metadata": {},
   "outputs": [],
   "source": [
    "threshold_generalization_error_list = eval_const_rounds(round, Mechanism(mechanism_type = Mechanism.MechanismType.THRESHOLD, sigma = 0.5, hold_frac = 0.5, threshold = 0.8), stepped_non_adaptive_num)\n",
    "# gaussian_generalization_error_list = [0.3984241178485783, 0.4035628639945187, 0.39482699554642003, 0.3977389516957862, 0.3977389516957862, 0.3917437478588558, 0.3975676601575882, 0.39585474477560806, 0.38866050017129156, 0.3970537855429942, 0.39568345323741005, 0.3857485440219253, 0.38506337786913325, 0.39157245632065774, 0.3871188763275094]\n",
    "\n",
    "print(threshold_generalization_error_list)"
   ]
  },
  {
   "cell_type": "code",
   "execution_count": 8,
   "metadata": {},
   "outputs": [],
   "source": [
    "baseline_generalization_error_list = [0.7949982870846181, 0.7947584789311408, 0.7885722115648123, 0.78879753340185, 0.7897225077081192, 0.7913669064748201, 0.789531378459852, 0.7903822441430333]\n",
    "gaussian_generalization_error_list = [0.7949982870846181, 0.7947584789311408, 0.7885722115648123, 0.78879753340185, 0.7897225077081192, 0.7913669064748201, 0.789531378459852, 0.7903822441430333]\n",
    "threshold_generalization_error_list = [0.7643713600548133, 0.7644398766700925, 0.7602082762400658, 0.7600205549845838, 0.7613566289825283, 0.7606714628297362, 0.7588380378185804, 0.7604808877928483]\n"
   ]
  },
  {
   "cell_type": "code",
   "execution_count": null,
   "metadata": {},
   "outputs": [],
   "source": [
    "import math\n",
    "\n",
    "plt.figure()\n",
    "x_range = [len(X_DATA)/ step for step in stepped_non_adaptive_num]\n",
    "plot_error(x_range, np.sqrt(baseline_generalization_error_list/2.0), \"Baseline\")\n",
    "plot_error(x_range, np.sqrt(gaussian_generalization_error_list/2.0), \"Gaussian\")\n",
    "plot_error(x_range, np.sqrt(threshold_generalization_error_list/2.0), \"Threshold - Adaptfun\")\n",
    "plt.show()"
   ]
  },
  {
   "cell_type": "code",
   "execution_count": 21,
   "metadata": {},
   "outputs": [
    {
     "data": {
      "image/png": "[encoded data removed]",
      "text/plain": [
       "<Figure size 640x480 with 1 Axes>"
      ]
     },
     "metadata": {},
     "output_type": "display_data"
    }
   ],
   "source": [
    "import math\n",
    "\n",
    "plt.figure()\n",
    "x_range = [len(X_DATA)/ step for step in stepped_non_adaptive_num]\n",
    "plot_error(x_range, np.sqrt(baseline_generalization_error_list), \"Baseline\")\n",
    "plot_error(x_range, np.sqrt(gaussian_generalization_error_list), \"Gaussian\")\n",
    "plot_error(x_range, np.sqrt(threshold_generalization_error_list), \"Threshold - Adaptfun\")\n",
    "plt.show()"
   ]
  },
  {
   "attachments": {},
   "cell_type": "markdown",
   "metadata": {},
   "source": [
    "# Evaluate the O(n*m) Adaptivity Program"
   ]
  },
  {
   "cell_type": "code",
   "execution_count": 29,
   "metadata": {},
   "outputs": [],
   "source": [
    "def create_splits(data_x, data_y, n_splits):\n",
    "    # 5-fold cross validation\n",
    "    kf = KFold(n_splits=n_splits, shuffle=True, random_state = np.random.randint(1000000))\n",
    "    splits = []\n",
    "    for train_idx, val_idx in kf.split(data_x, data_y):\n",
    "        # Apply split\n",
    "        x_train, x_val = data_x.iloc[train_idx], data_x.iloc[val_idx]\n",
    "        y_train, y_val = data_y.iloc[train_idx], data_y.iloc[val_idx]\n",
    "        \n",
    "        # Reset indices\n",
    "        x_train.reset_index(drop=True, inplace=True)\n",
    "        y_train.reset_index(drop=True, inplace=True)\n",
    "        x_val.reset_index(drop=True, inplace=True)\n",
    "        y_val.reset_index(drop=True, inplace=True)\n",
    "        splits.append((x_train, x_val, y_train, y_val))\n",
    "    return splits"
   ]
  },
  {
   "cell_type": "code",
   "execution_count": 79,
   "metadata": {},
   "outputs": [],
   "source": [
    "def eval(r, mechanism, splits):\n",
    "    # f1_scores, acc_scores, models = [], [], [], [], []\n",
    "    x_train, x_val, y_train, y_val = splits[0]\n",
    "    # estimator = estimator\n",
    "\n",
    "    estimator = MechanizedLogisticRegression(C = BEST_C, max_iter = r, mechanism = mechanism, solver = 'lbfgs', random_state = np.random.randint(1000000))\n",
    "    model = MechanizedOneVSRest(estimator, mechanism = mechanism)\n",
    "    # model.choose_mechanism(mechanism)\n",
    "    train_size = int(len(x_train)/2)\n",
    "    model.fit(x_train[:train_size], y_train[:train_size])\n",
    "    # Predict\n",
    "    _, x_val, _, y_val = create_splits(X_DATA, Y_DATA, 2)[1]\n",
    "    model.choose_mechanism(Mechanism(mechanism_type = Mechanism.MechanismType.NONE))\n",
    "    y_pred = model.predict(x_val)\n",
    "\n",
    "    return mean_squared_error(y_val, y_pred)"
   ]
  },
  {
   "cell_type": "code",
   "execution_count": 66,
   "metadata": {},
   "outputs": [],
   "source": [
    "def eval_multiple_rounds(stepped_rounds, mechanism, non_adaptive_num):\n",
    "    splits = create_splits(X_DATA, Y_DATA, non_adaptive_num)\n",
    "    generalization_error_list = []\n",
    "    for r in stepped_rounds:\n",
    "        generalization_error_list.append(eval(r, mechanism, splits))\n",
    "    return generalization_error_list"
   ]
  },
  {
   "cell_type": "code",
   "execution_count": 60,
   "metadata": {},
   "outputs": [],
   "source": [
    "stepped_rounds = range(100, 500, 50)\n",
    "non_adaptive_num = 5"
   ]
  },
  {
   "cell_type": "code",
   "execution_count": null,
   "metadata": {},
   "outputs": [],
   "source": [
    "baseline_generalization_error_list = eval_multiple_rounds(stepped_rounds, Mechanism(mechanism_type = Mechanism.MechanismType.NONE), non_adaptive_num)\n",
    "baseline_generalization_error_list = [0.47190818773552584, 0.473107228502912, 0.473792394655704, 0.47070914696813976, 0.4659129838985954, 0.4720794792737239, 0.47447756080849607, 0.473107228502912, 0.4775608084960603, 0.47619047619047616, 0.4712230215827338, 0.47447756080849607, 0.47567660157588215, 0.473792394655704, 0.47533401849948614]\n",
    "\n",
    "gaussian_generalization_error_list = eval_multiple_rounds(stepped_rounds, Mechanism(mechanism_type = Mechanism.MechanismType.GAUSSIAN, sigma = 0.03), non_adaptive_num)\n",
    "gaussian_generalization_error_list = [0.3984241178485783, 0.4035628639945187, 0.39482699554642003, 0.3977389516957862, 0.3977389516957862, 0.3917437478588558, 0.3975676601575882, 0.39585474477560806, 0.38866050017129156, 0.3970537855429942, 0.39568345323741005, 0.3857485440219253, 0.38506337786913325, 0.39157245632065774, 0.3871188763275094]\n"
   ]
  },
  {
   "cell_type": "code",
   "execution_count": 81,
   "metadata": {},
   "outputs": [],
   "source": [
    "class MechanizedLogisticRegression(LogisticRegression):\n",
    "\n",
    "    def __init__(self, penalty=\"l2\", *, dual=False, tol=0.0001, C=1, \n",
    "                 fit_intercept=True, intercept_scaling=1, class_weight=None,\n",
    "                 random_state=None, solver=\"lbfgs\", max_iter=100, multi_class=\"auto\", \n",
    "                 verbose=0, warm_start=False, n_jobs=None, \n",
    "                 l1_ratio=None,\n",
    "                 mechanism = Mechanism(Mechanism.MechanismType.NONE)):\n",
    "        super(MechanizedLogisticRegression, self).__init__(penalty, dual=dual, \n",
    "                                                           tol = tol, C = C, fit_intercept = fit_intercept, \n",
    "                                                           intercept_scaling = intercept_scaling,\n",
    "                                                           class_weight = class_weight, \n",
    "                                                           random_state = random_state, \n",
    "                                                           solver = solver, \n",
    "                                                           max_iter = max_iter, \n",
    "                                                           multi_class = multi_class, \n",
    "                                                           verbose = verbose, \n",
    "                                                           warm_start = warm_start, \n",
    "                                                           n_jobs = n_jobs, \n",
    "                                                           l1_ratio = l1_ratio)\n",
    "        self.mechanism = mechanism\n",
    "\n",
    "    def fit_threshold(self, x_train, y_train):\n",
    "        size = len(x_train)\n",
    "        hold_size, train_size = int(size  * (self.mechanism.hold_frac)), int(size  * (1.0 - self.mechanism.hold_frac))\n",
    "        x_train, y_train, x_hold, y_hold = x_train[hold_size:], y_train[hold_size:], x_train[:hold_size], y_train[:hold_size]\n",
    "        train_result = super(MechanizedLogisticRegression, self).fit(x_train, y_train)\n",
    "        train_pred = train_result.predict(x_train)\n",
    "        hold_result = super(MechanizedLogisticRegression, self).fit(x_hold, y_hold)\n",
    "        hold_pred = hold_result.predict(x_hold)\n",
    "        if abs(accuracy_score(train_pred, y_train) - accuracy_score(hold_pred, y_hold)) >= self.mechanism.noisy_thresh + np.random.laplace(0, 4 * self.mechanism.sigma):\n",
    "            self.mechanism.noisy_thresh = self.mechanism.threshold + np.random.laplace(0, 2 * self.mechanism.sigma)\n",
    "            return hold_result\n",
    "        else:\n",
    "            return train_result\n",
    "\n",
    "    def fit_gaussian(self, x_train, y_train):\n",
    "        x_noise = np.random.normal(0, self.mechanism.sigma, x_train.shape) \n",
    "        noised_x = x_train + x_noise\n",
    "        \n",
    "        ################ Gaussian Noise Added to Labels ################\n",
    "        # y_noise = np.random.normal(0, 0.1, y_train.shape) \n",
    "        # noised_y = y_train + y_noise\n",
    "        # lab = preprocessing.LabelEncoder()\n",
    "        # y_transformed = pd.Series(\n",
    "        # lab.fit_transform(noised_y), \n",
    "        # y_train.index,\n",
    "        # y_train.dtype,\n",
    "        # y_train.name,\n",
    "        # y_train.copy\n",
    "        # )\n",
    "        # y_transformed = lab.fit_transform(noised_y)\n",
    "\n",
    "        result = super(MechanizedLogisticRegression, self).fit(noised_x, y_train)\n",
    "        if isinstance(result, LogisticRegression):\n",
    "            return self\n",
    "        else:\n",
    "            return result\n",
    "\n",
    "\n",
    "\n",
    "    def fit(self, x_train, y_train):\n",
    "        if self.mechanism.mechanism_type ==  Mechanism.MechanismType.NONE:\n",
    "            print(\"in Baseline Logistic Regression\")\n",
    "            result = super(MechanizedLogisticRegression, self).fit(x_train, y_train)\n",
    "            if isinstance(result, LogisticRegression):\n",
    "                return self\n",
    "            else:\n",
    "                return result\n",
    "        elif self.mechanism.mechanism_type ==  Mechanism.MechanismType.GAUSSIAN:\n",
    "            print(\"in gaussian Mechanized Logistic Regression\")\n",
    "            return self.fit_gaussian(x_train, y_train)\n",
    "        \n",
    "        elif self.mechanism.mechanism_type ==  Mechanism.MechanismType.THRESHOLD:\n",
    "            print(\"in Threshold Mechanized Logistic Regression\")\n",
    "            return self.fit_threshold(x_train, y_train)\n",
    "            \n",
    "        else:\n",
    "            result = super(MechanizedLogisticRegression, self).fit(x_train, y_train)\n",
    "            if isinstance(result, LogisticRegression):\n",
    "                return self\n",
    "            else:\n",
    "                return result\n",
    "           \n",
    "    def choose_mechanism(self, mech):\n",
    "        self.mechanism = mech\n"
   ]
  },
  {
   "cell_type": "code",
   "execution_count": 82,
   "metadata": {},
   "outputs": [
    {
     "name": "stdout",
     "output_type": "stream",
     "text": [
      "in Gaussian Mechanized One v.s. Rest\n",
      "in gaussian Mechanized Logistic Regression\n",
      "in Gaussian Mechanized One v.s. Rest\n",
      "in gaussian Mechanized Logistic Regression\n",
      "in Gaussian Mechanized One v.s. Rest\n",
      "in gaussian Mechanized Logistic Regression\n",
      "in Gaussian Mechanized One v.s. Rest\n",
      "in gaussian Mechanized Logistic Regression\n",
      "in Gaussian Mechanized One v.s. Rest\n",
      "in gaussian Mechanized Logistic Regression\n",
      "in Gaussian Mechanized One v.s. Rest\n",
      "in gaussian Mechanized Logistic Regression\n",
      "in Gaussian Mechanized One v.s. Rest\n",
      "in gaussian Mechanized Logistic Regression\n",
      "in Gaussian Mechanized One v.s. Rest\n",
      "in gaussian Mechanized Logistic Regression\n"
     ]
    }
   ],
   "source": [
    "gaussian_generalization_error_list = eval_multiple_rounds(stepped_rounds, Mechanism(mechanism_type = Mechanism.MechanismType.GAUSSIAN, sigma = 0.003), non_adaptive_num)\n"
   ]
  },
  {
   "cell_type": "code",
   "execution_count": 83,
   "metadata": {},
   "outputs": [
    {
     "name": "stdout",
     "output_type": "stream",
     "text": [
      "[0.41735018 0.41595229 0.40989542 0.41413626 0.41430168 0.41430168\n",
      " 0.41488014 0.40972821]\n"
     ]
    }
   ],
   "source": [
    "print(np.sqrt(gaussian_generalization_error_list))"
   ]
  },
  {
   "cell_type": "code",
   "execution_count": 74,
   "metadata": {},
   "outputs": [
    {
     "name": "stdout",
     "output_type": "stream",
     "text": [
      "[0.3416018  0.3457885  0.34069796 0.33542807 0.33948909 0.33224664\n",
      " 0.34658023 0.34360183]\n"
     ]
    }
   ],
   "source": [
    "print(np.sqrt(baseline_generalization_error_list))"
   ]
  },
  {
   "cell_type": "code",
   "execution_count": 73,
   "metadata": {},
   "outputs": [
    {
     "name": "stdout",
     "output_type": "stream",
     "text": [
      "in Baseline Mechanized One v.s. Rest\n",
      "in Baseline Logistic Regression\n"
     ]
    },
    {
     "name": "stderr",
     "output_type": "stream",
     "text": [
      "/usr/local/lib/python3.10/site-packages/sklearn/linear_model/_logistic.py:458: ConvergenceWarning: lbfgs failed to converge (status=1):\n",
      "STOP: TOTAL NO. of ITERATIONS REACHED LIMIT.\n",
      "\n",
      "Increase the number of iterations (max_iter) or scale the data as shown in:\n",
      "    https://scikit-learn.org/stable/modules/preprocessing.html\n",
      "Please also refer to the documentation for alternative solver options:\n",
      "    https://scikit-learn.org/stable/modules/linear_model.html#logistic-regression\n",
      "  n_iter_i = _check_optimize_result(\n"
     ]
    },
    {
     "name": "stdout",
     "output_type": "stream",
     "text": [
      "in Baseline Mechanized One v.s. Rest\n",
      "in Baseline Logistic Regression\n",
      "in Baseline Mechanized One v.s. Rest\n",
      "in Baseline Logistic Regression\n",
      "in Baseline Mechanized One v.s. Rest\n",
      "in Baseline Logistic Regression\n",
      "in Baseline Mechanized One v.s. Rest\n",
      "in Baseline Logistic Regression\n",
      "in Baseline Mechanized One v.s. Rest\n",
      "in Baseline Logistic Regression\n",
      "in Baseline Mechanized One v.s. Rest\n",
      "in Baseline Logistic Regression\n",
      "in Baseline Mechanized One v.s. Rest\n",
      "in Baseline Logistic Regression\n"
     ]
    }
   ],
   "source": [
    "baseline_generalization_error_list = eval_multiple_rounds(stepped_rounds, Mechanism(mechanism_type = Mechanism.MechanismType.NONE), non_adaptive_num)\n"
   ]
  },
  {
   "cell_type": "code",
   "execution_count": 15,
   "metadata": {},
   "outputs": [
    {
     "name": "stdout",
     "output_type": "stream",
     "text": [
      "[0.08821514217197671, 0.08821514217197671, 0.08821514217197671, 0.08821514217197671, 0.08821514217197671]\n"
     ]
    }
   ],
   "source": [
    "print(baseline_generalization_error_list)"
   ]
  },
  {
   "cell_type": "code",
   "execution_count": null,
   "metadata": {},
   "outputs": [],
   "source": [
    "gaussian_generalization_error_list = eval_multiple_rounds(stepped_rounds, Mechanism(mechanism_type = Mechanism.MechanismType.GAUSSIAN, sigma = 0.1), non_adaptive_num)\n"
   ]
  },
  {
   "cell_type": "code",
   "execution_count": 24,
   "metadata": {},
   "outputs": [
    {
     "name": "stdout",
     "output_type": "stream",
     "text": [
      "[0.17882836587872558, 0.17934224049331962, 0.17831449126413154, 0.1778006166495375, 0.1774580335731415, 0.17865707434052758, 0.17882836587872558, 0.17814319972593354, 0.17797190818773553, 0.17865707434052758, 0.1789996574169236, 0.1789996574169236, 0.17865707434052758, 0.17865707434052758, 0.17797190818773553]\n"
     ]
    }
   ],
   "source": [
    "print(gaussian_generalization_error_list)"
   ]
  },
  {
   "cell_type": "code",
   "execution_count": null,
   "metadata": {},
   "outputs": [],
   "source": [
    "threshold_generalization_error_list = eval_multiple_rounds(stepped_rounds, Mechanism(mechanism_type = Mechanism.MechanismType.THRESHOLD, sigma = 0.5, hold_frac = 0.5, threshold = 0.8), non_adaptive_num)\n",
    "# gaussian_generalization_error_list = [0.3984241178485783, 0.4035628639945187, 0.39482699554642003, 0.3977389516957862, 0.3977389516957862, 0.3917437478588558, 0.3975676601575882, 0.39585474477560806, 0.38866050017129156, 0.3970537855429942, 0.39568345323741005, 0.3857485440219253, 0.38506337786913325, 0.39157245632065774, 0.3871188763275094]\n",
    "\n",
    "print(threshold_generalization_error_list)"
   ]
  },
  {
   "cell_type": "code",
   "execution_count": 29,
   "metadata": {},
   "outputs": [
    {
     "data": {
      "image/png": "[encoded data removed]",
      "text/plain": [
       "<Figure size 640x480 with 1 Axes>"
      ]
     },
     "metadata": {},
     "output_type": "display_data"
    }
   ],
   "source": [
    "plt.figure()\n",
    "x_range = stepped_rounds\n",
    "plot_error(x_range, np.sqrt(baseline_generalization_error_list), \"Baseline\")\n",
    "plot_error(x_range, np.sqrt(gaussian_generalization_error_list), \"Gaussian - Adaptfun\")\n",
    "plot_error(x_range, np.sqrt(threshold_generalization_error_list), \"Threshold\")\n",
    "plt.show()"
   ]
  },
  {
   "attachments": {},
   "cell_type": "markdown",
   "metadata": {},
   "source": [
    "# Evaluate the O(n) Adaptivity Program"
   ]
  },
  {
   "cell_type": "code",
   "execution_count": 51,
   "metadata": {},
   "outputs": [],
   "source": [
    "def eval_estimator(estimator, splits):\n",
    "    # f1_scores, acc_scores, models = [], [], [], [], []\n",
    "    x_train, x_val, y_train, y_val = splits[0]    \n",
    "    model = estimator\n",
    "    # model.choose_mechanism(mechanism)\n",
    "\n",
    "    model.fit(x_train, y_train)\n",
    "    # Predict\n",
    "    y_pred = model.predict(x_val)\n",
    "\n",
    "    return accuracy_score(y_val, y_pred)"
   ]
  },
  {
   "cell_type": "code",
   "execution_count": 55,
   "metadata": {},
   "outputs": [],
   "source": [
    "def eval_multiple_rounds(stepped_rounds, mechanism, non_adaptive_num):\n",
    "    splits = create_splits(X_DATA, Y_DATA, non_adaptive_num)\n",
    "    generalization_error_list = []\n",
    "    for r in stepped_rounds:\n",
    "        estimator = MechanizedLogisticRegression(C = BEST_C, max_iter = r, mechanism = mechanism)\n",
    "        generalization_error_list.append(eval_estimator(estimator, splits))\n",
    "    return generalization_error_list"
   ]
  },
  {
   "cell_type": "code",
   "execution_count": 56,
   "metadata": {},
   "outputs": [],
   "source": [
    "stepped_rounds = range(2, 4, 2)\n",
    "non_adaptive_num = 5\n",
    "\n"
   ]
  },
  {
   "cell_type": "code",
   "execution_count": 57,
   "metadata": {},
   "outputs": [
    {
     "name": "stdout",
     "output_type": "stream",
     "text": [
      "in Baseline Logistic Regression\n"
     ]
    },
    {
     "name": "stderr",
     "output_type": "stream",
     "text": [
      "/usr/local/lib/python3.10/site-packages/sklearn/linear_model/_logistic.py:458: ConvergenceWarning: lbfgs failed to converge (status=1):\n",
      "STOP: TOTAL NO. of ITERATIONS REACHED LIMIT.\n",
      "\n",
      "Increase the number of iterations (max_iter) or scale the data as shown in:\n",
      "    https://scikit-learn.org/stable/modules/preprocessing.html\n",
      "Please also refer to the documentation for alternative solver options:\n",
      "    https://scikit-learn.org/stable/modules/linear_model.html#logistic-regression\n",
      "  n_iter_i = _check_optimize_result(\n"
     ]
    }
   ],
   "source": [
    "\n",
    "baseline_generalization_error_list = eval_multiple_rounds(stepped_rounds, Mechanism(mechanism_type = Mechanism.MechanismType.NONE), non_adaptive_num)\n"
   ]
  },
  {
   "cell_type": "code",
   "execution_count": 58,
   "metadata": {},
   "outputs": [
    {
     "name": "stdout",
     "output_type": "stream",
     "text": [
      "in gaussian Mechanized Logistic Regression\n"
     ]
    },
    {
     "name": "stderr",
     "output_type": "stream",
     "text": [
      "/usr/local/lib/python3.10/site-packages/sklearn/linear_model/_logistic.py:458: ConvergenceWarning: lbfgs failed to converge (status=1):\n",
      "STOP: TOTAL NO. of ITERATIONS REACHED LIMIT.\n",
      "\n",
      "Increase the number of iterations (max_iter) or scale the data as shown in:\n",
      "    https://scikit-learn.org/stable/modules/preprocessing.html\n",
      "Please also refer to the documentation for alternative solver options:\n",
      "    https://scikit-learn.org/stable/modules/linear_model.html#logistic-regression\n",
      "  n_iter_i = _check_optimize_result(\n"
     ]
    }
   ],
   "source": [
    "gaussian_generalization_error_list = eval_multiple_rounds(stepped_rounds, Mechanism(mechanism_type = Mechanism.MechanismType.GAUSSIAN, sigma = 0.03), non_adaptive_num)\n"
   ]
  },
  {
   "cell_type": "code",
   "execution_count": 61,
   "metadata": {},
   "outputs": [
    {
     "name": "stdout",
     "output_type": "stream",
     "text": [
      "in Threshold Mechanized Logistic Regression\n"
     ]
    },
    {
     "name": "stderr",
     "output_type": "stream",
     "text": [
      "/usr/local/lib/python3.10/site-packages/sklearn/linear_model/_logistic.py:458: ConvergenceWarning: lbfgs failed to converge (status=1):\n",
      "STOP: TOTAL NO. of ITERATIONS REACHED LIMIT.\n",
      "\n",
      "Increase the number of iterations (max_iter) or scale the data as shown in:\n",
      "    https://scikit-learn.org/stable/modules/preprocessing.html\n",
      "Please also refer to the documentation for alternative solver options:\n",
      "    https://scikit-learn.org/stable/modules/linear_model.html#logistic-regression\n",
      "  n_iter_i = _check_optimize_result(\n",
      "/usr/local/lib/python3.10/site-packages/sklearn/linear_model/_logistic.py:458: ConvergenceWarning: lbfgs failed to converge (status=1):\n",
      "STOP: TOTAL NO. of ITERATIONS REACHED LIMIT.\n",
      "\n",
      "Increase the number of iterations (max_iter) or scale the data as shown in:\n",
      "    https://scikit-learn.org/stable/modules/preprocessing.html\n",
      "Please also refer to the documentation for alternative solver options:\n",
      "    https://scikit-learn.org/stable/modules/linear_model.html#logistic-regression\n",
      "  n_iter_i = _check_optimize_result(\n"
     ]
    },
    {
     "name": "stdout",
     "output_type": "stream",
     "text": [
      "[0.78879753340185]\n"
     ]
    }
   ],
   "source": [
    "threshold_generalization_error_list = eval_multiple_rounds(stepped_rounds, Mechanism(mechanism_type = Mechanism.MechanismType.THRESHOLD, sigma = 0.5, hold_frac = 0.5, threshold = 0.8), non_adaptive_num)\n",
    "# gaussian_generalization_error_list = [0.3984241178485783, 0.4035628639945187, 0.39482699554642003, 0.3977389516957862, 0.3977389516957862, 0.3917437478588558, 0.3975676601575882, 0.39585474477560806, 0.38866050017129156, 0.3970537855429942, 0.39568345323741005, 0.3857485440219253, 0.38506337786913325, 0.39157245632065774, 0.3871188763275094]\n",
    "\n",
    "print(threshold_generalization_error_list)"
   ]
  },
  {
   "cell_type": "code",
   "execution_count": null,
   "metadata": {},
   "outputs": [],
   "source": [
    "plt.figure()\n",
    "x_range = stepped_rounds\n",
    "plot_error(x_range, baseline_generalization_error_list, \"Baseline\")\n",
    "plot_error(x_range, gaussian_generalization_error_list, \"Gaussian - Adaptfun\")\n",
    "plot_error(x_range, threshold_generalization_error_list, \"Threshold\")\n",
    "plt.show()\n"
   ]
  },
  {
   "cell_type": "code",
   "execution_count": null,
   "metadata": {},
   "outputs": [],
   "source": []
  }
 ],
 "metadata": {
  "kernelspec": {
   "display_name": "Python 3",
   "language": "python",
   "name": "python3"
  },
  "language_info": {
   "codemirror_mode": {
    "name": "ipython",
    "version": 3
   },
   "file_extension": ".py",
   "mimetype": "text/x-python",
   "name": "python",
   "nbconvert_exporter": "python",
   "pygments_lexer": "ipython3",
   "version": "3.10.6"
  },
  "orig_nbformat": 4
 },
 "nbformat": 4,
 "nbformat_minor": 2
}
