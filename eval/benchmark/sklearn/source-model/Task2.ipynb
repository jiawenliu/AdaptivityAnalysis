{
 "cells": [
  {
   "cell_type": "code",
   "execution_count": 1,
   "id": "fa296f90-8496-4d08-b2af-30d339d5493a",
   "metadata": {
    "execution": {
     "iopub.execute_input": "2022-06-07T18:52:45.477895Z",
     "iopub.status.busy": "2022-06-07T18:52:45.476932Z",
     "iopub.status.idle": "2022-06-07T18:52:46.302949Z",
     "shell.execute_reply": "2022-06-07T18:52:46.302701Z",
     "shell.execute_reply.started": "2022-06-07T18:52:45.477831Z"
    },
    "tags": []
   },
   "outputs": [],
   "source": [
    "import pandas as pd\n",
    "import numpy as np\n",
    "import matplotlib.pyplot as plt\n",
    "import seaborn as sns\n",
    "from sklearn import preprocessing\n",
    "from sklearn.model_selection import train_test_split, KFold, GridSearchCV\n",
    "from sklearn.feature_extraction.text import TfidfVectorizer"
   ]
  },
  {
   "cell_type": "code",
   "execution_count": 2,
   "id": "53458282-376b-4ca5-b9f3-cedfdae69386",
   "metadata": {
    "execution": {
     "iopub.execute_input": "2022-06-07T18:52:46.303538Z",
     "iopub.status.busy": "2022-06-07T18:52:46.303439Z",
     "iopub.status.idle": "2022-06-07T18:52:46.333830Z",
     "shell.execute_reply": "2022-06-07T18:52:46.333558Z",
     "shell.execute_reply.started": "2022-06-07T18:52:46.303529Z"
    },
    "tags": []
   },
   "outputs": [],
   "source": [
    "from sklearn.metrics import accuracy_score, f1_score, roc_auc_score, confusion_matrix, RocCurveDisplay\n",
    "from sklearn.multiclass import OneVsRestClassifier\n",
    "from sklearn.linear_model import LogisticRegression\n",
    "from sklearn.tree import DecisionTreeClassifier\n",
    "from sklearn.naive_bayes import GaussianNB"
   ]
  },
  {
   "cell_type": "code",
   "execution_count": 3,
   "id": "3a842c8e-c0d2-4de6-b054-5168cf48f515",
   "metadata": {
    "execution": {
     "iopub.execute_input": "2022-06-07T18:52:46.335360Z",
     "iopub.status.busy": "2022-06-07T18:52:46.335231Z",
     "iopub.status.idle": "2022-06-07T18:52:46.338871Z",
     "shell.execute_reply": "2022-06-07T18:52:46.338622Z",
     "shell.execute_reply.started": "2022-06-07T18:52:46.335344Z"
    },
    "tags": []
   },
   "outputs": [],
   "source": [
    "# Basic preprocessing\n",
    "def preprocess(df):\n",
    "    df_new = df.copy()\n",
    "    \n",
    "    # Discard identifiers, style information, timestamps\n",
    "    df_new = df_new[df_new.columns.difference(['image', 'style', 'reviewTime', \n",
    "                                               'reviewerID', 'asin', 'reviewerName', 'unixReviewTime'])]\n",
    "\n",
    "    # Turn category into binary features\n",
    "    for cat in df_new.category.unique():\n",
    "        df_new[cat] = df_new['category'] == cat\n",
    "\n",
    "    # Drop category column\n",
    "    df_new.drop(columns=['category'], inplace=True)\n",
    "\n",
    "    # NaN vote is 0 users found helpful\n",
    "    df_new.vote.fillna(0, inplace=True)\n",
    "    \n",
    "    # Turn vote into binary feature\n",
    "    df_new.vote = df_new.vote > 0\n",
    "    # df_new.vote.clip(0, 10)\n",
    "    # df_new.vote = df_new.vote / 10\n",
    "\n",
    "    # NaN summary is empty summary\n",
    "    df_new.summary.fillna('', inplace=True)\n",
    "\n",
    "    # Turn Booleans into binary variables\n",
    "    df_new.replace({False: 0, True: 1}, inplace=True)\n",
    "    \n",
    "    return df_new"
   ]
  },
  {
   "cell_type": "code",
   "execution_count": 4,
   "id": "7fd472af-78ee-4291-9fd4-45c75a1a5e0d",
   "metadata": {
    "execution": {
     "iopub.execute_input": "2022-06-07T18:52:46.339440Z",
     "iopub.status.busy": "2022-06-07T18:52:46.339364Z",
     "iopub.status.idle": "2022-06-07T18:52:46.341909Z",
     "shell.execute_reply": "2022-06-07T18:52:46.341648Z",
     "shell.execute_reply.started": "2022-06-07T18:52:46.339431Z"
    },
    "tags": []
   },
   "outputs": [],
   "source": [
    "def apply_tfidf(df, review_vectorizer, summary_vectorizer):\n",
    "    review_matrix = pd.DataFrame(data=review_vectorizer.transform(df.reviewText).toarray(), columns='R_' + review_vectorizer.get_feature_names_out())\n",
    "    summary_matrix = pd.DataFrame(data=summary_vectorizer.transform(df.summary).toarray(), columns='S_' + summary_vectorizer.get_feature_names_out())\n",
    "    df_new = pd.concat([df, review_matrix, summary_matrix], axis=1)\n",
    "    df_new.drop(columns=['summary', 'reviewText'], inplace=True)\n",
    "    return df_new"
   ]
  },
  {
   "cell_type": "code",
   "execution_count": 5,
   "id": "05368195-6801-4adc-9f05-e920eb63ecd7",
   "metadata": {
    "execution": {
     "iopub.execute_input": "2022-06-07T18:52:46.342489Z",
     "iopub.status.busy": "2022-06-07T18:52:46.342366Z",
     "iopub.status.idle": "2022-06-07T18:52:46.500918Z",
     "shell.execute_reply": "2022-06-07T18:52:46.500643Z",
     "shell.execute_reply.started": "2022-06-07T18:52:46.342480Z"
    },
    "tags": []
   },
   "outputs": [],
   "source": [
    "training_df = pd.read_csv('Training.csv')\n",
    "test_df = pd.read_csv('Test.csv')"
   ]
  },
  {
   "cell_type": "markdown",
   "id": "3fc4b822-319e-4822-bfe3-70427e2d2a98",
   "metadata": {},
   "source": [
    "# Task 2"
   ]
  },
  {
   "cell_type": "code",
   "execution_count": 6,
   "id": "b1da0062-fb92-4387-8eb9-9585c38efedd",
   "metadata": {
    "execution": {
     "iopub.execute_input": "2022-06-07T18:52:46.501466Z",
     "iopub.status.busy": "2022-06-07T18:52:46.501404Z",
     "iopub.status.idle": "2022-06-07T18:53:30.342991Z",
     "shell.execute_reply": "2022-06-07T18:53:30.342166Z",
     "shell.execute_reply.started": "2022-06-07T18:52:46.501457Z"
    },
    "tags": []
   },
   "outputs": [],
   "source": [
    "# Preprocessing of training data\n",
    "proc_training_df = preprocess(training_df)\n",
    "\n",
    "# Set X and y\n",
    "X = proc_training_df.drop('overall', axis=1)\n",
    "y = proc_training_df['overall']\n",
    "\n",
    "# Fit TF-IDF vectorizer for 'reviewText' and 'summary' features, creating max. 11500 features.\n",
    "r_vectorizer = TfidfVectorizer(max_features=11500, stop_words='english', ngram_range=(1, 3))\n",
    "s_vectorizer = TfidfVectorizer(max_features=11500, stop_words='english', ngram_range=(1, 3))\n",
    "r_vectorizer.fit(X.reviewText)\n",
    "s_vectorizer.fit(X.summary)\n",
    "\n",
    "# Apply TF-IDF vectorization\n",
    "X = apply_tfidf(X, r_vectorizer, s_vectorizer)\n",
    "\n",
    "# Apply robust scaling\n",
    "scaler = preprocessing.RobustScaler()\n",
    "X = pd.DataFrame(scaler.fit_transform(X), columns=X.columns, index=X.index)"
   ]
  },
  {
   "cell_type": "code",
   "execution_count": 7,
   "id": "31a27187-e8ff-4a74-8c18-0e8fd4c4caf1",
   "metadata": {
    "execution": {
     "iopub.execute_input": "2022-06-07T18:53:30.344326Z",
     "iopub.status.busy": "2022-06-07T18:53:30.344188Z",
     "iopub.status.idle": "2022-06-07T18:53:30.365007Z",
     "shell.execute_reply": "2022-06-07T18:53:30.364765Z",
     "shell.execute_reply.started": "2022-06-07T18:53:30.344292Z"
    },
    "tags": []
   },
   "outputs": [
    {
     "data": {
      "text/html": [
       "<div>\n",
       "<style scoped>\n",
       "    .dataframe tbody tr th:only-of-type {\n",
       "        vertical-align: middle;\n",
       "    }\n",
       "\n",
       "    .dataframe tbody tr th {\n",
       "        vertical-align: top;\n",
       "    }\n",
       "\n",
       "    .dataframe thead th {\n",
       "        text-align: right;\n",
       "    }\n",
       "</style>\n",
       "<table border=\"1\" class=\"dataframe\">\n",
       "  <thead>\n",
       "    <tr style=\"text-align: right;\">\n",
       "      <th></th>\n",
       "      <th>verified</th>\n",
       "      <th>vote</th>\n",
       "      <th>automotive</th>\n",
       "      <th>CDs</th>\n",
       "      <th>grocery</th>\n",
       "      <th>cell_phones</th>\n",
       "      <th>sports</th>\n",
       "      <th>toys</th>\n",
       "      <th>R_00</th>\n",
       "      <th>R_000</th>\n",
       "      <th>...</th>\n",
       "      <th>S_zest</th>\n",
       "      <th>S_zest far</th>\n",
       "      <th>S_zest far inferior</th>\n",
       "      <th>S_zimmer</th>\n",
       "      <th>S_zipper</th>\n",
       "      <th>S_zippers</th>\n",
       "      <th>S_zoom</th>\n",
       "      <th>S_zz</th>\n",
       "      <th>S_zz greatest</th>\n",
       "      <th>S_zz greatest hits</th>\n",
       "    </tr>\n",
       "  </thead>\n",
       "  <tbody>\n",
       "    <tr>\n",
       "      <th>0</th>\n",
       "      <td>-1.0</td>\n",
       "      <td>1.0</td>\n",
       "      <td>1.0</td>\n",
       "      <td>0.0</td>\n",
       "      <td>0.0</td>\n",
       "      <td>0.0</td>\n",
       "      <td>0.0</td>\n",
       "      <td>0.0</td>\n",
       "      <td>0.0</td>\n",
       "      <td>0.0</td>\n",
       "      <td>...</td>\n",
       "      <td>0.0</td>\n",
       "      <td>0.0</td>\n",
       "      <td>0.0</td>\n",
       "      <td>0.0</td>\n",
       "      <td>0.0</td>\n",
       "      <td>0.0</td>\n",
       "      <td>0.0</td>\n",
       "      <td>0.0</td>\n",
       "      <td>0.0</td>\n",
       "      <td>0.0</td>\n",
       "    </tr>\n",
       "    <tr>\n",
       "      <th>1</th>\n",
       "      <td>0.0</td>\n",
       "      <td>0.0</td>\n",
       "      <td>1.0</td>\n",
       "      <td>0.0</td>\n",
       "      <td>0.0</td>\n",
       "      <td>0.0</td>\n",
       "      <td>0.0</td>\n",
       "      <td>0.0</td>\n",
       "      <td>0.0</td>\n",
       "      <td>0.0</td>\n",
       "      <td>...</td>\n",
       "      <td>0.0</td>\n",
       "      <td>0.0</td>\n",
       "      <td>0.0</td>\n",
       "      <td>0.0</td>\n",
       "      <td>0.0</td>\n",
       "      <td>0.0</td>\n",
       "      <td>0.0</td>\n",
       "      <td>0.0</td>\n",
       "      <td>0.0</td>\n",
       "      <td>0.0</td>\n",
       "    </tr>\n",
       "    <tr>\n",
       "      <th>2</th>\n",
       "      <td>0.0</td>\n",
       "      <td>0.0</td>\n",
       "      <td>1.0</td>\n",
       "      <td>0.0</td>\n",
       "      <td>0.0</td>\n",
       "      <td>0.0</td>\n",
       "      <td>0.0</td>\n",
       "      <td>0.0</td>\n",
       "      <td>0.0</td>\n",
       "      <td>0.0</td>\n",
       "      <td>...</td>\n",
       "      <td>0.0</td>\n",
       "      <td>0.0</td>\n",
       "      <td>0.0</td>\n",
       "      <td>0.0</td>\n",
       "      <td>0.0</td>\n",
       "      <td>0.0</td>\n",
       "      <td>0.0</td>\n",
       "      <td>0.0</td>\n",
       "      <td>0.0</td>\n",
       "      <td>0.0</td>\n",
       "    </tr>\n",
       "    <tr>\n",
       "      <th>3</th>\n",
       "      <td>0.0</td>\n",
       "      <td>0.0</td>\n",
       "      <td>1.0</td>\n",
       "      <td>0.0</td>\n",
       "      <td>0.0</td>\n",
       "      <td>0.0</td>\n",
       "      <td>0.0</td>\n",
       "      <td>0.0</td>\n",
       "      <td>0.0</td>\n",
       "      <td>0.0</td>\n",
       "      <td>...</td>\n",
       "      <td>0.0</td>\n",
       "      <td>0.0</td>\n",
       "      <td>0.0</td>\n",
       "      <td>0.0</td>\n",
       "      <td>0.0</td>\n",
       "      <td>0.0</td>\n",
       "      <td>0.0</td>\n",
       "      <td>0.0</td>\n",
       "      <td>0.0</td>\n",
       "      <td>0.0</td>\n",
       "    </tr>\n",
       "    <tr>\n",
       "      <th>4</th>\n",
       "      <td>0.0</td>\n",
       "      <td>0.0</td>\n",
       "      <td>1.0</td>\n",
       "      <td>0.0</td>\n",
       "      <td>0.0</td>\n",
       "      <td>0.0</td>\n",
       "      <td>0.0</td>\n",
       "      <td>0.0</td>\n",
       "      <td>0.0</td>\n",
       "      <td>0.0</td>\n",
       "      <td>...</td>\n",
       "      <td>0.0</td>\n",
       "      <td>0.0</td>\n",
       "      <td>0.0</td>\n",
       "      <td>0.0</td>\n",
       "      <td>0.0</td>\n",
       "      <td>0.0</td>\n",
       "      <td>0.0</td>\n",
       "      <td>0.0</td>\n",
       "      <td>0.0</td>\n",
       "      <td>0.0</td>\n",
       "    </tr>\n",
       "    <tr>\n",
       "      <th>...</th>\n",
       "      <td>...</td>\n",
       "      <td>...</td>\n",
       "      <td>...</td>\n",
       "      <td>...</td>\n",
       "      <td>...</td>\n",
       "      <td>...</td>\n",
       "      <td>...</td>\n",
       "      <td>...</td>\n",
       "      <td>...</td>\n",
       "      <td>...</td>\n",
       "      <td>...</td>\n",
       "      <td>...</td>\n",
       "      <td>...</td>\n",
       "      <td>...</td>\n",
       "      <td>...</td>\n",
       "      <td>...</td>\n",
       "      <td>...</td>\n",
       "      <td>...</td>\n",
       "      <td>...</td>\n",
       "      <td>...</td>\n",
       "      <td>...</td>\n",
       "    </tr>\n",
       "    <tr>\n",
       "      <th>29184</th>\n",
       "      <td>0.0</td>\n",
       "      <td>0.0</td>\n",
       "      <td>0.0</td>\n",
       "      <td>0.0</td>\n",
       "      <td>0.0</td>\n",
       "      <td>0.0</td>\n",
       "      <td>0.0</td>\n",
       "      <td>1.0</td>\n",
       "      <td>0.0</td>\n",
       "      <td>0.0</td>\n",
       "      <td>...</td>\n",
       "      <td>0.0</td>\n",
       "      <td>0.0</td>\n",
       "      <td>0.0</td>\n",
       "      <td>0.0</td>\n",
       "      <td>0.0</td>\n",
       "      <td>0.0</td>\n",
       "      <td>0.0</td>\n",
       "      <td>0.0</td>\n",
       "      <td>0.0</td>\n",
       "      <td>0.0</td>\n",
       "    </tr>\n",
       "    <tr>\n",
       "      <th>29185</th>\n",
       "      <td>0.0</td>\n",
       "      <td>0.0</td>\n",
       "      <td>0.0</td>\n",
       "      <td>0.0</td>\n",
       "      <td>0.0</td>\n",
       "      <td>0.0</td>\n",
       "      <td>0.0</td>\n",
       "      <td>1.0</td>\n",
       "      <td>0.0</td>\n",
       "      <td>0.0</td>\n",
       "      <td>...</td>\n",
       "      <td>0.0</td>\n",
       "      <td>0.0</td>\n",
       "      <td>0.0</td>\n",
       "      <td>0.0</td>\n",
       "      <td>0.0</td>\n",
       "      <td>0.0</td>\n",
       "      <td>0.0</td>\n",
       "      <td>0.0</td>\n",
       "      <td>0.0</td>\n",
       "      <td>0.0</td>\n",
       "    </tr>\n",
       "    <tr>\n",
       "      <th>29186</th>\n",
       "      <td>0.0</td>\n",
       "      <td>0.0</td>\n",
       "      <td>0.0</td>\n",
       "      <td>0.0</td>\n",
       "      <td>0.0</td>\n",
       "      <td>0.0</td>\n",
       "      <td>0.0</td>\n",
       "      <td>1.0</td>\n",
       "      <td>0.0</td>\n",
       "      <td>0.0</td>\n",
       "      <td>...</td>\n",
       "      <td>0.0</td>\n",
       "      <td>0.0</td>\n",
       "      <td>0.0</td>\n",
       "      <td>0.0</td>\n",
       "      <td>0.0</td>\n",
       "      <td>0.0</td>\n",
       "      <td>0.0</td>\n",
       "      <td>0.0</td>\n",
       "      <td>0.0</td>\n",
       "      <td>0.0</td>\n",
       "    </tr>\n",
       "    <tr>\n",
       "      <th>29187</th>\n",
       "      <td>0.0</td>\n",
       "      <td>0.0</td>\n",
       "      <td>0.0</td>\n",
       "      <td>0.0</td>\n",
       "      <td>0.0</td>\n",
       "      <td>0.0</td>\n",
       "      <td>0.0</td>\n",
       "      <td>1.0</td>\n",
       "      <td>0.0</td>\n",
       "      <td>0.0</td>\n",
       "      <td>...</td>\n",
       "      <td>0.0</td>\n",
       "      <td>0.0</td>\n",
       "      <td>0.0</td>\n",
       "      <td>0.0</td>\n",
       "      <td>0.0</td>\n",
       "      <td>0.0</td>\n",
       "      <td>0.0</td>\n",
       "      <td>0.0</td>\n",
       "      <td>0.0</td>\n",
       "      <td>0.0</td>\n",
       "    </tr>\n",
       "    <tr>\n",
       "      <th>29188</th>\n",
       "      <td>0.0</td>\n",
       "      <td>0.0</td>\n",
       "      <td>0.0</td>\n",
       "      <td>0.0</td>\n",
       "      <td>0.0</td>\n",
       "      <td>0.0</td>\n",
       "      <td>0.0</td>\n",
       "      <td>1.0</td>\n",
       "      <td>0.0</td>\n",
       "      <td>0.0</td>\n",
       "      <td>...</td>\n",
       "      <td>0.0</td>\n",
       "      <td>0.0</td>\n",
       "      <td>0.0</td>\n",
       "      <td>0.0</td>\n",
       "      <td>0.0</td>\n",
       "      <td>0.0</td>\n",
       "      <td>0.0</td>\n",
       "      <td>0.0</td>\n",
       "      <td>0.0</td>\n",
       "      <td>0.0</td>\n",
       "    </tr>\n",
       "  </tbody>\n",
       "</table>\n",
       "<p>29189 rows × 23008 columns</p>\n",
       "</div>"
      ],
      "text/plain": [
       "       verified  vote  automotive  CDs  grocery  cell_phones  sports  toys  \\\n",
       "0          -1.0   1.0         1.0  0.0      0.0          0.0     0.0   0.0   \n",
       "1           0.0   0.0         1.0  0.0      0.0          0.0     0.0   0.0   \n",
       "2           0.0   0.0         1.0  0.0      0.0          0.0     0.0   0.0   \n",
       "3           0.0   0.0         1.0  0.0      0.0          0.0     0.0   0.0   \n",
       "4           0.0   0.0         1.0  0.0      0.0          0.0     0.0   0.0   \n",
       "...         ...   ...         ...  ...      ...          ...     ...   ...   \n",
       "29184       0.0   0.0         0.0  0.0      0.0          0.0     0.0   1.0   \n",
       "29185       0.0   0.0         0.0  0.0      0.0          0.0     0.0   1.0   \n",
       "29186       0.0   0.0         0.0  0.0      0.0          0.0     0.0   1.0   \n",
       "29187       0.0   0.0         0.0  0.0      0.0          0.0     0.0   1.0   \n",
       "29188       0.0   0.0         0.0  0.0      0.0          0.0     0.0   1.0   \n",
       "\n",
       "       R_00  R_000  ...  S_zest  S_zest far  S_zest far inferior  S_zimmer  \\\n",
       "0       0.0    0.0  ...     0.0         0.0                  0.0       0.0   \n",
       "1       0.0    0.0  ...     0.0         0.0                  0.0       0.0   \n",
       "2       0.0    0.0  ...     0.0         0.0                  0.0       0.0   \n",
       "3       0.0    0.0  ...     0.0         0.0                  0.0       0.0   \n",
       "4       0.0    0.0  ...     0.0         0.0                  0.0       0.0   \n",
       "...     ...    ...  ...     ...         ...                  ...       ...   \n",
       "29184   0.0    0.0  ...     0.0         0.0                  0.0       0.0   \n",
       "29185   0.0    0.0  ...     0.0         0.0                  0.0       0.0   \n",
       "29186   0.0    0.0  ...     0.0         0.0                  0.0       0.0   \n",
       "29187   0.0    0.0  ...     0.0         0.0                  0.0       0.0   \n",
       "29188   0.0    0.0  ...     0.0         0.0                  0.0       0.0   \n",
       "\n",
       "       S_zipper  S_zippers  S_zoom  S_zz  S_zz greatest  S_zz greatest hits  \n",
       "0           0.0        0.0     0.0   0.0            0.0                 0.0  \n",
       "1           0.0        0.0     0.0   0.0            0.0                 0.0  \n",
       "2           0.0        0.0     0.0   0.0            0.0                 0.0  \n",
       "3           0.0        0.0     0.0   0.0            0.0                 0.0  \n",
       "4           0.0        0.0     0.0   0.0            0.0                 0.0  \n",
       "...         ...        ...     ...   ...            ...                 ...  \n",
       "29184       0.0        0.0     0.0   0.0            0.0                 0.0  \n",
       "29185       0.0        0.0     0.0   0.0            0.0                 0.0  \n",
       "29186       0.0        0.0     0.0   0.0            0.0                 0.0  \n",
       "29187       0.0        0.0     0.0   0.0            0.0                 0.0  \n",
       "29188       0.0        0.0     0.0   0.0            0.0                 0.0  \n",
       "\n",
       "[29189 rows x 23008 columns]"
      ]
     },
     "execution_count": 7,
     "metadata": {},
     "output_type": "execute_result"
    }
   ],
   "source": [
    "X"
   ]
  },
  {
   "cell_type": "code",
   "execution_count": 8,
   "id": "a71678b9-f45e-4054-9b11-cb5a41d494f7",
   "metadata": {
    "execution": {
     "iopub.execute_input": "2022-06-07T18:53:30.365658Z",
     "iopub.status.busy": "2022-06-07T18:53:30.365582Z",
     "iopub.status.idle": "2022-06-07T18:53:35.831115Z",
     "shell.execute_reply": "2022-06-07T18:53:35.830521Z",
     "shell.execute_reply.started": "2022-06-07T18:53:30.365649Z"
    },
    "tags": []
   },
   "outputs": [
    {
     "data": {
      "text/plain": [
       "Index(['verified', 'vote', 'R_10', 'R_20', 'R_30', 'R_30 days', 'R_50', 'R_99',\n",
       "       'R_absolutely loves', 'R_actually',\n",
       "       ...\n",
       "       'S_worth', 'S_worth money', 'S_worthless', 'S_wouldn', 'S_yuck',\n",
       "       'S_yuk', 'S_yum', 'S_yummy', 'S_zero', 'S_zero stars'],\n",
       "      dtype='object', length=1099)"
      ]
     },
     "execution_count": 8,
     "metadata": {},
     "output_type": "execute_result"
    }
   ],
   "source": [
    "# Let us reduce the number of features by eliminating the statistically least correlated ones.\n",
    "relcols = X.columns[abs(X.corrwith(y)) > 0.02]\n",
    "relcols"
   ]
  },
  {
   "cell_type": "code",
   "execution_count": 9,
   "id": "b92ee167-dc9f-4587-9348-0c940d55f887",
   "metadata": {
    "execution": {
     "iopub.execute_input": "2022-06-07T18:53:35.832390Z",
     "iopub.status.busy": "2022-06-07T18:53:35.832283Z",
     "iopub.status.idle": "2022-06-07T18:53:35.908437Z",
     "shell.execute_reply": "2022-06-07T18:53:35.908138Z",
     "shell.execute_reply.started": "2022-06-07T18:53:35.832364Z"
    },
    "tags": []
   },
   "outputs": [],
   "source": [
    "# We will go with these columns.\n",
    "X = X[relcols]"
   ]
  },
  {
   "cell_type": "code",
   "execution_count": 10,
   "id": "7aa0d225-6283-4d16-a9c4-ebbddb154747",
   "metadata": {
    "execution": {
     "iopub.execute_input": "2022-06-07T18:53:35.908965Z",
     "iopub.status.busy": "2022-06-07T18:53:35.908902Z",
     "iopub.status.idle": "2022-06-07T18:53:36.196143Z",
     "shell.execute_reply": "2022-06-07T18:53:36.195808Z",
     "shell.execute_reply.started": "2022-06-07T18:53:35.908957Z"
    },
    "tags": []
   },
   "outputs": [],
   "source": [
    "# 5-fold cross validation\n",
    "kf = KFold(n_splits=5, shuffle=True, random_state=42)\n",
    "splits = []\n",
    "for train_idx, val_idx in kf.split(X, y):\n",
    "    # Apply split\n",
    "    X_train, X_val = X.iloc[train_idx], X.iloc[val_idx]\n",
    "    y_train, y_val = y.iloc[train_idx], y.iloc[val_idx]\n",
    "    \n",
    "    # Reset indices\n",
    "    X_train.reset_index(drop=True, inplace=True)\n",
    "    y_train.reset_index(drop=True, inplace=True)\n",
    "    X_val.reset_index(drop=True, inplace=True)\n",
    "    y_val.reset_index(drop=True, inplace=True)\n",
    "    splits.append((X_train, X_val, y_train, y_val))\n",
    "f1_scores, acc_scores, roc_auc_scores, conf_matrices, models = [], [], [], [], []"
   ]
  },
  {
   "cell_type": "markdown",
   "id": "53883828-1881-4957-b91f-7975edd5a990",
   "metadata": {},
   "source": [
    "## Gaussian NB OVR"
   ]
  },
  {
   "cell_type": "code",
   "execution_count": 11,
   "id": "b1e19ef8-54af-4ccd-8f79-ed86338d5bdf",
   "metadata": {
    "execution": {
     "iopub.execute_input": "2022-06-07T18:53:36.196717Z",
     "iopub.status.busy": "2022-06-07T18:53:36.196643Z",
     "iopub.status.idle": "2022-06-07T18:54:13.810402Z",
     "shell.execute_reply": "2022-06-07T18:54:13.809966Z",
     "shell.execute_reply.started": "2022-06-07T18:53:36.196708Z"
    },
    "tags": []
   },
   "outputs": [
    {
     "name": "stdout",
     "output_type": "stream",
     "text": [
      "Fitting 3 folds for each of 15 candidates, totalling 45 fits\n",
      "[CV] END ......................estimator__var_smoothing=0.01; total time=   1.0s\n",
      "[CV] END ......................estimator__var_smoothing=0.01; total time=   0.8s\n",
      "[CV] END ......................estimator__var_smoothing=0.01; total time=   0.8s\n",
      "[CV] END .....estimator__var_smoothing=0.0031622776601683794; total time=   0.9s\n",
      "[CV] END .....estimator__var_smoothing=0.0031622776601683794; total time=   0.8s\n",
      "[CV] END .....estimator__var_smoothing=0.0031622776601683794; total time=   0.8s\n",
      "[CV] END .....................estimator__var_smoothing=0.001; total time=   0.9s\n",
      "[CV] END .....................estimator__var_smoothing=0.001; total time=   0.8s\n",
      "[CV] END .....................estimator__var_smoothing=0.001; total time=   0.8s\n",
      "[CV] END ....estimator__var_smoothing=0.00031622776601683794; total time=   0.8s\n",
      "[CV] END ....estimator__var_smoothing=0.00031622776601683794; total time=   0.7s\n",
      "[CV] END ....estimator__var_smoothing=0.00031622776601683794; total time=   0.7s\n",
      "[CV] END ....................estimator__var_smoothing=0.0001; total time=   0.7s\n",
      "[CV] END ....................estimator__var_smoothing=0.0001; total time=   0.7s\n",
      "[CV] END ....................estimator__var_smoothing=0.0001; total time=   0.7s\n",
      "[CV] END ....estimator__var_smoothing=3.1622776601683795e-05; total time=   0.7s\n",
      "[CV] END ....estimator__var_smoothing=3.1622776601683795e-05; total time=   0.7s\n",
      "[CV] END ....estimator__var_smoothing=3.1622776601683795e-05; total time=   0.8s\n",
      "[CV] END .....................estimator__var_smoothing=1e-05; total time=   0.8s\n",
      "[CV] END .....................estimator__var_smoothing=1e-05; total time=   0.8s\n",
      "[CV] END .....................estimator__var_smoothing=1e-05; total time=   0.8s\n",
      "[CV] END .....estimator__var_smoothing=3.162277660168379e-06; total time=   0.8s\n",
      "[CV] END .....estimator__var_smoothing=3.162277660168379e-06; total time=   0.8s\n",
      "[CV] END .....estimator__var_smoothing=3.162277660168379e-06; total time=   0.8s\n",
      "[CV] END .....................estimator__var_smoothing=1e-06; total time=   0.7s\n",
      "[CV] END .....................estimator__var_smoothing=1e-06; total time=   0.7s\n",
      "[CV] END .....................estimator__var_smoothing=1e-06; total time=   0.7s\n",
      "[CV] END .....estimator__var_smoothing=3.162277660168379e-07; total time=   0.8s\n",
      "[CV] END .....estimator__var_smoothing=3.162277660168379e-07; total time=   0.8s\n",
      "[CV] END .....estimator__var_smoothing=3.162277660168379e-07; total time=   0.9s\n",
      "[CV] END .....................estimator__var_smoothing=1e-07; total time=   0.8s\n",
      "[CV] END .....................estimator__var_smoothing=1e-07; total time=   0.8s\n",
      "[CV] END .....................estimator__var_smoothing=1e-07; total time=   0.9s\n",
      "[CV] END .....estimator__var_smoothing=3.162277660168379e-08; total time=   0.8s\n",
      "[CV] END .....estimator__var_smoothing=3.162277660168379e-08; total time=   0.9s\n",
      "[CV] END .....estimator__var_smoothing=3.162277660168379e-08; total time=   0.9s\n",
      "[CV] END .....................estimator__var_smoothing=1e-08; total time=   0.9s\n",
      "[CV] END .....................estimator__var_smoothing=1e-08; total time=   0.8s\n",
      "[CV] END .....................estimator__var_smoothing=1e-08; total time=   0.8s\n",
      "[CV] END ....estimator__var_smoothing=3.1622776601683795e-09; total time=   0.8s\n",
      "[CV] END ....estimator__var_smoothing=3.1622776601683795e-09; total time=   0.9s\n",
      "[CV] END ....estimator__var_smoothing=3.1622776601683795e-09; total time=   0.9s\n",
      "[CV] END .....................estimator__var_smoothing=1e-09; total time=   0.9s\n",
      "[CV] END .....................estimator__var_smoothing=1e-09; total time=   0.9s\n",
      "[CV] END .....................estimator__var_smoothing=1e-09; total time=   0.9s\n"
     ]
    },
    {
     "data": {
      "text/plain": [
       "GridSearchCV(cv=3, estimator=OneVsRestClassifier(estimator=GaussianNB()),\n",
       "             param_grid={'estimator__var_smoothing': array([1.00000000e-02, 3.16227766e-03, 1.00000000e-03, 3.16227766e-04,\n",
       "       1.00000000e-04, 3.16227766e-05, 1.00000000e-05, 3.16227766e-06,\n",
       "       1.00000000e-06, 3.16227766e-07, 1.00000000e-07, 3.16227766e-08,\n",
       "       1.00000000e-08, 3.16227766e-09, 1.00000000e-09])},\n",
       "             scoring='f1_macro', verbose=2)"
      ]
     },
     "execution_count": 11,
     "metadata": {},
     "output_type": "execute_result"
    }
   ],
   "source": [
    "# Hyperparameter selection on one split\n",
    "X_train, X_val, y_train, y_val = splits[0]\n",
    "gs_cls = OneVsRestClassifier(estimator=GaussianNB())\n",
    "params_GS = {'estimator__var_smoothing': np.logspace(-2, -9, num=15)}\n",
    "gs_GS = GridSearchCV(estimator=gs_cls, param_grid=params_GS, cv=3, verbose=2, scoring='f1_macro')\n",
    "gs_GS.fit(X_train, y_train)"
   ]
  },
  {
   "cell_type": "code",
   "execution_count": 12,
   "id": "4ff8fe27-32e1-483f-bdc3-ea573aebac51",
   "metadata": {
    "execution": {
     "iopub.execute_input": "2022-06-07T18:54:13.813383Z",
     "iopub.status.busy": "2022-06-07T18:54:13.813251Z",
     "iopub.status.idle": "2022-06-07T18:54:13.816206Z",
     "shell.execute_reply": "2022-06-07T18:54:13.815766Z",
     "shell.execute_reply.started": "2022-06-07T18:54:13.813368Z"
    },
    "tags": []
   },
   "outputs": [
    {
     "data": {
      "text/plain": [
       "{'estimator__var_smoothing': 0.01}"
      ]
     },
     "execution_count": 12,
     "metadata": {},
     "output_type": "execute_result"
    }
   ],
   "source": [
    "gs_GS.best_params_"
   ]
  },
  {
   "cell_type": "code",
   "execution_count": 13,
   "id": "10d03488-5c17-4179-a414-0c94d0757565",
   "metadata": {
    "execution": {
     "iopub.execute_input": "2022-06-07T18:54:13.817062Z",
     "iopub.status.busy": "2022-06-07T18:54:13.816901Z",
     "iopub.status.idle": "2022-06-07T18:54:20.215547Z",
     "shell.execute_reply": "2022-06-07T18:54:20.215193Z",
     "shell.execute_reply.started": "2022-06-07T18:54:13.817049Z"
    },
    "tags": []
   },
   "outputs": [
    {
     "name": "stdout",
     "output_type": "stream",
     "text": [
      "Split 0:\n",
      "  F1 score: 0.3720011795230375\n",
      "  Accuracy: 0.3754710517300445\n",
      "Split 1:\n",
      "  F1 score: 0.3704371414838481\n",
      "  Accuracy: 0.3713600548132922\n",
      "Split 2:\n",
      "  F1 score: 0.3823968237430503\n",
      "  Accuracy: 0.38472079479273724\n",
      "Split 3:\n",
      "  F1 score: 0.3596746225544001\n",
      "  Accuracy: 0.3672490578965399\n",
      "Split 4:\n",
      "  F1 score: 0.3745896057448504\n",
      "  Accuracy: 0.3774199074867226\n",
      "Average F1 score: 0.3718198746098373\n",
      "Average accuracy: 0.3752441733438673\n"
     ]
    }
   ],
   "source": [
    "# Let us now compute performance metrics.\n",
    "for i, (X_train, X_val, y_train, y_val) in enumerate(splits):\n",
    "    print(f\"Split {i}:\")\n",
    "    # Train model\n",
    "    model = OneVsRestClassifier(GaussianNB(**{k.split('__')[-1]: v \n",
    "                                                  for (k, v) in gs_GS.best_params_.items()}))\n",
    "    model.fit(X_train, y_train)\n",
    "    # Predict\n",
    "    y_pred = model.predict(X_val)\n",
    "    y_proba = model.predict_proba(X_val)\n",
    "    # Compute and append f1, accuracy, confusion matrix; \n",
    "    f1_scores.append(f1_score(y_val, y_pred, average='macro'))\n",
    "    acc_scores.append(accuracy_score(y_val, y_pred))\n",
    "    print(f\"  F1 score: {f1_scores[-1]}\")\n",
    "    print(f\"  Accuracy: {acc_scores[-1]}\")\n",
    "    conf_matrices.append(confusion_matrix(y_val, y_pred))\n",
    "    models.append(model)\n",
    "print(f\"Average F1 score: {np.average(f1_scores)}\")\n",
    "print(f\"Average accuracy: {np.average(acc_scores)}\")"
   ]
  },
  {
   "cell_type": "code",
   "execution_count": 14,
   "id": "bf1064a4-00cb-49d2-838e-259cc96bb0dc",
   "metadata": {
    "execution": {
     "iopub.execute_input": "2022-06-07T18:54:20.216256Z",
     "iopub.status.busy": "2022-06-07T18:54:20.216166Z",
     "iopub.status.idle": "2022-06-07T18:54:20.331987Z",
     "shell.execute_reply": "2022-06-07T18:54:20.331467Z",
     "shell.execute_reply.started": "2022-06-07T18:54:20.216246Z"
    },
    "tags": []
   },
   "outputs": [
    {
     "data": {
      "text/plain": [
       "Text(33.0, 0.5, 'True label')"
      ]
     },
     "execution_count": 14,
     "metadata": {},
     "output_type": "execute_result"
    },
    {
     "data": {
      "image/png": "[encoded data removed]",
      "text/plain": [
       "<Figure size 432x288 with 2 Axes>"
      ]
     },
     "metadata": {
      "needs_background": "light"
     },
     "output_type": "display_data"
    }
   ],
   "source": [
    "sns.heatmap(sum(conf_matrices), annot=True, cmap=\"Blues\", fmt=\"d\")\n",
    "plt.xlabel('Predicted label'); plt.ylabel('True label')"
   ]
  },
  {
   "cell_type": "code",
   "execution_count": 15,
   "id": "6968c35e-e575-4da7-b59b-dc75731fdfcb",
   "metadata": {
    "execution": {
     "iopub.execute_input": "2022-06-07T18:54:20.332716Z",
     "iopub.status.busy": "2022-06-07T18:54:20.332610Z",
     "iopub.status.idle": "2022-06-07T18:54:20.438063Z",
     "shell.execute_reply": "2022-06-07T18:54:20.437600Z",
     "shell.execute_reply.started": "2022-06-07T18:54:20.332704Z"
    },
    "tags": []
   },
   "outputs": [
    {
     "data": {
      "text/plain": [
       "Text(33.0, 0.5, 'True label')"
      ]
     },
     "execution_count": 15,
     "metadata": {},
     "output_type": "execute_result"
    },
    {
     "data": {
      "image/png": "[encoded data removed]",
      "text/plain": [
       "<Figure size 432x288 with 2 Axes>"
      ]
     },
     "metadata": {
      "needs_background": "light"
     },
     "output_type": "display_data"
    }
   ],
   "source": [
    "# With percentages instead\n",
    "sns.heatmap(sum(conf_matrices)/np.sum(sum(conf_matrices)), \n",
    "            annot=True, cmap=\"Blues\", fmt=\".2%\")\n",
    "plt.xlabel('Predicted label'); plt.ylabel('True label')"
   ]
  },
  {
   "cell_type": "code",
   "execution_count": 16,
   "id": "fac7b154-e56d-45f4-9ed7-fd0bf5f62e3e",
   "metadata": {
    "execution": {
     "iopub.execute_input": "2022-06-07T18:54:20.438984Z",
     "iopub.status.busy": "2022-06-07T18:54:20.438741Z",
     "iopub.status.idle": "2022-06-07T18:54:21.794019Z",
     "shell.execute_reply": "2022-06-07T18:54:21.793697Z",
     "shell.execute_reply.started": "2022-06-07T18:54:20.438965Z"
    },
    "tags": []
   },
   "outputs": [
    {
     "name": "stdout",
     "output_type": "stream",
     "text": [
      "ROC/AUC score: 0.7617871595563919\n"
     ]
    }
   ],
   "source": [
    "# Training on a new 80-20 split to compute AUC/ROC and draw ROC curve\n",
    "X_train, X_val, y_train, y_val = train_test_split(X, y, test_size=0.2)\n",
    "X_train.reset_index(drop=True, inplace=True)\n",
    "y_train.reset_index(drop=True, inplace=True)\n",
    "X_val.reset_index(drop=True, inplace=True)\n",
    "y_val.reset_index(drop=True, inplace=True)\n",
    "y_train_bin = pd.DataFrame(preprocessing.label_binarize(y_train, classes=range(1, 6)))\n",
    "y_val_bin = pd.DataFrame(preprocessing.label_binarize(y_val, classes=range(1, 6)))\n",
    "model = OneVsRestClassifier(GaussianNB(**{k.split('__')[-1]: v \n",
    "                                                  for (k, v) in gs_GS.best_params_.items()}))\n",
    "model.fit(X_train, y_train_bin)\n",
    "roc_auc_scores.append(roc_auc_score(y_val_bin, model.predict_proba(X_val)))\n",
    "print(f\"ROC/AUC score: {roc_auc_scores[-1]}\")"
   ]
  },
  {
   "cell_type": "code",
   "execution_count": 17,
   "id": "b9c4c2a5-ce83-421e-b7a3-31666451e66b",
   "metadata": {
    "execution": {
     "iopub.execute_input": "2022-06-07T18:54:21.794633Z",
     "iopub.status.busy": "2022-06-07T18:54:21.794557Z",
     "iopub.status.idle": "2022-06-07T18:54:23.133491Z",
     "shell.execute_reply": "2022-06-07T18:54:23.133048Z",
     "shell.execute_reply.started": "2022-06-07T18:54:21.794624Z"
    },
    "tags": []
   },
   "outputs": [
    {
     "data": {
      "text/plain": [
       "[<matplotlib.lines.Line2D at 0x17755e520>]"
      ]
     },
     "execution_count": 17,
     "metadata": {},
     "output_type": "execute_result"
    },
    {
     "data": {
      "image/png": "[encoded data removed]",
      "text/plain": [
       "<Figure size 432x288 with 1 Axes>"
      ]
     },
     "metadata": {
      "needs_background": "light"
     },
     "output_type": "display_data"
    }
   ],
   "source": [
    "# ROC Curve\n",
    "for i in range(5):\n",
    "    model=OneVsRestClassifier(GaussianNB(**{k.split('__')[-1]: v \n",
    "                                                  for (k, v) in gs_GS.best_params_.items()}))\n",
    "    model.fit(X_train, y_train_bin[i])\n",
    "    RocCurveDisplay.from_predictions(y_val_bin[i], model.predict_proba(X_val)[:, 1], \n",
    "                                     color=[\"red\", \"green\", \"aqua\", \"darkorange\", \"cornflowerblue\"][i],\n",
    "                                     label=f\"Class {i+1} (AUC: {roc_auc_score(y_val_bin[i], model.predict_proba(X_val)[:, 1]):.2f})\", ax=plt.gca())\n",
    "plt.xlim([0, 1]); plt.ylim([0, 1.05])\n",
    "plt.plot([0, 1], [0, 1], 'k--')"
   ]
  },
  {
   "cell_type": "markdown",
   "id": "541f2f7d-1dbb-4cce-ba6c-54e3610d3bc6",
   "metadata": {},
   "source": [
    "## Logistic Regression OVR"
   ]
  },
  {
   "cell_type": "code",
   "execution_count": 18,
   "id": "657dd632-b01d-47e0-b17e-4bc346054629",
   "metadata": {
    "execution": {
     "iopub.execute_input": "2022-06-07T18:54:23.134437Z",
     "iopub.status.busy": "2022-06-07T18:54:23.134285Z",
     "iopub.status.idle": "2022-06-07T19:01:41.465730Z",
     "shell.execute_reply": "2022-06-07T19:01:41.459471Z",
     "shell.execute_reply.started": "2022-06-07T18:54:23.134424Z"
    },
    "tags": []
   },
   "outputs": [
    {
     "name": "stdout",
     "output_type": "stream",
     "text": [
      "Fitting 3 folds for each of 10 candidates, totalling 30 fits\n",
      "[CV] END ....................estimator__C=0.6309573444801932; total time=   7.7s\n",
      "[CV] END ....................estimator__C=0.6309573444801932; total time=   8.1s\n",
      "[CV] END ....................estimator__C=0.6309573444801932; total time=   8.2s\n",
      "[CV] END ....................estimator__C=0.7943282347242815; total time=   8.2s\n",
      "[CV] END ....................estimator__C=0.7943282347242815; total time=   8.7s\n",
      "[CV] END ....................estimator__C=0.7943282347242815; total time=   8.9s\n",
      "[CV] END ....................estimator__C=0.9999999999999999; total time=   9.1s\n",
      "[CV] END ....................estimator__C=0.9999999999999999; total time=   9.1s\n",
      "[CV] END ....................estimator__C=0.9999999999999999; total time=   9.9s\n",
      "[CV] END .....................estimator__C=1.258925411794167; total time=  10.2s\n",
      "[CV] END .....................estimator__C=1.258925411794167; total time=  10.0s\n",
      "[CV] END .....................estimator__C=1.258925411794167; total time=  11.1s\n",
      "[CV] END ....................estimator__C=1.5848931924611134; total time=  12.4s\n",
      "[CV] END ....................estimator__C=1.5848931924611134; total time=  13.1s\n",
      "[CV] END ....................estimator__C=1.5848931924611134; total time=  13.9s\n",
      "[CV] END ....................estimator__C=1.9952623149688793; total time=  12.0s\n",
      "[CV] END ....................estimator__C=1.9952623149688793; total time=  13.1s\n",
      "[CV] END ....................estimator__C=1.9952623149688793; total time=  16.0s\n",
      "[CV] END ......................estimator__C=2.51188643150958; total time=  14.3s\n",
      "[CV] END ......................estimator__C=2.51188643150958; total time=  14.6s\n",
      "[CV] END ......................estimator__C=2.51188643150958; total time=  15.9s\n",
      "[CV] END .....................estimator__C=3.162277660168379; total time=  14.6s\n",
      "[CV] END .....................estimator__C=3.162277660168379; total time=  18.9s\n",
      "[CV] END .....................estimator__C=3.162277660168379; total time=  19.1s\n",
      "[CV] END ....................estimator__C=3.9810717055349714; total time=  18.0s\n",
      "[CV] END ....................estimator__C=3.9810717055349714; total time=  17.2s\n",
      "[CV] END ....................estimator__C=3.9810717055349714; total time=  18.7s\n",
      "[CV] END .....................estimator__C=5.011872336272722; total time=  19.2s\n",
      "[CV] END .....................estimator__C=5.011872336272722; total time=  23.2s\n",
      "[CV] END .....................estimator__C=5.011872336272722; total time=  22.1s\n"
     ]
    },
    {
     "data": {
      "text/plain": [
       "GridSearchCV(cv=3,\n",
       "             estimator=OneVsRestClassifier(estimator=LogisticRegression(max_iter=1500)),\n",
       "             param_grid={'estimator__C': array([0.63095734, 0.79432823, 1.        , 1.25892541, 1.58489319,\n",
       "       1.99526231, 2.51188643, 3.16227766, 3.98107171, 5.01187234])},\n",
       "             scoring='f1_macro', verbose=2)"
      ]
     },
     "execution_count": 18,
     "metadata": {},
     "output_type": "execute_result"
    }
   ],
   "source": [
    "# Hyperparameter selection on one split\n",
    "X_train, X_val, y_train, y_val = splits[0]\n",
    "gs_cls = OneVsRestClassifier(estimator=LogisticRegression(max_iter=1500))\n",
    "params_LR = {'estimator__C': np.logspace(-0.2, 0.7, num=10)}\n",
    "gs_LR = GridSearchCV(estimator=gs_cls, param_grid=params_LR, cv=3, verbose=2, scoring='f1_macro')\n",
    "gs_LR.fit(X_train, y_train)"
   ]
  },
  {
   "cell_type": "code",
   "execution_count": 19,
   "id": "18b920f3-cc0e-407e-809d-d2dc4ce1f6c5",
   "metadata": {
    "execution": {
     "iopub.execute_input": "2022-06-07T19:01:41.467150Z",
     "iopub.status.busy": "2022-06-07T19:01:41.466968Z",
     "iopub.status.idle": "2022-06-07T19:01:41.473908Z",
     "shell.execute_reply": "2022-06-07T19:01:41.473021Z",
     "shell.execute_reply.started": "2022-06-07T19:01:41.467118Z"
    },
    "tags": []
   },
   "outputs": [
    {
     "data": {
      "text/plain": [
       "{'estimator__C': 3.9810717055349714,\n",
       " 'estimator__class_weight': None,\n",
       " 'estimator__dual': False,\n",
       " 'estimator__fit_intercept': True,\n",
       " 'estimator__intercept_scaling': 1,\n",
       " 'estimator__l1_ratio': None,\n",
       " 'estimator__max_iter': 1500,\n",
       " 'estimator__multi_class': 'auto',\n",
       " 'estimator__n_jobs': None,\n",
       " 'estimator__penalty': 'l2',\n",
       " 'estimator__random_state': None,\n",
       " 'estimator__solver': 'lbfgs',\n",
       " 'estimator__tol': 0.0001,\n",
       " 'estimator__verbose': 0,\n",
       " 'estimator__warm_start': False,\n",
       " 'estimator': LogisticRegression(C=3.9810717055349714, max_iter=1500),\n",
       " 'n_jobs': None}"
      ]
     },
     "execution_count": 19,
     "metadata": {},
     "output_type": "execute_result"
    }
   ],
   "source": [
    "gs_LR.best_estimator_.get_params()"
   ]
  },
  {
   "cell_type": "code",
   "execution_count": 20,
   "id": "b13832ba-bbee-4380-bb30-22fc134aa375",
   "metadata": {
    "execution": {
     "iopub.execute_input": "2022-06-07T19:01:41.475067Z",
     "iopub.status.busy": "2022-06-07T19:01:41.474908Z",
     "iopub.status.idle": "2022-06-07T19:04:24.790845Z",
     "shell.execute_reply": "2022-06-07T19:04:24.777401Z",
     "shell.execute_reply.started": "2022-06-07T19:01:41.475046Z"
    },
    "tags": []
   },
   "outputs": [
    {
     "name": "stdout",
     "output_type": "stream",
     "text": [
      "Split 0:\n",
      "  F1 score: 0.4693758592266281\n",
      "  Accuracy: 0.47430626927029806\n",
      "Split 1:\n",
      "  F1 score: 0.46860826334829797\n",
      "  Accuracy: 0.46933881466255567\n",
      "Split 2:\n",
      "  F1 score: 0.4838038832684532\n",
      "  Accuracy: 0.4886947584789311\n",
      "Split 3:\n",
      "  F1 score: 0.47465016781947095\n",
      "  Accuracy: 0.47584789311408016\n",
      "Split 4:\n",
      "  F1 score: 0.4716793483781041\n",
      "  Accuracy: 0.4738735651875964\n",
      "Average F1 score: 0.4227216895090141\n",
      "Average accuracy: 0.42582821674327975\n"
     ]
    }
   ],
   "source": [
    "# Let us now compute performance metrics.\n",
    "for i, (X_train, X_val, y_train, y_val) in enumerate(splits):\n",
    "    print(f\"Split {i}:\")\n",
    "    # Train model\n",
    "    model = OneVsRestClassifier(LogisticRegression(**{k.split('__')[-1]: v \n",
    "                                                  for (k, v) in gs_LR.best_estimator_.get_params().items() \n",
    "                                                             if (k == 'estimator__C' or k == 'estimator__max_iter')}))\n",
    "    model.fit(X_train, y_train)\n",
    "    # Predict\n",
    "    y_pred = model.predict(X_val)\n",
    "    y_proba = model.predict_proba(X_val)\n",
    "    # Compute and append f1, accuracy, confusion matrix; \n",
    "    f1_scores.append(f1_score(y_val, y_pred, average='macro'))\n",
    "    acc_scores.append(accuracy_score(y_val, y_pred))\n",
    "    print(f\"  F1 score: {f1_scores[-1]}\")\n",
    "    print(f\"  Accuracy: {acc_scores[-1]}\")\n",
    "    conf_matrices.append(confusion_matrix(y_val, y_pred))\n",
    "    models.append(model)\n",
    "print(f\"Average F1 score: {np.average(f1_scores)}\")\n",
    "print(f\"Average accuracy: {np.average(acc_scores)}\")"
   ]
  },
  {
   "cell_type": "code",
   "execution_count": 21,
   "id": "41a257fa-d801-4cf9-950d-9edb4903c03c",
   "metadata": {
    "execution": {
     "iopub.execute_input": "2022-06-07T19:04:24.793348Z",
     "iopub.status.busy": "2022-06-07T19:04:24.793139Z",
     "iopub.status.idle": "2022-06-07T19:04:25.186110Z",
     "shell.execute_reply": "2022-06-07T19:04:25.185514Z",
     "shell.execute_reply.started": "2022-06-07T19:04:24.793323Z"
    }
   },
   "outputs": [
    {
     "data": {
      "text/plain": [
       "Text(33.0, 0.5, 'True label')"
      ]
     },
     "execution_count": 21,
     "metadata": {},
     "output_type": "execute_result"
    },
    {
     "data": {
      "image/png": "[encoded data removed]",
      "text/plain": [
       "<Figure size 432x288 with 2 Axes>"
      ]
     },
     "metadata": {
      "needs_background": "light"
     },
     "output_type": "display_data"
    }
   ],
   "source": [
    "sns.heatmap(sum(conf_matrices), annot=True, cmap=\"Blues\", fmt=\"d\")\n",
    "plt.xlabel('Predicted label'); plt.ylabel('True label')"
   ]
  },
  {
   "cell_type": "code",
   "execution_count": 22,
   "id": "ba6d548b-6773-4cec-b318-beaf60467015",
   "metadata": {
    "execution": {
     "iopub.execute_input": "2022-06-07T19:04:25.187354Z",
     "iopub.status.busy": "2022-06-07T19:04:25.187144Z",
     "iopub.status.idle": "2022-06-07T19:04:25.314717Z",
     "shell.execute_reply": "2022-06-07T19:04:25.314223Z",
     "shell.execute_reply.started": "2022-06-07T19:04:25.187328Z"
    }
   },
   "outputs": [
    {
     "data": {
      "text/plain": [
       "Text(33.0, 0.5, 'True label')"
      ]
     },
     "execution_count": 22,
     "metadata": {},
     "output_type": "execute_result"
    },
    {
     "data": {
      "image/png": "[encoded data removed]",
      "text/plain": [
       "<Figure size 432x288 with 2 Axes>"
      ]
     },
     "metadata": {
      "needs_background": "light"
     },
     "output_type": "display_data"
    }
   ],
   "source": [
    "# With percentages instead\n",
    "sns.heatmap(sum(conf_matrices)/np.sum(sum(conf_matrices)), \n",
    "            annot=True, cmap=\"Blues\", fmt=\".2%\")\n",
    "plt.xlabel('Predicted label'); plt.ylabel('True label')"
   ]
  },
  {
   "cell_type": "code",
   "execution_count": 23,
   "id": "6c52f6a3-41c1-4929-8add-746a0ce559bc",
   "metadata": {
    "execution": {
     "iopub.execute_input": "2022-06-07T19:04:25.315822Z",
     "iopub.status.busy": "2022-06-07T19:04:25.315646Z",
     "iopub.status.idle": "2022-06-07T19:04:58.263240Z",
     "shell.execute_reply": "2022-06-07T19:04:58.253911Z",
     "shell.execute_reply.started": "2022-06-07T19:04:25.315801Z"
    }
   },
   "outputs": [
    {
     "name": "stdout",
     "output_type": "stream",
     "text": [
      "ROC/AUC score: 0.7876019780638325\n"
     ]
    }
   ],
   "source": [
    "# Training on a new 80-20 split to compute AUC/ROC and draw ROC curve\n",
    "X_train, X_val, y_train, y_val = train_test_split(X, y, test_size=0.2)\n",
    "X_train.reset_index(drop=True, inplace=True)\n",
    "y_train.reset_index(drop=True, inplace=True)\n",
    "X_val.reset_index(drop=True, inplace=True)\n",
    "y_val.reset_index(drop=True, inplace=True)\n",
    "y_train_bin = pd.DataFrame(preprocessing.label_binarize(y_train, classes=range(1, 6)))\n",
    "y_val_bin = pd.DataFrame(preprocessing.label_binarize(y_val, classes=range(1, 6)))\n",
    "model = OneVsRestClassifier(LogisticRegression(**{k.split('__')[-1]: v \n",
    "                                                  for (k, v) in gs_LR.best_estimator_.get_params().items() \n",
    "                                                             if (k == 'estimator__C' or k == 'estimator__max_iter')}))\n",
    "model.fit(X_train, y_train_bin)\n",
    "roc_auc_scores.append(roc_auc_score(y_val_bin, model.predict_proba(X_val)))\n",
    "print(f\"ROC/AUC score: {roc_auc_scores[-1]}\")"
   ]
  },
  {
   "cell_type": "code",
   "execution_count": 24,
   "id": "2845caf1-fc12-43e0-88a8-f4bd9aa2d4e9",
   "metadata": {
    "execution": {
     "iopub.execute_input": "2022-06-07T19:04:58.269640Z",
     "iopub.status.busy": "2022-06-07T19:04:58.268847Z",
     "iopub.status.idle": "2022-06-07T19:05:34.718185Z",
     "shell.execute_reply": "2022-06-07T19:05:34.716044Z",
     "shell.execute_reply.started": "2022-06-07T19:04:58.269607Z"
    },
    "tags": []
   },
   "outputs": [
    {
     "data": {
      "text/plain": [
       "[<matplotlib.lines.Line2D at 0x1682e2820>]"
      ]
     },
     "execution_count": 24,
     "metadata": {},
     "output_type": "execute_result"
    },
    {
     "data": {
      "image/png": "[encoded data removed]",
      "text/plain": [
       "<Figure size 432x288 with 1 Axes>"
      ]
     },
     "metadata": {
      "needs_background": "light"
     },
     "output_type": "display_data"
    }
   ],
   "source": [
    "# ROC Curve\n",
    "for i in range(5):\n",
    "    model = OneVsRestClassifier(LogisticRegression(**{k.split('__')[-1]: v \n",
    "                                                    for (k, v) in gs_LR.best_estimator_.get_params().items() \n",
    "                                                               if (k == 'estimator__C' or k == 'estimator__max_iter')}))\n",
    "    model.fit(X_train, y_train_bin[i])\n",
    "    RocCurveDisplay.from_predictions(y_val_bin[i], model.predict_proba(X_val)[:, 1], \n",
    "                                     color=[\"red\", \"green\", \"aqua\", \"darkorange\", \"cornflowerblue\"][i],\n",
    "                                     label=f\"Class {i+1} (AUC: {roc_auc_score(y_val_bin[i], model.predict_proba(X_val)[:, 1]):.2f})\", ax=plt.gca())\n",
    "plt.xlim([0, 1]); plt.ylim([0, 1.05])\n",
    "plt.plot([0, 1], [0, 1], 'k--')"
   ]
  },
  {
   "cell_type": "markdown",
   "id": "4b025217-4d82-4d64-a890-d80cda2bab42",
   "metadata": {},
   "source": [
    "## Decision Tree Classifier OVR"
   ]
  },
  {
   "cell_type": "code",
   "execution_count": 25,
   "id": "b2e4daff-158d-46fa-9733-d78d4c3cd6a0",
   "metadata": {
    "execution": {
     "iopub.execute_input": "2022-06-07T19:05:34.721303Z",
     "iopub.status.busy": "2022-06-07T19:05:34.720554Z",
     "iopub.status.idle": "2022-06-07T19:10:19.074807Z",
     "shell.execute_reply": "2022-06-07T19:10:19.074546Z",
     "shell.execute_reply.started": "2022-06-07T19:05:34.721257Z"
    },
    "tags": []
   },
   "outputs": [
    {
     "name": "stdout",
     "output_type": "stream",
     "text": [
      "Fitting 3 folds for each of 10 candidates, totalling 30 fits\n",
      "[CV] END estimator__criterion=entropy, estimator__max_depth=40; total time=   6.6s\n",
      "[CV] END estimator__criterion=entropy, estimator__max_depth=40; total time=   6.5s\n",
      "[CV] END estimator__criterion=entropy, estimator__max_depth=40; total time=   6.5s\n",
      "[CV] END estimator__criterion=entropy, estimator__max_depth=55; total time=   7.5s\n",
      "[CV] END estimator__criterion=entropy, estimator__max_depth=55; total time=   7.9s\n",
      "[CV] END estimator__criterion=entropy, estimator__max_depth=55; total time=   7.8s\n",
      "[CV] END estimator__criterion=entropy, estimator__max_depth=70; total time=   8.5s\n",
      "[CV] END estimator__criterion=entropy, estimator__max_depth=70; total time=   8.9s\n",
      "[CV] END estimator__criterion=entropy, estimator__max_depth=70; total time=   8.8s\n",
      "[CV] END estimator__criterion=entropy, estimator__max_depth=85; total time=   9.2s\n",
      "[CV] END estimator__criterion=entropy, estimator__max_depth=85; total time=   9.6s\n",
      "[CV] END estimator__criterion=entropy, estimator__max_depth=85; total time=   9.5s\n",
      "[CV] END estimator__criterion=entropy, estimator__max_depth=100; total time=   9.6s\n",
      "[CV] END estimator__criterion=entropy, estimator__max_depth=100; total time=  10.2s\n",
      "[CV] END estimator__criterion=entropy, estimator__max_depth=100; total time=  10.1s\n",
      "[CV] END .estimator__criterion=gini, estimator__max_depth=40; total time=   6.4s\n",
      "[CV] END .estimator__criterion=gini, estimator__max_depth=40; total time=   6.7s\n",
      "[CV] END .estimator__criterion=gini, estimator__max_depth=40; total time=   6.8s\n",
      "[CV] END .estimator__criterion=gini, estimator__max_depth=55; total time=   8.1s\n",
      "[CV] END .estimator__criterion=gini, estimator__max_depth=55; total time=   8.6s\n",
      "[CV] END .estimator__criterion=gini, estimator__max_depth=55; total time=   8.7s\n",
      "[CV] END .estimator__criterion=gini, estimator__max_depth=70; total time=   9.5s\n",
      "[CV] END .estimator__criterion=gini, estimator__max_depth=70; total time=  10.2s\n",
      "[CV] END .estimator__criterion=gini, estimator__max_depth=70; total time=  10.2s\n",
      "[CV] END .estimator__criterion=gini, estimator__max_depth=85; total time=  10.7s\n",
      "[CV] END .estimator__criterion=gini, estimator__max_depth=85; total time=  11.5s\n",
      "[CV] END .estimator__criterion=gini, estimator__max_depth=85; total time=  11.5s\n",
      "[CV] END estimator__criterion=gini, estimator__max_depth=100; total time=  11.9s\n",
      "[CV] END estimator__criterion=gini, estimator__max_depth=100; total time=  12.9s\n",
      "[CV] END estimator__criterion=gini, estimator__max_depth=100; total time=  12.7s\n"
     ]
    },
    {
     "data": {
      "text/plain": [
       "GridSearchCV(cv=3,\n",
       "             estimator=OneVsRestClassifier(estimator=DecisionTreeClassifier()),\n",
       "             param_grid={'estimator__criterion': ['entropy', 'gini'],\n",
       "                         'estimator__max_depth': array([ 40,  55,  70,  85, 100])},\n",
       "             scoring='f1_macro', verbose=2)"
      ]
     },
     "execution_count": 25,
     "metadata": {},
     "output_type": "execute_result"
    }
   ],
   "source": [
    "# Hyperparameter selection on one split\n",
    "X_train, X_val, y_train, y_val = splits[0]\n",
    "gs_cls = OneVsRestClassifier(estimator=DecisionTreeClassifier())\n",
    "params_DT = {'estimator__criterion': ['entropy','gini'], 'estimator__max_depth': np.arange(40, 101, 15)}\n",
    "gs_DT = GridSearchCV(estimator=gs_cls, param_grid=params_DT, cv=3, verbose=2, scoring='f1_macro')\n",
    "gs_DT.fit(X_train, y_train)"
   ]
  },
  {
   "cell_type": "code",
   "execution_count": 26,
   "id": "4011f5d3-f7b7-41d6-be15-ee5ed499058f",
   "metadata": {
    "execution": {
     "iopub.execute_input": "2022-06-07T19:10:19.075450Z",
     "iopub.status.busy": "2022-06-07T19:10:19.075372Z",
     "iopub.status.idle": "2022-06-07T19:10:19.077901Z",
     "shell.execute_reply": "2022-06-07T19:10:19.077613Z",
     "shell.execute_reply.started": "2022-06-07T19:10:19.075442Z"
    }
   },
   "outputs": [
    {
     "data": {
      "text/plain": [
       "{'estimator__criterion': 'entropy', 'estimator__max_depth': 40}"
      ]
     },
     "execution_count": 26,
     "metadata": {},
     "output_type": "execute_result"
    }
   ],
   "source": [
    "gs_DT.best_params_"
   ]
  },
  {
   "cell_type": "code",
   "execution_count": 27,
   "id": "220109e6-c35b-4efe-a2c8-150365645a34",
   "metadata": {
    "execution": {
     "iopub.execute_input": "2022-06-07T19:10:19.078365Z",
     "iopub.status.busy": "2022-06-07T19:10:19.078308Z",
     "iopub.status.idle": "2022-06-07T19:10:19.080092Z",
     "shell.execute_reply": "2022-06-07T19:10:19.079835Z",
     "shell.execute_reply.started": "2022-06-07T19:10:19.078357Z"
    }
   },
   "outputs": [],
   "source": [
    "from warnings import simplefilter\n",
    "simplefilter(action='ignore', category=RuntimeWarning)"
   ]
  },
  {
   "cell_type": "code",
   "execution_count": 28,
   "id": "2557eaea-fa1f-427b-9847-e1b6a76a67d3",
   "metadata": {
    "execution": {
     "iopub.execute_input": "2022-06-07T19:10:19.080591Z",
     "iopub.status.busy": "2022-06-07T19:10:19.080505Z",
     "iopub.status.idle": "2022-06-07T19:11:12.237520Z",
     "shell.execute_reply": "2022-06-07T19:11:12.237209Z",
     "shell.execute_reply.started": "2022-06-07T19:10:19.080582Z"
    },
    "tags": []
   },
   "outputs": [
    {
     "name": "stdout",
     "output_type": "stream",
     "text": [
      "Split 0:\n",
      "  F1 score: 0.36951696958338054\n",
      "  Accuracy: 0.36639260020554987\n",
      "Split 1:\n",
      "  F1 score: 0.38067561863270344\n",
      "  Accuracy: 0.37375813634806443\n",
      "Split 2:\n",
      "  F1 score: 0.3574074838926535\n",
      "  Accuracy: 0.355258650222679\n",
      "Split 3:\n",
      "  F1 score: 0.37349985276786246\n",
      "  Accuracy: 0.36913326481671804\n",
      "Split 4:\n",
      "  F1 score: 0.3604289834004305\n",
      "  Accuracy: 0.35720404317286275\n",
      "Average F1 score: 0.4045830535578114\n",
      "Average accuracy: 0.4053352574799115\n"
     ]
    }
   ],
   "source": [
    "# Let us now compute performance metrics.\n",
    "for i, (X_train, X_val, y_train, y_val) in enumerate(splits):\n",
    "    print(f\"Split {i}:\")\n",
    "    # Train model\n",
    "    model = OneVsRestClassifier(DecisionTreeClassifier(**{k.split('__')[-1]: v \n",
    "                                                          for (k, v) in gs_DT.best_params_.items()}))\n",
    "    model.fit(X_train, y_train)\n",
    "    # Predict\n",
    "    y_pred = model.predict(X_val)\n",
    "    y_proba = model.predict_proba(X_val)\n",
    "    # Compute and append f1, accuracy, confusion matrix; \n",
    "    f1_scores.append(f1_score(y_val, y_pred, average='macro'))\n",
    "    acc_scores.append(accuracy_score(y_val, y_pred))\n",
    "    print(f\"  F1 score: {f1_scores[-1]}\")\n",
    "    print(f\"  Accuracy: {acc_scores[-1]}\")\n",
    "    conf_matrices.append(confusion_matrix(y_val, y_pred))\n",
    "    models.append(model)\n",
    "print(f\"Average F1 score: {np.average(f1_scores)}\")\n",
    "print(f\"Average accuracy: {np.average(acc_scores)}\")"
   ]
  },
  {
   "cell_type": "code",
   "execution_count": 29,
   "id": "0e025b0f-c309-4bf9-bbeb-f44b5f010b3b",
   "metadata": {
    "execution": {
     "iopub.execute_input": "2022-06-07T19:11:12.238218Z",
     "iopub.status.busy": "2022-06-07T19:11:12.238098Z",
     "iopub.status.idle": "2022-06-07T19:11:12.314973Z",
     "shell.execute_reply": "2022-06-07T19:11:12.314616Z",
     "shell.execute_reply.started": "2022-06-07T19:11:12.238207Z"
    },
    "tags": []
   },
   "outputs": [
    {
     "data": {
      "text/plain": [
       "Text(33.0, 0.5, 'True label')"
      ]
     },
     "execution_count": 29,
     "metadata": {},
     "output_type": "execute_result"
    },
    {
     "data": {
      "image/png": "[encoded data removed]",
      "text/plain": [
       "<Figure size 432x288 with 2 Axes>"
      ]
     },
     "metadata": {
      "needs_background": "light"
     },
     "output_type": "display_data"
    }
   ],
   "source": [
    "sns.heatmap(sum(conf_matrices), annot=True, cmap=\"Blues\", fmt=\"d\")\n",
    "plt.xlabel('Predicted label'); plt.ylabel('True label')"
   ]
  },
  {
   "cell_type": "code",
   "execution_count": 30,
   "id": "fedca0ea-6123-42ca-afde-14dd44047b67",
   "metadata": {
    "execution": {
     "iopub.execute_input": "2022-06-07T19:11:12.315690Z",
     "iopub.status.busy": "2022-06-07T19:11:12.315594Z",
     "iopub.status.idle": "2022-06-07T19:11:12.387751Z",
     "shell.execute_reply": "2022-06-07T19:11:12.387363Z",
     "shell.execute_reply.started": "2022-06-07T19:11:12.315679Z"
    },
    "tags": []
   },
   "outputs": [
    {
     "data": {
      "text/plain": [
       "Text(33.0, 0.5, 'True label')"
      ]
     },
     "execution_count": 30,
     "metadata": {},
     "output_type": "execute_result"
    },
    {
     "data": {
      "image/png": "[encoded data removed]",
      "text/plain": [
       "<Figure size 432x288 with 2 Axes>"
      ]
     },
     "metadata": {
      "needs_background": "light"
     },
     "output_type": "display_data"
    }
   ],
   "source": [
    "# With percentages instead\n",
    "sns.heatmap(sum(conf_matrices)/np.sum(sum(conf_matrices)), \n",
    "            annot=True, cmap=\"Blues\", fmt=\".2%\")\n",
    "plt.xlabel('Predicted label'); plt.ylabel('True label')"
   ]
  },
  {
   "cell_type": "code",
   "execution_count": 31,
   "id": "b8fa812a-5af5-4bc6-8156-a3b1ebb451ad",
   "metadata": {
    "execution": {
     "iopub.execute_input": "2022-06-07T19:11:12.388463Z",
     "iopub.status.busy": "2022-06-07T19:11:12.388262Z",
     "iopub.status.idle": "2022-06-07T19:11:23.186255Z",
     "shell.execute_reply": "2022-06-07T19:11:23.185954Z",
     "shell.execute_reply.started": "2022-06-07T19:11:12.388449Z"
    },
    "tags": []
   },
   "outputs": [
    {
     "name": "stdout",
     "output_type": "stream",
     "text": [
      "ROC/AUC score: 0.6476956751229161\n"
     ]
    }
   ],
   "source": [
    "# Training on a new 80-20 split to compute AUC/ROC and draw ROC curve\n",
    "X_train, X_val, y_train, y_val = train_test_split(X, y, test_size=0.2)\n",
    "X_train.reset_index(drop=True, inplace=True)\n",
    "y_train.reset_index(drop=True, inplace=True)\n",
    "X_val.reset_index(drop=True, inplace=True)\n",
    "y_val.reset_index(drop=True, inplace=True)\n",
    "y_train_bin = pd.DataFrame(preprocessing.label_binarize(y_train, classes=range(1, 6)))\n",
    "y_val_bin = pd.DataFrame(preprocessing.label_binarize(y_val, classes=range(1, 6)))\n",
    "model = OneVsRestClassifier(DecisionTreeClassifier(**{k.split('__')[-1]: v \n",
    "                                                          for (k, v) in gs_DT.best_params_.items()}))\n",
    "model.fit(X_train, y_train_bin)\n",
    "roc_auc_scores.append(roc_auc_score(y_val_bin, model.predict_proba(X_val)))\n",
    "print(f\"ROC/AUC score: {roc_auc_scores[-1]}\")"
   ]
  },
  {
   "cell_type": "code",
   "execution_count": 32,
   "id": "158bf6c7-ecbe-4728-8e47-f6d5333c4260",
   "metadata": {
    "execution": {
     "iopub.execute_input": "2022-06-07T19:11:23.186878Z",
     "iopub.status.busy": "2022-06-07T19:11:23.186808Z",
     "iopub.status.idle": "2022-06-07T19:11:34.018402Z",
     "shell.execute_reply": "2022-06-07T19:11:34.018022Z",
     "shell.execute_reply.started": "2022-06-07T19:11:23.186868Z"
    },
    "tags": []
   },
   "outputs": [
    {
     "data": {
      "text/plain": [
       "[<matplotlib.lines.Line2D at 0x163d39e50>]"
      ]
     },
     "execution_count": 32,
     "metadata": {},
     "output_type": "execute_result"
    },
    {
     "data": {
      "image/png": "[encoded data removed]",
      "text/plain": [
       "<Figure size 432x288 with 1 Axes>"
      ]
     },
     "metadata": {
      "needs_background": "light"
     },
     "output_type": "display_data"
    }
   ],
   "source": [
    "# ROC Curve\n",
    "for i in range(5):\n",
    "    model=OneVsRestClassifier(DecisionTreeClassifier(**{k.split('__')[-1]: v \n",
    "                                                          for (k, v) in gs_DT.best_params_.items()}))\n",
    "    model.fit(X_train, y_train_bin[i])\n",
    "    RocCurveDisplay.from_predictions(y_val_bin[i], model.predict_proba(X_val)[:, 1], \n",
    "                                     color=[\"red\", \"green\", \"aqua\", \"darkorange\", \"cornflowerblue\"][i],\n",
    "                                     label=f\"Class {i+1} (AUC: {roc_auc_score(y_val_bin[i], model.predict_proba(X_val)[:, 1]):.2f})\", ax=plt.gca())\n",
    "plt.xlim([0, 1]); plt.ylim([0, 1.05])\n",
    "plt.plot([0, 1], [0, 1], 'k--')"
   ]
  },
  {
   "cell_type": "markdown",
   "id": "037ae5c4-aef3-4530-8fa7-4ffabd1de3bd",
   "metadata": {},
   "source": [
    "Time to pick the best model, predict on test and save."
   ]
  },
  {
   "cell_type": "code",
   "execution_count": 35,
   "id": "d1f8bf0a-5374-4a3f-b17a-3b090df7cd86",
   "metadata": {
    "execution": {
     "iopub.execute_input": "2022-06-07T19:11:52.525406Z",
     "iopub.status.busy": "2022-06-07T19:11:52.524525Z",
     "iopub.status.idle": "2022-06-07T19:12:31.709856Z",
     "shell.execute_reply": "2022-06-07T19:12:31.699935Z",
     "shell.execute_reply.started": "2022-06-07T19:11:52.525347Z"
    },
    "tags": []
   },
   "outputs": [
    {
     "data": {
      "text/plain": [
       "OneVsRestClassifier(estimator=LogisticRegression(C=3.9810717055349714,\n",
       "                                                 max_iter=1500))"
      ]
     },
     "execution_count": 35,
     "metadata": {},
     "output_type": "execute_result"
    }
   ],
   "source": [
    "model_fin = OneVsRestClassifier(estimator=LogisticRegression(C=3.9810717055349714,\n",
    "                                                             max_iter=1500))\n",
    "model_fin.fit(X, y)"
   ]
  },
  {
   "cell_type": "code",
   "execution_count": 36,
   "id": "60aca49b-7526-4eca-bd99-ca4df2f922ca",
   "metadata": {
    "execution": {
     "iopub.execute_input": "2022-06-07T19:12:33.882385Z",
     "iopub.status.busy": "2022-06-07T19:12:33.882027Z",
     "iopub.status.idle": "2022-06-07T19:12:35.620496Z",
     "shell.execute_reply": "2022-06-07T19:12:35.620211Z",
     "shell.execute_reply.started": "2022-06-07T19:12:33.882356Z"
    },
    "tags": []
   },
   "outputs": [],
   "source": [
    "# Preprocessing\n",
    "proc_test_df = apply_tfidf(preprocess(test_df), r_vectorizer, s_vectorizer)\n",
    "proc_test_df = pd.DataFrame(scaler.transform(proc_test_df), columns=proc_test_df.columns, index=proc_test_df.index)[relcols]"
   ]
  },
  {
   "cell_type": "code",
   "execution_count": 37,
   "id": "843c20c5-9b7f-4a6f-b34b-5c3afeeb01db",
   "metadata": {
    "execution": {
     "iopub.execute_input": "2022-06-07T19:12:36.590620Z",
     "iopub.status.busy": "2022-06-07T19:12:36.589731Z",
     "iopub.status.idle": "2022-06-07T19:12:36.671953Z",
     "shell.execute_reply": "2022-06-07T19:12:36.671158Z",
     "shell.execute_reply.started": "2022-06-07T19:12:36.590555Z"
    },
    "tags": []
   },
   "outputs": [],
   "source": [
    "proc_test_df['predicted'] = model_fin.predict(proc_test_df)\n",
    "proc_test_df = proc_test_df.reset_index()[['index', 'predicted']]\n",
    "proc_test_df.rename(columns={'index': 'id'}).to_csv('task2.csv', index=False)"
   ]
  },
  {
   "cell_type": "code",
   "execution_count": null,
   "id": "377da494-19ca-41e5-ac75-c4a6835facd4",
   "metadata": {},
   "outputs": [],
   "source": []
  }
 ],
 "metadata": {
  "kernelspec": {
   "display_name": "Python 3",
   "language": "python",
   "name": "python3"
  },
  "language_info": {
   "codemirror_mode": {
    "name": "ipython",
    "version": 3
   },
   "file_extension": ".py",
   "mimetype": "text/x-python",
   "name": "python",
   "nbconvert_exporter": "python",
   "pygments_lexer": "ipython3",
   "version": "3.10.6"
  },
  "vscode": {
   "interpreter": {
    "hash": "aee8b7b246df8f9039afb4144a1f6fd8d2ca17a180786b69acc140d282b71a49"
   }
  }
 },
 "nbformat": 4,
 "nbformat_minor": 5
}
