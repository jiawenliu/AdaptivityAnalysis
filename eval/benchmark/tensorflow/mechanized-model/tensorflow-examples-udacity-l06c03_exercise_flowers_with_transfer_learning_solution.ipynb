{
  "cells": [
    {
      "cell_type": "markdown",
      "metadata": {
        "id": "W_tvPdyfA-BL"
      },
      "source": [
        "##### Copyright 2019 The TensorFlow Authors."
      ]
    },
    {
      "cell_type": "code",
      "execution_count": 1,
      "metadata": {
        "cellView": "form",
        "id": "0O_LFhwSBCjm"
      },
      "outputs": [],
      "source": [
        "#@title Licensed under the Apache License, Version 2.0 (the \"License\");\n",
        "# you may not use this file except in compliance with the License.\n",
        "# You may obtain a copy of the License at\n",
        "#\n",
        "# https://www.apache.org/licenses/LICENSE-2.0\n",
        "#\n",
        "# Unless required by applicable law or agreed to in writing, software\n",
        "# distributed under the License is distributed on an \"AS IS\" BASIS,\n",
        "# WITHOUT WARRANTIES OR CONDITIONS OF ANY KIND, either express or implied.\n",
        "# See the License for the specific language governing permissions and\n",
        "# limitations under the License."
      ]
    },
    {
      "cell_type": "markdown",
      "metadata": {
        "id": "NxjpzKTvg_dd"
      },
      "source": [
        "# TensorFlow Hub"
      ]
    },
    {
      "cell_type": "markdown",
      "metadata": {
        "id": "crU-iluJIEzw"
      },
      "source": [
        "[TensorFlow Hub](http://tensorflow.org/hub) is an online repository of already trained TensorFlow models that you can use.\n",
        "These models can either be used as is, or they can be used for Transfer Learning.\n",
        "\n",
        "Transfer learning is a process where you take an existing trained model, and extend it to do additional work. This involves leaving the bulk of the model unchanged, while adding and retraining the final layers, in order to get a different set of possible outputs.\n",
        "\n",
        "Here, you can see all the models available in [TensorFlow Module Hub](https://tfhub.dev/).\n",
        "\n",
        "Before starting this Colab, you should reset the Colab environment by selecting `Runtime -> Reset all runtimes...` from menu above."
      ]
    },
    {
      "cell_type": "markdown",
      "metadata": {
        "id": "7RVsYZLEpEWs"
      },
      "source": [
        "# Imports\n"
      ]
    },
    {
      "cell_type": "markdown",
      "metadata": {
        "id": "ZUCEcRdhnyWn"
      },
      "source": [
        "Some normal imports we've seen before. The new one is importing tensorflow_hub which this Colab will make heavy use of."
      ]
    },
    {
      "cell_type": "code",
      "execution_count": 2,
      "metadata": {
        "id": "RxwCQNZWIL8y"
      },
      "outputs": [
        {
          "name": "stderr",
          "output_type": "stream",
          "text": [
            "2023-02-26 11:41:52.549186: I tensorflow/core/platform/cpu_feature_guard.cc:193] This TensorFlow binary is optimized with oneAPI Deep Neural Network Library (oneDNN) to use the following CPU instructions in performance-critical operations:  AVX2 FMA\n",
            "To enable them in other operations, rebuild TensorFlow with the appropriate compiler flags.\n"
          ]
        }
      ],
      "source": [
        "import tensorflow as tf"
      ]
    },
    {
      "cell_type": "code",
      "execution_count": 3,
      "metadata": {
        "id": "ivDUkUNdINH2"
      },
      "outputs": [],
      "source": [
        "import numpy as np\n",
        "import math\n",
        "import matplotlib.pyplot as plt\n",
        "\n",
        "import tensorflow_hub as hub\n",
        "import tensorflow_datasets as tfds\n",
        "\n",
        "from tensorflow.keras import layers"
      ]
    },
    {
      "cell_type": "code",
      "execution_count": 4,
      "metadata": {
        "id": "NU3IAZ02G6VA"
      },
      "outputs": [],
      "source": [
        "import logging\n",
        "logger = tf.get_logger()\n",
        "logger.setLevel(logging.ERROR)"
      ]
    },
    {
      "attachments": {},
      "cell_type": "markdown",
      "metadata": {
        "id": "amfzqn1Oo7Om"
      },
      "source": [
        "#  Download the Flowers Dataset using TensorFlow Datasets"
      ]
    },
    {
      "cell_type": "markdown",
      "metadata": {
        "id": "Z93vvAdGxDMD"
      },
      "source": [
        "In the cell below you will download the Flowers dataset using TensorFlow Datasets. If you look at the [TensorFlow Datasets documentation](https://www.tensorflow.org/datasets/datasets#tf_flowers) you will see that the name of the Flowers dataset is `tf_flowers`. You can also see that this dataset is only split into a TRAINING set. You will therefore have to use `tfds.splits` to split this training set into to a `training_set` and a `validation_set`. Do a `[70, 30]` split such that 70 corresponds to the `training_set` and 30 to the `validation_set`. Then load the `tf_flowers` dataset using `tfds.load`. Make sure the `tfds.load` function uses the all the parameters you need, and also make sure it returns the dataset info, so we can retrieve information about the datasets.\n"
      ]
    },
    {
      "cell_type": "code",
      "execution_count": 5,
      "metadata": {
        "id": "oXiJjX0jfx1o"
      },
      "outputs": [
        {
          "name": "stderr",
          "output_type": "stream",
          "text": [
            "2023-02-26 11:41:59.040430: I tensorflow/core/platform/cpu_feature_guard.cc:193] This TensorFlow binary is optimized with oneAPI Deep Neural Network Library (oneDNN) to use the following CPU instructions in performance-critical operations:  AVX2 FMA\n",
            "To enable them in other operations, rebuild TensorFlow with the appropriate compiler flags.\n"
          ]
        }
      ],
      "source": [
        "(training_set, validation_set, test_set), dataset_info = tfds.load(\n",
        "    'tf_flowers',\n",
        "    split=['train[:60%]', 'train[60%:80%]', 'train[80%:]'],\n",
        "    with_info=True,\n",
        "    as_supervised=True,\n",
        ")"
      ]
    },
    {
      "attachments": {},
      "cell_type": "markdown",
      "metadata": {
        "id": "X0p1sOEHf0JF"
      },
      "source": [
        "#  Print Information about the Flowers Dataset\n",
        "\n",
        "Now that you have downloaded the dataset, use the dataset info to print the number of classes in the dataset, and also write some code that counts how many images we have in the training and validation sets. "
      ]
    },
    {
      "cell_type": "code",
      "execution_count": 6,
      "metadata": {
        "id": "DrIUV3V0xDL_"
      },
      "outputs": [
        {
          "name": "stdout",
          "output_type": "stream",
          "text": [
            "Total Number of Classes: 5\n",
            "Total Number of Training Images: 2202\n",
            "Total Number of Validation Images: 734 \n",
            "\n"
          ]
        }
      ],
      "source": [
        "num_classes = dataset_info.features['label'].num_classes\n",
        "\n",
        "num_training_examples = 0\n",
        "num_validation_examples = 0\n",
        "\n",
        "for example in training_set:\n",
        "  num_training_examples += 1\n",
        "\n",
        "for example in validation_set:\n",
        "  num_validation_examples += 1\n",
        "\n",
        "print('Total Number of Classes: {}'.format(num_classes))\n",
        "print('Total Number of Training Images: {}'.format(num_training_examples))\n",
        "print('Total Number of Validation Images: {} \\n'.format(num_validation_examples))"
      ]
    },
    {
      "cell_type": "markdown",
      "metadata": {
        "id": "UlFZ_hwjCLgS"
      },
      "source": [
        "The images in the Flowers dataset are not all the same size."
      ]
    },
    {
      "cell_type": "code",
      "execution_count": 7,
      "metadata": {
        "id": "W4lDPkn2cpWZ"
      },
      "outputs": [
        {
          "name": "stdout",
          "output_type": "stream",
          "text": [
            "Image 1 shape: (333, 500, 3) label: 2\n",
            "Image 2 shape: (212, 320, 3) label: 3\n",
            "Image 3 shape: (240, 320, 3) label: 3\n",
            "Image 4 shape: (240, 320, 3) label: 4\n",
            "Image 5 shape: (317, 500, 3) label: 3\n"
          ]
        }
      ],
      "source": [
        "for i, example in enumerate(training_set.take(5)):\n",
        "  print('Image {} shape: {} label: {}'.format(i+1, example[0].shape, example[1]))"
      ]
    },
    {
      "cell_type": "code",
      "execution_count": 8,
      "metadata": {
        "id": "we_ftzQxNf7e"
      },
      "outputs": [],
      "source": [
        "IMAGE_RES = 224\n",
        "\n",
        "def format_image(image, label):\n",
        "  image = tf.image.resize(image, (IMAGE_RES, IMAGE_RES))/255.0\n",
        "  return image, label\n",
        "\n",
        "BATCH_SIZE = 100\n",
        "\n",
        "train_batches = training_set.shuffle(num_training_examples//4).map(format_image).batch(BATCH_SIZE).prefetch(1)\n",
        "\n",
        "validation_batches = validation_set.map(format_image).batch(BATCH_SIZE).prefetch(1)"
      ]
    },
    {
      "cell_type": "code",
      "execution_count": 9,
      "metadata": {
        "id": "5wB030nezBwI"
      },
      "outputs": [],
      "source": [
        "URL = \"https://tfhub.dev/google/tf2-preview/mobilenet_v2/feature_vector/4\"\n",
        "feature_extractor = hub.KerasLayer(URL,\n",
        "                                   input_shape=(IMAGE_RES, IMAGE_RES, 3))"
      ]
    },
    {
      "attachments": {},
      "cell_type": "markdown",
      "metadata": {
        "id": "CtFmF7A5E4tk"
      },
      "source": [
        "### Freeze the Pre-Trained Model\n",
        "\n",
        "In the cell below freeze the variables in the feature extractor layer, so that the training only modifies the final classifier layer."
      ]
    },
    {
      "cell_type": "code",
      "execution_count": 10,
      "metadata": {
        "id": "Jg5ar6rcE4H-"
      },
      "outputs": [],
      "source": [
        "feature_extractor.trainable = False"
      ]
    },
    {
      "attachments": {},
      "cell_type": "markdown",
      "metadata": {
        "id": "OHbXQqIquFxQ"
      },
      "source": [
        "### Train the mechanized model\n",
        "\n",
        "In the cell bellow train this model like any other, by first calling `compile` and then followed by `fit`. Make sure you use the proper parameters when applying both methods. Train the model for only 6 epochs."
      ]
    },
    {
      "cell_type": "code",
      "execution_count": 11,
      "metadata": {},
      "outputs": [],
      "source": [
        "import sys\n",
        "sys.path.append(\"..\")\n",
        "\n",
        "from mechanism.mechanized_sequential import MechanizedSequential\n",
        "from mechanism.mechanized_sequential import Mechanism\n",
        "model = MechanizedSequential([\n",
        "    feature_extractor,\n",
        "    layers.Dense(num_classes)\n",
        "])\n",
        "\n"
      ]
    },
    {
      "cell_type": "code",
      "execution_count": 12,
      "metadata": {},
      "outputs": [
        {
          "name": "stdout",
          "output_type": "stream",
          "text": [
            "Epoch 1/2\n",
            "23/23 [==============================] - 44s 2s/step - loss: 1.1459 - accuracy: 0.5718 - val_loss: 0.7274 - val_accuracy: 0.7398\n",
            "Epoch 2/2\n",
            "23/23 [==============================] - 47s 2s/step - loss: 0.5923 - accuracy: 0.8015 - val_loss: 0.5449 - val_accuracy: 0.8093\n"
          ]
        }
      ],
      "source": [
        "model.choose_mech(None)\n",
        "\n",
        "model.compile(\n",
        "  optimizer='adam',\n",
        "  loss=tf.keras.losses.SparseCategoricalCrossentropy(from_logits=True),\n",
        "  metrics=['accuracy'])\n",
        "\n",
        "EPOCHS = 2\n",
        "\n",
        "empirical_history = model.fit(train_batches,\n",
        "                    epochs=EPOCHS,\n",
        "                    validation_data=validation_batches)"
      ]
    },
    {
      "cell_type": "code",
      "execution_count": 14,
      "metadata": {},
      "outputs": [
        {
          "name": "stdout",
          "output_type": "stream",
          "text": [
            "8/8 [==============================] - 10s 1s/step\n",
            "Predicting Accuracy is: 0.8051771117166212 \n",
            "8/8 [==============================] - 9s 1s/step - loss: 0.5282 - accuracy: 0.8052\n",
            "Accuracy on test dataset: 0.8051770925521851\n"
          ]
        }
      ],
      "source": [
        "num_test_examples = len(test_set)\n",
        "test_batches = test_set.map(format_image).batch(BATCH_SIZE)\n",
        "test_images, test_labels = tuple(zip(*test_set))\n",
        "\n",
        "predicted = model.predict(test_batches)\n",
        "predicted_ids = np.argmax(tf.squeeze(predicted).numpy(), axis=-1)\n",
        "\n",
        "### Compute the accuracy rate\n",
        "acc = (test_labels == predicted_ids).sum() * 1.0 / num_test_examples\n",
        "print(\"Predicting Accuracy is: {} \".format(acc))\n",
        "model.choose_mech(None)\n",
        "test_loss, test_accuracy = model.evaluate(test_batches, steps=math.ceil(num_test_examples/BATCH_SIZE))\n",
        "print('Accuracy on test dataset:', test_accuracy)"
      ]
    },
    {
      "cell_type": "code",
      "execution_count": 22,
      "metadata": {
        "id": "3n0Wb9ylKd8R"
      },
      "outputs": [
        {
          "name": "stdout",
          "output_type": "stream",
          "text": [
            "Epoch 1/2\n",
            "In Gaussian Mechanism\n",
            "Create Gaussian noise when accessing the training data\n",
            " 1/23 [>.............................] - ETA: 11:41 - loss: 2.3277 - accuracy: 0.1500In Gaussian Mechanism\n",
            "Create Gaussian noise when accessing the training data\n",
            " 2/23 [=>............................] - ETA: 8:18 - loss: 2.1208 - accuracy: 0.2200 In Gaussian Mechanism\n",
            "Create Gaussian noise when accessing the training data\n",
            " 3/23 [==>...........................] - ETA: 8:28 - loss: 2.0238 - accuracy: 0.2400In Gaussian Mechanism\n",
            "Create Gaussian noise when accessing the training data\n",
            " 4/23 [====>.........................] - ETA: 7:51 - loss: 1.9305 - accuracy: 0.2450In Gaussian Mechanism\n",
            "Create Gaussian noise when accessing the training data\n",
            " 5/23 [=====>........................] - ETA: 7:26 - loss: 1.8457 - accuracy: 0.2660In Gaussian Mechanism\n",
            "Create Gaussian noise when accessing the training data\n",
            " 6/23 [======>.......................] - ETA: 6:55 - loss: 1.7894 - accuracy: 0.2833In Gaussian Mechanism\n",
            "Create Gaussian noise when accessing the training data\n",
            " 7/23 [========>.....................] - ETA: 6:21 - loss: 1.7725 - accuracy: 0.2857In Gaussian Mechanism\n",
            "Create Gaussian noise when accessing the training data\n",
            " 8/23 [=========>....................] - ETA: 5:56 - loss: 1.7425 - accuracy: 0.2900In Gaussian Mechanism\n",
            "Create Gaussian noise when accessing the training data\n",
            " 9/23 [==========>...................] - ETA: 5:27 - loss: 1.7020 - accuracy: 0.3056In Gaussian Mechanism\n",
            "Create Gaussian noise when accessing the training data\n",
            "10/23 [============>.................] - ETA: 5:00 - loss: 1.6635 - accuracy: 0.3220In Gaussian Mechanism\n",
            "Create Gaussian noise when accessing the training data\n",
            "11/23 [=============>................] - ETA: 4:35 - loss: 1.6339 - accuracy: 0.3382In Gaussian Mechanism\n",
            "Create Gaussian noise when accessing the training data\n",
            "12/23 [==============>...............] - ETA: 4:09 - loss: 1.5917 - accuracy: 0.3492In Gaussian Mechanism\n",
            "Create Gaussian noise when accessing the training data\n",
            "13/23 [===============>..............] - ETA: 3:45 - loss: 1.5517 - accuracy: 0.3708In Gaussian Mechanism\n",
            "Create Gaussian noise when accessing the training data\n",
            "14/23 [=================>............] - ETA: 3:21 - loss: 1.5244 - accuracy: 0.3800In Gaussian Mechanism\n",
            "Create Gaussian noise when accessing the training data\n",
            "15/23 [==================>...........] - ETA: 2:59 - loss: 1.4908 - accuracy: 0.3940In Gaussian Mechanism\n",
            "Create Gaussian noise when accessing the training data\n",
            "16/23 [===================>..........] - ETA: 2:36 - loss: 1.4641 - accuracy: 0.4069In Gaussian Mechanism\n",
            "Create Gaussian noise when accessing the training data\n",
            "17/23 [=====================>........] - ETA: 2:13 - loss: 1.4383 - accuracy: 0.4206In Gaussian Mechanism\n",
            "Create Gaussian noise when accessing the training data\n",
            "18/23 [======================>.......] - ETA: 1:50 - loss: 1.4178 - accuracy: 0.4283In Gaussian Mechanism\n",
            "Create Gaussian noise when accessing the training data\n",
            "19/23 [=======================>......] - ETA: 1:28 - loss: 1.3974 - accuracy: 0.4363In Gaussian Mechanism\n",
            "Create Gaussian noise when accessing the training data\n",
            "20/23 [=========================>....] - ETA: 1:05 - loss: 1.3768 - accuracy: 0.4480In Gaussian Mechanism\n",
            "Create Gaussian noise when accessing the training data\n",
            "21/23 [==========================>...] - ETA: 43s - loss: 1.3475 - accuracy: 0.4605 In Gaussian Mechanism\n",
            "Create Gaussian noise when accessing the training data\n",
            "22/23 [===========================>..] - ETA: 21s - loss: 1.3336 - accuracy: 0.4668In Gaussian Mechanism\n",
            "Create Gaussian noise when accessing the training data\n",
            "23/23 [==============================] - 500s 21s/step - loss: 1.3331 - accuracy: 0.4668 - val_loss: 1.0397 - val_accuracy: 0.5708\n",
            "Epoch 2/2\n",
            "In Gaussian Mechanism\n",
            "Create Gaussian noise when accessing the training data\n",
            " 1/23 [>.............................] - ETA: 7:57 - loss: 0.8651 - accuracy: 0.6400In Gaussian Mechanism\n",
            "Create Gaussian noise when accessing the training data\n",
            " 2/23 [=>............................] - ETA: 7:13 - loss: 0.8108 - accuracy: 0.6900In Gaussian Mechanism\n",
            "Create Gaussian noise when accessing the training data\n",
            " 3/23 [==>...........................] - ETA: 6:56 - loss: 0.7977 - accuracy: 0.7100In Gaussian Mechanism\n",
            "Create Gaussian noise when accessing the training data\n",
            " 4/23 [====>.........................] - ETA: 6:32 - loss: 0.7977 - accuracy: 0.7050In Gaussian Mechanism\n",
            "Create Gaussian noise when accessing the training data\n",
            " 5/23 [=====>........................] - ETA: 6:10 - loss: 0.7945 - accuracy: 0.7080In Gaussian Mechanism\n",
            "Create Gaussian noise when accessing the training data\n",
            " 6/23 [======>.......................] - ETA: 5:49 - loss: 0.7960 - accuracy: 0.7033In Gaussian Mechanism\n",
            "Create Gaussian noise when accessing the training data\n",
            " 7/23 [========>.....................] - ETA: 5:27 - loss: 0.7945 - accuracy: 0.7043In Gaussian Mechanism\n",
            "Create Gaussian noise when accessing the training data\n",
            " 8/23 [=========>....................] - ETA: 5:07 - loss: 0.7775 - accuracy: 0.7163In Gaussian Mechanism\n",
            "Create Gaussian noise when accessing the training data\n",
            " 9/23 [==========>...................] - ETA: 4:47 - loss: 0.7740 - accuracy: 0.7167In Gaussian Mechanism\n",
            "Create Gaussian noise when accessing the training data\n",
            "10/23 [============>.................] - ETA: 4:27 - loss: 0.7608 - accuracy: 0.7200In Gaussian Mechanism\n",
            "Create Gaussian noise when accessing the training data\n",
            "11/23 [=============>................] - ETA: 4:06 - loss: 0.7538 - accuracy: 0.7218In Gaussian Mechanism\n",
            "Create Gaussian noise when accessing the training data\n",
            "12/23 [==============>...............] - ETA: 3:45 - loss: 0.7483 - accuracy: 0.7225In Gaussian Mechanism\n",
            "Create Gaussian noise when accessing the training data\n",
            "13/23 [===============>..............] - ETA: 3:25 - loss: 0.7482 - accuracy: 0.7208In Gaussian Mechanism\n",
            "Create Gaussian noise when accessing the training data\n",
            "14/23 [=================>............] - ETA: 3:04 - loss: 0.7402 - accuracy: 0.7236In Gaussian Mechanism\n",
            "Create Gaussian noise when accessing the training data\n",
            "15/23 [==================>...........] - ETA: 2:43 - loss: 0.7468 - accuracy: 0.7240In Gaussian Mechanism\n",
            "Create Gaussian noise when accessing the training data\n",
            "16/23 [===================>..........] - ETA: 2:23 - loss: 0.7441 - accuracy: 0.7256In Gaussian Mechanism\n",
            "Create Gaussian noise when accessing the training data\n",
            "17/23 [=====================>........] - ETA: 2:03 - loss: 0.7407 - accuracy: 0.7259In Gaussian Mechanism\n",
            "Create Gaussian noise when accessing the training data\n",
            "18/23 [======================>.......] - ETA: 1:42 - loss: 0.7358 - accuracy: 0.7289In Gaussian Mechanism\n",
            "Create Gaussian noise when accessing the training data\n",
            "19/23 [=======================>......] - ETA: 1:22 - loss: 0.7266 - accuracy: 0.7342In Gaussian Mechanism\n",
            "Create Gaussian noise when accessing the training data\n",
            "20/23 [=========================>....] - ETA: 1:01 - loss: 0.7215 - accuracy: 0.7355In Gaussian Mechanism\n",
            "Create Gaussian noise when accessing the training data\n",
            "21/23 [==========================>...] - ETA: 40s - loss: 0.7178 - accuracy: 0.7362 In Gaussian Mechanism\n",
            "Create Gaussian noise when accessing the training data\n",
            "22/23 [===========================>..] - ETA: 20s - loss: 0.7157 - accuracy: 0.7350In Gaussian Mechanism\n",
            "Create Gaussian noise when accessing the training data\n",
            "23/23 [==============================] - 459s 20s/step - loss: 0.7154 - accuracy: 0.7352 - val_loss: 0.8282 - val_accuracy: 0.6676\n"
          ]
        }
      ],
      "source": [
        "model.choose_mech(Mechanism.GAUSSIAN)\n",
        "model.set_mechanism_para(sigma = 0.1)\n",
        "\n",
        "\n",
        "model.compile(\n",
        "  optimizer='adam',\n",
        "  loss=tf.keras.losses.SparseCategoricalCrossentropy(from_logits=True),\n",
        "  metrics=['accuracy'],\n",
        "  run_eagerly = True)\n",
        "\n",
        "EPOCHS = 2\n",
        "\n",
        "gaussian_history = model.fit(train_batches,\n",
        "                    epochs=EPOCHS,\n",
        "                    validation_data=validation_batches)"
      ]
    },
    {
      "attachments": {},
      "cell_type": "markdown",
      "metadata": {},
      "source": [
        "### Compute the generalization error"
      ]
    },
    {
      "cell_type": "code",
      "execution_count": 23,
      "metadata": {},
      "outputs": [
        {
          "name": "stdout",
          "output_type": "stream",
          "text": [
            "8/8 [==============================] - 9s 1s/step\n",
            "Predicting Accuracy is: 0.6975476839237057 \n",
            "8/8 [==============================] - 9s 1s/step - loss: 0.8043 - accuracy: 0.6975\n",
            "Accuracy on test dataset: 0.6975476741790771\n"
          ]
        }
      ],
      "source": [
        "predicted = model.predict(test_batches)\n",
        "predicted_ids = np.argmax(tf.squeeze(predicted).numpy(), axis=-1)\n",
        "\n",
        "acc = (test_labels == predicted_ids).sum() * 1.0 / num_test_examples\n",
        "print(\"Predicting Accuracy is: {} \".format(acc))\n",
        "model.choose_mech(None)\n",
        "test_loss, test_accuracy = model.evaluate(test_batches, steps=math.ceil(num_test_examples/BATCH_SIZE))\n",
        "print('Accuracy on test dataset:', test_accuracy)"
      ]
    },
    {
      "cell_type": "code",
      "execution_count": 17,
      "metadata": {},
      "outputs": [
        {
          "name": "stdout",
          "output_type": "stream",
          "text": [
            "Epoch 1/2\n",
            "In Threshold out Mechanism\n",
            "0.9088396\n",
            " 1/23 [>.............................] - ETA: 3:51 - loss: 0.3540 - accuracy: 0.8833In Threshold out Mechanism\n",
            "0.15572016\n",
            " 2/23 [=>............................] - ETA: 2:41 - loss: 0.4572 - accuracy: 0.8167In Threshold out Mechanism\n",
            "0.31578678\n",
            " 3/23 [==>...........................] - ETA: 2:09 - loss: 0.4341 - accuracy: 0.7937In Threshold out Mechanism\n",
            "0.33518893\n",
            " 4/23 [====>.........................] - ETA: 2:51 - loss: 0.4417 - accuracy: 0.8227In Threshold out Mechanism\n",
            "0.47487998\n",
            " 5/23 [=====>........................] - ETA: 3:00 - loss: 0.4396 - accuracy: 0.8321In Threshold out Mechanism\n",
            "0.437572\n",
            " 6/23 [======>.......................] - ETA: 2:34 - loss: 0.4281 - accuracy: 0.8375In Threshold out Mechanism\n",
            "0.23160048\n",
            " 7/23 [========>.....................] - ETA: 2:20 - loss: 0.4150 - accuracy: 0.8474In Threshold out Mechanism\n",
            "0.16996594\n",
            " 8/23 [=========>....................] - ETA: 2:07 - loss: 0.4046 - accuracy: 0.8568In Threshold out Mechanism\n",
            "0.2946139\n",
            " 9/23 [==========>...................] - ETA: 1:56 - loss: 0.4147 - accuracy: 0.8520In Threshold out Mechanism\n",
            "0.7009604\n",
            "10/23 [============>.................] - ETA: 1:46 - loss: 0.4263 - accuracy: 0.8464In Threshold out Mechanism\n",
            "0.29956934\n",
            "11/23 [=============>................] - ETA: 1:36 - loss: 0.4310 - accuracy: 0.8484In Threshold out Mechanism\n",
            "0.27833432\n",
            "12/23 [==============>...............] - ETA: 1:27 - loss: 0.4429 - accuracy: 0.8426In Threshold out Mechanism\n",
            "0.39383873\n",
            "13/23 [===============>..............] - ETA: 1:17 - loss: 0.4350 - accuracy: 0.8472In Threshold out Mechanism\n",
            "0.3646431\n",
            "14/23 [=================>............] - ETA: 1:08 - loss: 0.4383 - accuracy: 0.8436In Threshold out Mechanism\n",
            "0.20061103\n",
            "15/23 [==================>...........] - ETA: 1:02 - loss: 0.4441 - accuracy: 0.8393In Threshold out Mechanism\n",
            "0.3153612\n",
            "16/23 [===================>..........] - ETA: 54s - loss: 0.4413 - accuracy: 0.8400 In Threshold out Mechanism\n",
            "0.2779881\n",
            "17/23 [=====================>........] - ETA: 46s - loss: 0.4340 - accuracy: 0.8438In Threshold out Mechanism\n",
            "0.17448528\n",
            "18/23 [======================>.......] - ETA: 37s - loss: 0.4351 - accuracy: 0.8430In Threshold out Mechanism\n",
            "0.4428851\n",
            "19/23 [=======================>......] - ETA: 30s - loss: 0.4285 - accuracy: 0.8443In Threshold out Mechanism\n",
            "0.27701053\n",
            "20/23 [=========================>....] - ETA: 22s - loss: 0.4218 - accuracy: 0.8464In Threshold out Mechanism\n",
            "0.3178898\n",
            "21/23 [==========================>...] - ETA: 14s - loss: 0.4205 - accuracy: 0.8441In Threshold out Mechanism\n",
            "0.634048\n",
            "22/23 [===========================>..] - ETA: 7s - loss: 0.4199 - accuracy: 0.8451 In Threshold out Mechanism\n",
            "nan\n"
          ]
        },
        {
          "name": "stderr",
          "output_type": "stream",
          "text": [
            "/Users/admin/iCloud Drive (Archive)/Documents/.git/AdaptiveAnalysis-jiawen/AdaptivityAnalysis/eval/benchmark/tensorflow/mechanized-model/../mechanism/mechanized_sequential.py:222: RuntimeWarning: invalid value encountered in true_divide\n",
            "  diff = (np.sum(y_pred_train, axis = 0) / train_size - np.sum(y_pred_hold, axis = 0) / hold_size)\n"
          ]
        },
        {
          "name": "stdout",
          "output_type": "stream",
          "text": [
            "23/23 [==============================] - 174s 7s/step - loss: 0.4195 - accuracy: 0.8453 - val_loss: 0.4258 - val_accuracy: 0.8379\n",
            "Epoch 2/2\n",
            "In Threshold out Mechanism\n",
            "0.7706624\n",
            " 1/23 [>.............................] - ETA: 2:42 - loss: 0.4332 - accuracy: 0.8500In Threshold out Mechanism\n",
            "0.24553004\n",
            " 2/23 [=>............................] - ETA: 1:45 - loss: 0.3880 - accuracy: 0.9100In Threshold out Mechanism\n",
            "0.6568263\n",
            " 3/23 [==>...........................] - ETA: 1:59 - loss: 0.3609 - accuracy: 0.9187In Threshold out Mechanism\n",
            "0.23325948\n",
            " 4/23 [====>.........................] - ETA: 2:00 - loss: 0.3375 - accuracy: 0.9091In Threshold out Mechanism\n",
            "0.43729028\n",
            " 5/23 [=====>........................] - ETA: 1:48 - loss: 0.3484 - accuracy: 0.9000In Threshold out Mechanism\n",
            "0.7349975\n",
            " 6/23 [======>.......................] - ETA: 1:39 - loss: 0.3340 - accuracy: 0.9067In Threshold out Mechanism\n",
            "0.72640055\n",
            " 7/23 [========>.....................] - ETA: 1:36 - loss: 0.3429 - accuracy: 0.9000In Threshold out Mechanism\n",
            "0.32823947\n",
            " 8/23 [=========>....................] - ETA: 1:32 - loss: 0.3425 - accuracy: 0.9000In Threshold out Mechanism\n",
            "0.3730119\n",
            " 9/23 [==========>...................] - ETA: 1:24 - loss: 0.3427 - accuracy: 0.8935In Threshold out Mechanism\n",
            "0.28078833\n",
            "10/23 [============>.................] - ETA: 1:19 - loss: 0.3393 - accuracy: 0.8923In Threshold out Mechanism\n",
            "0.38450977\n",
            "11/23 [=============>................] - ETA: 1:14 - loss: 0.3428 - accuracy: 0.8966In Threshold out Mechanism\n",
            "0.4895154\n",
            "12/23 [==============>...............] - ETA: 1:08 - loss: 0.3439 - accuracy: 0.8938In Threshold out Mechanism\n",
            "0.7841724\n",
            "13/23 [===============>..............] - ETA: 1:02 - loss: 0.3494 - accuracy: 0.8929In Threshold out Mechanism\n",
            "0.89441156\n",
            "14/23 [=================>............] - ETA: 55s - loss: 0.3567 - accuracy: 0.8892 In Threshold out Mechanism\n",
            "0.506173\n",
            "15/23 [==================>...........] - ETA: 50s - loss: 0.3577 - accuracy: 0.8875In Threshold out Mechanism\n",
            "0.31230342\n",
            "16/23 [===================>..........] - ETA: 44s - loss: 0.3540 - accuracy: 0.8907In Threshold out Mechanism\n",
            "0.18992391\n",
            "17/23 [=====================>........] - ETA: 38s - loss: 0.3508 - accuracy: 0.8891In Threshold out Mechanism\n",
            "0.3570655\n",
            "18/23 [======================>.......] - ETA: 32s - loss: 0.3477 - accuracy: 0.8918In Threshold out Mechanism\n",
            "0.15714419\n",
            "19/23 [=======================>......] - ETA: 25s - loss: 0.3549 - accuracy: 0.8856In Threshold out Mechanism\n",
            "0.34616846\n",
            "20/23 [=========================>....] - ETA: 19s - loss: 0.3517 - accuracy: 0.8855In Threshold out Mechanism\n",
            "0.2583165\n",
            "21/23 [==========================>...] - ETA: 13s - loss: 0.3538 - accuracy: 0.8810In Threshold out Mechanism\n",
            "0.54287213\n",
            "22/23 [===========================>..] - ETA: 6s - loss: 0.3517 - accuracy: 0.8828 In Threshold out Mechanism\n",
            "nan\n",
            "23/23 [==============================] - 154s 7s/step - loss: 0.3512 - accuracy: 0.8830 - val_loss: 0.3931 - val_accuracy: 0.8624\n"
          ]
        }
      ],
      "source": [
        "model.choose_mech(Mechanism.THRESHOLD)\n",
        "model.set_mechanism_para(sigma = 0.1, hold_frac = 0.4, threshold = 0.5)\n",
        "\n",
        "\n",
        "model.compile(\n",
        "  optimizer='adam',\n",
        "  loss=tf.keras.losses.SparseCategoricalCrossentropy(from_logits=True),\n",
        "  metrics=['accuracy'],\n",
        "  run_eagerly = True)\n",
        "\n",
        "EPOCHS = 2\n",
        "\n",
        "threshold_history = model.fit(train_batches,\n",
        "                    epochs=EPOCHS,\n",
        "                    validation_data=validation_batches)"
      ]
    },
    {
      "cell_type": "markdown",
      "metadata": {},
      "source": [
        "### Compute the generalization error"
      ]
    },
    {
      "cell_type": "code",
      "execution_count": 18,
      "metadata": {},
      "outputs": [
        {
          "name": "stdout",
          "output_type": "stream",
          "text": [
            "8/8 [==============================] - 11s 1s/step\n",
            "Predicting Accuracy is: 0.8814713896457765 \n",
            "8/8 [==============================] - 12s 2s/step - loss: 0.3489 - accuracy: 0.8815\n",
            "Accuracy on test dataset: 0.8814713954925537\n"
          ]
        }
      ],
      "source": [
        "predicted = model.predict(test_batches)\n",
        "predicted_ids = np.argmax(tf.squeeze(predicted).numpy(), axis=-1)\n",
        "\n",
        "acc = (test_labels == predicted_ids).sum() * 1.0 / num_test_examples\n",
        "print(\"Predicting Accuracy is: {} \".format(acc))\n",
        "model.choose_mech(None)\n",
        "test_loss, test_accuracy = model.evaluate(test_batches, steps=math.ceil(num_test_examples/BATCH_SIZE))\n",
        "print('Accuracy on test dataset:', test_accuracy)"
      ]
    },
    {
      "cell_type": "code",
      "execution_count": null,
      "metadata": {},
      "outputs": [],
      "source": []
    },
    {
      "attachments": {},
      "cell_type": "markdown",
      "metadata": {
        "id": "SLxTcprUqJaq"
      },
      "source": [
        "#  Plot Training and Validation Graphs\n",
        "\n",
        "In the cell below, plot the training and validation accuracy/loss graphs."
      ]
    },
    {
      "cell_type": "code",
      "execution_count": 28,
      "metadata": {},
      "outputs": [],
      "source": [
        "def plot_loss_acc(history, mech=\"baseline\"):\n",
        "    acc = history.history['accuracy']\n",
        "    val_acc = history.history['val_accuracy']\n",
        "\n",
        "    loss = history.history['loss']\n",
        "    val_loss = history.history['val_loss']\n",
        "\n",
        "    epochs_range = range(EPOCHS)\n",
        "\n",
        "    plt.subplot(1, 2, 1)\n",
        "    plt.plot(epochs_range, acc, label= ('Training Accuracy-'+ mech))\n",
        "    plt.plot(epochs_range, val_acc, label=('Validation Accuracy-'+ mech))\n",
        "    plt.legend(loc='lower right')\n",
        "    plt.title('Training and Validation Accuracy')\n",
        "\n",
        "    plt.subplot(1, 2, 2)\n",
        "    plt.plot(epochs_range, loss, label='Training Loss-'+ mech)\n",
        "    plt.plot(epochs_range, val_loss, label='Validation Loss-'+ mech)\n",
        "    plt.legend(loc='upper right')\n",
        "    plt.title('Training and Validation Loss')\n"
      ]
    },
    {
      "cell_type": "code",
      "execution_count": 30,
      "metadata": {
        "id": "d28dhbFpr98b"
      },
      "outputs": [
        {
          "data": {
            "image/png": "[encoded data removed]",
            "text/plain": [
              "<Figure size 800x800 with 2 Axes>"
            ]
          },
          "metadata": {},
          "output_type": "display_data"
        }
      ],
      "source": [
        "plt.figure(figsize=(8, 8))\n",
        "plot_loss_acc(empirical_history)\n",
        "plot_loss_acc(gaussian_history, \"Gaussian\")\n",
        "plot_loss_acc(threshold_history, \"Threshold\")\n",
        "plt.show()\n"
      ]
    },
    {
      "cell_type": "markdown",
      "metadata": {
        "id": "5zmoDisGvNye"
      },
      "source": [
        "What is a bit curious here is that validation performance is better than training performance, right from the start to the end of execution.\n",
        "\n",
        "One reason for this is that validation performance is measured at the end of the epoch, but training performance is the average values across the epoch.\n",
        "\n",
        "The bigger reason though is that we're reusing a large part of MobileNet which is already trained on Flower images. "
      ]
    },
    {
      "attachments": {},
      "cell_type": "markdown",
      "metadata": {
        "id": "7QBKxS5CuKhc"
      },
      "source": [
        "#  Perform Transfer Learning with the Inception Model\n",
        "\n",
        "Go to the [TensorFlow Hub documentation](https://tfhub.dev/s?module-type=image-feature-vector&q=tf2) and click on `tf2-preview/inception_v3/feature_vector`. This feature vector corresponds to the Inception v3 model. In the cells below, use transfer learning to create a CNN that uses Inception v3 as the pretrained model to classify the images from the Flowers dataset. Note that Inception, takes as input, images that are 299 x 299 pixels. Compare the accuracy you get with Inception v3 to the accuracy you got with MobileNet v2."
      ]
    },
    {
      "cell_type": "code",
      "execution_count": 40,
      "metadata": {
        "id": "wVII2H9ZNNQf"
      },
      "outputs": [],
      "source": [
        "IMAGE_RES = 299\n",
        "\n",
        "(training_set, validation_set), dataset_info = tfds.load(\n",
        "    'tf_flowers', \n",
        "    with_info=True, \n",
        "    as_supervised=True, \n",
        "    split=['train[:70%]', 'train[70%:]'],\n",
        ")\n",
        "\n",
        "\n",
        "train_batches = training_set.shuffle(num_training_examples//4).map(format_image).batch(BATCH_SIZE).prefetch(1)\n",
        "validation_batches = validation_set.map(format_image).batch(BATCH_SIZE).prefetch(1)\n",
        "\n",
        "URL = \"https://tfhub.dev/google/tf2-preview/inception_v3/feature_vector/4\"\n",
        "feature_extractor = hub.KerasLayer(URL,\n",
        "  input_shape=(IMAGE_RES, IMAGE_RES, 3),\n",
        "  trainable=False)\n"
      ]
    },
    {
      "cell_type": "code",
      "execution_count": 41,
      "metadata": {},
      "outputs": [
        {
          "name": "stdout",
          "output_type": "stream",
          "text": [
            "Epoch 1/2\n",
            "26/26 [==============================] - 236s 9s/step - loss: 0.9324 - accuracy: 0.6684 - val_loss: 0.5897 - val_accuracy: 0.8138\n",
            "Epoch 2/2\n",
            "26/26 [==============================] - 224s 9s/step - loss: 0.4996 - accuracy: 0.8350 - val_loss: 0.4403 - val_accuracy: 0.8629\n"
          ]
        }
      ],
      "source": [
        "\n",
        "model_inception = MechanizedSequential([\n",
        "   feature_extractor,\n",
        "  tf.keras.layers.Dense(num_classes)\n",
        "])\n",
        "EPOCHS = 2\n",
        "\n",
        "\n",
        "model_inception.choose_mech(None)\n",
        "\n",
        "model_inception.compile(\n",
        "  optimizer='adam', \n",
        "  loss=tf.keras.losses.SparseCategoricalCrossentropy(from_logits=True),\n",
        "  metrics=['accuracy'])\n",
        "\n",
        "\n",
        "empirical_history = model_inception.fit(train_batches,\n",
        "                    epochs=EPOCHS,\n",
        "                    validation_data=validation_batches)\n"
      ]
    },
    {
      "cell_type": "code",
      "execution_count": 45,
      "metadata": {},
      "outputs": [],
      "source": [
        "\n",
        "class MechanizedSequential(tf.keras.Sequential):\n",
        "\n",
        "\n",
        "  def __init__(self, *args, **kwargs):\n",
        "      super(MechanizedSequential, self).__init__(*args, **kwargs)\n",
        "      self.mechanism = None\n",
        "\n",
        "\n",
        "      '''\n",
        "      Parameters for the GnC mechanism \n",
        "      '''\n",
        "      self.mu = 0.0\n",
        "      self.sigma = 0.03\n",
        "\n",
        "      '''\n",
        "      Parameters for the GnC mechanism \n",
        "      '''      \n",
        "      self.beta = None\n",
        "      self.tau = None\n",
        "      self.check_for_width = None   \n",
        "\n",
        "\n",
        "      '''\n",
        "      Parameters for the Naive Data Splitting mechanism \n",
        "      '''\n",
        "      self.split_size = None\n",
        "\n",
        "\n",
        "      '''\n",
        "      Parameters for the Thresholdout mechanism \n",
        "      '''\n",
        "      self.hold_size = None\n",
        "      self.train_size = None\n",
        "      self.hold_frac = None\n",
        "      self.threshold = None\n",
        "      self.noisy_thresh = None\n",
        "         \n",
        "  def choose_mech(self, mech = None):\n",
        "     self.mechanism = mech\n",
        "  \n",
        "  def set_gaussian_para(self, mu, sigma):\n",
        "     self.set_mechanism_para(mu, sigma)\n",
        "\n",
        "  def set_mechanism_para(self, mu = 0.0, sigma = None, hold_frac = 0.5, threshold = 0.5, beta = None, tau = None, check_for_width = None):\n",
        "      self.mu = mu\n",
        "      self.sigma = sigma\n",
        "      self.beta = beta\n",
        "      self.tau = tau\n",
        "      self.check_for_width = check_for_width\n",
        "      assert 0.0 < hold_frac <= 1.0, \"hold_frac should take a value in (0, 1].\"\n",
        "      self.hold_frac = hold_frac\n",
        "      self.threshold = threshold\n",
        "      self.noisy_thresh = self.threshold + np.random.laplace(0, 2 * self.sigma)\n",
        "     \n",
        "  def compute_metrics_gaussin(self, x, y, y_pred, sample_weight):\n",
        "      x_noise = tf.random.normal(\n",
        "            tf.shape(x),\n",
        "            mean=self.mu,\n",
        "            stddev=self.sigma,\n",
        "            dtype=x.dtype,\n",
        "            seed=None,\n",
        "            name=None\n",
        "            )\n",
        "      \n",
        "      noised_x = x_noise + x\n",
        "  \n",
        "      y_noise = tf.random.normal(\n",
        "        tf.shape(y),\n",
        "        mean=self.mu,\n",
        "        stddev=self.sigma,\n",
        "        dtype = y.dtype,\n",
        "        seed=None,\n",
        "        name=None\n",
        "        )\n",
        "      noised_y = y + y_noise\n",
        "\n",
        "      self.compiled_metrics.update_state(noised_y, y_pred, sample_weight)\n",
        "\n",
        "      metrics_results = super(MechanizedSequential, self).compute_metrics(\n",
        "        noised_x, y, y_pred, sample_weight)\n",
        "      return metrics_results\n",
        "  \n",
        "  def compute_metrics(self, x, y, y_pred, sample_weight):\n",
        "      if self.mechanism is None:\n",
        "        self.compiled_metrics.update_state(y, y_pred, sample_weight)\n",
        "        return super(MechanizedSequential, self).compute_metrics(\n",
        "        x, y, y_pred, sample_weight)\n",
        "      elif self.mechanism == Mechanism.GAUSSIAN:\n",
        "         return super(MechanizedSequential, self).compute_metrics(\n",
        "        x, y, y_pred, sample_weight)\n",
        "         # return self.compute_metrics_gaussin(x, y, y_pred, sample_weight)\n",
        "      else:\n",
        "         self.compiled_metrics.update_state(y, y_pred, sample_weight)\n",
        "         return super(MechanizedSequential, self).compute_metrics(\n",
        "        x, y, y_pred, sample_weight)\n",
        "      \n",
        "  def train_step(self, data):\n",
        "      # Unpack the data. Its structure depends on your model and\n",
        "      # on what you pass to `fit()`.\n",
        "      if self.mechanism is None:\n",
        "        return super(MechanizedSequential, self).train_step(data)\n",
        "      elif self.mechanism == Mechanism.GAUSSIAN:\n",
        "         print(\"In Gaussian Mechanism\")\n",
        "         return self.gaussian_train_step(data)\n",
        "      elif self.mechanism == Mechanism.DATASPLIT:\n",
        "         print(\"In Naive Data Splitting Mechanism\")\n",
        "         return self.data_split_train_step(data)\n",
        "      elif self.mechanism == Mechanism.THRESHOLD:\n",
        "         print(\"In Threshold out Mechanism\")\n",
        "         return self.thresholdout_train_step(data)\n",
        "      else:\n",
        "        return super(MechanizedSequential, self).train_step(data)\n",
        "\n",
        "      \n",
        "  \n",
        "  def gaussian_train_step(self, data):\n",
        "      # Unpack the data. Its structure depends on your model and\n",
        "      # on what you pass to `fit()`.\n",
        "      x, y = data\n",
        "      with tf.GradientTape() as tape:\n",
        "         print(\"Create Gaussian noise when accessing the training data\")\n",
        "         x_noise = tf.random.normal(\n",
        "               tf.shape(x),\n",
        "               mean=self.mu,\n",
        "               stddev=self.sigma,\n",
        "               dtype=x.dtype,\n",
        "               seed=None,\n",
        "               name=None\n",
        "               )\n",
        "         noised_x = x_noise + x\n",
        "         y_pred = self(noised_x, training=True)  # Forward pass\n",
        "\n",
        "         noise = tf.random.normal(\n",
        "               tf.shape(y_pred),\n",
        "               mean=self.mu,\n",
        "               stddev=self.sigma,\n",
        "               dtype = y_pred.dtype,\n",
        "               seed=None,\n",
        "               name=None\n",
        "               )\n",
        "         \n",
        "         loss = self.compiled_loss(y, y_pred, regularization_losses=self.losses)\n",
        "\n",
        "      # Compute gradients\n",
        "      trainable_vars = self.trainable_variables\n",
        "      gradients = tape.gradient(loss, trainable_vars)\n",
        "\n",
        "      # Update weights\n",
        "      self.optimizer.apply_gradients(zip(gradients, trainable_vars))\n",
        "\n",
        "      # Update metrics (includes the metric that tracks the loss)\n",
        "      self.compiled_metrics.update_state(y, y_pred)\n",
        "\n",
        "      # Return a dict mapping metric names to current value\n",
        "      return {m.name: m.result() for m in self.metrics}\n",
        "  \n",
        "  '''\n",
        "  Naive Data Splitting Mechanism:\n",
        "  Either splitting the data in smaller batch-size and train with more steps,\n",
        "  or doing the same training steps as the one without any mechanism.\n",
        "  This one is the version that is the same as the train_step without any mechanism.\n",
        "  '''\n",
        "  def data_split_train_step(self, data):\n",
        "      # Unpack the data. Its structure depends on your model and\n",
        "      # on what you pass to `fit()`.\n",
        "\n",
        "      x, y = data\n",
        "      with tf.GradientTape() as tape:\n",
        "         print(\"In Naive Data Split\")\n",
        "         y_pred = self(x, training=True)  # Forward pass\n",
        "         loss = self.compiled_loss(y, y_pred, regularization_losses=self.losses)\n",
        "      # Compute gradients\n",
        "      trainable_vars = self.trainable_variables\n",
        "      gradients = tape.gradient(loss, trainable_vars)\n",
        "\n",
        "      # Update weights\n",
        "      self.optimizer.apply_gradients(zip(gradients, trainable_vars))\n",
        "\n",
        "      # Update metrics (includes the metric that tracks the loss)\n",
        "      self.compiled_metrics.update_state(y, y_pred)\n",
        "\n",
        "      # Return a dict mapping metric names to current value\n",
        "      return {m.name: m.result() for m in self.metrics}\n",
        "  \n",
        "  def thresholdout_train_step(self, data):\n",
        "      # Unpack the data. Its structure depends on your model and\n",
        "      # on what you pass to `fit()`.\n",
        "      x, y = data\n",
        "      if(x.shape[0] > 1):\n",
        "         hold_size, train_size = int(x.shape[0]  * (self.hold_frac)), int(x.shape[0]  * (1.0 - self.hold_frac))\n",
        "         x_train, y_train, x_hold, y_hold = x[hold_size:], y[hold_size:], x[:hold_size], y[:hold_size]\n",
        "      else:\n",
        "         hold_size, train_size = x.shape[0], x.shape[0]\n",
        "         x_train, y_train, x_hold, y_hold = x, y, x, y\n",
        "         \n",
        "      with tf.GradientTape() as tape:\n",
        "\n",
        "         y_pred_train = self(x_train, training=True)  # Forward pass\n",
        "         y_pred_hold = self(x_hold, training = True)\n",
        "         '''\n",
        "         TODO: Need to consider one of the following model as one shot of query:\n",
        "          model-1. one step of training, the result of the logistic is a query\n",
        "          model-2. one step of training, the losse of the trained logistic v.s. the true logistic.\n",
        "         '''\n",
        "\n",
        "         '''\n",
        "         model-1.\n",
        "         drawback: the query result isn't unform data type, the trained logistic has different size dependents on the databse size.\n",
        "         '''\n",
        "         #TODO: subtraction between the tensors of different size\n",
        "         diff = (np.sum(y_pred_train, axis = 0) / train_size - np.sum(y_pred_hold, axis = 0) / hold_size)\n",
        "         mean_abs_diff = np.absolute(diff).mean()\n",
        "         print(mean_abs_diff)\n",
        "         if mean_abs_diff >= self.noisy_thresh + np.random.laplace(0, 4 * self.sigma):\n",
        "            self.noisy_thresh = self.threshold + np.random.laplace(0, 2 * self.sigma)\n",
        "            y_true, y_pred = y_hold, y_pred_hold + tfp.distributions.Laplace(self.mu, self.sigma).sample(tf.shape(y_pred_hold))\n",
        "            loss = self.compiled_loss(y_hold, y_pred_hold, regularization_losses=self.losses)\n",
        "         else:\n",
        "            y_true, y_pred = y_train, y_pred_train\n",
        "            loss = self.compiled_loss(y_train, y_pred_train, regularization_losses=self.losses)\n",
        "\n",
        "         '''\n",
        "         model-2:\n",
        "         drawback: the \"loss of  the trained logistic v.s. the true logistic\" isn't a direct\n",
        "          query on the data. \n",
        "         advantage: the losses in different steps or different size of database always have the same type.\n",
        "         '''\n",
        "         loss = self.compiled_loss(y_train, y_pred_train, regularization_losses=self.losses)\n",
        "         loss_hold = self.compiled_loss(y_hold, y_pred_hold, regularization_losses=self.losses)\n",
        "\n",
        "         if np.abs(loss - loss_hold) >= self.noisy_thresh + np.random.laplace(0, 4 * self.sigma):\n",
        "            self.noisy_thresh = self.threshold + np.random.laplace(0, 2 * self.sigma)\n",
        "\n",
        "            loss = loss_hold + tfp.distributions.Laplace(self.mu, self.sigma).sample(tf.shape(loss_hold))\n",
        "            # min(1.0, max(0.0, loss_hold + np.random.laplace(0, self.sigma)))\n",
        "            y_true, y_pred = y_hold, y_pred_hold\n",
        "         else:\n",
        "            y_true, y_pred = y_train, y_pred_train\n",
        "            loss = self.compiled_loss(y_train, y_pred_train, regularization_losses=self.losses)\n",
        "\n",
        "      \n",
        "      \n",
        "      # Compute gradients\n",
        "      trainable_vars = self.trainable_variables\n",
        "      gradients = tape.gradient(loss, trainable_vars)\n",
        "      # Update weights\n",
        "      self.optimizer.apply_gradients(zip(gradients, trainable_vars))\n",
        "\n",
        "      # Update metrics (includes the metric that tracks the loss)\n",
        "      self.compiled_metrics.update_state(y_true, y_pred)\n",
        "\n",
        "      # Return a dict mapping metric names to current value\n",
        "      return {m.name: m.result() for m in self.metrics}"
      ]
    },
    {
      "cell_type": "code",
      "execution_count": 46,
      "metadata": {},
      "outputs": [],
      "source": [
        "IMAGE_RES = 224\n",
        "\n",
        "(training_set, validation_set), dataset_info = tfds.load(\n",
        "    'tf_flowers', \n",
        "    with_info=True, \n",
        "    as_supervised=True, \n",
        "    split=['train[:70%]', 'train[70%:]'],\n",
        ")\n",
        "# train_batches = training_set.cache().repeat().shuffle(num_training_examples).map(format_image).batch(BATCH_SIZE)\n",
        "# validation_batches = validation_set.map(format_image).batch(BATCH_SIZE)\n",
        "\n",
        "BATCH_SIZE = 100\n",
        "\n",
        "train_batches = training_set.shuffle(num_training_examples//4).map(format_image).batch(BATCH_SIZE).prefetch(1)\n",
        "\n",
        "validation_batches = validation_set.map(format_image).batch(BATCH_SIZE).prefetch(1)\n",
        "\n",
        "# train_dataset.cache().repeat().shuffle(num_train_examples).batch(BATCH_SIZE)\n",
        "URL = \"https://tfhub.dev/google/tf2-preview/inception_v3/feature_vector/4\"\n",
        "feature_extractor = hub.KerasLayer(URL,\n",
        "  input_shape=(IMAGE_RES, IMAGE_RES, 3),\n",
        "  trainable=False)"
      ]
    },
    {
      "cell_type": "code",
      "execution_count": 47,
      "metadata": {},
      "outputs": [
        {
          "name": "stdout",
          "output_type": "stream",
          "text": [
            "Epoch 1/2\n"
          ]
        },
        {
          "ename": "TypeError",
          "evalue": "super(type, obj): obj must be an instance or subtype of type",
          "output_type": "error",
          "traceback": [
            "\u001b[0;31m---------------------------------------------------------------------------\u001b[0m",
            "\u001b[0;31mTypeError\u001b[0m                                 Traceback (most recent call last)",
            "Cell \u001b[0;32mIn[47], line 16\u001b[0m\n\u001b[1;32m      8\u001b[0m model_inception\u001b[39m.\u001b[39mset_mechanism_para(sigma \u001b[39m=\u001b[39m \u001b[39m0.1\u001b[39m)\n\u001b[1;32m     10\u001b[0m model_inception\u001b[39m.\u001b[39mcompile(optimizer\u001b[39m=\u001b[39m\u001b[39m'\u001b[39m\u001b[39madam\u001b[39m\u001b[39m'\u001b[39m,\n\u001b[1;32m     11\u001b[0m               loss\u001b[39m=\u001b[39mtf\u001b[39m.\u001b[39mkeras\u001b[39m.\u001b[39mlosses\u001b[39m.\u001b[39mSparseCategoricalCrossentropy(),\n\u001b[1;32m     12\u001b[0m               metrics\u001b[39m=\u001b[39m[\u001b[39m'\u001b[39m\u001b[39maccuracy\u001b[39m\u001b[39m'\u001b[39m],\n\u001b[1;32m     13\u001b[0m               run_eagerly \u001b[39m=\u001b[39m \u001b[39mTrue\u001b[39;00m)\n\u001b[0;32m---> 16\u001b[0m gaussian_history \u001b[39m=\u001b[39m model\u001b[39m.\u001b[39;49mfit(train_batches,\n\u001b[1;32m     17\u001b[0m                     epochs\u001b[39m=\u001b[39;49mEPOCHS,\n\u001b[1;32m     18\u001b[0m                     validation_data\u001b[39m=\u001b[39;49mvalidation_batches\n\u001b[1;32m     19\u001b[0m                     )\n",
            "File \u001b[0;32m/usr/local/lib/python3.10/site-packages/keras/utils/traceback_utils.py:70\u001b[0m, in \u001b[0;36mfilter_traceback.<locals>.error_handler\u001b[0;34m(*args, **kwargs)\u001b[0m\n\u001b[1;32m     67\u001b[0m     filtered_tb \u001b[39m=\u001b[39m _process_traceback_frames(e\u001b[39m.\u001b[39m__traceback__)\n\u001b[1;32m     68\u001b[0m     \u001b[39m# To get the full stack trace, call:\u001b[39;00m\n\u001b[1;32m     69\u001b[0m     \u001b[39m# `tf.debugging.disable_traceback_filtering()`\u001b[39;00m\n\u001b[0;32m---> 70\u001b[0m     \u001b[39mraise\u001b[39;00m e\u001b[39m.\u001b[39mwith_traceback(filtered_tb) \u001b[39mfrom\u001b[39;00m \u001b[39mNone\u001b[39m\n\u001b[1;32m     71\u001b[0m \u001b[39mfinally\u001b[39;00m:\n\u001b[1;32m     72\u001b[0m     \u001b[39mdel\u001b[39;00m filtered_tb\n",
            "Cell \u001b[0;32mIn[45], line 101\u001b[0m, in \u001b[0;36mMechanizedSequential.train_step\u001b[0;34m(self, data)\u001b[0m\n\u001b[1;32m     97\u001b[0m \u001b[39mdef\u001b[39;00m \u001b[39mtrain_step\u001b[39m(\u001b[39mself\u001b[39m, data):\n\u001b[1;32m     98\u001b[0m     \u001b[39m# Unpack the data. Its structure depends on your model and\u001b[39;00m\n\u001b[1;32m     99\u001b[0m     \u001b[39m# on what you pass to `fit()`.\u001b[39;00m\n\u001b[1;32m    100\u001b[0m     \u001b[39mif\u001b[39;00m \u001b[39mself\u001b[39m\u001b[39m.\u001b[39mmechanism \u001b[39mis\u001b[39;00m \u001b[39mNone\u001b[39;00m:\n\u001b[0;32m--> 101\u001b[0m       \u001b[39mreturn\u001b[39;00m \u001b[39msuper\u001b[39;49m(MechanizedSequential, \u001b[39mself\u001b[39;49m)\u001b[39m.\u001b[39mtrain_step(data)\n\u001b[1;32m    102\u001b[0m     \u001b[39melif\u001b[39;00m \u001b[39mself\u001b[39m\u001b[39m.\u001b[39mmechanism \u001b[39m==\u001b[39m Mechanism\u001b[39m.\u001b[39mGAUSSIAN:\n\u001b[1;32m    103\u001b[0m        \u001b[39mprint\u001b[39m(\u001b[39m\"\u001b[39m\u001b[39mIn Gaussian Mechanism\u001b[39m\u001b[39m\"\u001b[39m)\n",
            "\u001b[0;31mTypeError\u001b[0m: super(type, obj): obj must be an instance or subtype of type"
          ]
        }
      ],
      "source": [
        "\n",
        "model_inception = MechanizedSequential([\n",
        "   feature_extractor,\n",
        "  tf.keras.layers.Dense(num_classes)\n",
        "])\n",
        "\n",
        "\n",
        "model_inception.choose_mech(Mechanism.GAUSSIAN)\n",
        "model_inception.set_mechanism_para(sigma = 0.1)\n",
        "\n",
        "model_inception.compile(optimizer='adam',\n",
        "              loss=tf.keras.losses.SparseCategoricalCrossentropy(),\n",
        "              metrics=['accuracy'],\n",
        "              run_eagerly = True)\n",
        "\n",
        "\n",
        "gaussian_history = model.fit(train_batches,\n",
        "                    epochs=EPOCHS,\n",
        "                    validation_data=validation_batches\n",
        "                    )"
      ]
    },
    {
      "cell_type": "code",
      "execution_count": null,
      "metadata": {},
      "outputs": [
        {
          "name": "stdout",
          "output_type": "stream",
          "text": [
            "Epoch 1/2\n"
          ]
        },
        {
          "ename": "ValueError",
          "evalue": "Input 0 of layer \"mechanized_sequential_1\" is incompatible with the layer: expected shape=(None, 224, 224, 3), found shape=(100, 299, 299, 3)",
          "output_type": "error",
          "traceback": [
            "\u001b[0;31m---------------------------------------------------------------------------\u001b[0m",
            "\u001b[0;31mValueError\u001b[0m                                Traceback (most recent call last)",
            "Cell \u001b[0;32mIn[34], line 10\u001b[0m\n\u001b[1;32m      2\u001b[0m model_inception\u001b[39m.\u001b[39mset_mechanism_para(sigma \u001b[39m=\u001b[39m \u001b[39m0.1\u001b[39m, hold_frac \u001b[39m=\u001b[39m \u001b[39m0.4\u001b[39m, threshold \u001b[39m=\u001b[39m \u001b[39m0.5\u001b[39m)\n\u001b[1;32m      4\u001b[0m model_inception\u001b[39m.\u001b[39mcompile(optimizer\u001b[39m=\u001b[39m\u001b[39m'\u001b[39m\u001b[39madam\u001b[39m\u001b[39m'\u001b[39m,\n\u001b[1;32m      5\u001b[0m               loss\u001b[39m=\u001b[39mtf\u001b[39m.\u001b[39mkeras\u001b[39m.\u001b[39mlosses\u001b[39m.\u001b[39mSparseCategoricalCrossentropy(),\n\u001b[1;32m      6\u001b[0m               metrics\u001b[39m=\u001b[39m[\u001b[39m'\u001b[39m\u001b[39maccuracy\u001b[39m\u001b[39m'\u001b[39m],\n\u001b[1;32m      7\u001b[0m               run_eagerly \u001b[39m=\u001b[39m \u001b[39mTrue\u001b[39;00m)\n\u001b[0;32m---> 10\u001b[0m threshold_history \u001b[39m=\u001b[39m model\u001b[39m.\u001b[39;49mfit(train_batches,\n\u001b[1;32m     11\u001b[0m                     epochs\u001b[39m=\u001b[39;49mEPOCHS,\n\u001b[1;32m     12\u001b[0m                     validation_data\u001b[39m=\u001b[39;49mvalidation_batches\n\u001b[1;32m     13\u001b[0m                     )\n",
            "File \u001b[0;32m/usr/local/lib/python3.10/site-packages/keras/utils/traceback_utils.py:70\u001b[0m, in \u001b[0;36mfilter_traceback.<locals>.error_handler\u001b[0;34m(*args, **kwargs)\u001b[0m\n\u001b[1;32m     67\u001b[0m     filtered_tb \u001b[39m=\u001b[39m _process_traceback_frames(e\u001b[39m.\u001b[39m__traceback__)\n\u001b[1;32m     68\u001b[0m     \u001b[39m# To get the full stack trace, call:\u001b[39;00m\n\u001b[1;32m     69\u001b[0m     \u001b[39m# `tf.debugging.disable_traceback_filtering()`\u001b[39;00m\n\u001b[0;32m---> 70\u001b[0m     \u001b[39mraise\u001b[39;00m e\u001b[39m.\u001b[39mwith_traceback(filtered_tb) \u001b[39mfrom\u001b[39;00m \u001b[39mNone\u001b[39m\n\u001b[1;32m     71\u001b[0m \u001b[39mfinally\u001b[39;00m:\n\u001b[1;32m     72\u001b[0m     \u001b[39mdel\u001b[39;00m filtered_tb\n",
            "Cell \u001b[0;32mIn[21], line 101\u001b[0m, in \u001b[0;36mMechanizedSequential.train_step\u001b[0;34m(self, data)\u001b[0m\n\u001b[1;32m     97\u001b[0m \u001b[39mdef\u001b[39;00m \u001b[39mtrain_step\u001b[39m(\u001b[39mself\u001b[39m, data):\n\u001b[1;32m     98\u001b[0m     \u001b[39m# Unpack the data. Its structure depends on your model and\u001b[39;00m\n\u001b[1;32m     99\u001b[0m     \u001b[39m# on what you pass to `fit()`.\u001b[39;00m\n\u001b[1;32m    100\u001b[0m     \u001b[39mif\u001b[39;00m \u001b[39mself\u001b[39m\u001b[39m.\u001b[39mmechanism \u001b[39mis\u001b[39;00m \u001b[39mNone\u001b[39;00m:\n\u001b[0;32m--> 101\u001b[0m       \u001b[39mreturn\u001b[39;00m \u001b[39msuper\u001b[39;49m(MechanizedSequential, \u001b[39mself\u001b[39;49m)\u001b[39m.\u001b[39;49mtrain_step(data)\n\u001b[1;32m    102\u001b[0m     \u001b[39melif\u001b[39;00m \u001b[39mself\u001b[39m\u001b[39m.\u001b[39mmechanism \u001b[39m==\u001b[39m Mechanism\u001b[39m.\u001b[39mGAUSSIAN:\n\u001b[1;32m    103\u001b[0m        \u001b[39mprint\u001b[39m(\u001b[39m\"\u001b[39m\u001b[39mIn Gaussian Mechanism\u001b[39m\u001b[39m\"\u001b[39m)\n",
            "\u001b[0;31mValueError\u001b[0m: Input 0 of layer \"mechanized_sequential_1\" is incompatible with the layer: expected shape=(None, 224, 224, 3), found shape=(100, 299, 299, 3)"
          ]
        }
      ],
      "source": [
        "\n",
        "\n",
        "model_inception.choose_mech(Mechanism.THRESHOLD)\n",
        "model_inception.set_mechanism_para(sigma = 0.1, hold_frac = 0.4, threshold = 0.5)\n",
        "\n",
        "model_inception.compile(optimizer='adam',\n",
        "              loss=tf.keras.losses.SparseCategoricalCrossentropy(),\n",
        "              metrics=['accuracy'],\n",
        "              run_eagerly = True)\n",
        "\n",
        "\n",
        "threshold_history = model.fit(train_batches,\n",
        "                    epochs=EPOCHS,\n",
        "                    validation_data=validation_batches\n",
        "                    )"
      ]
    },
    {
      "cell_type": "code",
      "execution_count": null,
      "metadata": {},
      "outputs": [],
      "source": [
        "plt.semilogx(empirical_history.history[\"lr\"], empirical_history.history[\"loss\"], label = \"Baseline\")\n",
        "plt.semilogx(gaussian_history.history[\"lr\"], gaussian_history.history[\"loss\"], label = \"Gaussian\")\n",
        "plt.semilogx(threshold_history.history[\"lr\"], threshold_history.history[\"loss\"], label = \"Thresholdout\")\n",
        "plt.legend()\n",
        "plt.show()"
      ]
    }
  ],
  "metadata": {
    "accelerator": "GPU",
    "colab": {
      "collapsed_sections": [],
      "name": "l06c03_exercise_flowers_with_transfer_learning_solution.ipynb",
      "toc_visible": true
    },
    "kernelspec": {
      "display_name": "Python 3",
      "language": "python",
      "name": "python3"
    },
    "language_info": {
      "codemirror_mode": {
        "name": "ipython",
        "version": 3
      },
      "file_extension": ".py",
      "mimetype": "text/x-python",
      "name": "python",
      "nbconvert_exporter": "python",
      "pygments_lexer": "ipython3",
      "version": "3.10.6"
    },
    "vscode": {
      "interpreter": {
        "hash": "aee8b7b246df8f9039afb4144a1f6fd8d2ca17a180786b69acc140d282b71a49"
      }
    }
  },
  "nbformat": 4,
  "nbformat_minor": 0
}
