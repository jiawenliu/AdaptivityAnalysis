{
  "cells": [
    {
      "cell_type": "markdown",
      "metadata": {
        "id": "ItXfxkxvosLH"
      },
      "source": [
        "# Text Classification with Movie Reviews"
      ]
    },
    {
      "cell_type": "markdown",
      "metadata": {
        "id": "Q4DN769E2O_R"
      },
      "source": [
        "## Setup"
      ]
    },
    {
      "cell_type": "code",
      "execution_count": 1,
      "metadata": {
        "id": "2ew7HTbPpCJH"
      },
      "outputs": [
        {
          "name": "stderr",
          "output_type": "stream",
          "text": [
            "2023-02-27 22:59:42.953299: I tensorflow/core/platform/cpu_feature_guard.cc:193] This TensorFlow binary is optimized with oneAPI Deep Neural Network Library (oneDNN) to use the following CPU instructions in performance-critical operations:  AVX2 FMA\n",
            "To enable them in other operations, rebuild TensorFlow with the appropriate compiler flags.\n"
          ]
        },
        {
          "name": "stdout",
          "output_type": "stream",
          "text": [
            "Version:  2.11.0\n",
            "Eager mode:  True\n",
            "Hub version:  0.12.0\n",
            "GPU is NOT AVAILABLE\n"
          ]
        }
      ],
      "source": [
        "import numpy as np\n",
        "\n",
        "import tensorflow as tf\n",
        "import tensorflow_hub as hub\n",
        "import tensorflow_datasets as tfds\n",
        "\n",
        "import matplotlib.pyplot as plt\n",
        "\n",
        "print(\"Version: \", tf.__version__)\n",
        "print(\"Eager mode: \", tf.executing_eagerly())\n",
        "print(\"Hub version: \", hub.__version__)\n",
        "print(\"GPU is\", \"available\" if tf.config.list_physical_devices('GPU') else \"NOT AVAILABLE\")"
      ]
    },
    {
      "cell_type": "markdown",
      "metadata": {
        "id": "iAsKG535pHep"
      },
      "source": [
        "## Download the IMDB dataset\n",
        "\n",
        "The IMDB dataset is available on [TensorFlow datasets](https://github.com/tensorflow/datasets). The following code downloads the IMDB dataset to your machine (or the colab runtime):"
      ]
    },
    {
      "cell_type": "code",
      "execution_count": 2,
      "metadata": {
        "id": "zXXx5Oc3pOmN"
      },
      "outputs": [
        {
          "name": "stderr",
          "output_type": "stream",
          "text": [
            "2023-02-27 22:59:48.821837: I tensorflow/core/platform/cpu_feature_guard.cc:193] This TensorFlow binary is optimized with oneAPI Deep Neural Network Library (oneDNN) to use the following CPU instructions in performance-critical operations:  AVX2 FMA\n",
            "To enable them in other operations, rebuild TensorFlow with the appropriate compiler flags.\n"
          ]
        }
      ],
      "source": [
        "train_data, test_data = tfds.load(name=\"imdb_reviews\", split=[\"train\", \"test\"], \n",
        "                                  batch_size=-1, as_supervised=True)\n",
        "\n",
        "train_examples, train_labels = tfds.as_numpy(train_data)\n",
        "test_examples, test_labels = tfds.as_numpy(test_data)"
      ]
    },
    {
      "attachments": {},
      "cell_type": "markdown",
      "metadata": {
        "id": "LLC02j2g-llC"
      },
      "source": [
        "## Build the model"
      ]
    },
    {
      "cell_type": "code",
      "execution_count": 3,
      "metadata": {
        "id": "_NUbzVeYkgcO"
      },
      "outputs": [
        {
          "name": "stdout",
          "output_type": "stream",
          "text": [
            "WARNING:tensorflow:Please fix your imports. Module tensorflow.python.training.tracking.data_structures has been moved to tensorflow.python.trackable.data_structures. The old module will be deleted in version 2.11.\n"
          ]
        },
        {
          "name": "stderr",
          "output_type": "stream",
          "text": [
            "WARNING:tensorflow:Please fix your imports. Module tensorflow.python.training.tracking.data_structures has been moved to tensorflow.python.trackable.data_structures. The old module will be deleted in version 2.11.\n"
          ]
        },
        {
          "data": {
            "text/plain": [
              "<tf.Tensor: shape=(3, 50), dtype=float32, numpy=\n",
              "array([[ 0.5423195 , -0.0119017 ,  0.06337538,  0.06862972, -0.16776837,\n",
              "        -0.10581174,  0.16865303, -0.04998824, -0.31148055,  0.07910346,\n",
              "         0.15442263,  0.01488662,  0.03930153,  0.19772711, -0.12215476,\n",
              "        -0.04120981, -0.2704109 , -0.21922152,  0.26517662, -0.80739075,\n",
              "         0.25833532, -0.3100421 ,  0.28683215,  0.1943387 , -0.29036492,\n",
              "         0.03862849, -0.7844411 , -0.0479324 ,  0.4110299 , -0.36388892,\n",
              "        -0.58034706,  0.30269456,  0.3630897 , -0.15227164, -0.44391504,\n",
              "         0.19462997,  0.19528408,  0.05666234,  0.2890704 , -0.28468323,\n",
              "        -0.00531206,  0.0571938 , -0.3201318 , -0.04418665, -0.08550783,\n",
              "        -0.55847436, -0.23336391, -0.20782952, -0.03543064, -0.17533456],\n",
              "       [ 0.56338924, -0.12339553, -0.10862679,  0.7753425 , -0.07667089,\n",
              "        -0.15752277,  0.01872335, -0.08169781, -0.3521876 ,  0.4637341 ,\n",
              "        -0.08492756,  0.07166859, -0.00670817,  0.12686075, -0.19326553,\n",
              "        -0.52626437, -0.3295823 ,  0.14394785,  0.09043556, -0.5417555 ,\n",
              "         0.02468163, -0.15456742,  0.68333143,  0.09068331, -0.45327246,\n",
              "         0.23180096, -0.8615696 ,  0.34480393,  0.12838456, -0.58759046,\n",
              "        -0.4071231 ,  0.23061076,  0.48426893, -0.27128142, -0.5380916 ,\n",
              "         0.47016326,  0.22572741, -0.00830663,  0.2846242 , -0.304985  ,\n",
              "         0.04400365,  0.25025874,  0.14867121,  0.40717036, -0.15422426,\n",
              "        -0.06878027, -0.40825695, -0.3149215 ,  0.09283665, -0.20183425],\n",
              "       [ 0.7456154 ,  0.21256861,  0.14400336,  0.5233862 ,  0.11032254,\n",
              "         0.00902788, -0.3667802 , -0.08938274, -0.24165542,  0.33384594,\n",
              "        -0.11194605, -0.01460047, -0.0071645 ,  0.19562712,  0.00685216,\n",
              "        -0.24886718, -0.42796347,  0.18620004, -0.05241098, -0.66462487,\n",
              "         0.13449019, -0.22205497,  0.08633006,  0.43685386,  0.2972681 ,\n",
              "         0.36140734, -0.7196889 ,  0.05291241, -0.14316116, -0.1573394 ,\n",
              "        -0.15056328, -0.05988009, -0.08178931, -0.15569411, -0.09303783,\n",
              "        -0.18971172,  0.07620788, -0.02541647, -0.27134508, -0.3392682 ,\n",
              "        -0.10296468, -0.27275252, -0.34078008,  0.20083304, -0.26644835,\n",
              "         0.00655449, -0.05141488, -0.04261917, -0.45413622,  0.20023568]],\n",
              "      dtype=float32)>"
            ]
          },
          "execution_count": 3,
          "metadata": {},
          "output_type": "execute_result"
        }
      ],
      "source": [
        "model = \"https://tfhub.dev/google/nnlm-en-dim50/2\"\n",
        "hub_layer = hub.KerasLayer(model, input_shape=[], dtype=tf.string, trainable=True)\n",
        "hub_layer(train_examples[:3])"
      ]
    },
    {
      "cell_type": "markdown",
      "metadata": {
        "id": "dfSbV6igl1EH"
      },
      "source": [
        "Let's now build the full model:"
      ]
    },
    {
      "cell_type": "code",
      "execution_count": 4,
      "metadata": {
        "id": "xpKOoWgu-llD"
      },
      "outputs": [
        {
          "name": "stdout",
          "output_type": "stream",
          "text": [
            "WARNING:tensorflow:From /usr/local/lib/python3.10/site-packages/tensorflow/python/autograph/pyct/static_analysis/liveness.py:83: Analyzer.lamba_check (from tensorflow.python.autograph.pyct.static_analysis.liveness) is deprecated and will be removed after 2023-09-23.\n",
            "Instructions for updating:\n",
            "Lambda fuctions will be no more assumed to be used in the statement where they are used, or at least in the same block. https://github.com/tensorflow/tensorflow/issues/56089\n"
          ]
        },
        {
          "name": "stderr",
          "output_type": "stream",
          "text": [
            "WARNING:tensorflow:From /usr/local/lib/python3.10/site-packages/tensorflow/python/autograph/pyct/static_analysis/liveness.py:83: Analyzer.lamba_check (from tensorflow.python.autograph.pyct.static_analysis.liveness) is deprecated and will be removed after 2023-09-23.\n",
            "Instructions for updating:\n",
            "Lambda fuctions will be no more assumed to be used in the statement where they are used, or at least in the same block. https://github.com/tensorflow/tensorflow/issues/56089\n"
          ]
        }
      ],
      "source": [
        "model = tf.keras.Sequential()\n",
        "model.add(hub_layer)\n",
        "model.add(tf.keras.layers.Dense(16, activation='relu'))\n",
        "model.add(tf.keras.layers.Dense(1))"
      ]
    },
    {
      "attachments": {},
      "cell_type": "markdown",
      "metadata": {},
      "source": [
        "## Build the mechanized model"
      ]
    },
    {
      "cell_type": "code",
      "execution_count": 5,
      "metadata": {},
      "outputs": [],
      "source": [
        "import sys\n",
        "sys.path.append(\"..\")\n",
        "\n",
        "from mechanism.mechanized_sequential import MechanizedSequential\n",
        "from mechanism.mechanized_sequential import Mechanism\n",
        "EPOCH = 5\n",
        "\n",
        "\n",
        "mechanized_model = MechanizedSequential()\n",
        "mechanized_model.add(hub_layer)\n",
        "mechanized_model.add(tf.keras.layers.Dense(16, activation='relu'))\n",
        "mechanized_model.add(tf.keras.layers.Dense(1))\n"
      ]
    },
    {
      "cell_type": "code",
      "execution_count": 6,
      "metadata": {
        "id": "Mr0GP-cQ-llN"
      },
      "outputs": [],
      "source": [
        "mechanized_model.choose_mech(Mechanism.GAUSSIAN)\n",
        "mechanized_model.set_mechanism_para(sigma = 0.1)\n",
        "mechanized_model.compile(optimizer='adam',\n",
        "              loss=tf.losses.BinaryCrossentropy(from_logits=True),\n",
        "              metrics=[tf.metrics.BinaryAccuracy(threshold=0.0, name='accuracy')],\n",
        "              run_eagerly = True)"
      ]
    },
    {
      "cell_type": "code",
      "execution_count": 7,
      "metadata": {
        "id": "-NpcXY9--llS"
      },
      "outputs": [],
      "source": [
        "x_val = train_examples[:10000]\n",
        "partial_x_train = train_examples[10000:]\n",
        "\n",
        "y_val = train_labels[:10000]\n",
        "partial_y_train = train_labels[10000:]"
      ]
    },
    {
      "cell_type": "code",
      "execution_count": 13,
      "metadata": {
        "id": "tXSGrjWZ-llW"
      },
      "outputs": [
        {
          "name": "stdout",
          "output_type": "stream",
          "text": [
            "Epoch 1/5\n",
            "30/30 [==============================] - 42s 1s/step - loss: 0.2008 - accuracy: 0.9324 - val_loss: 0.3110 - val_accuracy: 0.8669\n",
            "Epoch 2/5\n",
            "30/30 [==============================] - 40s 1s/step - loss: 0.1543 - accuracy: 0.9536 - val_loss: 0.3036 - val_accuracy: 0.8711\n",
            "Epoch 3/5\n",
            "30/30 [==============================] - 44s 1s/step - loss: 0.1169 - accuracy: 0.9701 - val_loss: 0.3068 - val_accuracy: 0.8715\n",
            "Epoch 4/5\n",
            "30/30 [==============================] - 40s 1s/step - loss: 0.0894 - accuracy: 0.9801 - val_loss: 0.3089 - val_accuracy: 0.8726\n",
            "Epoch 5/5\n",
            "30/30 [==============================] - 40s 1s/step - loss: 0.0646 - accuracy: 0.9891 - val_loss: 0.3131 - val_accuracy: 0.8743\n"
          ]
        }
      ],
      "source": [
        "\n",
        "\n",
        "gaussian_history = mechanized_model.fit(partial_x_train,\n",
        "                    partial_y_train,\n",
        "                    epochs = EPOCH,\n",
        "                    batch_size=512,\n",
        "                    validation_data=(x_val, y_val),\n",
        "                    verbose=1)"
      ]
    },
    {
      "cell_type": "code",
      "execution_count": 14,
      "metadata": {
        "id": "zOMKywn4zReN"
      },
      "outputs": [
        {
          "name": "stdout",
          "output_type": "stream",
          "text": [
            "782/782 [==============================] - 100s 128ms/step - loss: 0.6562 - accuracy: 0.8441\n",
            "[0.6561796069145203, 0.8440799713134766]\n"
          ]
        }
      ],
      "source": [
        "results = mechanized_model.evaluate(test_examples, test_labels)\n",
        "\n",
        "print(results)"
      ]
    },
    {
      "cell_type": "code",
      "execution_count": 10,
      "metadata": {},
      "outputs": [],
      "source": [
        "mechanized_model.choose_mech(Mechanism.THRESHOLD)\n",
        "mechanized_model.set_mechanism_para(sigma = 0.1, hold_frac = 0.4, threshold = 0.5)\n",
        "\n",
        "\n",
        "mechanized_model.compile(optimizer='adam',\n",
        "              loss=tf.losses.BinaryCrossentropy(from_logits=True),\n",
        "              metrics=[tf.metrics.BinaryAccuracy(threshold=0.0, name='accuracy')],\n",
        "              run_eagerly = True)"
      ]
    },
    {
      "cell_type": "code",
      "execution_count": 11,
      "metadata": {},
      "outputs": [
        {
          "name": "stdout",
          "output_type": "stream",
          "text": [
            "Epoch 1/5\n",
            "In Threshold out Mechanism\n",
            "0.021938099\n",
            " 1/30 [>.............................] - ETA: 37s - loss: 0.6890 - accuracy: 0.5422In Threshold out Mechanism\n",
            "0.022666909\n",
            " 2/30 [=>............................] - ETA: 41s - loss: 0.6853 - accuracy: 0.5536In Threshold out Mechanism\n",
            "0.0130781755\n",
            " 3/30 [==>...........................] - ETA: 39s - loss: 0.6844 - accuracy: 0.5498In Threshold out Mechanism\n",
            "0.011037692\n",
            " 4/30 [===>..........................] - ETA: 36s - loss: 0.6843 - accuracy: 0.5519In Threshold out Mechanism\n",
            "0.01911816\n",
            " 5/30 [====>.........................] - ETA: 36s - loss: 0.6829 - accuracy: 0.5578In Threshold out Mechanism\n",
            "0.019155286\n",
            " 6/30 [=====>........................] - ETA: 34s - loss: 0.6831 - accuracy: 0.5557In Threshold out Mechanism\n",
            "0.018065795\n",
            " 7/30 [======>.......................] - ETA: 32s - loss: 0.6819 - accuracy: 0.5603In Threshold out Mechanism\n",
            "0.05439832\n",
            " 8/30 [=======>......................] - ETA: 30s - loss: 0.6807 - accuracy: 0.5601In Threshold out Mechanism\n",
            "0.02359657\n",
            " 9/30 [========>.....................] - ETA: 29s - loss: 0.6770 - accuracy: 0.5722In Threshold out Mechanism\n",
            "0.054952677\n",
            "10/30 [=========>....................] - ETA: 27s - loss: 0.6759 - accuracy: 0.5744In Threshold out Mechanism\n",
            "0.0057958686\n",
            "11/30 [==========>...................] - ETA: 26s - loss: 0.6738 - accuracy: 0.5794In Threshold out Mechanism\n",
            "0.024668813\n",
            "12/30 [===========>..................] - ETA: 24s - loss: 0.6719 - accuracy: 0.5855In Threshold out Mechanism\n",
            "0.037871175\n",
            "13/30 [============>.................] - ETA: 23s - loss: 0.6692 - accuracy: 0.5929In Threshold out Mechanism\n",
            "0.00808154\n",
            "14/30 [=============>................] - ETA: 21s - loss: 0.6679 - accuracy: 0.5946In Threshold out Mechanism\n",
            "0.016593494\n",
            "15/30 [==============>...............] - ETA: 20s - loss: 0.6672 - accuracy: 0.5983In Threshold out Mechanism\n",
            "0.039738767\n",
            "16/30 [===============>..............] - ETA: 19s - loss: 0.6648 - accuracy: 0.6030In Threshold out Mechanism\n",
            "0.010272831\n",
            "17/30 [================>.............] - ETA: 17s - loss: 0.6628 - accuracy: 0.6081In Threshold out Mechanism\n",
            "0.05912178\n",
            "18/30 [=================>............] - ETA: 16s - loss: 0.6614 - accuracy: 0.6119In Threshold out Mechanism\n",
            "0.05155352\n",
            "19/30 [==================>...........] - ETA: 14s - loss: 0.6598 - accuracy: 0.6138In Threshold out Mechanism\n",
            "0.07414478\n",
            "20/30 [===================>..........] - ETA: 13s - loss: 0.6587 - accuracy: 0.6159In Threshold out Mechanism\n",
            "0.07821875\n",
            "21/30 [====================>.........] - ETA: 12s - loss: 0.6568 - accuracy: 0.6180In Threshold out Mechanism\n",
            "0.029005617\n",
            "22/30 [=====================>........] - ETA: 10s - loss: 0.6555 - accuracy: 0.6214In Threshold out Mechanism\n",
            "0.045215394\n",
            "23/30 [======================>.......] - ETA: 9s - loss: 0.6543 - accuracy: 0.6229 In Threshold out Mechanism\n",
            "0.03927368\n",
            "24/30 [=======================>......] - ETA: 8s - loss: 0.6524 - accuracy: 0.6275In Threshold out Mechanism\n",
            "0.025095604\n",
            "25/30 [========================>.....] - ETA: 6s - loss: 0.6512 - accuracy: 0.6301In Threshold out Mechanism\n",
            "0.0046734344\n",
            "26/30 [=========================>....] - ETA: 5s - loss: 0.6498 - accuracy: 0.6318In Threshold out Mechanism\n",
            "0.08020491\n",
            "27/30 [==========================>...] - ETA: 4s - loss: 0.6479 - accuracy: 0.6354In Threshold out Mechanism\n",
            "0.015511424\n",
            "28/30 [===========================>..] - ETA: 2s - loss: 0.6463 - accuracy: 0.6371In Threshold out Mechanism\n",
            "0.05439485\n",
            "29/30 [============================>.] - ETA: 1s - loss: 0.6449 - accuracy: 0.6396In Threshold out Mechanism\n",
            "0.107112706\n",
            "30/30 [==============================] - 44s 1s/step - loss: 0.6441 - accuracy: 0.6411 - val_loss: 0.5974 - val_accuracy: 0.7176\n",
            "Epoch 2/5\n",
            "In Threshold out Mechanism\n",
            "0.02003134\n",
            " 1/30 [>.............................] - ETA: 37s - loss: 0.5679 - accuracy: 0.7792In Threshold out Mechanism\n",
            "0.021214057\n",
            " 2/30 [=>............................] - ETA: 38s - loss: 0.5840 - accuracy: 0.7354In Threshold out Mechanism\n",
            "0.028593311\n",
            " 3/30 [==>...........................] - ETA: 36s - loss: 0.5849 - accuracy: 0.7390In Threshold out Mechanism\n",
            "0.0022640107\n",
            " 4/30 [===>..........................] - ETA: 35s - loss: 0.5798 - accuracy: 0.7447In Threshold out Mechanism\n",
            "0.0077730753\n",
            " 5/30 [====>.........................] - ETA: 34s - loss: 0.5776 - accuracy: 0.7451In Threshold out Mechanism\n",
            "0.010490025\n",
            " 6/30 [=====>........................] - ETA: 33s - loss: 0.5778 - accuracy: 0.7425In Threshold out Mechanism\n",
            "0.017523497\n",
            " 7/30 [======>.......................] - ETA: 32s - loss: 0.5763 - accuracy: 0.7479In Threshold out Mechanism\n",
            "0.054997265\n",
            " 8/30 [=======>......................] - ETA: 30s - loss: 0.5731 - accuracy: 0.7518In Threshold out Mechanism\n",
            "0.027822688\n",
            " 9/30 [========>.....................] - ETA: 29s - loss: 0.5719 - accuracy: 0.7531In Threshold out Mechanism\n",
            "0.011461876\n",
            "10/30 [=========>....................] - ETA: 27s - loss: 0.5690 - accuracy: 0.7559In Threshold out Mechanism\n",
            "0.08523787\n",
            "11/30 [==========>...................] - ETA: 26s - loss: 0.5685 - accuracy: 0.7575In Threshold out Mechanism\n",
            "0.035022855\n",
            "12/30 [===========>..................] - ETA: 24s - loss: 0.5680 - accuracy: 0.7547In Threshold out Mechanism\n",
            "0.025783164\n",
            "13/30 [============>.................] - ETA: 23s - loss: 0.5659 - accuracy: 0.7584In Threshold out Mechanism\n",
            "0.03642533\n",
            "14/30 [=============>................] - ETA: 22s - loss: 0.5647 - accuracy: 0.7595In Threshold out Mechanism\n",
            "0.04723108\n",
            "15/30 [==============>...............] - ETA: 20s - loss: 0.5632 - accuracy: 0.7624In Threshold out Mechanism\n",
            "0.041862488\n",
            "16/30 [===============>..............] - ETA: 19s - loss: 0.5610 - accuracy: 0.7620In Threshold out Mechanism\n",
            "0.0984283\n",
            "17/30 [================>.............] - ETA: 18s - loss: 0.5587 - accuracy: 0.7633In Threshold out Mechanism\n",
            "0.024744816\n",
            "18/30 [=================>............] - ETA: 16s - loss: 0.5573 - accuracy: 0.7629In Threshold out Mechanism\n",
            "0.14137071\n",
            "19/30 [==================>...........] - ETA: 15s - loss: 0.5569 - accuracy: 0.7597In Threshold out Mechanism\n",
            "0.11809427\n",
            "20/30 [===================>..........] - ETA: 14s - loss: 0.5551 - accuracy: 0.7627In Threshold out Mechanism\n",
            "0.016176507\n",
            "21/30 [====================>.........] - ETA: 12s - loss: 0.5533 - accuracy: 0.7635In Threshold out Mechanism\n",
            "0.029239442\n",
            "22/30 [=====================>........] - ETA: 11s - loss: 0.5515 - accuracy: 0.7658In Threshold out Mechanism\n",
            "0.15535091\n",
            "23/30 [======================>.......] - ETA: 9s - loss: 0.5493 - accuracy: 0.7661 In Threshold out Mechanism\n",
            "0.07577005\n",
            "24/30 [=======================>......] - ETA: 8s - loss: 0.5472 - accuracy: 0.7675In Threshold out Mechanism\n",
            "0.11339213\n",
            "25/30 [========================>.....] - ETA: 7s - loss: 0.5459 - accuracy: 0.7675In Threshold out Mechanism\n",
            "0.16139157\n",
            "26/30 [=========================>....] - ETA: 5s - loss: 0.5449 - accuracy: 0.7667In Threshold out Mechanism\n",
            "0.06609413\n",
            "27/30 [==========================>...] - ETA: 4s - loss: 0.5427 - accuracy: 0.7685In Threshold out Mechanism\n",
            "0.030758992\n",
            "28/30 [===========================>..] - ETA: 2s - loss: 0.5410 - accuracy: 0.7691In Threshold out Mechanism\n",
            "0.07565318\n",
            "29/30 [============================>.] - ETA: 1s - loss: 0.5396 - accuracy: 0.7694In Threshold out Mechanism\n",
            "0.09866968\n",
            "30/30 [==============================] - 44s 1s/step - loss: 0.5390 - accuracy: 0.7693 - val_loss: 0.5045 - val_accuracy: 0.7816\n",
            "Epoch 3/5\n",
            "In Threshold out Mechanism\n",
            "0.06942563\n",
            " 1/30 [>.............................] - ETA: 38s - loss: 0.4857 - accuracy: 0.7857In Threshold out Mechanism\n",
            "0.09066266\n",
            " 2/30 [=>............................] - ETA: 37s - loss: 0.4785 - accuracy: 0.8052In Threshold out Mechanism\n",
            "0.15631485\n",
            " 3/30 [==>...........................] - ETA: 36s - loss: 0.4739 - accuracy: 0.8095In Threshold out Mechanism\n",
            "0.022832654\n",
            " 4/30 [===>..........................] - ETA: 34s - loss: 0.4722 - accuracy: 0.8129In Threshold out Mechanism\n",
            "0.013593659\n",
            " 5/30 [====>.........................] - ETA: 33s - loss: 0.4730 - accuracy: 0.8106In Threshold out Mechanism\n",
            "0.017721042\n",
            " 6/30 [=====>........................] - ETA: 32s - loss: 0.4704 - accuracy: 0.8125In Threshold out Mechanism\n",
            "0.026322857\n",
            " 7/30 [======>.......................] - ETA: 30s - loss: 0.4695 - accuracy: 0.8129In Threshold out Mechanism\n",
            "0.034215003\n",
            " 8/30 [=======>......................] - ETA: 29s - loss: 0.4687 - accuracy: 0.8090In Threshold out Mechanism\n",
            "0.1142413\n",
            " 9/30 [========>.....................] - ETA: 28s - loss: 0.4680 - accuracy: 0.8073In Threshold out Mechanism\n",
            "0.04961332\n",
            "10/30 [=========>....................] - ETA: 26s - loss: 0.4643 - accuracy: 0.8114In Threshold out Mechanism\n",
            "0.005711445\n",
            "11/30 [==========>...................] - ETA: 25s - loss: 0.4622 - accuracy: 0.8101In Threshold out Mechanism\n",
            "0.04541409\n",
            "12/30 [===========>..................] - ETA: 24s - loss: 0.4604 - accuracy: 0.8122In Threshold out Mechanism\n",
            "0.0025415272\n",
            "13/30 [============>.................] - ETA: 23s - loss: 0.4608 - accuracy: 0.8113In Threshold out Mechanism\n",
            "0.2066092\n",
            "14/30 [=============>................] - ETA: 22s - loss: 0.4596 - accuracy: 0.8108In Threshold out Mechanism\n",
            "0.009675678\n",
            "15/30 [==============>...............] - ETA: 20s - loss: 0.4585 - accuracy: 0.8114In Threshold out Mechanism\n",
            "0.068029106\n",
            "16/30 [===============>..............] - ETA: 19s - loss: 0.4571 - accuracy: 0.8127In Threshold out Mechanism\n",
            "0.011980876\n",
            "17/30 [================>.............] - ETA: 17s - loss: 0.4551 - accuracy: 0.8147In Threshold out Mechanism\n",
            "0.1436412\n",
            "18/30 [=================>............] - ETA: 16s - loss: 0.4536 - accuracy: 0.8147In Threshold out Mechanism\n",
            "0.11865972\n",
            "19/30 [==================>...........] - ETA: 15s - loss: 0.4528 - accuracy: 0.8144In Threshold out Mechanism\n",
            "0.020490307\n",
            "20/30 [===================>..........] - ETA: 13s - loss: 0.4500 - accuracy: 0.8163In Threshold out Mechanism\n",
            "0.08588624\n",
            "21/30 [====================>.........] - ETA: 12s - loss: 0.4473 - accuracy: 0.8181In Threshold out Mechanism\n",
            "0.24630281\n",
            "22/30 [=====================>........] - ETA: 11s - loss: 0.4455 - accuracy: 0.8203In Threshold out Mechanism\n",
            "0.0636884\n",
            "23/30 [======================>.......] - ETA: 9s - loss: 0.4451 - accuracy: 0.8200 In Threshold out Mechanism\n",
            "0.091700114\n",
            "24/30 [=======================>......] - ETA: 8s - loss: 0.4442 - accuracy: 0.8195In Threshold out Mechanism\n",
            "0.12030093\n",
            "25/30 [========================>.....] - ETA: 7s - loss: 0.4423 - accuracy: 0.8197In Threshold out Mechanism\n",
            "0.14268896\n",
            "26/30 [=========================>....] - ETA: 5s - loss: 0.4406 - accuracy: 0.8212In Threshold out Mechanism\n",
            "0.044483617\n",
            "27/30 [==========================>...] - ETA: 4s - loss: 0.4378 - accuracy: 0.8238In Threshold out Mechanism\n",
            "0.15293518\n",
            "28/30 [===========================>..] - ETA: 2s - loss: 0.4342 - accuracy: 0.8266In Threshold out Mechanism\n",
            "0.05213005\n",
            "29/30 [============================>.] - ETA: 1s - loss: 0.4317 - accuracy: 0.8286In Threshold out Mechanism\n",
            "0.1213574\n",
            "30/30 [==============================] - 46s 2s/step - loss: 0.4310 - accuracy: 0.8286 - val_loss: 0.4193 - val_accuracy: 0.8238\n",
            "Epoch 4/5\n",
            "In Threshold out Mechanism\n",
            "0.2412176\n",
            " 1/30 [>.............................] - ETA: 44s - loss: 0.3570 - accuracy: 0.8701In Threshold out Mechanism\n",
            "0.015074149\n",
            " 2/30 [=>............................] - ETA: 42s - loss: 0.3566 - accuracy: 0.8766In Threshold out Mechanism\n",
            "0.079156876\n",
            " 3/30 [==>...........................] - ETA: 40s - loss: 0.3540 - accuracy: 0.8777In Threshold out Mechanism\n",
            "0.054526538\n",
            " 4/30 [===>..........................] - ETA: 38s - loss: 0.3546 - accuracy: 0.8741In Threshold out Mechanism\n",
            "0.029101135\n",
            " 5/30 [====>.........................] - ETA: 37s - loss: 0.3538 - accuracy: 0.8719In Threshold out Mechanism\n",
            "0.068597205\n",
            " 6/30 [=====>........................] - ETA: 36s - loss: 0.3517 - accuracy: 0.8739In Threshold out Mechanism\n",
            "0.09145503\n",
            " 7/30 [======>.......................] - ETA: 34s - loss: 0.3499 - accuracy: 0.8752In Threshold out Mechanism\n",
            "0.21816862\n",
            " 8/30 [=======>......................] - ETA: 32s - loss: 0.3533 - accuracy: 0.8732In Threshold out Mechanism\n",
            "0.15828525\n",
            " 9/30 [========>.....................] - ETA: 31s - loss: 0.3531 - accuracy: 0.8748In Threshold out Mechanism\n",
            "0.07434027\n",
            "10/30 [=========>....................] - ETA: 29s - loss: 0.3509 - accuracy: 0.8774In Threshold out Mechanism\n",
            "0.13870783\n",
            "11/30 [==========>...................] - ETA: 28s - loss: 0.3476 - accuracy: 0.8796In Threshold out Mechanism\n",
            "0.22773935\n",
            "12/30 [===========>..................] - ETA: 27s - loss: 0.3448 - accuracy: 0.8812In Threshold out Mechanism\n",
            "0.12600319\n",
            "13/30 [============>.................] - ETA: 25s - loss: 0.3438 - accuracy: 0.8816In Threshold out Mechanism\n",
            "0.13048726\n",
            "14/30 [=============>................] - ETA: 24s - loss: 0.3456 - accuracy: 0.8800In Threshold out Mechanism\n",
            "0.24955273\n",
            "15/30 [==============>...............] - ETA: 22s - loss: 0.3446 - accuracy: 0.8786In Threshold out Mechanism\n",
            "0.021331996\n",
            "16/30 [===============>..............] - ETA: 21s - loss: 0.3423 - accuracy: 0.8802In Threshold out Mechanism\n",
            "0.09400093\n",
            "17/30 [================>.............] - ETA: 19s - loss: 0.3411 - accuracy: 0.8786In Threshold out Mechanism\n",
            "0.10324288\n",
            "18/30 [=================>............] - ETA: 18s - loss: 0.3396 - accuracy: 0.8800In Threshold out Mechanism\n",
            "0.18000062\n",
            "19/30 [==================>...........] - ETA: 16s - loss: 0.3392 - accuracy: 0.8788In Threshold out Mechanism\n",
            "0.31101853\n",
            "20/30 [===================>..........] - ETA: 15s - loss: 0.3380 - accuracy: 0.8799In Threshold out Mechanism\n",
            "0.006208293\n",
            "21/30 [====================>.........] - ETA: 13s - loss: 0.3385 - accuracy: 0.8794In Threshold out Mechanism\n",
            "0.2098235\n",
            "22/30 [=====================>........] - ETA: 12s - loss: 0.3378 - accuracy: 0.8794In Threshold out Mechanism\n",
            "0.4387712\n",
            "23/30 [======================>.......] - ETA: 10s - loss: 0.3367 - accuracy: 0.8793In Threshold out Mechanism\n",
            "0.0129266605\n",
            "24/30 [=======================>......] - ETA: 9s - loss: 0.3346 - accuracy: 0.8803 In Threshold out Mechanism\n",
            "0.099723145\n",
            "25/30 [========================>.....] - ETA: 7s - loss: 0.3335 - accuracy: 0.8803In Threshold out Mechanism\n",
            "0.17436793\n",
            "26/30 [=========================>....] - ETA: 6s - loss: 0.3336 - accuracy: 0.8793In Threshold out Mechanism\n",
            "0.0022891983\n",
            "27/30 [==========================>...] - ETA: 4s - loss: 0.3318 - accuracy: 0.8806In Threshold out Mechanism\n",
            "0.26127988\n",
            "28/30 [===========================>..] - ETA: 3s - loss: 0.3315 - accuracy: 0.8809In Threshold out Mechanism\n",
            "0.25692078\n",
            "29/30 [============================>.] - ETA: 1s - loss: 0.3307 - accuracy: 0.8808In Threshold out Mechanism\n",
            "0.41498643\n",
            "30/30 [==============================] - 48s 2s/step - loss: 0.3303 - accuracy: 0.8813 - val_loss: 0.3590 - val_accuracy: 0.8503\n",
            "Epoch 5/5\n",
            "In Threshold out Mechanism\n",
            "0.06874313\n",
            " 1/30 [>.............................] - ETA: 40s - loss: 0.2844 - accuracy: 0.8725In Threshold out Mechanism\n",
            "0.15192173\n",
            " 2/30 [=>............................] - ETA: 40s - loss: 0.2731 - accuracy: 0.8848In Threshold out Mechanism\n",
            "0.35881025\n",
            " 3/30 [==>...........................] - ETA: 38s - loss: 0.2702 - accuracy: 0.8976In Threshold out Mechanism\n",
            "0.07645731\n",
            " 4/30 [===>..........................] - ETA: 37s - loss: 0.2591 - accuracy: 0.9096In Threshold out Mechanism\n",
            "0.21716197\n",
            " 5/30 [====>.........................] - ETA: 35s - loss: 0.2573 - accuracy: 0.9130In Threshold out Mechanism\n",
            "0.26247403\n",
            " 6/30 [=====>........................] - ETA: 34s - loss: 0.2607 - accuracy: 0.9088In Threshold out Mechanism\n",
            "0.15234317\n",
            " 7/30 [======>.......................] - ETA: 32s - loss: 0.2589 - accuracy: 0.9098In Threshold out Mechanism\n",
            "0.08575098\n",
            " 8/30 [=======>......................] - ETA: 31s - loss: 0.2595 - accuracy: 0.9093In Threshold out Mechanism\n",
            "0.2287284\n",
            " 9/30 [========>.....................] - ETA: 30s - loss: 0.2574 - accuracy: 0.9123In Threshold out Mechanism\n",
            "0.49711463\n",
            "10/30 [=========>....................] - ETA: 28s - loss: 0.2557 - accuracy: 0.9123In Threshold out Mechanism\n",
            "0.061332054\n",
            "11/30 [==========>...................] - ETA: 27s - loss: 0.2554 - accuracy: 0.9123In Threshold out Mechanism\n",
            "0.4081502\n",
            "12/30 [===========>..................] - ETA: 26s - loss: 0.2545 - accuracy: 0.9137In Threshold out Mechanism\n",
            "0.0626843\n",
            "13/30 [============>.................] - ETA: 24s - loss: 0.2561 - accuracy: 0.9131In Threshold out Mechanism\n",
            "0.22788516\n",
            "14/30 [=============>................] - ETA: 23s - loss: 0.2586 - accuracy: 0.9104In Threshold out Mechanism\n",
            "0.2981523\n",
            "15/30 [==============>...............] - ETA: 21s - loss: 0.2603 - accuracy: 0.9092In Threshold out Mechanism\n",
            "0.013413042\n",
            "16/30 [===============>..............] - ETA: 20s - loss: 0.2603 - accuracy: 0.9090In Threshold out Mechanism\n",
            "0.15915239\n",
            "17/30 [================>.............] - ETA: 18s - loss: 0.2598 - accuracy: 0.9100In Threshold out Mechanism\n",
            "0.48069805\n",
            "18/30 [=================>............] - ETA: 17s - loss: 0.2602 - accuracy: 0.9103In Threshold out Mechanism\n",
            "0.25982124\n",
            "19/30 [==================>...........] - ETA: 15s - loss: 0.2603 - accuracy: 0.9090In Threshold out Mechanism\n",
            "0.27518734\n",
            "20/30 [===================>..........] - ETA: 14s - loss: 0.2604 - accuracy: 0.9098In Threshold out Mechanism\n",
            "0.3755247\n",
            "21/30 [====================>.........] - ETA: 12s - loss: 0.2597 - accuracy: 0.9098In Threshold out Mechanism\n",
            "0.4331113\n",
            "22/30 [=====================>........] - ETA: 11s - loss: 0.2595 - accuracy: 0.9090In Threshold out Mechanism\n",
            "0.37439063\n",
            "23/30 [======================>.......] - ETA: 10s - loss: 0.2586 - accuracy: 0.9095In Threshold out Mechanism\n",
            "0.20559087\n",
            "24/30 [=======================>......] - ETA: 8s - loss: 0.2576 - accuracy: 0.9094 In Threshold out Mechanism\n",
            "0.27485994\n",
            "25/30 [========================>.....] - ETA: 7s - loss: 0.2568 - accuracy: 0.9098In Threshold out Mechanism\n",
            "0.3792193\n",
            "26/30 [=========================>....] - ETA: 5s - loss: 0.2565 - accuracy: 0.9105In Threshold out Mechanism\n",
            "0.031281307\n",
            "27/30 [==========================>...] - ETA: 4s - loss: 0.2561 - accuracy: 0.9111In Threshold out Mechanism\n",
            "0.28649753\n",
            "28/30 [===========================>..] - ETA: 2s - loss: 0.2564 - accuracy: 0.9112In Threshold out Mechanism\n",
            "0.015385436\n",
            "29/30 [============================>.] - ETA: 1s - loss: 0.2556 - accuracy: 0.9114In Threshold out Mechanism\n",
            "0.5270333\n",
            "30/30 [==============================] - 46s 2s/step - loss: 0.2553 - accuracy: 0.9115 - val_loss: 0.3298 - val_accuracy: 0.8598\n"
          ]
        }
      ],
      "source": [
        "threshold_history = mechanized_model.fit(partial_x_train,\n",
        "                    partial_y_train,\n",
        "                    epochs = EPOCH,\n",
        "                    batch_size=512,\n",
        "                    validation_data=(x_val, y_val),\n",
        "                    verbose=1)"
      ]
    },
    {
      "cell_type": "code",
      "execution_count": 12,
      "metadata": {},
      "outputs": [
        {
          "name": "stdout",
          "output_type": "stream",
          "text": [
            "782/782 [==============================] - 101s 129ms/step - loss: 0.3459 - accuracy: 0.8502\n",
            "[0.3459072709083557, 0.8501999974250793]\n"
          ]
        }
      ],
      "source": [
        "results = mechanized_model.evaluate(test_examples, test_labels)\n",
        "\n",
        "print(results)"
      ]
    },
    {
      "cell_type": "code",
      "execution_count": 15,
      "metadata": {},
      "outputs": [],
      "source": [
        "mechanized_model.choose_mech(None)\n",
        "\n",
        "mechanized_model.compile(optimizer='adam',\n",
        "              loss=tf.losses.BinaryCrossentropy(from_logits=True),\n",
        "              metrics=[tf.metrics.BinaryAccuracy(threshold=0.0, name='accuracy')])"
      ]
    },
    {
      "cell_type": "code",
      "execution_count": 17,
      "metadata": {},
      "outputs": [
        {
          "name": "stdout",
          "output_type": "stream",
          "text": [
            "Epoch 1/5\n",
            "30/30 [==============================] - 27s 906ms/step - loss: 0.0336 - accuracy: 0.9959 - val_loss: 0.3461 - val_accuracy: 0.8727\n",
            "Epoch 2/5\n",
            "30/30 [==============================] - 24s 786ms/step - loss: 0.0217 - accuracy: 0.9979 - val_loss: 0.3648 - val_accuracy: 0.8706\n",
            "Epoch 3/5\n",
            "30/30 [==============================] - 23s 780ms/step - loss: 0.0144 - accuracy: 0.9991 - val_loss: 0.3823 - val_accuracy: 0.8706\n",
            "Epoch 4/5\n",
            "30/30 [==============================] - 23s 776ms/step - loss: 0.0098 - accuracy: 0.9994 - val_loss: 0.3996 - val_accuracy: 0.8689\n",
            "Epoch 5/5\n",
            "30/30 [==============================] - 24s 807ms/step - loss: 0.0069 - accuracy: 0.9998 - val_loss: 0.4161 - val_accuracy: 0.8686\n"
          ]
        }
      ],
      "source": [
        "empirical_history = mechanized_model.fit(partial_x_train,\n",
        "                    partial_y_train,\n",
        "                    epochs = EPOCH,\n",
        "                    batch_size=512,\n",
        "                    validation_data=(x_val, y_val),\n",
        "                    verbose=1)"
      ]
    },
    {
      "cell_type": "code",
      "execution_count": 18,
      "metadata": {},
      "outputs": [
        {
          "name": "stdout",
          "output_type": "stream",
          "text": [
            "782/782 [==============================] - 100s 128ms/step - loss: 0.4711 - accuracy: 0.8520\n",
            "[0.47110265493392944, 0.8520399928092957]\n"
          ]
        }
      ],
      "source": [
        "results = mechanized_model.evaluate(test_examples, test_labels)\n",
        "\n",
        "print(results)"
      ]
    },
    {
      "attachments": {},
      "cell_type": "markdown",
      "metadata": {
        "id": "5KggXVeL-llZ"
      },
      "source": [
        "## Visualization"
      ]
    },
    {
      "cell_type": "code",
      "execution_count": 23,
      "metadata": {
        "id": "nGoYf2Js-lle"
      },
      "outputs": [],
      "source": [
        "def visualization(history, mechanism = \"Baseline\"):\n",
        "    history_dict = history.history\n",
        "    loss = history_dict['loss']\n",
        "    val_loss = history_dict['val_loss']\n",
        "\n",
        "    epochs = range(1, len(loss) + 1)\n",
        "\n",
        "    # \"bo\" is for \"blue dot\"\n",
        "    plt.plot(epochs, loss, 'bo', label='Training loss: ' + mechanism)\n",
        "    # b is for \"solid blue line\"\n",
        "    plt.plot(epochs, val_loss, 'b', label='Validation loss' + mechanism)\n",
        "    plt.title('Training and validation loss')\n",
        "    plt.xlabel('Epochs')\n",
        "    plt.ylabel('Loss')\n",
        "    plt.legend()\n"
      ]
    },
    {
      "cell_type": "code",
      "execution_count": 24,
      "metadata": {},
      "outputs": [
        {
          "data": {
            "image/png": "[encoded data removed]",
            "text/plain": [
              "<Figure size 800x800 with 1 Axes>"
            ]
          },
          "metadata": {},
          "output_type": "display_data"
        }
      ],
      "source": [
        "plt.figure(figsize=(8, 8))\n",
        "visualization(empirical_history)\n",
        "visualization(gaussian_history, \"Gaussian\")\n",
        "visualization(threshold_history, \"Threshold\")\n",
        "plt.show()"
      ]
    },
    {
      "cell_type": "code",
      "execution_count": 26,
      "metadata": {},
      "outputs": [],
      "source": [
        "def visualization_val(history, mechanism = \"Baseline\"):\n",
        "    history_dict = history.history\n",
        "    acc = history_dict['accuracy']\n",
        "    val_acc = history_dict['val_accuracy']\n",
        "\n",
        "    epochs = range(1, len(acc) + 1)\n",
        "\n",
        "    plt.clf()   # clear figure\n",
        "\n",
        "    plt.plot(epochs, acc, 'bo', label='Training acc' + mechanism)\n",
        "    plt.plot(epochs, val_acc, 'b', label='Validation acc ' + mechanism)\n",
        "    plt.title('Training and validation accuracy')\n",
        "    plt.xlabel('Epochs')\n",
        "    plt.ylabel('Accuracy')\n",
        "    plt.legend()\n",
        "\n"
      ]
    },
    {
      "cell_type": "code",
      "execution_count": 27,
      "metadata": {},
      "outputs": [
        {
          "data": {
            "image/png": "[encoded data removed]",
            "text/plain": [
              "<Figure size 800x800 with 1 Axes>"
            ]
          },
          "metadata": {},
          "output_type": "display_data"
        }
      ],
      "source": [
        "plt.figure(figsize=(8, 8))\n",
        "visualization_val(empirical_history)\n",
        "visualization_val(gaussian_history, \"Gaussian\")\n",
        "visualization_val(threshold_history, \"Threshold\")\n",
        "plt.show()"
      ]
    }
  ],
  "metadata": {
    "colab": {
      "collapsed_sections": [],
      "name": "basic-text-classification.ipynb",
      "private_outputs": true,
      "provenance": [],
      "toc_visible": true
    },
    "kernelspec": {
      "display_name": "Python 3",
      "language": "python",
      "name": "python3"
    },
    "language_info": {
      "codemirror_mode": {
        "name": "ipython",
        "version": 3
      },
      "file_extension": ".py",
      "mimetype": "text/x-python",
      "name": "python",
      "nbconvert_exporter": "python",
      "pygments_lexer": "ipython3",
      "version": "3.10.6"
    },
    "vscode": {
      "interpreter": {
        "hash": "aee8b7b246df8f9039afb4144a1f6fd8d2ca17a180786b69acc140d282b71a49"
      }
    }
  },
  "nbformat": 4,
  "nbformat_minor": 0
}
