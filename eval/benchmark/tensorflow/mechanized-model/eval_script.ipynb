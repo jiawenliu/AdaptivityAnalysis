{
 "cells": [
  {
   "cell_type": "code",
   "execution_count": 5,
   "metadata": {},
   "outputs": [
    {
     "name": "stderr",
     "output_type": "stream",
     "text": [
      "2023-03-14 12:40:44.609475: I tensorflow/core/platform/cpu_feature_guard.cc:193] This TensorFlow binary is optimized with oneAPI Deep Neural Network Library (oneDNN) to use the following CPU instructions in performance-critical operations:  AVX2 FMA\n",
      "To enable them in other operations, rebuild TensorFlow with the appropriate compiler flags.\n"
     ]
    }
   ],
   "source": [
    "import numpy as np\n",
    "import matplotlib.pyplot as plt\n",
    "import tensorflow as tf\n",
    "import math\n",
    "keras = tf.keras\n"
   ]
  },
  {
   "cell_type": "code",
   "execution_count": 21,
   "metadata": {},
   "outputs": [],
   "source": [
    "test = tf.data.Dataset.from_tensor_slices([1, 2, 3])"
   ]
  },
  {
   "cell_type": "code",
   "execution_count": 51,
   "metadata": {},
   "outputs": [],
   "source": [
    "\n",
    "\n",
    "import sys\n",
    "sys.path.append(\"..\")\n",
    "\n",
    "from mechanism.mechanized_sequential import MechanizedSequential\n",
    "from mechanism.mechanized_sequential import Mechanism\n",
    "\n"
   ]
  },
  {
   "cell_type": "code",
   "execution_count": 68,
   "metadata": {},
   "outputs": [],
   "source": [
    "Q_MEAN = 0.5\n",
    "EPOCH = 2\n",
    "POPULATION_SIZE = 10000\n",
    "TRAIN_DIM = 100\n",
    "STEP = 1"
   ]
  },
  {
   "cell_type": "code",
   "execution_count": 59,
   "metadata": {},
   "outputs": [],
   "source": [
    "\n",
    "import numpy as np\n",
    "\n",
    "def initialize_with_str_seed(init_str):\n",
    "    \"\"\"\n",
    "    Initializes random number generator with seed corresponding to given input string init_str.\n",
    "    :param init_str: Initialization string according to which seed will be computed. Seed is the sum of the ASCII\n",
    "                     values of each character in init_str.\n",
    "    \"\"\"\n",
    "    rnd_val = 0\n",
    "    if init_str:\n",
    "        for c in init_str:\n",
    "            rnd_val += ord(c)\n",
    "    np.random.seed(rnd_val)\n",
    "\n",
    "def gen_data(n, d, seed = None):\n",
    "    if seed:\n",
    "        initialize_with_str_seed(seed)\n",
    "    p = (1.0 + np.sqrt(max(2 * Q_MEAN - 1, 1 - 2 * Q_MEAN))) / 2 \n",
    "    data = np.random.choice([-1, 1], (n, d), p=[1 -p, p])\n",
    "    data_y = np.random.choice([0, 1], n, p=[1 -p, p])\n",
    "    return data, data_y\n",
    "\n",
    "def gen_valid(n, d, seed = None):\n",
    "    if seed:\n",
    "        initialize_with_str_seed(seed)\n",
    "    \n",
    "    n = int(n/10)\n",
    "    \n",
    "    p = (1.0 + np.sqrt(max(2 * Q_MEAN - 1, 1 - 2 * Q_MEAN))) / 2 \n",
    "    data = np.random.choice([-1, 1], (n, d), p=[1 -p, p])\n",
    "    data_y = np.random.choice([0, 1], n, p=[1 -p, p])\n",
    "    return data, data_y\n",
    "\n"
   ]
  },
  {
   "cell_type": "code",
   "execution_count": 78,
   "metadata": {},
   "outputs": [],
   "source": [
    "import math\n",
    "\n",
    "x_train, y_train = gen_data(POPULATION_SIZE, TRAIN_DIM)\n",
    "x_valid, y_valid = gen_data(int(POPULATION_SIZE/500), TRAIN_DIM)\n"
   ]
  },
  {
   "cell_type": "code",
   "execution_count": 92,
   "metadata": {},
   "outputs": [],
   "source": [
    "keras.backend.clear_session()\n",
    "tf.random.set_seed(42)\n",
    "np.random.seed(42)"
   ]
  },
  {
   "cell_type": "code",
   "execution_count": 102,
   "metadata": {},
   "outputs": [],
   "source": [
    "\n",
    "def compile_and_fit_model(model, train_set, epoch_num = EPOCH, eager = False):\n",
    "\n",
    "    \n",
    "    lr_schedule = keras.callbacks.LearningRateScheduler(\n",
    "        lambda epoch: 1e-8 * 10**(epoch / 20))\n",
    "    optimizer = keras.optimizers.SGD(lr=1e-8, momentum=0.9)\n",
    "    model.compile(loss=keras.losses.Huber(),\n",
    "                optimizer=optimizer,\n",
    "                metrics=[\"mae\"],\n",
    "                run_eagerly = eager)\n",
    "\n",
    "    history = model.fit(train_set, epochs = epoch_num, callbacks=[lr_schedule])\n",
    "    return history\n",
    "\n",
    "def eval_model(train_size, epoch_num = EPOCH, mechanism = Mechanism(Mechanism.MechanismType.NONE)):\n",
    "    ''' Compile and fit the empirical model as baseline'''\n",
    "    model = MechanizedSequential([\n",
    "        keras.layers.Conv1D(filters = 32,\n",
    "                            kernel_size = 5,\n",
    "                            strides = 1, \n",
    "                            padding = \"causal\",\n",
    "                            activation = \"relu\",\n",
    "                            input_shape = [None, 1]),\n",
    "        # keras.layers.LSTM(32, return_sequences = True),\n",
    "        # keras.layers.LSTM(32, return_sequences=True),\n",
    "        keras.layers.Dense(1),\n",
    "        keras.layers.Lambda(lambda x: x * 200)\n",
    "    ])    \n",
    "    batch_size = math.floor(train_size/STEP)\n",
    "    train_set = tf.data.Dataset.from_tensor_slices((x_train[:train_size], y_train[:train_size])).batch(batch_size)\n",
    "\n",
    "\n",
    "    if mechanism:\n",
    "        model.choose_mech(mechanism)\n",
    "        history = compile_and_fit_model(model, train_set, epoch_num, True)\n",
    "    else:\n",
    "        history = compile_and_fit_model(model, train_set, epoch_num, False)\n",
    "\n",
    "\n",
    "    ''' Validate the result'''\n",
    "    # x_valid, y_valid = gen_valid(POPULATION_SIZE, TRAIN_DIM)\n",
    "    # model.choose_mech(None)\n",
    "    predict = model.predict(x_valid)\n",
    "    \n",
    "    error = generalization_error(y_valid, predict)\n",
    "    return history, predict, error\n",
    "\n",
    "\n",
    "def generalization_error(true_val, predict_val):\n",
    "    error = keras.metrics.RootMeanSquaredError()\n",
    "    error.update_state(true_val, predict_val)\n",
    "    return error.result().numpy()\n",
    "\n",
    "\n",
    "def eval_multiple_rounds(train_size, stepped_epoch_num, mechanism = Mechanism(Mechanism.MechanismType.NONE)):\n",
    "    history_list, predict_list, generalization_error_list = [], [], []\n",
    "    for r in stepped_epoch_num:\n",
    "        history, predict, error = eval_model(train_size = train_size, epoch_num = r, mechanism = mechanism)\n",
    "        history_list.append(history)\n",
    "        predict_list.append(predict)\n",
    "        generalization_error_list.append(error) \n",
    "\n",
    "    return history_list, predict_list, generalization_error_list\n",
    "\n",
    "def eval_const_rounds(stepped_train_size, epoch_num = EPOCH, mechanism = Mechanism(Mechanism.MechanismType.NONE)):\n",
    "    history_list, predict_list, generalization_error_list = [], [], []\n",
    "    for n in stepped_train_size:\n",
    "        history, predict, error = eval_model(train_size = n, epoch_num = epoch_num, mechanism = mechanism)\n",
    "        history_list.append(history)\n",
    "        predict_list.append(predict)\n",
    "        generalization_error_list.append(error) \n",
    "\n",
    "    return history_list, predict_list, generalization_error_list\n",
    "\n",
    "\n"
   ]
  },
  {
   "attachments": {},
   "cell_type": "markdown",
   "metadata": {},
   "source": [
    "# Evaluate the Model"
   ]
  },
  {
   "cell_type": "code",
   "execution_count": 71,
   "metadata": {},
   "outputs": [
    {
     "data": {
      "text/plain": [
       "' eval the empirical model as baseline'"
      ]
     },
     "execution_count": 71,
     "metadata": {},
     "output_type": "execute_result"
    }
   ],
   "source": [
    "\n",
    "\n",
    "'''\n",
    "Plot the Comparison of the Three Model\n",
    "'''\n",
    "def plot_error(rounds, generalization_error, mechanism):\n",
    "    plt.plot(rounds, generalization_error, label = mechanism)\n",
    "    plt.xlabel(\"Queries\")\n",
    "    plt.ylabel(\"RMSE (Generalization Error) for adaptive queries\")\n",
    "    plt.legend()\n",
    "    plt.grid()\n"
   ]
  },
  {
   "cell_type": "code",
   "execution_count": 110,
   "metadata": {},
   "outputs": [],
   "source": [
    "max_query_num = 200\n",
    "\n",
    "stepped_query_num = range(math.floor(max_query_num/2), max_query_num, 20)"
   ]
  },
  {
   "cell_type": "code",
   "execution_count": 111,
   "metadata": {},
   "outputs": [
    {
     "name": "stderr",
     "output_type": "stream",
     "text": [
      "WARNING:absl:`lr` is deprecated, please use `learning_rate` instead, or use the legacy optimizer, e.g.,tf.keras.optimizers.legacy.SGD.\n"
     ]
    },
    {
     "name": "stdout",
     "output_type": "stream",
     "text": [
      "Epoch 1/2\n",
      "1/1 [==============================] - 0s 337ms/step - loss: 63.1359 - mae: 63.6279 - lr: 1.0000e-08\n",
      "Epoch 2/2\n",
      "1/1 [==============================] - 0s 307ms/step - loss: 63.1352 - mae: 63.6272 - lr: 1.1220e-08\n",
      "1/1 [==============================] - 0s 45ms/step\n"
     ]
    },
    {
     "name": "stderr",
     "output_type": "stream",
     "text": [
      "WARNING:absl:`lr` is deprecated, please use `learning_rate` instead, or use the legacy optimizer, e.g.,tf.keras.optimizers.legacy.SGD.\n"
     ]
    },
    {
     "name": "stdout",
     "output_type": "stream",
     "text": [
      "Epoch 1/2\n",
      "1/1 [==============================] - 0s 432ms/step - loss: 31.7451 - mae: 32.2451 - lr: 1.0000e-08\n",
      "Epoch 2/2\n",
      "1/1 [==============================] - 1s 514ms/step - loss: 31.7449 - mae: 32.2449 - lr: 1.1220e-08\n",
      "1/1 [==============================] - 0s 32ms/step\n"
     ]
    },
    {
     "name": "stderr",
     "output_type": "stream",
     "text": [
      "WARNING:absl:`lr` is deprecated, please use `learning_rate` instead, or use the legacy optimizer, e.g.,tf.keras.optimizers.legacy.SGD.\n"
     ]
    },
    {
     "name": "stdout",
     "output_type": "stream",
     "text": [
      "Epoch 1/2\n",
      "1/1 [==============================] - 1s 556ms/step - loss: 39.5941 - mae: 40.0941 - lr: 1.0000e-08\n",
      "Epoch 2/2\n",
      "1/1 [==============================] - 1s 573ms/step - loss: 39.5937 - mae: 40.0937 - lr: 1.1220e-08\n",
      "1/1 [==============================] - 0s 28ms/step\n"
     ]
    },
    {
     "name": "stderr",
     "output_type": "stream",
     "text": [
      "WARNING:absl:`lr` is deprecated, please use `learning_rate` instead, or use the legacy optimizer, e.g.,tf.keras.optimizers.legacy.SGD.\n"
     ]
    },
    {
     "name": "stdout",
     "output_type": "stream",
     "text": [
      "Epoch 1/2\n",
      "1/1 [==============================] - 1s 708ms/step - loss: 58.1047 - mae: 58.5995 - lr: 1.0000e-08\n",
      "Epoch 2/2\n",
      "1/1 [==============================] - 1s 808ms/step - loss: 58.1043 - mae: 58.5992 - lr: 1.1220e-08\n",
      "1/1 [==============================] - 0s 32ms/step\n"
     ]
    },
    {
     "name": "stderr",
     "output_type": "stream",
     "text": [
      "WARNING:absl:`lr` is deprecated, please use `learning_rate` instead, or use the legacy optimizer, e.g.,tf.keras.optimizers.legacy.SGD.\n"
     ]
    },
    {
     "name": "stdout",
     "output_type": "stream",
     "text": [
      "Epoch 1/2\n",
      "1/1 [==============================] - 1s 970ms/step - loss: 32.1176 - mae: 32.6176 - lr: 1.0000e-08\n",
      "Epoch 2/2\n",
      "1/1 [==============================] - 2s 2s/step - loss: 32.1173 - mae: 32.6173 - lr: 1.1220e-08\n",
      "1/1 [==============================] - 0s 27ms/step\n"
     ]
    }
   ],
   "source": [
    "baseline_generalization_error_list = eval_const_rounds(stepped_query_num)[2]"
   ]
  },
  {
   "cell_type": "code",
   "execution_count": 112,
   "metadata": {},
   "outputs": [
    {
     "name": "stdout",
     "output_type": "stream",
     "text": [
      "[72.71582, 38.933697, 44.947372, 73.5579, 42.727158]\n"
     ]
    }
   ],
   "source": [
    "print(baseline_generalization_error_list)"
   ]
  },
  {
   "cell_type": "code",
   "execution_count": null,
   "metadata": {},
   "outputs": [],
   "source": [
    "''' eval the empirical model as baseline'''\n",
    "baseline_generalization_error_list = [eval_const_rounds(stepped_query_num)[2] for _ in range(100)]\n",
    "print(baseline_generalization_error_list)\n",
    "\"\"\"\n",
    "[13.719473]\n",
    "[10.51995]\n",
    "\"\"\""
   ]
  },
  {
   "cell_type": "code",
   "execution_count": 118,
   "metadata": {},
   "outputs": [
    {
     "name": "stdout",
     "output_type": "stream",
     "text": [
      "54.576393\n"
     ]
    }
   ],
   "source": [
    "print(np.mean(baseline_generalization_error_list, axis = 0))"
   ]
  },
  {
   "cell_type": "code",
   "execution_count": null,
   "metadata": {},
   "outputs": [],
   "source": [
    "print(np.mean(gaussian_generalization_error_list, axis = 0))"
   ]
  },
  {
   "cell_type": "code",
   "execution_count": null,
   "metadata": {},
   "outputs": [],
   "source": [
    "gaussian_generalization_error_list = eval_const_rounds(stepped_query_num, mechanism = Mechanism(Mechanism.MechanismType.GAUSSIAN, sigma = 0.03))[2]"
   ]
  },
  {
   "cell_type": "code",
   "execution_count": 117,
   "metadata": {},
   "outputs": [
    {
     "name": "stderr",
     "output_type": "stream",
     "text": [
      "WARNING:absl:`lr` is deprecated, please use `learning_rate` instead, or use the legacy optimizer, e.g.,tf.keras.optimizers.legacy.SGD.\n"
     ]
    },
    {
     "name": "stdout",
     "output_type": "stream",
     "text": [
      "Epoch 1/2\n",
      "1/1 [==============================] - 0s 328ms/step - loss: 27.7596 - mae: 28.2591 - lr: 1.0000e-08\n",
      "Epoch 2/2\n",
      "1/1 [==============================] - 0s 290ms/step - loss: 27.7594 - mae: 28.2589 - lr: 1.1220e-08\n",
      "1/1 [==============================] - 0s 26ms/step\n"
     ]
    },
    {
     "name": "stderr",
     "output_type": "stream",
     "text": [
      "WARNING:absl:`lr` is deprecated, please use `learning_rate` instead, or use the legacy optimizer, e.g.,tf.keras.optimizers.legacy.SGD.\n"
     ]
    },
    {
     "name": "stdout",
     "output_type": "stream",
     "text": [
      "Epoch 1/2\n",
      "1/1 [==============================] - 0s 432ms/step - loss: 31.3891 - mae: 31.8852 - lr: 1.0000e-08\n",
      "Epoch 2/2\n",
      "1/1 [==============================] - 0s 423ms/step - loss: 31.3889 - mae: 31.8849 - lr: 1.1220e-08\n",
      "1/1 [==============================] - 0s 65ms/step\n"
     ]
    },
    {
     "name": "stderr",
     "output_type": "stream",
     "text": [
      "WARNING:absl:`lr` is deprecated, please use `learning_rate` instead, or use the legacy optimizer, e.g.,tf.keras.optimizers.legacy.SGD.\n"
     ]
    },
    {
     "name": "stdout",
     "output_type": "stream",
     "text": [
      "Epoch 1/2\n",
      "1/1 [==============================] - 1s 549ms/step - loss: 47.5519 - mae: 48.0519 - lr: 1.0000e-08\n",
      "Epoch 2/2\n",
      "1/1 [==============================] - 1s 564ms/step - loss: 47.5514 - mae: 48.0514 - lr: 1.1220e-08\n",
      "1/1 [==============================] - 0s 32ms/step\n"
     ]
    },
    {
     "name": "stderr",
     "output_type": "stream",
     "text": [
      "WARNING:absl:`lr` is deprecated, please use `learning_rate` instead, or use the legacy optimizer, e.g.,tf.keras.optimizers.legacy.SGD.\n"
     ]
    },
    {
     "name": "stdout",
     "output_type": "stream",
     "text": [
      "Epoch 1/2\n",
      "1/1 [==============================] - 1s 736ms/step - loss: 41.6030 - mae: 42.1030 - lr: 1.0000e-08\n",
      "Epoch 2/2\n",
      "1/1 [==============================] - 1s 728ms/step - loss: 41.6028 - mae: 42.1028 - lr: 1.1220e-08\n",
      "1/1 [==============================] - 0s 22ms/step\n"
     ]
    },
    {
     "name": "stderr",
     "output_type": "stream",
     "text": [
      "WARNING:absl:`lr` is deprecated, please use `learning_rate` instead, or use the legacy optimizer, e.g.,tf.keras.optimizers.legacy.SGD.\n"
     ]
    },
    {
     "name": "stdout",
     "output_type": "stream",
     "text": [
      "Epoch 1/2\n",
      "1/1 [==============================] - 1s 976ms/step - loss: 29.6523 - mae: 30.1523 - lr: 1.0000e-08\n",
      "Epoch 2/2\n",
      "1/1 [==============================] - 1s 908ms/step - loss: 29.6521 - mae: 30.1520 - lr: 1.1220e-08\n",
      "1/1 [==============================] - 0s 23ms/step\n"
     ]
    },
    {
     "name": "stderr",
     "output_type": "stream",
     "text": [
      "WARNING:absl:`lr` is deprecated, please use `learning_rate` instead, or use the legacy optimizer, e.g.,tf.keras.optimizers.legacy.SGD.\n"
     ]
    },
    {
     "name": "stdout",
     "output_type": "stream",
     "text": [
      "Epoch 1/2\n",
      "1/1 [==============================] - 0s 306ms/step - loss: 39.0770 - mae: 39.5769 - lr: 1.0000e-08\n",
      "Epoch 2/2\n",
      "1/1 [==============================] - 0s 293ms/step - loss: 39.0766 - mae: 39.5766 - lr: 1.1220e-08\n",
      "1/1 [==============================] - 0s 34ms/step\n"
     ]
    },
    {
     "name": "stderr",
     "output_type": "stream",
     "text": [
      "WARNING:absl:`lr` is deprecated, please use `learning_rate` instead, or use the legacy optimizer, e.g.,tf.keras.optimizers.legacy.SGD.\n"
     ]
    },
    {
     "name": "stdout",
     "output_type": "stream",
     "text": [
      "Epoch 1/2\n",
      "1/1 [==============================] - 0s 425ms/step - loss: 59.3129 - mae: 59.8128 - lr: 1.0000e-08\n",
      "Epoch 2/2\n",
      "1/1 [==============================] - 1s 501ms/step - loss: 59.3122 - mae: 59.8122 - lr: 1.1220e-08\n",
      "1/1 [==============================] - 0s 27ms/step\n"
     ]
    },
    {
     "name": "stderr",
     "output_type": "stream",
     "text": [
      "WARNING:absl:`lr` is deprecated, please use `learning_rate` instead, or use the legacy optimizer, e.g.,tf.keras.optimizers.legacy.SGD.\n"
     ]
    },
    {
     "name": "stdout",
     "output_type": "stream",
     "text": [
      "Epoch 1/2\n",
      "1/1 [==============================] - 1s 563ms/step - loss: 41.2097 - mae: 41.7096 - lr: 1.0000e-08\n",
      "Epoch 2/2\n",
      "1/1 [==============================] - 1s 579ms/step - loss: 41.2093 - mae: 41.7092 - lr: 1.1220e-08\n",
      "1/1 [==============================] - 0s 23ms/step\n"
     ]
    },
    {
     "name": "stderr",
     "output_type": "stream",
     "text": [
      "WARNING:absl:`lr` is deprecated, please use `learning_rate` instead, or use the legacy optimizer, e.g.,tf.keras.optimizers.legacy.SGD.\n"
     ]
    },
    {
     "name": "stdout",
     "output_type": "stream",
     "text": [
      "Epoch 1/2\n",
      "1/1 [==============================] - 1s 736ms/step - loss: 48.3187 - mae: 48.8186 - lr: 1.0000e-08\n",
      "Epoch 2/2\n",
      "1/1 [==============================] - 1s 724ms/step - loss: 48.3180 - mae: 48.8179 - lr: 1.1220e-08\n",
      "1/1 [==============================] - 0s 22ms/step\n"
     ]
    },
    {
     "name": "stderr",
     "output_type": "stream",
     "text": [
      "WARNING:absl:`lr` is deprecated, please use `learning_rate` instead, or use the legacy optimizer, e.g.,tf.keras.optimizers.legacy.SGD.\n"
     ]
    },
    {
     "name": "stdout",
     "output_type": "stream",
     "text": [
      "Epoch 1/2\n",
      "1/1 [==============================] - 1s 933ms/step - loss: 39.5597 - mae: 40.0530 - lr: 1.0000e-08\n",
      "Epoch 2/2\n",
      "1/1 [==============================] - 1s 906ms/step - loss: 39.5590 - mae: 40.0524 - lr: 1.1220e-08\n",
      "1/1 [==============================] - 0s 24ms/step\n"
     ]
    },
    {
     "name": "stderr",
     "output_type": "stream",
     "text": [
      "WARNING:absl:`lr` is deprecated, please use `learning_rate` instead, or use the legacy optimizer, e.g.,tf.keras.optimizers.legacy.SGD.\n"
     ]
    },
    {
     "name": "stdout",
     "output_type": "stream",
     "text": [
      "Epoch 1/2\n",
      "1/1 [==============================] - 0s 307ms/step - loss: 36.5421 - mae: 37.0421 - lr: 1.0000e-08\n",
      "Epoch 2/2\n",
      "1/1 [==============================] - 0s 303ms/step - loss: 36.5419 - mae: 37.0419 - lr: 1.1220e-08\n",
      "1/1 [==============================] - 0s 23ms/step\n"
     ]
    },
    {
     "name": "stderr",
     "output_type": "stream",
     "text": [
      "WARNING:absl:`lr` is deprecated, please use `learning_rate` instead, or use the legacy optimizer, e.g.,tf.keras.optimizers.legacy.SGD.\n"
     ]
    },
    {
     "name": "stdout",
     "output_type": "stream",
     "text": [
      "Epoch 1/2\n",
      "1/1 [==============================] - 1s 506ms/step - loss: 35.0600 - mae: 35.5533 - lr: 1.0000e-08\n",
      "Epoch 2/2\n",
      "1/1 [==============================] - 0s 389ms/step - loss: 35.0595 - mae: 35.5528 - lr: 1.1220e-08\n",
      "1/1 [==============================] - 0s 26ms/step\n"
     ]
    },
    {
     "name": "stderr",
     "output_type": "stream",
     "text": [
      "WARNING:absl:`lr` is deprecated, please use `learning_rate` instead, or use the legacy optimizer, e.g.,tf.keras.optimizers.legacy.SGD.\n"
     ]
    },
    {
     "name": "stdout",
     "output_type": "stream",
     "text": [
      "Epoch 1/2\n",
      "1/1 [==============================] - 1s 561ms/step - loss: 34.8511 - mae: 35.3511 - lr: 1.0000e-08\n",
      "Epoch 2/2\n",
      "1/1 [==============================] - 1s 537ms/step - loss: 34.8509 - mae: 35.3509 - lr: 1.1220e-08\n",
      "1/1 [==============================] - 0s 27ms/step\n"
     ]
    },
    {
     "name": "stderr",
     "output_type": "stream",
     "text": [
      "WARNING:absl:`lr` is deprecated, please use `learning_rate` instead, or use the legacy optimizer, e.g.,tf.keras.optimizers.legacy.SGD.\n"
     ]
    },
    {
     "name": "stdout",
     "output_type": "stream",
     "text": [
      "Epoch 1/2\n",
      "1/1 [==============================] - 1s 725ms/step - loss: 51.9717 - mae: 52.4673 - lr: 1.0000e-08\n",
      "Epoch 2/2\n",
      "1/1 [==============================] - 1s 721ms/step - loss: 51.9714 - mae: 52.4670 - lr: 1.1220e-08\n",
      "1/1 [==============================] - 0s 23ms/step\n"
     ]
    },
    {
     "name": "stderr",
     "output_type": "stream",
     "text": [
      "WARNING:absl:`lr` is deprecated, please use `learning_rate` instead, or use the legacy optimizer, e.g.,tf.keras.optimizers.legacy.SGD.\n"
     ]
    },
    {
     "name": "stdout",
     "output_type": "stream",
     "text": [
      "Epoch 1/2\n",
      "1/1 [==============================] - 1s 917ms/step - loss: 31.1143 - mae: 31.6091 - lr: 1.0000e-08\n",
      "Epoch 2/2\n",
      "1/1 [==============================] - 1s 907ms/step - loss: 31.1141 - mae: 31.6089 - lr: 1.1220e-08\n",
      "1/1 [==============================] - 0s 26ms/step\n"
     ]
    },
    {
     "name": "stderr",
     "output_type": "stream",
     "text": [
      "WARNING:absl:`lr` is deprecated, please use `learning_rate` instead, or use the legacy optimizer, e.g.,tf.keras.optimizers.legacy.SGD.\n"
     ]
    },
    {
     "name": "stdout",
     "output_type": "stream",
     "text": [
      "Epoch 1/2\n",
      "1/1 [==============================] - 0s 390ms/step - loss: 40.3509 - mae: 40.8509 - lr: 1.0000e-08\n",
      "Epoch 2/2\n",
      "1/1 [==============================] - 0s 297ms/step - loss: 40.3503 - mae: 40.8503 - lr: 1.1220e-08\n",
      "1/1 [==============================] - 0s 28ms/step\n"
     ]
    },
    {
     "name": "stderr",
     "output_type": "stream",
     "text": [
      "WARNING:absl:`lr` is deprecated, please use `learning_rate` instead, or use the legacy optimizer, e.g.,tf.keras.optimizers.legacy.SGD.\n"
     ]
    },
    {
     "name": "stdout",
     "output_type": "stream",
     "text": [
      "Epoch 1/2\n",
      "1/1 [==============================] - 0s 421ms/step - loss: 28.6565 - mae: 29.1565 - lr: 1.0000e-08\n",
      "Epoch 2/2\n",
      "1/1 [==============================] - 0s 413ms/step - loss: 28.6563 - mae: 29.1563 - lr: 1.1220e-08\n",
      "1/1 [==============================] - 0s 40ms/step\n"
     ]
    },
    {
     "name": "stderr",
     "output_type": "stream",
     "text": [
      "WARNING:absl:`lr` is deprecated, please use `learning_rate` instead, or use the legacy optimizer, e.g.,tf.keras.optimizers.legacy.SGD.\n"
     ]
    },
    {
     "name": "stdout",
     "output_type": "stream",
     "text": [
      "Epoch 1/2\n",
      "1/1 [==============================] - 1s 601ms/step - loss: 46.8007 - mae: 47.3007 - lr: 1.0000e-08\n",
      "Epoch 2/2\n",
      "1/1 [==============================] - 1s 555ms/step - loss: 46.8001 - mae: 47.3001 - lr: 1.1220e-08\n",
      "1/1 [==============================] - 0s 26ms/step\n"
     ]
    },
    {
     "name": "stderr",
     "output_type": "stream",
     "text": [
      "WARNING:absl:`lr` is deprecated, please use `learning_rate` instead, or use the legacy optimizer, e.g.,tf.keras.optimizers.legacy.SGD.\n"
     ]
    },
    {
     "name": "stdout",
     "output_type": "stream",
     "text": [
      "Epoch 1/2\n",
      "1/1 [==============================] - 1s 734ms/step - loss: 36.2213 - mae: 36.7211 - lr: 1.0000e-08\n",
      "Epoch 2/2\n",
      "1/1 [==============================] - 1s 736ms/step - loss: 36.2211 - mae: 36.7209 - lr: 1.1220e-08\n",
      "1/1 [==============================] - 0s 23ms/step\n"
     ]
    },
    {
     "name": "stderr",
     "output_type": "stream",
     "text": [
      "WARNING:absl:`lr` is deprecated, please use `learning_rate` instead, or use the legacy optimizer, e.g.,tf.keras.optimizers.legacy.SGD.\n"
     ]
    },
    {
     "name": "stdout",
     "output_type": "stream",
     "text": [
      "Epoch 1/2\n",
      "1/1 [==============================] - 1s 957ms/step - loss: 41.6975 - mae: 42.1974 - lr: 1.0000e-08\n",
      "Epoch 2/2\n",
      "1/1 [==============================] - 1s 1s/step - loss: 41.6968 - mae: 42.1968 - lr: 1.1220e-08\n",
      "1/1 [==============================] - 0s 24ms/step\n"
     ]
    },
    {
     "name": "stderr",
     "output_type": "stream",
     "text": [
      "WARNING:absl:`lr` is deprecated, please use `learning_rate` instead, or use the legacy optimizer, e.g.,tf.keras.optimizers.legacy.SGD.\n"
     ]
    },
    {
     "name": "stdout",
     "output_type": "stream",
     "text": [
      "Epoch 1/2\n",
      "1/1 [==============================] - 0s 307ms/step - loss: 41.5041 - mae: 42.0041 - lr: 1.0000e-08\n",
      "Epoch 2/2\n",
      "1/1 [==============================] - 0s 291ms/step - loss: 41.5039 - mae: 42.0038 - lr: 1.1220e-08\n",
      "1/1 [==============================] - 0s 27ms/step\n"
     ]
    },
    {
     "name": "stderr",
     "output_type": "stream",
     "text": [
      "WARNING:absl:`lr` is deprecated, please use `learning_rate` instead, or use the legacy optimizer, e.g.,tf.keras.optimizers.legacy.SGD.\n"
     ]
    },
    {
     "name": "stdout",
     "output_type": "stream",
     "text": [
      "Epoch 1/2\n",
      "1/1 [==============================] - 0s 444ms/step - loss: 40.9147 - mae: 41.4089 - lr: 1.0000e-08\n",
      "Epoch 2/2\n",
      "1/1 [==============================] - 0s 497ms/step - loss: 40.9142 - mae: 41.4084 - lr: 1.1220e-08\n",
      "1/1 [==============================] - 0s 24ms/step\n"
     ]
    },
    {
     "name": "stderr",
     "output_type": "stream",
     "text": [
      "WARNING:absl:`lr` is deprecated, please use `learning_rate` instead, or use the legacy optimizer, e.g.,tf.keras.optimizers.legacy.SGD.\n"
     ]
    },
    {
     "name": "stdout",
     "output_type": "stream",
     "text": [
      "Epoch 1/2\n",
      "1/1 [==============================] - 1s 597ms/step - loss: 30.5402 - mae: 31.0402 - lr: 1.0000e-08\n",
      "Epoch 2/2\n",
      "1/1 [==============================] - 1s 588ms/step - loss: 30.5400 - mae: 31.0399 - lr: 1.1220e-08\n",
      "1/1 [==============================] - 0s 27ms/step\n"
     ]
    },
    {
     "name": "stderr",
     "output_type": "stream",
     "text": [
      "WARNING:absl:`lr` is deprecated, please use `learning_rate` instead, or use the legacy optimizer, e.g.,tf.keras.optimizers.legacy.SGD.\n"
     ]
    },
    {
     "name": "stdout",
     "output_type": "stream",
     "text": [
      "Epoch 1/2\n",
      "1/1 [==============================] - 1s 730ms/step - loss: 53.5030 - mae: 54.0030 - lr: 1.0000e-08\n",
      "Epoch 2/2\n",
      "1/1 [==============================] - 1s 793ms/step - loss: 53.5023 - mae: 54.0023 - lr: 1.1220e-08\n",
      "1/1 [==============================] - 0s 30ms/step\n"
     ]
    },
    {
     "name": "stderr",
     "output_type": "stream",
     "text": [
      "WARNING:absl:`lr` is deprecated, please use `learning_rate` instead, or use the legacy optimizer, e.g.,tf.keras.optimizers.legacy.SGD.\n"
     ]
    },
    {
     "name": "stdout",
     "output_type": "stream",
     "text": [
      "Epoch 1/2\n",
      "1/1 [==============================] - 1s 978ms/step - loss: 47.8567 - mae: 48.3494 - lr: 1.0000e-08\n",
      "Epoch 2/2\n",
      "1/1 [==============================] - 1s 889ms/step - loss: 47.8561 - mae: 48.3488 - lr: 1.1220e-08\n",
      "1/1 [==============================] - 0s 24ms/step\n"
     ]
    },
    {
     "name": "stderr",
     "output_type": "stream",
     "text": [
      "WARNING:absl:`lr` is deprecated, please use `learning_rate` instead, or use the legacy optimizer, e.g.,tf.keras.optimizers.legacy.SGD.\n"
     ]
    },
    {
     "name": "stdout",
     "output_type": "stream",
     "text": [
      "Epoch 1/2\n",
      "1/1 [==============================] - 0s 400ms/step - loss: 54.5890 - mae: 55.0845 - lr: 1.0000e-08\n",
      "Epoch 2/2\n",
      "1/1 [==============================] - 0s 393ms/step - loss: 54.5887 - mae: 55.0842 - lr: 1.1220e-08\n",
      "1/1 [==============================] - 0s 31ms/step\n"
     ]
    },
    {
     "name": "stderr",
     "output_type": "stream",
     "text": [
      "WARNING:absl:`lr` is deprecated, please use `learning_rate` instead, or use the legacy optimizer, e.g.,tf.keras.optimizers.legacy.SGD.\n"
     ]
    },
    {
     "name": "stdout",
     "output_type": "stream",
     "text": [
      "Epoch 1/2\n",
      "1/1 [==============================] - 0s 433ms/step - loss: 32.6803 - mae: 33.1750 - lr: 1.0000e-08\n",
      "Epoch 2/2\n",
      "1/1 [==============================] - 0s 417ms/step - loss: 32.6801 - mae: 33.1747 - lr: 1.1220e-08\n",
      "1/1 [==============================] - 0s 26ms/step\n"
     ]
    },
    {
     "name": "stderr",
     "output_type": "stream",
     "text": [
      "WARNING:absl:`lr` is deprecated, please use `learning_rate` instead, or use the legacy optimizer, e.g.,tf.keras.optimizers.legacy.SGD.\n"
     ]
    },
    {
     "name": "stdout",
     "output_type": "stream",
     "text": [
      "Epoch 1/2\n",
      "1/1 [==============================] - 1s 569ms/step - loss: 64.5322 - mae: 65.0322 - lr: 1.0000e-08\n",
      "Epoch 2/2\n",
      "1/1 [==============================] - 1s 560ms/step - loss: 64.5317 - mae: 65.0317 - lr: 1.1220e-08\n",
      "1/1 [==============================] - 0s 29ms/step\n"
     ]
    },
    {
     "name": "stderr",
     "output_type": "stream",
     "text": [
      "WARNING:absl:`lr` is deprecated, please use `learning_rate` instead, or use the legacy optimizer, e.g.,tf.keras.optimizers.legacy.SGD.\n"
     ]
    },
    {
     "name": "stdout",
     "output_type": "stream",
     "text": [
      "Epoch 1/2\n",
      "1/1 [==============================] - 1s 777ms/step - loss: 47.7294 - mae: 48.2294 - lr: 1.0000e-08\n",
      "Epoch 2/2\n",
      "1/1 [==============================] - 1s 809ms/step - loss: 47.7289 - mae: 48.2289 - lr: 1.1220e-08\n",
      "1/1 [==============================] - 0s 34ms/step\n"
     ]
    },
    {
     "name": "stderr",
     "output_type": "stream",
     "text": [
      "WARNING:absl:`lr` is deprecated, please use `learning_rate` instead, or use the legacy optimizer, e.g.,tf.keras.optimizers.legacy.SGD.\n"
     ]
    },
    {
     "name": "stdout",
     "output_type": "stream",
     "text": [
      "Epoch 1/2\n",
      "1/1 [==============================] - 1s 1s/step - loss: 26.8801 - mae: 27.3785 - lr: 1.0000e-08\n",
      "Epoch 2/2\n",
      "1/1 [==============================] - 1s 1s/step - loss: 26.8798 - mae: 27.3782 - lr: 1.1220e-08\n",
      "1/1 [==============================] - 0s 25ms/step\n"
     ]
    },
    {
     "name": "stderr",
     "output_type": "stream",
     "text": [
      "WARNING:absl:`lr` is deprecated, please use `learning_rate` instead, or use the legacy optimizer, e.g.,tf.keras.optimizers.legacy.SGD.\n"
     ]
    },
    {
     "name": "stdout",
     "output_type": "stream",
     "text": [
      "Epoch 1/2\n",
      "1/1 [==============================] - 0s 340ms/step - loss: 25.7201 - mae: 26.2161 - lr: 1.0000e-08\n",
      "Epoch 2/2\n",
      "1/1 [==============================] - 0s 286ms/step - loss: 25.7199 - mae: 26.2160 - lr: 1.1220e-08\n",
      "1/1 [==============================] - 0s 27ms/step\n"
     ]
    },
    {
     "name": "stderr",
     "output_type": "stream",
     "text": [
      "WARNING:absl:`lr` is deprecated, please use `learning_rate` instead, or use the legacy optimizer, e.g.,tf.keras.optimizers.legacy.SGD.\n"
     ]
    },
    {
     "name": "stdout",
     "output_type": "stream",
     "text": [
      "Epoch 1/2\n",
      "1/1 [==============================] - 0s 447ms/step - loss: 23.1977 - mae: 23.6918 - lr: 1.0000e-08\n",
      "Epoch 2/2\n",
      "1/1 [==============================] - 0s 432ms/step - loss: 23.1975 - mae: 23.6916 - lr: 1.1220e-08\n",
      "1/1 [==============================] - 0s 28ms/step\n"
     ]
    },
    {
     "name": "stderr",
     "output_type": "stream",
     "text": [
      "WARNING:absl:`lr` is deprecated, please use `learning_rate` instead, or use the legacy optimizer, e.g.,tf.keras.optimizers.legacy.SGD.\n"
     ]
    },
    {
     "name": "stdout",
     "output_type": "stream",
     "text": [
      "Epoch 1/2\n",
      "1/1 [==============================] - 1s 573ms/step - loss: 19.6303 - mae: 20.1108 - lr: 1.0000e-08\n",
      "Epoch 2/2\n",
      "1/1 [==============================] - 1s 554ms/step - loss: 19.6302 - mae: 20.1106 - lr: 1.1220e-08\n",
      "1/1 [==============================] - 0s 26ms/step\n"
     ]
    },
    {
     "name": "stderr",
     "output_type": "stream",
     "text": [
      "WARNING:absl:`lr` is deprecated, please use `learning_rate` instead, or use the legacy optimizer, e.g.,tf.keras.optimizers.legacy.SGD.\n"
     ]
    },
    {
     "name": "stdout",
     "output_type": "stream",
     "text": [
      "Epoch 1/2\n",
      "1/1 [==============================] - 1s 793ms/step - loss: 64.1859 - mae: 64.6859 - lr: 1.0000e-08\n",
      "Epoch 2/2\n",
      "1/1 [==============================] - 1s 744ms/step - loss: 64.1851 - mae: 64.6851 - lr: 1.1220e-08\n",
      "1/1 [==============================] - 0s 23ms/step\n"
     ]
    },
    {
     "name": "stderr",
     "output_type": "stream",
     "text": [
      "WARNING:absl:`lr` is deprecated, please use `learning_rate` instead, or use the legacy optimizer, e.g.,tf.keras.optimizers.legacy.SGD.\n"
     ]
    },
    {
     "name": "stdout",
     "output_type": "stream",
     "text": [
      "Epoch 1/2\n",
      "1/1 [==============================] - 1s 990ms/step - loss: 27.9494 - mae: 28.4403 - lr: 1.0000e-08\n",
      "Epoch 2/2\n",
      "1/1 [==============================] - 1s 970ms/step - loss: 27.9492 - mae: 28.4401 - lr: 1.1220e-08\n",
      "1/1 [==============================] - 0s 30ms/step\n"
     ]
    },
    {
     "name": "stderr",
     "output_type": "stream",
     "text": [
      "WARNING:absl:`lr` is deprecated, please use `learning_rate` instead, or use the legacy optimizer, e.g.,tf.keras.optimizers.legacy.SGD.\n"
     ]
    },
    {
     "name": "stdout",
     "output_type": "stream",
     "text": [
      "Epoch 1/2\n",
      "1/1 [==============================] - 0s 374ms/step - loss: 47.2876 - mae: 47.7876 - lr: 1.0000e-08\n",
      "Epoch 2/2\n",
      "1/1 [==============================] - 0s 364ms/step - loss: 47.2871 - mae: 47.7871 - lr: 1.1220e-08\n",
      "1/1 [==============================] - 0s 26ms/step\n"
     ]
    },
    {
     "name": "stderr",
     "output_type": "stream",
     "text": [
      "WARNING:absl:`lr` is deprecated, please use `learning_rate` instead, or use the legacy optimizer, e.g.,tf.keras.optimizers.legacy.SGD.\n"
     ]
    },
    {
     "name": "stdout",
     "output_type": "stream",
     "text": [
      "Epoch 1/2\n",
      "1/1 [==============================] - 0s 457ms/step - loss: 28.8082 - mae: 29.3082 - lr: 1.0000e-08\n",
      "Epoch 2/2\n",
      "1/1 [==============================] - 0s 421ms/step - loss: 28.8079 - mae: 29.3079 - lr: 1.1220e-08\n",
      "1/1 [==============================] - 0s 29ms/step\n"
     ]
    },
    {
     "name": "stderr",
     "output_type": "stream",
     "text": [
      "WARNING:absl:`lr` is deprecated, please use `learning_rate` instead, or use the legacy optimizer, e.g.,tf.keras.optimizers.legacy.SGD.\n"
     ]
    },
    {
     "name": "stdout",
     "output_type": "stream",
     "text": [
      "Epoch 1/2\n",
      "1/1 [==============================] - 1s 601ms/step - loss: 48.0775 - mae: 48.5695 - lr: 1.0000e-08\n",
      "Epoch 2/2\n",
      "1/1 [==============================] - 1s 570ms/step - loss: 48.0773 - mae: 48.5693 - lr: 1.1220e-08\n",
      "1/1 [==============================] - 0s 29ms/step\n"
     ]
    },
    {
     "name": "stderr",
     "output_type": "stream",
     "text": [
      "WARNING:absl:`lr` is deprecated, please use `learning_rate` instead, or use the legacy optimizer, e.g.,tf.keras.optimizers.legacy.SGD.\n"
     ]
    },
    {
     "name": "stdout",
     "output_type": "stream",
     "text": [
      "Epoch 1/2\n",
      "1/1 [==============================] - 1s 770ms/step - loss: 37.5649 - mae: 38.0552 - lr: 1.0000e-08\n",
      "Epoch 2/2\n",
      "1/1 [==============================] - 1s 741ms/step - loss: 37.5647 - mae: 38.0549 - lr: 1.1220e-08\n",
      "1/1 [==============================] - 0s 27ms/step\n"
     ]
    },
    {
     "name": "stderr",
     "output_type": "stream",
     "text": [
      "WARNING:absl:`lr` is deprecated, please use `learning_rate` instead, or use the legacy optimizer, e.g.,tf.keras.optimizers.legacy.SGD.\n"
     ]
    },
    {
     "name": "stdout",
     "output_type": "stream",
     "text": [
      "Epoch 1/2\n",
      "1/1 [==============================] - 1s 1s/step - loss: 31.4032 - mae: 31.8993 - lr: 1.0000e-08\n",
      "Epoch 2/2\n",
      "1/1 [==============================] - 1s 1s/step - loss: 31.4029 - mae: 31.8990 - lr: 1.1220e-08\n",
      "1/1 [==============================] - 0s 27ms/step\n"
     ]
    },
    {
     "name": "stderr",
     "output_type": "stream",
     "text": [
      "WARNING:absl:`lr` is deprecated, please use `learning_rate` instead, or use the legacy optimizer, e.g.,tf.keras.optimizers.legacy.SGD.\n"
     ]
    },
    {
     "name": "stdout",
     "output_type": "stream",
     "text": [
      "Epoch 1/2\n",
      "1/1 [==============================] - 0s 332ms/step - loss: 33.6846 - mae: 34.1818 - lr: 1.0000e-08\n",
      "Epoch 2/2\n",
      "1/1 [==============================] - 0s 446ms/step - loss: 33.6844 - mae: 34.1816 - lr: 1.1220e-08\n",
      "1/1 [==============================] - 0s 25ms/step\n"
     ]
    },
    {
     "name": "stderr",
     "output_type": "stream",
     "text": [
      "WARNING:absl:`lr` is deprecated, please use `learning_rate` instead, or use the legacy optimizer, e.g.,tf.keras.optimizers.legacy.SGD.\n"
     ]
    },
    {
     "name": "stdout",
     "output_type": "stream",
     "text": [
      "Epoch 1/2\n",
      "1/1 [==============================] - 0s 474ms/step - loss: 29.5127 - mae: 29.9977 - lr: 1.0000e-08\n",
      "Epoch 2/2\n",
      "1/1 [==============================] - 0s 479ms/step - loss: 29.5125 - mae: 29.9975 - lr: 1.1220e-08\n",
      "1/1 [==============================] - 0s 28ms/step\n"
     ]
    },
    {
     "name": "stderr",
     "output_type": "stream",
     "text": [
      "WARNING:absl:`lr` is deprecated, please use `learning_rate` instead, or use the legacy optimizer, e.g.,tf.keras.optimizers.legacy.SGD.\n"
     ]
    },
    {
     "name": "stdout",
     "output_type": "stream",
     "text": [
      "Epoch 1/2\n",
      "1/1 [==============================] - 1s 653ms/step - loss: 61.9285 - mae: 62.4271 - lr: 1.0000e-08\n",
      "Epoch 2/2\n",
      "1/1 [==============================] - 1s 623ms/step - loss: 61.9282 - mae: 62.4268 - lr: 1.1220e-08\n",
      "1/1 [==============================] - 0s 29ms/step\n"
     ]
    },
    {
     "name": "stderr",
     "output_type": "stream",
     "text": [
      "WARNING:absl:`lr` is deprecated, please use `learning_rate` instead, or use the legacy optimizer, e.g.,tf.keras.optimizers.legacy.SGD.\n"
     ]
    },
    {
     "name": "stdout",
     "output_type": "stream",
     "text": [
      "Epoch 1/2\n",
      "1/1 [==============================] - 1s 830ms/step - loss: 30.2014 - mae: 30.7008 - lr: 1.0000e-08\n",
      "Epoch 2/2\n",
      "1/1 [==============================] - 1s 821ms/step - loss: 30.2012 - mae: 30.7005 - lr: 1.1220e-08\n",
      "1/1 [==============================] - 0s 24ms/step\n"
     ]
    },
    {
     "name": "stderr",
     "output_type": "stream",
     "text": [
      "WARNING:absl:`lr` is deprecated, please use `learning_rate` instead, or use the legacy optimizer, e.g.,tf.keras.optimizers.legacy.SGD.\n"
     ]
    },
    {
     "name": "stdout",
     "output_type": "stream",
     "text": [
      "Epoch 1/2\n",
      "1/1 [==============================] - 1s 1s/step - loss: 43.4010 - mae: 43.9010 - lr: 1.0000e-08\n",
      "Epoch 2/2\n",
      "1/1 [==============================] - 1s 1s/step - loss: 43.4007 - mae: 43.9007 - lr: 1.1220e-08\n",
      "1/1 [==============================] - 0s 23ms/step\n"
     ]
    },
    {
     "name": "stderr",
     "output_type": "stream",
     "text": [
      "WARNING:absl:`lr` is deprecated, please use `learning_rate` instead, or use the legacy optimizer, e.g.,tf.keras.optimizers.legacy.SGD.\n"
     ]
    },
    {
     "name": "stdout",
     "output_type": "stream",
     "text": [
      "Epoch 1/2\n",
      "1/1 [==============================] - 0s 341ms/step - loss: 40.1740 - mae: 40.6667 - lr: 1.0000e-08\n",
      "Epoch 2/2\n",
      "1/1 [==============================] - 0s 333ms/step - loss: 40.1737 - mae: 40.6664 - lr: 1.1220e-08\n",
      "1/1 [==============================] - 0s 26ms/step\n"
     ]
    },
    {
     "name": "stderr",
     "output_type": "stream",
     "text": [
      "WARNING:absl:`lr` is deprecated, please use `learning_rate` instead, or use the legacy optimizer, e.g.,tf.keras.optimizers.legacy.SGD.\n"
     ]
    },
    {
     "name": "stdout",
     "output_type": "stream",
     "text": [
      "Epoch 1/2\n",
      "1/1 [==============================] - 0s 488ms/step - loss: 31.8065 - mae: 32.3026 - lr: 1.0000e-08\n",
      "Epoch 2/2\n",
      "1/1 [==============================] - 0s 440ms/step - loss: 31.8059 - mae: 32.3020 - lr: 1.1220e-08\n",
      "1/1 [==============================] - 0s 26ms/step\n"
     ]
    },
    {
     "name": "stderr",
     "output_type": "stream",
     "text": [
      "WARNING:absl:`lr` is deprecated, please use `learning_rate` instead, or use the legacy optimizer, e.g.,tf.keras.optimizers.legacy.SGD.\n"
     ]
    },
    {
     "name": "stdout",
     "output_type": "stream",
     "text": [
      "Epoch 1/2\n",
      "1/1 [==============================] - 1s 614ms/step - loss: 27.9330 - mae: 28.4195 - lr: 1.0000e-08\n",
      "Epoch 2/2\n",
      "1/1 [==============================] - 1s 714ms/step - loss: 27.9328 - mae: 28.4192 - lr: 1.1220e-08\n",
      "1/1 [==============================] - 0s 29ms/step\n"
     ]
    },
    {
     "name": "stderr",
     "output_type": "stream",
     "text": [
      "WARNING:absl:`lr` is deprecated, please use `learning_rate` instead, or use the legacy optimizer, e.g.,tf.keras.optimizers.legacy.SGD.\n"
     ]
    },
    {
     "name": "stdout",
     "output_type": "stream",
     "text": [
      "Epoch 1/2\n",
      "1/1 [==============================] - 1s 824ms/step - loss: 23.2625 - mae: 23.7578 - lr: 1.0000e-08\n",
      "Epoch 2/2\n",
      "1/1 [==============================] - 1s 750ms/step - loss: 23.2624 - mae: 23.7577 - lr: 1.1220e-08\n",
      "1/1 [==============================] - 0s 28ms/step\n"
     ]
    },
    {
     "name": "stderr",
     "output_type": "stream",
     "text": [
      "WARNING:absl:`lr` is deprecated, please use `learning_rate` instead, or use the legacy optimizer, e.g.,tf.keras.optimizers.legacy.SGD.\n"
     ]
    },
    {
     "name": "stdout",
     "output_type": "stream",
     "text": [
      "Epoch 1/2\n",
      "1/1 [==============================] - 1s 977ms/step - loss: 27.5662 - mae: 28.0614 - lr: 1.0000e-08\n",
      "Epoch 2/2\n",
      "1/1 [==============================] - 1s 947ms/step - loss: 27.5660 - mae: 28.0612 - lr: 1.1220e-08\n",
      "1/1 [==============================] - 0s 23ms/step\n"
     ]
    },
    {
     "name": "stderr",
     "output_type": "stream",
     "text": [
      "WARNING:absl:`lr` is deprecated, please use `learning_rate` instead, or use the legacy optimizer, e.g.,tf.keras.optimizers.legacy.SGD.\n"
     ]
    },
    {
     "name": "stdout",
     "output_type": "stream",
     "text": [
      "Epoch 1/2\n",
      "1/1 [==============================] - 0s 341ms/step - loss: 43.0363 - mae: 43.5362 - lr: 1.0000e-08\n",
      "Epoch 2/2\n",
      "1/1 [==============================] - 0s 310ms/step - loss: 43.0361 - mae: 43.5360 - lr: 1.1220e-08\n",
      "1/1 [==============================] - 0s 24ms/step\n"
     ]
    },
    {
     "name": "stderr",
     "output_type": "stream",
     "text": [
      "WARNING:absl:`lr` is deprecated, please use `learning_rate` instead, or use the legacy optimizer, e.g.,tf.keras.optimizers.legacy.SGD.\n"
     ]
    },
    {
     "name": "stdout",
     "output_type": "stream",
     "text": [
      "Epoch 1/2\n",
      "1/1 [==============================] - 0s 439ms/step - loss: 54.6620 - mae: 55.1620 - lr: 1.0000e-08\n",
      "Epoch 2/2\n",
      "1/1 [==============================] - 0s 463ms/step - loss: 54.6618 - mae: 55.1618 - lr: 1.1220e-08\n",
      "1/1 [==============================] - 0s 26ms/step\n"
     ]
    },
    {
     "name": "stderr",
     "output_type": "stream",
     "text": [
      "WARNING:absl:`lr` is deprecated, please use `learning_rate` instead, or use the legacy optimizer, e.g.,tf.keras.optimizers.legacy.SGD.\n"
     ]
    },
    {
     "name": "stdout",
     "output_type": "stream",
     "text": [
      "Epoch 1/2\n",
      "1/1 [==============================] - 1s 613ms/step - loss: 51.7099 - mae: 52.2099 - lr: 1.0000e-08\n",
      "Epoch 2/2\n",
      "1/1 [==============================] - 1s 639ms/step - loss: 51.7095 - mae: 52.2095 - lr: 1.1220e-08\n",
      "1/1 [==============================] - 0s 29ms/step\n"
     ]
    },
    {
     "name": "stderr",
     "output_type": "stream",
     "text": [
      "WARNING:absl:`lr` is deprecated, please use `learning_rate` instead, or use the legacy optimizer, e.g.,tf.keras.optimizers.legacy.SGD.\n"
     ]
    },
    {
     "name": "stdout",
     "output_type": "stream",
     "text": [
      "Epoch 1/2\n",
      "1/1 [==============================] - 1s 839ms/step - loss: 40.0991 - mae: 40.5991 - lr: 1.0000e-08\n",
      "Epoch 2/2\n",
      "1/1 [==============================] - 1s 764ms/step - loss: 40.0989 - mae: 40.5989 - lr: 1.1220e-08\n",
      "1/1 [==============================] - 0s 24ms/step\n"
     ]
    },
    {
     "name": "stderr",
     "output_type": "stream",
     "text": [
      "WARNING:absl:`lr` is deprecated, please use `learning_rate` instead, or use the legacy optimizer, e.g.,tf.keras.optimizers.legacy.SGD.\n"
     ]
    },
    {
     "name": "stdout",
     "output_type": "stream",
     "text": [
      "Epoch 1/2\n",
      "1/1 [==============================] - 1s 978ms/step - loss: 42.4227 - mae: 42.9186 - lr: 1.0000e-08\n",
      "Epoch 2/2\n",
      "1/1 [==============================] - 1s 981ms/step - loss: 42.4223 - mae: 42.9182 - lr: 1.1220e-08\n",
      "1/1 [==============================] - 0s 24ms/step\n"
     ]
    },
    {
     "name": "stderr",
     "output_type": "stream",
     "text": [
      "WARNING:absl:`lr` is deprecated, please use `learning_rate` instead, or use the legacy optimizer, e.g.,tf.keras.optimizers.legacy.SGD.\n"
     ]
    },
    {
     "name": "stdout",
     "output_type": "stream",
     "text": [
      "Epoch 1/2\n",
      "1/1 [==============================] - 0s 306ms/step - loss: 36.8993 - mae: 37.3993 - lr: 1.0000e-08\n",
      "Epoch 2/2\n",
      "1/1 [==============================] - 0s 294ms/step - loss: 36.8989 - mae: 37.3989 - lr: 1.1220e-08\n",
      "1/1 [==============================] - 0s 24ms/step\n"
     ]
    },
    {
     "name": "stderr",
     "output_type": "stream",
     "text": [
      "WARNING:absl:`lr` is deprecated, please use `learning_rate` instead, or use the legacy optimizer, e.g.,tf.keras.optimizers.legacy.SGD.\n"
     ]
    },
    {
     "name": "stdout",
     "output_type": "stream",
     "text": [
      "Epoch 1/2\n",
      "1/1 [==============================] - 0s 494ms/step - loss: 33.9599 - mae: 34.4599 - lr: 1.0000e-08\n",
      "Epoch 2/2\n",
      "1/1 [==============================] - 0s 400ms/step - loss: 33.9597 - mae: 34.4597 - lr: 1.1220e-08\n",
      "1/1 [==============================] - 0s 26ms/step\n"
     ]
    },
    {
     "name": "stderr",
     "output_type": "stream",
     "text": [
      "WARNING:absl:`lr` is deprecated, please use `learning_rate` instead, or use the legacy optimizer, e.g.,tf.keras.optimizers.legacy.SGD.\n"
     ]
    },
    {
     "name": "stdout",
     "output_type": "stream",
     "text": [
      "Epoch 1/2\n",
      "1/1 [==============================] - 1s 567ms/step - loss: 26.4548 - mae: 26.9470 - lr: 1.0000e-08\n",
      "Epoch 2/2\n",
      "1/1 [==============================] - 1s 614ms/step - loss: 26.4546 - mae: 26.9467 - lr: 1.1220e-08\n",
      "1/1 [==============================] - 0s 28ms/step\n"
     ]
    },
    {
     "name": "stderr",
     "output_type": "stream",
     "text": [
      "WARNING:absl:`lr` is deprecated, please use `learning_rate` instead, or use the legacy optimizer, e.g.,tf.keras.optimizers.legacy.SGD.\n"
     ]
    },
    {
     "name": "stdout",
     "output_type": "stream",
     "text": [
      "Epoch 1/2\n",
      "1/1 [==============================] - 1s 747ms/step - loss: 39.1230 - mae: 39.6198 - lr: 1.0000e-08\n",
      "Epoch 2/2\n",
      "1/1 [==============================] - 1s 730ms/step - loss: 39.1226 - mae: 39.6195 - lr: 1.1220e-08\n",
      "1/1 [==============================] - 0s 22ms/step\n"
     ]
    },
    {
     "name": "stderr",
     "output_type": "stream",
     "text": [
      "WARNING:absl:`lr` is deprecated, please use `learning_rate` instead, or use the legacy optimizer, e.g.,tf.keras.optimizers.legacy.SGD.\n"
     ]
    },
    {
     "name": "stdout",
     "output_type": "stream",
     "text": [
      "Epoch 1/2\n",
      "1/1 [==============================] - 1s 955ms/step - loss: 21.6413 - mae: 22.1275 - lr: 1.0000e-08\n",
      "Epoch 2/2\n",
      "1/1 [==============================] - 1s 937ms/step - loss: 21.6409 - mae: 22.1272 - lr: 1.1220e-08\n",
      "1/1 [==============================] - 0s 24ms/step\n"
     ]
    },
    {
     "name": "stderr",
     "output_type": "stream",
     "text": [
      "WARNING:absl:`lr` is deprecated, please use `learning_rate` instead, or use the legacy optimizer, e.g.,tf.keras.optimizers.legacy.SGD.\n"
     ]
    },
    {
     "name": "stdout",
     "output_type": "stream",
     "text": [
      "Epoch 1/2\n",
      "1/1 [==============================] - 0s 297ms/step - loss: 34.6836 - mae: 35.1798 - lr: 1.0000e-08\n",
      "Epoch 2/2\n",
      "1/1 [==============================] - 0s 296ms/step - loss: 34.6832 - mae: 35.1793 - lr: 1.1220e-08\n",
      "1/1 [==============================] - 0s 25ms/step\n"
     ]
    },
    {
     "name": "stderr",
     "output_type": "stream",
     "text": [
      "WARNING:absl:`lr` is deprecated, please use `learning_rate` instead, or use the legacy optimizer, e.g.,tf.keras.optimizers.legacy.SGD.\n"
     ]
    },
    {
     "name": "stdout",
     "output_type": "stream",
     "text": [
      "Epoch 1/2\n",
      "1/1 [==============================] - 0s 412ms/step - loss: 50.0219 - mae: 50.5219 - lr: 1.0000e-08\n",
      "Epoch 2/2\n",
      "1/1 [==============================] - 0s 403ms/step - loss: 50.0214 - mae: 50.5214 - lr: 1.1220e-08\n",
      "1/1 [==============================] - 0s 26ms/step\n"
     ]
    },
    {
     "name": "stderr",
     "output_type": "stream",
     "text": [
      "WARNING:absl:`lr` is deprecated, please use `learning_rate` instead, or use the legacy optimizer, e.g.,tf.keras.optimizers.legacy.SGD.\n"
     ]
    },
    {
     "name": "stdout",
     "output_type": "stream",
     "text": [
      "Epoch 1/2\n",
      "1/1 [==============================] - 1s 572ms/step - loss: 33.0755 - mae: 33.5755 - lr: 1.0000e-08\n",
      "Epoch 2/2\n",
      "1/1 [==============================] - 1s 546ms/step - loss: 33.0753 - mae: 33.5753 - lr: 1.1220e-08\n",
      "1/1 [==============================] - 0s 25ms/step\n"
     ]
    },
    {
     "name": "stderr",
     "output_type": "stream",
     "text": [
      "WARNING:absl:`lr` is deprecated, please use `learning_rate` instead, or use the legacy optimizer, e.g.,tf.keras.optimizers.legacy.SGD.\n"
     ]
    },
    {
     "name": "stdout",
     "output_type": "stream",
     "text": [
      "Epoch 1/2\n",
      "1/1 [==============================] - 1s 737ms/step - loss: 33.5626 - mae: 34.0544 - lr: 1.0000e-08\n",
      "Epoch 2/2\n",
      "1/1 [==============================] - 1s 740ms/step - loss: 33.5624 - mae: 34.0542 - lr: 1.1220e-08\n",
      "1/1 [==============================] - 0s 24ms/step\n"
     ]
    },
    {
     "name": "stderr",
     "output_type": "stream",
     "text": [
      "WARNING:absl:`lr` is deprecated, please use `learning_rate` instead, or use the legacy optimizer, e.g.,tf.keras.optimizers.legacy.SGD.\n"
     ]
    },
    {
     "name": "stdout",
     "output_type": "stream",
     "text": [
      "Epoch 1/2\n",
      "1/1 [==============================] - 1s 983ms/step - loss: 43.4407 - mae: 43.9355 - lr: 1.0000e-08\n",
      "Epoch 2/2\n",
      "1/1 [==============================] - 1s 920ms/step - loss: 43.4402 - mae: 43.9351 - lr: 1.1220e-08\n",
      "1/1 [==============================] - 0s 22ms/step\n"
     ]
    },
    {
     "name": "stderr",
     "output_type": "stream",
     "text": [
      "WARNING:absl:`lr` is deprecated, please use `learning_rate` instead, or use the legacy optimizer, e.g.,tf.keras.optimizers.legacy.SGD.\n"
     ]
    },
    {
     "name": "stdout",
     "output_type": "stream",
     "text": [
      "Epoch 1/2\n",
      "1/1 [==============================] - 0s 294ms/step - loss: 36.8965 - mae: 37.3885 - lr: 1.0000e-08\n",
      "Epoch 2/2\n",
      "1/1 [==============================] - 0s 290ms/step - loss: 36.8963 - mae: 37.3883 - lr: 1.1220e-08\n",
      "1/1 [==============================] - 0s 25ms/step\n"
     ]
    },
    {
     "name": "stderr",
     "output_type": "stream",
     "text": [
      "WARNING:absl:`lr` is deprecated, please use `learning_rate` instead, or use the legacy optimizer, e.g.,tf.keras.optimizers.legacy.SGD.\n"
     ]
    },
    {
     "name": "stdout",
     "output_type": "stream",
     "text": [
      "Epoch 1/2\n",
      "1/1 [==============================] - 0s 426ms/step - loss: 43.1440 - mae: 43.6439 - lr: 1.0000e-08\n",
      "Epoch 2/2\n",
      "1/1 [==============================] - 0s 399ms/step - loss: 43.1438 - mae: 43.6437 - lr: 1.1220e-08\n",
      "1/1 [==============================] - 0s 28ms/step\n"
     ]
    },
    {
     "name": "stderr",
     "output_type": "stream",
     "text": [
      "WARNING:absl:`lr` is deprecated, please use `learning_rate` instead, or use the legacy optimizer, e.g.,tf.keras.optimizers.legacy.SGD.\n"
     ]
    },
    {
     "name": "stdout",
     "output_type": "stream",
     "text": [
      "Epoch 1/2\n",
      "1/1 [==============================] - 1s 571ms/step - loss: 30.0657 - mae: 30.5657 - lr: 1.0000e-08\n",
      "Epoch 2/2\n",
      "1/1 [==============================] - 1s 546ms/step - loss: 30.0655 - mae: 30.5655 - lr: 1.1220e-08\n",
      "1/1 [==============================] - 0s 25ms/step\n"
     ]
    },
    {
     "name": "stderr",
     "output_type": "stream",
     "text": [
      "WARNING:absl:`lr` is deprecated, please use `learning_rate` instead, or use the legacy optimizer, e.g.,tf.keras.optimizers.legacy.SGD.\n"
     ]
    },
    {
     "name": "stdout",
     "output_type": "stream",
     "text": [
      "Epoch 1/2\n",
      "1/1 [==============================] - 1s 751ms/step - loss: 49.6920 - mae: 50.1872 - lr: 1.0000e-08\n",
      "Epoch 2/2\n",
      "1/1 [==============================] - 1s 735ms/step - loss: 49.6913 - mae: 50.1865 - lr: 1.1220e-08\n",
      "1/1 [==============================] - 0s 24ms/step\n"
     ]
    },
    {
     "name": "stderr",
     "output_type": "stream",
     "text": [
      "WARNING:absl:`lr` is deprecated, please use `learning_rate` instead, or use the legacy optimizer, e.g.,tf.keras.optimizers.legacy.SGD.\n"
     ]
    },
    {
     "name": "stdout",
     "output_type": "stream",
     "text": [
      "Epoch 1/2\n",
      "1/1 [==============================] - 1s 951ms/step - loss: 31.7490 - mae: 32.2456 - lr: 1.0000e-08\n",
      "Epoch 2/2\n",
      "1/1 [==============================] - 1s 934ms/step - loss: 31.7489 - mae: 32.2455 - lr: 1.1220e-08\n",
      "1/1 [==============================] - 0s 24ms/step\n"
     ]
    },
    {
     "name": "stderr",
     "output_type": "stream",
     "text": [
      "WARNING:absl:`lr` is deprecated, please use `learning_rate` instead, or use the legacy optimizer, e.g.,tf.keras.optimizers.legacy.SGD.\n"
     ]
    },
    {
     "name": "stdout",
     "output_type": "stream",
     "text": [
      "Epoch 1/2\n",
      "1/1 [==============================] - 0s 293ms/step - loss: 53.9428 - mae: 54.4428 - lr: 1.0000e-08\n",
      "Epoch 2/2\n",
      "1/1 [==============================] - 0s 289ms/step - loss: 53.9421 - mae: 54.4421 - lr: 1.1220e-08\n",
      "1/1 [==============================] - 0s 25ms/step\n"
     ]
    },
    {
     "name": "stderr",
     "output_type": "stream",
     "text": [
      "WARNING:absl:`lr` is deprecated, please use `learning_rate` instead, or use the legacy optimizer, e.g.,tf.keras.optimizers.legacy.SGD.\n"
     ]
    },
    {
     "name": "stdout",
     "output_type": "stream",
     "text": [
      "Epoch 1/2\n",
      "1/1 [==============================] - 0s 411ms/step - loss: 20.4435 - mae: 20.9326 - lr: 1.0000e-08\n",
      "Epoch 2/2\n",
      "1/1 [==============================] - 0s 416ms/step - loss: 20.4433 - mae: 20.9325 - lr: 1.1220e-08\n",
      "1/1 [==============================] - 0s 28ms/step\n"
     ]
    },
    {
     "name": "stderr",
     "output_type": "stream",
     "text": [
      "WARNING:absl:`lr` is deprecated, please use `learning_rate` instead, or use the legacy optimizer, e.g.,tf.keras.optimizers.legacy.SGD.\n"
     ]
    },
    {
     "name": "stdout",
     "output_type": "stream",
     "text": [
      "Epoch 1/2\n",
      "1/1 [==============================] - 1s 567ms/step - loss: 50.1208 - mae: 50.6208 - lr: 1.0000e-08\n",
      "Epoch 2/2\n",
      "1/1 [==============================] - 1s 558ms/step - loss: 50.1206 - mae: 50.6206 - lr: 1.1220e-08\n",
      "1/1 [==============================] - 0s 24ms/step\n"
     ]
    },
    {
     "name": "stderr",
     "output_type": "stream",
     "text": [
      "WARNING:absl:`lr` is deprecated, please use `learning_rate` instead, or use the legacy optimizer, e.g.,tf.keras.optimizers.legacy.SGD.\n"
     ]
    },
    {
     "name": "stdout",
     "output_type": "stream",
     "text": [
      "Epoch 1/2\n",
      "1/1 [==============================] - 1s 739ms/step - loss: 45.8853 - mae: 46.3853 - lr: 1.0000e-08\n",
      "Epoch 2/2\n",
      "1/1 [==============================] - 1s 725ms/step - loss: 45.8848 - mae: 46.3848 - lr: 1.1220e-08\n",
      "1/1 [==============================] - 0s 23ms/step\n"
     ]
    },
    {
     "name": "stderr",
     "output_type": "stream",
     "text": [
      "WARNING:absl:`lr` is deprecated, please use `learning_rate` instead, or use the legacy optimizer, e.g.,tf.keras.optimizers.legacy.SGD.\n"
     ]
    },
    {
     "name": "stdout",
     "output_type": "stream",
     "text": [
      "Epoch 1/2\n",
      "1/1 [==============================] - 1s 966ms/step - loss: 41.4993 - mae: 41.9993 - lr: 1.0000e-08\n",
      "Epoch 2/2\n",
      "1/1 [==============================] - 1s 931ms/step - loss: 41.4986 - mae: 41.9986 - lr: 1.1220e-08\n",
      "1/1 [==============================] - 0s 22ms/step\n"
     ]
    },
    {
     "name": "stderr",
     "output_type": "stream",
     "text": [
      "WARNING:absl:`lr` is deprecated, please use `learning_rate` instead, or use the legacy optimizer, e.g.,tf.keras.optimizers.legacy.SGD.\n"
     ]
    },
    {
     "name": "stdout",
     "output_type": "stream",
     "text": [
      "Epoch 1/2\n",
      "1/1 [==============================] - 0s 299ms/step - loss: 55.2240 - mae: 55.7240 - lr: 1.0000e-08\n",
      "Epoch 2/2\n",
      "1/1 [==============================] - 0s 272ms/step - loss: 55.2233 - mae: 55.7233 - lr: 1.1220e-08\n",
      "1/1 [==============================] - 0s 25ms/step\n"
     ]
    },
    {
     "name": "stderr",
     "output_type": "stream",
     "text": [
      "WARNING:absl:`lr` is deprecated, please use `learning_rate` instead, or use the legacy optimizer, e.g.,tf.keras.optimizers.legacy.SGD.\n"
     ]
    },
    {
     "name": "stdout",
     "output_type": "stream",
     "text": [
      "Epoch 1/2\n",
      "1/1 [==============================] - 0s 430ms/step - loss: 20.2480 - mae: 20.7479 - lr: 1.0000e-08\n",
      "Epoch 2/2\n",
      "1/1 [==============================] - 0s 469ms/step - loss: 20.2478 - mae: 20.7477 - lr: 1.1220e-08\n",
      "1/1 [==============================] - 0s 25ms/step\n"
     ]
    },
    {
     "name": "stderr",
     "output_type": "stream",
     "text": [
      "WARNING:absl:`lr` is deprecated, please use `learning_rate` instead, or use the legacy optimizer, e.g.,tf.keras.optimizers.legacy.SGD.\n"
     ]
    },
    {
     "name": "stdout",
     "output_type": "stream",
     "text": [
      "Epoch 1/2\n",
      "1/1 [==============================] - 1s 555ms/step - loss: 32.5429 - mae: 33.0397 - lr: 1.0000e-08\n",
      "Epoch 2/2\n",
      "1/1 [==============================] - 1s 554ms/step - loss: 32.5426 - mae: 33.0394 - lr: 1.1220e-08\n",
      "1/1 [==============================] - 0s 26ms/step\n"
     ]
    },
    {
     "name": "stderr",
     "output_type": "stream",
     "text": [
      "WARNING:absl:`lr` is deprecated, please use `learning_rate` instead, or use the legacy optimizer, e.g.,tf.keras.optimizers.legacy.SGD.\n"
     ]
    },
    {
     "name": "stdout",
     "output_type": "stream",
     "text": [
      "Epoch 1/2\n",
      "1/1 [==============================] - 2s 2s/step - loss: 38.2255 - mae: 38.7209 - lr: 1.0000e-08\n",
      "Epoch 2/2\n",
      "1/1 [==============================] - 1s 786ms/step - loss: 38.2253 - mae: 38.7207 - lr: 1.1220e-08\n",
      "1/1 [==============================] - 0s 40ms/step\n"
     ]
    },
    {
     "name": "stderr",
     "output_type": "stream",
     "text": [
      "WARNING:absl:`lr` is deprecated, please use `learning_rate` instead, or use the legacy optimizer, e.g.,tf.keras.optimizers.legacy.SGD.\n"
     ]
    },
    {
     "name": "stdout",
     "output_type": "stream",
     "text": [
      "Epoch 1/2\n",
      "1/1 [==============================] - 1s 1s/step - loss: 25.6853 - mae: 26.1761 - lr: 1.0000e-08\n",
      "Epoch 2/2\n",
      "1/1 [==============================] - 1s 998ms/step - loss: 25.6852 - mae: 26.1760 - lr: 1.1220e-08\n",
      "1/1 [==============================] - 0s 29ms/step\n"
     ]
    },
    {
     "name": "stderr",
     "output_type": "stream",
     "text": [
      "WARNING:absl:`lr` is deprecated, please use `learning_rate` instead, or use the legacy optimizer, e.g.,tf.keras.optimizers.legacy.SGD.\n"
     ]
    },
    {
     "name": "stdout",
     "output_type": "stream",
     "text": [
      "Epoch 1/2\n",
      "1/1 [==============================] - 0s 325ms/step - loss: 64.2032 - mae: 64.6976 - lr: 1.0000e-08\n",
      "Epoch 2/2\n",
      "1/1 [==============================] - 0s 282ms/step - loss: 64.2030 - mae: 64.6973 - lr: 1.1220e-08\n",
      "1/1 [==============================] - 0s 29ms/step\n"
     ]
    },
    {
     "name": "stderr",
     "output_type": "stream",
     "text": [
      "WARNING:absl:`lr` is deprecated, please use `learning_rate` instead, or use the legacy optimizer, e.g.,tf.keras.optimizers.legacy.SGD.\n"
     ]
    },
    {
     "name": "stdout",
     "output_type": "stream",
     "text": [
      "Epoch 1/2\n",
      "1/1 [==============================] - 0s 463ms/step - loss: 42.8913 - mae: 43.3913 - lr: 1.0000e-08\n",
      "Epoch 2/2\n",
      "1/1 [==============================] - 1s 1s/step - loss: 42.8909 - mae: 43.3909 - lr: 1.1220e-08\n",
      "1/1 [==============================] - 0s 37ms/step\n"
     ]
    },
    {
     "name": "stderr",
     "output_type": "stream",
     "text": [
      "WARNING:absl:`lr` is deprecated, please use `learning_rate` instead, or use the legacy optimizer, e.g.,tf.keras.optimizers.legacy.SGD.\n"
     ]
    },
    {
     "name": "stdout",
     "output_type": "stream",
     "text": [
      "Epoch 1/2\n",
      "1/1 [==============================] - 1s 621ms/step - loss: 22.5618 - mae: 23.0578 - lr: 1.0000e-08\n",
      "Epoch 2/2\n",
      "1/1 [==============================] - 1s 608ms/step - loss: 22.5616 - mae: 23.0576 - lr: 1.1220e-08\n",
      "1/1 [==============================] - 0s 38ms/step\n"
     ]
    },
    {
     "name": "stderr",
     "output_type": "stream",
     "text": [
      "WARNING:absl:`lr` is deprecated, please use `learning_rate` instead, or use the legacy optimizer, e.g.,tf.keras.optimizers.legacy.SGD.\n"
     ]
    },
    {
     "name": "stdout",
     "output_type": "stream",
     "text": [
      "Epoch 1/2\n",
      "1/1 [==============================] - 1s 780ms/step - loss: 34.3688 - mae: 34.8585 - lr: 1.0000e-08\n",
      "Epoch 2/2\n",
      "1/1 [==============================] - 1s 732ms/step - loss: 34.3684 - mae: 34.8581 - lr: 1.1220e-08\n",
      "1/1 [==============================] - 0s 22ms/step\n"
     ]
    },
    {
     "name": "stderr",
     "output_type": "stream",
     "text": [
      "WARNING:absl:`lr` is deprecated, please use `learning_rate` instead, or use the legacy optimizer, e.g.,tf.keras.optimizers.legacy.SGD.\n"
     ]
    },
    {
     "name": "stdout",
     "output_type": "stream",
     "text": [
      "Epoch 1/2\n",
      "1/1 [==============================] - 1s 1s/step - loss: 45.8339 - mae: 46.3334 - lr: 1.0000e-08\n",
      "Epoch 2/2\n",
      "1/1 [==============================] - 1s 1s/step - loss: 45.8335 - mae: 46.3330 - lr: 1.1220e-08\n",
      "1/1 [==============================] - 0s 32ms/step\n"
     ]
    },
    {
     "name": "stderr",
     "output_type": "stream",
     "text": [
      "WARNING:absl:`lr` is deprecated, please use `learning_rate` instead, or use the legacy optimizer, e.g.,tf.keras.optimizers.legacy.SGD.\n"
     ]
    },
    {
     "name": "stdout",
     "output_type": "stream",
     "text": [
      "Epoch 1/2\n",
      "1/1 [==============================] - 0s 325ms/step - loss: 26.0646 - mae: 26.5599 - lr: 1.0000e-08\n",
      "Epoch 2/2\n",
      "1/1 [==============================] - 0s 277ms/step - loss: 26.0644 - mae: 26.5598 - lr: 1.1220e-08\n",
      "1/1 [==============================] - 0s 24ms/step\n"
     ]
    },
    {
     "name": "stderr",
     "output_type": "stream",
     "text": [
      "WARNING:absl:`lr` is deprecated, please use `learning_rate` instead, or use the legacy optimizer, e.g.,tf.keras.optimizers.legacy.SGD.\n"
     ]
    },
    {
     "name": "stdout",
     "output_type": "stream",
     "text": [
      "Epoch 1/2\n",
      "1/1 [==============================] - 0s 402ms/step - loss: 19.7657 - mae: 20.2656 - lr: 1.0000e-08\n",
      "Epoch 2/2\n",
      "1/1 [==============================] - 0s 393ms/step - loss: 19.7655 - mae: 20.2655 - lr: 1.1220e-08\n",
      "1/1 [==============================] - 0s 26ms/step\n"
     ]
    },
    {
     "name": "stderr",
     "output_type": "stream",
     "text": [
      "WARNING:absl:`lr` is deprecated, please use `learning_rate` instead, or use the legacy optimizer, e.g.,tf.keras.optimizers.legacy.SGD.\n"
     ]
    },
    {
     "name": "stdout",
     "output_type": "stream",
     "text": [
      "Epoch 1/2\n",
      "1/1 [==============================] - 1s 538ms/step - loss: 34.1582 - mae: 34.6582 - lr: 1.0000e-08\n",
      "Epoch 2/2\n",
      "1/1 [==============================] - 1s 532ms/step - loss: 34.1580 - mae: 34.6580 - lr: 1.1220e-08\n",
      "1/1 [==============================] - 0s 24ms/step\n"
     ]
    },
    {
     "name": "stderr",
     "output_type": "stream",
     "text": [
      "WARNING:absl:`lr` is deprecated, please use `learning_rate` instead, or use the legacy optimizer, e.g.,tf.keras.optimizers.legacy.SGD.\n"
     ]
    },
    {
     "name": "stdout",
     "output_type": "stream",
     "text": [
      "Epoch 1/2\n",
      "1/1 [==============================] - 1s 780ms/step - loss: 47.1102 - mae: 47.6058 - lr: 1.0000e-08\n",
      "Epoch 2/2\n",
      "1/1 [==============================] - 1s 684ms/step - loss: 47.1093 - mae: 47.6049 - lr: 1.1220e-08\n",
      "1/1 [==============================] - 0s 26ms/step\n"
     ]
    },
    {
     "name": "stderr",
     "output_type": "stream",
     "text": [
      "WARNING:absl:`lr` is deprecated, please use `learning_rate` instead, or use the legacy optimizer, e.g.,tf.keras.optimizers.legacy.SGD.\n"
     ]
    },
    {
     "name": "stdout",
     "output_type": "stream",
     "text": [
      "Epoch 1/2\n",
      "1/1 [==============================] - 1s 963ms/step - loss: 35.1317 - mae: 35.6284 - lr: 1.0000e-08\n",
      "Epoch 2/2\n",
      "1/1 [==============================] - 1s 1s/step - loss: 35.1316 - mae: 35.6282 - lr: 1.1220e-08\n",
      "1/1 [==============================] - 0s 27ms/step\n"
     ]
    },
    {
     "name": "stderr",
     "output_type": "stream",
     "text": [
      "WARNING:absl:`lr` is deprecated, please use `learning_rate` instead, or use the legacy optimizer, e.g.,tf.keras.optimizers.legacy.SGD.\n"
     ]
    },
    {
     "name": "stdout",
     "output_type": "stream",
     "text": [
      "Epoch 1/2\n",
      "1/1 [==============================] - 0s 288ms/step - loss: 48.9669 - mae: 49.4669 - lr: 1.0000e-08\n",
      "Epoch 2/2\n",
      "1/1 [==============================] - 0s 281ms/step - loss: 48.9666 - mae: 49.4665 - lr: 1.1220e-08\n",
      "1/1 [==============================] - 0s 39ms/step\n"
     ]
    },
    {
     "name": "stderr",
     "output_type": "stream",
     "text": [
      "WARNING:absl:`lr` is deprecated, please use `learning_rate` instead, or use the legacy optimizer, e.g.,tf.keras.optimizers.legacy.SGD.\n"
     ]
    },
    {
     "name": "stdout",
     "output_type": "stream",
     "text": [
      "Epoch 1/2\n",
      "1/1 [==============================] - 0s 407ms/step - loss: 46.8736 - mae: 47.3736 - lr: 1.0000e-08\n",
      "Epoch 2/2\n",
      "1/1 [==============================] - 0s 392ms/step - loss: 46.8733 - mae: 47.3733 - lr: 1.1220e-08\n",
      "1/1 [==============================] - 0s 27ms/step\n"
     ]
    },
    {
     "name": "stderr",
     "output_type": "stream",
     "text": [
      "WARNING:absl:`lr` is deprecated, please use `learning_rate` instead, or use the legacy optimizer, e.g.,tf.keras.optimizers.legacy.SGD.\n"
     ]
    },
    {
     "name": "stdout",
     "output_type": "stream",
     "text": [
      "Epoch 1/2\n",
      "1/1 [==============================] - 1s 525ms/step - loss: 36.5245 - mae: 37.0245 - lr: 1.0000e-08\n",
      "Epoch 2/2\n",
      "1/1 [==============================] - 1s 505ms/step - loss: 36.5242 - mae: 37.0242 - lr: 1.1220e-08\n",
      "1/1 [==============================] - 0s 27ms/step\n"
     ]
    },
    {
     "name": "stderr",
     "output_type": "stream",
     "text": [
      "WARNING:absl:`lr` is deprecated, please use `learning_rate` instead, or use the legacy optimizer, e.g.,tf.keras.optimizers.legacy.SGD.\n"
     ]
    },
    {
     "name": "stdout",
     "output_type": "stream",
     "text": [
      "Epoch 1/2\n",
      "1/1 [==============================] - 1s 678ms/step - loss: 26.8079 - mae: 27.3027 - lr: 1.0000e-08\n",
      "Epoch 2/2\n",
      "1/1 [==============================] - 1s 663ms/step - loss: 26.8073 - mae: 27.3021 - lr: 1.1220e-08\n",
      "1/1 [==============================] - 0s 25ms/step\n"
     ]
    },
    {
     "name": "stderr",
     "output_type": "stream",
     "text": [
      "WARNING:absl:`lr` is deprecated, please use `learning_rate` instead, or use the legacy optimizer, e.g.,tf.keras.optimizers.legacy.SGD.\n"
     ]
    },
    {
     "name": "stdout",
     "output_type": "stream",
     "text": [
      "Epoch 1/2\n",
      "1/1 [==============================] - 1s 886ms/step - loss: 35.3584 - mae: 35.8578 - lr: 1.0000e-08\n",
      "Epoch 2/2\n",
      "1/1 [==============================] - 1s 858ms/step - loss: 35.3578 - mae: 35.8572 - lr: 1.1220e-08\n",
      "1/1 [==============================] - 0s 49ms/step\n"
     ]
    },
    {
     "name": "stderr",
     "output_type": "stream",
     "text": [
      "WARNING:absl:`lr` is deprecated, please use `learning_rate` instead, or use the legacy optimizer, e.g.,tf.keras.optimizers.legacy.SGD.\n"
     ]
    },
    {
     "name": "stdout",
     "output_type": "stream",
     "text": [
      "Epoch 1/2\n",
      "1/1 [==============================] - 0s 307ms/step - loss: 56.2012 - mae: 56.6925 - lr: 1.0000e-08\n",
      "Epoch 2/2\n",
      "1/1 [==============================] - 0s 292ms/step - loss: 56.2006 - mae: 56.6918 - lr: 1.1220e-08\n",
      "1/1 [==============================] - 0s 26ms/step\n"
     ]
    },
    {
     "name": "stderr",
     "output_type": "stream",
     "text": [
      "WARNING:absl:`lr` is deprecated, please use `learning_rate` instead, or use the legacy optimizer, e.g.,tf.keras.optimizers.legacy.SGD.\n"
     ]
    },
    {
     "name": "stdout",
     "output_type": "stream",
     "text": [
      "Epoch 1/2\n",
      "1/1 [==============================] - 0s 464ms/step - loss: 25.4704 - mae: 25.9704 - lr: 1.0000e-08\n",
      "Epoch 2/2\n",
      "1/1 [==============================] - 0s 421ms/step - loss: 25.4703 - mae: 25.9703 - lr: 1.1220e-08\n",
      "1/1 [==============================] - 0s 28ms/step\n"
     ]
    },
    {
     "name": "stderr",
     "output_type": "stream",
     "text": [
      "WARNING:absl:`lr` is deprecated, please use `learning_rate` instead, or use the legacy optimizer, e.g.,tf.keras.optimizers.legacy.SGD.\n"
     ]
    },
    {
     "name": "stdout",
     "output_type": "stream",
     "text": [
      "Epoch 1/2\n",
      "1/1 [==============================] - 1s 690ms/step - loss: 34.1475 - mae: 34.6475 - lr: 1.0000e-08\n",
      "Epoch 2/2\n",
      "1/1 [==============================] - 1s 536ms/step - loss: 34.1471 - mae: 34.6471 - lr: 1.1220e-08\n",
      "1/1 [==============================] - 0s 26ms/step\n"
     ]
    },
    {
     "name": "stderr",
     "output_type": "stream",
     "text": [
      "WARNING:absl:`lr` is deprecated, please use `learning_rate` instead, or use the legacy optimizer, e.g.,tf.keras.optimizers.legacy.SGD.\n"
     ]
    },
    {
     "name": "stdout",
     "output_type": "stream",
     "text": [
      "Epoch 1/2\n",
      "1/1 [==============================] - 1s 745ms/step - loss: 45.2868 - mae: 45.7867 - lr: 1.0000e-08\n",
      "Epoch 2/2\n",
      "1/1 [==============================] - 1s 876ms/step - loss: 45.2864 - mae: 45.7863 - lr: 1.1220e-08\n",
      "1/1 [==============================] - 0s 39ms/step\n"
     ]
    },
    {
     "name": "stderr",
     "output_type": "stream",
     "text": [
      "WARNING:absl:`lr` is deprecated, please use `learning_rate` instead, or use the legacy optimizer, e.g.,tf.keras.optimizers.legacy.SGD.\n"
     ]
    },
    {
     "name": "stdout",
     "output_type": "stream",
     "text": [
      "Epoch 1/2\n",
      "1/1 [==============================] - 1s 1s/step - loss: 39.7332 - mae: 40.2291 - lr: 1.0000e-08\n",
      "Epoch 2/2\n",
      "1/1 [==============================] - 1s 913ms/step - loss: 39.7327 - mae: 40.2286 - lr: 1.1220e-08\n",
      "1/1 [==============================] - 0s 25ms/step\n"
     ]
    },
    {
     "name": "stderr",
     "output_type": "stream",
     "text": [
      "WARNING:absl:`lr` is deprecated, please use `learning_rate` instead, or use the legacy optimizer, e.g.,tf.keras.optimizers.legacy.SGD.\n"
     ]
    },
    {
     "name": "stdout",
     "output_type": "stream",
     "text": [
      "Epoch 1/2\n",
      "1/1 [==============================] - 0s 285ms/step - loss: 27.1734 - mae: 27.6734 - lr: 1.0000e-08\n",
      "Epoch 2/2\n",
      "1/1 [==============================] - 0s 275ms/step - loss: 27.1732 - mae: 27.6732 - lr: 1.1220e-08\n",
      "1/1 [==============================] - 0s 28ms/step\n"
     ]
    },
    {
     "name": "stderr",
     "output_type": "stream",
     "text": [
      "WARNING:absl:`lr` is deprecated, please use `learning_rate` instead, or use the legacy optimizer, e.g.,tf.keras.optimizers.legacy.SGD.\n"
     ]
    },
    {
     "name": "stdout",
     "output_type": "stream",
     "text": [
      "Epoch 1/2\n",
      "1/1 [==============================] - 0s 398ms/step - loss: 53.8061 - mae: 54.3060 - lr: 1.0000e-08\n",
      "Epoch 2/2\n",
      "1/1 [==============================] - 0s 407ms/step - loss: 53.8055 - mae: 54.3055 - lr: 1.1220e-08\n",
      "1/1 [==============================] - 0s 118ms/step\n"
     ]
    },
    {
     "name": "stderr",
     "output_type": "stream",
     "text": [
      "WARNING:absl:`lr` is deprecated, please use `learning_rate` instead, or use the legacy optimizer, e.g.,tf.keras.optimizers.legacy.SGD.\n"
     ]
    },
    {
     "name": "stdout",
     "output_type": "stream",
     "text": [
      "Epoch 1/2\n",
      "1/1 [==============================] - 1s 582ms/step - loss: 28.2314 - mae: 28.7234 - lr: 1.0000e-08\n",
      "Epoch 2/2\n",
      "1/1 [==============================] - 1s 543ms/step - loss: 28.2312 - mae: 28.7232 - lr: 1.1220e-08\n",
      "1/1 [==============================] - 0s 31ms/step\n"
     ]
    },
    {
     "name": "stderr",
     "output_type": "stream",
     "text": [
      "WARNING:absl:`lr` is deprecated, please use `learning_rate` instead, or use the legacy optimizer, e.g.,tf.keras.optimizers.legacy.SGD.\n"
     ]
    },
    {
     "name": "stdout",
     "output_type": "stream",
     "text": [
      "Epoch 1/2\n",
      "1/1 [==============================] - 1s 797ms/step - loss: 30.6328 - mae: 31.1328 - lr: 1.0000e-08\n",
      "Epoch 2/2\n",
      "1/1 [==============================] - 1s 707ms/step - loss: 30.6326 - mae: 31.1326 - lr: 1.1220e-08\n",
      "1/1 [==============================] - 0s 24ms/step\n"
     ]
    },
    {
     "name": "stderr",
     "output_type": "stream",
     "text": [
      "WARNING:absl:`lr` is deprecated, please use `learning_rate` instead, or use the legacy optimizer, e.g.,tf.keras.optimizers.legacy.SGD.\n"
     ]
    },
    {
     "name": "stdout",
     "output_type": "stream",
     "text": [
      "Epoch 1/2\n",
      "1/1 [==============================] - 1s 958ms/step - loss: 32.0894 - mae: 32.5844 - lr: 1.0000e-08\n",
      "Epoch 2/2\n",
      "1/1 [==============================] - 1s 947ms/step - loss: 32.0891 - mae: 32.5842 - lr: 1.1220e-08\n",
      "1/1 [==============================] - 0s 28ms/step\n"
     ]
    },
    {
     "name": "stderr",
     "output_type": "stream",
     "text": [
      "WARNING:absl:`lr` is deprecated, please use `learning_rate` instead, or use the legacy optimizer, e.g.,tf.keras.optimizers.legacy.SGD.\n"
     ]
    },
    {
     "name": "stdout",
     "output_type": "stream",
     "text": [
      "Epoch 1/2\n",
      "1/1 [==============================] - 0s 318ms/step - loss: 36.4139 - mae: 36.9139 - lr: 1.0000e-08\n",
      "Epoch 2/2\n",
      "1/1 [==============================] - 0s 294ms/step - loss: 36.4136 - mae: 36.9136 - lr: 1.1220e-08\n",
      "1/1 [==============================] - 0s 29ms/step\n"
     ]
    },
    {
     "name": "stderr",
     "output_type": "stream",
     "text": [
      "WARNING:absl:`lr` is deprecated, please use `learning_rate` instead, or use the legacy optimizer, e.g.,tf.keras.optimizers.legacy.SGD.\n"
     ]
    },
    {
     "name": "stdout",
     "output_type": "stream",
     "text": [
      "Epoch 1/2\n",
      "1/1 [==============================] - 0s 398ms/step - loss: 25.4150 - mae: 25.9150 - lr: 1.0000e-08\n",
      "Epoch 2/2\n",
      "1/1 [==============================] - 0s 488ms/step - loss: 25.4148 - mae: 25.9148 - lr: 1.1220e-08\n",
      "1/1 [==============================] - 0s 44ms/step\n"
     ]
    },
    {
     "name": "stderr",
     "output_type": "stream",
     "text": [
      "WARNING:absl:`lr` is deprecated, please use `learning_rate` instead, or use the legacy optimizer, e.g.,tf.keras.optimizers.legacy.SGD.\n"
     ]
    },
    {
     "name": "stdout",
     "output_type": "stream",
     "text": [
      "Epoch 1/2\n",
      "1/1 [==============================] - 1s 568ms/step - loss: 30.1309 - mae: 30.6292 - lr: 1.0000e-08\n",
      "Epoch 2/2\n",
      "1/1 [==============================] - 1s 571ms/step - loss: 30.1306 - mae: 30.6289 - lr: 1.1220e-08\n",
      "1/1 [==============================] - 0s 28ms/step\n"
     ]
    },
    {
     "name": "stderr",
     "output_type": "stream",
     "text": [
      "WARNING:absl:`lr` is deprecated, please use `learning_rate` instead, or use the legacy optimizer, e.g.,tf.keras.optimizers.legacy.SGD.\n"
     ]
    },
    {
     "name": "stdout",
     "output_type": "stream",
     "text": [
      "Epoch 1/2\n",
      "1/1 [==============================] - 1s 718ms/step - loss: 68.0515 - mae: 68.5515 - lr: 1.0000e-08\n",
      "Epoch 2/2\n",
      "1/1 [==============================] - 1s 743ms/step - loss: 68.0507 - mae: 68.5507 - lr: 1.1220e-08\n",
      "1/1 [==============================] - 0s 32ms/step\n"
     ]
    },
    {
     "name": "stderr",
     "output_type": "stream",
     "text": [
      "WARNING:absl:`lr` is deprecated, please use `learning_rate` instead, or use the legacy optimizer, e.g.,tf.keras.optimizers.legacy.SGD.\n"
     ]
    },
    {
     "name": "stdout",
     "output_type": "stream",
     "text": [
      "Epoch 1/2\n",
      "1/1 [==============================] - 1s 963ms/step - loss: 40.0885 - mae: 40.5806 - lr: 1.0000e-08\n",
      "Epoch 2/2\n",
      "1/1 [==============================] - 1s 895ms/step - loss: 40.0882 - mae: 40.5803 - lr: 1.1220e-08\n",
      "1/1 [==============================] - 0s 27ms/step\n"
     ]
    },
    {
     "name": "stderr",
     "output_type": "stream",
     "text": [
      "WARNING:absl:`lr` is deprecated, please use `learning_rate` instead, or use the legacy optimizer, e.g.,tf.keras.optimizers.legacy.SGD.\n"
     ]
    },
    {
     "name": "stdout",
     "output_type": "stream",
     "text": [
      "Epoch 1/2\n",
      "1/1 [==============================] - 0s 283ms/step - loss: 49.2040 - mae: 49.7040 - lr: 1.0000e-08\n",
      "Epoch 2/2\n",
      "1/1 [==============================] - 0s 328ms/step - loss: 49.2036 - mae: 49.7036 - lr: 1.1220e-08\n",
      "1/1 [==============================] - 0s 29ms/step\n"
     ]
    },
    {
     "name": "stderr",
     "output_type": "stream",
     "text": [
      "WARNING:absl:`lr` is deprecated, please use `learning_rate` instead, or use the legacy optimizer, e.g.,tf.keras.optimizers.legacy.SGD.\n"
     ]
    },
    {
     "name": "stdout",
     "output_type": "stream",
     "text": [
      "Epoch 1/2\n",
      "1/1 [==============================] - 0s 479ms/step - loss: 47.2035 - mae: 47.6967 - lr: 1.0000e-08\n",
      "Epoch 2/2\n",
      "1/1 [==============================] - 0s 395ms/step - loss: 47.2028 - mae: 47.6960 - lr: 1.1220e-08\n",
      "1/1 [==============================] - 0s 26ms/step\n"
     ]
    },
    {
     "name": "stderr",
     "output_type": "stream",
     "text": [
      "WARNING:absl:`lr` is deprecated, please use `learning_rate` instead, or use the legacy optimizer, e.g.,tf.keras.optimizers.legacy.SGD.\n"
     ]
    },
    {
     "name": "stdout",
     "output_type": "stream",
     "text": [
      "Epoch 1/2\n",
      "1/1 [==============================] - 1s 503ms/step - loss: 31.6769 - mae: 32.1680 - lr: 1.0000e-08\n",
      "Epoch 2/2\n",
      "1/1 [==============================] - 1s 706ms/step - loss: 31.6767 - mae: 32.1678 - lr: 1.1220e-08\n",
      "1/1 [==============================] - 0s 84ms/step\n"
     ]
    },
    {
     "name": "stderr",
     "output_type": "stream",
     "text": [
      "WARNING:absl:`lr` is deprecated, please use `learning_rate` instead, or use the legacy optimizer, e.g.,tf.keras.optimizers.legacy.SGD.\n"
     ]
    },
    {
     "name": "stdout",
     "output_type": "stream",
     "text": [
      "Epoch 1/2\n",
      "1/1 [==============================] - 1s 784ms/step - loss: 40.7797 - mae: 41.2723 - lr: 1.0000e-08\n",
      "Epoch 2/2\n",
      "1/1 [==============================] - 1s 788ms/step - loss: 40.7793 - mae: 41.2719 - lr: 1.1220e-08\n",
      "1/1 [==============================] - 0s 23ms/step\n"
     ]
    },
    {
     "name": "stderr",
     "output_type": "stream",
     "text": [
      "WARNING:absl:`lr` is deprecated, please use `learning_rate` instead, or use the legacy optimizer, e.g.,tf.keras.optimizers.legacy.SGD.\n"
     ]
    },
    {
     "name": "stdout",
     "output_type": "stream",
     "text": [
      "Epoch 1/2\n",
      "1/1 [==============================] - 1s 1s/step - loss: 28.6508 - mae: 29.1400 - lr: 1.0000e-08\n",
      "Epoch 2/2\n",
      "1/1 [==============================] - 1s 918ms/step - loss: 28.6505 - mae: 29.1398 - lr: 1.1220e-08\n",
      "1/1 [==============================] - 0s 22ms/step\n"
     ]
    },
    {
     "name": "stderr",
     "output_type": "stream",
     "text": [
      "WARNING:absl:`lr` is deprecated, please use `learning_rate` instead, or use the legacy optimizer, e.g.,tf.keras.optimizers.legacy.SGD.\n"
     ]
    },
    {
     "name": "stdout",
     "output_type": "stream",
     "text": [
      "Epoch 1/2\n",
      "1/1 [==============================] - 0s 282ms/step - loss: 32.7001 - mae: 33.2001 - lr: 1.0000e-08\n",
      "Epoch 2/2\n",
      "1/1 [==============================] - 0s 308ms/step - loss: 32.6999 - mae: 33.1999 - lr: 1.1220e-08\n",
      "1/1 [==============================] - 0s 25ms/step\n"
     ]
    },
    {
     "name": "stderr",
     "output_type": "stream",
     "text": [
      "WARNING:absl:`lr` is deprecated, please use `learning_rate` instead, or use the legacy optimizer, e.g.,tf.keras.optimizers.legacy.SGD.\n"
     ]
    },
    {
     "name": "stdout",
     "output_type": "stream",
     "text": [
      "Epoch 1/2\n",
      "1/1 [==============================] - 0s 414ms/step - loss: 32.0858 - mae: 32.5769 - lr: 1.0000e-08\n",
      "Epoch 2/2\n",
      "1/1 [==============================] - 0s 402ms/step - loss: 32.0856 - mae: 32.5768 - lr: 1.1220e-08\n",
      "1/1 [==============================] - 0s 31ms/step\n"
     ]
    },
    {
     "name": "stderr",
     "output_type": "stream",
     "text": [
      "WARNING:absl:`lr` is deprecated, please use `learning_rate` instead, or use the legacy optimizer, e.g.,tf.keras.optimizers.legacy.SGD.\n"
     ]
    },
    {
     "name": "stdout",
     "output_type": "stream",
     "text": [
      "Epoch 1/2\n",
      "1/1 [==============================] - 1s 523ms/step - loss: 30.8060 - mae: 31.3001 - lr: 1.0000e-08\n",
      "Epoch 2/2\n",
      "1/1 [==============================] - 1s 539ms/step - loss: 30.8058 - mae: 31.2999 - lr: 1.1220e-08\n",
      "1/1 [==============================] - 0s 28ms/step\n"
     ]
    },
    {
     "name": "stderr",
     "output_type": "stream",
     "text": [
      "WARNING:absl:`lr` is deprecated, please use `learning_rate` instead, or use the legacy optimizer, e.g.,tf.keras.optimizers.legacy.SGD.\n"
     ]
    },
    {
     "name": "stdout",
     "output_type": "stream",
     "text": [
      "Epoch 1/2\n",
      "1/1 [==============================] - 1s 951ms/step - loss: 52.1789 - mae: 52.6788 - lr: 1.0000e-08\n",
      "Epoch 2/2\n",
      "1/1 [==============================] - 1s 883ms/step - loss: 52.1788 - mae: 52.6786 - lr: 1.1220e-08\n",
      "1/1 [==============================] - 0s 23ms/step\n"
     ]
    },
    {
     "name": "stderr",
     "output_type": "stream",
     "text": [
      "WARNING:absl:`lr` is deprecated, please use `learning_rate` instead, or use the legacy optimizer, e.g.,tf.keras.optimizers.legacy.SGD.\n"
     ]
    },
    {
     "name": "stdout",
     "output_type": "stream",
     "text": [
      "Epoch 1/2\n",
      "1/1 [==============================] - 1s 1s/step - loss: 45.5465 - mae: 46.0465 - lr: 1.0000e-08\n",
      "Epoch 2/2\n",
      "1/1 [==============================] - 1s 1s/step - loss: 45.5461 - mae: 46.0461 - lr: 1.1220e-08\n",
      "1/1 [==============================] - 0s 30ms/step\n"
     ]
    },
    {
     "name": "stderr",
     "output_type": "stream",
     "text": [
      "WARNING:absl:`lr` is deprecated, please use `learning_rate` instead, or use the legacy optimizer, e.g.,tf.keras.optimizers.legacy.SGD.\n"
     ]
    },
    {
     "name": "stdout",
     "output_type": "stream",
     "text": [
      "Epoch 1/2\n",
      "1/1 [==============================] - 0s 332ms/step - loss: 46.1942 - mae: 46.6856 - lr: 1.0000e-08\n",
      "Epoch 2/2\n",
      "1/1 [==============================] - 0s 303ms/step - loss: 46.1938 - mae: 46.6852 - lr: 1.1220e-08\n",
      "1/1 [==============================] - 0s 26ms/step\n"
     ]
    },
    {
     "name": "stderr",
     "output_type": "stream",
     "text": [
      "WARNING:absl:`lr` is deprecated, please use `learning_rate` instead, or use the legacy optimizer, e.g.,tf.keras.optimizers.legacy.SGD.\n"
     ]
    },
    {
     "name": "stdout",
     "output_type": "stream",
     "text": [
      "Epoch 1/2\n",
      "1/1 [==============================] - 1s 505ms/step - loss: 32.2817 - mae: 32.7817 - lr: 1.0000e-08\n",
      "Epoch 2/2\n",
      "1/1 [==============================] - 0s 434ms/step - loss: 32.2808 - mae: 32.7808 - lr: 1.1220e-08\n",
      "1/1 [==============================] - 0s 26ms/step\n"
     ]
    },
    {
     "name": "stderr",
     "output_type": "stream",
     "text": [
      "WARNING:absl:`lr` is deprecated, please use `learning_rate` instead, or use the legacy optimizer, e.g.,tf.keras.optimizers.legacy.SGD.\n"
     ]
    },
    {
     "name": "stdout",
     "output_type": "stream",
     "text": [
      "Epoch 1/2\n",
      "1/1 [==============================] - 1s 586ms/step - loss: 42.1489 - mae: 42.6455 - lr: 1.0000e-08\n",
      "Epoch 2/2\n",
      "1/1 [==============================] - 1s 577ms/step - loss: 42.1486 - mae: 42.6453 - lr: 1.1220e-08\n",
      "1/1 [==============================] - 0s 32ms/step\n"
     ]
    },
    {
     "name": "stderr",
     "output_type": "stream",
     "text": [
      "WARNING:absl:`lr` is deprecated, please use `learning_rate` instead, or use the legacy optimizer, e.g.,tf.keras.optimizers.legacy.SGD.\n"
     ]
    },
    {
     "name": "stdout",
     "output_type": "stream",
     "text": [
      "Epoch 1/2\n",
      "1/1 [==============================] - 1s 796ms/step - loss: 47.2261 - mae: 47.7260 - lr: 1.0000e-08\n",
      "Epoch 2/2\n",
      "1/1 [==============================] - 1s 744ms/step - loss: 47.2256 - mae: 47.7255 - lr: 1.1220e-08\n",
      "1/1 [==============================] - 0s 31ms/step\n"
     ]
    },
    {
     "name": "stderr",
     "output_type": "stream",
     "text": [
      "WARNING:absl:`lr` is deprecated, please use `learning_rate` instead, or use the legacy optimizer, e.g.,tf.keras.optimizers.legacy.SGD.\n"
     ]
    },
    {
     "name": "stdout",
     "output_type": "stream",
     "text": [
      "Epoch 1/2\n",
      "1/1 [==============================] - 1s 970ms/step - loss: 34.5687 - mae: 35.0574 - lr: 1.0000e-08\n",
      "Epoch 2/2\n",
      "1/1 [==============================] - 1s 959ms/step - loss: 34.5685 - mae: 35.0571 - lr: 1.1220e-08\n",
      "1/1 [==============================] - 0s 22ms/step\n"
     ]
    },
    {
     "name": "stderr",
     "output_type": "stream",
     "text": [
      "WARNING:absl:`lr` is deprecated, please use `learning_rate` instead, or use the legacy optimizer, e.g.,tf.keras.optimizers.legacy.SGD.\n"
     ]
    },
    {
     "name": "stdout",
     "output_type": "stream",
     "text": [
      "Epoch 1/2\n",
      "1/1 [==============================] - 0s 321ms/step - loss: 23.4352 - mae: 23.9352 - lr: 1.0000e-08\n",
      "Epoch 2/2\n",
      "1/1 [==============================] - 0s 330ms/step - loss: 23.4350 - mae: 23.9350 - lr: 1.1220e-08\n",
      "1/1 [==============================] - 0s 40ms/step\n"
     ]
    },
    {
     "name": "stderr",
     "output_type": "stream",
     "text": [
      "WARNING:absl:`lr` is deprecated, please use `learning_rate` instead, or use the legacy optimizer, e.g.,tf.keras.optimizers.legacy.SGD.\n"
     ]
    },
    {
     "name": "stdout",
     "output_type": "stream",
     "text": [
      "Epoch 1/2\n",
      "1/1 [==============================] - 0s 484ms/step - loss: 56.0960 - mae: 56.5960 - lr: 1.0000e-08\n",
      "Epoch 2/2\n",
      "1/1 [==============================] - 0s 467ms/step - loss: 56.0957 - mae: 56.5957 - lr: 1.1220e-08\n",
      "1/1 [==============================] - 0s 31ms/step\n"
     ]
    },
    {
     "name": "stderr",
     "output_type": "stream",
     "text": [
      "WARNING:absl:`lr` is deprecated, please use `learning_rate` instead, or use the legacy optimizer, e.g.,tf.keras.optimizers.legacy.SGD.\n"
     ]
    },
    {
     "name": "stdout",
     "output_type": "stream",
     "text": [
      "Epoch 1/2\n",
      "1/1 [==============================] - 1s 744ms/step - loss: 35.4406 - mae: 35.9406 - lr: 1.0000e-08\n",
      "Epoch 2/2\n",
      "1/1 [==============================] - 1s 667ms/step - loss: 35.4400 - mae: 35.9400 - lr: 1.1220e-08\n",
      "1/1 [==============================] - 0s 29ms/step\n"
     ]
    },
    {
     "name": "stderr",
     "output_type": "stream",
     "text": [
      "WARNING:absl:`lr` is deprecated, please use `learning_rate` instead, or use the legacy optimizer, e.g.,tf.keras.optimizers.legacy.SGD.\n"
     ]
    },
    {
     "name": "stdout",
     "output_type": "stream",
     "text": [
      "Epoch 1/2\n",
      "1/1 [==============================] - 1s 761ms/step - loss: 44.8163 - mae: 45.3113 - lr: 1.0000e-08\n",
      "Epoch 2/2\n",
      "1/1 [==============================] - 1s 738ms/step - loss: 44.8161 - mae: 45.3111 - lr: 1.1220e-08\n",
      "1/1 [==============================] - 0s 23ms/step\n"
     ]
    },
    {
     "name": "stderr",
     "output_type": "stream",
     "text": [
      "WARNING:absl:`lr` is deprecated, please use `learning_rate` instead, or use the legacy optimizer, e.g.,tf.keras.optimizers.legacy.SGD.\n"
     ]
    },
    {
     "name": "stdout",
     "output_type": "stream",
     "text": [
      "Epoch 1/2\n",
      "1/1 [==============================] - 1s 1s/step - loss: 26.8251 - mae: 27.3251 - lr: 1.0000e-08\n",
      "Epoch 2/2\n",
      "1/1 [==============================] - 1s 1s/step - loss: 26.8248 - mae: 27.3248 - lr: 1.1220e-08\n",
      "1/1 [==============================] - 0s 26ms/step\n"
     ]
    },
    {
     "name": "stderr",
     "output_type": "stream",
     "text": [
      "WARNING:absl:`lr` is deprecated, please use `learning_rate` instead, or use the legacy optimizer, e.g.,tf.keras.optimizers.legacy.SGD.\n"
     ]
    },
    {
     "name": "stdout",
     "output_type": "stream",
     "text": [
      "Epoch 1/2\n",
      "1/1 [==============================] - 0s 331ms/step - loss: 38.4962 - mae: 38.9962 - lr: 1.0000e-08\n",
      "Epoch 2/2\n",
      "1/1 [==============================] - 0s 297ms/step - loss: 38.4959 - mae: 38.9959 - lr: 1.1220e-08\n",
      "1/1 [==============================] - 0s 27ms/step\n"
     ]
    },
    {
     "name": "stderr",
     "output_type": "stream",
     "text": [
      "WARNING:absl:`lr` is deprecated, please use `learning_rate` instead, or use the legacy optimizer, e.g.,tf.keras.optimizers.legacy.SGD.\n"
     ]
    },
    {
     "name": "stdout",
     "output_type": "stream",
     "text": [
      "Epoch 1/2\n",
      "1/1 [==============================] - 0s 467ms/step - loss: 57.7548 - mae: 58.2485 - lr: 1.0000e-08\n",
      "Epoch 2/2\n",
      "1/1 [==============================] - 0s 467ms/step - loss: 57.7539 - mae: 58.2476 - lr: 1.1220e-08\n",
      "1/1 [==============================] - 0s 25ms/step\n"
     ]
    },
    {
     "name": "stderr",
     "output_type": "stream",
     "text": [
      "WARNING:absl:`lr` is deprecated, please use `learning_rate` instead, or use the legacy optimizer, e.g.,tf.keras.optimizers.legacy.SGD.\n"
     ]
    },
    {
     "name": "stdout",
     "output_type": "stream",
     "text": [
      "Epoch 1/2\n",
      "1/1 [==============================] - 1s 635ms/step - loss: 33.0162 - mae: 33.5144 - lr: 1.0000e-08\n",
      "Epoch 2/2\n",
      "1/1 [==============================] - 1s 591ms/step - loss: 33.0159 - mae: 33.5141 - lr: 1.1220e-08\n",
      "1/1 [==============================] - 0s 29ms/step\n"
     ]
    },
    {
     "name": "stderr",
     "output_type": "stream",
     "text": [
      "WARNING:absl:`lr` is deprecated, please use `learning_rate` instead, or use the legacy optimizer, e.g.,tf.keras.optimizers.legacy.SGD.\n"
     ]
    },
    {
     "name": "stdout",
     "output_type": "stream",
     "text": [
      "Epoch 1/2\n",
      "1/1 [==============================] - 1s 830ms/step - loss: 44.3768 - mae: 44.8735 - lr: 1.0000e-08\n",
      "Epoch 2/2\n",
      "1/1 [==============================] - 1s 779ms/step - loss: 44.3765 - mae: 44.8732 - lr: 1.1220e-08\n",
      "1/1 [==============================] - 0s 22ms/step\n"
     ]
    },
    {
     "name": "stderr",
     "output_type": "stream",
     "text": [
      "WARNING:absl:`lr` is deprecated, please use `learning_rate` instead, or use the legacy optimizer, e.g.,tf.keras.optimizers.legacy.SGD.\n"
     ]
    },
    {
     "name": "stdout",
     "output_type": "stream",
     "text": [
      "Epoch 1/2\n",
      "1/1 [==============================] - 1s 1s/step - loss: 49.4037 - mae: 49.9037 - lr: 1.0000e-08\n",
      "Epoch 2/2\n",
      "1/1 [==============================] - 1s 993ms/step - loss: 49.4031 - mae: 49.9031 - lr: 1.1220e-08\n",
      "1/1 [==============================] - 0s 25ms/step\n"
     ]
    },
    {
     "name": "stderr",
     "output_type": "stream",
     "text": [
      "WARNING:absl:`lr` is deprecated, please use `learning_rate` instead, or use the legacy optimizer, e.g.,tf.keras.optimizers.legacy.SGD.\n"
     ]
    },
    {
     "name": "stdout",
     "output_type": "stream",
     "text": [
      "Epoch 1/2\n",
      "1/1 [==============================] - 0s 321ms/step - loss: 57.7310 - mae: 58.2258 - lr: 1.0000e-08\n",
      "Epoch 2/2\n",
      "1/1 [==============================] - 0s 338ms/step - loss: 57.7307 - mae: 58.2255 - lr: 1.1220e-08\n",
      "1/1 [==============================] - 0s 25ms/step\n"
     ]
    },
    {
     "name": "stderr",
     "output_type": "stream",
     "text": [
      "WARNING:absl:`lr` is deprecated, please use `learning_rate` instead, or use the legacy optimizer, e.g.,tf.keras.optimizers.legacy.SGD.\n"
     ]
    },
    {
     "name": "stdout",
     "output_type": "stream",
     "text": [
      "Epoch 1/2\n",
      "1/1 [==============================] - 0s 464ms/step - loss: 41.5545 - mae: 42.0545 - lr: 1.0000e-08\n",
      "Epoch 2/2\n",
      "1/1 [==============================] - 0s 434ms/step - loss: 41.5542 - mae: 42.0542 - lr: 1.1220e-08\n",
      "1/1 [==============================] - 0s 34ms/step\n",
      "ERROR:tensorflow:==================================\n",
      "Object was never used (type <class 'tensorflow.python.ops.tensor_array_ops.TensorArray'>):\n",
      "<tensorflow.python.ops.tensor_array_ops.TensorArray object at 0x16c050520>\n",
      "If you want to mark it as used call its \"mark_used()\" method.\n",
      "It was originally created here:\n",
      "  File \"/usr/local/lib/python3.10/site-packages/keras/backend.py\", line 5132, in <genexpr>\n",
      "    output_ta_t = tuple(  File \"/usr/local/lib/python3.10/site-packages/tensorflow/python/util/tf_should_use.py\", line 243, in wrapped\n",
      "    return _add_should_use_warning(fn(*args, **kwargs),\n",
      "==================================\n"
     ]
    },
    {
     "name": "stderr",
     "output_type": "stream",
     "text": [
      "ERROR:tensorflow:==================================\n",
      "Object was never used (type <class 'tensorflow.python.ops.tensor_array_ops.TensorArray'>):\n",
      "<tensorflow.python.ops.tensor_array_ops.TensorArray object at 0x16c050520>\n",
      "If you want to mark it as used call its \"mark_used()\" method.\n",
      "It was originally created here:\n",
      "  File \"/usr/local/lib/python3.10/site-packages/keras/backend.py\", line 5132, in <genexpr>\n",
      "    output_ta_t = tuple(  File \"/usr/local/lib/python3.10/site-packages/tensorflow/python/util/tf_should_use.py\", line 243, in wrapped\n",
      "    return _add_should_use_warning(fn(*args, **kwargs),\n",
      "==================================\n",
      "WARNING:absl:`lr` is deprecated, please use `learning_rate` instead, or use the legacy optimizer, e.g.,tf.keras.optimizers.legacy.SGD.\n"
     ]
    },
    {
     "name": "stdout",
     "output_type": "stream",
     "text": [
      "Epoch 1/2\n",
      "1/1 [==============================] - 1s 607ms/step - loss: 34.5476 - mae: 35.0476 - lr: 1.0000e-08\n",
      "Epoch 2/2\n",
      "1/1 [==============================] - 1s 593ms/step - loss: 34.5472 - mae: 35.0472 - lr: 1.1220e-08\n",
      "1/1 [==============================] - 0s 27ms/step\n"
     ]
    },
    {
     "name": "stderr",
     "output_type": "stream",
     "text": [
      "WARNING:absl:`lr` is deprecated, please use `learning_rate` instead, or use the legacy optimizer, e.g.,tf.keras.optimizers.legacy.SGD.\n"
     ]
    },
    {
     "name": "stdout",
     "output_type": "stream",
     "text": [
      "Epoch 1/2\n",
      "1/1 [==============================] - 1s 885ms/step - loss: 38.1731 - mae: 38.6731 - lr: 1.0000e-08\n",
      "Epoch 2/2\n",
      "1/1 [==============================] - 1s 816ms/step - loss: 38.1729 - mae: 38.6729 - lr: 1.1220e-08\n",
      "1/1 [==============================] - 0s 39ms/step\n"
     ]
    },
    {
     "name": "stderr",
     "output_type": "stream",
     "text": [
      "WARNING:absl:`lr` is deprecated, please use `learning_rate` instead, or use the legacy optimizer, e.g.,tf.keras.optimizers.legacy.SGD.\n"
     ]
    },
    {
     "name": "stdout",
     "output_type": "stream",
     "text": [
      "Epoch 1/2\n",
      "1/1 [==============================] - 1s 1s/step - loss: 25.8167 - mae: 26.3167 - lr: 1.0000e-08\n",
      "Epoch 2/2\n",
      "1/1 [==============================] - 1s 1s/step - loss: 25.8165 - mae: 26.3165 - lr: 1.1220e-08\n",
      "1/1 [==============================] - 0s 33ms/step\n"
     ]
    },
    {
     "name": "stderr",
     "output_type": "stream",
     "text": [
      "WARNING:absl:`lr` is deprecated, please use `learning_rate` instead, or use the legacy optimizer, e.g.,tf.keras.optimizers.legacy.SGD.\n"
     ]
    },
    {
     "name": "stdout",
     "output_type": "stream",
     "text": [
      "Epoch 1/2\n",
      "1/1 [==============================] - 0s 323ms/step - loss: 40.7972 - mae: 41.2933 - lr: 1.0000e-08\n",
      "Epoch 2/2\n",
      "1/1 [==============================] - 0s 308ms/step - loss: 40.7970 - mae: 41.2930 - lr: 1.1220e-08\n",
      "1/1 [==============================] - 0s 27ms/step\n"
     ]
    },
    {
     "name": "stderr",
     "output_type": "stream",
     "text": [
      "WARNING:absl:`lr` is deprecated, please use `learning_rate` instead, or use the legacy optimizer, e.g.,tf.keras.optimizers.legacy.SGD.\n"
     ]
    },
    {
     "name": "stdout",
     "output_type": "stream",
     "text": [
      "Epoch 1/2\n",
      "1/1 [==============================] - 0s 454ms/step - loss: 32.1327 - mae: 32.6299 - lr: 1.0000e-08\n",
      "Epoch 2/2\n",
      "1/1 [==============================] - 1s 588ms/step - loss: 32.1326 - mae: 32.6297 - lr: 1.1220e-08\n",
      "1/1 [==============================] - 0s 51ms/step\n"
     ]
    },
    {
     "name": "stderr",
     "output_type": "stream",
     "text": [
      "WARNING:absl:`lr` is deprecated, please use `learning_rate` instead, or use the legacy optimizer, e.g.,tf.keras.optimizers.legacy.SGD.\n"
     ]
    },
    {
     "name": "stdout",
     "output_type": "stream",
     "text": [
      "Epoch 1/2\n",
      "1/1 [==============================] - 1s 773ms/step - loss: 57.2523 - mae: 57.7523 - lr: 1.0000e-08\n",
      "Epoch 2/2\n",
      "1/1 [==============================] - 1s 654ms/step - loss: 57.2516 - mae: 57.7516 - lr: 1.1220e-08\n",
      "1/1 [==============================] - 0s 29ms/step\n"
     ]
    },
    {
     "name": "stderr",
     "output_type": "stream",
     "text": [
      "WARNING:absl:`lr` is deprecated, please use `learning_rate` instead, or use the legacy optimizer, e.g.,tf.keras.optimizers.legacy.SGD.\n"
     ]
    },
    {
     "name": "stdout",
     "output_type": "stream",
     "text": [
      "Epoch 1/2\n",
      "1/1 [==============================] - 1s 804ms/step - loss: 30.9470 - mae: 31.4390 - lr: 1.0000e-08\n",
      "Epoch 2/2\n",
      "1/1 [==============================] - 1s 919ms/step - loss: 30.9467 - mae: 31.4387 - lr: 1.1220e-08\n",
      "1/1 [==============================] - 0s 27ms/step\n"
     ]
    },
    {
     "name": "stderr",
     "output_type": "stream",
     "text": [
      "WARNING:absl:`lr` is deprecated, please use `learning_rate` instead, or use the legacy optimizer, e.g.,tf.keras.optimizers.legacy.SGD.\n"
     ]
    },
    {
     "name": "stdout",
     "output_type": "stream",
     "text": [
      "Epoch 1/2\n",
      "1/1 [==============================] - 1s 1s/step - loss: 32.5495 - mae: 33.0452 - lr: 1.0000e-08\n",
      "Epoch 2/2\n",
      "1/1 [==============================] - 1s 958ms/step - loss: 32.5492 - mae: 33.0450 - lr: 1.1220e-08\n",
      "1/1 [==============================] - 0s 23ms/step\n"
     ]
    },
    {
     "name": "stderr",
     "output_type": "stream",
     "text": [
      "WARNING:absl:`lr` is deprecated, please use `learning_rate` instead, or use the legacy optimizer, e.g.,tf.keras.optimizers.legacy.SGD.\n"
     ]
    },
    {
     "name": "stdout",
     "output_type": "stream",
     "text": [
      "Epoch 1/2\n",
      "1/1 [==============================] - 0s 336ms/step - loss: 43.3393 - mae: 43.8382 - lr: 1.0000e-08\n",
      "Epoch 2/2\n",
      "1/1 [==============================] - 0s 381ms/step - loss: 43.3390 - mae: 43.8379 - lr: 1.1220e-08\n",
      "1/1 [==============================] - 0s 29ms/step\n"
     ]
    },
    {
     "name": "stderr",
     "output_type": "stream",
     "text": [
      "WARNING:absl:`lr` is deprecated, please use `learning_rate` instead, or use the legacy optimizer, e.g.,tf.keras.optimizers.legacy.SGD.\n"
     ]
    },
    {
     "name": "stdout",
     "output_type": "stream",
     "text": [
      "Epoch 1/2\n",
      "1/1 [==============================] - 1s 551ms/step - loss: 45.1342 - mae: 45.6309 - lr: 1.0000e-08\n",
      "Epoch 2/2\n",
      "1/1 [==============================] - 0s 426ms/step - loss: 45.1338 - mae: 45.6304 - lr: 1.1220e-08\n",
      "1/1 [==============================] - 0s 27ms/step\n"
     ]
    },
    {
     "name": "stderr",
     "output_type": "stream",
     "text": [
      "WARNING:absl:`lr` is deprecated, please use `learning_rate` instead, or use the legacy optimizer, e.g.,tf.keras.optimizers.legacy.SGD.\n"
     ]
    },
    {
     "name": "stdout",
     "output_type": "stream",
     "text": [
      "Epoch 1/2\n",
      "1/1 [==============================] - 1s 669ms/step - loss: 40.8954 - mae: 41.3954 - lr: 1.0000e-08\n",
      "Epoch 2/2\n",
      "1/1 [==============================] - 1s 770ms/step - loss: 40.8950 - mae: 41.3950 - lr: 1.1220e-08\n",
      "1/1 [==============================] - 0s 30ms/step\n"
     ]
    },
    {
     "name": "stderr",
     "output_type": "stream",
     "text": [
      "WARNING:absl:`lr` is deprecated, please use `learning_rate` instead, or use the legacy optimizer, e.g.,tf.keras.optimizers.legacy.SGD.\n"
     ]
    },
    {
     "name": "stdout",
     "output_type": "stream",
     "text": [
      "Epoch 1/2\n",
      "1/1 [==============================] - 1s 752ms/step - loss: 46.9227 - mae: 47.4227 - lr: 1.0000e-08\n",
      "Epoch 2/2\n",
      "1/1 [==============================] - 1s 732ms/step - loss: 46.9223 - mae: 47.4223 - lr: 1.1220e-08\n",
      "1/1 [==============================] - 0s 25ms/step\n"
     ]
    },
    {
     "name": "stderr",
     "output_type": "stream",
     "text": [
      "WARNING:absl:`lr` is deprecated, please use `learning_rate` instead, or use the legacy optimizer, e.g.,tf.keras.optimizers.legacy.SGD.\n"
     ]
    },
    {
     "name": "stdout",
     "output_type": "stream",
     "text": [
      "Epoch 1/2\n",
      "1/1 [==============================] - 1s 959ms/step - loss: 36.4276 - mae: 36.9173 - lr: 1.0000e-08\n",
      "Epoch 2/2\n",
      "1/1 [==============================] - 1s 950ms/step - loss: 36.4274 - mae: 36.9171 - lr: 1.1220e-08\n",
      "1/1 [==============================] - 0s 23ms/step\n"
     ]
    },
    {
     "name": "stderr",
     "output_type": "stream",
     "text": [
      "WARNING:absl:`lr` is deprecated, please use `learning_rate` instead, or use the legacy optimizer, e.g.,tf.keras.optimizers.legacy.SGD.\n"
     ]
    },
    {
     "name": "stdout",
     "output_type": "stream",
     "text": [
      "Epoch 1/2\n",
      "1/1 [==============================] - 0s 301ms/step - loss: 24.4893 - mae: 24.9893 - lr: 1.0000e-08\n",
      "Epoch 2/2\n",
      "1/1 [==============================] - 0s 288ms/step - loss: 24.4891 - mae: 24.9891 - lr: 1.1220e-08\n",
      "1/1 [==============================] - 0s 25ms/step\n"
     ]
    },
    {
     "name": "stderr",
     "output_type": "stream",
     "text": [
      "WARNING:absl:`lr` is deprecated, please use `learning_rate` instead, or use the legacy optimizer, e.g.,tf.keras.optimizers.legacy.SGD.\n"
     ]
    },
    {
     "name": "stdout",
     "output_type": "stream",
     "text": [
      "Epoch 1/2\n",
      "1/1 [==============================] - 0s 429ms/step - loss: 45.1360 - mae: 45.6360 - lr: 1.0000e-08\n",
      "Epoch 2/2\n",
      "1/1 [==============================] - 0s 417ms/step - loss: 45.1358 - mae: 45.6358 - lr: 1.1220e-08\n",
      "1/1 [==============================] - 0s 26ms/step\n"
     ]
    },
    {
     "name": "stderr",
     "output_type": "stream",
     "text": [
      "WARNING:absl:`lr` is deprecated, please use `learning_rate` instead, or use the legacy optimizer, e.g.,tf.keras.optimizers.legacy.SGD.\n"
     ]
    },
    {
     "name": "stdout",
     "output_type": "stream",
     "text": [
      "Epoch 1/2\n",
      "1/1 [==============================] - 1s 585ms/step - loss: 29.1557 - mae: 29.6494 - lr: 1.0000e-08\n",
      "Epoch 2/2\n",
      "1/1 [==============================] - 1s 582ms/step - loss: 29.1555 - mae: 29.6492 - lr: 1.1220e-08\n",
      "1/1 [==============================] - 0s 27ms/step\n"
     ]
    },
    {
     "name": "stderr",
     "output_type": "stream",
     "text": [
      "WARNING:absl:`lr` is deprecated, please use `learning_rate` instead, or use the legacy optimizer, e.g.,tf.keras.optimizers.legacy.SGD.\n"
     ]
    },
    {
     "name": "stdout",
     "output_type": "stream",
     "text": [
      "Epoch 1/2\n",
      "1/1 [==============================] - 1s 742ms/step - loss: 44.2582 - mae: 44.7505 - lr: 1.0000e-08\n",
      "Epoch 2/2\n",
      "1/1 [==============================] - 1s 740ms/step - loss: 44.2576 - mae: 44.7498 - lr: 1.1220e-08\n",
      "1/1 [==============================] - 0s 23ms/step\n"
     ]
    },
    {
     "name": "stderr",
     "output_type": "stream",
     "text": [
      "WARNING:absl:`lr` is deprecated, please use `learning_rate` instead, or use the legacy optimizer, e.g.,tf.keras.optimizers.legacy.SGD.\n"
     ]
    },
    {
     "name": "stdout",
     "output_type": "stream",
     "text": [
      "Epoch 1/2\n",
      "1/1 [==============================] - 1s 1s/step - loss: 32.5844 - mae: 33.0803 - lr: 1.0000e-08\n",
      "Epoch 2/2\n",
      "1/1 [==============================] - 1s 1s/step - loss: 32.5841 - mae: 33.0801 - lr: 1.1220e-08\n",
      "1/1 [==============================] - 0s 25ms/step\n"
     ]
    },
    {
     "name": "stderr",
     "output_type": "stream",
     "text": [
      "WARNING:absl:`lr` is deprecated, please use `learning_rate` instead, or use the legacy optimizer, e.g.,tf.keras.optimizers.legacy.SGD.\n"
     ]
    },
    {
     "name": "stdout",
     "output_type": "stream",
     "text": [
      "Epoch 1/2\n",
      "1/1 [==============================] - 0s 310ms/step - loss: 44.3641 - mae: 44.8596 - lr: 1.0000e-08\n",
      "Epoch 2/2\n",
      "1/1 [==============================] - 0s 354ms/step - loss: 44.3637 - mae: 44.8593 - lr: 1.1220e-08\n",
      "1/1 [==============================] - 0s 28ms/step\n"
     ]
    },
    {
     "name": "stderr",
     "output_type": "stream",
     "text": [
      "WARNING:absl:`lr` is deprecated, please use `learning_rate` instead, or use the legacy optimizer, e.g.,tf.keras.optimizers.legacy.SGD.\n"
     ]
    },
    {
     "name": "stdout",
     "output_type": "stream",
     "text": [
      "Epoch 1/2\n",
      "1/1 [==============================] - 0s 499ms/step - loss: 42.2084 - mae: 42.7084 - lr: 1.0000e-08\n",
      "Epoch 2/2\n",
      "1/1 [==============================] - 0s 464ms/step - loss: 42.2076 - mae: 42.7076 - lr: 1.1220e-08\n",
      "1/1 [==============================] - 0s 28ms/step\n"
     ]
    },
    {
     "name": "stderr",
     "output_type": "stream",
     "text": [
      "WARNING:absl:`lr` is deprecated, please use `learning_rate` instead, or use the legacy optimizer, e.g.,tf.keras.optimizers.legacy.SGD.\n"
     ]
    },
    {
     "name": "stdout",
     "output_type": "stream",
     "text": [
      "Epoch 1/2\n",
      "1/1 [==============================] - 1s 567ms/step - loss: 42.4383 - mae: 42.9333 - lr: 1.0000e-08\n",
      "Epoch 2/2\n",
      "1/1 [==============================] - 1s 580ms/step - loss: 42.4380 - mae: 42.9331 - lr: 1.1220e-08\n",
      "1/1 [==============================] - 0s 27ms/step\n"
     ]
    },
    {
     "name": "stderr",
     "output_type": "stream",
     "text": [
      "WARNING:absl:`lr` is deprecated, please use `learning_rate` instead, or use the legacy optimizer, e.g.,tf.keras.optimizers.legacy.SGD.\n"
     ]
    },
    {
     "name": "stdout",
     "output_type": "stream",
     "text": [
      "Epoch 1/2\n",
      "1/1 [==============================] - 1s 849ms/step - loss: 36.3259 - mae: 36.8065 - lr: 1.0000e-08\n",
      "Epoch 2/2\n",
      "1/1 [==============================] - 1s 759ms/step - loss: 36.3257 - mae: 36.8063 - lr: 1.1220e-08\n",
      "1/1 [==============================] - 0s 22ms/step\n"
     ]
    },
    {
     "name": "stderr",
     "output_type": "stream",
     "text": [
      "WARNING:absl:`lr` is deprecated, please use `learning_rate` instead, or use the legacy optimizer, e.g.,tf.keras.optimizers.legacy.SGD.\n"
     ]
    },
    {
     "name": "stdout",
     "output_type": "stream",
     "text": [
      "Epoch 1/2\n",
      "1/1 [==============================] - 1s 953ms/step - loss: 43.1307 - mae: 43.6293 - lr: 1.0000e-08\n",
      "Epoch 2/2\n",
      "1/1 [==============================] - 1s 935ms/step - loss: 43.1305 - mae: 43.6291 - lr: 1.1220e-08\n",
      "1/1 [==============================] - 0s 24ms/step\n"
     ]
    },
    {
     "name": "stderr",
     "output_type": "stream",
     "text": [
      "WARNING:absl:`lr` is deprecated, please use `learning_rate` instead, or use the legacy optimizer, e.g.,tf.keras.optimizers.legacy.SGD.\n"
     ]
    },
    {
     "name": "stdout",
     "output_type": "stream",
     "text": [
      "Epoch 1/2\n",
      "1/1 [==============================] - 0s 299ms/step - loss: 38.3790 - mae: 38.8790 - lr: 1.0000e-08\n",
      "Epoch 2/2\n",
      "1/1 [==============================] - 0s 281ms/step - loss: 38.3788 - mae: 38.8788 - lr: 1.1220e-08\n",
      "1/1 [==============================] - 0s 27ms/step\n"
     ]
    },
    {
     "name": "stderr",
     "output_type": "stream",
     "text": [
      "WARNING:absl:`lr` is deprecated, please use `learning_rate` instead, or use the legacy optimizer, e.g.,tf.keras.optimizers.legacy.SGD.\n"
     ]
    },
    {
     "name": "stdout",
     "output_type": "stream",
     "text": [
      "Epoch 1/2\n",
      "1/1 [==============================] - 0s 427ms/step - loss: 30.6922 - mae: 31.1921 - lr: 1.0000e-08\n",
      "Epoch 2/2\n",
      "1/1 [==============================] - 0s 406ms/step - loss: 30.6919 - mae: 31.1918 - lr: 1.1220e-08\n",
      "1/1 [==============================] - 0s 26ms/step\n"
     ]
    },
    {
     "name": "stderr",
     "output_type": "stream",
     "text": [
      "WARNING:absl:`lr` is deprecated, please use `learning_rate` instead, or use the legacy optimizer, e.g.,tf.keras.optimizers.legacy.SGD.\n"
     ]
    },
    {
     "name": "stdout",
     "output_type": "stream",
     "text": [
      "Epoch 1/2\n",
      "1/1 [==============================] - 1s 586ms/step - loss: 27.2711 - mae: 27.7710 - lr: 1.0000e-08\n",
      "Epoch 2/2\n",
      "1/1 [==============================] - 1s 561ms/step - loss: 27.2709 - mae: 27.7709 - lr: 1.1220e-08\n",
      "1/1 [==============================] - 0s 27ms/step\n"
     ]
    },
    {
     "name": "stderr",
     "output_type": "stream",
     "text": [
      "WARNING:absl:`lr` is deprecated, please use `learning_rate` instead, or use the legacy optimizer, e.g.,tf.keras.optimizers.legacy.SGD.\n"
     ]
    },
    {
     "name": "stdout",
     "output_type": "stream",
     "text": [
      "Epoch 1/2\n",
      "1/1 [==============================] - 1s 750ms/step - loss: 39.3247 - mae: 39.8247 - lr: 1.0000e-08\n",
      "Epoch 2/2\n",
      "1/1 [==============================] - 1s 721ms/step - loss: 39.3245 - mae: 39.8245 - lr: 1.1220e-08\n",
      "1/1 [==============================] - 0s 22ms/step\n"
     ]
    },
    {
     "name": "stderr",
     "output_type": "stream",
     "text": [
      "WARNING:absl:`lr` is deprecated, please use `learning_rate` instead, or use the legacy optimizer, e.g.,tf.keras.optimizers.legacy.SGD.\n"
     ]
    },
    {
     "name": "stdout",
     "output_type": "stream",
     "text": [
      "Epoch 1/2\n",
      "1/1 [==============================] - 1s 939ms/step - loss: 37.2480 - mae: 37.7479 - lr: 1.0000e-08\n",
      "Epoch 2/2\n",
      "1/1 [==============================] - 1s 936ms/step - loss: 37.2475 - mae: 37.7475 - lr: 1.1220e-08\n",
      "1/1 [==============================] - 0s 22ms/step\n"
     ]
    },
    {
     "name": "stderr",
     "output_type": "stream",
     "text": [
      "WARNING:absl:`lr` is deprecated, please use `learning_rate` instead, or use the legacy optimizer, e.g.,tf.keras.optimizers.legacy.SGD.\n"
     ]
    },
    {
     "name": "stdout",
     "output_type": "stream",
     "text": [
      "Epoch 1/2\n",
      "1/1 [==============================] - 0s 295ms/step - loss: 43.8160 - mae: 44.3159 - lr: 1.0000e-08\n",
      "Epoch 2/2\n",
      "1/1 [==============================] - 0s 281ms/step - loss: 43.8156 - mae: 44.3155 - lr: 1.1220e-08\n",
      "1/1 [==============================] - 0s 25ms/step\n"
     ]
    },
    {
     "name": "stderr",
     "output_type": "stream",
     "text": [
      "WARNING:absl:`lr` is deprecated, please use `learning_rate` instead, or use the legacy optimizer, e.g.,tf.keras.optimizers.legacy.SGD.\n"
     ]
    },
    {
     "name": "stdout",
     "output_type": "stream",
     "text": [
      "Epoch 1/2\n",
      "1/1 [==============================] - 0s 427ms/step - loss: 30.4424 - mae: 30.9424 - lr: 1.0000e-08\n",
      "Epoch 2/2\n",
      "1/1 [==============================] - 0s 404ms/step - loss: 30.4423 - mae: 30.9423 - lr: 1.1220e-08\n",
      "1/1 [==============================] - 0s 25ms/step\n"
     ]
    },
    {
     "name": "stderr",
     "output_type": "stream",
     "text": [
      "WARNING:absl:`lr` is deprecated, please use `learning_rate` instead, or use the legacy optimizer, e.g.,tf.keras.optimizers.legacy.SGD.\n"
     ]
    },
    {
     "name": "stdout",
     "output_type": "stream",
     "text": [
      "Epoch 1/2\n",
      "1/1 [==============================] - 1s 568ms/step - loss: 33.3796 - mae: 33.8747 - lr: 1.0000e-08\n",
      "Epoch 2/2\n",
      "1/1 [==============================] - 1s 547ms/step - loss: 33.3794 - mae: 33.8745 - lr: 1.1220e-08\n",
      "1/1 [==============================] - 0s 27ms/step\n"
     ]
    },
    {
     "name": "stderr",
     "output_type": "stream",
     "text": [
      "WARNING:absl:`lr` is deprecated, please use `learning_rate` instead, or use the legacy optimizer, e.g.,tf.keras.optimizers.legacy.SGD.\n"
     ]
    },
    {
     "name": "stdout",
     "output_type": "stream",
     "text": [
      "Epoch 1/2\n",
      "1/1 [==============================] - 1s 792ms/step - loss: 21.6079 - mae: 22.1079 - lr: 1.0000e-08\n",
      "Epoch 2/2\n",
      "1/1 [==============================] - 1s 728ms/step - loss: 21.6076 - mae: 22.1075 - lr: 1.1220e-08\n",
      "1/1 [==============================] - 0s 22ms/step\n"
     ]
    },
    {
     "name": "stderr",
     "output_type": "stream",
     "text": [
      "WARNING:absl:`lr` is deprecated, please use `learning_rate` instead, or use the legacy optimizer, e.g.,tf.keras.optimizers.legacy.SGD.\n"
     ]
    },
    {
     "name": "stdout",
     "output_type": "stream",
     "text": [
      "Epoch 1/2\n",
      "1/1 [==============================] - 1s 954ms/step - loss: 51.9054 - mae: 52.4054 - lr: 1.0000e-08\n",
      "Epoch 2/2\n",
      "1/1 [==============================] - 1s 925ms/step - loss: 51.9050 - mae: 52.4050 - lr: 1.1220e-08\n",
      "1/1 [==============================] - 0s 22ms/step\n"
     ]
    },
    {
     "name": "stderr",
     "output_type": "stream",
     "text": [
      "WARNING:absl:`lr` is deprecated, please use `learning_rate` instead, or use the legacy optimizer, e.g.,tf.keras.optimizers.legacy.SGD.\n"
     ]
    },
    {
     "name": "stdout",
     "output_type": "stream",
     "text": [
      "Epoch 1/2\n",
      "1/1 [==============================] - 0s 297ms/step - loss: 36.9798 - mae: 37.4784 - lr: 1.0000e-08\n",
      "Epoch 2/2\n",
      "1/1 [==============================] - 0s 290ms/step - loss: 36.9794 - mae: 37.4780 - lr: 1.1220e-08\n",
      "1/1 [==============================] - 0s 26ms/step\n"
     ]
    },
    {
     "name": "stderr",
     "output_type": "stream",
     "text": [
      "WARNING:absl:`lr` is deprecated, please use `learning_rate` instead, or use the legacy optimizer, e.g.,tf.keras.optimizers.legacy.SGD.\n"
     ]
    },
    {
     "name": "stdout",
     "output_type": "stream",
     "text": [
      "Epoch 1/2\n",
      "1/1 [==============================] - 0s 411ms/step - loss: 26.6758 - mae: 27.1758 - lr: 1.0000e-08\n",
      "Epoch 2/2\n",
      "1/1 [==============================] - 0s 405ms/step - loss: 26.6752 - mae: 27.1752 - lr: 1.1220e-08\n",
      "1/1 [==============================] - 0s 26ms/step\n"
     ]
    },
    {
     "name": "stderr",
     "output_type": "stream",
     "text": [
      "WARNING:absl:`lr` is deprecated, please use `learning_rate` instead, or use the legacy optimizer, e.g.,tf.keras.optimizers.legacy.SGD.\n"
     ]
    },
    {
     "name": "stdout",
     "output_type": "stream",
     "text": [
      "Epoch 1/2\n",
      "1/1 [==============================] - 1s 583ms/step - loss: 22.7597 - mae: 23.2597 - lr: 1.0000e-08\n",
      "Epoch 2/2\n",
      "1/1 [==============================] - 1s 560ms/step - loss: 22.7596 - mae: 23.2596 - lr: 1.1220e-08\n",
      "1/1 [==============================] - 0s 27ms/step\n"
     ]
    },
    {
     "name": "stderr",
     "output_type": "stream",
     "text": [
      "WARNING:absl:`lr` is deprecated, please use `learning_rate` instead, or use the legacy optimizer, e.g.,tf.keras.optimizers.legacy.SGD.\n"
     ]
    },
    {
     "name": "stdout",
     "output_type": "stream",
     "text": [
      "Epoch 1/2\n",
      "1/1 [==============================] - 1s 760ms/step - loss: 28.5640 - mae: 29.0640 - lr: 1.0000e-08\n",
      "Epoch 2/2\n",
      "1/1 [==============================] - 1s 736ms/step - loss: 28.5632 - mae: 29.0632 - lr: 1.1220e-08\n",
      "1/1 [==============================] - 0s 22ms/step\n"
     ]
    },
    {
     "name": "stderr",
     "output_type": "stream",
     "text": [
      "WARNING:absl:`lr` is deprecated, please use `learning_rate` instead, or use the legacy optimizer, e.g.,tf.keras.optimizers.legacy.SGD.\n"
     ]
    },
    {
     "name": "stdout",
     "output_type": "stream",
     "text": [
      "Epoch 1/2\n",
      "1/1 [==============================] - 1s 949ms/step - loss: 31.5466 - mae: 32.0407 - lr: 1.0000e-08\n",
      "Epoch 2/2\n",
      "1/1 [==============================] - 1s 932ms/step - loss: 31.5464 - mae: 32.0404 - lr: 1.1220e-08\n",
      "1/1 [==============================] - 0s 22ms/step\n"
     ]
    },
    {
     "name": "stderr",
     "output_type": "stream",
     "text": [
      "WARNING:absl:`lr` is deprecated, please use `learning_rate` instead, or use the legacy optimizer, e.g.,tf.keras.optimizers.legacy.SGD.\n"
     ]
    },
    {
     "name": "stdout",
     "output_type": "stream",
     "text": [
      "Epoch 1/2\n",
      "1/1 [==============================] - 0s 298ms/step - loss: 40.2609 - mae: 40.7564 - lr: 1.0000e-08\n",
      "Epoch 2/2\n",
      "1/1 [==============================] - 0s 279ms/step - loss: 40.2608 - mae: 40.7562 - lr: 1.1220e-08\n",
      "1/1 [==============================] - 0s 23ms/step\n"
     ]
    },
    {
     "name": "stderr",
     "output_type": "stream",
     "text": [
      "WARNING:absl:`lr` is deprecated, please use `learning_rate` instead, or use the legacy optimizer, e.g.,tf.keras.optimizers.legacy.SGD.\n"
     ]
    },
    {
     "name": "stdout",
     "output_type": "stream",
     "text": [
      "Epoch 1/2\n",
      "1/1 [==============================] - 0s 423ms/step - loss: 23.7822 - mae: 24.2695 - lr: 1.0000e-08\n",
      "Epoch 2/2\n",
      "1/1 [==============================] - 0s 427ms/step - loss: 23.7818 - mae: 24.2692 - lr: 1.1220e-08\n",
      "1/1 [==============================] - 0s 26ms/step\n"
     ]
    },
    {
     "name": "stderr",
     "output_type": "stream",
     "text": [
      "WARNING:absl:`lr` is deprecated, please use `learning_rate` instead, or use the legacy optimizer, e.g.,tf.keras.optimizers.legacy.SGD.\n"
     ]
    },
    {
     "name": "stdout",
     "output_type": "stream",
     "text": [
      "Epoch 1/2\n",
      "1/1 [==============================] - 1s 569ms/step - loss: 30.3071 - mae: 30.8071 - lr: 1.0000e-08\n",
      "Epoch 2/2\n",
      "1/1 [==============================] - 1s 556ms/step - loss: 30.3069 - mae: 30.8069 - lr: 1.1220e-08\n",
      "1/1 [==============================] - 0s 25ms/step\n"
     ]
    },
    {
     "name": "stderr",
     "output_type": "stream",
     "text": [
      "WARNING:absl:`lr` is deprecated, please use `learning_rate` instead, or use the legacy optimizer, e.g.,tf.keras.optimizers.legacy.SGD.\n"
     ]
    },
    {
     "name": "stdout",
     "output_type": "stream",
     "text": [
      "Epoch 1/2\n",
      "1/1 [==============================] - 1s 734ms/step - loss: 20.2145 - mae: 20.7144 - lr: 1.0000e-08\n",
      "Epoch 2/2\n",
      "1/1 [==============================] - 1s 728ms/step - loss: 20.2144 - mae: 20.7143 - lr: 1.1220e-08\n",
      "1/1 [==============================] - 0s 22ms/step\n"
     ]
    },
    {
     "name": "stderr",
     "output_type": "stream",
     "text": [
      "WARNING:absl:`lr` is deprecated, please use `learning_rate` instead, or use the legacy optimizer, e.g.,tf.keras.optimizers.legacy.SGD.\n"
     ]
    },
    {
     "name": "stdout",
     "output_type": "stream",
     "text": [
      "Epoch 1/2\n",
      "1/1 [==============================] - 1s 954ms/step - loss: 28.1634 - mae: 28.6634 - lr: 1.0000e-08\n",
      "Epoch 2/2\n",
      "1/1 [==============================] - 1s 965ms/step - loss: 28.1633 - mae: 28.6632 - lr: 1.1220e-08\n",
      "1/1 [==============================] - 0s 22ms/step\n"
     ]
    },
    {
     "name": "stderr",
     "output_type": "stream",
     "text": [
      "WARNING:absl:`lr` is deprecated, please use `learning_rate` instead, or use the legacy optimizer, e.g.,tf.keras.optimizers.legacy.SGD.\n"
     ]
    },
    {
     "name": "stdout",
     "output_type": "stream",
     "text": [
      "Epoch 1/2\n",
      "1/1 [==============================] - 0s 297ms/step - loss: 43.3368 - mae: 43.8368 - lr: 1.0000e-08\n",
      "Epoch 2/2\n",
      "1/1 [==============================] - 0s 280ms/step - loss: 43.3363 - mae: 43.8363 - lr: 1.1220e-08\n",
      "1/1 [==============================] - 0s 24ms/step\n"
     ]
    },
    {
     "name": "stderr",
     "output_type": "stream",
     "text": [
      "WARNING:absl:`lr` is deprecated, please use `learning_rate` instead, or use the legacy optimizer, e.g.,tf.keras.optimizers.legacy.SGD.\n"
     ]
    },
    {
     "name": "stdout",
     "output_type": "stream",
     "text": [
      "Epoch 1/2\n",
      "1/1 [==============================] - 0s 424ms/step - loss: 31.8670 - mae: 32.3670 - lr: 1.0000e-08\n",
      "Epoch 2/2\n",
      "1/1 [==============================] - 0s 416ms/step - loss: 31.8667 - mae: 32.3667 - lr: 1.1220e-08\n",
      "1/1 [==============================] - 0s 27ms/step\n"
     ]
    },
    {
     "name": "stderr",
     "output_type": "stream",
     "text": [
      "WARNING:absl:`lr` is deprecated, please use `learning_rate` instead, or use the legacy optimizer, e.g.,tf.keras.optimizers.legacy.SGD.\n"
     ]
    },
    {
     "name": "stdout",
     "output_type": "stream",
     "text": [
      "Epoch 1/2\n",
      "1/1 [==============================] - 1s 552ms/step - loss: 27.7250 - mae: 28.2207 - lr: 1.0000e-08\n",
      "Epoch 2/2\n",
      "1/1 [==============================] - 1s 558ms/step - loss: 27.7249 - mae: 28.2206 - lr: 1.1220e-08\n",
      "1/1 [==============================] - 0s 26ms/step\n"
     ]
    },
    {
     "name": "stderr",
     "output_type": "stream",
     "text": [
      "WARNING:absl:`lr` is deprecated, please use `learning_rate` instead, or use the legacy optimizer, e.g.,tf.keras.optimizers.legacy.SGD.\n"
     ]
    },
    {
     "name": "stdout",
     "output_type": "stream",
     "text": [
      "Epoch 1/2\n",
      "1/1 [==============================] - 1s 721ms/step - loss: 33.4041 - mae: 33.9041 - lr: 1.0000e-08\n",
      "Epoch 2/2\n",
      "1/1 [==============================] - 1s 732ms/step - loss: 33.4039 - mae: 33.9039 - lr: 1.1220e-08\n",
      "1/1 [==============================] - 0s 22ms/step\n"
     ]
    },
    {
     "name": "stderr",
     "output_type": "stream",
     "text": [
      "WARNING:absl:`lr` is deprecated, please use `learning_rate` instead, or use the legacy optimizer, e.g.,tf.keras.optimizers.legacy.SGD.\n"
     ]
    },
    {
     "name": "stdout",
     "output_type": "stream",
     "text": [
      "Epoch 1/2\n",
      "1/1 [==============================] - 1s 929ms/step - loss: 51.5604 - mae: 52.0604 - lr: 1.0000e-08\n",
      "Epoch 2/2\n",
      "1/1 [==============================] - 1s 932ms/step - loss: 51.5599 - mae: 52.0599 - lr: 1.1220e-08\n",
      "1/1 [==============================] - 0s 22ms/step\n"
     ]
    },
    {
     "name": "stderr",
     "output_type": "stream",
     "text": [
      "WARNING:absl:`lr` is deprecated, please use `learning_rate` instead, or use the legacy optimizer, e.g.,tf.keras.optimizers.legacy.SGD.\n"
     ]
    },
    {
     "name": "stdout",
     "output_type": "stream",
     "text": [
      "Epoch 1/2\n",
      "1/1 [==============================] - 0s 297ms/step - loss: 38.4129 - mae: 38.9129 - lr: 1.0000e-08\n",
      "Epoch 2/2\n",
      "1/1 [==============================] - 0s 282ms/step - loss: 38.4123 - mae: 38.9122 - lr: 1.1220e-08\n",
      "1/1 [==============================] - 0s 24ms/step\n"
     ]
    },
    {
     "name": "stderr",
     "output_type": "stream",
     "text": [
      "WARNING:absl:`lr` is deprecated, please use `learning_rate` instead, or use the legacy optimizer, e.g.,tf.keras.optimizers.legacy.SGD.\n"
     ]
    },
    {
     "name": "stdout",
     "output_type": "stream",
     "text": [
      "Epoch 1/2\n",
      "1/1 [==============================] - 0s 418ms/step - loss: 25.4328 - mae: 25.9300 - lr: 1.0000e-08\n",
      "Epoch 2/2\n",
      "1/1 [==============================] - 0s 410ms/step - loss: 25.4324 - mae: 25.9295 - lr: 1.1220e-08\n",
      "1/1 [==============================] - 0s 25ms/step\n"
     ]
    },
    {
     "name": "stderr",
     "output_type": "stream",
     "text": [
      "WARNING:absl:`lr` is deprecated, please use `learning_rate` instead, or use the legacy optimizer, e.g.,tf.keras.optimizers.legacy.SGD.\n"
     ]
    },
    {
     "name": "stdout",
     "output_type": "stream",
     "text": [
      "Epoch 1/2\n",
      "1/1 [==============================] - 1s 566ms/step - loss: 40.1172 - mae: 40.6172 - lr: 1.0000e-08\n",
      "Epoch 2/2\n",
      "1/1 [==============================] - 1s 556ms/step - loss: 40.1169 - mae: 40.6169 - lr: 1.1220e-08\n",
      "1/1 [==============================] - 0s 27ms/step\n"
     ]
    },
    {
     "name": "stderr",
     "output_type": "stream",
     "text": [
      "WARNING:absl:`lr` is deprecated, please use `learning_rate` instead, or use the legacy optimizer, e.g.,tf.keras.optimizers.legacy.SGD.\n"
     ]
    },
    {
     "name": "stdout",
     "output_type": "stream",
     "text": [
      "Epoch 1/2\n",
      "1/1 [==============================] - 1s 815ms/step - loss: 20.5485 - mae: 21.0385 - lr: 1.0000e-08\n",
      "Epoch 2/2\n",
      "1/1 [==============================] - 1s 725ms/step - loss: 20.5484 - mae: 21.0383 - lr: 1.1220e-08\n",
      "1/1 [==============================] - 0s 24ms/step\n"
     ]
    },
    {
     "name": "stderr",
     "output_type": "stream",
     "text": [
      "WARNING:absl:`lr` is deprecated, please use `learning_rate` instead, or use the legacy optimizer, e.g.,tf.keras.optimizers.legacy.SGD.\n"
     ]
    },
    {
     "name": "stdout",
     "output_type": "stream",
     "text": [
      "Epoch 1/2\n",
      "1/1 [==============================] - 1s 957ms/step - loss: 41.4985 - mae: 41.9984 - lr: 1.0000e-08\n",
      "Epoch 2/2\n",
      "1/1 [==============================] - 1s 934ms/step - loss: 41.4980 - mae: 41.9980 - lr: 1.1220e-08\n",
      "1/1 [==============================] - 0s 22ms/step\n"
     ]
    },
    {
     "name": "stderr",
     "output_type": "stream",
     "text": [
      "WARNING:absl:`lr` is deprecated, please use `learning_rate` instead, or use the legacy optimizer, e.g.,tf.keras.optimizers.legacy.SGD.\n"
     ]
    },
    {
     "name": "stdout",
     "output_type": "stream",
     "text": [
      "Epoch 1/2\n",
      "1/1 [==============================] - 0s 301ms/step - loss: 66.5323 - mae: 67.0283 - lr: 1.0000e-08\n",
      "Epoch 2/2\n",
      "1/1 [==============================] - 0s 282ms/step - loss: 66.5315 - mae: 67.0275 - lr: 1.1220e-08\n",
      "1/1 [==============================] - 0s 24ms/step\n"
     ]
    },
    {
     "name": "stderr",
     "output_type": "stream",
     "text": [
      "WARNING:absl:`lr` is deprecated, please use `learning_rate` instead, or use the legacy optimizer, e.g.,tf.keras.optimizers.legacy.SGD.\n"
     ]
    },
    {
     "name": "stdout",
     "output_type": "stream",
     "text": [
      "Epoch 1/2\n",
      "1/1 [==============================] - 0s 428ms/step - loss: 43.5808 - mae: 44.0742 - lr: 1.0000e-08\n",
      "Epoch 2/2\n",
      "1/1 [==============================] - 0s 426ms/step - loss: 43.5805 - mae: 44.0739 - lr: 1.1220e-08\n",
      "1/1 [==============================] - 0s 26ms/step\n"
     ]
    },
    {
     "name": "stderr",
     "output_type": "stream",
     "text": [
      "WARNING:absl:`lr` is deprecated, please use `learning_rate` instead, or use the legacy optimizer, e.g.,tf.keras.optimizers.legacy.SGD.\n"
     ]
    },
    {
     "name": "stdout",
     "output_type": "stream",
     "text": [
      "Epoch 1/2\n",
      "1/1 [==============================] - 1s 586ms/step - loss: 35.8989 - mae: 36.3913 - lr: 1.0000e-08\n",
      "Epoch 2/2\n",
      "1/1 [==============================] - 1s 571ms/step - loss: 35.8987 - mae: 36.3911 - lr: 1.1220e-08\n",
      "1/1 [==============================] - 0s 28ms/step\n"
     ]
    },
    {
     "name": "stderr",
     "output_type": "stream",
     "text": [
      "WARNING:absl:`lr` is deprecated, please use `learning_rate` instead, or use the legacy optimizer, e.g.,tf.keras.optimizers.legacy.SGD.\n"
     ]
    },
    {
     "name": "stdout",
     "output_type": "stream",
     "text": [
      "Epoch 1/2\n",
      "1/1 [==============================] - 1s 781ms/step - loss: 22.9033 - mae: 23.3895 - lr: 1.0000e-08\n",
      "Epoch 2/2\n",
      "1/1 [==============================] - 2s 2s/step - loss: 22.9031 - mae: 23.3893 - lr: 1.1220e-08\n",
      "1/1 [==============================] - 0s 30ms/step\n"
     ]
    },
    {
     "name": "stderr",
     "output_type": "stream",
     "text": [
      "WARNING:absl:`lr` is deprecated, please use `learning_rate` instead, or use the legacy optimizer, e.g.,tf.keras.optimizers.legacy.SGD.\n"
     ]
    },
    {
     "name": "stdout",
     "output_type": "stream",
     "text": [
      "Epoch 1/2\n",
      "1/1 [==============================] - 2s 2s/step - loss: 44.1446 - mae: 44.6417 - lr: 1.0000e-08\n",
      "Epoch 2/2\n",
      "1/1 [==============================] - 1s 1s/step - loss: 44.1442 - mae: 44.6414 - lr: 1.1220e-08\n",
      "1/1 [==============================] - 0s 37ms/step\n"
     ]
    },
    {
     "name": "stderr",
     "output_type": "stream",
     "text": [
      "WARNING:absl:`lr` is deprecated, please use `learning_rate` instead, or use the legacy optimizer, e.g.,tf.keras.optimizers.legacy.SGD.\n"
     ]
    },
    {
     "name": "stdout",
     "output_type": "stream",
     "text": [
      "Epoch 1/2\n",
      "1/1 [==============================] - 0s 335ms/step - loss: 33.9042 - mae: 34.3975 - lr: 1.0000e-08\n",
      "Epoch 2/2\n",
      "1/1 [==============================] - 0s 310ms/step - loss: 33.9037 - mae: 34.3971 - lr: 1.1220e-08\n",
      "1/1 [==============================] - 0s 26ms/step\n"
     ]
    },
    {
     "name": "stderr",
     "output_type": "stream",
     "text": [
      "WARNING:absl:`lr` is deprecated, please use `learning_rate` instead, or use the legacy optimizer, e.g.,tf.keras.optimizers.legacy.SGD.\n"
     ]
    },
    {
     "name": "stdout",
     "output_type": "stream",
     "text": [
      "Epoch 1/2\n",
      "1/1 [==============================] - 0s 445ms/step - loss: 36.3773 - mae: 36.8770 - lr: 1.0000e-08\n",
      "Epoch 2/2\n",
      "1/1 [==============================] - 0s 431ms/step - loss: 36.3770 - mae: 36.8767 - lr: 1.1220e-08\n",
      "1/1 [==============================] - 0s 25ms/step\n"
     ]
    },
    {
     "name": "stderr",
     "output_type": "stream",
     "text": [
      "WARNING:absl:`lr` is deprecated, please use `learning_rate` instead, or use the legacy optimizer, e.g.,tf.keras.optimizers.legacy.SGD.\n"
     ]
    },
    {
     "name": "stdout",
     "output_type": "stream",
     "text": [
      "Epoch 1/2\n",
      "1/1 [==============================] - 1s 611ms/step - loss: 31.5546 - mae: 32.0506 - lr: 1.0000e-08\n",
      "Epoch 2/2\n",
      "1/1 [==============================] - 1s 596ms/step - loss: 31.5544 - mae: 32.0504 - lr: 1.1220e-08\n",
      "1/1 [==============================] - 0s 33ms/step\n"
     ]
    },
    {
     "name": "stderr",
     "output_type": "stream",
     "text": [
      "WARNING:absl:`lr` is deprecated, please use `learning_rate` instead, or use the legacy optimizer, e.g.,tf.keras.optimizers.legacy.SGD.\n"
     ]
    },
    {
     "name": "stdout",
     "output_type": "stream",
     "text": [
      "Epoch 1/2\n",
      "1/1 [==============================] - 1s 796ms/step - loss: 48.9306 - mae: 49.4306 - lr: 1.0000e-08\n",
      "Epoch 2/2\n",
      "1/1 [==============================] - 1s 845ms/step - loss: 48.9301 - mae: 49.4301 - lr: 1.1220e-08\n",
      "1/1 [==============================] - 0s 24ms/step\n"
     ]
    },
    {
     "name": "stderr",
     "output_type": "stream",
     "text": [
      "WARNING:absl:`lr` is deprecated, please use `learning_rate` instead, or use the legacy optimizer, e.g.,tf.keras.optimizers.legacy.SGD.\n"
     ]
    },
    {
     "name": "stdout",
     "output_type": "stream",
     "text": [
      "Epoch 1/2\n",
      "1/1 [==============================] - 1s 967ms/step - loss: 22.6046 - mae: 23.1046 - lr: 1.0000e-08\n",
      "Epoch 2/2\n",
      "1/1 [==============================] - 1s 952ms/step - loss: 22.6045 - mae: 23.1044 - lr: 1.1220e-08\n",
      "1/1 [==============================] - 0s 21ms/step\n"
     ]
    },
    {
     "name": "stderr",
     "output_type": "stream",
     "text": [
      "WARNING:absl:`lr` is deprecated, please use `learning_rate` instead, or use the legacy optimizer, e.g.,tf.keras.optimizers.legacy.SGD.\n"
     ]
    },
    {
     "name": "stdout",
     "output_type": "stream",
     "text": [
      "Epoch 1/2\n",
      "1/1 [==============================] - 0s 300ms/step - loss: 34.8017 - mae: 35.3014 - lr: 1.0000e-08\n",
      "Epoch 2/2\n",
      "1/1 [==============================] - 0s 295ms/step - loss: 34.8013 - mae: 35.3010 - lr: 1.1220e-08\n",
      "1/1 [==============================] - 0s 24ms/step\n"
     ]
    },
    {
     "name": "stderr",
     "output_type": "stream",
     "text": [
      "WARNING:absl:`lr` is deprecated, please use `learning_rate` instead, or use the legacy optimizer, e.g.,tf.keras.optimizers.legacy.SGD.\n"
     ]
    },
    {
     "name": "stdout",
     "output_type": "stream",
     "text": [
      "Epoch 1/2\n",
      "1/1 [==============================] - 0s 429ms/step - loss: 19.8785 - mae: 20.3717 - lr: 1.0000e-08\n",
      "Epoch 2/2\n",
      "1/1 [==============================] - 0s 411ms/step - loss: 19.8783 - mae: 20.3715 - lr: 1.1220e-08\n",
      "1/1 [==============================] - 0s 24ms/step\n"
     ]
    },
    {
     "name": "stderr",
     "output_type": "stream",
     "text": [
      "WARNING:absl:`lr` is deprecated, please use `learning_rate` instead, or use the legacy optimizer, e.g.,tf.keras.optimizers.legacy.SGD.\n"
     ]
    },
    {
     "name": "stdout",
     "output_type": "stream",
     "text": [
      "Epoch 1/2\n",
      "1/1 [==============================] - 1s 584ms/step - loss: 27.5796 - mae: 28.0693 - lr: 1.0000e-08\n",
      "Epoch 2/2\n",
      "1/1 [==============================] - 1s 562ms/step - loss: 27.5795 - mae: 28.0691 - lr: 1.1220e-08\n",
      "1/1 [==============================] - 0s 29ms/step\n"
     ]
    },
    {
     "name": "stderr",
     "output_type": "stream",
     "text": [
      "WARNING:absl:`lr` is deprecated, please use `learning_rate` instead, or use the legacy optimizer, e.g.,tf.keras.optimizers.legacy.SGD.\n"
     ]
    },
    {
     "name": "stdout",
     "output_type": "stream",
     "text": [
      "Epoch 1/2\n",
      "1/1 [==============================] - 1s 750ms/step - loss: 37.8785 - mae: 38.3747 - lr: 1.0000e-08\n",
      "Epoch 2/2\n",
      "1/1 [==============================] - 1s 755ms/step - loss: 37.8780 - mae: 38.3741 - lr: 1.1220e-08\n",
      "1/1 [==============================] - 0s 22ms/step\n"
     ]
    },
    {
     "name": "stderr",
     "output_type": "stream",
     "text": [
      "WARNING:absl:`lr` is deprecated, please use `learning_rate` instead, or use the legacy optimizer, e.g.,tf.keras.optimizers.legacy.SGD.\n"
     ]
    },
    {
     "name": "stdout",
     "output_type": "stream",
     "text": [
      "Epoch 1/2\n",
      "1/1 [==============================] - 1s 966ms/step - loss: 65.2525 - mae: 65.7525 - lr: 1.0000e-08\n",
      "Epoch 2/2\n",
      "1/1 [==============================] - 1s 962ms/step - loss: 65.2518 - mae: 65.7518 - lr: 1.1220e-08\n",
      "1/1 [==============================] - 0s 25ms/step\n"
     ]
    },
    {
     "name": "stderr",
     "output_type": "stream",
     "text": [
      "WARNING:absl:`lr` is deprecated, please use `learning_rate` instead, or use the legacy optimizer, e.g.,tf.keras.optimizers.legacy.SGD.\n"
     ]
    },
    {
     "name": "stdout",
     "output_type": "stream",
     "text": [
      "Epoch 1/2\n",
      "1/1 [==============================] - 0s 307ms/step - loss: 39.8253 - mae: 40.3253 - lr: 1.0000e-08\n",
      "Epoch 2/2\n",
      "1/1 [==============================] - 0s 288ms/step - loss: 39.8249 - mae: 40.3248 - lr: 1.1220e-08\n",
      "1/1 [==============================] - 0s 23ms/step\n"
     ]
    },
    {
     "name": "stderr",
     "output_type": "stream",
     "text": [
      "WARNING:absl:`lr` is deprecated, please use `learning_rate` instead, or use the legacy optimizer, e.g.,tf.keras.optimizers.legacy.SGD.\n"
     ]
    },
    {
     "name": "stdout",
     "output_type": "stream",
     "text": [
      "Epoch 1/2\n",
      "1/1 [==============================] - 0s 422ms/step - loss: 65.9439 - mae: 66.4312 - lr: 1.0000e-08\n",
      "Epoch 2/2\n",
      "1/1 [==============================] - 0s 431ms/step - loss: 65.9432 - mae: 66.4305 - lr: 1.1220e-08\n",
      "1/1 [==============================] - 0s 24ms/step\n"
     ]
    },
    {
     "name": "stderr",
     "output_type": "stream",
     "text": [
      "WARNING:absl:`lr` is deprecated, please use `learning_rate` instead, or use the legacy optimizer, e.g.,tf.keras.optimizers.legacy.SGD.\n"
     ]
    },
    {
     "name": "stdout",
     "output_type": "stream",
     "text": [
      "Epoch 1/2\n",
      "1/1 [==============================] - 1s 578ms/step - loss: 40.5559 - mae: 41.0492 - lr: 1.0000e-08\n",
      "Epoch 2/2\n",
      "1/1 [==============================] - 1s 567ms/step - loss: 40.5554 - mae: 41.0488 - lr: 1.1220e-08\n",
      "1/1 [==============================] - 0s 28ms/step\n"
     ]
    },
    {
     "name": "stderr",
     "output_type": "stream",
     "text": [
      "WARNING:absl:`lr` is deprecated, please use `learning_rate` instead, or use the legacy optimizer, e.g.,tf.keras.optimizers.legacy.SGD.\n"
     ]
    },
    {
     "name": "stdout",
     "output_type": "stream",
     "text": [
      "Epoch 1/2\n",
      "1/1 [==============================] - 1s 756ms/step - loss: 45.5543 - mae: 46.0543 - lr: 1.0000e-08\n",
      "Epoch 2/2\n",
      "1/1 [==============================] - 1s 740ms/step - loss: 45.5539 - mae: 46.0539 - lr: 1.1220e-08\n",
      "1/1 [==============================] - 0s 23ms/step\n"
     ]
    },
    {
     "name": "stderr",
     "output_type": "stream",
     "text": [
      "WARNING:absl:`lr` is deprecated, please use `learning_rate` instead, or use the legacy optimizer, e.g.,tf.keras.optimizers.legacy.SGD.\n"
     ]
    },
    {
     "name": "stdout",
     "output_type": "stream",
     "text": [
      "Epoch 1/2\n",
      "1/1 [==============================] - 1s 994ms/step - loss: 40.6874 - mae: 41.1874 - lr: 1.0000e-08\n",
      "Epoch 2/2\n",
      "1/1 [==============================] - 1s 936ms/step - loss: 40.6869 - mae: 41.1869 - lr: 1.1220e-08\n",
      "1/1 [==============================] - 0s 21ms/step\n"
     ]
    },
    {
     "name": "stderr",
     "output_type": "stream",
     "text": [
      "WARNING:absl:`lr` is deprecated, please use `learning_rate` instead, or use the legacy optimizer, e.g.,tf.keras.optimizers.legacy.SGD.\n"
     ]
    },
    {
     "name": "stdout",
     "output_type": "stream",
     "text": [
      "Epoch 1/2\n",
      "1/1 [==============================] - 0s 300ms/step - loss: 25.2927 - mae: 25.7913 - lr: 1.0000e-08\n",
      "Epoch 2/2\n",
      "1/1 [==============================] - 0s 298ms/step - loss: 25.2926 - mae: 25.7912 - lr: 1.1220e-08\n",
      "1/1 [==============================] - 0s 25ms/step\n"
     ]
    },
    {
     "name": "stderr",
     "output_type": "stream",
     "text": [
      "WARNING:absl:`lr` is deprecated, please use `learning_rate` instead, or use the legacy optimizer, e.g.,tf.keras.optimizers.legacy.SGD.\n"
     ]
    },
    {
     "name": "stdout",
     "output_type": "stream",
     "text": [
      "Epoch 1/2\n",
      "1/1 [==============================] - 0s 426ms/step - loss: 30.5840 - mae: 31.0839 - lr: 1.0000e-08\n",
      "Epoch 2/2\n",
      "1/1 [==============================] - 0s 426ms/step - loss: 30.5838 - mae: 31.0837 - lr: 1.1220e-08\n",
      "1/1 [==============================] - 0s 24ms/step\n"
     ]
    },
    {
     "name": "stderr",
     "output_type": "stream",
     "text": [
      "WARNING:absl:`lr` is deprecated, please use `learning_rate` instead, or use the legacy optimizer, e.g.,tf.keras.optimizers.legacy.SGD.\n"
     ]
    },
    {
     "name": "stdout",
     "output_type": "stream",
     "text": [
      "Epoch 1/2\n",
      "1/1 [==============================] - 1s 577ms/step - loss: 27.6455 - mae: 28.1455 - lr: 1.0000e-08\n",
      "Epoch 2/2\n",
      "1/1 [==============================] - 1s 568ms/step - loss: 27.6453 - mae: 28.1452 - lr: 1.1220e-08\n",
      "1/1 [==============================] - 0s 26ms/step\n"
     ]
    },
    {
     "name": "stderr",
     "output_type": "stream",
     "text": [
      "WARNING:absl:`lr` is deprecated, please use `learning_rate` instead, or use the legacy optimizer, e.g.,tf.keras.optimizers.legacy.SGD.\n"
     ]
    },
    {
     "name": "stdout",
     "output_type": "stream",
     "text": [
      "Epoch 1/2\n",
      "1/1 [==============================] - 1s 745ms/step - loss: 19.2288 - mae: 19.7285 - lr: 1.0000e-08\n",
      "Epoch 2/2\n",
      "1/1 [==============================] - 1s 732ms/step - loss: 19.2286 - mae: 19.7283 - lr: 1.1220e-08\n",
      "1/1 [==============================] - 0s 23ms/step\n"
     ]
    },
    {
     "name": "stderr",
     "output_type": "stream",
     "text": [
      "WARNING:absl:`lr` is deprecated, please use `learning_rate` instead, or use the legacy optimizer, e.g.,tf.keras.optimizers.legacy.SGD.\n"
     ]
    },
    {
     "name": "stdout",
     "output_type": "stream",
     "text": [
      "Epoch 1/2\n",
      "1/1 [==============================] - 1s 961ms/step - loss: 30.9362 - mae: 31.4323 - lr: 1.0000e-08\n",
      "Epoch 2/2\n",
      "1/1 [==============================] - 1s 933ms/step - loss: 30.9360 - mae: 31.4321 - lr: 1.1220e-08\n",
      "1/1 [==============================] - 0s 21ms/step\n"
     ]
    },
    {
     "name": "stderr",
     "output_type": "stream",
     "text": [
      "WARNING:absl:`lr` is deprecated, please use `learning_rate` instead, or use the legacy optimizer, e.g.,tf.keras.optimizers.legacy.SGD.\n"
     ]
    },
    {
     "name": "stdout",
     "output_type": "stream",
     "text": [
      "Epoch 1/2\n",
      "1/1 [==============================] - 0s 304ms/step - loss: 49.7668 - mae: 50.2622 - lr: 1.0000e-08\n",
      "Epoch 2/2\n",
      "1/1 [==============================] - 0s 291ms/step - loss: 49.7663 - mae: 50.2617 - lr: 1.1220e-08\n",
      "1/1 [==============================] - 0s 24ms/step\n"
     ]
    },
    {
     "name": "stderr",
     "output_type": "stream",
     "text": [
      "WARNING:absl:`lr` is deprecated, please use `learning_rate` instead, or use the legacy optimizer, e.g.,tf.keras.optimizers.legacy.SGD.\n"
     ]
    },
    {
     "name": "stdout",
     "output_type": "stream",
     "text": [
      "Epoch 1/2\n",
      "1/1 [==============================] - 0s 439ms/step - loss: 39.0004 - mae: 39.5003 - lr: 1.0000e-08\n",
      "Epoch 2/2\n",
      "1/1 [==============================] - 0s 422ms/step - loss: 39.0002 - mae: 39.5000 - lr: 1.1220e-08\n",
      "1/1 [==============================] - 0s 24ms/step\n"
     ]
    },
    {
     "name": "stderr",
     "output_type": "stream",
     "text": [
      "WARNING:absl:`lr` is deprecated, please use `learning_rate` instead, or use the legacy optimizer, e.g.,tf.keras.optimizers.legacy.SGD.\n"
     ]
    },
    {
     "name": "stdout",
     "output_type": "stream",
     "text": [
      "Epoch 1/2\n",
      "1/1 [==============================] - 1s 578ms/step - loss: 30.2417 - mae: 30.7411 - lr: 1.0000e-08\n",
      "Epoch 2/2\n",
      "1/1 [==============================] - 1s 562ms/step - loss: 30.2415 - mae: 30.7409 - lr: 1.1220e-08\n",
      "1/1 [==============================] - 0s 26ms/step\n"
     ]
    },
    {
     "name": "stderr",
     "output_type": "stream",
     "text": [
      "WARNING:absl:`lr` is deprecated, please use `learning_rate` instead, or use the legacy optimizer, e.g.,tf.keras.optimizers.legacy.SGD.\n"
     ]
    },
    {
     "name": "stdout",
     "output_type": "stream",
     "text": [
      "Epoch 1/2\n",
      "1/1 [==============================] - 1s 739ms/step - loss: 36.2147 - mae: 36.7147 - lr: 1.0000e-08\n",
      "Epoch 2/2\n",
      "1/1 [==============================] - 1s 741ms/step - loss: 36.2145 - mae: 36.7145 - lr: 1.1220e-08\n",
      "1/1 [==============================] - 0s 24ms/step\n"
     ]
    },
    {
     "name": "stderr",
     "output_type": "stream",
     "text": [
      "WARNING:absl:`lr` is deprecated, please use `learning_rate` instead, or use the legacy optimizer, e.g.,tf.keras.optimizers.legacy.SGD.\n"
     ]
    },
    {
     "name": "stdout",
     "output_type": "stream",
     "text": [
      "Epoch 1/2\n",
      "1/1 [==============================] - 1s 948ms/step - loss: 38.8807 - mae: 39.3807 - lr: 1.0000e-08\n",
      "Epoch 2/2\n",
      "1/1 [==============================] - 1s 948ms/step - loss: 38.8805 - mae: 39.3805 - lr: 1.1220e-08\n",
      "1/1 [==============================] - 0s 22ms/step\n"
     ]
    },
    {
     "name": "stderr",
     "output_type": "stream",
     "text": [
      "WARNING:absl:`lr` is deprecated, please use `learning_rate` instead, or use the legacy optimizer, e.g.,tf.keras.optimizers.legacy.SGD.\n"
     ]
    },
    {
     "name": "stdout",
     "output_type": "stream",
     "text": [
      "Epoch 1/2\n",
      "1/1 [==============================] - 0s 298ms/step - loss: 42.2327 - mae: 42.7327 - lr: 1.0000e-08\n",
      "Epoch 2/2\n",
      "1/1 [==============================] - 0s 298ms/step - loss: 42.2325 - mae: 42.7325 - lr: 1.1220e-08\n",
      "1/1 [==============================] - 0s 24ms/step\n"
     ]
    },
    {
     "name": "stderr",
     "output_type": "stream",
     "text": [
      "WARNING:absl:`lr` is deprecated, please use `learning_rate` instead, or use the legacy optimizer, e.g.,tf.keras.optimizers.legacy.SGD.\n"
     ]
    },
    {
     "name": "stdout",
     "output_type": "stream",
     "text": [
      "Epoch 1/2\n",
      "1/1 [==============================] - 0s 423ms/step - loss: 44.1506 - mae: 44.6506 - lr: 1.0000e-08\n",
      "Epoch 2/2\n",
      "1/1 [==============================] - 0s 421ms/step - loss: 44.1502 - mae: 44.6502 - lr: 1.1220e-08\n",
      "1/1 [==============================] - 0s 25ms/step\n"
     ]
    },
    {
     "name": "stderr",
     "output_type": "stream",
     "text": [
      "WARNING:absl:`lr` is deprecated, please use `learning_rate` instead, or use the legacy optimizer, e.g.,tf.keras.optimizers.legacy.SGD.\n"
     ]
    },
    {
     "name": "stdout",
     "output_type": "stream",
     "text": [
      "Epoch 1/2\n",
      "1/1 [==============================] - 1s 578ms/step - loss: 39.2470 - mae: 39.7470 - lr: 1.0000e-08\n",
      "Epoch 2/2\n",
      "1/1 [==============================] - 1s 559ms/step - loss: 39.2466 - mae: 39.7466 - lr: 1.1220e-08\n",
      "1/1 [==============================] - 0s 25ms/step\n"
     ]
    },
    {
     "name": "stderr",
     "output_type": "stream",
     "text": [
      "WARNING:absl:`lr` is deprecated, please use `learning_rate` instead, or use the legacy optimizer, e.g.,tf.keras.optimizers.legacy.SGD.\n"
     ]
    },
    {
     "name": "stdout",
     "output_type": "stream",
     "text": [
      "Epoch 1/2\n",
      "1/1 [==============================] - 1s 746ms/step - loss: 36.3358 - mae: 36.8358 - lr: 1.0000e-08\n",
      "Epoch 2/2\n",
      "1/1 [==============================] - 1s 744ms/step - loss: 36.3357 - mae: 36.8357 - lr: 1.1220e-08\n",
      "1/1 [==============================] - 0s 22ms/step\n"
     ]
    },
    {
     "name": "stderr",
     "output_type": "stream",
     "text": [
      "WARNING:absl:`lr` is deprecated, please use `learning_rate` instead, or use the legacy optimizer, e.g.,tf.keras.optimizers.legacy.SGD.\n"
     ]
    },
    {
     "name": "stdout",
     "output_type": "stream",
     "text": [
      "Epoch 1/2\n",
      "1/1 [==============================] - 1s 945ms/step - loss: 26.6319 - mae: 27.1299 - lr: 1.0000e-08\n",
      "Epoch 2/2\n",
      "1/1 [==============================] - 1s 946ms/step - loss: 26.6318 - mae: 27.1297 - lr: 1.1220e-08\n",
      "1/1 [==============================] - 0s 22ms/step\n"
     ]
    },
    {
     "name": "stderr",
     "output_type": "stream",
     "text": [
      "WARNING:absl:`lr` is deprecated, please use `learning_rate` instead, or use the legacy optimizer, e.g.,tf.keras.optimizers.legacy.SGD.\n"
     ]
    },
    {
     "name": "stdout",
     "output_type": "stream",
     "text": [
      "Epoch 1/2\n",
      "1/1 [==============================] - 0s 298ms/step - loss: 47.4126 - mae: 47.9126 - lr: 1.0000e-08\n",
      "Epoch 2/2\n",
      "1/1 [==============================] - 0s 288ms/step - loss: 47.4122 - mae: 47.9122 - lr: 1.1220e-08\n",
      "1/1 [==============================] - 0s 25ms/step\n"
     ]
    },
    {
     "name": "stderr",
     "output_type": "stream",
     "text": [
      "WARNING:absl:`lr` is deprecated, please use `learning_rate` instead, or use the legacy optimizer, e.g.,tf.keras.optimizers.legacy.SGD.\n"
     ]
    },
    {
     "name": "stdout",
     "output_type": "stream",
     "text": [
      "Epoch 1/2\n",
      "1/1 [==============================] - 0s 497ms/step - loss: 35.4701 - mae: 35.9701 - lr: 1.0000e-08\n",
      "Epoch 2/2\n",
      "1/1 [==============================] - 0s 423ms/step - loss: 35.4698 - mae: 35.9698 - lr: 1.1220e-08\n",
      "1/1 [==============================] - 0s 24ms/step\n"
     ]
    },
    {
     "name": "stderr",
     "output_type": "stream",
     "text": [
      "WARNING:absl:`lr` is deprecated, please use `learning_rate` instead, or use the legacy optimizer, e.g.,tf.keras.optimizers.legacy.SGD.\n"
     ]
    },
    {
     "name": "stdout",
     "output_type": "stream",
     "text": [
      "Epoch 1/2\n",
      "1/1 [==============================] - 1s 568ms/step - loss: 33.9564 - mae: 34.4470 - lr: 1.0000e-08\n",
      "Epoch 2/2\n",
      "1/1 [==============================] - 1s 571ms/step - loss: 33.9561 - mae: 34.4466 - lr: 1.1220e-08\n",
      "1/1 [==============================] - 0s 26ms/step\n"
     ]
    },
    {
     "name": "stderr",
     "output_type": "stream",
     "text": [
      "WARNING:absl:`lr` is deprecated, please use `learning_rate` instead, or use the legacy optimizer, e.g.,tf.keras.optimizers.legacy.SGD.\n"
     ]
    },
    {
     "name": "stdout",
     "output_type": "stream",
     "text": [
      "Epoch 1/2\n",
      "1/1 [==============================] - 1s 752ms/step - loss: 23.3000 - mae: 23.7957 - lr: 1.0000e-08\n",
      "Epoch 2/2\n",
      "1/1 [==============================] - 1s 735ms/step - loss: 23.2998 - mae: 23.7955 - lr: 1.1220e-08\n",
      "1/1 [==============================] - 0s 22ms/step\n"
     ]
    },
    {
     "name": "stderr",
     "output_type": "stream",
     "text": [
      "WARNING:absl:`lr` is deprecated, please use `learning_rate` instead, or use the legacy optimizer, e.g.,tf.keras.optimizers.legacy.SGD.\n"
     ]
    },
    {
     "name": "stdout",
     "output_type": "stream",
     "text": [
      "Epoch 1/2\n",
      "1/1 [==============================] - 1s 952ms/step - loss: 82.5995 - mae: 83.0995 - lr: 1.0000e-08\n",
      "Epoch 2/2\n",
      "1/1 [==============================] - 1s 943ms/step - loss: 82.5986 - mae: 83.0986 - lr: 1.1220e-08\n",
      "1/1 [==============================] - 0s 23ms/step\n"
     ]
    },
    {
     "name": "stderr",
     "output_type": "stream",
     "text": [
      "WARNING:absl:`lr` is deprecated, please use `learning_rate` instead, or use the legacy optimizer, e.g.,tf.keras.optimizers.legacy.SGD.\n"
     ]
    },
    {
     "name": "stdout",
     "output_type": "stream",
     "text": [
      "Epoch 1/2\n",
      "1/1 [==============================] - 0s 308ms/step - loss: 61.8261 - mae: 62.3261 - lr: 1.0000e-08\n",
      "Epoch 2/2\n",
      "1/1 [==============================] - 0s 301ms/step - loss: 61.8253 - mae: 62.3253 - lr: 1.1220e-08\n",
      "1/1 [==============================] - 0s 24ms/step\n"
     ]
    },
    {
     "name": "stderr",
     "output_type": "stream",
     "text": [
      "WARNING:absl:`lr` is deprecated, please use `learning_rate` instead, or use the legacy optimizer, e.g.,tf.keras.optimizers.legacy.SGD.\n"
     ]
    },
    {
     "name": "stdout",
     "output_type": "stream",
     "text": [
      "Epoch 1/2\n",
      "1/1 [==============================] - 0s 434ms/step - loss: 49.1832 - mae: 49.6832 - lr: 1.0000e-08\n",
      "Epoch 2/2\n",
      "1/1 [==============================] - 0s 424ms/step - loss: 49.1825 - mae: 49.6825 - lr: 1.1220e-08\n",
      "1/1 [==============================] - 0s 25ms/step\n"
     ]
    },
    {
     "name": "stderr",
     "output_type": "stream",
     "text": [
      "WARNING:absl:`lr` is deprecated, please use `learning_rate` instead, or use the legacy optimizer, e.g.,tf.keras.optimizers.legacy.SGD.\n"
     ]
    },
    {
     "name": "stdout",
     "output_type": "stream",
     "text": [
      "Epoch 1/2\n",
      "1/1 [==============================] - 1s 572ms/step - loss: 30.4093 - mae: 30.8994 - lr: 1.0000e-08\n",
      "Epoch 2/2\n",
      "1/1 [==============================] - 1s 581ms/step - loss: 30.4090 - mae: 30.8992 - lr: 1.1220e-08\n",
      "1/1 [==============================] - 0s 36ms/step\n"
     ]
    },
    {
     "name": "stderr",
     "output_type": "stream",
     "text": [
      "WARNING:absl:`lr` is deprecated, please use `learning_rate` instead, or use the legacy optimizer, e.g.,tf.keras.optimizers.legacy.SGD.\n"
     ]
    },
    {
     "name": "stdout",
     "output_type": "stream",
     "text": [
      "Epoch 1/2\n",
      "1/1 [==============================] - 1s 757ms/step - loss: 38.7884 - mae: 39.2846 - lr: 1.0000e-08\n",
      "Epoch 2/2\n",
      "1/1 [==============================] - 1s 745ms/step - loss: 38.7880 - mae: 39.2843 - lr: 1.1220e-08\n",
      "1/1 [==============================] - 0s 30ms/step\n"
     ]
    },
    {
     "name": "stderr",
     "output_type": "stream",
     "text": [
      "WARNING:absl:`lr` is deprecated, please use `learning_rate` instead, or use the legacy optimizer, e.g.,tf.keras.optimizers.legacy.SGD.\n"
     ]
    },
    {
     "name": "stdout",
     "output_type": "stream",
     "text": [
      "Epoch 1/2\n",
      "1/1 [==============================] - 1s 1s/step - loss: 27.5381 - mae: 28.0296 - lr: 1.0000e-08\n",
      "Epoch 2/2\n",
      "1/1 [==============================] - 1s 945ms/step - loss: 27.5379 - mae: 28.0293 - lr: 1.1220e-08\n",
      "1/1 [==============================] - 0s 23ms/step\n"
     ]
    },
    {
     "name": "stderr",
     "output_type": "stream",
     "text": [
      "WARNING:absl:`lr` is deprecated, please use `learning_rate` instead, or use the legacy optimizer, e.g.,tf.keras.optimizers.legacy.SGD.\n"
     ]
    },
    {
     "name": "stdout",
     "output_type": "stream",
     "text": [
      "Epoch 1/2\n",
      "1/1 [==============================] - 0s 309ms/step - loss: 31.2706 - mae: 31.7637 - lr: 1.0000e-08\n",
      "Epoch 2/2\n",
      "1/1 [==============================] - 0s 296ms/step - loss: 31.2704 - mae: 31.7635 - lr: 1.1220e-08\n",
      "1/1 [==============================] - 0s 26ms/step\n"
     ]
    },
    {
     "name": "stderr",
     "output_type": "stream",
     "text": [
      "WARNING:absl:`lr` is deprecated, please use `learning_rate` instead, or use the legacy optimizer, e.g.,tf.keras.optimizers.legacy.SGD.\n"
     ]
    },
    {
     "name": "stdout",
     "output_type": "stream",
     "text": [
      "Epoch 1/2\n",
      "1/1 [==============================] - 0s 431ms/step - loss: 35.6266 - mae: 36.1266 - lr: 1.0000e-08\n",
      "Epoch 2/2\n",
      "1/1 [==============================] - 0s 414ms/step - loss: 35.6261 - mae: 36.1261 - lr: 1.1220e-08\n",
      "1/1 [==============================] - 0s 25ms/step\n"
     ]
    },
    {
     "name": "stderr",
     "output_type": "stream",
     "text": [
      "WARNING:absl:`lr` is deprecated, please use `learning_rate` instead, or use the legacy optimizer, e.g.,tf.keras.optimizers.legacy.SGD.\n"
     ]
    },
    {
     "name": "stdout",
     "output_type": "stream",
     "text": [
      "Epoch 1/2\n",
      "1/1 [==============================] - 1s 578ms/step - loss: 27.5861 - mae: 28.0861 - lr: 1.0000e-08\n",
      "Epoch 2/2\n",
      "1/1 [==============================] - 1s 566ms/step - loss: 27.5859 - mae: 28.0859 - lr: 1.1220e-08\n",
      "1/1 [==============================] - 0s 26ms/step\n"
     ]
    },
    {
     "name": "stderr",
     "output_type": "stream",
     "text": [
      "WARNING:absl:`lr` is deprecated, please use `learning_rate` instead, or use the legacy optimizer, e.g.,tf.keras.optimizers.legacy.SGD.\n"
     ]
    },
    {
     "name": "stdout",
     "output_type": "stream",
     "text": [
      "Epoch 1/2\n",
      "1/1 [==============================] - 1s 750ms/step - loss: 32.8644 - mae: 33.3604 - lr: 1.0000e-08\n",
      "Epoch 2/2\n",
      "1/1 [==============================] - 1s 743ms/step - loss: 32.8643 - mae: 33.3602 - lr: 1.1220e-08\n",
      "1/1 [==============================] - 0s 22ms/step\n"
     ]
    },
    {
     "name": "stderr",
     "output_type": "stream",
     "text": [
      "WARNING:absl:`lr` is deprecated, please use `learning_rate` instead, or use the legacy optimizer, e.g.,tf.keras.optimizers.legacy.SGD.\n"
     ]
    },
    {
     "name": "stdout",
     "output_type": "stream",
     "text": [
      "Epoch 1/2\n",
      "1/1 [==============================] - 1s 950ms/step - loss: 19.4022 - mae: 19.9022 - lr: 1.0000e-08\n",
      "Epoch 2/2\n",
      "1/1 [==============================] - 1s 939ms/step - loss: 19.4017 - mae: 19.9017 - lr: 1.1220e-08\n",
      "1/1 [==============================] - 0s 22ms/step\n"
     ]
    },
    {
     "name": "stderr",
     "output_type": "stream",
     "text": [
      "WARNING:absl:`lr` is deprecated, please use `learning_rate` instead, or use the legacy optimizer, e.g.,tf.keras.optimizers.legacy.SGD.\n"
     ]
    },
    {
     "name": "stdout",
     "output_type": "stream",
     "text": [
      "Epoch 1/2\n",
      "1/1 [==============================] - 0s 291ms/step - loss: 32.5739 - mae: 33.0737 - lr: 1.0000e-08\n",
      "Epoch 2/2\n",
      "1/1 [==============================] - 0s 274ms/step - loss: 32.5736 - mae: 33.0734 - lr: 1.1220e-08\n",
      "1/1 [==============================] - 0s 24ms/step\n"
     ]
    },
    {
     "name": "stderr",
     "output_type": "stream",
     "text": [
      "WARNING:absl:`lr` is deprecated, please use `learning_rate` instead, or use the legacy optimizer, e.g.,tf.keras.optimizers.legacy.SGD.\n"
     ]
    },
    {
     "name": "stdout",
     "output_type": "stream",
     "text": [
      "Epoch 1/2\n",
      "1/1 [==============================] - 0s 433ms/step - loss: 24.7439 - mae: 25.2438 - lr: 1.0000e-08\n",
      "Epoch 2/2\n",
      "1/1 [==============================] - 0s 414ms/step - loss: 24.7436 - mae: 25.2436 - lr: 1.1220e-08\n",
      "1/1 [==============================] - 0s 25ms/step\n"
     ]
    },
    {
     "name": "stderr",
     "output_type": "stream",
     "text": [
      "WARNING:absl:`lr` is deprecated, please use `learning_rate` instead, or use the legacy optimizer, e.g.,tf.keras.optimizers.legacy.SGD.\n"
     ]
    },
    {
     "name": "stdout",
     "output_type": "stream",
     "text": [
      "Epoch 1/2\n",
      "1/1 [==============================] - 1s 568ms/step - loss: 25.4608 - mae: 25.9563 - lr: 1.0000e-08\n",
      "Epoch 2/2\n",
      "1/1 [==============================] - 1s 562ms/step - loss: 25.4605 - mae: 25.9560 - lr: 1.1220e-08\n",
      "1/1 [==============================] - 0s 25ms/step\n"
     ]
    },
    {
     "name": "stderr",
     "output_type": "stream",
     "text": [
      "WARNING:absl:`lr` is deprecated, please use `learning_rate` instead, or use the legacy optimizer, e.g.,tf.keras.optimizers.legacy.SGD.\n"
     ]
    },
    {
     "name": "stdout",
     "output_type": "stream",
     "text": [
      "Epoch 1/2\n",
      "1/1 [==============================] - 1s 809ms/step - loss: 42.6230 - mae: 43.1230 - lr: 1.0000e-08\n",
      "Epoch 2/2\n",
      "1/1 [==============================] - 1s 741ms/step - loss: 42.6227 - mae: 43.1227 - lr: 1.1220e-08\n",
      "1/1 [==============================] - 0s 24ms/step\n"
     ]
    },
    {
     "name": "stderr",
     "output_type": "stream",
     "text": [
      "WARNING:absl:`lr` is deprecated, please use `learning_rate` instead, or use the legacy optimizer, e.g.,tf.keras.optimizers.legacy.SGD.\n"
     ]
    },
    {
     "name": "stdout",
     "output_type": "stream",
     "text": [
      "Epoch 1/2\n",
      "1/1 [==============================] - 1s 955ms/step - loss: 26.8775 - mae: 27.3728 - lr: 1.0000e-08\n",
      "Epoch 2/2\n",
      "1/1 [==============================] - 1s 939ms/step - loss: 26.8773 - mae: 27.3726 - lr: 1.1220e-08\n",
      "1/1 [==============================] - 0s 24ms/step\n"
     ]
    },
    {
     "name": "stderr",
     "output_type": "stream",
     "text": [
      "WARNING:absl:`lr` is deprecated, please use `learning_rate` instead, or use the legacy optimizer, e.g.,tf.keras.optimizers.legacy.SGD.\n"
     ]
    },
    {
     "name": "stdout",
     "output_type": "stream",
     "text": [
      "Epoch 1/2\n",
      "1/1 [==============================] - 0s 295ms/step - loss: 39.1011 - mae: 39.6011 - lr: 1.0000e-08\n",
      "Epoch 2/2\n",
      "1/1 [==============================] - 0s 299ms/step - loss: 39.1008 - mae: 39.6008 - lr: 1.1220e-08\n",
      "1/1 [==============================] - 0s 31ms/step\n"
     ]
    },
    {
     "name": "stderr",
     "output_type": "stream",
     "text": [
      "WARNING:absl:`lr` is deprecated, please use `learning_rate` instead, or use the legacy optimizer, e.g.,tf.keras.optimizers.legacy.SGD.\n"
     ]
    },
    {
     "name": "stdout",
     "output_type": "stream",
     "text": [
      "Epoch 1/2\n",
      "1/1 [==============================] - 0s 417ms/step - loss: 43.7469 - mae: 44.2380 - lr: 1.0000e-08\n",
      "Epoch 2/2\n",
      "1/1 [==============================] - 0s 417ms/step - loss: 43.7466 - mae: 44.2377 - lr: 1.1220e-08\n",
      "1/1 [==============================] - 0s 24ms/step\n"
     ]
    },
    {
     "name": "stderr",
     "output_type": "stream",
     "text": [
      "WARNING:absl:`lr` is deprecated, please use `learning_rate` instead, or use the legacy optimizer, e.g.,tf.keras.optimizers.legacy.SGD.\n"
     ]
    },
    {
     "name": "stdout",
     "output_type": "stream",
     "text": [
      "Epoch 1/2\n",
      "1/1 [==============================] - 1s 580ms/step - loss: 29.9570 - mae: 30.4570 - lr: 1.0000e-08\n",
      "Epoch 2/2\n",
      "1/1 [==============================] - 1s 564ms/step - loss: 29.9568 - mae: 30.4568 - lr: 1.1220e-08\n",
      "1/1 [==============================] - 0s 26ms/step\n"
     ]
    },
    {
     "name": "stderr",
     "output_type": "stream",
     "text": [
      "WARNING:absl:`lr` is deprecated, please use `learning_rate` instead, or use the legacy optimizer, e.g.,tf.keras.optimizers.legacy.SGD.\n"
     ]
    },
    {
     "name": "stdout",
     "output_type": "stream",
     "text": [
      "Epoch 1/2\n",
      "1/1 [==============================] - 1s 748ms/step - loss: 62.4311 - mae: 62.9311 - lr: 1.0000e-08\n",
      "Epoch 2/2\n",
      "1/1 [==============================] - 1s 750ms/step - loss: 62.4303 - mae: 62.9303 - lr: 1.1220e-08\n",
      "1/1 [==============================] - 0s 23ms/step\n"
     ]
    },
    {
     "name": "stderr",
     "output_type": "stream",
     "text": [
      "WARNING:absl:`lr` is deprecated, please use `learning_rate` instead, or use the legacy optimizer, e.g.,tf.keras.optimizers.legacy.SGD.\n"
     ]
    },
    {
     "name": "stdout",
     "output_type": "stream",
     "text": [
      "Epoch 1/2\n",
      "1/1 [==============================] - 1s 957ms/step - loss: 30.0431 - mae: 30.5431 - lr: 1.0000e-08\n",
      "Epoch 2/2\n",
      "1/1 [==============================] - 1s 943ms/step - loss: 30.0429 - mae: 30.5429 - lr: 1.1220e-08\n",
      "1/1 [==============================] - 0s 22ms/step\n"
     ]
    },
    {
     "name": "stderr",
     "output_type": "stream",
     "text": [
      "WARNING:absl:`lr` is deprecated, please use `learning_rate` instead, or use the legacy optimizer, e.g.,tf.keras.optimizers.legacy.SGD.\n"
     ]
    },
    {
     "name": "stdout",
     "output_type": "stream",
     "text": [
      "Epoch 1/2\n",
      "1/1 [==============================] - 0s 298ms/step - loss: 25.5824 - mae: 26.0823 - lr: 1.0000e-08\n",
      "Epoch 2/2\n",
      "1/1 [==============================] - 0s 300ms/step - loss: 25.5822 - mae: 26.0822 - lr: 1.1220e-08\n",
      "1/1 [==============================] - 0s 24ms/step\n"
     ]
    },
    {
     "name": "stderr",
     "output_type": "stream",
     "text": [
      "WARNING:absl:`lr` is deprecated, please use `learning_rate` instead, or use the legacy optimizer, e.g.,tf.keras.optimizers.legacy.SGD.\n"
     ]
    },
    {
     "name": "stdout",
     "output_type": "stream",
     "text": [
      "Epoch 1/2\n",
      "1/1 [==============================] - 0s 449ms/step - loss: 44.5053 - mae: 45.0053 - lr: 1.0000e-08\n",
      "Epoch 2/2\n",
      "1/1 [==============================] - 0s 449ms/step - loss: 44.5049 - mae: 45.0049 - lr: 1.1220e-08\n",
      "1/1 [==============================] - 0s 26ms/step\n"
     ]
    },
    {
     "name": "stderr",
     "output_type": "stream",
     "text": [
      "WARNING:absl:`lr` is deprecated, please use `learning_rate` instead, or use the legacy optimizer, e.g.,tf.keras.optimizers.legacy.SGD.\n"
     ]
    },
    {
     "name": "stdout",
     "output_type": "stream",
     "text": [
      "Epoch 1/2\n",
      "1/1 [==============================] - 1s 600ms/step - loss: 34.4322 - mae: 34.9269 - lr: 1.0000e-08\n",
      "Epoch 2/2\n",
      "1/1 [==============================] - 1s 689ms/step - loss: 34.4320 - mae: 34.9268 - lr: 1.1220e-08\n",
      "1/1 [==============================] - 0s 28ms/step\n"
     ]
    },
    {
     "name": "stderr",
     "output_type": "stream",
     "text": [
      "WARNING:absl:`lr` is deprecated, please use `learning_rate` instead, or use the legacy optimizer, e.g.,tf.keras.optimizers.legacy.SGD.\n"
     ]
    },
    {
     "name": "stdout",
     "output_type": "stream",
     "text": [
      "Epoch 1/2\n",
      "1/1 [==============================] - 1s 768ms/step - loss: 33.2562 - mae: 33.7455 - lr: 1.0000e-08\n",
      "Epoch 2/2\n",
      "1/1 [==============================] - 1s 875ms/step - loss: 33.2560 - mae: 33.7453 - lr: 1.1220e-08\n",
      "1/1 [==============================] - 0s 25ms/step\n"
     ]
    },
    {
     "name": "stderr",
     "output_type": "stream",
     "text": [
      "WARNING:absl:`lr` is deprecated, please use `learning_rate` instead, or use the legacy optimizer, e.g.,tf.keras.optimizers.legacy.SGD.\n"
     ]
    },
    {
     "name": "stdout",
     "output_type": "stream",
     "text": [
      "Epoch 1/2\n",
      "1/1 [==============================] - 1s 1s/step - loss: 32.4226 - mae: 32.9226 - lr: 1.0000e-08\n",
      "Epoch 2/2\n",
      "1/1 [==============================] - 1s 986ms/step - loss: 32.4223 - mae: 32.9223 - lr: 1.1220e-08\n",
      "1/1 [==============================] - 0s 36ms/step\n"
     ]
    },
    {
     "name": "stderr",
     "output_type": "stream",
     "text": [
      "WARNING:absl:`lr` is deprecated, please use `learning_rate` instead, or use the legacy optimizer, e.g.,tf.keras.optimizers.legacy.SGD.\n"
     ]
    },
    {
     "name": "stdout",
     "output_type": "stream",
     "text": [
      "Epoch 1/2\n",
      "1/1 [==============================] - 0s 363ms/step - loss: 42.8268 - mae: 43.3268 - lr: 1.0000e-08\n",
      "Epoch 2/2\n",
      "1/1 [==============================] - 0s 337ms/step - loss: 42.8265 - mae: 43.3265 - lr: 1.1220e-08\n",
      "1/1 [==============================] - 0s 45ms/step\n"
     ]
    },
    {
     "name": "stderr",
     "output_type": "stream",
     "text": [
      "WARNING:absl:`lr` is deprecated, please use `learning_rate` instead, or use the legacy optimizer, e.g.,tf.keras.optimizers.legacy.SGD.\n"
     ]
    },
    {
     "name": "stdout",
     "output_type": "stream",
     "text": [
      "Epoch 1/2\n",
      "1/1 [==============================] - 0s 470ms/step - loss: 38.0303 - mae: 38.5303 - lr: 1.0000e-08\n",
      "Epoch 2/2\n",
      "1/1 [==============================] - 0s 451ms/step - loss: 38.0299 - mae: 38.5299 - lr: 1.1220e-08\n",
      "1/1 [==============================] - 0s 28ms/step\n"
     ]
    },
    {
     "name": "stderr",
     "output_type": "stream",
     "text": [
      "WARNING:absl:`lr` is deprecated, please use `learning_rate` instead, or use the legacy optimizer, e.g.,tf.keras.optimizers.legacy.SGD.\n"
     ]
    },
    {
     "name": "stdout",
     "output_type": "stream",
     "text": [
      "Epoch 1/2\n",
      "1/1 [==============================] - 1s 600ms/step - loss: 17.9257 - mae: 18.4185 - lr: 1.0000e-08\n",
      "Epoch 2/2\n",
      "1/1 [==============================] - 1s 655ms/step - loss: 17.9256 - mae: 18.4184 - lr: 1.1220e-08\n",
      "1/1 [==============================] - 0s 28ms/step\n"
     ]
    },
    {
     "name": "stderr",
     "output_type": "stream",
     "text": [
      "WARNING:absl:`lr` is deprecated, please use `learning_rate` instead, or use the legacy optimizer, e.g.,tf.keras.optimizers.legacy.SGD.\n"
     ]
    },
    {
     "name": "stdout",
     "output_type": "stream",
     "text": [
      "Epoch 1/2\n",
      "1/1 [==============================] - 1s 787ms/step - loss: 21.8074 - mae: 22.2949 - lr: 1.0000e-08\n",
      "Epoch 2/2\n",
      "1/1 [==============================] - 1s 866ms/step - loss: 21.8072 - mae: 22.2947 - lr: 1.1220e-08\n",
      "1/1 [==============================] - 0s 27ms/step\n"
     ]
    },
    {
     "name": "stderr",
     "output_type": "stream",
     "text": [
      "WARNING:absl:`lr` is deprecated, please use `learning_rate` instead, or use the legacy optimizer, e.g.,tf.keras.optimizers.legacy.SGD.\n"
     ]
    },
    {
     "name": "stdout",
     "output_type": "stream",
     "text": [
      "Epoch 1/2\n",
      "1/1 [==============================] - 1s 1s/step - loss: 44.9052 - mae: 45.3992 - lr: 1.0000e-08\n",
      "Epoch 2/2\n",
      "1/1 [==============================] - 1s 1s/step - loss: 44.9048 - mae: 45.3988 - lr: 1.1220e-08\n",
      "1/1 [==============================] - 0s 45ms/step\n"
     ]
    },
    {
     "name": "stderr",
     "output_type": "stream",
     "text": [
      "WARNING:absl:`lr` is deprecated, please use `learning_rate` instead, or use the legacy optimizer, e.g.,tf.keras.optimizers.legacy.SGD.\n"
     ]
    },
    {
     "name": "stdout",
     "output_type": "stream",
     "text": [
      "Epoch 1/2\n",
      "1/1 [==============================] - 0s 455ms/step - loss: 36.4671 - mae: 36.9671 - lr: 1.0000e-08\n",
      "Epoch 2/2\n",
      "1/1 [==============================] - 0s 413ms/step - loss: 36.4669 - mae: 36.9669 - lr: 1.1220e-08\n",
      "1/1 [==============================] - 0s 46ms/step\n"
     ]
    },
    {
     "name": "stderr",
     "output_type": "stream",
     "text": [
      "WARNING:absl:`lr` is deprecated, please use `learning_rate` instead, or use the legacy optimizer, e.g.,tf.keras.optimizers.legacy.SGD.\n"
     ]
    },
    {
     "name": "stdout",
     "output_type": "stream",
     "text": [
      "Epoch 1/2\n",
      "1/1 [==============================] - 1s 597ms/step - loss: 34.1416 - mae: 34.6361 - lr: 1.0000e-08\n",
      "Epoch 2/2\n",
      "1/1 [==============================] - 1s 507ms/step - loss: 34.1415 - mae: 34.6359 - lr: 1.1220e-08\n",
      "1/1 [==============================] - 0s 26ms/step\n"
     ]
    },
    {
     "name": "stderr",
     "output_type": "stream",
     "text": [
      "WARNING:absl:`lr` is deprecated, please use `learning_rate` instead, or use the legacy optimizer, e.g.,tf.keras.optimizers.legacy.SGD.\n"
     ]
    },
    {
     "name": "stdout",
     "output_type": "stream",
     "text": [
      "Epoch 1/2\n",
      "1/1 [==============================] - 1s 653ms/step - loss: 55.0031 - mae: 55.5031 - lr: 1.0000e-08\n",
      "Epoch 2/2\n",
      "1/1 [==============================] - 1s 997ms/step - loss: 55.0028 - mae: 55.5028 - lr: 1.1220e-08\n",
      "1/1 [==============================] - 0s 81ms/step\n"
     ]
    },
    {
     "name": "stderr",
     "output_type": "stream",
     "text": [
      "WARNING:absl:`lr` is deprecated, please use `learning_rate` instead, or use the legacy optimizer, e.g.,tf.keras.optimizers.legacy.SGD.\n"
     ]
    },
    {
     "name": "stdout",
     "output_type": "stream",
     "text": [
      "Epoch 1/2\n",
      "1/1 [==============================] - 1s 1s/step - loss: 30.2413 - mae: 30.7413 - lr: 1.0000e-08\n",
      "Epoch 2/2\n",
      "1/1 [==============================] - 1s 903ms/step - loss: 30.2412 - mae: 30.7412 - lr: 1.1220e-08\n",
      "1/1 [==============================] - 0s 39ms/step\n"
     ]
    },
    {
     "name": "stderr",
     "output_type": "stream",
     "text": [
      "WARNING:absl:`lr` is deprecated, please use `learning_rate` instead, or use the legacy optimizer, e.g.,tf.keras.optimizers.legacy.SGD.\n"
     ]
    },
    {
     "name": "stdout",
     "output_type": "stream",
     "text": [
      "Epoch 1/2\n",
      "1/1 [==============================] - 1s 1s/step - loss: 26.7403 - mae: 27.2346 - lr: 1.0000e-08\n",
      "Epoch 2/2\n",
      "1/1 [==============================] - 1s 1s/step - loss: 26.7400 - mae: 27.2343 - lr: 1.1220e-08\n",
      "1/1 [==============================] - 0s 27ms/step\n"
     ]
    },
    {
     "name": "stderr",
     "output_type": "stream",
     "text": [
      "WARNING:absl:`lr` is deprecated, please use `learning_rate` instead, or use the legacy optimizer, e.g.,tf.keras.optimizers.legacy.SGD.\n"
     ]
    },
    {
     "name": "stdout",
     "output_type": "stream",
     "text": [
      "Epoch 1/2\n",
      "1/1 [==============================] - 0s 303ms/step - loss: 42.4108 - mae: 42.9065 - lr: 1.0000e-08\n",
      "Epoch 2/2\n",
      "1/1 [==============================] - 0s 295ms/step - loss: 42.4101 - mae: 42.9058 - lr: 1.1220e-08\n",
      "1/1 [==============================] - 0s 24ms/step\n"
     ]
    },
    {
     "name": "stderr",
     "output_type": "stream",
     "text": [
      "WARNING:absl:`lr` is deprecated, please use `learning_rate` instead, or use the legacy optimizer, e.g.,tf.keras.optimizers.legacy.SGD.\n"
     ]
    },
    {
     "name": "stdout",
     "output_type": "stream",
     "text": [
      "Epoch 1/2\n",
      "1/1 [==============================] - 0s 409ms/step - loss: 34.7426 - mae: 35.2426 - lr: 1.0000e-08\n",
      "Epoch 2/2\n",
      "1/1 [==============================] - 0s 398ms/step - loss: 34.7423 - mae: 35.2424 - lr: 1.1220e-08\n",
      "1/1 [==============================] - 0s 25ms/step\n"
     ]
    },
    {
     "name": "stderr",
     "output_type": "stream",
     "text": [
      "WARNING:absl:`lr` is deprecated, please use `learning_rate` instead, or use the legacy optimizer, e.g.,tf.keras.optimizers.legacy.SGD.\n"
     ]
    },
    {
     "name": "stdout",
     "output_type": "stream",
     "text": [
      "Epoch 1/2\n",
      "1/1 [==============================] - 1s 579ms/step - loss: 52.0195 - mae: 52.5195 - lr: 1.0000e-08\n",
      "Epoch 2/2\n",
      "1/1 [==============================] - 1s 550ms/step - loss: 52.0193 - mae: 52.5193 - lr: 1.1220e-08\n",
      "1/1 [==============================] - 0s 25ms/step\n"
     ]
    },
    {
     "name": "stderr",
     "output_type": "stream",
     "text": [
      "WARNING:absl:`lr` is deprecated, please use `learning_rate` instead, or use the legacy optimizer, e.g.,tf.keras.optimizers.legacy.SGD.\n"
     ]
    },
    {
     "name": "stdout",
     "output_type": "stream",
     "text": [
      "Epoch 1/2\n",
      "1/1 [==============================] - 1s 807ms/step - loss: 23.4707 - mae: 23.9618 - lr: 1.0000e-08\n",
      "Epoch 2/2\n",
      "1/1 [==============================] - 1s 731ms/step - loss: 23.4706 - mae: 23.9617 - lr: 1.1220e-08\n",
      "1/1 [==============================] - 0s 22ms/step\n"
     ]
    },
    {
     "name": "stderr",
     "output_type": "stream",
     "text": [
      "WARNING:absl:`lr` is deprecated, please use `learning_rate` instead, or use the legacy optimizer, e.g.,tf.keras.optimizers.legacy.SGD.\n"
     ]
    },
    {
     "name": "stdout",
     "output_type": "stream",
     "text": [
      "Epoch 1/2\n",
      "1/1 [==============================] - 1s 923ms/step - loss: 37.6472 - mae: 38.1406 - lr: 1.0000e-08\n",
      "Epoch 2/2\n",
      "1/1 [==============================] - 1s 934ms/step - loss: 37.6469 - mae: 38.1404 - lr: 1.1220e-08\n",
      "1/1 [==============================] - 0s 23ms/step\n"
     ]
    },
    {
     "name": "stderr",
     "output_type": "stream",
     "text": [
      "WARNING:absl:`lr` is deprecated, please use `learning_rate` instead, or use the legacy optimizer, e.g.,tf.keras.optimizers.legacy.SGD.\n"
     ]
    },
    {
     "name": "stdout",
     "output_type": "stream",
     "text": [
      "Epoch 1/2\n",
      "1/1 [==============================] - 0s 306ms/step - loss: 19.2214 - mae: 19.7211 - lr: 1.0000e-08\n",
      "Epoch 2/2\n",
      "1/1 [==============================] - 0s 285ms/step - loss: 19.2212 - mae: 19.7209 - lr: 1.1220e-08\n",
      "1/1 [==============================] - 0s 24ms/step\n"
     ]
    },
    {
     "name": "stderr",
     "output_type": "stream",
     "text": [
      "WARNING:absl:`lr` is deprecated, please use `learning_rate` instead, or use the legacy optimizer, e.g.,tf.keras.optimizers.legacy.SGD.\n"
     ]
    },
    {
     "name": "stdout",
     "output_type": "stream",
     "text": [
      "Epoch 1/2\n",
      "1/1 [==============================] - 0s 428ms/step - loss: 39.0258 - mae: 39.5225 - lr: 1.0000e-08\n",
      "Epoch 2/2\n",
      "1/1 [==============================] - 0s 418ms/step - loss: 39.0255 - mae: 39.5222 - lr: 1.1220e-08\n",
      "1/1 [==============================] - 0s 25ms/step\n"
     ]
    },
    {
     "name": "stderr",
     "output_type": "stream",
     "text": [
      "WARNING:absl:`lr` is deprecated, please use `learning_rate` instead, or use the legacy optimizer, e.g.,tf.keras.optimizers.legacy.SGD.\n"
     ]
    },
    {
     "name": "stdout",
     "output_type": "stream",
     "text": [
      "Epoch 1/2\n",
      "1/1 [==============================] - 1s 572ms/step - loss: 23.1746 - mae: 23.6746 - lr: 1.0000e-08\n",
      "Epoch 2/2\n",
      "1/1 [==============================] - 1s 574ms/step - loss: 23.1744 - mae: 23.6744 - lr: 1.1220e-08\n",
      "1/1 [==============================] - 0s 24ms/step\n"
     ]
    },
    {
     "name": "stderr",
     "output_type": "stream",
     "text": [
      "WARNING:absl:`lr` is deprecated, please use `learning_rate` instead, or use the legacy optimizer, e.g.,tf.keras.optimizers.legacy.SGD.\n"
     ]
    },
    {
     "name": "stdout",
     "output_type": "stream",
     "text": [
      "Epoch 1/2\n",
      "1/1 [==============================] - 1s 752ms/step - loss: 40.6595 - mae: 41.1595 - lr: 1.0000e-08\n",
      "Epoch 2/2\n",
      "1/1 [==============================] - 1s 795ms/step - loss: 40.6591 - mae: 41.1591 - lr: 1.1220e-08\n",
      "1/1 [==============================] - 0s 24ms/step\n"
     ]
    },
    {
     "name": "stderr",
     "output_type": "stream",
     "text": [
      "WARNING:absl:`lr` is deprecated, please use `learning_rate` instead, or use the legacy optimizer, e.g.,tf.keras.optimizers.legacy.SGD.\n"
     ]
    },
    {
     "name": "stdout",
     "output_type": "stream",
     "text": [
      "Epoch 1/2\n",
      "1/1 [==============================] - 1s 928ms/step - loss: 36.6419 - mae: 37.1358 - lr: 1.0000e-08\n",
      "Epoch 2/2\n",
      "1/1 [==============================] - 1s 912ms/step - loss: 36.6416 - mae: 37.1354 - lr: 1.1220e-08\n",
      "1/1 [==============================] - 0s 21ms/step\n"
     ]
    },
    {
     "name": "stderr",
     "output_type": "stream",
     "text": [
      "WARNING:absl:`lr` is deprecated, please use `learning_rate` instead, or use the legacy optimizer, e.g.,tf.keras.optimizers.legacy.SGD.\n"
     ]
    },
    {
     "name": "stdout",
     "output_type": "stream",
     "text": [
      "Epoch 1/2\n",
      "1/1 [==============================] - 0s 292ms/step - loss: 49.4640 - mae: 49.9573 - lr: 1.0000e-08\n",
      "Epoch 2/2\n",
      "1/1 [==============================] - 0s 287ms/step - loss: 49.4635 - mae: 49.9567 - lr: 1.1220e-08\n",
      "1/1 [==============================] - 0s 26ms/step\n"
     ]
    },
    {
     "name": "stderr",
     "output_type": "stream",
     "text": [
      "WARNING:absl:`lr` is deprecated, please use `learning_rate` instead, or use the legacy optimizer, e.g.,tf.keras.optimizers.legacy.SGD.\n"
     ]
    },
    {
     "name": "stdout",
     "output_type": "stream",
     "text": [
      "Epoch 1/2\n",
      "1/1 [==============================] - 0s 422ms/step - loss: 38.8052 - mae: 39.3027 - lr: 1.0000e-08\n",
      "Epoch 2/2\n",
      "1/1 [==============================] - 0s 394ms/step - loss: 38.8050 - mae: 39.3024 - lr: 1.1220e-08\n",
      "1/1 [==============================] - 0s 28ms/step\n"
     ]
    },
    {
     "name": "stderr",
     "output_type": "stream",
     "text": [
      "WARNING:absl:`lr` is deprecated, please use `learning_rate` instead, or use the legacy optimizer, e.g.,tf.keras.optimizers.legacy.SGD.\n"
     ]
    },
    {
     "name": "stdout",
     "output_type": "stream",
     "text": [
      "Epoch 1/2\n",
      "1/1 [==============================] - 1s 554ms/step - loss: 44.1587 - mae: 44.6584 - lr: 1.0000e-08\n",
      "Epoch 2/2\n",
      "1/1 [==============================] - 1s 558ms/step - loss: 44.1586 - mae: 44.6582 - lr: 1.1220e-08\n",
      "1/1 [==============================] - 0s 32ms/step\n"
     ]
    },
    {
     "name": "stderr",
     "output_type": "stream",
     "text": [
      "WARNING:absl:`lr` is deprecated, please use `learning_rate` instead, or use the legacy optimizer, e.g.,tf.keras.optimizers.legacy.SGD.\n"
     ]
    },
    {
     "name": "stdout",
     "output_type": "stream",
     "text": [
      "Epoch 1/2\n",
      "1/1 [==============================] - 1s 784ms/step - loss: 27.5566 - mae: 28.0504 - lr: 1.0000e-08\n",
      "Epoch 2/2\n",
      "1/1 [==============================] - 1s 730ms/step - loss: 27.5564 - mae: 28.0502 - lr: 1.1220e-08\n",
      "1/1 [==============================] - 0s 22ms/step\n"
     ]
    },
    {
     "name": "stderr",
     "output_type": "stream",
     "text": [
      "WARNING:absl:`lr` is deprecated, please use `learning_rate` instead, or use the legacy optimizer, e.g.,tf.keras.optimizers.legacy.SGD.\n"
     ]
    },
    {
     "name": "stdout",
     "output_type": "stream",
     "text": [
      "Epoch 1/2\n",
      "1/1 [==============================] - 1s 943ms/step - loss: 73.2139 - mae: 73.7139 - lr: 1.0000e-08\n",
      "Epoch 2/2\n",
      "1/1 [==============================] - 1s 903ms/step - loss: 73.2132 - mae: 73.7132 - lr: 1.1220e-08\n",
      "1/1 [==============================] - 0s 21ms/step\n"
     ]
    },
    {
     "name": "stderr",
     "output_type": "stream",
     "text": [
      "WARNING:absl:`lr` is deprecated, please use `learning_rate` instead, or use the legacy optimizer, e.g.,tf.keras.optimizers.legacy.SGD.\n"
     ]
    },
    {
     "name": "stdout",
     "output_type": "stream",
     "text": [
      "Epoch 1/2\n",
      "1/1 [==============================] - 0s 290ms/step - loss: 43.2690 - mae: 43.7690 - lr: 1.0000e-08\n",
      "Epoch 2/2\n",
      "1/1 [==============================] - 0s 280ms/step - loss: 43.2688 - mae: 43.7688 - lr: 1.1220e-08\n",
      "1/1 [==============================] - 0s 23ms/step\n"
     ]
    },
    {
     "name": "stderr",
     "output_type": "stream",
     "text": [
      "WARNING:absl:`lr` is deprecated, please use `learning_rate` instead, or use the legacy optimizer, e.g.,tf.keras.optimizers.legacy.SGD.\n"
     ]
    },
    {
     "name": "stdout",
     "output_type": "stream",
     "text": [
      "Epoch 1/2\n",
      "1/1 [==============================] - 0s 411ms/step - loss: 61.9665 - mae: 62.4601 - lr: 1.0000e-08\n",
      "Epoch 2/2\n",
      "1/1 [==============================] - 0s 394ms/step - loss: 61.9663 - mae: 62.4598 - lr: 1.1220e-08\n",
      "1/1 [==============================] - 0s 25ms/step\n"
     ]
    },
    {
     "name": "stderr",
     "output_type": "stream",
     "text": [
      "WARNING:absl:`lr` is deprecated, please use `learning_rate` instead, or use the legacy optimizer, e.g.,tf.keras.optimizers.legacy.SGD.\n"
     ]
    },
    {
     "name": "stdout",
     "output_type": "stream",
     "text": [
      "Epoch 1/2\n",
      "1/1 [==============================] - 1s 553ms/step - loss: 41.4324 - mae: 41.9324 - lr: 1.0000e-08\n",
      "Epoch 2/2\n",
      "1/1 [==============================] - 1s 555ms/step - loss: 41.4321 - mae: 41.9321 - lr: 1.1220e-08\n",
      "1/1 [==============================] - 0s 24ms/step\n"
     ]
    },
    {
     "name": "stderr",
     "output_type": "stream",
     "text": [
      "WARNING:absl:`lr` is deprecated, please use `learning_rate` instead, or use the legacy optimizer, e.g.,tf.keras.optimizers.legacy.SGD.\n"
     ]
    },
    {
     "name": "stdout",
     "output_type": "stream",
     "text": [
      "Epoch 1/2\n",
      "1/1 [==============================] - 1s 718ms/step - loss: 25.5956 - mae: 26.0917 - lr: 1.0000e-08\n",
      "Epoch 2/2\n",
      "1/1 [==============================] - 1s 703ms/step - loss: 25.5954 - mae: 26.0915 - lr: 1.1220e-08\n",
      "1/1 [==============================] - 0s 21ms/step\n"
     ]
    },
    {
     "name": "stderr",
     "output_type": "stream",
     "text": [
      "WARNING:absl:`lr` is deprecated, please use `learning_rate` instead, or use the legacy optimizer, e.g.,tf.keras.optimizers.legacy.SGD.\n"
     ]
    },
    {
     "name": "stdout",
     "output_type": "stream",
     "text": [
      "Epoch 1/2\n",
      "1/1 [==============================] - 1s 938ms/step - loss: 47.3507 - mae: 47.8465 - lr: 1.0000e-08\n",
      "Epoch 2/2\n",
      "1/1 [==============================] - 1s 915ms/step - loss: 47.3502 - mae: 47.8460 - lr: 1.1220e-08\n",
      "1/1 [==============================] - 0s 26ms/step\n"
     ]
    },
    {
     "name": "stderr",
     "output_type": "stream",
     "text": [
      "WARNING:absl:`lr` is deprecated, please use `learning_rate` instead, or use the legacy optimizer, e.g.,tf.keras.optimizers.legacy.SGD.\n"
     ]
    },
    {
     "name": "stdout",
     "output_type": "stream",
     "text": [
      "Epoch 1/2\n",
      "1/1 [==============================] - 0s 304ms/step - loss: 31.2399 - mae: 31.7326 - lr: 1.0000e-08\n",
      "Epoch 2/2\n",
      "1/1 [==============================] - 0s 275ms/step - loss: 31.2396 - mae: 31.7324 - lr: 1.1220e-08\n",
      "1/1 [==============================] - 0s 24ms/step\n"
     ]
    },
    {
     "name": "stderr",
     "output_type": "stream",
     "text": [
      "WARNING:absl:`lr` is deprecated, please use `learning_rate` instead, or use the legacy optimizer, e.g.,tf.keras.optimizers.legacy.SGD.\n"
     ]
    },
    {
     "name": "stdout",
     "output_type": "stream",
     "text": [
      "Epoch 1/2\n",
      "1/1 [==============================] - 0s 425ms/step - loss: 35.5480 - mae: 36.0480 - lr: 1.0000e-08\n",
      "Epoch 2/2\n",
      "1/1 [==============================] - 0s 419ms/step - loss: 35.5472 - mae: 36.0472 - lr: 1.1220e-08\n",
      "1/1 [==============================] - 0s 24ms/step\n"
     ]
    },
    {
     "name": "stderr",
     "output_type": "stream",
     "text": [
      "WARNING:absl:`lr` is deprecated, please use `learning_rate` instead, or use the legacy optimizer, e.g.,tf.keras.optimizers.legacy.SGD.\n"
     ]
    },
    {
     "name": "stdout",
     "output_type": "stream",
     "text": [
      "Epoch 1/2\n",
      "1/1 [==============================] - 1s 552ms/step - loss: 25.5668 - mae: 26.0604 - lr: 1.0000e-08\n",
      "Epoch 2/2\n",
      "1/1 [==============================] - 1s 552ms/step - loss: 25.5666 - mae: 26.0602 - lr: 1.1220e-08\n",
      "1/1 [==============================] - 0s 44ms/step\n"
     ]
    },
    {
     "name": "stderr",
     "output_type": "stream",
     "text": [
      "WARNING:absl:`lr` is deprecated, please use `learning_rate` instead, or use the legacy optimizer, e.g.,tf.keras.optimizers.legacy.SGD.\n"
     ]
    },
    {
     "name": "stdout",
     "output_type": "stream",
     "text": [
      "Epoch 1/2\n",
      "1/1 [==============================] - 1s 741ms/step - loss: 26.8644 - mae: 27.3639 - lr: 1.0000e-08\n",
      "Epoch 2/2\n",
      "1/1 [==============================] - 1s 784ms/step - loss: 26.8640 - mae: 27.3635 - lr: 1.1220e-08\n",
      "1/1 [==============================] - 0s 22ms/step\n"
     ]
    },
    {
     "name": "stderr",
     "output_type": "stream",
     "text": [
      "WARNING:absl:`lr` is deprecated, please use `learning_rate` instead, or use the legacy optimizer, e.g.,tf.keras.optimizers.legacy.SGD.\n"
     ]
    },
    {
     "name": "stdout",
     "output_type": "stream",
     "text": [
      "Epoch 1/2\n",
      "1/1 [==============================] - 1s 924ms/step - loss: 38.8193 - mae: 39.3193 - lr: 1.0000e-08\n",
      "Epoch 2/2\n",
      "1/1 [==============================] - 1s 1s/step - loss: 38.8191 - mae: 39.3191 - lr: 1.1220e-08\n",
      "1/1 [==============================] - 0s 25ms/step\n"
     ]
    },
    {
     "name": "stderr",
     "output_type": "stream",
     "text": [
      "WARNING:absl:`lr` is deprecated, please use `learning_rate` instead, or use the legacy optimizer, e.g.,tf.keras.optimizers.legacy.SGD.\n"
     ]
    },
    {
     "name": "stdout",
     "output_type": "stream",
     "text": [
      "Epoch 1/2\n",
      "1/1 [==============================] - 0s 325ms/step - loss: 37.5408 - mae: 38.0322 - lr: 1.0000e-08\n",
      "Epoch 2/2\n",
      "1/1 [==============================] - 0s 294ms/step - loss: 37.5407 - mae: 38.0320 - lr: 1.1220e-08\n",
      "1/1 [==============================] - 0s 23ms/step\n"
     ]
    },
    {
     "name": "stderr",
     "output_type": "stream",
     "text": [
      "WARNING:absl:`lr` is deprecated, please use `learning_rate` instead, or use the legacy optimizer, e.g.,tf.keras.optimizers.legacy.SGD.\n"
     ]
    },
    {
     "name": "stdout",
     "output_type": "stream",
     "text": [
      "Epoch 1/2\n",
      "1/1 [==============================] - 0s 445ms/step - loss: 38.5550 - mae: 39.0550 - lr: 1.0000e-08\n",
      "Epoch 2/2\n",
      "1/1 [==============================] - 0s 480ms/step - loss: 38.5548 - mae: 39.0548 - lr: 1.1220e-08\n",
      "1/1 [==============================] - 0s 26ms/step\n"
     ]
    },
    {
     "name": "stderr",
     "output_type": "stream",
     "text": [
      "WARNING:absl:`lr` is deprecated, please use `learning_rate` instead, or use the legacy optimizer, e.g.,tf.keras.optimizers.legacy.SGD.\n"
     ]
    },
    {
     "name": "stdout",
     "output_type": "stream",
     "text": [
      "Epoch 1/2\n",
      "1/1 [==============================] - 1s 692ms/step - loss: 86.2948 - mae: 86.7948 - lr: 1.0000e-08\n",
      "Epoch 2/2\n",
      "1/1 [==============================] - 1s 573ms/step - loss: 86.2940 - mae: 86.7940 - lr: 1.1220e-08\n",
      "1/1 [==============================] - 0s 26ms/step\n"
     ]
    },
    {
     "name": "stderr",
     "output_type": "stream",
     "text": [
      "WARNING:absl:`lr` is deprecated, please use `learning_rate` instead, or use the legacy optimizer, e.g.,tf.keras.optimizers.legacy.SGD.\n"
     ]
    },
    {
     "name": "stdout",
     "output_type": "stream",
     "text": [
      "Epoch 1/2\n",
      "1/1 [==============================] - 1s 796ms/step - loss: 23.0937 - mae: 23.5902 - lr: 1.0000e-08\n",
      "Epoch 2/2\n",
      "1/1 [==============================] - 1s 796ms/step - loss: 23.0936 - mae: 23.5900 - lr: 1.1220e-08\n",
      "1/1 [==============================] - 0s 22ms/step\n"
     ]
    },
    {
     "name": "stderr",
     "output_type": "stream",
     "text": [
      "WARNING:absl:`lr` is deprecated, please use `learning_rate` instead, or use the legacy optimizer, e.g.,tf.keras.optimizers.legacy.SGD.\n"
     ]
    },
    {
     "name": "stdout",
     "output_type": "stream",
     "text": [
      "Epoch 1/2\n",
      "1/1 [==============================] - 1s 970ms/step - loss: 25.0026 - mae: 25.5026 - lr: 1.0000e-08\n",
      "Epoch 2/2\n",
      "1/1 [==============================] - 1s 948ms/step - loss: 25.0024 - mae: 25.5024 - lr: 1.1220e-08\n",
      "1/1 [==============================] - 0s 22ms/step\n"
     ]
    },
    {
     "name": "stderr",
     "output_type": "stream",
     "text": [
      "WARNING:absl:`lr` is deprecated, please use `learning_rate` instead, or use the legacy optimizer, e.g.,tf.keras.optimizers.legacy.SGD.\n"
     ]
    },
    {
     "name": "stdout",
     "output_type": "stream",
     "text": [
      "Epoch 1/2\n",
      "1/1 [==============================] - 0s 307ms/step - loss: 43.6225 - mae: 44.1225 - lr: 1.0000e-08\n",
      "Epoch 2/2\n",
      "1/1 [==============================] - 0s 293ms/step - loss: 43.6223 - mae: 44.1223 - lr: 1.1220e-08\n",
      "1/1 [==============================] - 0s 46ms/step\n"
     ]
    },
    {
     "name": "stderr",
     "output_type": "stream",
     "text": [
      "WARNING:absl:`lr` is deprecated, please use `learning_rate` instead, or use the legacy optimizer, e.g.,tf.keras.optimizers.legacy.SGD.\n"
     ]
    },
    {
     "name": "stdout",
     "output_type": "stream",
     "text": [
      "Epoch 1/2\n",
      "1/1 [==============================] - 0s 444ms/step - loss: 36.4628 - mae: 36.9607 - lr: 1.0000e-08\n",
      "Epoch 2/2\n",
      "1/1 [==============================] - 0s 419ms/step - loss: 36.4624 - mae: 36.9603 - lr: 1.1220e-08\n",
      "1/1 [==============================] - 0s 25ms/step\n"
     ]
    },
    {
     "name": "stderr",
     "output_type": "stream",
     "text": [
      "WARNING:absl:`lr` is deprecated, please use `learning_rate` instead, or use the legacy optimizer, e.g.,tf.keras.optimizers.legacy.SGD.\n"
     ]
    },
    {
     "name": "stdout",
     "output_type": "stream",
     "text": [
      "Epoch 1/2\n",
      "1/1 [==============================] - 1s 585ms/step - loss: 33.0008 - mae: 33.4995 - lr: 1.0000e-08\n",
      "Epoch 2/2\n",
      "1/1 [==============================] - 1s 555ms/step - loss: 33.0005 - mae: 33.4992 - lr: 1.1220e-08\n",
      "1/1 [==============================] - 0s 30ms/step\n"
     ]
    },
    {
     "name": "stderr",
     "output_type": "stream",
     "text": [
      "WARNING:absl:`lr` is deprecated, please use `learning_rate` instead, or use the legacy optimizer, e.g.,tf.keras.optimizers.legacy.SGD.\n"
     ]
    },
    {
     "name": "stdout",
     "output_type": "stream",
     "text": [
      "Epoch 1/2\n",
      "1/1 [==============================] - 1s 756ms/step - loss: 30.5861 - mae: 31.0861 - lr: 1.0000e-08\n",
      "Epoch 2/2\n",
      "1/1 [==============================] - 1s 744ms/step - loss: 30.5859 - mae: 31.0858 - lr: 1.1220e-08\n",
      "1/1 [==============================] - 0s 26ms/step\n"
     ]
    },
    {
     "name": "stderr",
     "output_type": "stream",
     "text": [
      "WARNING:absl:`lr` is deprecated, please use `learning_rate` instead, or use the legacy optimizer, e.g.,tf.keras.optimizers.legacy.SGD.\n"
     ]
    },
    {
     "name": "stdout",
     "output_type": "stream",
     "text": [
      "Epoch 1/2\n",
      "1/1 [==============================] - 1s 972ms/step - loss: 41.1022 - mae: 41.5973 - lr: 1.0000e-08\n",
      "Epoch 2/2\n",
      "1/1 [==============================] - 1s 954ms/step - loss: 41.1018 - mae: 41.5969 - lr: 1.1220e-08\n",
      "1/1 [==============================] - 0s 22ms/step\n"
     ]
    },
    {
     "name": "stderr",
     "output_type": "stream",
     "text": [
      "WARNING:absl:`lr` is deprecated, please use `learning_rate` instead, or use the legacy optimizer, e.g.,tf.keras.optimizers.legacy.SGD.\n"
     ]
    },
    {
     "name": "stdout",
     "output_type": "stream",
     "text": [
      "Epoch 1/2\n",
      "1/1 [==============================] - 0s 304ms/step - loss: 34.5105 - mae: 35.0104 - lr: 1.0000e-08\n",
      "Epoch 2/2\n",
      "1/1 [==============================] - 0s 298ms/step - loss: 34.5103 - mae: 35.0102 - lr: 1.1220e-08\n",
      "1/1 [==============================] - 0s 25ms/step\n"
     ]
    },
    {
     "name": "stderr",
     "output_type": "stream",
     "text": [
      "WARNING:absl:`lr` is deprecated, please use `learning_rate` instead, or use the legacy optimizer, e.g.,tf.keras.optimizers.legacy.SGD.\n"
     ]
    },
    {
     "name": "stdout",
     "output_type": "stream",
     "text": [
      "Epoch 1/2\n",
      "1/1 [==============================] - 0s 435ms/step - loss: 34.5443 - mae: 35.0443 - lr: 1.0000e-08\n",
      "Epoch 2/2\n",
      "1/1 [==============================] - 0s 425ms/step - loss: 34.5441 - mae: 35.0441 - lr: 1.1220e-08\n",
      "1/1 [==============================] - 0s 31ms/step\n"
     ]
    },
    {
     "name": "stderr",
     "output_type": "stream",
     "text": [
      "WARNING:absl:`lr` is deprecated, please use `learning_rate` instead, or use the legacy optimizer, e.g.,tf.keras.optimizers.legacy.SGD.\n"
     ]
    },
    {
     "name": "stdout",
     "output_type": "stream",
     "text": [
      "Epoch 1/2\n",
      "1/1 [==============================] - 1s 573ms/step - loss: 29.2535 - mae: 29.7535 - lr: 1.0000e-08\n",
      "Epoch 2/2\n",
      "1/1 [==============================] - 1s 571ms/step - loss: 29.2533 - mae: 29.7533 - lr: 1.1220e-08\n",
      "1/1 [==============================] - 0s 28ms/step\n"
     ]
    },
    {
     "name": "stderr",
     "output_type": "stream",
     "text": [
      "WARNING:absl:`lr` is deprecated, please use `learning_rate` instead, or use the legacy optimizer, e.g.,tf.keras.optimizers.legacy.SGD.\n"
     ]
    },
    {
     "name": "stdout",
     "output_type": "stream",
     "text": [
      "Epoch 1/2\n",
      "1/1 [==============================] - 1s 770ms/step - loss: 25.1015 - mae: 25.6015 - lr: 1.0000e-08\n",
      "Epoch 2/2\n",
      "1/1 [==============================] - 1s 743ms/step - loss: 25.1013 - mae: 25.6013 - lr: 1.1220e-08\n",
      "1/1 [==============================] - 0s 23ms/step\n"
     ]
    },
    {
     "name": "stderr",
     "output_type": "stream",
     "text": [
      "WARNING:absl:`lr` is deprecated, please use `learning_rate` instead, or use the legacy optimizer, e.g.,tf.keras.optimizers.legacy.SGD.\n"
     ]
    },
    {
     "name": "stdout",
     "output_type": "stream",
     "text": [
      "Epoch 1/2\n",
      "1/1 [==============================] - 1s 1s/step - loss: 41.1944 - mae: 41.6826 - lr: 1.0000e-08\n",
      "Epoch 2/2\n",
      "1/1 [==============================] - 1s 1s/step - loss: 41.1942 - mae: 41.6824 - lr: 1.1220e-08\n",
      "1/1 [==============================] - 0s 31ms/step\n"
     ]
    },
    {
     "name": "stderr",
     "output_type": "stream",
     "text": [
      "WARNING:absl:`lr` is deprecated, please use `learning_rate` instead, or use the legacy optimizer, e.g.,tf.keras.optimizers.legacy.SGD.\n"
     ]
    },
    {
     "name": "stdout",
     "output_type": "stream",
     "text": [
      "Epoch 1/2\n",
      "1/1 [==============================] - 0s 299ms/step - loss: 67.0746 - mae: 67.5697 - lr: 1.0000e-08\n",
      "Epoch 2/2\n",
      "1/1 [==============================] - 0s 298ms/step - loss: 67.0738 - mae: 67.5689 - lr: 1.1220e-08\n",
      "1/1 [==============================] - 0s 26ms/step\n"
     ]
    },
    {
     "name": "stderr",
     "output_type": "stream",
     "text": [
      "WARNING:absl:`lr` is deprecated, please use `learning_rate` instead, or use the legacy optimizer, e.g.,tf.keras.optimizers.legacy.SGD.\n"
     ]
    },
    {
     "name": "stdout",
     "output_type": "stream",
     "text": [
      "Epoch 1/2\n",
      "1/1 [==============================] - 0s 420ms/step - loss: 34.6561 - mae: 35.1561 - lr: 1.0000e-08\n",
      "Epoch 2/2\n",
      "1/1 [==============================] - 0s 425ms/step - loss: 34.6558 - mae: 35.1558 - lr: 1.1220e-08\n",
      "1/1 [==============================] - 0s 27ms/step\n"
     ]
    },
    {
     "name": "stderr",
     "output_type": "stream",
     "text": [
      "WARNING:absl:`lr` is deprecated, please use `learning_rate` instead, or use the legacy optimizer, e.g.,tf.keras.optimizers.legacy.SGD.\n"
     ]
    },
    {
     "name": "stdout",
     "output_type": "stream",
     "text": [
      "Epoch 1/2\n",
      "1/1 [==============================] - 1s 600ms/step - loss: 39.9428 - mae: 40.4408 - lr: 1.0000e-08\n",
      "Epoch 2/2\n",
      "1/1 [==============================] - 1s 597ms/step - loss: 39.9426 - mae: 40.4407 - lr: 1.1220e-08\n",
      "1/1 [==============================] - 0s 28ms/step\n"
     ]
    },
    {
     "name": "stderr",
     "output_type": "stream",
     "text": [
      "WARNING:absl:`lr` is deprecated, please use `learning_rate` instead, or use the legacy optimizer, e.g.,tf.keras.optimizers.legacy.SGD.\n"
     ]
    },
    {
     "name": "stdout",
     "output_type": "stream",
     "text": [
      "Epoch 1/2\n",
      "1/1 [==============================] - 1s 813ms/step - loss: 33.3574 - mae: 33.8574 - lr: 1.0000e-08\n",
      "Epoch 2/2\n",
      "1/1 [==============================] - 1s 767ms/step - loss: 33.3572 - mae: 33.8572 - lr: 1.1220e-08\n",
      "1/1 [==============================] - 0s 23ms/step\n"
     ]
    },
    {
     "name": "stderr",
     "output_type": "stream",
     "text": [
      "WARNING:absl:`lr` is deprecated, please use `learning_rate` instead, or use the legacy optimizer, e.g.,tf.keras.optimizers.legacy.SGD.\n"
     ]
    },
    {
     "name": "stdout",
     "output_type": "stream",
     "text": [
      "Epoch 1/2\n",
      "1/1 [==============================] - 1s 957ms/step - loss: 30.4300 - mae: 30.9167 - lr: 1.0000e-08\n",
      "Epoch 2/2\n",
      "1/1 [==============================] - 1s 946ms/step - loss: 30.4298 - mae: 30.9165 - lr: 1.1220e-08\n",
      "1/1 [==============================] - 0s 22ms/step\n"
     ]
    },
    {
     "name": "stderr",
     "output_type": "stream",
     "text": [
      "WARNING:absl:`lr` is deprecated, please use `learning_rate` instead, or use the legacy optimizer, e.g.,tf.keras.optimizers.legacy.SGD.\n"
     ]
    },
    {
     "name": "stdout",
     "output_type": "stream",
     "text": [
      "Epoch 1/2\n",
      "1/1 [==============================] - 0s 305ms/step - loss: 16.1796 - mae: 16.6794 - lr: 1.0000e-08\n",
      "Epoch 2/2\n",
      "1/1 [==============================] - 0s 286ms/step - loss: 16.1795 - mae: 16.6793 - lr: 1.1220e-08\n",
      "1/1 [==============================] - 0s 25ms/step\n"
     ]
    },
    {
     "name": "stderr",
     "output_type": "stream",
     "text": [
      "WARNING:absl:`lr` is deprecated, please use `learning_rate` instead, or use the legacy optimizer, e.g.,tf.keras.optimizers.legacy.SGD.\n"
     ]
    },
    {
     "name": "stdout",
     "output_type": "stream",
     "text": [
      "Epoch 1/2\n",
      "1/1 [==============================] - 0s 432ms/step - loss: 38.1901 - mae: 38.6901 - lr: 1.0000e-08\n",
      "Epoch 2/2\n",
      "1/1 [==============================] - 0s 410ms/step - loss: 38.1898 - mae: 38.6898 - lr: 1.1220e-08\n",
      "1/1 [==============================] - 0s 25ms/step\n"
     ]
    },
    {
     "name": "stderr",
     "output_type": "stream",
     "text": [
      "WARNING:absl:`lr` is deprecated, please use `learning_rate` instead, or use the legacy optimizer, e.g.,tf.keras.optimizers.legacy.SGD.\n"
     ]
    },
    {
     "name": "stdout",
     "output_type": "stream",
     "text": [
      "Epoch 1/2\n",
      "1/1 [==============================] - 1s 574ms/step - loss: 36.7850 - mae: 37.2850 - lr: 1.0000e-08\n",
      "Epoch 2/2\n",
      "1/1 [==============================] - 1s 570ms/step - loss: 36.7848 - mae: 37.2848 - lr: 1.1220e-08\n",
      "1/1 [==============================] - 0s 25ms/step\n"
     ]
    },
    {
     "name": "stderr",
     "output_type": "stream",
     "text": [
      "WARNING:absl:`lr` is deprecated, please use `learning_rate` instead, or use the legacy optimizer, e.g.,tf.keras.optimizers.legacy.SGD.\n"
     ]
    },
    {
     "name": "stdout",
     "output_type": "stream",
     "text": [
      "Epoch 1/2\n",
      "1/1 [==============================] - 1s 749ms/step - loss: 23.0770 - mae: 23.5770 - lr: 1.0000e-08\n",
      "Epoch 2/2\n",
      "1/1 [==============================] - 1s 732ms/step - loss: 23.0768 - mae: 23.5768 - lr: 1.1220e-08\n",
      "1/1 [==============================] - 0s 22ms/step\n"
     ]
    },
    {
     "name": "stderr",
     "output_type": "stream",
     "text": [
      "WARNING:absl:`lr` is deprecated, please use `learning_rate` instead, or use the legacy optimizer, e.g.,tf.keras.optimizers.legacy.SGD.\n"
     ]
    },
    {
     "name": "stdout",
     "output_type": "stream",
     "text": [
      "Epoch 1/2\n",
      "1/1 [==============================] - 1s 962ms/step - loss: 41.5710 - mae: 42.0696 - lr: 1.0000e-08\n",
      "Epoch 2/2\n",
      "1/1 [==============================] - 1s 967ms/step - loss: 41.5705 - mae: 42.0690 - lr: 1.1220e-08\n",
      "1/1 [==============================] - 0s 28ms/step\n"
     ]
    },
    {
     "name": "stderr",
     "output_type": "stream",
     "text": [
      "WARNING:absl:`lr` is deprecated, please use `learning_rate` instead, or use the legacy optimizer, e.g.,tf.keras.optimizers.legacy.SGD.\n"
     ]
    },
    {
     "name": "stdout",
     "output_type": "stream",
     "text": [
      "Epoch 1/2\n",
      "1/1 [==============================] - 0s 303ms/step - loss: 55.4698 - mae: 55.9698 - lr: 1.0000e-08\n",
      "Epoch 2/2\n",
      "1/1 [==============================] - 0s 284ms/step - loss: 55.4695 - mae: 55.9695 - lr: 1.1220e-08\n",
      "1/1 [==============================] - 0s 24ms/step\n"
     ]
    },
    {
     "name": "stderr",
     "output_type": "stream",
     "text": [
      "WARNING:absl:`lr` is deprecated, please use `learning_rate` instead, or use the legacy optimizer, e.g.,tf.keras.optimizers.legacy.SGD.\n"
     ]
    },
    {
     "name": "stdout",
     "output_type": "stream",
     "text": [
      "Epoch 1/2\n",
      "1/1 [==============================] - 0s 443ms/step - loss: 49.8697 - mae: 50.3681 - lr: 1.0000e-08\n",
      "Epoch 2/2\n",
      "1/1 [==============================] - 0s 418ms/step - loss: 49.8691 - mae: 50.3675 - lr: 1.1220e-08\n",
      "1/1 [==============================] - 0s 25ms/step\n"
     ]
    },
    {
     "name": "stderr",
     "output_type": "stream",
     "text": [
      "WARNING:absl:`lr` is deprecated, please use `learning_rate` instead, or use the legacy optimizer, e.g.,tf.keras.optimizers.legacy.SGD.\n"
     ]
    },
    {
     "name": "stdout",
     "output_type": "stream",
     "text": [
      "Epoch 1/2\n",
      "1/1 [==============================] - 1s 580ms/step - loss: 24.8159 - mae: 25.3082 - lr: 1.0000e-08\n",
      "Epoch 2/2\n",
      "1/1 [==============================] - 1s 563ms/step - loss: 24.8157 - mae: 25.3080 - lr: 1.1220e-08\n",
      "1/1 [==============================] - 0s 25ms/step\n"
     ]
    },
    {
     "name": "stderr",
     "output_type": "stream",
     "text": [
      "WARNING:absl:`lr` is deprecated, please use `learning_rate` instead, or use the legacy optimizer, e.g.,tf.keras.optimizers.legacy.SGD.\n"
     ]
    },
    {
     "name": "stdout",
     "output_type": "stream",
     "text": [
      "Epoch 1/2\n",
      "1/1 [==============================] - 1s 739ms/step - loss: 55.5345 - mae: 56.0304 - lr: 1.0000e-08\n",
      "Epoch 2/2\n",
      "1/1 [==============================] - 1s 732ms/step - loss: 55.5342 - mae: 56.0301 - lr: 1.1220e-08\n",
      "1/1 [==============================] - 0s 24ms/step\n"
     ]
    },
    {
     "name": "stderr",
     "output_type": "stream",
     "text": [
      "WARNING:absl:`lr` is deprecated, please use `learning_rate` instead, or use the legacy optimizer, e.g.,tf.keras.optimizers.legacy.SGD.\n"
     ]
    },
    {
     "name": "stdout",
     "output_type": "stream",
     "text": [
      "Epoch 1/2\n",
      "1/1 [==============================] - 1s 951ms/step - loss: 47.2078 - mae: 47.7019 - lr: 1.0000e-08\n",
      "Epoch 2/2\n",
      "1/1 [==============================] - 1s 943ms/step - loss: 47.2075 - mae: 47.7016 - lr: 1.1220e-08\n",
      "1/1 [==============================] - 0s 22ms/step\n"
     ]
    },
    {
     "name": "stderr",
     "output_type": "stream",
     "text": [
      "WARNING:absl:`lr` is deprecated, please use `learning_rate` instead, or use the legacy optimizer, e.g.,tf.keras.optimizers.legacy.SGD.\n"
     ]
    },
    {
     "name": "stdout",
     "output_type": "stream",
     "text": [
      "Epoch 1/2\n",
      "1/1 [==============================] - 0s 304ms/step - loss: 19.8699 - mae: 20.3699 - lr: 1.0000e-08\n",
      "Epoch 2/2\n",
      "1/1 [==============================] - 0s 294ms/step - loss: 19.8696 - mae: 20.3696 - lr: 1.1220e-08\n",
      "1/1 [==============================] - 0s 23ms/step\n"
     ]
    },
    {
     "name": "stderr",
     "output_type": "stream",
     "text": [
      "WARNING:absl:`lr` is deprecated, please use `learning_rate` instead, or use the legacy optimizer, e.g.,tf.keras.optimizers.legacy.SGD.\n"
     ]
    },
    {
     "name": "stdout",
     "output_type": "stream",
     "text": [
      "Epoch 1/2\n",
      "1/1 [==============================] - 0s 418ms/step - loss: 20.8811 - mae: 21.3811 - lr: 1.0000e-08\n",
      "Epoch 2/2\n",
      "1/1 [==============================] - 0s 417ms/step - loss: 20.8809 - mae: 21.3809 - lr: 1.1220e-08\n",
      "1/1 [==============================] - 0s 27ms/step\n"
     ]
    },
    {
     "name": "stderr",
     "output_type": "stream",
     "text": [
      "WARNING:absl:`lr` is deprecated, please use `learning_rate` instead, or use the legacy optimizer, e.g.,tf.keras.optimizers.legacy.SGD.\n"
     ]
    },
    {
     "name": "stdout",
     "output_type": "stream",
     "text": [
      "Epoch 1/2\n",
      "1/1 [==============================] - 1s 642ms/step - loss: 45.3429 - mae: 45.8381 - lr: 1.0000e-08\n",
      "Epoch 2/2\n",
      "1/1 [==============================] - 1s 564ms/step - loss: 45.3425 - mae: 45.8378 - lr: 1.1220e-08\n",
      "1/1 [==============================] - 0s 31ms/step\n"
     ]
    },
    {
     "name": "stderr",
     "output_type": "stream",
     "text": [
      "WARNING:absl:`lr` is deprecated, please use `learning_rate` instead, or use the legacy optimizer, e.g.,tf.keras.optimizers.legacy.SGD.\n"
     ]
    },
    {
     "name": "stdout",
     "output_type": "stream",
     "text": [
      "Epoch 1/2\n",
      "1/1 [==============================] - 1s 900ms/step - loss: 80.6529 - mae: 81.1529 - lr: 1.0000e-08\n",
      "Epoch 2/2\n",
      "1/1 [==============================] - 1s 900ms/step - loss: 80.6522 - mae: 81.1522 - lr: 1.1220e-08\n",
      "1/1 [==============================] - 0s 24ms/step\n"
     ]
    },
    {
     "name": "stderr",
     "output_type": "stream",
     "text": [
      "WARNING:absl:`lr` is deprecated, please use `learning_rate` instead, or use the legacy optimizer, e.g.,tf.keras.optimizers.legacy.SGD.\n"
     ]
    },
    {
     "name": "stdout",
     "output_type": "stream",
     "text": [
      "Epoch 1/2\n",
      "1/1 [==============================] - 1s 1s/step - loss: 62.1148 - mae: 62.6148 - lr: 1.0000e-08\n",
      "Epoch 2/2\n",
      "1/1 [==============================] - 1s 984ms/step - loss: 62.1141 - mae: 62.6141 - lr: 1.1220e-08\n",
      "1/1 [==============================] - 0s 26ms/step\n"
     ]
    },
    {
     "name": "stderr",
     "output_type": "stream",
     "text": [
      "WARNING:absl:`lr` is deprecated, please use `learning_rate` instead, or use the legacy optimizer, e.g.,tf.keras.optimizers.legacy.SGD.\n"
     ]
    },
    {
     "name": "stdout",
     "output_type": "stream",
     "text": [
      "Epoch 1/2\n",
      "1/1 [==============================] - 0s 313ms/step - loss: 28.4605 - mae: 28.9560 - lr: 1.0000e-08\n",
      "Epoch 2/2\n",
      "1/1 [==============================] - 0s 292ms/step - loss: 28.4603 - mae: 28.9558 - lr: 1.1220e-08\n",
      "1/1 [==============================] - 0s 26ms/step\n"
     ]
    },
    {
     "name": "stderr",
     "output_type": "stream",
     "text": [
      "WARNING:absl:`lr` is deprecated, please use `learning_rate` instead, or use the legacy optimizer, e.g.,tf.keras.optimizers.legacy.SGD.\n"
     ]
    },
    {
     "name": "stdout",
     "output_type": "stream",
     "text": [
      "Epoch 1/2\n",
      "1/1 [==============================] - 0s 449ms/step - loss: 47.8149 - mae: 48.3149 - lr: 1.0000e-08\n",
      "Epoch 2/2\n",
      "1/1 [==============================] - 0s 422ms/step - loss: 47.8147 - mae: 48.3147 - lr: 1.1220e-08\n",
      "1/1 [==============================] - 0s 25ms/step\n"
     ]
    },
    {
     "name": "stderr",
     "output_type": "stream",
     "text": [
      "WARNING:absl:`lr` is deprecated, please use `learning_rate` instead, or use the legacy optimizer, e.g.,tf.keras.optimizers.legacy.SGD.\n"
     ]
    },
    {
     "name": "stdout",
     "output_type": "stream",
     "text": [
      "Epoch 1/2\n",
      "1/1 [==============================] - 1s 591ms/step - loss: 30.7117 - mae: 31.2116 - lr: 1.0000e-08\n",
      "Epoch 2/2\n",
      "1/1 [==============================] - 1s 575ms/step - loss: 30.7115 - mae: 31.2114 - lr: 1.1220e-08\n",
      "1/1 [==============================] - 0s 32ms/step\n"
     ]
    },
    {
     "name": "stderr",
     "output_type": "stream",
     "text": [
      "WARNING:absl:`lr` is deprecated, please use `learning_rate` instead, or use the legacy optimizer, e.g.,tf.keras.optimizers.legacy.SGD.\n"
     ]
    },
    {
     "name": "stdout",
     "output_type": "stream",
     "text": [
      "Epoch 1/2\n",
      "1/1 [==============================] - 1s 765ms/step - loss: 37.1469 - mae: 37.6460 - lr: 1.0000e-08\n",
      "Epoch 2/2\n",
      "1/1 [==============================] - 1s 742ms/step - loss: 37.1467 - mae: 37.6459 - lr: 1.1220e-08\n",
      "1/1 [==============================] - 0s 21ms/step\n"
     ]
    },
    {
     "name": "stderr",
     "output_type": "stream",
     "text": [
      "WARNING:absl:`lr` is deprecated, please use `learning_rate` instead, or use the legacy optimizer, e.g.,tf.keras.optimizers.legacy.SGD.\n"
     ]
    },
    {
     "name": "stdout",
     "output_type": "stream",
     "text": [
      "Epoch 1/2\n",
      "1/1 [==============================] - 1s 970ms/step - loss: 26.9929 - mae: 27.4837 - lr: 1.0000e-08\n",
      "Epoch 2/2\n",
      "1/1 [==============================] - 1s 946ms/step - loss: 26.9927 - mae: 27.4834 - lr: 1.1220e-08\n",
      "1/1 [==============================] - 0s 22ms/step\n"
     ]
    },
    {
     "name": "stderr",
     "output_type": "stream",
     "text": [
      "WARNING:absl:`lr` is deprecated, please use `learning_rate` instead, or use the legacy optimizer, e.g.,tf.keras.optimizers.legacy.SGD.\n"
     ]
    },
    {
     "name": "stdout",
     "output_type": "stream",
     "text": [
      "Epoch 1/2\n",
      "1/1 [==============================] - 0s 299ms/step - loss: 41.4641 - mae: 41.9641 - lr: 1.0000e-08\n",
      "Epoch 2/2\n",
      "1/1 [==============================] - 0s 294ms/step - loss: 41.4638 - mae: 41.9638 - lr: 1.1220e-08\n",
      "1/1 [==============================] - 0s 23ms/step\n"
     ]
    },
    {
     "name": "stderr",
     "output_type": "stream",
     "text": [
      "WARNING:absl:`lr` is deprecated, please use `learning_rate` instead, or use the legacy optimizer, e.g.,tf.keras.optimizers.legacy.SGD.\n"
     ]
    },
    {
     "name": "stdout",
     "output_type": "stream",
     "text": [
      "Epoch 1/2\n",
      "1/1 [==============================] - 0s 423ms/step - loss: 35.8680 - mae: 36.3680 - lr: 1.0000e-08\n",
      "Epoch 2/2\n",
      "1/1 [==============================] - 0s 411ms/step - loss: 35.8677 - mae: 36.3677 - lr: 1.1220e-08\n",
      "1/1 [==============================] - 0s 27ms/step\n"
     ]
    },
    {
     "name": "stderr",
     "output_type": "stream",
     "text": [
      "WARNING:absl:`lr` is deprecated, please use `learning_rate` instead, or use the legacy optimizer, e.g.,tf.keras.optimizers.legacy.SGD.\n"
     ]
    },
    {
     "name": "stdout",
     "output_type": "stream",
     "text": [
      "Epoch 1/2\n",
      "1/1 [==============================] - 1s 659ms/step - loss: 54.0699 - mae: 54.5699 - lr: 1.0000e-08\n",
      "Epoch 2/2\n",
      "1/1 [==============================] - 1s 593ms/step - loss: 54.0696 - mae: 54.5696 - lr: 1.1220e-08\n",
      "1/1 [==============================] - 0s 29ms/step\n"
     ]
    },
    {
     "name": "stderr",
     "output_type": "stream",
     "text": [
      "WARNING:absl:`lr` is deprecated, please use `learning_rate` instead, or use the legacy optimizer, e.g.,tf.keras.optimizers.legacy.SGD.\n"
     ]
    },
    {
     "name": "stdout",
     "output_type": "stream",
     "text": [
      "Epoch 1/2\n",
      "1/1 [==============================] - 1s 836ms/step - loss: 44.5517 - mae: 45.0440 - lr: 1.0000e-08\n",
      "Epoch 2/2\n",
      "1/1 [==============================] - 1s 747ms/step - loss: 44.5514 - mae: 45.0437 - lr: 1.1220e-08\n",
      "1/1 [==============================] - 0s 26ms/step\n"
     ]
    },
    {
     "name": "stderr",
     "output_type": "stream",
     "text": [
      "WARNING:absl:`lr` is deprecated, please use `learning_rate` instead, or use the legacy optimizer, e.g.,tf.keras.optimizers.legacy.SGD.\n"
     ]
    },
    {
     "name": "stdout",
     "output_type": "stream",
     "text": [
      "Epoch 1/2\n",
      "1/1 [==============================] - 1s 978ms/step - loss: 32.8703 - mae: 33.3660 - lr: 1.0000e-08\n",
      "Epoch 2/2\n",
      "1/1 [==============================] - 1s 974ms/step - loss: 32.8700 - mae: 33.3658 - lr: 1.1220e-08\n",
      "1/1 [==============================] - 0s 27ms/step\n"
     ]
    },
    {
     "name": "stderr",
     "output_type": "stream",
     "text": [
      "WARNING:absl:`lr` is deprecated, please use `learning_rate` instead, or use the legacy optimizer, e.g.,tf.keras.optimizers.legacy.SGD.\n"
     ]
    },
    {
     "name": "stdout",
     "output_type": "stream",
     "text": [
      "Epoch 1/2\n",
      "1/1 [==============================] - 0s 313ms/step - loss: 31.8632 - mae: 32.3592 - lr: 1.0000e-08\n",
      "Epoch 2/2\n",
      "1/1 [==============================] - 0s 323ms/step - loss: 31.8630 - mae: 32.3590 - lr: 1.1220e-08\n",
      "1/1 [==============================] - 0s 26ms/step\n"
     ]
    },
    {
     "name": "stderr",
     "output_type": "stream",
     "text": [
      "WARNING:absl:`lr` is deprecated, please use `learning_rate` instead, or use the legacy optimizer, e.g.,tf.keras.optimizers.legacy.SGD.\n"
     ]
    },
    {
     "name": "stdout",
     "output_type": "stream",
     "text": [
      "Epoch 1/2\n",
      "1/1 [==============================] - 0s 458ms/step - loss: 37.1513 - mae: 37.6513 - lr: 1.0000e-08\n",
      "Epoch 2/2\n",
      "1/1 [==============================] - 0s 418ms/step - loss: 37.1511 - mae: 37.6511 - lr: 1.1220e-08\n",
      "1/1 [==============================] - 0s 26ms/step\n"
     ]
    },
    {
     "name": "stderr",
     "output_type": "stream",
     "text": [
      "WARNING:absl:`lr` is deprecated, please use `learning_rate` instead, or use the legacy optimizer, e.g.,tf.keras.optimizers.legacy.SGD.\n"
     ]
    },
    {
     "name": "stdout",
     "output_type": "stream",
     "text": [
      "Epoch 1/2\n",
      "1/1 [==============================] - 1s 606ms/step - loss: 36.5073 - mae: 37.0069 - lr: 1.0000e-08\n",
      "Epoch 2/2\n",
      "1/1 [==============================] - 1s 588ms/step - loss: 36.5068 - mae: 37.0064 - lr: 1.1220e-08\n",
      "1/1 [==============================] - 0s 57ms/step\n"
     ]
    },
    {
     "name": "stderr",
     "output_type": "stream",
     "text": [
      "WARNING:absl:`lr` is deprecated, please use `learning_rate` instead, or use the legacy optimizer, e.g.,tf.keras.optimizers.legacy.SGD.\n"
     ]
    },
    {
     "name": "stdout",
     "output_type": "stream",
     "text": [
      "Epoch 1/2\n",
      "1/1 [==============================] - 1s 752ms/step - loss: 37.6620 - mae: 38.1620 - lr: 1.0000e-08\n",
      "Epoch 2/2\n",
      "1/1 [==============================] - 1s 767ms/step - loss: 37.6617 - mae: 38.1617 - lr: 1.1220e-08\n",
      "1/1 [==============================] - 0s 22ms/step\n"
     ]
    },
    {
     "name": "stderr",
     "output_type": "stream",
     "text": [
      "WARNING:absl:`lr` is deprecated, please use `learning_rate` instead, or use the legacy optimizer, e.g.,tf.keras.optimizers.legacy.SGD.\n"
     ]
    },
    {
     "name": "stdout",
     "output_type": "stream",
     "text": [
      "Epoch 1/2\n",
      "1/1 [==============================] - 1s 981ms/step - loss: 49.0547 - mae: 49.5547 - lr: 1.0000e-08\n",
      "Epoch 2/2\n",
      "1/1 [==============================] - 1s 1s/step - loss: 49.0541 - mae: 49.5541 - lr: 1.1220e-08\n",
      "1/1 [==============================] - 0s 23ms/step\n"
     ]
    },
    {
     "name": "stderr",
     "output_type": "stream",
     "text": [
      "WARNING:absl:`lr` is deprecated, please use `learning_rate` instead, or use the legacy optimizer, e.g.,tf.keras.optimizers.legacy.SGD.\n"
     ]
    },
    {
     "name": "stdout",
     "output_type": "stream",
     "text": [
      "Epoch 1/2\n",
      "1/1 [==============================] - 0s 308ms/step - loss: 24.4983 - mae: 24.9923 - lr: 1.0000e-08\n",
      "Epoch 2/2\n",
      "1/1 [==============================] - 0s 303ms/step - loss: 24.4982 - mae: 24.9922 - lr: 1.1220e-08\n",
      "1/1 [==============================] - 0s 28ms/step\n"
     ]
    },
    {
     "name": "stderr",
     "output_type": "stream",
     "text": [
      "WARNING:absl:`lr` is deprecated, please use `learning_rate` instead, or use the legacy optimizer, e.g.,tf.keras.optimizers.legacy.SGD.\n"
     ]
    },
    {
     "name": "stdout",
     "output_type": "stream",
     "text": [
      "Epoch 1/2\n",
      "1/1 [==============================] - 0s 442ms/step - loss: 28.9948 - mae: 29.4948 - lr: 1.0000e-08\n",
      "Epoch 2/2\n",
      "1/1 [==============================] - 0s 429ms/step - loss: 28.9945 - mae: 29.4945 - lr: 1.1220e-08\n",
      "1/1 [==============================] - 0s 31ms/step\n"
     ]
    },
    {
     "name": "stderr",
     "output_type": "stream",
     "text": [
      "WARNING:absl:`lr` is deprecated, please use `learning_rate` instead, or use the legacy optimizer, e.g.,tf.keras.optimizers.legacy.SGD.\n"
     ]
    },
    {
     "name": "stdout",
     "output_type": "stream",
     "text": [
      "Epoch 1/2\n",
      "1/1 [==============================] - 1s 611ms/step - loss: 39.7610 - mae: 40.2561 - lr: 1.0000e-08\n",
      "Epoch 2/2\n",
      "1/1 [==============================] - 1s 592ms/step - loss: 39.7607 - mae: 40.2558 - lr: 1.1220e-08\n",
      "1/1 [==============================] - 0s 28ms/step\n"
     ]
    },
    {
     "name": "stderr",
     "output_type": "stream",
     "text": [
      "WARNING:absl:`lr` is deprecated, please use `learning_rate` instead, or use the legacy optimizer, e.g.,tf.keras.optimizers.legacy.SGD.\n"
     ]
    },
    {
     "name": "stdout",
     "output_type": "stream",
     "text": [
      "Epoch 1/2\n",
      "1/1 [==============================] - 1s 782ms/step - loss: 40.1041 - mae: 40.6041 - lr: 1.0000e-08\n",
      "Epoch 2/2\n",
      "1/1 [==============================] - 1s 756ms/step - loss: 40.1039 - mae: 40.6039 - lr: 1.1220e-08\n",
      "1/1 [==============================] - 0s 24ms/step\n"
     ]
    },
    {
     "name": "stderr",
     "output_type": "stream",
     "text": [
      "WARNING:absl:`lr` is deprecated, please use `learning_rate` instead, or use the legacy optimizer, e.g.,tf.keras.optimizers.legacy.SGD.\n"
     ]
    },
    {
     "name": "stdout",
     "output_type": "stream",
     "text": [
      "Epoch 1/2\n",
      "1/1 [==============================] - 1s 994ms/step - loss: 40.5912 - mae: 41.0869 - lr: 1.0000e-08\n",
      "Epoch 2/2\n",
      "1/1 [==============================] - 1s 996ms/step - loss: 40.5910 - mae: 41.0867 - lr: 1.1220e-08\n",
      "1/1 [==============================] - 0s 22ms/step\n"
     ]
    },
    {
     "name": "stderr",
     "output_type": "stream",
     "text": [
      "WARNING:absl:`lr` is deprecated, please use `learning_rate` instead, or use the legacy optimizer, e.g.,tf.keras.optimizers.legacy.SGD.\n"
     ]
    },
    {
     "name": "stdout",
     "output_type": "stream",
     "text": [
      "Epoch 1/2\n",
      "1/1 [==============================] - 0s 308ms/step - loss: 26.7280 - mae: 27.2239 - lr: 1.0000e-08\n",
      "Epoch 2/2\n",
      "1/1 [==============================] - 0s 296ms/step - loss: 26.7276 - mae: 27.2234 - lr: 1.1220e-08\n",
      "1/1 [==============================] - 0s 24ms/step\n"
     ]
    },
    {
     "name": "stderr",
     "output_type": "stream",
     "text": [
      "WARNING:absl:`lr` is deprecated, please use `learning_rate` instead, or use the legacy optimizer, e.g.,tf.keras.optimizers.legacy.SGD.\n"
     ]
    },
    {
     "name": "stdout",
     "output_type": "stream",
     "text": [
      "Epoch 1/2\n",
      "1/1 [==============================] - 0s 438ms/step - loss: 27.1464 - mae: 27.6458 - lr: 1.0000e-08\n",
      "Epoch 2/2\n",
      "1/1 [==============================] - 0s 424ms/step - loss: 27.1461 - mae: 27.6454 - lr: 1.1220e-08\n",
      "1/1 [==============================] - 0s 25ms/step\n"
     ]
    },
    {
     "name": "stderr",
     "output_type": "stream",
     "text": [
      "WARNING:absl:`lr` is deprecated, please use `learning_rate` instead, or use the legacy optimizer, e.g.,tf.keras.optimizers.legacy.SGD.\n"
     ]
    },
    {
     "name": "stdout",
     "output_type": "stream",
     "text": [
      "Epoch 1/2\n",
      "1/1 [==============================] - 1s 580ms/step - loss: 40.3228 - mae: 40.8138 - lr: 1.0000e-08\n",
      "Epoch 2/2\n",
      "1/1 [==============================] - 1s 582ms/step - loss: 40.3226 - mae: 40.8135 - lr: 1.1220e-08\n",
      "1/1 [==============================] - 0s 28ms/step\n"
     ]
    },
    {
     "name": "stderr",
     "output_type": "stream",
     "text": [
      "WARNING:absl:`lr` is deprecated, please use `learning_rate` instead, or use the legacy optimizer, e.g.,tf.keras.optimizers.legacy.SGD.\n"
     ]
    },
    {
     "name": "stdout",
     "output_type": "stream",
     "text": [
      "Epoch 1/2\n",
      "1/1 [==============================] - 1s 874ms/step - loss: 43.7709 - mae: 44.2708 - lr: 1.0000e-08\n",
      "Epoch 2/2\n",
      "1/1 [==============================] - 1s 749ms/step - loss: 43.7706 - mae: 44.2705 - lr: 1.1220e-08\n",
      "1/1 [==============================] - 0s 23ms/step\n"
     ]
    },
    {
     "name": "stderr",
     "output_type": "stream",
     "text": [
      "WARNING:absl:`lr` is deprecated, please use `learning_rate` instead, or use the legacy optimizer, e.g.,tf.keras.optimizers.legacy.SGD.\n"
     ]
    },
    {
     "name": "stdout",
     "output_type": "stream",
     "text": [
      "Epoch 1/2\n",
      "1/1 [==============================] - 1s 968ms/step - loss: 46.5526 - mae: 47.0525 - lr: 1.0000e-08\n",
      "Epoch 2/2\n",
      "1/1 [==============================] - 1s 947ms/step - loss: 46.5521 - mae: 47.0521 - lr: 1.1220e-08\n",
      "1/1 [==============================] - 0s 36ms/step\n"
     ]
    },
    {
     "name": "stderr",
     "output_type": "stream",
     "text": [
      "WARNING:absl:`lr` is deprecated, please use `learning_rate` instead, or use the legacy optimizer, e.g.,tf.keras.optimizers.legacy.SGD.\n"
     ]
    },
    {
     "name": "stdout",
     "output_type": "stream",
     "text": [
      "Epoch 1/2\n",
      "1/1 [==============================] - 0s 301ms/step - loss: 30.8915 - mae: 31.3915 - lr: 1.0000e-08\n",
      "Epoch 2/2\n",
      "1/1 [==============================] - 0s 302ms/step - loss: 30.8910 - mae: 31.3910 - lr: 1.1220e-08\n",
      "1/1 [==============================] - 0s 32ms/step\n"
     ]
    },
    {
     "name": "stderr",
     "output_type": "stream",
     "text": [
      "WARNING:absl:`lr` is deprecated, please use `learning_rate` instead, or use the legacy optimizer, e.g.,tf.keras.optimizers.legacy.SGD.\n"
     ]
    },
    {
     "name": "stdout",
     "output_type": "stream",
     "text": [
      "Epoch 1/2\n",
      "1/1 [==============================] - 0s 439ms/step - loss: 44.4012 - mae: 44.9012 - lr: 1.0000e-08\n",
      "Epoch 2/2\n",
      "1/1 [==============================] - 0s 424ms/step - loss: 44.4006 - mae: 44.9006 - lr: 1.1220e-08\n",
      "1/1 [==============================] - 0s 27ms/step\n"
     ]
    },
    {
     "name": "stderr",
     "output_type": "stream",
     "text": [
      "WARNING:absl:`lr` is deprecated, please use `learning_rate` instead, or use the legacy optimizer, e.g.,tf.keras.optimizers.legacy.SGD.\n"
     ]
    },
    {
     "name": "stdout",
     "output_type": "stream",
     "text": [
      "Epoch 1/2\n",
      "1/1 [==============================] - 1s 579ms/step - loss: 43.0044 - mae: 43.5007 - lr: 1.0000e-08\n",
      "Epoch 2/2\n",
      "1/1 [==============================] - 1s 600ms/step - loss: 43.0042 - mae: 43.5004 - lr: 1.1220e-08\n",
      "1/1 [==============================] - 0s 26ms/step\n"
     ]
    },
    {
     "name": "stderr",
     "output_type": "stream",
     "text": [
      "WARNING:absl:`lr` is deprecated, please use `learning_rate` instead, or use the legacy optimizer, e.g.,tf.keras.optimizers.legacy.SGD.\n"
     ]
    },
    {
     "name": "stdout",
     "output_type": "stream",
     "text": [
      "Epoch 1/2\n",
      "1/1 [==============================] - 1s 773ms/step - loss: 40.1185 - mae: 40.6184 - lr: 1.0000e-08\n",
      "Epoch 2/2\n",
      "1/1 [==============================] - 1s 806ms/step - loss: 40.1181 - mae: 40.6180 - lr: 1.1220e-08\n",
      "1/1 [==============================] - 0s 23ms/step\n"
     ]
    },
    {
     "name": "stderr",
     "output_type": "stream",
     "text": [
      "WARNING:absl:`lr` is deprecated, please use `learning_rate` instead, or use the legacy optimizer, e.g.,tf.keras.optimizers.legacy.SGD.\n"
     ]
    },
    {
     "name": "stdout",
     "output_type": "stream",
     "text": [
      "Epoch 1/2\n",
      "1/1 [==============================] - 1s 1s/step - loss: 18.8466 - mae: 19.3385 - lr: 1.0000e-08\n",
      "Epoch 2/2\n",
      "1/1 [==============================] - 1s 921ms/step - loss: 18.8464 - mae: 19.3383 - lr: 1.1220e-08\n",
      "1/1 [==============================] - 0s 21ms/step\n"
     ]
    },
    {
     "name": "stderr",
     "output_type": "stream",
     "text": [
      "WARNING:absl:`lr` is deprecated, please use `learning_rate` instead, or use the legacy optimizer, e.g.,tf.keras.optimizers.legacy.SGD.\n"
     ]
    },
    {
     "name": "stdout",
     "output_type": "stream",
     "text": [
      "Epoch 1/2\n",
      "1/1 [==============================] - 0s 296ms/step - loss: 23.6717 - mae: 24.1717 - lr: 1.0000e-08\n",
      "Epoch 2/2\n",
      "1/1 [==============================] - 0s 262ms/step - loss: 23.6716 - mae: 24.1715 - lr: 1.1220e-08\n",
      "1/1 [==============================] - 0s 33ms/step\n"
     ]
    },
    {
     "name": "stderr",
     "output_type": "stream",
     "text": [
      "WARNING:absl:`lr` is deprecated, please use `learning_rate` instead, or use the legacy optimizer, e.g.,tf.keras.optimizers.legacy.SGD.\n"
     ]
    },
    {
     "name": "stdout",
     "output_type": "stream",
     "text": [
      "Epoch 1/2\n",
      "1/1 [==============================] - 0s 402ms/step - loss: 62.0691 - mae: 62.5690 - lr: 1.0000e-08\n",
      "Epoch 2/2\n",
      "1/1 [==============================] - 0s 387ms/step - loss: 62.0686 - mae: 62.5686 - lr: 1.1220e-08\n",
      "1/1 [==============================] - 0s 31ms/step\n"
     ]
    },
    {
     "name": "stderr",
     "output_type": "stream",
     "text": [
      "WARNING:absl:`lr` is deprecated, please use `learning_rate` instead, or use the legacy optimizer, e.g.,tf.keras.optimizers.legacy.SGD.\n"
     ]
    },
    {
     "name": "stdout",
     "output_type": "stream",
     "text": [
      "Epoch 1/2\n",
      "1/1 [==============================] - 1s 526ms/step - loss: 21.4598 - mae: 21.9559 - lr: 1.0000e-08\n",
      "Epoch 2/2\n",
      "1/1 [==============================] - 1s 515ms/step - loss: 21.4597 - mae: 21.9558 - lr: 1.1220e-08\n",
      "1/1 [==============================] - 0s 25ms/step\n"
     ]
    },
    {
     "name": "stderr",
     "output_type": "stream",
     "text": [
      "WARNING:absl:`lr` is deprecated, please use `learning_rate` instead, or use the legacy optimizer, e.g.,tf.keras.optimizers.legacy.SGD.\n"
     ]
    },
    {
     "name": "stdout",
     "output_type": "stream",
     "text": [
      "Epoch 1/2\n",
      "1/1 [==============================] - 1s 693ms/step - loss: 34.6637 - mae: 35.1587 - lr: 1.0000e-08\n",
      "Epoch 2/2\n",
      "1/1 [==============================] - 1s 658ms/step - loss: 34.6632 - mae: 35.1581 - lr: 1.1220e-08\n",
      "1/1 [==============================] - 0s 21ms/step\n"
     ]
    },
    {
     "name": "stderr",
     "output_type": "stream",
     "text": [
      "WARNING:absl:`lr` is deprecated, please use `learning_rate` instead, or use the legacy optimizer, e.g.,tf.keras.optimizers.legacy.SGD.\n"
     ]
    },
    {
     "name": "stdout",
     "output_type": "stream",
     "text": [
      "Epoch 1/2\n",
      "1/1 [==============================] - 1s 882ms/step - loss: 28.5801 - mae: 29.0755 - lr: 1.0000e-08\n",
      "Epoch 2/2\n",
      "1/1 [==============================] - 1s 866ms/step - loss: 28.5796 - mae: 29.0751 - lr: 1.1220e-08\n",
      "1/1 [==============================] - 0s 24ms/step\n"
     ]
    },
    {
     "name": "stderr",
     "output_type": "stream",
     "text": [
      "WARNING:absl:`lr` is deprecated, please use `learning_rate` instead, or use the legacy optimizer, e.g.,tf.keras.optimizers.legacy.SGD.\n"
     ]
    },
    {
     "name": "stdout",
     "output_type": "stream",
     "text": [
      "Epoch 1/2\n",
      "1/1 [==============================] - 0s 283ms/step - loss: 36.8914 - mae: 37.3913 - lr: 1.0000e-08\n",
      "Epoch 2/2\n",
      "1/1 [==============================] - 0s 332ms/step - loss: 36.8911 - mae: 37.3911 - lr: 1.1220e-08\n",
      "1/1 [==============================] - 0s 30ms/step\n"
     ]
    },
    {
     "name": "stderr",
     "output_type": "stream",
     "text": [
      "WARNING:absl:`lr` is deprecated, please use `learning_rate` instead, or use the legacy optimizer, e.g.,tf.keras.optimizers.legacy.SGD.\n"
     ]
    },
    {
     "name": "stdout",
     "output_type": "stream",
     "text": [
      "Epoch 1/2\n",
      "1/1 [==============================] - 0s 485ms/step - loss: 61.3975 - mae: 61.8975 - lr: 1.0000e-08\n",
      "Epoch 2/2\n",
      "1/1 [==============================] - 0s 403ms/step - loss: 61.3966 - mae: 61.8966 - lr: 1.1220e-08\n",
      "1/1 [==============================] - 0s 24ms/step\n"
     ]
    },
    {
     "name": "stderr",
     "output_type": "stream",
     "text": [
      "WARNING:absl:`lr` is deprecated, please use `learning_rate` instead, or use the legacy optimizer, e.g.,tf.keras.optimizers.legacy.SGD.\n"
     ]
    },
    {
     "name": "stdout",
     "output_type": "stream",
     "text": [
      "Epoch 1/2\n",
      "1/1 [==============================] - 1s 547ms/step - loss: 28.8679 - mae: 29.3644 - lr: 1.0000e-08\n",
      "Epoch 2/2\n",
      "1/1 [==============================] - 1s 595ms/step - loss: 28.8675 - mae: 29.3640 - lr: 1.1220e-08\n",
      "1/1 [==============================] - 0s 28ms/step\n"
     ]
    },
    {
     "name": "stderr",
     "output_type": "stream",
     "text": [
      "WARNING:absl:`lr` is deprecated, please use `learning_rate` instead, or use the legacy optimizer, e.g.,tf.keras.optimizers.legacy.SGD.\n"
     ]
    },
    {
     "name": "stdout",
     "output_type": "stream",
     "text": [
      "Epoch 1/2\n",
      "1/1 [==============================] - 1s 722ms/step - loss: 23.9548 - mae: 24.4483 - lr: 1.0000e-08\n",
      "Epoch 2/2\n",
      "1/1 [==============================] - 1s 719ms/step - loss: 23.9546 - mae: 24.4481 - lr: 1.1220e-08\n",
      "1/1 [==============================] - 0s 22ms/step\n"
     ]
    },
    {
     "name": "stderr",
     "output_type": "stream",
     "text": [
      "WARNING:absl:`lr` is deprecated, please use `learning_rate` instead, or use the legacy optimizer, e.g.,tf.keras.optimizers.legacy.SGD.\n"
     ]
    },
    {
     "name": "stdout",
     "output_type": "stream",
     "text": [
      "Epoch 1/2\n",
      "1/1 [==============================] - 1s 1s/step - loss: 51.5613 - mae: 52.0613 - lr: 1.0000e-08\n",
      "Epoch 2/2\n",
      "1/1 [==============================] - 1s 898ms/step - loss: 51.5606 - mae: 52.0606 - lr: 1.1220e-08\n",
      "1/1 [==============================] - 0s 27ms/step\n"
     ]
    },
    {
     "name": "stderr",
     "output_type": "stream",
     "text": [
      "WARNING:absl:`lr` is deprecated, please use `learning_rate` instead, or use the legacy optimizer, e.g.,tf.keras.optimizers.legacy.SGD.\n"
     ]
    },
    {
     "name": "stdout",
     "output_type": "stream",
     "text": [
      "Epoch 1/2\n",
      "1/1 [==============================] - 0s 293ms/step - loss: 39.0011 - mae: 39.5010 - lr: 1.0000e-08\n",
      "Epoch 2/2\n",
      "1/1 [==============================] - 0s 278ms/step - loss: 39.0008 - mae: 39.5007 - lr: 1.1220e-08\n",
      "1/1 [==============================] - 0s 25ms/step\n"
     ]
    },
    {
     "name": "stderr",
     "output_type": "stream",
     "text": [
      "WARNING:absl:`lr` is deprecated, please use `learning_rate` instead, or use the legacy optimizer, e.g.,tf.keras.optimizers.legacy.SGD.\n"
     ]
    },
    {
     "name": "stdout",
     "output_type": "stream",
     "text": [
      "Epoch 1/2\n",
      "1/1 [==============================] - 0s 416ms/step - loss: 61.5425 - mae: 62.0425 - lr: 1.0000e-08\n",
      "Epoch 2/2\n",
      "1/1 [==============================] - 0s 387ms/step - loss: 61.5420 - mae: 62.0420 - lr: 1.1220e-08\n",
      "1/1 [==============================] - 0s 28ms/step\n"
     ]
    },
    {
     "name": "stderr",
     "output_type": "stream",
     "text": [
      "WARNING:absl:`lr` is deprecated, please use `learning_rate` instead, or use the legacy optimizer, e.g.,tf.keras.optimizers.legacy.SGD.\n"
     ]
    },
    {
     "name": "stdout",
     "output_type": "stream",
     "text": [
      "Epoch 1/2\n",
      "1/1 [==============================] - 1s 546ms/step - loss: 36.2492 - mae: 36.7491 - lr: 1.0000e-08\n",
      "Epoch 2/2\n",
      "1/1 [==============================] - 1s 539ms/step - loss: 36.2489 - mae: 36.7489 - lr: 1.1220e-08\n",
      "1/1 [==============================] - 0s 51ms/step\n"
     ]
    },
    {
     "name": "stderr",
     "output_type": "stream",
     "text": [
      "WARNING:absl:`lr` is deprecated, please use `learning_rate` instead, or use the legacy optimizer, e.g.,tf.keras.optimizers.legacy.SGD.\n"
     ]
    },
    {
     "name": "stdout",
     "output_type": "stream",
     "text": [
      "Epoch 1/2\n",
      "1/1 [==============================] - 1s 716ms/step - loss: 49.7260 - mae: 50.2260 - lr: 1.0000e-08\n",
      "Epoch 2/2\n",
      "1/1 [==============================] - 1s 699ms/step - loss: 49.7254 - mae: 50.2254 - lr: 1.1220e-08\n",
      "1/1 [==============================] - 0s 22ms/step\n"
     ]
    },
    {
     "name": "stderr",
     "output_type": "stream",
     "text": [
      "WARNING:absl:`lr` is deprecated, please use `learning_rate` instead, or use the legacy optimizer, e.g.,tf.keras.optimizers.legacy.SGD.\n"
     ]
    },
    {
     "name": "stdout",
     "output_type": "stream",
     "text": [
      "Epoch 1/2\n",
      "1/1 [==============================] - 1s 915ms/step - loss: 29.5608 - mae: 30.0563 - lr: 1.0000e-08\n",
      "Epoch 2/2\n",
      "1/1 [==============================] - 1s 914ms/step - loss: 29.5607 - mae: 30.0562 - lr: 1.1220e-08\n",
      "1/1 [==============================] - 0s 23ms/step\n"
     ]
    },
    {
     "name": "stderr",
     "output_type": "stream",
     "text": [
      "WARNING:absl:`lr` is deprecated, please use `learning_rate` instead, or use the legacy optimizer, e.g.,tf.keras.optimizers.legacy.SGD.\n"
     ]
    },
    {
     "name": "stdout",
     "output_type": "stream",
     "text": [
      "Epoch 1/2\n",
      "1/1 [==============================] - 0s 285ms/step - loss: 23.8520 - mae: 24.3520 - lr: 1.0000e-08\n",
      "Epoch 2/2\n",
      "1/1 [==============================] - 0s 282ms/step - loss: 23.8515 - mae: 24.3515 - lr: 1.1220e-08\n",
      "1/1 [==============================] - 0s 28ms/step\n"
     ]
    },
    {
     "name": "stderr",
     "output_type": "stream",
     "text": [
      "WARNING:absl:`lr` is deprecated, please use `learning_rate` instead, or use the legacy optimizer, e.g.,tf.keras.optimizers.legacy.SGD.\n"
     ]
    },
    {
     "name": "stdout",
     "output_type": "stream",
     "text": [
      "Epoch 1/2\n",
      "1/1 [==============================] - 0s 429ms/step - loss: 33.4300 - mae: 33.9299 - lr: 1.0000e-08\n",
      "Epoch 2/2\n",
      "1/1 [==============================] - 0s 421ms/step - loss: 33.4298 - mae: 33.9297 - lr: 1.1220e-08\n",
      "1/1 [==============================] - 0s 26ms/step\n"
     ]
    },
    {
     "name": "stderr",
     "output_type": "stream",
     "text": [
      "WARNING:absl:`lr` is deprecated, please use `learning_rate` instead, or use the legacy optimizer, e.g.,tf.keras.optimizers.legacy.SGD.\n"
     ]
    },
    {
     "name": "stdout",
     "output_type": "stream",
     "text": [
      "Epoch 1/2\n",
      "1/1 [==============================] - 1s 563ms/step - loss: 21.2068 - mae: 21.7008 - lr: 1.0000e-08\n",
      "Epoch 2/2\n",
      "1/1 [==============================] - 1s 546ms/step - loss: 21.2066 - mae: 21.7007 - lr: 1.1220e-08\n",
      "1/1 [==============================] - 0s 26ms/step\n"
     ]
    },
    {
     "name": "stderr",
     "output_type": "stream",
     "text": [
      "WARNING:absl:`lr` is deprecated, please use `learning_rate` instead, or use the legacy optimizer, e.g.,tf.keras.optimizers.legacy.SGD.\n"
     ]
    },
    {
     "name": "stdout",
     "output_type": "stream",
     "text": [
      "Epoch 1/2\n",
      "1/1 [==============================] - 1s 734ms/step - loss: 32.8459 - mae: 33.3317 - lr: 1.0000e-08\n",
      "Epoch 2/2\n",
      "1/1 [==============================] - 1s 746ms/step - loss: 32.8457 - mae: 33.3315 - lr: 1.1220e-08\n",
      "1/1 [==============================] - 0s 23ms/step\n"
     ]
    },
    {
     "name": "stderr",
     "output_type": "stream",
     "text": [
      "WARNING:absl:`lr` is deprecated, please use `learning_rate` instead, or use the legacy optimizer, e.g.,tf.keras.optimizers.legacy.SGD.\n"
     ]
    },
    {
     "name": "stdout",
     "output_type": "stream",
     "text": [
      "Epoch 1/2\n",
      "1/1 [==============================] - 1s 946ms/step - loss: 26.7290 - mae: 27.2242 - lr: 1.0000e-08\n",
      "Epoch 2/2\n",
      "1/1 [==============================] - 1s 921ms/step - loss: 26.7287 - mae: 27.2239 - lr: 1.1220e-08\n",
      "1/1 [==============================] - 0s 24ms/step\n"
     ]
    },
    {
     "name": "stderr",
     "output_type": "stream",
     "text": [
      "WARNING:absl:`lr` is deprecated, please use `learning_rate` instead, or use the legacy optimizer, e.g.,tf.keras.optimizers.legacy.SGD.\n"
     ]
    },
    {
     "name": "stdout",
     "output_type": "stream",
     "text": [
      "Epoch 1/2\n",
      "1/1 [==============================] - 0s 296ms/step - loss: 39.9105 - mae: 40.4067 - lr: 1.0000e-08\n",
      "Epoch 2/2\n",
      "1/1 [==============================] - 0s 290ms/step - loss: 39.9103 - mae: 40.4064 - lr: 1.1220e-08\n",
      "1/1 [==============================] - 0s 29ms/step\n"
     ]
    },
    {
     "name": "stderr",
     "output_type": "stream",
     "text": [
      "WARNING:absl:`lr` is deprecated, please use `learning_rate` instead, or use the legacy optimizer, e.g.,tf.keras.optimizers.legacy.SGD.\n"
     ]
    },
    {
     "name": "stdout",
     "output_type": "stream",
     "text": [
      "Epoch 1/2\n",
      "1/1 [==============================] - 0s 427ms/step - loss: 21.9738 - mae: 22.4722 - lr: 1.0000e-08\n",
      "Epoch 2/2\n",
      "1/1 [==============================] - 0s 394ms/step - loss: 21.9736 - mae: 22.4721 - lr: 1.1220e-08\n",
      "1/1 [==============================] - 0s 32ms/step\n"
     ]
    },
    {
     "name": "stderr",
     "output_type": "stream",
     "text": [
      "WARNING:absl:`lr` is deprecated, please use `learning_rate` instead, or use the legacy optimizer, e.g.,tf.keras.optimizers.legacy.SGD.\n"
     ]
    },
    {
     "name": "stdout",
     "output_type": "stream",
     "text": [
      "Epoch 1/2\n",
      "1/1 [==============================] - 1s 580ms/step - loss: 40.3403 - mae: 40.8403 - lr: 1.0000e-08\n",
      "Epoch 2/2\n",
      "1/1 [==============================] - 1s 560ms/step - loss: 40.3401 - mae: 40.8401 - lr: 1.1220e-08\n",
      "1/1 [==============================] - 0s 25ms/step\n"
     ]
    },
    {
     "name": "stderr",
     "output_type": "stream",
     "text": [
      "WARNING:absl:`lr` is deprecated, please use `learning_rate` instead, or use the legacy optimizer, e.g.,tf.keras.optimizers.legacy.SGD.\n"
     ]
    },
    {
     "name": "stdout",
     "output_type": "stream",
     "text": [
      "Epoch 1/2\n",
      "1/1 [==============================] - 1s 731ms/step - loss: 42.9705 - mae: 43.4705 - lr: 1.0000e-08\n",
      "Epoch 2/2\n",
      "1/1 [==============================] - 1s 724ms/step - loss: 42.9701 - mae: 43.4701 - lr: 1.1220e-08\n",
      "1/1 [==============================] - 0s 23ms/step\n"
     ]
    },
    {
     "name": "stderr",
     "output_type": "stream",
     "text": [
      "WARNING:absl:`lr` is deprecated, please use `learning_rate` instead, or use the legacy optimizer, e.g.,tf.keras.optimizers.legacy.SGD.\n"
     ]
    },
    {
     "name": "stdout",
     "output_type": "stream",
     "text": [
      "Epoch 1/2\n",
      "1/1 [==============================] - 1s 942ms/step - loss: 34.6752 - mae: 35.1686 - lr: 1.0000e-08\n",
      "Epoch 2/2\n",
      "1/1 [==============================] - 1s 926ms/step - loss: 34.6747 - mae: 35.1682 - lr: 1.1220e-08\n",
      "1/1 [==============================] - 0s 23ms/step\n"
     ]
    },
    {
     "name": "stderr",
     "output_type": "stream",
     "text": [
      "WARNING:absl:`lr` is deprecated, please use `learning_rate` instead, or use the legacy optimizer, e.g.,tf.keras.optimizers.legacy.SGD.\n"
     ]
    },
    {
     "name": "stdout",
     "output_type": "stream",
     "text": [
      "Epoch 1/2\n",
      "1/1 [==============================] - 0s 280ms/step - loss: 34.8437 - mae: 35.3425 - lr: 1.0000e-08\n",
      "Epoch 2/2\n",
      "1/1 [==============================] - 0s 290ms/step - loss: 34.8435 - mae: 35.3423 - lr: 1.1220e-08\n",
      "1/1 [==============================] - 0s 24ms/step\n"
     ]
    },
    {
     "name": "stderr",
     "output_type": "stream",
     "text": [
      "WARNING:absl:`lr` is deprecated, please use `learning_rate` instead, or use the legacy optimizer, e.g.,tf.keras.optimizers.legacy.SGD.\n"
     ]
    },
    {
     "name": "stdout",
     "output_type": "stream",
     "text": [
      "Epoch 1/2\n",
      "1/1 [==============================] - 0s 402ms/step - loss: 23.8088 - mae: 24.3088 - lr: 1.0000e-08\n",
      "Epoch 2/2\n",
      "1/1 [==============================] - 0s 411ms/step - loss: 23.8085 - mae: 24.3085 - lr: 1.1220e-08\n",
      "1/1 [==============================] - 0s 26ms/step\n"
     ]
    },
    {
     "name": "stderr",
     "output_type": "stream",
     "text": [
      "WARNING:absl:`lr` is deprecated, please use `learning_rate` instead, or use the legacy optimizer, e.g.,tf.keras.optimizers.legacy.SGD.\n"
     ]
    },
    {
     "name": "stdout",
     "output_type": "stream",
     "text": [
      "Epoch 1/2\n",
      "1/1 [==============================] - 1s 568ms/step - loss: 44.2558 - mae: 44.7558 - lr: 1.0000e-08\n",
      "Epoch 2/2\n",
      "1/1 [==============================] - 1s 552ms/step - loss: 44.2553 - mae: 44.7553 - lr: 1.1220e-08\n",
      "1/1 [==============================] - 0s 26ms/step\n"
     ]
    },
    {
     "name": "stderr",
     "output_type": "stream",
     "text": [
      "WARNING:absl:`lr` is deprecated, please use `learning_rate` instead, or use the legacy optimizer, e.g.,tf.keras.optimizers.legacy.SGD.\n"
     ]
    },
    {
     "name": "stdout",
     "output_type": "stream",
     "text": [
      "Epoch 1/2\n",
      "1/1 [==============================] - 1s 799ms/step - loss: 32.6979 - mae: 33.1979 - lr: 1.0000e-08\n",
      "Epoch 2/2\n",
      "1/1 [==============================] - 1s 732ms/step - loss: 32.6977 - mae: 33.1977 - lr: 1.1220e-08\n",
      "1/1 [==============================] - 0s 24ms/step\n"
     ]
    },
    {
     "name": "stderr",
     "output_type": "stream",
     "text": [
      "WARNING:absl:`lr` is deprecated, please use `learning_rate` instead, or use the legacy optimizer, e.g.,tf.keras.optimizers.legacy.SGD.\n"
     ]
    },
    {
     "name": "stdout",
     "output_type": "stream",
     "text": [
      "Epoch 1/2\n",
      "1/1 [==============================] - 1s 939ms/step - loss: 36.4963 - mae: 36.9963 - lr: 1.0000e-08\n",
      "Epoch 2/2\n",
      "1/1 [==============================] - 1s 924ms/step - loss: 36.4962 - mae: 36.9962 - lr: 1.1220e-08\n",
      "1/1 [==============================] - 0s 22ms/step\n"
     ]
    },
    {
     "name": "stderr",
     "output_type": "stream",
     "text": [
      "WARNING:absl:`lr` is deprecated, please use `learning_rate` instead, or use the legacy optimizer, e.g.,tf.keras.optimizers.legacy.SGD.\n"
     ]
    },
    {
     "name": "stdout",
     "output_type": "stream",
     "text": [
      "Epoch 1/2\n",
      "1/1 [==============================] - 0s 298ms/step - loss: 35.6339 - mae: 36.1236 - lr: 1.0000e-08\n",
      "Epoch 2/2\n",
      "1/1 [==============================] - 0s 287ms/step - loss: 35.6335 - mae: 36.1231 - lr: 1.1220e-08\n",
      "1/1 [==============================] - 0s 26ms/step\n"
     ]
    },
    {
     "name": "stderr",
     "output_type": "stream",
     "text": [
      "WARNING:absl:`lr` is deprecated, please use `learning_rate` instead, or use the legacy optimizer, e.g.,tf.keras.optimizers.legacy.SGD.\n"
     ]
    },
    {
     "name": "stdout",
     "output_type": "stream",
     "text": [
      "Epoch 1/2\n",
      "1/1 [==============================] - 0s 413ms/step - loss: 32.1414 - mae: 32.6414 - lr: 1.0000e-08\n",
      "Epoch 2/2\n",
      "1/1 [==============================] - 0s 397ms/step - loss: 32.1412 - mae: 32.6412 - lr: 1.1220e-08\n",
      "1/1 [==============================] - 0s 28ms/step\n"
     ]
    },
    {
     "name": "stderr",
     "output_type": "stream",
     "text": [
      "WARNING:absl:`lr` is deprecated, please use `learning_rate` instead, or use the legacy optimizer, e.g.,tf.keras.optimizers.legacy.SGD.\n"
     ]
    },
    {
     "name": "stdout",
     "output_type": "stream",
     "text": [
      "Epoch 1/2\n",
      "1/1 [==============================] - 1s 556ms/step - loss: 35.7103 - mae: 36.2095 - lr: 1.0000e-08\n",
      "Epoch 2/2\n",
      "1/1 [==============================] - 1s 558ms/step - loss: 35.7101 - mae: 36.2093 - lr: 1.1220e-08\n",
      "1/1 [==============================] - 0s 32ms/step\n"
     ]
    },
    {
     "name": "stderr",
     "output_type": "stream",
     "text": [
      "WARNING:absl:`lr` is deprecated, please use `learning_rate` instead, or use the legacy optimizer, e.g.,tf.keras.optimizers.legacy.SGD.\n"
     ]
    },
    {
     "name": "stdout",
     "output_type": "stream",
     "text": [
      "Epoch 1/2\n",
      "1/1 [==============================] - 1s 735ms/step - loss: 37.0514 - mae: 37.5393 - lr: 1.0000e-08\n",
      "Epoch 2/2\n",
      "1/1 [==============================] - 1s 715ms/step - loss: 37.0511 - mae: 37.5391 - lr: 1.1220e-08\n",
      "1/1 [==============================] - 0s 23ms/step\n"
     ]
    },
    {
     "name": "stderr",
     "output_type": "stream",
     "text": [
      "WARNING:absl:`lr` is deprecated, please use `learning_rate` instead, or use the legacy optimizer, e.g.,tf.keras.optimizers.legacy.SGD.\n"
     ]
    },
    {
     "name": "stdout",
     "output_type": "stream",
     "text": [
      "Epoch 1/2\n",
      "1/1 [==============================] - 1s 953ms/step - loss: 58.7882 - mae: 59.2882 - lr: 1.0000e-08\n",
      "Epoch 2/2\n",
      "1/1 [==============================] - 1s 937ms/step - loss: 58.7876 - mae: 59.2876 - lr: 1.1220e-08\n",
      "1/1 [==============================] - 0s 22ms/step\n"
     ]
    },
    {
     "name": "stderr",
     "output_type": "stream",
     "text": [
      "WARNING:absl:`lr` is deprecated, please use `learning_rate` instead, or use the legacy optimizer, e.g.,tf.keras.optimizers.legacy.SGD.\n"
     ]
    },
    {
     "name": "stdout",
     "output_type": "stream",
     "text": [
      "Epoch 1/2\n",
      "1/1 [==============================] - 0s 287ms/step - loss: 33.6086 - mae: 34.1086 - lr: 1.0000e-08\n",
      "Epoch 2/2\n",
      "1/1 [==============================] - 0s 278ms/step - loss: 33.6085 - mae: 34.1084 - lr: 1.1220e-08\n",
      "1/1 [==============================] - 0s 24ms/step\n"
     ]
    },
    {
     "name": "stderr",
     "output_type": "stream",
     "text": [
      "WARNING:absl:`lr` is deprecated, please use `learning_rate` instead, or use the legacy optimizer, e.g.,tf.keras.optimizers.legacy.SGD.\n"
     ]
    },
    {
     "name": "stdout",
     "output_type": "stream",
     "text": [
      "Epoch 1/2\n",
      "1/1 [==============================] - 0s 411ms/step - loss: 44.7591 - mae: 45.2591 - lr: 1.0000e-08\n",
      "Epoch 2/2\n",
      "1/1 [==============================] - 0s 421ms/step - loss: 44.7585 - mae: 45.2585 - lr: 1.1220e-08\n",
      "1/1 [==============================] - 0s 31ms/step\n"
     ]
    },
    {
     "name": "stderr",
     "output_type": "stream",
     "text": [
      "WARNING:absl:`lr` is deprecated, please use `learning_rate` instead, or use the legacy optimizer, e.g.,tf.keras.optimizers.legacy.SGD.\n"
     ]
    },
    {
     "name": "stdout",
     "output_type": "stream",
     "text": [
      "Epoch 1/2\n",
      "1/1 [==============================] - 1s 570ms/step - loss: 33.0911 - mae: 33.5902 - lr: 1.0000e-08\n",
      "Epoch 2/2\n",
      "1/1 [==============================] - 1s 550ms/step - loss: 33.0910 - mae: 33.5901 - lr: 1.1220e-08\n",
      "1/1 [==============================] - 0s 27ms/step\n"
     ]
    },
    {
     "name": "stderr",
     "output_type": "stream",
     "text": [
      "WARNING:absl:`lr` is deprecated, please use `learning_rate` instead, or use the legacy optimizer, e.g.,tf.keras.optimizers.legacy.SGD.\n"
     ]
    },
    {
     "name": "stdout",
     "output_type": "stream",
     "text": [
      "Epoch 1/2\n",
      "1/1 [==============================] - 1s 803ms/step - loss: 29.2265 - mae: 29.7237 - lr: 1.0000e-08\n",
      "Epoch 2/2\n",
      "1/1 [==============================] - 1s 724ms/step - loss: 29.2263 - mae: 29.7236 - lr: 1.1220e-08\n",
      "1/1 [==============================] - 0s 24ms/step\n"
     ]
    },
    {
     "name": "stderr",
     "output_type": "stream",
     "text": [
      "WARNING:absl:`lr` is deprecated, please use `learning_rate` instead, or use the legacy optimizer, e.g.,tf.keras.optimizers.legacy.SGD.\n"
     ]
    },
    {
     "name": "stdout",
     "output_type": "stream",
     "text": [
      "Epoch 1/2\n",
      "1/1 [==============================] - 1s 945ms/step - loss: 39.7311 - mae: 40.2311 - lr: 1.0000e-08\n",
      "Epoch 2/2\n",
      "1/1 [==============================] - 1s 929ms/step - loss: 39.7303 - mae: 40.2303 - lr: 1.1220e-08\n",
      "1/1 [==============================] - 0s 54ms/step\n"
     ]
    },
    {
     "name": "stderr",
     "output_type": "stream",
     "text": [
      "WARNING:absl:`lr` is deprecated, please use `learning_rate` instead, or use the legacy optimizer, e.g.,tf.keras.optimizers.legacy.SGD.\n"
     ]
    },
    {
     "name": "stdout",
     "output_type": "stream",
     "text": [
      "Epoch 1/2\n",
      "1/1 [==============================] - 0s 285ms/step - loss: 25.7197 - mae: 26.2149 - lr: 1.0000e-08\n",
      "Epoch 2/2\n",
      "1/1 [==============================] - 0s 283ms/step - loss: 25.7195 - mae: 26.2148 - lr: 1.1220e-08\n",
      "1/1 [==============================] - 0s 25ms/step\n"
     ]
    },
    {
     "name": "stderr",
     "output_type": "stream",
     "text": [
      "WARNING:absl:`lr` is deprecated, please use `learning_rate` instead, or use the legacy optimizer, e.g.,tf.keras.optimizers.legacy.SGD.\n"
     ]
    },
    {
     "name": "stdout",
     "output_type": "stream",
     "text": [
      "Epoch 1/2\n",
      "1/1 [==============================] - 1s 541ms/step - loss: 42.4070 - mae: 42.9034 - lr: 1.0000e-08\n",
      "Epoch 2/2\n",
      "1/1 [==============================] - 0s 431ms/step - loss: 42.4067 - mae: 42.9032 - lr: 1.1220e-08\n",
      "1/1 [==============================] - 0s 25ms/step\n"
     ]
    },
    {
     "name": "stderr",
     "output_type": "stream",
     "text": [
      "WARNING:absl:`lr` is deprecated, please use `learning_rate` instead, or use the legacy optimizer, e.g.,tf.keras.optimizers.legacy.SGD.\n"
     ]
    },
    {
     "name": "stdout",
     "output_type": "stream",
     "text": [
      "Epoch 1/2\n",
      "1/1 [==============================] - 1s 562ms/step - loss: 25.4395 - mae: 25.9312 - lr: 1.0000e-08\n",
      "Epoch 2/2\n",
      "1/1 [==============================] - 1s 549ms/step - loss: 25.4394 - mae: 25.9310 - lr: 1.1220e-08\n",
      "1/1 [==============================] - 0s 29ms/step\n"
     ]
    },
    {
     "name": "stderr",
     "output_type": "stream",
     "text": [
      "WARNING:absl:`lr` is deprecated, please use `learning_rate` instead, or use the legacy optimizer, e.g.,tf.keras.optimizers.legacy.SGD.\n"
     ]
    },
    {
     "name": "stdout",
     "output_type": "stream",
     "text": [
      "Epoch 1/2\n",
      "1/1 [==============================] - 1s 746ms/step - loss: 39.3402 - mae: 39.8361 - lr: 1.0000e-08\n",
      "Epoch 2/2\n",
      "1/1 [==============================] - 1s 815ms/step - loss: 39.3400 - mae: 39.8359 - lr: 1.1220e-08\n",
      "1/1 [==============================] - 0s 32ms/step\n"
     ]
    },
    {
     "name": "stderr",
     "output_type": "stream",
     "text": [
      "WARNING:absl:`lr` is deprecated, please use `learning_rate` instead, or use the legacy optimizer, e.g.,tf.keras.optimizers.legacy.SGD.\n"
     ]
    },
    {
     "name": "stdout",
     "output_type": "stream",
     "text": [
      "Epoch 1/2\n",
      "1/1 [==============================] - 1s 1s/step - loss: 48.1409 - mae: 48.6378 - lr: 1.0000e-08\n",
      "Epoch 2/2\n",
      "1/1 [==============================] - 1s 1s/step - loss: 48.1401 - mae: 48.6370 - lr: 1.1220e-08\n",
      "1/1 [==============================] - 0s 29ms/step\n"
     ]
    },
    {
     "name": "stderr",
     "output_type": "stream",
     "text": [
      "WARNING:absl:`lr` is deprecated, please use `learning_rate` instead, or use the legacy optimizer, e.g.,tf.keras.optimizers.legacy.SGD.\n"
     ]
    },
    {
     "name": "stdout",
     "output_type": "stream",
     "text": [
      "Epoch 1/2\n",
      "1/1 [==============================] - 0s 435ms/step - loss: 46.5185 - mae: 47.0185 - lr: 1.0000e-08\n",
      "Epoch 2/2\n",
      "1/1 [==============================] - 0s 307ms/step - loss: 46.5181 - mae: 47.0181 - lr: 1.1220e-08\n",
      "1/1 [==============================] - 0s 28ms/step\n"
     ]
    },
    {
     "name": "stderr",
     "output_type": "stream",
     "text": [
      "WARNING:absl:`lr` is deprecated, please use `learning_rate` instead, or use the legacy optimizer, e.g.,tf.keras.optimizers.legacy.SGD.\n"
     ]
    },
    {
     "name": "stdout",
     "output_type": "stream",
     "text": [
      "Epoch 1/2\n",
      "1/1 [==============================] - 0s 446ms/step - loss: 50.1883 - mae: 50.6883 - lr: 1.0000e-08\n",
      "Epoch 2/2\n",
      "1/1 [==============================] - 0s 424ms/step - loss: 50.1880 - mae: 50.6879 - lr: 1.1220e-08\n",
      "1/1 [==============================] - 0s 26ms/step\n"
     ]
    },
    {
     "name": "stderr",
     "output_type": "stream",
     "text": [
      "WARNING:absl:`lr` is deprecated, please use `learning_rate` instead, or use the legacy optimizer, e.g.,tf.keras.optimizers.legacy.SGD.\n"
     ]
    },
    {
     "name": "stdout",
     "output_type": "stream",
     "text": [
      "Epoch 1/2\n",
      "1/1 [==============================] - 1s 607ms/step - loss: 43.3426 - mae: 43.8372 - lr: 1.0000e-08\n",
      "Epoch 2/2\n",
      "1/1 [==============================] - 1s 617ms/step - loss: 43.3423 - mae: 43.8369 - lr: 1.1220e-08\n",
      "1/1 [==============================] - 0s 26ms/step\n"
     ]
    },
    {
     "name": "stderr",
     "output_type": "stream",
     "text": [
      "WARNING:absl:`lr` is deprecated, please use `learning_rate` instead, or use the legacy optimizer, e.g.,tf.keras.optimizers.legacy.SGD.\n"
     ]
    },
    {
     "name": "stdout",
     "output_type": "stream",
     "text": [
      "Epoch 1/2\n",
      "1/1 [==============================] - 1s 867ms/step - loss: 44.7433 - mae: 45.2433 - lr: 1.0000e-08\n",
      "Epoch 2/2\n",
      "1/1 [==============================] - 1s 741ms/step - loss: 44.7430 - mae: 45.2430 - lr: 1.1220e-08\n",
      "1/1 [==============================] - 0s 22ms/step\n"
     ]
    },
    {
     "name": "stderr",
     "output_type": "stream",
     "text": [
      "WARNING:absl:`lr` is deprecated, please use `learning_rate` instead, or use the legacy optimizer, e.g.,tf.keras.optimizers.legacy.SGD.\n"
     ]
    },
    {
     "name": "stdout",
     "output_type": "stream",
     "text": [
      "Epoch 1/2\n",
      "1/1 [==============================] - 1s 1s/step - loss: 31.6277 - mae: 32.1277 - lr: 1.0000e-08\n",
      "Epoch 2/2\n",
      "1/1 [==============================] - 1s 945ms/step - loss: 31.6275 - mae: 32.1275 - lr: 1.1220e-08\n",
      "1/1 [==============================] - 0s 22ms/step\n"
     ]
    },
    {
     "name": "stderr",
     "output_type": "stream",
     "text": [
      "WARNING:absl:`lr` is deprecated, please use `learning_rate` instead, or use the legacy optimizer, e.g.,tf.keras.optimizers.legacy.SGD.\n"
     ]
    },
    {
     "name": "stdout",
     "output_type": "stream",
     "text": [
      "Epoch 1/2\n",
      "1/1 [==============================] - 0s 299ms/step - loss: 21.3812 - mae: 21.8753 - lr: 1.0000e-08\n",
      "Epoch 2/2\n",
      "1/1 [==============================] - 0s 272ms/step - loss: 21.3811 - mae: 21.8752 - lr: 1.1220e-08\n",
      "1/1 [==============================] - 0s 27ms/step\n"
     ]
    },
    {
     "name": "stderr",
     "output_type": "stream",
     "text": [
      "WARNING:absl:`lr` is deprecated, please use `learning_rate` instead, or use the legacy optimizer, e.g.,tf.keras.optimizers.legacy.SGD.\n"
     ]
    },
    {
     "name": "stdout",
     "output_type": "stream",
     "text": [
      "Epoch 1/2\n",
      "1/1 [==============================] - 0s 433ms/step - loss: 47.6068 - mae: 48.1068 - lr: 1.0000e-08\n",
      "Epoch 2/2\n",
      "1/1 [==============================] - 0s 397ms/step - loss: 47.6059 - mae: 48.1059 - lr: 1.1220e-08\n",
      "1/1 [==============================] - 0s 24ms/step\n"
     ]
    },
    {
     "name": "stderr",
     "output_type": "stream",
     "text": [
      "WARNING:absl:`lr` is deprecated, please use `learning_rate` instead, or use the legacy optimizer, e.g.,tf.keras.optimizers.legacy.SGD.\n"
     ]
    },
    {
     "name": "stdout",
     "output_type": "stream",
     "text": [
      "Epoch 1/2\n",
      "1/1 [==============================] - 1s 547ms/step - loss: 33.1114 - mae: 33.5978 - lr: 1.0000e-08\n",
      "Epoch 2/2\n",
      "1/1 [==============================] - 1s 537ms/step - loss: 33.1109 - mae: 33.5973 - lr: 1.1220e-08\n",
      "1/1 [==============================] - 0s 28ms/step\n"
     ]
    },
    {
     "name": "stderr",
     "output_type": "stream",
     "text": [
      "WARNING:absl:`lr` is deprecated, please use `learning_rate` instead, or use the legacy optimizer, e.g.,tf.keras.optimizers.legacy.SGD.\n"
     ]
    },
    {
     "name": "stdout",
     "output_type": "stream",
     "text": [
      "Epoch 1/2\n",
      "1/1 [==============================] - 1s 847ms/step - loss: 30.1561 - mae: 30.6370 - lr: 1.0000e-08\n",
      "Epoch 2/2\n",
      "1/1 [==============================] - 1s 741ms/step - loss: 30.1559 - mae: 30.6368 - lr: 1.1220e-08\n",
      "1/1 [==============================] - 0s 32ms/step\n"
     ]
    },
    {
     "name": "stderr",
     "output_type": "stream",
     "text": [
      "WARNING:absl:`lr` is deprecated, please use `learning_rate` instead, or use the legacy optimizer, e.g.,tf.keras.optimizers.legacy.SGD.\n"
     ]
    },
    {
     "name": "stdout",
     "output_type": "stream",
     "text": [
      "Epoch 1/2\n",
      "1/1 [==============================] - 1s 986ms/step - loss: 26.5356 - mae: 27.0356 - lr: 1.0000e-08\n",
      "Epoch 2/2\n",
      "1/1 [==============================] - 1s 1s/step - loss: 26.5354 - mae: 27.0354 - lr: 1.1220e-08\n",
      "1/1 [==============================] - 0s 22ms/step\n"
     ]
    },
    {
     "name": "stderr",
     "output_type": "stream",
     "text": [
      "WARNING:absl:`lr` is deprecated, please use `learning_rate` instead, or use the legacy optimizer, e.g.,tf.keras.optimizers.legacy.SGD.\n"
     ]
    },
    {
     "name": "stdout",
     "output_type": "stream",
     "text": [
      "Epoch 1/2\n",
      "1/1 [==============================] - 0s 305ms/step - loss: 27.7430 - mae: 28.2381 - lr: 1.0000e-08\n",
      "Epoch 2/2\n",
      "1/1 [==============================] - 0s 309ms/step - loss: 27.7428 - mae: 28.2379 - lr: 1.1220e-08\n",
      "1/1 [==============================] - 0s 30ms/step\n"
     ]
    },
    {
     "name": "stderr",
     "output_type": "stream",
     "text": [
      "WARNING:absl:`lr` is deprecated, please use `learning_rate` instead, or use the legacy optimizer, e.g.,tf.keras.optimizers.legacy.SGD.\n"
     ]
    },
    {
     "name": "stdout",
     "output_type": "stream",
     "text": [
      "Epoch 1/2\n",
      "1/1 [==============================] - 0s 452ms/step - loss: 47.9891 - mae: 48.4889 - lr: 1.0000e-08\n",
      "Epoch 2/2\n",
      "1/1 [==============================] - 1s 639ms/step - loss: 47.9887 - mae: 48.4885 - lr: 1.1220e-08\n",
      "1/1 [==============================] - 0s 36ms/step\n"
     ]
    },
    {
     "name": "stderr",
     "output_type": "stream",
     "text": [
      "WARNING:absl:`lr` is deprecated, please use `learning_rate` instead, or use the legacy optimizer, e.g.,tf.keras.optimizers.legacy.SGD.\n"
     ]
    },
    {
     "name": "stdout",
     "output_type": "stream",
     "text": [
      "Epoch 1/2\n",
      "1/1 [==============================] - 1s 668ms/step - loss: 34.7197 - mae: 35.2196 - lr: 1.0000e-08\n",
      "Epoch 2/2\n",
      "1/1 [==============================] - 1s 677ms/step - loss: 34.7194 - mae: 35.2193 - lr: 1.1220e-08\n",
      "1/1 [==============================] - 0s 50ms/step\n"
     ]
    },
    {
     "name": "stderr",
     "output_type": "stream",
     "text": [
      "WARNING:absl:`lr` is deprecated, please use `learning_rate` instead, or use the legacy optimizer, e.g.,tf.keras.optimizers.legacy.SGD.\n"
     ]
    },
    {
     "name": "stdout",
     "output_type": "stream",
     "text": [
      "Epoch 1/2\n",
      "1/1 [==============================] - 1s 754ms/step - loss: 22.6671 - mae: 23.1635 - lr: 1.0000e-08\n",
      "Epoch 2/2\n",
      "1/1 [==============================] - 1s 719ms/step - loss: 22.6669 - mae: 23.1634 - lr: 1.1220e-08\n",
      "1/1 [==============================] - 0s 30ms/step\n"
     ]
    },
    {
     "name": "stderr",
     "output_type": "stream",
     "text": [
      "WARNING:absl:`lr` is deprecated, please use `learning_rate` instead, or use the legacy optimizer, e.g.,tf.keras.optimizers.legacy.SGD.\n"
     ]
    },
    {
     "name": "stdout",
     "output_type": "stream",
     "text": [
      "Epoch 1/2\n",
      "1/1 [==============================] - 1s 943ms/step - loss: 38.8753 - mae: 39.3752 - lr: 1.0000e-08\n",
      "Epoch 2/2\n",
      "1/1 [==============================] - 1s 932ms/step - loss: 38.8749 - mae: 39.3748 - lr: 1.1220e-08\n",
      "1/1 [==============================] - 0s 23ms/step\n"
     ]
    },
    {
     "name": "stderr",
     "output_type": "stream",
     "text": [
      "WARNING:absl:`lr` is deprecated, please use `learning_rate` instead, or use the legacy optimizer, e.g.,tf.keras.optimizers.legacy.SGD.\n"
     ]
    },
    {
     "name": "stdout",
     "output_type": "stream",
     "text": [
      "Epoch 1/2\n",
      "1/1 [==============================] - 0s 293ms/step - loss: 29.3008 - mae: 29.7962 - lr: 1.0000e-08\n",
      "Epoch 2/2\n",
      "1/1 [==============================] - 0s 289ms/step - loss: 29.3006 - mae: 29.7960 - lr: 1.1220e-08\n",
      "1/1 [==============================] - 0s 23ms/step\n"
     ]
    },
    {
     "name": "stderr",
     "output_type": "stream",
     "text": [
      "WARNING:absl:`lr` is deprecated, please use `learning_rate` instead, or use the legacy optimizer, e.g.,tf.keras.optimizers.legacy.SGD.\n"
     ]
    },
    {
     "name": "stdout",
     "output_type": "stream",
     "text": [
      "Epoch 1/2\n",
      "1/1 [==============================] - 0s 447ms/step - loss: 58.7601 - mae: 59.2601 - lr: 1.0000e-08\n",
      "Epoch 2/2\n",
      "1/1 [==============================] - 1s 569ms/step - loss: 58.7597 - mae: 59.2597 - lr: 1.1220e-08\n",
      "1/1 [==============================] - 0s 27ms/step\n"
     ]
    },
    {
     "name": "stderr",
     "output_type": "stream",
     "text": [
      "WARNING:absl:`lr` is deprecated, please use `learning_rate` instead, or use the legacy optimizer, e.g.,tf.keras.optimizers.legacy.SGD.\n"
     ]
    },
    {
     "name": "stdout",
     "output_type": "stream",
     "text": [
      "Epoch 1/2\n",
      "1/1 [==============================] - 1s 629ms/step - loss: 53.5369 - mae: 54.0369 - lr: 1.0000e-08\n",
      "Epoch 2/2\n",
      "1/1 [==============================] - 1s 559ms/step - loss: 53.5360 - mae: 54.0360 - lr: 1.1220e-08\n",
      "1/1 [==============================] - 0s 28ms/step\n"
     ]
    },
    {
     "name": "stderr",
     "output_type": "stream",
     "text": [
      "WARNING:absl:`lr` is deprecated, please use `learning_rate` instead, or use the legacy optimizer, e.g.,tf.keras.optimizers.legacy.SGD.\n"
     ]
    },
    {
     "name": "stdout",
     "output_type": "stream",
     "text": [
      "Epoch 1/2\n",
      "1/1 [==============================] - 1s 832ms/step - loss: 29.5491 - mae: 30.0364 - lr: 1.0000e-08\n",
      "Epoch 2/2\n",
      "1/1 [==============================] - 1s 823ms/step - loss: 29.5489 - mae: 30.0362 - lr: 1.1220e-08\n",
      "1/1 [==============================] - 0s 24ms/step\n"
     ]
    },
    {
     "name": "stderr",
     "output_type": "stream",
     "text": [
      "WARNING:absl:`lr` is deprecated, please use `learning_rate` instead, or use the legacy optimizer, e.g.,tf.keras.optimizers.legacy.SGD.\n"
     ]
    },
    {
     "name": "stdout",
     "output_type": "stream",
     "text": [
      "Epoch 1/2\n",
      "1/1 [==============================] - 1s 1s/step - loss: 29.8119 - mae: 30.3118 - lr: 1.0000e-08\n",
      "Epoch 2/2\n",
      "1/1 [==============================] - 1s 910ms/step - loss: 29.8118 - mae: 30.3116 - lr: 1.1220e-08\n",
      "1/1 [==============================] - 0s 23ms/step\n"
     ]
    },
    {
     "name": "stderr",
     "output_type": "stream",
     "text": [
      "WARNING:absl:`lr` is deprecated, please use `learning_rate` instead, or use the legacy optimizer, e.g.,tf.keras.optimizers.legacy.SGD.\n"
     ]
    },
    {
     "name": "stdout",
     "output_type": "stream",
     "text": [
      "Epoch 1/2\n",
      "1/1 [==============================] - 0s 399ms/step - loss: 37.3409 - mae: 37.8316 - lr: 1.0000e-08\n",
      "Epoch 2/2\n",
      "1/1 [==============================] - 0s 345ms/step - loss: 37.3407 - mae: 37.8314 - lr: 1.1220e-08\n",
      "1/1 [==============================] - 0s 34ms/step\n"
     ]
    },
    {
     "name": "stderr",
     "output_type": "stream",
     "text": [
      "WARNING:absl:`lr` is deprecated, please use `learning_rate` instead, or use the legacy optimizer, e.g.,tf.keras.optimizers.legacy.SGD.\n"
     ]
    },
    {
     "name": "stdout",
     "output_type": "stream",
     "text": [
      "Epoch 1/2\n",
      "1/1 [==============================] - 0s 415ms/step - loss: 30.9311 - mae: 31.4311 - lr: 1.0000e-08\n",
      "Epoch 2/2\n",
      "1/1 [==============================] - 0s 416ms/step - loss: 30.9306 - mae: 31.4306 - lr: 1.1220e-08\n",
      "1/1 [==============================] - 0s 26ms/step\n"
     ]
    },
    {
     "name": "stderr",
     "output_type": "stream",
     "text": [
      "WARNING:absl:`lr` is deprecated, please use `learning_rate` instead, or use the legacy optimizer, e.g.,tf.keras.optimizers.legacy.SGD.\n"
     ]
    },
    {
     "name": "stdout",
     "output_type": "stream",
     "text": [
      "Epoch 1/2\n",
      "1/1 [==============================] - 1s 574ms/step - loss: 29.5896 - mae: 30.0896 - lr: 1.0000e-08\n",
      "Epoch 2/2\n",
      "1/1 [==============================] - 1s 687ms/step - loss: 29.5894 - mae: 30.0894 - lr: 1.1220e-08\n",
      "1/1 [==============================] - 0s 73ms/step\n"
     ]
    },
    {
     "name": "stderr",
     "output_type": "stream",
     "text": [
      "WARNING:absl:`lr` is deprecated, please use `learning_rate` instead, or use the legacy optimizer, e.g.,tf.keras.optimizers.legacy.SGD.\n"
     ]
    },
    {
     "name": "stdout",
     "output_type": "stream",
     "text": [
      "Epoch 1/2\n",
      "1/1 [==============================] - 1s 809ms/step - loss: 44.7681 - mae: 45.2669 - lr: 1.0000e-08\n",
      "Epoch 2/2\n",
      "1/1 [==============================] - 1s 899ms/step - loss: 44.7677 - mae: 45.2666 - lr: 1.1220e-08\n",
      "1/1 [==============================] - 0s 25ms/step\n"
     ]
    },
    {
     "name": "stderr",
     "output_type": "stream",
     "text": [
      "WARNING:absl:`lr` is deprecated, please use `learning_rate` instead, or use the legacy optimizer, e.g.,tf.keras.optimizers.legacy.SGD.\n"
     ]
    },
    {
     "name": "stdout",
     "output_type": "stream",
     "text": [
      "Epoch 1/2\n",
      "1/1 [==============================] - 1s 1s/step - loss: 51.9648 - mae: 52.4647 - lr: 1.0000e-08\n",
      "Epoch 2/2\n",
      "1/1 [==============================] - 1s 920ms/step - loss: 51.9643 - mae: 52.4643 - lr: 1.1220e-08\n",
      "1/1 [==============================] - 0s 22ms/step\n"
     ]
    },
    {
     "name": "stderr",
     "output_type": "stream",
     "text": [
      "WARNING:absl:`lr` is deprecated, please use `learning_rate` instead, or use the legacy optimizer, e.g.,tf.keras.optimizers.legacy.SGD.\n"
     ]
    },
    {
     "name": "stdout",
     "output_type": "stream",
     "text": [
      "Epoch 1/2\n",
      "1/1 [==============================] - 0s 304ms/step - loss: 29.5868 - mae: 30.0804 - lr: 1.0000e-08\n",
      "Epoch 2/2\n",
      "1/1 [==============================] - 0s 294ms/step - loss: 29.5865 - mae: 30.0801 - lr: 1.1220e-08\n",
      "1/1 [==============================] - 0s 23ms/step\n"
     ]
    },
    {
     "name": "stderr",
     "output_type": "stream",
     "text": [
      "WARNING:absl:`lr` is deprecated, please use `learning_rate` instead, or use the legacy optimizer, e.g.,tf.keras.optimizers.legacy.SGD.\n"
     ]
    },
    {
     "name": "stdout",
     "output_type": "stream",
     "text": [
      "Epoch 1/2\n",
      "1/1 [==============================] - 0s 436ms/step - loss: 49.3140 - mae: 49.8140 - lr: 1.0000e-08\n",
      "Epoch 2/2\n",
      "1/1 [==============================] - 0s 398ms/step - loss: 49.3137 - mae: 49.8137 - lr: 1.1220e-08\n",
      "1/1 [==============================] - 0s 25ms/step\n"
     ]
    },
    {
     "name": "stderr",
     "output_type": "stream",
     "text": [
      "WARNING:absl:`lr` is deprecated, please use `learning_rate` instead, or use the legacy optimizer, e.g.,tf.keras.optimizers.legacy.SGD.\n"
     ]
    },
    {
     "name": "stdout",
     "output_type": "stream",
     "text": [
      "Epoch 1/2\n",
      "1/1 [==============================] - 1s 567ms/step - loss: 35.7193 - mae: 36.2193 - lr: 1.0000e-08\n",
      "Epoch 2/2\n",
      "1/1 [==============================] - 1s 555ms/step - loss: 35.7191 - mae: 36.2191 - lr: 1.1220e-08\n",
      "1/1 [==============================] - 0s 25ms/step\n"
     ]
    },
    {
     "name": "stderr",
     "output_type": "stream",
     "text": [
      "WARNING:absl:`lr` is deprecated, please use `learning_rate` instead, or use the legacy optimizer, e.g.,tf.keras.optimizers.legacy.SGD.\n"
     ]
    },
    {
     "name": "stdout",
     "output_type": "stream",
     "text": [
      "Epoch 1/2\n",
      "1/1 [==============================] - 1s 729ms/step - loss: 18.8662 - mae: 19.3651 - lr: 1.0000e-08\n",
      "Epoch 2/2\n",
      "1/1 [==============================] - 1s 708ms/step - loss: 18.8659 - mae: 19.3648 - lr: 1.1220e-08\n",
      "1/1 [==============================] - 0s 21ms/step\n"
     ]
    },
    {
     "name": "stderr",
     "output_type": "stream",
     "text": [
      "WARNING:absl:`lr` is deprecated, please use `learning_rate` instead, or use the legacy optimizer, e.g.,tf.keras.optimizers.legacy.SGD.\n"
     ]
    },
    {
     "name": "stdout",
     "output_type": "stream",
     "text": [
      "Epoch 1/2\n",
      "1/1 [==============================] - 1s 932ms/step - loss: 35.5864 - mae: 36.0850 - lr: 1.0000e-08\n",
      "Epoch 2/2\n",
      "1/1 [==============================] - 1s 902ms/step - loss: 35.5861 - mae: 36.0847 - lr: 1.1220e-08\n",
      "1/1 [==============================] - 0s 22ms/step\n"
     ]
    },
    {
     "name": "stderr",
     "output_type": "stream",
     "text": [
      "WARNING:absl:`lr` is deprecated, please use `learning_rate` instead, or use the legacy optimizer, e.g.,tf.keras.optimizers.legacy.SGD.\n"
     ]
    },
    {
     "name": "stdout",
     "output_type": "stream",
     "text": [
      "Epoch 1/2\n",
      "1/1 [==============================] - 0s 360ms/step - loss: 26.7113 - mae: 27.2094 - lr: 1.0000e-08\n",
      "Epoch 2/2\n",
      "1/1 [==============================] - 0s 285ms/step - loss: 26.7111 - mae: 27.2092 - lr: 1.1220e-08\n",
      "1/1 [==============================] - 0s 23ms/step\n"
     ]
    },
    {
     "name": "stderr",
     "output_type": "stream",
     "text": [
      "WARNING:absl:`lr` is deprecated, please use `learning_rate` instead, or use the legacy optimizer, e.g.,tf.keras.optimizers.legacy.SGD.\n"
     ]
    },
    {
     "name": "stdout",
     "output_type": "stream",
     "text": [
      "Epoch 1/2\n",
      "1/1 [==============================] - 0s 494ms/step - loss: 34.0323 - mae: 34.5323 - lr: 1.0000e-08\n",
      "Epoch 2/2\n",
      "1/1 [==============================] - 0s 422ms/step - loss: 34.0320 - mae: 34.5320 - lr: 1.1220e-08\n",
      "1/1 [==============================] - 0s 24ms/step\n"
     ]
    },
    {
     "name": "stderr",
     "output_type": "stream",
     "text": [
      "WARNING:absl:`lr` is deprecated, please use `learning_rate` instead, or use the legacy optimizer, e.g.,tf.keras.optimizers.legacy.SGD.\n"
     ]
    },
    {
     "name": "stdout",
     "output_type": "stream",
     "text": [
      "Epoch 1/2\n",
      "1/1 [==============================] - 1s 563ms/step - loss: 60.9057 - mae: 61.4053 - lr: 1.0000e-08\n",
      "Epoch 2/2\n",
      "1/1 [==============================] - 1s 548ms/step - loss: 60.9050 - mae: 61.4047 - lr: 1.1220e-08\n",
      "1/1 [==============================] - 0s 25ms/step\n"
     ]
    },
    {
     "name": "stderr",
     "output_type": "stream",
     "text": [
      "WARNING:absl:`lr` is deprecated, please use `learning_rate` instead, or use the legacy optimizer, e.g.,tf.keras.optimizers.legacy.SGD.\n"
     ]
    },
    {
     "name": "stdout",
     "output_type": "stream",
     "text": [
      "Epoch 1/2\n",
      "1/1 [==============================] - 1s 761ms/step - loss: 35.1597 - mae: 35.6597 - lr: 1.0000e-08\n",
      "Epoch 2/2\n",
      "1/1 [==============================] - 1s 747ms/step - loss: 35.1590 - mae: 35.6590 - lr: 1.1220e-08\n",
      "1/1 [==============================] - 0s 23ms/step\n"
     ]
    },
    {
     "name": "stderr",
     "output_type": "stream",
     "text": [
      "WARNING:absl:`lr` is deprecated, please use `learning_rate` instead, or use the legacy optimizer, e.g.,tf.keras.optimizers.legacy.SGD.\n"
     ]
    },
    {
     "name": "stdout",
     "output_type": "stream",
     "text": [
      "Epoch 1/2\n",
      "1/1 [==============================] - 1s 1s/step - loss: 65.7917 - mae: 66.2851 - lr: 1.0000e-08\n",
      "Epoch 2/2\n",
      "1/1 [==============================] - 1s 1s/step - loss: 65.7910 - mae: 66.2844 - lr: 1.1220e-08\n",
      "1/1 [==============================] - 0s 25ms/step\n"
     ]
    },
    {
     "name": "stderr",
     "output_type": "stream",
     "text": [
      "WARNING:absl:`lr` is deprecated, please use `learning_rate` instead, or use the legacy optimizer, e.g.,tf.keras.optimizers.legacy.SGD.\n"
     ]
    },
    {
     "name": "stdout",
     "output_type": "stream",
     "text": [
      "Epoch 1/2\n",
      "1/1 [==============================] - 0s 366ms/step - loss: 39.6751 - mae: 40.1749 - lr: 1.0000e-08\n",
      "Epoch 2/2\n",
      "1/1 [==============================] - 0s 383ms/step - loss: 39.6748 - mae: 40.1746 - lr: 1.1220e-08\n",
      "1/1 [==============================] - 0s 32ms/step\n"
     ]
    },
    {
     "name": "stderr",
     "output_type": "stream",
     "text": [
      "WARNING:absl:`lr` is deprecated, please use `learning_rate` instead, or use the legacy optimizer, e.g.,tf.keras.optimizers.legacy.SGD.\n"
     ]
    },
    {
     "name": "stdout",
     "output_type": "stream",
     "text": [
      "Epoch 1/2\n",
      "1/1 [==============================] - 1s 506ms/step - loss: 35.9325 - mae: 36.4325 - lr: 1.0000e-08\n",
      "Epoch 2/2\n",
      "1/1 [==============================] - 0s 486ms/step - loss: 35.9321 - mae: 36.4321 - lr: 1.1220e-08\n",
      "1/1 [==============================] - 0s 34ms/step\n"
     ]
    },
    {
     "name": "stderr",
     "output_type": "stream",
     "text": [
      "WARNING:absl:`lr` is deprecated, please use `learning_rate` instead, or use the legacy optimizer, e.g.,tf.keras.optimizers.legacy.SGD.\n"
     ]
    },
    {
     "name": "stdout",
     "output_type": "stream",
     "text": [
      "Epoch 1/2\n",
      "1/1 [==============================] - 1s 573ms/step - loss: 30.6044 - mae: 31.1044 - lr: 1.0000e-08\n",
      "Epoch 2/2\n",
      "1/1 [==============================] - 1s 553ms/step - loss: 30.6042 - mae: 31.1042 - lr: 1.1220e-08\n",
      "1/1 [==============================] - 0s 44ms/step\n"
     ]
    },
    {
     "name": "stderr",
     "output_type": "stream",
     "text": [
      "WARNING:absl:`lr` is deprecated, please use `learning_rate` instead, or use the legacy optimizer, e.g.,tf.keras.optimizers.legacy.SGD.\n"
     ]
    },
    {
     "name": "stdout",
     "output_type": "stream",
     "text": [
      "Epoch 1/2\n",
      "1/1 [==============================] - 1s 735ms/step - loss: 35.9005 - mae: 36.3870 - lr: 1.0000e-08\n",
      "Epoch 2/2\n",
      "1/1 [==============================] - 1s 827ms/step - loss: 35.9001 - mae: 36.3866 - lr: 1.1220e-08\n",
      "1/1 [==============================] - 0s 27ms/step\n"
     ]
    },
    {
     "name": "stderr",
     "output_type": "stream",
     "text": [
      "WARNING:absl:`lr` is deprecated, please use `learning_rate` instead, or use the legacy optimizer, e.g.,tf.keras.optimizers.legacy.SGD.\n"
     ]
    },
    {
     "name": "stdout",
     "output_type": "stream",
     "text": [
      "Epoch 1/2\n",
      "1/1 [==============================] - 1s 1s/step - loss: 32.6798 - mae: 33.1687 - lr: 1.0000e-08\n",
      "Epoch 2/2\n",
      "1/1 [==============================] - 1s 1s/step - loss: 32.6797 - mae: 33.1685 - lr: 1.1220e-08\n",
      "1/1 [==============================] - 0s 23ms/step\n"
     ]
    },
    {
     "name": "stderr",
     "output_type": "stream",
     "text": [
      "WARNING:absl:`lr` is deprecated, please use `learning_rate` instead, or use the legacy optimizer, e.g.,tf.keras.optimizers.legacy.SGD.\n"
     ]
    },
    {
     "name": "stdout",
     "output_type": "stream",
     "text": [
      "Epoch 1/2\n",
      "1/1 [==============================] - 0s 297ms/step - loss: 36.6199 - mae: 37.1198 - lr: 1.0000e-08\n",
      "Epoch 2/2\n",
      "1/1 [==============================] - 0s 384ms/step - loss: 36.6197 - mae: 37.1196 - lr: 1.1220e-08\n",
      "1/1 [==============================] - 0s 26ms/step\n"
     ]
    },
    {
     "name": "stderr",
     "output_type": "stream",
     "text": [
      "WARNING:absl:`lr` is deprecated, please use `learning_rate` instead, or use the legacy optimizer, e.g.,tf.keras.optimizers.legacy.SGD.\n"
     ]
    },
    {
     "name": "stdout",
     "output_type": "stream",
     "text": [
      "Epoch 1/2\n",
      "1/1 [==============================] - 1s 560ms/step - loss: 39.4094 - mae: 39.9051 - lr: 1.0000e-08\n",
      "Epoch 2/2\n",
      "1/1 [==============================] - 0s 443ms/step - loss: 39.4092 - mae: 39.9050 - lr: 1.1220e-08\n",
      "1/1 [==============================] - 0s 28ms/step\n"
     ]
    },
    {
     "name": "stderr",
     "output_type": "stream",
     "text": [
      "WARNING:absl:`lr` is deprecated, please use `learning_rate` instead, or use the legacy optimizer, e.g.,tf.keras.optimizers.legacy.SGD.\n"
     ]
    },
    {
     "name": "stdout",
     "output_type": "stream",
     "text": [
      "Epoch 1/2\n",
      "1/1 [==============================] - 1s 722ms/step - loss: 26.4331 - mae: 26.9284 - lr: 1.0000e-08\n",
      "Epoch 2/2\n",
      "1/1 [==============================] - 1s 686ms/step - loss: 26.4329 - mae: 26.9282 - lr: 1.1220e-08\n",
      "1/1 [==============================] - 0s 94ms/step\n"
     ]
    },
    {
     "name": "stderr",
     "output_type": "stream",
     "text": [
      "WARNING:absl:`lr` is deprecated, please use `learning_rate` instead, or use the legacy optimizer, e.g.,tf.keras.optimizers.legacy.SGD.\n"
     ]
    },
    {
     "name": "stdout",
     "output_type": "stream",
     "text": [
      "Epoch 1/2\n",
      "1/1 [==============================] - 1s 852ms/step - loss: 48.1972 - mae: 48.6916 - lr: 1.0000e-08\n",
      "Epoch 2/2\n",
      "1/1 [==============================] - 1s 855ms/step - loss: 48.1968 - mae: 48.6912 - lr: 1.1220e-08\n",
      "1/1 [==============================] - 0s 32ms/step\n"
     ]
    },
    {
     "name": "stderr",
     "output_type": "stream",
     "text": [
      "WARNING:absl:`lr` is deprecated, please use `learning_rate` instead, or use the legacy optimizer, e.g.,tf.keras.optimizers.legacy.SGD.\n"
     ]
    },
    {
     "name": "stdout",
     "output_type": "stream",
     "text": [
      "Epoch 1/2\n",
      "1/1 [==============================] - 1s 1s/step - loss: 31.1224 - mae: 31.6224 - lr: 1.0000e-08\n",
      "Epoch 2/2\n",
      "1/1 [==============================] - 1s 1s/step - loss: 31.1221 - mae: 31.6221 - lr: 1.1220e-08\n",
      "1/1 [==============================] - 0s 29ms/step\n"
     ]
    },
    {
     "name": "stderr",
     "output_type": "stream",
     "text": [
      "WARNING:absl:`lr` is deprecated, please use `learning_rate` instead, or use the legacy optimizer, e.g.,tf.keras.optimizers.legacy.SGD.\n"
     ]
    },
    {
     "name": "stdout",
     "output_type": "stream",
     "text": [
      "Epoch 1/2\n",
      "1/1 [==============================] - 0s 321ms/step - loss: 38.0748 - mae: 38.5748 - lr: 1.0000e-08\n",
      "Epoch 2/2\n",
      "1/1 [==============================] - 0s 296ms/step - loss: 38.0746 - mae: 38.5746 - lr: 1.1220e-08\n",
      "1/1 [==============================] - 0s 23ms/step\n"
     ]
    },
    {
     "name": "stderr",
     "output_type": "stream",
     "text": [
      "WARNING:absl:`lr` is deprecated, please use `learning_rate` instead, or use the legacy optimizer, e.g.,tf.keras.optimizers.legacy.SGD.\n"
     ]
    },
    {
     "name": "stdout",
     "output_type": "stream",
     "text": [
      "Epoch 1/2\n",
      "1/1 [==============================] - 0s 499ms/step - loss: 36.3679 - mae: 36.8657 - lr: 1.0000e-08\n",
      "Epoch 2/2\n",
      "1/1 [==============================] - 0s 442ms/step - loss: 36.3677 - mae: 36.8655 - lr: 1.1220e-08\n",
      "1/1 [==============================] - 0s 24ms/step\n"
     ]
    },
    {
     "name": "stderr",
     "output_type": "stream",
     "text": [
      "WARNING:absl:`lr` is deprecated, please use `learning_rate` instead, or use the legacy optimizer, e.g.,tf.keras.optimizers.legacy.SGD.\n"
     ]
    },
    {
     "name": "stdout",
     "output_type": "stream",
     "text": [
      "Epoch 1/2\n",
      "1/1 [==============================] - 1s 588ms/step - loss: 15.6168 - mae: 16.1124 - lr: 1.0000e-08\n",
      "Epoch 2/2\n",
      "1/1 [==============================] - 1s 558ms/step - loss: 15.6167 - mae: 16.1123 - lr: 1.1220e-08\n",
      "1/1 [==============================] - 0s 28ms/step\n"
     ]
    },
    {
     "name": "stderr",
     "output_type": "stream",
     "text": [
      "WARNING:absl:`lr` is deprecated, please use `learning_rate` instead, or use the legacy optimizer, e.g.,tf.keras.optimizers.legacy.SGD.\n"
     ]
    },
    {
     "name": "stdout",
     "output_type": "stream",
     "text": [
      "Epoch 1/2\n",
      "1/1 [==============================] - 1s 760ms/step - loss: 46.4541 - mae: 46.9541 - lr: 1.0000e-08\n",
      "Epoch 2/2\n",
      "1/1 [==============================] - 1s 759ms/step - loss: 46.4538 - mae: 46.9538 - lr: 1.1220e-08\n",
      "1/1 [==============================] - 0s 24ms/step\n"
     ]
    },
    {
     "name": "stderr",
     "output_type": "stream",
     "text": [
      "WARNING:absl:`lr` is deprecated, please use `learning_rate` instead, or use the legacy optimizer, e.g.,tf.keras.optimizers.legacy.SGD.\n"
     ]
    },
    {
     "name": "stdout",
     "output_type": "stream",
     "text": [
      "Epoch 1/2\n",
      "1/1 [==============================] - 1s 1s/step - loss: 38.5514 - mae: 39.0514 - lr: 1.0000e-08\n",
      "Epoch 2/2\n",
      "1/1 [==============================] - 1s 1s/step - loss: 38.5510 - mae: 39.0510 - lr: 1.1220e-08\n",
      "1/1 [==============================] - 0s 23ms/step\n"
     ]
    },
    {
     "name": "stderr",
     "output_type": "stream",
     "text": [
      "WARNING:absl:`lr` is deprecated, please use `learning_rate` instead, or use the legacy optimizer, e.g.,tf.keras.optimizers.legacy.SGD.\n"
     ]
    },
    {
     "name": "stdout",
     "output_type": "stream",
     "text": [
      "Epoch 1/2\n",
      "1/1 [==============================] - 0s 350ms/step - loss: 62.1645 - mae: 62.6645 - lr: 1.0000e-08\n",
      "Epoch 2/2\n",
      "1/1 [==============================] - 0s 302ms/step - loss: 62.1640 - mae: 62.6640 - lr: 1.1220e-08\n",
      "1/1 [==============================] - 0s 25ms/step\n"
     ]
    },
    {
     "name": "stderr",
     "output_type": "stream",
     "text": [
      "WARNING:absl:`lr` is deprecated, please use `learning_rate` instead, or use the legacy optimizer, e.g.,tf.keras.optimizers.legacy.SGD.\n"
     ]
    },
    {
     "name": "stdout",
     "output_type": "stream",
     "text": [
      "Epoch 1/2\n",
      "1/1 [==============================] - 0s 448ms/step - loss: 37.4393 - mae: 37.9393 - lr: 1.0000e-08\n",
      "Epoch 2/2\n",
      "1/1 [==============================] - 0s 438ms/step - loss: 37.4391 - mae: 37.9391 - lr: 1.1220e-08\n",
      "1/1 [==============================] - 0s 25ms/step\n"
     ]
    },
    {
     "name": "stderr",
     "output_type": "stream",
     "text": [
      "WARNING:absl:`lr` is deprecated, please use `learning_rate` instead, or use the legacy optimizer, e.g.,tf.keras.optimizers.legacy.SGD.\n"
     ]
    },
    {
     "name": "stdout",
     "output_type": "stream",
     "text": [
      "Epoch 1/2\n",
      "1/1 [==============================] - 1s 575ms/step - loss: 30.9977 - mae: 31.4977 - lr: 1.0000e-08\n",
      "Epoch 2/2\n",
      "1/1 [==============================] - 1s 645ms/step - loss: 30.9972 - mae: 31.4972 - lr: 1.1220e-08\n",
      "1/1 [==============================] - 0s 30ms/step\n"
     ]
    },
    {
     "name": "stderr",
     "output_type": "stream",
     "text": [
      "WARNING:absl:`lr` is deprecated, please use `learning_rate` instead, or use the legacy optimizer, e.g.,tf.keras.optimizers.legacy.SGD.\n"
     ]
    },
    {
     "name": "stdout",
     "output_type": "stream",
     "text": [
      "Epoch 1/2\n",
      "1/1 [==============================] - 1s 908ms/step - loss: 32.1299 - mae: 32.6211 - lr: 1.0000e-08\n",
      "Epoch 2/2\n",
      "1/1 [==============================] - 1s 876ms/step - loss: 32.1296 - mae: 32.6208 - lr: 1.1220e-08\n",
      "1/1 [==============================] - 0s 28ms/step\n"
     ]
    },
    {
     "name": "stderr",
     "output_type": "stream",
     "text": [
      "WARNING:absl:`lr` is deprecated, please use `learning_rate` instead, or use the legacy optimizer, e.g.,tf.keras.optimizers.legacy.SGD.\n"
     ]
    },
    {
     "name": "stdout",
     "output_type": "stream",
     "text": [
      "Epoch 1/2\n",
      "1/1 [==============================] - 1s 967ms/step - loss: 23.8371 - mae: 24.3324 - lr: 1.0000e-08\n",
      "Epoch 2/2\n",
      "1/1 [==============================] - 1s 998ms/step - loss: 23.8369 - mae: 24.3323 - lr: 1.1220e-08\n",
      "1/1 [==============================] - 0s 21ms/step\n"
     ]
    },
    {
     "name": "stderr",
     "output_type": "stream",
     "text": [
      "WARNING:absl:`lr` is deprecated, please use `learning_rate` instead, or use the legacy optimizer, e.g.,tf.keras.optimizers.legacy.SGD.\n"
     ]
    },
    {
     "name": "stdout",
     "output_type": "stream",
     "text": [
      "Epoch 1/2\n",
      "1/1 [==============================] - 0s 294ms/step - loss: 27.7107 - mae: 28.1992 - lr: 1.0000e-08\n",
      "Epoch 2/2\n",
      "1/1 [==============================] - 0s 293ms/step - loss: 27.7106 - mae: 28.1990 - lr: 1.1220e-08\n",
      "1/1 [==============================] - 0s 27ms/step\n"
     ]
    },
    {
     "name": "stderr",
     "output_type": "stream",
     "text": [
      "WARNING:absl:`lr` is deprecated, please use `learning_rate` instead, or use the legacy optimizer, e.g.,tf.keras.optimizers.legacy.SGD.\n"
     ]
    },
    {
     "name": "stdout",
     "output_type": "stream",
     "text": [
      "Epoch 1/2\n",
      "1/1 [==============================] - 0s 423ms/step - loss: 24.8144 - mae: 25.3142 - lr: 1.0000e-08\n",
      "Epoch 2/2\n",
      "1/1 [==============================] - 0s 414ms/step - loss: 24.8141 - mae: 25.3139 - lr: 1.1220e-08\n",
      "1/1 [==============================] - 0s 26ms/step\n"
     ]
    },
    {
     "name": "stderr",
     "output_type": "stream",
     "text": [
      "WARNING:absl:`lr` is deprecated, please use `learning_rate` instead, or use the legacy optimizer, e.g.,tf.keras.optimizers.legacy.SGD.\n"
     ]
    },
    {
     "name": "stdout",
     "output_type": "stream",
     "text": [
      "Epoch 1/2\n",
      "1/1 [==============================] - 1s 621ms/step - loss: 34.5113 - mae: 35.0112 - lr: 1.0000e-08\n",
      "Epoch 2/2\n",
      "1/1 [==============================] - 1s 731ms/step - loss: 34.5107 - mae: 35.0107 - lr: 1.1220e-08\n",
      "1/1 [==============================] - 0s 30ms/step\n"
     ]
    },
    {
     "name": "stderr",
     "output_type": "stream",
     "text": [
      "WARNING:absl:`lr` is deprecated, please use `learning_rate` instead, or use the legacy optimizer, e.g.,tf.keras.optimizers.legacy.SGD.\n"
     ]
    },
    {
     "name": "stdout",
     "output_type": "stream",
     "text": [
      "Epoch 1/2\n",
      "1/1 [==============================] - 1s 943ms/step - loss: 50.0660 - mae: 50.5620 - lr: 1.0000e-08\n",
      "Epoch 2/2\n",
      "1/1 [==============================] - 1s 837ms/step - loss: 50.0655 - mae: 50.5615 - lr: 1.1220e-08\n",
      "1/1 [==============================] - 0s 21ms/step\n"
     ]
    },
    {
     "name": "stderr",
     "output_type": "stream",
     "text": [
      "WARNING:absl:`lr` is deprecated, please use `learning_rate` instead, or use the legacy optimizer, e.g.,tf.keras.optimizers.legacy.SGD.\n"
     ]
    },
    {
     "name": "stdout",
     "output_type": "stream",
     "text": [
      "Epoch 1/2\n",
      "1/1 [==============================] - 1s 1s/step - loss: 26.6454 - mae: 27.1431 - lr: 1.0000e-08\n",
      "Epoch 2/2\n",
      "1/1 [==============================] - 1s 1s/step - loss: 26.6453 - mae: 27.1429 - lr: 1.1220e-08\n",
      "1/1 [==============================] - 0s 33ms/step\n"
     ]
    },
    {
     "name": "stderr",
     "output_type": "stream",
     "text": [
      "WARNING:absl:`lr` is deprecated, please use `learning_rate` instead, or use the legacy optimizer, e.g.,tf.keras.optimizers.legacy.SGD.\n"
     ]
    },
    {
     "name": "stdout",
     "output_type": "stream",
     "text": [
      "Epoch 1/2\n",
      "1/1 [==============================] - 0s 404ms/step - loss: 42.2187 - mae: 42.7187 - lr: 1.0000e-08\n",
      "Epoch 2/2\n",
      "1/1 [==============================] - 0s 390ms/step - loss: 42.2184 - mae: 42.7183 - lr: 1.1220e-08\n",
      "1/1 [==============================] - 0s 25ms/step\n"
     ]
    },
    {
     "name": "stderr",
     "output_type": "stream",
     "text": [
      "WARNING:absl:`lr` is deprecated, please use `learning_rate` instead, or use the legacy optimizer, e.g.,tf.keras.optimizers.legacy.SGD.\n"
     ]
    },
    {
     "name": "stdout",
     "output_type": "stream",
     "text": [
      "Epoch 1/2\n",
      "1/1 [==============================] - 1s 508ms/step - loss: 47.8048 - mae: 48.3048 - lr: 1.0000e-08\n",
      "Epoch 2/2\n",
      "1/1 [==============================] - 1s 528ms/step - loss: 47.8046 - mae: 48.3046 - lr: 1.1220e-08\n",
      "1/1 [==============================] - 0s 26ms/step\n"
     ]
    },
    {
     "name": "stderr",
     "output_type": "stream",
     "text": [
      "WARNING:absl:`lr` is deprecated, please use `learning_rate` instead, or use the legacy optimizer, e.g.,tf.keras.optimizers.legacy.SGD.\n"
     ]
    },
    {
     "name": "stdout",
     "output_type": "stream",
     "text": [
      "Epoch 1/2\n",
      "1/1 [==============================] - 1s 631ms/step - loss: 38.5254 - mae: 39.0254 - lr: 1.0000e-08\n",
      "Epoch 2/2\n",
      "1/1 [==============================] - 1s 576ms/step - loss: 38.5252 - mae: 39.0252 - lr: 1.1220e-08\n",
      "1/1 [==============================] - 0s 36ms/step\n"
     ]
    },
    {
     "name": "stderr",
     "output_type": "stream",
     "text": [
      "WARNING:absl:`lr` is deprecated, please use `learning_rate` instead, or use the legacy optimizer, e.g.,tf.keras.optimizers.legacy.SGD.\n"
     ]
    },
    {
     "name": "stdout",
     "output_type": "stream",
     "text": [
      "Epoch 1/2\n",
      "1/1 [==============================] - 1s 782ms/step - loss: 38.6241 - mae: 39.1200 - lr: 1.0000e-08\n",
      "Epoch 2/2\n",
      "1/1 [==============================] - 1s 790ms/step - loss: 38.6240 - mae: 39.1199 - lr: 1.1220e-08\n",
      "1/1 [==============================] - 0s 31ms/step\n"
     ]
    },
    {
     "name": "stderr",
     "output_type": "stream",
     "text": [
      "WARNING:absl:`lr` is deprecated, please use `learning_rate` instead, or use the legacy optimizer, e.g.,tf.keras.optimizers.legacy.SGD.\n"
     ]
    },
    {
     "name": "stdout",
     "output_type": "stream",
     "text": [
      "Epoch 1/2\n",
      "1/1 [==============================] - 1s 1s/step - loss: 27.3358 - mae: 27.8286 - lr: 1.0000e-08\n",
      "Epoch 2/2\n",
      "1/1 [==============================] - 1s 1s/step - loss: 27.3355 - mae: 27.8283 - lr: 1.1220e-08\n",
      "1/1 [==============================] - 0s 24ms/step\n"
     ]
    },
    {
     "name": "stderr",
     "output_type": "stream",
     "text": [
      "WARNING:absl:`lr` is deprecated, please use `learning_rate` instead, or use the legacy optimizer, e.g.,tf.keras.optimizers.legacy.SGD.\n"
     ]
    },
    {
     "name": "stdout",
     "output_type": "stream",
     "text": [
      "Epoch 1/2\n",
      "1/1 [==============================] - 0s 336ms/step - loss: 24.8620 - mae: 25.3620 - lr: 1.0000e-08\n",
      "Epoch 2/2\n",
      "1/1 [==============================] - 0s 328ms/step - loss: 24.8618 - mae: 25.3618 - lr: 1.1220e-08\n",
      "1/1 [==============================] - 0s 45ms/step\n"
     ]
    },
    {
     "name": "stderr",
     "output_type": "stream",
     "text": [
      "WARNING:absl:`lr` is deprecated, please use `learning_rate` instead, or use the legacy optimizer, e.g.,tf.keras.optimizers.legacy.SGD.\n"
     ]
    },
    {
     "name": "stdout",
     "output_type": "stream",
     "text": [
      "Epoch 1/2\n",
      "1/1 [==============================] - 1s 591ms/step - loss: 35.8436 - mae: 36.3396 - lr: 1.0000e-08\n",
      "Epoch 2/2\n",
      "1/1 [==============================] - 1s 513ms/step - loss: 35.8433 - mae: 36.3393 - lr: 1.1220e-08\n",
      "1/1 [==============================] - 0s 28ms/step\n"
     ]
    },
    {
     "name": "stderr",
     "output_type": "stream",
     "text": [
      "WARNING:absl:`lr` is deprecated, please use `learning_rate` instead, or use the legacy optimizer, e.g.,tf.keras.optimizers.legacy.SGD.\n"
     ]
    },
    {
     "name": "stdout",
     "output_type": "stream",
     "text": [
      "Epoch 1/2\n",
      "1/1 [==============================] - 1s 714ms/step - loss: 27.2043 - mae: 27.6988 - lr: 1.0000e-08\n",
      "Epoch 2/2\n",
      "1/1 [==============================] - 1s 698ms/step - loss: 27.2041 - mae: 27.6986 - lr: 1.1220e-08\n",
      "1/1 [==============================] - 0s 40ms/step\n"
     ]
    },
    {
     "name": "stderr",
     "output_type": "stream",
     "text": [
      "WARNING:absl:`lr` is deprecated, please use `learning_rate` instead, or use the legacy optimizer, e.g.,tf.keras.optimizers.legacy.SGD.\n"
     ]
    },
    {
     "name": "stdout",
     "output_type": "stream",
     "text": [
      "Epoch 1/2\n",
      "1/1 [==============================] - 1s 823ms/step - loss: 18.5258 - mae: 19.0166 - lr: 1.0000e-08\n",
      "Epoch 2/2\n",
      "1/1 [==============================] - 1s 876ms/step - loss: 18.5257 - mae: 19.0165 - lr: 1.1220e-08\n",
      "1/1 [==============================] - 0s 23ms/step\n"
     ]
    },
    {
     "name": "stderr",
     "output_type": "stream",
     "text": [
      "WARNING:absl:`lr` is deprecated, please use `learning_rate` instead, or use the legacy optimizer, e.g.,tf.keras.optimizers.legacy.SGD.\n"
     ]
    },
    {
     "name": "stdout",
     "output_type": "stream",
     "text": [
      "Epoch 1/2\n",
      "1/1 [==============================] - 1s 1s/step - loss: 45.2837 - mae: 45.7836 - lr: 1.0000e-08\n",
      "Epoch 2/2\n",
      "1/1 [==============================] - 1s 963ms/step - loss: 45.2834 - mae: 45.7833 - lr: 1.1220e-08\n",
      "1/1 [==============================] - 0s 27ms/step\n"
     ]
    },
    {
     "name": "stderr",
     "output_type": "stream",
     "text": [
      "WARNING:absl:`lr` is deprecated, please use `learning_rate` instead, or use the legacy optimizer, e.g.,tf.keras.optimizers.legacy.SGD.\n"
     ]
    },
    {
     "name": "stdout",
     "output_type": "stream",
     "text": [
      "Epoch 1/2\n",
      "1/1 [==============================] - 0s 317ms/step - loss: 46.3026 - mae: 46.8026 - lr: 1.0000e-08\n",
      "Epoch 2/2\n",
      "1/1 [==============================] - 0s 324ms/step - loss: 46.3024 - mae: 46.8024 - lr: 1.1220e-08\n",
      "1/1 [==============================] - 0s 25ms/step\n"
     ]
    },
    {
     "name": "stderr",
     "output_type": "stream",
     "text": [
      "WARNING:absl:`lr` is deprecated, please use `learning_rate` instead, or use the legacy optimizer, e.g.,tf.keras.optimizers.legacy.SGD.\n"
     ]
    },
    {
     "name": "stdout",
     "output_type": "stream",
     "text": [
      "Epoch 1/2\n",
      "1/1 [==============================] - 1s 562ms/step - loss: 40.3347 - mae: 40.8295 - lr: 1.0000e-08\n",
      "Epoch 2/2\n",
      "1/1 [==============================] - 0s 437ms/step - loss: 40.3344 - mae: 40.8293 - lr: 1.1220e-08\n",
      "1/1 [==============================] - 0s 29ms/step\n"
     ]
    },
    {
     "name": "stderr",
     "output_type": "stream",
     "text": [
      "WARNING:absl:`lr` is deprecated, please use `learning_rate` instead, or use the legacy optimizer, e.g.,tf.keras.optimizers.legacy.SGD.\n"
     ]
    },
    {
     "name": "stdout",
     "output_type": "stream",
     "text": [
      "Epoch 1/2\n",
      "1/1 [==============================] - 1s 628ms/step - loss: 47.3756 - mae: 47.8755 - lr: 1.0000e-08\n",
      "Epoch 2/2\n",
      "1/1 [==============================] - 1s 578ms/step - loss: 47.3754 - mae: 47.8753 - lr: 1.1220e-08\n",
      "1/1 [==============================] - 0s 31ms/step\n"
     ]
    },
    {
     "name": "stderr",
     "output_type": "stream",
     "text": [
      "WARNING:absl:`lr` is deprecated, please use `learning_rate` instead, or use the legacy optimizer, e.g.,tf.keras.optimizers.legacy.SGD.\n"
     ]
    },
    {
     "name": "stdout",
     "output_type": "stream",
     "text": [
      "Epoch 1/2\n",
      "1/1 [==============================] - 1s 812ms/step - loss: 21.8674 - mae: 22.3623 - lr: 1.0000e-08\n",
      "Epoch 2/2\n",
      "1/1 [==============================] - 1s 791ms/step - loss: 21.8672 - mae: 22.3621 - lr: 1.1220e-08\n",
      "1/1 [==============================] - 0s 24ms/step\n"
     ]
    },
    {
     "name": "stderr",
     "output_type": "stream",
     "text": [
      "WARNING:absl:`lr` is deprecated, please use `learning_rate` instead, or use the legacy optimizer, e.g.,tf.keras.optimizers.legacy.SGD.\n"
     ]
    },
    {
     "name": "stdout",
     "output_type": "stream",
     "text": [
      "Epoch 1/2\n",
      "1/1 [==============================] - 1s 1s/step - loss: 29.2542 - mae: 29.7542 - lr: 1.0000e-08\n",
      "Epoch 2/2\n",
      "1/1 [==============================] - 1s 962ms/step - loss: 29.2540 - mae: 29.7540 - lr: 1.1220e-08\n",
      "1/1 [==============================] - 0s 22ms/step\n"
     ]
    },
    {
     "name": "stderr",
     "output_type": "stream",
     "text": [
      "WARNING:absl:`lr` is deprecated, please use `learning_rate` instead, or use the legacy optimizer, e.g.,tf.keras.optimizers.legacy.SGD.\n"
     ]
    },
    {
     "name": "stdout",
     "output_type": "stream",
     "text": [
      "Epoch 1/2\n",
      "1/1 [==============================] - 0s 299ms/step - loss: 48.2092 - mae: 48.7054 - lr: 1.0000e-08\n",
      "Epoch 2/2\n",
      "1/1 [==============================] - 0s 299ms/step - loss: 48.2090 - mae: 48.7051 - lr: 1.1220e-08\n",
      "1/1 [==============================] - 0s 23ms/step\n"
     ]
    },
    {
     "name": "stderr",
     "output_type": "stream",
     "text": [
      "WARNING:absl:`lr` is deprecated, please use `learning_rate` instead, or use the legacy optimizer, e.g.,tf.keras.optimizers.legacy.SGD.\n"
     ]
    },
    {
     "name": "stdout",
     "output_type": "stream",
     "text": [
      "Epoch 1/2\n",
      "1/1 [==============================] - 1s 516ms/step - loss: 36.1751 - mae: 36.6750 - lr: 1.0000e-08\n",
      "Epoch 2/2\n",
      "1/1 [==============================] - 0s 487ms/step - loss: 36.1747 - mae: 36.6747 - lr: 1.1220e-08\n",
      "1/1 [==============================] - 0s 29ms/step\n"
     ]
    },
    {
     "name": "stderr",
     "output_type": "stream",
     "text": [
      "WARNING:absl:`lr` is deprecated, please use `learning_rate` instead, or use the legacy optimizer, e.g.,tf.keras.optimizers.legacy.SGD.\n"
     ]
    },
    {
     "name": "stdout",
     "output_type": "stream",
     "text": [
      "Epoch 1/2\n",
      "1/1 [==============================] - 1s 776ms/step - loss: 39.9748 - mae: 40.4748 - lr: 1.0000e-08\n",
      "Epoch 2/2\n",
      "1/1 [==============================] - 1s 676ms/step - loss: 39.9745 - mae: 40.4745 - lr: 1.1220e-08\n",
      "1/1 [==============================] - 0s 28ms/step\n"
     ]
    },
    {
     "name": "stderr",
     "output_type": "stream",
     "text": [
      "WARNING:absl:`lr` is deprecated, please use `learning_rate` instead, or use the legacy optimizer, e.g.,tf.keras.optimizers.legacy.SGD.\n"
     ]
    },
    {
     "name": "stdout",
     "output_type": "stream",
     "text": [
      "Epoch 1/2\n",
      "1/1 [==============================] - 1s 876ms/step - loss: 34.9530 - mae: 35.4529 - lr: 1.0000e-08\n",
      "Epoch 2/2\n",
      "1/1 [==============================] - 1s 868ms/step - loss: 34.9524 - mae: 35.4523 - lr: 1.1220e-08\n",
      "1/1 [==============================] - 0s 24ms/step\n"
     ]
    },
    {
     "name": "stderr",
     "output_type": "stream",
     "text": [
      "WARNING:absl:`lr` is deprecated, please use `learning_rate` instead, or use the legacy optimizer, e.g.,tf.keras.optimizers.legacy.SGD.\n"
     ]
    },
    {
     "name": "stdout",
     "output_type": "stream",
     "text": [
      "Epoch 1/2\n",
      "1/1 [==============================] - 1s 1s/step - loss: 45.8745 - mae: 46.3745 - lr: 1.0000e-08\n",
      "Epoch 2/2\n",
      "1/1 [==============================] - 1s 1s/step - loss: 45.8740 - mae: 46.3740 - lr: 1.1220e-08\n",
      "1/1 [==============================] - 0s 24ms/step\n"
     ]
    },
    {
     "name": "stderr",
     "output_type": "stream",
     "text": [
      "WARNING:absl:`lr` is deprecated, please use `learning_rate` instead, or use the legacy optimizer, e.g.,tf.keras.optimizers.legacy.SGD.\n"
     ]
    },
    {
     "name": "stdout",
     "output_type": "stream",
     "text": [
      "Epoch 1/2\n",
      "1/1 [==============================] - 0s 384ms/step - loss: 57.5883 - mae: 58.0883 - lr: 1.0000e-08\n",
      "Epoch 2/2\n",
      "1/1 [==============================] - 0s 299ms/step - loss: 57.5876 - mae: 58.0876 - lr: 1.1220e-08\n",
      "1/1 [==============================] - 0s 24ms/step\n"
     ]
    },
    {
     "name": "stderr",
     "output_type": "stream",
     "text": [
      "WARNING:absl:`lr` is deprecated, please use `learning_rate` instead, or use the legacy optimizer, e.g.,tf.keras.optimizers.legacy.SGD.\n"
     ]
    },
    {
     "name": "stdout",
     "output_type": "stream",
     "text": [
      "Epoch 1/2\n",
      "1/1 [==============================] - 0s 473ms/step - loss: 42.2040 - mae: 42.6994 - lr: 1.0000e-08\n",
      "Epoch 2/2\n",
      "1/1 [==============================] - 0s 480ms/step - loss: 42.2038 - mae: 42.6992 - lr: 1.1220e-08\n",
      "1/1 [==============================] - 0s 25ms/step\n"
     ]
    },
    {
     "name": "stderr",
     "output_type": "stream",
     "text": [
      "WARNING:absl:`lr` is deprecated, please use `learning_rate` instead, or use the legacy optimizer, e.g.,tf.keras.optimizers.legacy.SGD.\n"
     ]
    },
    {
     "name": "stdout",
     "output_type": "stream",
     "text": [
      "Epoch 1/2\n",
      "1/1 [==============================] - 1s 586ms/step - loss: 24.1293 - mae: 24.6243 - lr: 1.0000e-08\n",
      "Epoch 2/2\n",
      "1/1 [==============================] - 1s 577ms/step - loss: 24.1291 - mae: 24.6241 - lr: 1.1220e-08\n",
      "1/1 [==============================] - 0s 26ms/step\n"
     ]
    },
    {
     "name": "stderr",
     "output_type": "stream",
     "text": [
      "WARNING:absl:`lr` is deprecated, please use `learning_rate` instead, or use the legacy optimizer, e.g.,tf.keras.optimizers.legacy.SGD.\n"
     ]
    },
    {
     "name": "stdout",
     "output_type": "stream",
     "text": [
      "Epoch 1/2\n",
      "1/1 [==============================] - 1s 779ms/step - loss: 29.4693 - mae: 29.9693 - lr: 1.0000e-08\n",
      "Epoch 2/2\n",
      "1/1 [==============================] - 1s 740ms/step - loss: 29.4691 - mae: 29.9691 - lr: 1.1220e-08\n",
      "1/1 [==============================] - 0s 21ms/step\n"
     ]
    },
    {
     "name": "stderr",
     "output_type": "stream",
     "text": [
      "WARNING:absl:`lr` is deprecated, please use `learning_rate` instead, or use the legacy optimizer, e.g.,tf.keras.optimizers.legacy.SGD.\n"
     ]
    },
    {
     "name": "stdout",
     "output_type": "stream",
     "text": [
      "Epoch 1/2\n",
      "1/1 [==============================] - 1s 959ms/step - loss: 42.9096 - mae: 43.4078 - lr: 1.0000e-08\n",
      "Epoch 2/2\n",
      "1/1 [==============================] - 1s 951ms/step - loss: 42.9090 - mae: 43.4071 - lr: 1.1220e-08\n",
      "1/1 [==============================] - 0s 24ms/step\n"
     ]
    },
    {
     "name": "stderr",
     "output_type": "stream",
     "text": [
      "WARNING:absl:`lr` is deprecated, please use `learning_rate` instead, or use the legacy optimizer, e.g.,tf.keras.optimizers.legacy.SGD.\n"
     ]
    },
    {
     "name": "stdout",
     "output_type": "stream",
     "text": [
      "Epoch 1/2\n",
      "1/1 [==============================] - 0s 360ms/step - loss: 30.0496 - mae: 30.5457 - lr: 1.0000e-08\n",
      "Epoch 2/2\n",
      "1/1 [==============================] - 0s 321ms/step - loss: 30.0495 - mae: 30.5456 - lr: 1.1220e-08\n",
      "1/1 [==============================] - 0s 27ms/step\n"
     ]
    },
    {
     "name": "stderr",
     "output_type": "stream",
     "text": [
      "WARNING:absl:`lr` is deprecated, please use `learning_rate` instead, or use the legacy optimizer, e.g.,tf.keras.optimizers.legacy.SGD.\n"
     ]
    },
    {
     "name": "stdout",
     "output_type": "stream",
     "text": [
      "Epoch 1/2\n",
      "1/1 [==============================] - 0s 449ms/step - loss: 29.1045 - mae: 29.5917 - lr: 1.0000e-08\n",
      "Epoch 2/2\n",
      "1/1 [==============================] - 1s 582ms/step - loss: 29.1043 - mae: 29.5915 - lr: 1.1220e-08\n",
      "1/1 [==============================] - 0s 69ms/step\n"
     ]
    },
    {
     "name": "stderr",
     "output_type": "stream",
     "text": [
      "WARNING:absl:`lr` is deprecated, please use `learning_rate` instead, or use the legacy optimizer, e.g.,tf.keras.optimizers.legacy.SGD.\n"
     ]
    },
    {
     "name": "stdout",
     "output_type": "stream",
     "text": [
      "Epoch 1/2\n",
      "1/1 [==============================] - 1s 792ms/step - loss: 29.5948 - mae: 30.0895 - lr: 1.0000e-08\n",
      "Epoch 2/2\n",
      "1/1 [==============================] - 1s 791ms/step - loss: 29.5947 - mae: 30.0894 - lr: 1.1220e-08\n",
      "1/1 [==============================] - 0s 47ms/step\n"
     ]
    },
    {
     "name": "stderr",
     "output_type": "stream",
     "text": [
      "WARNING:absl:`lr` is deprecated, please use `learning_rate` instead, or use the legacy optimizer, e.g.,tf.keras.optimizers.legacy.SGD.\n"
     ]
    },
    {
     "name": "stdout",
     "output_type": "stream",
     "text": [
      "Epoch 1/2\n",
      "1/1 [==============================] - 1s 1s/step - loss: 41.3651 - mae: 41.8651 - lr: 1.0000e-08\n",
      "Epoch 2/2\n",
      "1/1 [==============================] - 1s 1s/step - loss: 41.3649 - mae: 41.8649 - lr: 1.1220e-08\n",
      "1/1 [==============================] - 0s 30ms/step\n"
     ]
    },
    {
     "name": "stderr",
     "output_type": "stream",
     "text": [
      "WARNING:absl:`lr` is deprecated, please use `learning_rate` instead, or use the legacy optimizer, e.g.,tf.keras.optimizers.legacy.SGD.\n"
     ]
    },
    {
     "name": "stdout",
     "output_type": "stream",
     "text": [
      "Epoch 1/2\n",
      "1/1 [==============================] - 1s 1s/step - loss: 37.5060 - mae: 38.0051 - lr: 1.0000e-08\n",
      "Epoch 2/2\n",
      "1/1 [==============================] - 1s 1s/step - loss: 37.5057 - mae: 38.0049 - lr: 1.1220e-08\n",
      "1/1 [==============================] - 0s 29ms/step\n"
     ]
    },
    {
     "name": "stderr",
     "output_type": "stream",
     "text": [
      "WARNING:absl:`lr` is deprecated, please use `learning_rate` instead, or use the legacy optimizer, e.g.,tf.keras.optimizers.legacy.SGD.\n"
     ]
    },
    {
     "name": "stdout",
     "output_type": "stream",
     "text": [
      "Epoch 1/2\n",
      "1/1 [==============================] - 0s 387ms/step - loss: 25.7357 - mae: 26.2357 - lr: 1.0000e-08\n",
      "Epoch 2/2\n",
      "1/1 [==============================] - 0s 446ms/step - loss: 25.7354 - mae: 26.2354 - lr: 1.1220e-08\n",
      "1/1 [==============================] - 0s 37ms/step\n"
     ]
    },
    {
     "name": "stderr",
     "output_type": "stream",
     "text": [
      "WARNING:absl:`lr` is deprecated, please use `learning_rate` instead, or use the legacy optimizer, e.g.,tf.keras.optimizers.legacy.SGD.\n"
     ]
    },
    {
     "name": "stdout",
     "output_type": "stream",
     "text": [
      "Epoch 1/2\n",
      "1/1 [==============================] - 1s 533ms/step - loss: 22.2562 - mae: 22.7507 - lr: 1.0000e-08\n",
      "Epoch 2/2\n",
      "1/1 [==============================] - 1s 538ms/step - loss: 22.2560 - mae: 22.7505 - lr: 1.1220e-08\n",
      "1/1 [==============================] - 0s 46ms/step\n"
     ]
    },
    {
     "name": "stderr",
     "output_type": "stream",
     "text": [
      "WARNING:absl:`lr` is deprecated, please use `learning_rate` instead, or use the legacy optimizer, e.g.,tf.keras.optimizers.legacy.SGD.\n"
     ]
    },
    {
     "name": "stdout",
     "output_type": "stream",
     "text": [
      "Epoch 1/2\n",
      "1/1 [==============================] - 1s 763ms/step - loss: 42.9317 - mae: 43.4304 - lr: 1.0000e-08\n",
      "Epoch 2/2\n",
      "1/1 [==============================] - 1s 730ms/step - loss: 42.9316 - mae: 43.4302 - lr: 1.1220e-08\n",
      "1/1 [==============================] - 0s 25ms/step\n"
     ]
    },
    {
     "name": "stderr",
     "output_type": "stream",
     "text": [
      "WARNING:absl:`lr` is deprecated, please use `learning_rate` instead, or use the legacy optimizer, e.g.,tf.keras.optimizers.legacy.SGD.\n"
     ]
    },
    {
     "name": "stdout",
     "output_type": "stream",
     "text": [
      "Epoch 1/2\n",
      "1/1 [==============================] - 1s 1s/step - loss: 33.8127 - mae: 34.3059 - lr: 1.0000e-08\n",
      "Epoch 2/2\n",
      "1/1 [==============================] - 1s 1s/step - loss: 33.8125 - mae: 34.3057 - lr: 1.1220e-08\n",
      "1/1 [==============================] - 0s 91ms/step\n"
     ]
    },
    {
     "name": "stderr",
     "output_type": "stream",
     "text": [
      "WARNING:absl:`lr` is deprecated, please use `learning_rate` instead, or use the legacy optimizer, e.g.,tf.keras.optimizers.legacy.SGD.\n"
     ]
    },
    {
     "name": "stdout",
     "output_type": "stream",
     "text": [
      "Epoch 1/2\n",
      "1/1 [==============================] - 1s 1s/step - loss: 29.4657 - mae: 29.9647 - lr: 1.0000e-08\n",
      "Epoch 2/2\n",
      "1/1 [==============================] - 1s 1s/step - loss: 29.4655 - mae: 29.9645 - lr: 1.1220e-08\n",
      "1/1 [==============================] - 0s 30ms/step\n"
     ]
    },
    {
     "name": "stderr",
     "output_type": "stream",
     "text": [
      "WARNING:absl:`lr` is deprecated, please use `learning_rate` instead, or use the legacy optimizer, e.g.,tf.keras.optimizers.legacy.SGD.\n"
     ]
    },
    {
     "name": "stdout",
     "output_type": "stream",
     "text": [
      "Epoch 1/2\n",
      "1/1 [==============================] - 0s 386ms/step - loss: 61.7277 - mae: 62.2272 - lr: 1.0000e-08\n",
      "Epoch 2/2\n",
      "1/1 [==============================] - 0s 460ms/step - loss: 61.7271 - mae: 62.2266 - lr: 1.1220e-08\n",
      "1/1 [==============================] - 0s 34ms/step\n"
     ]
    },
    {
     "name": "stderr",
     "output_type": "stream",
     "text": [
      "WARNING:absl:`lr` is deprecated, please use `learning_rate` instead, or use the legacy optimizer, e.g.,tf.keras.optimizers.legacy.SGD.\n"
     ]
    },
    {
     "name": "stdout",
     "output_type": "stream",
     "text": [
      "Epoch 1/2\n",
      "1/1 [==============================] - 1s 642ms/step - loss: 21.7292 - mae: 22.2210 - lr: 1.0000e-08\n",
      "Epoch 2/2\n",
      "1/1 [==============================] - 1s 672ms/step - loss: 21.7290 - mae: 22.2209 - lr: 1.1220e-08\n",
      "1/1 [==============================] - 0s 30ms/step\n"
     ]
    },
    {
     "name": "stderr",
     "output_type": "stream",
     "text": [
      "WARNING:absl:`lr` is deprecated, please use `learning_rate` instead, or use the legacy optimizer, e.g.,tf.keras.optimizers.legacy.SGD.\n"
     ]
    },
    {
     "name": "stdout",
     "output_type": "stream",
     "text": [
      "Epoch 1/2\n",
      "1/1 [==============================] - 1s 672ms/step - loss: 30.7892 - mae: 31.2892 - lr: 1.0000e-08\n",
      "Epoch 2/2\n",
      "1/1 [==============================] - 1s 739ms/step - loss: 30.7890 - mae: 31.2890 - lr: 1.1220e-08\n",
      "1/1 [==============================] - 0s 42ms/step\n"
     ]
    },
    {
     "name": "stderr",
     "output_type": "stream",
     "text": [
      "WARNING:absl:`lr` is deprecated, please use `learning_rate` instead, or use the legacy optimizer, e.g.,tf.keras.optimizers.legacy.SGD.\n"
     ]
    },
    {
     "name": "stdout",
     "output_type": "stream",
     "text": [
      "Epoch 1/2\n",
      "1/1 [==============================] - 1s 962ms/step - loss: 45.9493 - mae: 46.4493 - lr: 1.0000e-08\n",
      "Epoch 2/2\n",
      "1/1 [==============================] - 1s 822ms/step - loss: 45.9490 - mae: 46.4490 - lr: 1.1220e-08\n",
      "1/1 [==============================] - 0s 31ms/step\n"
     ]
    },
    {
     "name": "stderr",
     "output_type": "stream",
     "text": [
      "WARNING:absl:`lr` is deprecated, please use `learning_rate` instead, or use the legacy optimizer, e.g.,tf.keras.optimizers.legacy.SGD.\n"
     ]
    },
    {
     "name": "stdout",
     "output_type": "stream",
     "text": [
      "Epoch 1/2\n",
      "1/1 [==============================] - 1s 1s/step - loss: 14.8538 - mae: 15.3406 - lr: 1.0000e-08\n",
      "Epoch 2/2\n",
      "1/1 [==============================] - 1s 1s/step - loss: 14.8537 - mae: 15.3405 - lr: 1.1220e-08\n",
      "1/1 [==============================] - 0s 28ms/step\n"
     ]
    }
   ],
   "source": [
    "gaussian_generalization_error_list = [eval_const_rounds(stepped_query_num, mechanism = Mechanism(Mechanism.MechanismType.GAUSSIAN, sigma = 0.03))[2] for _ in range(100)]"
   ]
  },
  {
   "cell_type": "code",
   "execution_count": 100,
   "metadata": {},
   "outputs": [
    {
     "name": "stdout",
     "output_type": "stream",
     "text": [
      "[11.00834]\n"
     ]
    }
   ],
   "source": [
    "print(np.mean(gaussian_generalization_error_list, axis = 0))"
   ]
  },
  {
   "cell_type": "code",
   "execution_count": 86,
   "metadata": {},
   "outputs": [
    {
     "name": "stderr",
     "output_type": "stream",
     "text": [
      "WARNING:absl:`lr` is deprecated, please use `learning_rate` instead, or use the legacy optimizer, e.g.,tf.keras.optimizers.legacy.SGD.\n"
     ]
    },
    {
     "name": "stdout",
     "output_type": "stream",
     "text": [
      "Epoch 1/2\n",
      "1/1 [==============================] - 4s 4s/step - loss: 13.1036 - mae: 13.6031 - lr: 1.0000e-08\n",
      "Epoch 2/2\n",
      "1/1 [==============================] - 4s 4s/step - loss: 13.1018 - mae: 13.6013 - lr: 1.1220e-08\n",
      "1/1 [==============================] - 2s 2s/step\n"
     ]
    }
   ],
   "source": [
    "''' Compile and fit the gaussian model'''\n",
    "gaussian_history_list, gaussian_predict_list, gaussian_generalization_error_list = eval_const_rounds(stepped_query_num, mechanism = Mechanism(Mechanism.MechanismType.GAUSSIAN, sigma = 0.03))"
   ]
  },
  {
   "cell_type": "code",
   "execution_count": 98,
   "metadata": {},
   "outputs": [
    {
     "name": "stdout",
     "output_type": "stream",
     "text": [
      "[[17.087473], [24.96883], [9.488181], [3.6728349], [15.929171], [29.725958], [4.1225915], [4.452208], [4.0646253], [12.599819], [10.871292], [6.1323094], [14.285969], [7.289968], [3.6529484], [6.2008886], [13.612192], [4.364443], [9.633908], [11.446422], [3.2145362], [11.753226], [10.50949], [6.9160337], [10.524138], [21.344978], [10.21301], [2.707585], [6.8157225], [6.893182], [16.439095], [8.153187], [7.1377606], [4.5811906], [18.894405], [11.908693], [18.596394], [15.135308], [4.631251], [14.666032], [14.975883], [20.612736], [7.6491613], [17.403416], [22.568861], [9.086757], [15.775564], [4.1009774], [10.213425], [5.671192], [16.830591], [19.125885], [5.210912], [3.4540749], [13.713624], [6.91902], [19.624445], [6.451054], [11.553105], [17.369604], [17.658655], [7.941073], [3.7584302], [9.907522], [9.760618], [4.9454274], [10.528169], [4.856306], [10.611782], [9.454437], [8.205906], [4.4913845], [4.628914], [9.275808], [8.715808], [15.782827], [17.650242], [15.39209], [4.234276], [11.626589], [11.373908], [18.078463], [9.278695], [15.710501], [15.897551], [23.037035], [11.676455], [2.9286165], [12.112056], [5.920428], [5.3182936], [14.871052], [10.575173], [26.939829], [2.4131238], [3.5784528], [8.356064], [5.309808], [6.30795], [28.776587]]\n"
     ]
    },
    {
     "data": {
      "text/plain": [
       "'\\n[6.6889744]\\n\\n'"
      ]
     },
     "execution_count": 98,
     "metadata": {},
     "output_type": "execute_result"
    }
   ],
   "source": [
    "print(gaussian_generalization_error_list)\n",
    "\"\"\"\n",
    "[6.6889744]\n",
    "\n",
    "\"\"\""
   ]
  },
  {
   "cell_type": "code",
   "execution_count": 88,
   "metadata": {},
   "outputs": [
    {
     "name": "stderr",
     "output_type": "stream",
     "text": [
      "WARNING:absl:`lr` is deprecated, please use `learning_rate` instead, or use the legacy optimizer, e.g.,tf.keras.optimizers.legacy.SGD.\n"
     ]
    },
    {
     "name": "stdout",
     "output_type": "stream",
     "text": [
      "Epoch 1/2\n",
      "1/1 [==============================] - 4s 4s/step - loss: 8.1451 - mae: 8.6350 - lr: 1.0000e-08\n",
      "Epoch 2/2\n",
      "1/1 [==============================] - 4s 4s/step - loss: 8.1438 - mae: 8.6337 - lr: 1.1220e-08\n",
      "1/1 [==============================] - 2s 2s/step\n",
      "[10.2933655]\n"
     ]
    },
    {
     "data": {
      "text/plain": [
       "'\\n[3.270109] \\n'"
      ]
     },
     "execution_count": 88,
     "metadata": {},
     "output_type": "execute_result"
    }
   ],
   "source": [
    "\n",
    "''' Compile and fit the threshold out model'''\n",
    "threshold_history_list, threshold_predict_list, threshold_generalization_error_list = eval_const_rounds(stepped_train_size = stepped_query_num, mechanism = Mechanism(Mechanism.MechanismType.THRESHOLD, sigma = 0.1, hold_frac = 0.4, threshold = 0.5))\n",
    "print(threshold_generalization_error_list)\n",
    "\"\"\"\n",
    "[3.270109] \n",
    "\"\"\"\n"
   ]
  },
  {
   "cell_type": "code",
   "execution_count": null,
   "metadata": {},
   "outputs": [],
   "source": [
    "\n",
    "\"\"\" plot the generalization error \"\"\"\n",
    "plt.figure()\n",
    "plot_error(stepped_query_num, baseline_generalization_error_list, \"Baseline\")\n",
    "plot_error(stepped_query_num, gaussian_generalization_error_list, \"Gaussian\")\n",
    "plot_error(stepped_query_num, threshold_generalization_error_list, \"Threshold - AdaptFun\")\n",
    "plt.show()"
   ]
  },
  {
   "cell_type": "code",
   "execution_count": 74,
   "metadata": {},
   "outputs": [],
   "source": [
    "max_query_num = 10\n",
    "max_rounds = 20\n",
    "stepped_rounds = range(math.floor(max_rounds/2), max_rounds, 10)"
   ]
  },
  {
   "cell_type": "code",
   "execution_count": 75,
   "metadata": {},
   "outputs": [
    {
     "name": "stderr",
     "output_type": "stream",
     "text": [
      "WARNING:absl:`lr` is deprecated, please use `learning_rate` instead, or use the legacy optimizer, e.g.,tf.keras.optimizers.legacy.SGD.\n"
     ]
    },
    {
     "name": "stdout",
     "output_type": "stream",
     "text": [
      "Epoch 1/10\n",
      "1/1 [==============================] - 5s 5s/step - loss: 7.5778 - mae: 8.0772 - lr: 1.0000e-08\n",
      "Epoch 2/10\n",
      "1/1 [==============================] - 4s 4s/step - loss: 7.5762 - mae: 8.0756 - lr: 1.1220e-08\n",
      "Epoch 3/10\n",
      "1/1 [==============================] - 4s 4s/step - loss: 7.5730 - mae: 8.0724 - lr: 1.2589e-08\n",
      "Epoch 4/10\n",
      "1/1 [==============================] - 4s 4s/step - loss: 7.5680 - mae: 8.0674 - lr: 1.4125e-08\n",
      "Epoch 5/10\n",
      "1/1 [==============================] - 4s 4s/step - loss: 7.5613 - mae: 8.0607 - lr: 1.5849e-08\n",
      "Epoch 6/10\n",
      "1/1 [==============================] - 4s 4s/step - loss: 7.5527 - mae: 8.0521 - lr: 1.7783e-08\n",
      "Epoch 7/10\n",
      "1/1 [==============================] - 4s 4s/step - loss: 7.5422 - mae: 8.0415 - lr: 1.9953e-08\n",
      "Epoch 8/10\n",
      "1/1 [==============================] - 4s 4s/step - loss: 7.5294 - mae: 8.0288 - lr: 2.2387e-08\n",
      "Epoch 9/10\n",
      "1/1 [==============================] - 4s 4s/step - loss: 7.5144 - mae: 8.0138 - lr: 2.5119e-08\n",
      "Epoch 10/10\n",
      "1/1 [==============================] - 4s 4s/step - loss: 7.4968 - mae: 7.9962 - lr: 2.8184e-08\n",
      "32/32 [==============================] - 60s 2s/step\n",
      "[8.380077]\n"
     ]
    }
   ],
   "source": [
    "''' eval the empirical model as baseline'''\n",
    "baselin_history_list, baseline_predict_list, baseline_generalization_error_list = eval_multiple_rounds(max_query_num, stepped_rounds)\n",
    "print(baseline_generalization_error_list)"
   ]
  },
  {
   "cell_type": "code",
   "execution_count": 79,
   "metadata": {},
   "outputs": [
    {
     "name": "stderr",
     "output_type": "stream",
     "text": [
      "WARNING:absl:`lr` is deprecated, please use `learning_rate` instead, or use the legacy optimizer, e.g.,tf.keras.optimizers.legacy.SGD.\n"
     ]
    },
    {
     "name": "stdout",
     "output_type": "stream",
     "text": [
      "Epoch 1/10\n",
      "1/1 [==============================] - 4s 4s/step - loss: 10.4830 - mae: 10.9826 - lr: 1.0000e-08\n",
      "Epoch 2/10\n",
      "ERROR:tensorflow:==================================\n",
      "Object was never used (type <class 'tensorflow.python.ops.tensor_array_ops.TensorArray'>):\n",
      "<tensorflow.python.ops.tensor_array_ops.TensorArray object at 0x16d5d3c70>\n",
      "If you want to mark it as used call its \"mark_used()\" method.\n",
      "It was originally created here:\n",
      "  File \"/usr/local/lib/python3.10/site-packages/keras/backend.py\", line 5132, in <genexpr>\n",
      "    output_ta_t = tuple(  File \"/usr/local/lib/python3.10/site-packages/tensorflow/python/util/tf_should_use.py\", line 243, in wrapped\n",
      "    return _add_should_use_warning(fn(*args, **kwargs),\n",
      "==================================\n"
     ]
    },
    {
     "name": "stderr",
     "output_type": "stream",
     "text": [
      "ERROR:tensorflow:==================================\n",
      "Object was never used (type <class 'tensorflow.python.ops.tensor_array_ops.TensorArray'>):\n",
      "<tensorflow.python.ops.tensor_array_ops.TensorArray object at 0x16d5d3c70>\n",
      "If you want to mark it as used call its \"mark_used()\" method.\n",
      "It was originally created here:\n",
      "  File \"/usr/local/lib/python3.10/site-packages/keras/backend.py\", line 5132, in <genexpr>\n",
      "    output_ta_t = tuple(  File \"/usr/local/lib/python3.10/site-packages/tensorflow/python/util/tf_should_use.py\", line 243, in wrapped\n",
      "    return _add_should_use_warning(fn(*args, **kwargs),\n",
      "==================================\n"
     ]
    },
    {
     "name": "stdout",
     "output_type": "stream",
     "text": [
      "1/1 [==============================] - 4s 4s/step - loss: 10.4815 - mae: 10.9812 - lr: 1.1220e-08\n",
      "Epoch 3/10\n",
      "1/1 [==============================] - 4s 4s/step - loss: 10.4785 - mae: 10.9782 - lr: 1.2589e-08\n",
      "Epoch 4/10\n",
      "1/1 [==============================] - 4s 4s/step - loss: 10.4740 - mae: 10.9736 - lr: 1.4125e-08\n",
      "Epoch 5/10\n",
      "1/1 [==============================] - 4s 4s/step - loss: 10.4678 - mae: 10.9675 - lr: 1.5849e-08\n",
      "Epoch 6/10\n",
      "1/1 [==============================] - 4s 4s/step - loss: 10.4600 - mae: 10.9596 - lr: 1.7783e-08\n",
      "Epoch 7/10\n",
      "1/1 [==============================] - 5s 5s/step - loss: 10.4502 - mae: 10.9499 - lr: 1.9953e-08\n",
      "Epoch 8/10\n",
      "1/1 [==============================] - 4s 4s/step - loss: 10.4386 - mae: 10.9382 - lr: 2.2387e-08\n",
      "Epoch 9/10\n",
      "1/1 [==============================] - 4s 4s/step - loss: 10.4247 - mae: 10.9244 - lr: 2.5119e-08\n",
      "Epoch 10/10\n",
      "1/1 [==============================] - 5s 5s/step - loss: 10.4086 - mae: 10.9083 - lr: 2.8184e-08\n",
      "1/1 [==============================] - 2s 2s/step\n"
     ]
    }
   ],
   "source": [
    "''' Compile and fit the gaussian model'''\n",
    "gaussian_history_list, gaussian_predict_list, gaussian_generalization_error_list = eval_multiple_rounds(max_query_num, stepped_rounds, mechanism = Mechanism(Mechanism.MechanismType.GAUSSIAN, sigma = 0.03))"
   ]
  },
  {
   "cell_type": "code",
   "execution_count": 81,
   "metadata": {},
   "outputs": [
    {
     "name": "stdout",
     "output_type": "stream",
     "text": [
      "[11.296159]\n"
     ]
    }
   ],
   "source": [
    "print(gaussian_generalization_error_list)"
   ]
  },
  {
   "cell_type": "code",
   "execution_count": null,
   "metadata": {},
   "outputs": [],
   "source": [
    "\n",
    "''' Compile and fit the threshold out model'''\n",
    "threshold_history_list, threshold_predict_list, threshold_generalization_error_list = eval_multiple_rounds(max_query_num, stepped_rounds, mechanism = Mechanism(Mechanism.MechanismType.THRESHOLD, sigma = 0.1, hold_frac = 0.4, threshold = 0.5))\n",
    "print(threshold_generalization_error_list)"
   ]
  },
  {
   "cell_type": "code",
   "execution_count": null,
   "metadata": {},
   "outputs": [],
   "source": [
    "\n",
    "\n",
    "\n",
    "# threshold_generalization_error_list = [15.81994, 19.699022, 23.081583, 25.196918, 26.020424]\n",
    "\n",
    "\"\"\" plot the generalization error \"\"\"\n",
    "plt.figure()\n",
    "plot_error(stepped_query_num, baseline_generalization_error_list, \"Baseline\")\n",
    "plot_error(stepped_query_num, gaussian_generalization_error_list, \"Gaussian\")\n",
    "plot_error(stepped_query_num, threshold_generalization_error_list, \"Threshold - AdaptFun\")\n",
    "plt.show()"
   ]
  }
 ],
 "metadata": {
  "kernelspec": {
   "display_name": "Python 3",
   "language": "python",
   "name": "python3"
  },
  "language_info": {
   "codemirror_mode": {
    "name": "ipython",
    "version": 3
   },
   "file_extension": ".py",
   "mimetype": "text/x-python",
   "name": "python",
   "nbconvert_exporter": "python",
   "pygments_lexer": "ipython3",
   "version": "3.10.6"
  },
  "orig_nbformat": 4
 },
 "nbformat": 4,
 "nbformat_minor": 2
}
