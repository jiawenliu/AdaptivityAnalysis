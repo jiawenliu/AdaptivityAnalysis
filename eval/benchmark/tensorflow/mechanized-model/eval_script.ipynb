{
 "cells": [
  {
   "cell_type": "code",
   "execution_count": 5,
   "metadata": {},
   "outputs": [
    {
     "name": "stderr",
     "output_type": "stream",
     "text": [
      "2023-03-14 12:40:44.609475: I tensorflow/core/platform/cpu_feature_guard.cc:193] This TensorFlow binary is optimized with oneAPI Deep Neural Network Library (oneDNN) to use the following CPU instructions in performance-critical operations:  AVX2 FMA\n",
      "To enable them in other operations, rebuild TensorFlow with the appropriate compiler flags.\n"
     ]
    }
   ],
   "source": [
    "import numpy as np\n",
    "import matplotlib.pyplot as plt\n",
    "import tensorflow as tf\n",
    "import math\n",
    "keras = tf.keras\n"
   ]
  },
  {
   "cell_type": "code",
   "execution_count": 21,
   "metadata": {},
   "outputs": [],
   "source": [
    "test = tf.data.Dataset.from_tensor_slices([1, 2, 3])"
   ]
  },
  {
   "cell_type": "code",
   "execution_count": null,
   "metadata": {},
   "outputs": [],
   "source": []
  },
  {
   "cell_type": "code",
   "execution_count": 6,
   "metadata": {},
   "outputs": [],
   "source": [
    "\n",
    "\n",
    "import sys\n",
    "sys.path.append(\"..\")\n",
    "\n",
    "from mechanism.mechanized_sequential import MechanizedSequential\n",
    "from mechanism.mechanized_sequential import Mechanism\n",
    "\n"
   ]
  },
  {
   "cell_type": "code",
   "execution_count": 40,
   "metadata": {},
   "outputs": [],
   "source": [
    "Q_MEAN = 0.5\n",
    "EPOCH = 5\n",
    "POPULATION_SIZE = 10000\n",
    "TRAIN_DIM = 1000\n",
    "BATCH_SIZE = 5"
   ]
  },
  {
   "cell_type": "code",
   "execution_count": 41,
   "metadata": {},
   "outputs": [],
   "source": [
    "\n",
    "\n",
    "\n",
    "def initialize_with_str_seed(init_str):\n",
    "    \"\"\"\n",
    "    Initializes random number generator with seed corresponding to given input string init_str.\n",
    "    :param init_str: Initialization string according to which seed will be computed. Seed is the sum of the ASCII\n",
    "                     values of each character in init_str.\n",
    "    \"\"\"\n",
    "    rnd_val = 0\n",
    "    if init_str:\n",
    "        for c in init_str:\n",
    "            rnd_val += ord(c)\n",
    "    np.random.seed(rnd_val)\n",
    "\n",
    "def gen_data(n, d, seed = None):\n",
    "    if seed:\n",
    "        initialize_with_str_seed(seed)\n",
    "    p = (1.0 + np.sqrt(max(2 * Q_MEAN - 1, 1 - 2 * Q_MEAN))) / 2 \n",
    "    data = np.random.choice([-1, 1], (n, d), p=[1 -p, p])\n",
    "    data_y = np.random.choice([0, 1], n, p=[1 -p, p])\n",
    "    return data, data_y\n",
    "\n",
    "def gen_valid(n, d, seed = None):\n",
    "    if seed:\n",
    "        initialize_with_str_seed(seed)\n",
    "    \n",
    "    n = int(n/10)\n",
    "    \n",
    "    p = (1.0 + np.sqrt(max(2 * Q_MEAN - 1, 1 - 2 * Q_MEAN))) / 2 \n",
    "    data = np.random.choice([-1, 1], (n, d), p=[1 -p, p])\n",
    "    data_y = np.random.choice([0, 1], n, p=[1 -p, p])\n",
    "    return data, data_y\n",
    "\n"
   ]
  },
  {
   "cell_type": "code",
   "execution_count": 31,
   "metadata": {},
   "outputs": [],
   "source": [
    "import math\n",
    "\n",
    "x_train, y_train = gen_data(POPULATION_SIZE, TRAIN_DIM)\n",
    "x_valid, y_valid = gen_valid(POPULATION_SIZE, TRAIN_DIM)\n"
   ]
  },
  {
   "cell_type": "code",
   "execution_count": 42,
   "metadata": {},
   "outputs": [],
   "source": [
    "\n",
    "def compile_and_fit_model(model, train_set, eager = False):\n",
    "    keras.backend.clear_session()\n",
    "    tf.random.set_seed(42)\n",
    "    np.random.seed(42)\n",
    "    \n",
    "    lr_schedule = keras.callbacks.LearningRateScheduler(\n",
    "        lambda epoch: 1e-8 * 10**(epoch / 20))\n",
    "    optimizer = keras.optimizers.SGD(lr=1e-8, momentum=0.9)\n",
    "    model.compile(loss=keras.losses.Huber(),\n",
    "                optimizer=optimizer,\n",
    "                metrics=[\"mae\"],\n",
    "                run_eagerly = eager)\n",
    "\n",
    "    history = model.fit(train_set, epochs = EPOCH, callbacks=[lr_schedule])\n",
    "    return history\n",
    "\n",
    "def eval_model(train_size, mechanism = None, sigma = 0.1, hold_frac = 0.4, threshold = 0.5):\n",
    "    ''' Compile and fit the empirical model as baseline'''\n",
    "    model = MechanizedSequential([\n",
    "        keras.layers.Conv1D(filters = 32,\n",
    "                            kernel_size = 5,\n",
    "                            strides = 1, \n",
    "                            padding = \"causal\",\n",
    "                            activation = \"relu\",\n",
    "                            input_shape = [None, 1]),\n",
    "        keras.layers.LSTM(32, return_sequences = True),\n",
    "        keras.layers.LSTM(32, return_sequences=True),\n",
    "        keras.layers.Dense(1),\n",
    "        keras.layers.Lambda(lambda x: x * 200)\n",
    "    ])    \n",
    "    # batch_size = math.floor(POPULATION_SIZE/step)\n",
    "    train_set = tf.data.Dataset.from_tensor_slices((x_train[:train_size], y_train[:train_size])).batch(BATCH_SIZE)\n",
    "\n",
    "\n",
    "    if mechanism:\n",
    "        model.choose_mech(mechanism)\n",
    "        model.set_mechanism_para(sigma = sigma, hold_frac = hold_frac, threshold = threshold)\n",
    "        history = compile_and_fit_model(model, train_set, True)\n",
    "    else:\n",
    "        history = compile_and_fit_model(model, train_set, False)\n",
    "\n",
    "\n",
    "    ''' Validate the result'''\n",
    "    # x_valid, y_valid = gen_valid(POPULATION_SIZE, TRAIN_DIM)\n",
    "    model.choose_mech(None)\n",
    "    predict = model.predict(x_valid)\n",
    "    \n",
    "    error = generalization_error(y_valid, predict)\n",
    "    return history, predict, error\n",
    "\n",
    "\n",
    "def generalization_error(true_val, predict_val):\n",
    "    error = keras.metrics.RootMeanSquaredError()\n",
    "    error.update_state(true_val, predict_val)\n",
    "    return error.result().numpy()\n",
    "\n",
    "\n",
    "def eval_multiple_rounds(rounds, mechanism = None, sigma = 0.1, hold_frac = 0.4, threshold = 0.5):\n",
    "    history_list, predict_list, generalization_error_list = [], [], []\n",
    "    for r in rounds:\n",
    "        history, predict, error = eval_model(train_size = r, mechanism = mechanism, sigma = sigma, hold_frac = hold_frac, threshold = threshold)\n",
    "        history_list.append(history)\n",
    "        predict_list.append(predict)\n",
    "        generalization_error_list.append(error) \n",
    "\n",
    "    return history_list, predict_list, generalization_error_list\n",
    "\n",
    "\n"
   ]
  },
  {
   "attachments": {},
   "cell_type": "markdown",
   "metadata": {},
   "source": [
    "# Evaluate the Model"
   ]
  },
  {
   "cell_type": "code",
   "execution_count": 44,
   "metadata": {},
   "outputs": [
    {
     "data": {
      "text/plain": [
       "' eval the empirical model as baseline'"
      ]
     },
     "execution_count": 44,
     "metadata": {},
     "output_type": "execute_result"
    }
   ],
   "source": [
    "\n",
    "\n",
    "'''\n",
    "Plot the Comparison of the Three Model\n",
    "'''\n",
    "def plot_error(rounds, generalization_error, mechanism):\n",
    "    plt.plot(rounds, generalization_error, label = mechanism)\n",
    "    plt.xlabel(\"Queries\")\n",
    "    plt.ylabel(\"RMSE (Generalization Error) for adaptive queries\")\n",
    "    plt.legend()\n",
    "    plt.grid()\n",
    "\n",
    "max_rounds = 100\n",
    "\n",
    "stepped_rounds = range(math.floor(max_rounds/2), max_rounds, 10)\n",
    "\n",
    "''' eval the empirical model as baseline'''\n",
    "\n",
    "\n",
    "\n"
   ]
  },
  {
   "cell_type": "code",
   "execution_count": 45,
   "metadata": {},
   "outputs": [
    {
     "name": "stderr",
     "output_type": "stream",
     "text": [
      "WARNING:absl:`lr` is deprecated, please use `learning_rate` instead, or use the legacy optimizer, e.g.,tf.keras.optimizers.legacy.SGD.\n"
     ]
    },
    {
     "name": "stdout",
     "output_type": "stream",
     "text": [
      "Epoch 1/5\n",
      "10/10 [==============================] - 7s 376ms/step - loss: 15.5776 - mae: 16.0773 - lr: 1.0000e-08\n",
      "Epoch 2/5\n",
      "10/10 [==============================] - 4s 379ms/step - loss: 15.4346 - mae: 15.9343 - lr: 1.1220e-08\n",
      "Epoch 3/5\n",
      "10/10 [==============================] - 4s 381ms/step - loss: 15.2183 - mae: 15.7180 - lr: 1.2589e-08\n",
      "Epoch 4/5\n",
      "10/10 [==============================] - 4s 383ms/step - loss: 14.9561 - mae: 15.4558 - lr: 1.4125e-08\n",
      "Epoch 5/5\n",
      "10/10 [==============================] - 4s 412ms/step - loss: 14.6554 - mae: 15.1551 - lr: 1.5849e-08\n",
      "32/32 [==============================] - 4s 102ms/step\n"
     ]
    },
    {
     "name": "stderr",
     "output_type": "stream",
     "text": [
      "WARNING:absl:`lr` is deprecated, please use `learning_rate` instead, or use the legacy optimizer, e.g.,tf.keras.optimizers.legacy.SGD.\n"
     ]
    },
    {
     "name": "stdout",
     "output_type": "stream",
     "text": [
      "Epoch 1/5\n",
      "11/11 [==============================] - 9s 491ms/step - loss: 5.7584 - mae: 6.2421 - lr: 1.0000e-08\n",
      "Epoch 2/5\n",
      "11/11 [==============================] - 5s 442ms/step - loss: 5.7324 - mae: 6.2160 - lr: 1.1220e-08\n",
      "Epoch 3/5\n",
      "11/11 [==============================] - 5s 429ms/step - loss: 5.6945 - mae: 6.1780 - lr: 1.2589e-08\n",
      "Epoch 4/5\n",
      "11/11 [==============================] - 5s 437ms/step - loss: 5.6506 - mae: 6.1338 - lr: 1.4125e-08\n",
      "Epoch 5/5\n",
      "11/11 [==============================] - 5s 411ms/step - loss: 5.6027 - mae: 6.0857 - lr: 1.5849e-08\n",
      "32/32 [==============================] - 4s 110ms/step\n"
     ]
    },
    {
     "name": "stderr",
     "output_type": "stream",
     "text": [
      "WARNING:absl:`lr` is deprecated, please use `learning_rate` instead, or use the legacy optimizer, e.g.,tf.keras.optimizers.legacy.SGD.\n"
     ]
    },
    {
     "name": "stdout",
     "output_type": "stream",
     "text": [
      "Epoch 1/5\n",
      "11/11 [==============================] - 8s 451ms/step - loss: 6.4464 - mae: 6.9342 - lr: 1.0000e-08\n",
      "Epoch 2/5\n",
      "11/11 [==============================] - 5s 468ms/step - loss: 6.3494 - mae: 6.8368 - lr: 1.1220e-08\n",
      "Epoch 3/5\n",
      "11/11 [==============================] - 5s 404ms/step - loss: 6.2083 - mae: 6.6951 - lr: 1.2589e-08\n",
      "Epoch 4/5\n",
      "11/11 [==============================] - 8s 783ms/step - loss: 6.0444 - mae: 6.5305 - lr: 1.4125e-08\n",
      "Epoch 5/5\n",
      "11/11 [==============================] - 6s 533ms/step - loss: 5.8648 - mae: 6.3499 - lr: 1.5849e-08\n",
      "32/32 [==============================] - 5s 141ms/step\n"
     ]
    },
    {
     "name": "stderr",
     "output_type": "stream",
     "text": [
      "WARNING:absl:`lr` is deprecated, please use `learning_rate` instead, or use the legacy optimizer, e.g.,tf.keras.optimizers.legacy.SGD.\n"
     ]
    },
    {
     "name": "stdout",
     "output_type": "stream",
     "text": [
      "Epoch 1/5\n",
      "12/12 [==============================] - 9s 461ms/step - loss: 10.3493 - mae: 10.8492 - lr: 1.0000e-08\n",
      "Epoch 2/5\n",
      " 7/12 [================>.............] - ETA: 2s - loss: 10.3297 - mae: 10.8295"
     ]
    },
    {
     "ename": "KeyboardInterrupt",
     "evalue": "",
     "output_type": "error",
     "traceback": [
      "\u001b[0;31m---------------------------------------------------------------------------\u001b[0m",
      "\u001b[0;31mKeyboardInterrupt\u001b[0m                         Traceback (most recent call last)",
      "Cell \u001b[0;32mIn[45], line 1\u001b[0m\n\u001b[0;32m----> 1\u001b[0m baselin_history_list, baseline_predict_list, baseline_generalization_error_list \u001b[39m=\u001b[39m eval_multiple_rounds(stepped_rounds)\n\u001b[1;32m      2\u001b[0m \u001b[39mprint\u001b[39m(baseline_generalization_error_list)\n",
      "Cell \u001b[0;32mIn[42], line 61\u001b[0m, in \u001b[0;36meval_multiple_rounds\u001b[0;34m(rounds, mechanism, sigma, hold_frac, threshold)\u001b[0m\n\u001b[1;32m     59\u001b[0m history_list, predict_list, generalization_error_list \u001b[39m=\u001b[39m [], [], []\n\u001b[1;32m     60\u001b[0m \u001b[39mfor\u001b[39;00m r \u001b[39min\u001b[39;00m rounds:\n\u001b[0;32m---> 61\u001b[0m     history, predict, error \u001b[39m=\u001b[39m eval_model(train_size \u001b[39m=\u001b[39;49m r, mechanism \u001b[39m=\u001b[39;49m mechanism, sigma \u001b[39m=\u001b[39;49m sigma, hold_frac \u001b[39m=\u001b[39;49m hold_frac, threshold \u001b[39m=\u001b[39;49m threshold)\n\u001b[1;32m     62\u001b[0m     history_list\u001b[39m.\u001b[39mappend(history)\n\u001b[1;32m     63\u001b[0m     predict_list\u001b[39m.\u001b[39mappend(predict)\n",
      "Cell \u001b[0;32mIn[42], line 40\u001b[0m, in \u001b[0;36meval_model\u001b[0;34m(train_size, mechanism, sigma, hold_frac, threshold)\u001b[0m\n\u001b[1;32m     38\u001b[0m     history \u001b[39m=\u001b[39m compile_and_fit_model(model, train_set, \u001b[39mTrue\u001b[39;00m)\n\u001b[1;32m     39\u001b[0m \u001b[39melse\u001b[39;00m:\n\u001b[0;32m---> 40\u001b[0m     history \u001b[39m=\u001b[39m compile_and_fit_model(model, train_set, \u001b[39mFalse\u001b[39;49;00m)\n\u001b[1;32m     43\u001b[0m \u001b[39m\u001b[39m\u001b[39m''' Validate the result'''\u001b[39;00m\n\u001b[1;32m     44\u001b[0m \u001b[39m# x_valid, y_valid = gen_valid(POPULATION_SIZE, TRAIN_DIM)\u001b[39;00m\n",
      "Cell \u001b[0;32mIn[42], line 14\u001b[0m, in \u001b[0;36mcompile_and_fit_model\u001b[0;34m(model, train_set, eager)\u001b[0m\n\u001b[1;32m      8\u001b[0m optimizer \u001b[39m=\u001b[39m keras\u001b[39m.\u001b[39moptimizers\u001b[39m.\u001b[39mSGD(lr\u001b[39m=\u001b[39m\u001b[39m1e-8\u001b[39m, momentum\u001b[39m=\u001b[39m\u001b[39m0.9\u001b[39m)\n\u001b[1;32m      9\u001b[0m model\u001b[39m.\u001b[39mcompile(loss\u001b[39m=\u001b[39mkeras\u001b[39m.\u001b[39mlosses\u001b[39m.\u001b[39mHuber(),\n\u001b[1;32m     10\u001b[0m             optimizer\u001b[39m=\u001b[39moptimizer,\n\u001b[1;32m     11\u001b[0m             metrics\u001b[39m=\u001b[39m[\u001b[39m\"\u001b[39m\u001b[39mmae\u001b[39m\u001b[39m\"\u001b[39m],\n\u001b[1;32m     12\u001b[0m             run_eagerly \u001b[39m=\u001b[39m eager)\n\u001b[0;32m---> 14\u001b[0m history \u001b[39m=\u001b[39m model\u001b[39m.\u001b[39;49mfit(train_set, epochs \u001b[39m=\u001b[39;49m EPOCH, callbacks\u001b[39m=\u001b[39;49m[lr_schedule])\n\u001b[1;32m     15\u001b[0m \u001b[39mreturn\u001b[39;00m history\n",
      "File \u001b[0;32m/usr/local/lib/python3.10/site-packages/keras/utils/traceback_utils.py:65\u001b[0m, in \u001b[0;36mfilter_traceback.<locals>.error_handler\u001b[0;34m(*args, **kwargs)\u001b[0m\n\u001b[1;32m     63\u001b[0m filtered_tb \u001b[39m=\u001b[39m \u001b[39mNone\u001b[39;00m\n\u001b[1;32m     64\u001b[0m \u001b[39mtry\u001b[39;00m:\n\u001b[0;32m---> 65\u001b[0m     \u001b[39mreturn\u001b[39;00m fn(\u001b[39m*\u001b[39;49margs, \u001b[39m*\u001b[39;49m\u001b[39m*\u001b[39;49mkwargs)\n\u001b[1;32m     66\u001b[0m \u001b[39mexcept\u001b[39;00m \u001b[39mException\u001b[39;00m \u001b[39mas\u001b[39;00m e:\n\u001b[1;32m     67\u001b[0m     filtered_tb \u001b[39m=\u001b[39m _process_traceback_frames(e\u001b[39m.\u001b[39m__traceback__)\n",
      "File \u001b[0;32m/usr/local/lib/python3.10/site-packages/keras/engine/training.py:1650\u001b[0m, in \u001b[0;36mModel.fit\u001b[0;34m(self, x, y, batch_size, epochs, verbose, callbacks, validation_split, validation_data, shuffle, class_weight, sample_weight, initial_epoch, steps_per_epoch, validation_steps, validation_batch_size, validation_freq, max_queue_size, workers, use_multiprocessing)\u001b[0m\n\u001b[1;32m   1642\u001b[0m \u001b[39mwith\u001b[39;00m tf\u001b[39m.\u001b[39mprofiler\u001b[39m.\u001b[39mexperimental\u001b[39m.\u001b[39mTrace(\n\u001b[1;32m   1643\u001b[0m     \u001b[39m\"\u001b[39m\u001b[39mtrain\u001b[39m\u001b[39m\"\u001b[39m,\n\u001b[1;32m   1644\u001b[0m     epoch_num\u001b[39m=\u001b[39mepoch,\n\u001b[0;32m   (...)\u001b[0m\n\u001b[1;32m   1647\u001b[0m     _r\u001b[39m=\u001b[39m\u001b[39m1\u001b[39m,\n\u001b[1;32m   1648\u001b[0m ):\n\u001b[1;32m   1649\u001b[0m     callbacks\u001b[39m.\u001b[39mon_train_batch_begin(step)\n\u001b[0;32m-> 1650\u001b[0m     tmp_logs \u001b[39m=\u001b[39m \u001b[39mself\u001b[39;49m\u001b[39m.\u001b[39;49mtrain_function(iterator)\n\u001b[1;32m   1651\u001b[0m     \u001b[39mif\u001b[39;00m data_handler\u001b[39m.\u001b[39mshould_sync:\n\u001b[1;32m   1652\u001b[0m         context\u001b[39m.\u001b[39masync_wait()\n",
      "File \u001b[0;32m/usr/local/lib/python3.10/site-packages/tensorflow/python/util/traceback_utils.py:150\u001b[0m, in \u001b[0;36mfilter_traceback.<locals>.error_handler\u001b[0;34m(*args, **kwargs)\u001b[0m\n\u001b[1;32m    148\u001b[0m filtered_tb \u001b[39m=\u001b[39m \u001b[39mNone\u001b[39;00m\n\u001b[1;32m    149\u001b[0m \u001b[39mtry\u001b[39;00m:\n\u001b[0;32m--> 150\u001b[0m   \u001b[39mreturn\u001b[39;00m fn(\u001b[39m*\u001b[39;49margs, \u001b[39m*\u001b[39;49m\u001b[39m*\u001b[39;49mkwargs)\n\u001b[1;32m    151\u001b[0m \u001b[39mexcept\u001b[39;00m \u001b[39mException\u001b[39;00m \u001b[39mas\u001b[39;00m e:\n\u001b[1;32m    152\u001b[0m   filtered_tb \u001b[39m=\u001b[39m _process_traceback_frames(e\u001b[39m.\u001b[39m__traceback__)\n",
      "File \u001b[0;32m/usr/local/lib/python3.10/site-packages/tensorflow/python/eager/polymorphic_function/polymorphic_function.py:880\u001b[0m, in \u001b[0;36mFunction.__call__\u001b[0;34m(self, *args, **kwds)\u001b[0m\n\u001b[1;32m    877\u001b[0m compiler \u001b[39m=\u001b[39m \u001b[39m\"\u001b[39m\u001b[39mxla\u001b[39m\u001b[39m\"\u001b[39m \u001b[39mif\u001b[39;00m \u001b[39mself\u001b[39m\u001b[39m.\u001b[39m_jit_compile \u001b[39melse\u001b[39;00m \u001b[39m\"\u001b[39m\u001b[39mnonXla\u001b[39m\u001b[39m\"\u001b[39m\n\u001b[1;32m    879\u001b[0m \u001b[39mwith\u001b[39;00m OptionalXlaContext(\u001b[39mself\u001b[39m\u001b[39m.\u001b[39m_jit_compile):\n\u001b[0;32m--> 880\u001b[0m   result \u001b[39m=\u001b[39m \u001b[39mself\u001b[39;49m\u001b[39m.\u001b[39;49m_call(\u001b[39m*\u001b[39;49margs, \u001b[39m*\u001b[39;49m\u001b[39m*\u001b[39;49mkwds)\n\u001b[1;32m    882\u001b[0m new_tracing_count \u001b[39m=\u001b[39m \u001b[39mself\u001b[39m\u001b[39m.\u001b[39mexperimental_get_tracing_count()\n\u001b[1;32m    883\u001b[0m without_tracing \u001b[39m=\u001b[39m (tracing_count \u001b[39m==\u001b[39m new_tracing_count)\n",
      "File \u001b[0;32m/usr/local/lib/python3.10/site-packages/tensorflow/python/eager/polymorphic_function/polymorphic_function.py:912\u001b[0m, in \u001b[0;36mFunction._call\u001b[0;34m(self, *args, **kwds)\u001b[0m\n\u001b[1;32m    909\u001b[0m   \u001b[39mself\u001b[39m\u001b[39m.\u001b[39m_lock\u001b[39m.\u001b[39mrelease()\n\u001b[1;32m    910\u001b[0m   \u001b[39m# In this case we have created variables on the first call, so we run the\u001b[39;00m\n\u001b[1;32m    911\u001b[0m   \u001b[39m# defunned version which is guaranteed to never create variables.\u001b[39;00m\n\u001b[0;32m--> 912\u001b[0m   \u001b[39mreturn\u001b[39;00m \u001b[39mself\u001b[39;49m\u001b[39m.\u001b[39;49m_no_variable_creation_fn(\u001b[39m*\u001b[39;49margs, \u001b[39m*\u001b[39;49m\u001b[39m*\u001b[39;49mkwds)  \u001b[39m# pylint: disable=not-callable\u001b[39;00m\n\u001b[1;32m    913\u001b[0m \u001b[39melif\u001b[39;00m \u001b[39mself\u001b[39m\u001b[39m.\u001b[39m_variable_creation_fn \u001b[39mis\u001b[39;00m \u001b[39mnot\u001b[39;00m \u001b[39mNone\u001b[39;00m:\n\u001b[1;32m    914\u001b[0m   \u001b[39m# Release the lock early so that multiple threads can perform the call\u001b[39;00m\n\u001b[1;32m    915\u001b[0m   \u001b[39m# in parallel.\u001b[39;00m\n\u001b[1;32m    916\u001b[0m   \u001b[39mself\u001b[39m\u001b[39m.\u001b[39m_lock\u001b[39m.\u001b[39mrelease()\n",
      "File \u001b[0;32m/usr/local/lib/python3.10/site-packages/tensorflow/python/eager/polymorphic_function/tracing_compiler.py:134\u001b[0m, in \u001b[0;36mTracingCompiler.__call__\u001b[0;34m(self, *args, **kwargs)\u001b[0m\n\u001b[1;32m    131\u001b[0m \u001b[39mwith\u001b[39;00m \u001b[39mself\u001b[39m\u001b[39m.\u001b[39m_lock:\n\u001b[1;32m    132\u001b[0m   (concrete_function,\n\u001b[1;32m    133\u001b[0m    filtered_flat_args) \u001b[39m=\u001b[39m \u001b[39mself\u001b[39m\u001b[39m.\u001b[39m_maybe_define_function(args, kwargs)\n\u001b[0;32m--> 134\u001b[0m \u001b[39mreturn\u001b[39;00m concrete_function\u001b[39m.\u001b[39;49m_call_flat(\n\u001b[1;32m    135\u001b[0m     filtered_flat_args, captured_inputs\u001b[39m=\u001b[39;49mconcrete_function\u001b[39m.\u001b[39;49mcaptured_inputs)\n",
      "File \u001b[0;32m/usr/local/lib/python3.10/site-packages/tensorflow/python/eager/polymorphic_function/monomorphic_function.py:1745\u001b[0m, in \u001b[0;36mConcreteFunction._call_flat\u001b[0;34m(self, args, captured_inputs, cancellation_manager)\u001b[0m\n\u001b[1;32m   1741\u001b[0m possible_gradient_type \u001b[39m=\u001b[39m gradients_util\u001b[39m.\u001b[39mPossibleTapeGradientTypes(args)\n\u001b[1;32m   1742\u001b[0m \u001b[39mif\u001b[39;00m (possible_gradient_type \u001b[39m==\u001b[39m gradients_util\u001b[39m.\u001b[39mPOSSIBLE_GRADIENT_TYPES_NONE\n\u001b[1;32m   1743\u001b[0m     \u001b[39mand\u001b[39;00m executing_eagerly):\n\u001b[1;32m   1744\u001b[0m   \u001b[39m# No tape is watching; skip to running the function.\u001b[39;00m\n\u001b[0;32m-> 1745\u001b[0m   \u001b[39mreturn\u001b[39;00m \u001b[39mself\u001b[39m\u001b[39m.\u001b[39m_build_call_outputs(\u001b[39mself\u001b[39;49m\u001b[39m.\u001b[39;49m_inference_function\u001b[39m.\u001b[39;49mcall(\n\u001b[1;32m   1746\u001b[0m       ctx, args, cancellation_manager\u001b[39m=\u001b[39;49mcancellation_manager))\n\u001b[1;32m   1747\u001b[0m forward_backward \u001b[39m=\u001b[39m \u001b[39mself\u001b[39m\u001b[39m.\u001b[39m_select_forward_and_backward_functions(\n\u001b[1;32m   1748\u001b[0m     args,\n\u001b[1;32m   1749\u001b[0m     possible_gradient_type,\n\u001b[1;32m   1750\u001b[0m     executing_eagerly)\n\u001b[1;32m   1751\u001b[0m forward_function, args_with_tangents \u001b[39m=\u001b[39m forward_backward\u001b[39m.\u001b[39mforward()\n",
      "File \u001b[0;32m/usr/local/lib/python3.10/site-packages/tensorflow/python/eager/polymorphic_function/monomorphic_function.py:378\u001b[0m, in \u001b[0;36m_EagerDefinedFunction.call\u001b[0;34m(self, ctx, args, cancellation_manager)\u001b[0m\n\u001b[1;32m    376\u001b[0m \u001b[39mwith\u001b[39;00m _InterpolateFunctionError(\u001b[39mself\u001b[39m):\n\u001b[1;32m    377\u001b[0m   \u001b[39mif\u001b[39;00m cancellation_manager \u001b[39mis\u001b[39;00m \u001b[39mNone\u001b[39;00m:\n\u001b[0;32m--> 378\u001b[0m     outputs \u001b[39m=\u001b[39m execute\u001b[39m.\u001b[39;49mexecute(\n\u001b[1;32m    379\u001b[0m         \u001b[39mstr\u001b[39;49m(\u001b[39mself\u001b[39;49m\u001b[39m.\u001b[39;49msignature\u001b[39m.\u001b[39;49mname),\n\u001b[1;32m    380\u001b[0m         num_outputs\u001b[39m=\u001b[39;49m\u001b[39mself\u001b[39;49m\u001b[39m.\u001b[39;49m_num_outputs,\n\u001b[1;32m    381\u001b[0m         inputs\u001b[39m=\u001b[39;49margs,\n\u001b[1;32m    382\u001b[0m         attrs\u001b[39m=\u001b[39;49mattrs,\n\u001b[1;32m    383\u001b[0m         ctx\u001b[39m=\u001b[39;49mctx)\n\u001b[1;32m    384\u001b[0m   \u001b[39melse\u001b[39;00m:\n\u001b[1;32m    385\u001b[0m     outputs \u001b[39m=\u001b[39m execute\u001b[39m.\u001b[39mexecute_with_cancellation(\n\u001b[1;32m    386\u001b[0m         \u001b[39mstr\u001b[39m(\u001b[39mself\u001b[39m\u001b[39m.\u001b[39msignature\u001b[39m.\u001b[39mname),\n\u001b[1;32m    387\u001b[0m         num_outputs\u001b[39m=\u001b[39m\u001b[39mself\u001b[39m\u001b[39m.\u001b[39m_num_outputs,\n\u001b[0;32m   (...)\u001b[0m\n\u001b[1;32m    390\u001b[0m         ctx\u001b[39m=\u001b[39mctx,\n\u001b[1;32m    391\u001b[0m         cancellation_manager\u001b[39m=\u001b[39mcancellation_manager)\n",
      "File \u001b[0;32m/usr/local/lib/python3.10/site-packages/tensorflow/python/eager/execute.py:52\u001b[0m, in \u001b[0;36mquick_execute\u001b[0;34m(op_name, num_outputs, inputs, attrs, ctx, name)\u001b[0m\n\u001b[1;32m     50\u001b[0m \u001b[39mtry\u001b[39;00m:\n\u001b[1;32m     51\u001b[0m   ctx\u001b[39m.\u001b[39mensure_initialized()\n\u001b[0;32m---> 52\u001b[0m   tensors \u001b[39m=\u001b[39m pywrap_tfe\u001b[39m.\u001b[39;49mTFE_Py_Execute(ctx\u001b[39m.\u001b[39;49m_handle, device_name, op_name,\n\u001b[1;32m     53\u001b[0m                                       inputs, attrs, num_outputs)\n\u001b[1;32m     54\u001b[0m \u001b[39mexcept\u001b[39;00m core\u001b[39m.\u001b[39m_NotOkStatusException \u001b[39mas\u001b[39;00m e:\n\u001b[1;32m     55\u001b[0m   \u001b[39mif\u001b[39;00m name \u001b[39mis\u001b[39;00m \u001b[39mnot\u001b[39;00m \u001b[39mNone\u001b[39;00m:\n",
      "\u001b[0;31mKeyboardInterrupt\u001b[0m: "
     ]
    }
   ],
   "source": [
    "baselin_history_list, baseline_predict_list, baseline_generalization_error_list = eval_multiple_rounds(stepped_rounds)\n",
    "print(baseline_generalization_error_list)"
   ]
  },
  {
   "cell_type": "code",
   "execution_count": null,
   "metadata": {},
   "outputs": [],
   "source": [
    "\n",
    "\n",
    "\n",
    "baselin_history_list, baseline_predict_list, baseline_generalization_error_list = eval_multiple_rounds(stepped_rounds)\n",
    "print(baseline_generalization_error_list)\n",
    "\n",
    "# baseline_generalization_error_list = [41.741657, 34.947556, 29.856426, 26.357683, 24.293772]\n",
    "\n",
    "''' Compile and fit the gaussian model'''\n",
    "gaussian_history_list, gaussian_predict_list, gaussian_generalization_error_list = eval_multiple_rounds(stepped_rounds, mechanism = Mechanism.MechanismType.GAUSSIAN, sigma = 0.03)\n",
    "print(gaussian_generalization_error_list)\n",
    "\n",
    "# gaussian_generalization_error_list = [65.59238, 53.909763, 41.66362, 32.519978, 26.558846]\n",
    "\n",
    "''' Compile and fit the threshold out model'''\n",
    "threshold_history_list, threshold_predict_list, threshold_generalization_error_list = eval_multiple_rounds(stepped_rounds, mechanism = Mechanism.MechanismType.THRESHOLD, sigma = 0.1, hold_frac = 0.4, threshold = 0.5)\n",
    "print(threshold_generalization_error_list)\n",
    "\n",
    "# threshold_generalization_error_list = [15.81994, 19.699022, 23.081583, 25.196918, 26.020424]\n",
    "\n",
    "\"\"\" plot the generalization error \"\"\"\n",
    "plt.figure()\n",
    "plot_error(stepped_rounds, baseline_generalization_error_list, \"Baseline\")\n",
    "plot_error(stepped_rounds, gaussian_generalization_error_list, \"Gaussian - AdaptFun\")\n",
    "plot_error(stepped_rounds, threshold_generalization_error_list, \"Threshold\")\n",
    "plt.show()"
   ]
  }
 ],
 "metadata": {
  "kernelspec": {
   "display_name": "Python 3",
   "language": "python",
   "name": "python3"
  },
  "language_info": {
   "codemirror_mode": {
    "name": "ipython",
    "version": 3
   },
   "file_extension": ".py",
   "mimetype": "text/x-python",
   "name": "python",
   "nbconvert_exporter": "python",
   "pygments_lexer": "ipython3",
   "version": "3.10.6"
  },
  "orig_nbformat": 4
 },
 "nbformat": 4,
 "nbformat_minor": 2
}
